{
 "cells": [
  {
   "cell_type": "markdown",
   "metadata": {},
   "source": [
    "# Structured Names\n",
    "This notebook describes how to use structured names to check SBML models for moiety balance."
   ]
  },
  {
   "cell_type": "code",
   "execution_count": 1,
   "metadata": {
    "scrolled": false
   },
   "outputs": [],
   "source": [
    "import init\n",
    "from SBMLLint.common import constants as cn\n",
    "from SBMLLint.common.molecule import Molecule\n",
    "from SBMLLint.common import simple_sbml\n",
    "from SBMLLint.common.reaction import Reaction\n",
    "from SBMLLint.tools import sbmllint\n",
    "from SBMLLint.tools import print_reactions\n",
    "\n",
    "import os\n",
    "import pandas as pd\n",
    "import tellurium as te"
   ]
  },
  {
   "cell_type": "code",
   "execution_count": 2,
   "metadata": {
    "scrolled": false
   },
   "outputs": [
    {
     "name": "stdout",
     "output_type": "stream",
     "text": [
      "1/1 reactions are impbalanced.\n",
      "1 reactions have imbalances.\n",
      "\n",
      "***_J0: 2.00 Glu + 2.00 A_P_P_P -> 2.00 Glu_P + 2.00 A_P_P\n",
      "Excess moieties in products\n",
      "  P: 2.00\n",
      "\n",
      "\n"
     ]
    }
   ],
   "source": [
    "# The first step in glycolysis\n",
    "model = \"\"\"\n",
    "2Glu + 2A_P_P_P -> 2Glu_P + 2A_P_P; 1\n",
    "Glu = 0\n",
    "A_P_P_P = 0\n",
    "Glu_P = 0\n",
    "A_P_P = 0\n",
    "\"\"\"\n",
    "num_react, num_bad = sbmllint.lint(model)\n",
    "#simple = simple_sbml.SimpleSBML()\n",
    "#simple.initialize(model)"
   ]
  },
  {
   "cell_type": "code",
   "execution_count": 4,
   "metadata": {
    "scrolled": false
   },
   "outputs": [
    {
     "name": "stdout",
     "output_type": "stream",
     "text": [
      "1/1 reactions are impbalanced.\n",
      "1 reactions have imbalances.\n",
      "\n",
      "***_J0: Glu + A_P_P_P -> Glu_P + A_P\n",
      "Excess moieties in products\n",
      "  P: 1.00\n",
      "\n",
      "\n"
     ]
    }
   ],
   "source": [
    "# The first step in glycolysis, with an error (wrongly goes to A instead of A_P_P)\n",
    "model = \"\"\"\n",
    "Glu + A_P_P_P -> Glu_P + A_P; 1\n",
    "\"\"\"\n",
    "_ = sbmllint.lint(model)"
   ]
  },
  {
   "cell_type": "markdown",
   "metadata": {},
   "source": [
    "## Sturctured Names in BioModels"
   ]
  },
  {
   "cell_type": "markdown",
   "metadata": {},
   "source": [
    "Find models that already use \"\\_\" as a name separator"
   ]
  },
  {
   "cell_type": "code",
   "execution_count": null,
   "metadata": {
    "scrolled": true
   },
   "outputs": [],
   "source": [
    "sbmliter = simple_sbml.modelIterator(final=200)\n",
    "for item in sbmliter:\n",
    "    simple = simple_sbml.SimpleSBML(item.model)\n",
    "    Reaction.initialize(simple)\n",
    "    for reaction in Reaction.reactions:\n",
    "        molecules = set(reaction.reactants).union(reaction.products)\n",
    "        if any([cn.MOIETY_SEPARATOR in m.name for m in molecules]):\n",
    "            path = os.path.join(cn.DATA_DIR, item.filename)\n",
    "            print(\"\\n\\n***%s\\n\" % item.filename)\n",
    "            #print(molecules)\n",
    "            print_reactions.prettyPrint(path, is_include_kinetics=False)\n",
    "            break\n",
    "            "
   ]
  },
  {
   "cell_type": "code",
   "execution_count": null,
   "metadata": {},
   "outputs": [],
   "source": [
    "# Analysis of BIOMD0000000611_url.xml\n",
    "filename = \"BIOMD0000000611_url.xml\"\n",
    "filename = \"BIOMD0000000198_url.xml\"\n",
    "filename = \"BIOMD0000000140_url.xml\"\n",
    "filename = \"BIOMD0000000611_url.xml\"\n",
    "filename = \"BIOMD0000000139_url.xml\"\n",
    "filename = \"BIOMD0000000362_url.xml\" # 16/33 don't comply\n",
    "filename = \"BIOMD0000000571_url.xml\"\n",
    "filename = \"BIOMD0000000140_url.xml\"\n",
    "\n",
    "path = os.path.join(cn.DATA_DIR, filename)\n",
    "sbmllint.lint(path)"
   ]
  },
  {
   "cell_type": "markdown",
   "metadata": {},
   "source": [
    "**To do:**\n",
    "1. Table of counts of total reactions, number imbalance (less boundary reactions). Do as bar plot."
   ]
  },
  {
   "cell_type": "code",
   "execution_count": null,
   "metadata": {},
   "outputs": [],
   "source": [
    "def isStructuredName(name):\n",
    "    moietys = name.split(cn.MOIETY_SEPARATOR)\n",
    "    if len(moietys) == 1:\n",
    "        return False\n",
    "    # See if it has a numeric suffix\n",
    "    try:\n",
    "        _ = float(moietys[1])\n",
    "        return False\n",
    "    except:\n",
    "        pass\n",
    "    if \"species\" == moietys[0]:\n",
    "        return False\n",
    "    return True\n",
    "\n",
    "print (\"1: %d\" % isStructuredName(\"a_b\"))\n",
    "print (\"0: %d\" % isStructuredName(\"species_b\"))\n",
    "print (\"0: %d\" % isStructuredName(\"speces_3\"))"
   ]
  },
  {
   "cell_type": "code",
   "execution_count": null,
   "metadata": {},
   "outputs": [],
   "source": [
    "# Construct dataframe of statistics on names and imbalances\n",
    "\n",
    "FILENAME = \"filename\"\n",
    "HAS_DASH = \"has_dash\"\n",
    "NUM_REACTIONS = \"num_reactions\"\n",
    "NUM_BOUNDARY_REACTIONS = \"num_boundary_reactions\"\n",
    "NUM_BAD = \"num_imbalance_reactions\"\n",
    "NUM_BALANCED_REACTIONS = \"num_balanced_reactions\"\n",
    "FRC_BALANCED = \"frc_balanced\"\n",
    "def calcStats(initial=1, final=20):\n",
    "    dfs = []\n",
    "    sbmliter = simple_sbml.modelIterator(initial=initial, final=final)\n",
    "    for item in sbmliter:\n",
    "        simple = simple_sbml.SimpleSBML(item.model)\n",
    "        row = {FILENAME: [item.filename], \n",
    "               HAS_DASH: [False], \n",
    "               NUM_BOUNDARY_REACTIONS: [0],\n",
    "               NUM_REACTIONS: [0],\n",
    "               NUM_BAD: [None],\n",
    "               NUM_BAD: [0],\n",
    "               }\n",
    "        Reaction.initialize(simple)\n",
    "        for reaction in Reaction.reactions:\n",
    "            if (len(reaction.reactants) == 0) or (len(reaction.products) == 0):\n",
    "                row[NUM_BOUNDARY_REACTIONS] = [row[NUM_BOUNDARY_REACTIONS][0] + 1]\n",
    "            molecules = set(reaction.reactants).union(reaction.products)\n",
    "            if any([isStructuredName(m.name) for m in molecules]):\n",
    "                row[HAS_DASH] = [True]\n",
    "        num_reactions, num_bad = sbmllint.lint(item.model, is_report=False)\n",
    "        row[NUM_REACTIONS] = [num_reactions]\n",
    "        row[NUM_BAD] = [num_bad]\n",
    "        dfs.append(pd.DataFrame(row))\n",
    "    df_count = pd.concat(dfs)\n",
    "    df_count[NUM_BALANCED_REACTIONS] = df_count[NUM_REACTIONS] - df_count[NUM_BAD]\n",
    "    df_count[FRC_BALANCED] = 1.0*df_count[NUM_BALANCED_REACTIONS] / (\n",
    "        df_count[NUM_REACTIONS] - df_count[NUM_BOUNDARY_REACTIONS])\n",
    "    df = df_count[df_count[\"frc_balanced\"] > 0.0]\n",
    "    df.sort_values(\"frc_balanced\")\n",
    "    return df"
   ]
  },
  {
   "cell_type": "code",
   "execution_count": null,
   "metadata": {
    "scrolled": true
   },
   "outputs": [],
   "source": []
  },
  {
   "cell_type": "code",
   "execution_count": null,
   "metadata": {},
   "outputs": [],
   "source": [
    "calcStats(initial=1, final=200)"
   ]
  },
  {
   "cell_type": "code",
   "execution_count": null,
   "metadata": {},
   "outputs": [],
   "source": [
    "calcStats(initial=201, final=300)"
   ]
  }
 ],
 "metadata": {
  "kernelspec": {
   "display_name": "Python 3",
   "language": "python",
   "name": "python3"
  },
  "language_info": {
   "codemirror_mode": {
    "name": "ipython",
    "version": 3
   },
   "file_extension": ".py",
   "mimetype": "text/x-python",
   "name": "python",
   "nbconvert_exporter": "python",
   "pygments_lexer": "ipython3",
   "version": "3.6.4"
  }
 },
 "nbformat": 4,
 "nbformat_minor": 2
}
