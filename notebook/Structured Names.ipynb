{
 "cells": [
  {
   "cell_type": "markdown",
   "metadata": {},
   "source": [
    "# Structured Names\n",
    "This notebook describes how to use structured names to check SBML models for moiety balance."
   ]
  },
  {
   "cell_type": "code",
   "execution_count": 1,
   "metadata": {
    "scrolled": false
   },
   "outputs": [],
   "source": [
    "import init\n",
    "from SBMLLint.common import constants as cn\n",
    "from SBMLLint.common.molecule import Molecule\n",
    "from SBMLLint.common import simple_sbml\n",
    "from SBMLLint.common.reaction import Reaction\n",
    "from SBMLLint.tools import sbmllint\n",
    "from SBMLLint.tools import print_reactions\n",
    "from SBMLLint.common.simple_sbml import SimpleSBML\n",
    "\n",
    "import os\n",
    "import numpy as np\n",
    "import pandas as pd\n",
    "import matplotlib.pyplot as plt\n",
    "import tellurium as te"
   ]
  },
  {
   "cell_type": "code",
   "execution_count": null,
   "metadata": {},
   "outputs": [],
   "source": [
    "from SBMLLint.common.simple_sbml import modelIterator"
   ]
  },
  {
   "cell_type": "code",
   "execution_count": null,
   "metadata": {},
   "outputs": [],
   "source": [
    "iterator = modelIterator(initial=19, final=25)\n",
    "for item in iterator:\n",
    "    print(item.filename)"
   ]
  },
  {
   "cell_type": "code",
   "execution_count": null,
   "metadata": {
    "scrolled": false
   },
   "outputs": [],
   "source": [
    "import init\n",
    "from SBMLLint.tools import sbmllint\n",
    "\n",
    "# The first step in glycolysis, expressed\n",
    "# in the Antimony language.\n",
    "model = \"\"\"\n",
    "Glu + A__P_3 -> Glu_P + A_P_P; 1\n",
    "Glu = 0\n",
    "A_P_P_P = 0\n",
    "Glu_P = 0\n",
    "A_P_P = 0\n",
    "\"\"\"\n",
    "_ = sbmllint.lint(model)"
   ]
  },
  {
   "cell_type": "code",
   "execution_count": null,
   "metadata": {
    "scrolled": false
   },
   "outputs": [],
   "source": [
    "# The first step in glycolysis, with an error (wrongly goes to A instead of A_P_P)\n",
    "model = \"\"\"\n",
    "Glu + A_P_P_P -> Glu_P + A_P; 1\n",
    "\"\"\"\n",
    "_ = sbmllint.lint(model)"
   ]
  },
  {
   "cell_type": "markdown",
   "metadata": {},
   "source": [
    "## Sturctured Names in BioModels"
   ]
  },
  {
   "cell_type": "code",
   "execution_count": null,
   "metadata": {},
   "outputs": [],
   "source": [
    "path = os.path.join(cn.ANALYSIS_STRUCTURED_NAMES_DIR, \"analyze_structured_names.csv\")\n",
    "df_data = pd.read_csv(path)\n",
    "df_data.head()"
   ]
  },
  {
   "cell_type": "code",
   "execution_count": null,
   "metadata": {},
   "outputs": [],
   "source": [
    "# Basic Statistics\n",
    "num_structured = len(df_data[df_data[cn.IS_STRUCTURED]])\n",
    "num_not_structured = len(df_data) - num_structured\n",
    "_ = plt.pie([num_structured, num_not_structured], \n",
    "            labels=[\"Structured (%d)\" % num_structured, \"Not Structured (%d)\" % num_not_structured])"
   ]
  },
  {
   "cell_type": "code",
   "execution_count": null,
   "metadata": {},
   "outputs": [],
   "source": [
    "df_sort = df_data[df_data[cn.IS_STRUCTURED]]\n",
    "df_sort = df_sort.sort_values(cn.FRAC_BALANCED_REACTIONS)\n",
    "df_sort = df_sort.reset_index()\n",
    "yv = [1.0*i/len(df_sort) for i in df_sort.index]\n",
    "_ = plt.plot(df_sort[cn.FRAC_BALANCED_REACTIONS], yv)\n",
    "plt.xlim(0, 1)\n",
    "plt.ylim(0, 1)\n",
    "plt.xlabel(\"Fraction Balanced Reactions\")\n",
    "plt.ylabel(\"Fraction of Models\")"
   ]
  },
  {
   "cell_type": "code",
   "execution_count": null,
   "metadata": {},
   "outputs": [],
   "source": [
    "def plotIsStructured(df, val):\n",
    "    df1 = df[df[cn.IS_STRUCTURED] == val]\n",
    "    plt.hist(df1[cn.TOTAL_REACTIONS], bins=100, range=(0, 500))\n",
    "    if val:\n",
    "        title = \"Structured Names\"\n",
    "    else:\n",
    "        title = \"Not Structured Names\"\n",
    "    plt.title(title)\n",
    "    plt.xlabel(\"Number Reactions\")\n",
    "    plt.show()\n",
    "plotIsStructured(df_data, True)\n",
    "plotIsStructured(df_data, False)"
   ]
  },
  {
   "cell_type": "code",
   "execution_count": null,
   "metadata": {},
   "outputs": [],
   "source": [
    "def plotFrcBoundary(df, val):\n",
    "    df1 = df[df[cn.IS_STRUCTURED] == val]\n",
    "    plt.scatter(df1[cn.TOTAL_REACTIONS], df1[cn.FRAC_BOUNDARY_REACTIONS])\n",
    "    if val:\n",
    "        title = \"Structured Names\"\n",
    "    else:\n",
    "        title = \"Not Structured Names\"\n",
    "    plt.title(title)\n",
    "    plt.xlabel(\"Number Reactions\")\n",
    "    plt.ylabel(\"Fraction Boundary\")\n",
    "    plt.show()\n",
    "plotFrcBoundary(df_data, True)\n",
    "plotFrcBoundary(df_data, False)"
   ]
  },
  {
   "cell_type": "code",
   "execution_count": null,
   "metadata": {},
   "outputs": [],
   "source": [
    "def plotFracBalanced(df):\n",
    "    df1 = df[df[cn.IS_STRUCTURED]]\n",
    "    xv = (1.0*df1[cn.TOTAL_REACTIONS] - df1[cn.NUM_BOUNDARY_REACTIONS]) / df1[cn.TOTAL_REACTIONS]\n",
    "    plt.scatter(xv, df1[cn.FRAC_BALANCED_REACTIONS])\n",
    "    title = \"Structured Names\"\n",
    "    plt.title(title)\n",
    "    plt.xlabel(\"Fraction Non-Boundary Reactions\")\n",
    "    plt.ylabel(\"Fraction Balanced\")\n",
    "    plt.xlim([0, 1.1])\n",
    "    plt.show()\n",
    "plotFracBalanced(df_data)"
   ]
  },
  {
   "cell_type": "code",
   "execution_count": null,
   "metadata": {},
   "outputs": [],
   "source": [
    "# Histogram of fraction balanced for structured names\n",
    "def plotFracBalancedHist(df):\n",
    "    df1 = df[df[cn.IS_STRUCTURED]]\n",
    "    plt.hist(df1[cn.FRAC_BALANCED_REACTIONS], bins=50)\n",
    "    title = \"Models With Structured Names\"\n",
    "    plt.title(title)\n",
    "    plt.xlabel(\"Fraction Balanced Reactions\")\n",
    "    plt.show()\n",
    "plotFracBalancedHist(df_data)"
   ]
  },
  {
   "cell_type": "markdown",
   "metadata": {},
   "source": [
    "## Detailed Look at Putative Structured Names"
   ]
  },
  {
   "cell_type": "markdown",
   "metadata": {},
   "source": [
    "**Observations**\n",
    "1. Some cases where doing ad hoc structured names that with little change can balance. For example:   \n",
    "   1. BIOMD0000000192_url.xml: RCC1_RanGDP -> RCC1_Ran + GDP, RCC1_Ran + GTP -> RCC1_RanGTP\n",
    "   1. BIOMD0000000010_url.xml: MKKK -> MKKK_P, MKKK_P -> MKKK"
   ]
  },
  {
   "cell_type": "code",
   "execution_count": null,
   "metadata": {
    "scrolled": false
   },
   "outputs": [],
   "source": [
    "df = df_data[df_data[cn.IS_STRUCTURED]]\n",
    "for _, row in df.iterrows():\n",
    "    path = os.path.join(cn.DATA_DIR, row[cn.FILENAME])\n",
    "    print(\"\\n%s\" % row[cn.FILENAME])\n",
    "    print_reactions.prettyPrint(path, is_include_kinetics=False, is_include_label=False)"
   ]
  },
  {
   "cell_type": "code",
   "execution_count": 2,
   "metadata": {},
   "outputs": [
    {
     "ename": "NameError",
     "evalue": "name 'model_reference' is not defined",
     "output_type": "error",
     "traceback": [
      "\u001b[0;31m--------------------------------------------------------------------------\u001b[0m",
      "\u001b[0;31mNameError\u001b[0m                                Traceback (most recent call last)",
      "\u001b[0;32m<ipython-input-2-8bcb8159906d>\u001b[0m in \u001b[0;36m<module>\u001b[0;34m\u001b[0m\n\u001b[1;32m      1\u001b[0m \u001b[0msimple\u001b[0m \u001b[0;34m=\u001b[0m \u001b[0mSimpleSBML\u001b[0m\u001b[0;34m(\u001b[0m\u001b[0;34m)\u001b[0m\u001b[0;34m\u001b[0m\u001b[0m\n\u001b[1;32m      2\u001b[0m \u001b[0mpath\u001b[0m \u001b[0;34m=\u001b[0m \u001b[0mos\u001b[0m\u001b[0;34m.\u001b[0m\u001b[0mpath\u001b[0m\u001b[0;34m.\u001b[0m\u001b[0mjoin\u001b[0m\u001b[0;34m(\u001b[0m\u001b[0mcn\u001b[0m\u001b[0;34m.\u001b[0m\u001b[0mDATA_DIR\u001b[0m\u001b[0;34m,\u001b[0m \u001b[0;34m\"BIOMD0000000353_url.xml\"\u001b[0m\u001b[0;34m)\u001b[0m\u001b[0;34m\u001b[0m\u001b[0m\n\u001b[0;32m----> 3\u001b[0;31m \u001b[0msimple\u001b[0m\u001b[0;34m.\u001b[0m\u001b[0minitialize\u001b[0m\u001b[0;34m(\u001b[0m\u001b[0mpath\u001b[0m\u001b[0;34m)\u001b[0m\u001b[0;34m\u001b[0m\u001b[0m\n\u001b[0m",
      "\u001b[0;32m~/SBMLLint/SBMLLint/common/simple_sbml.py\u001b[0m in \u001b[0;36minitialize\u001b[0;34m(self, model_reference)\u001b[0m\n\u001b[1;32m     64\u001b[0m       \u001b[0mreader\u001b[0m \u001b[0;34m=\u001b[0m \u001b[0mtesbml\u001b[0m\u001b[0;34m.\u001b[0m\u001b[0mSBMLReader\u001b[0m\u001b[0;34m(\u001b[0m\u001b[0;34m)\u001b[0m\u001b[0;34m\u001b[0m\u001b[0m\n\u001b[1;32m     65\u001b[0m       \u001b[0mdocument\u001b[0m \u001b[0;34m=\u001b[0m \u001b[0mreader\u001b[0m\u001b[0;34m.\u001b[0m\u001b[0mreadSBMLFromString\u001b[0m\u001b[0;34m(\u001b[0m\u001b[0mxml\u001b[0m\u001b[0;34m)\u001b[0m\u001b[0;34m\u001b[0m\u001b[0m\n\u001b[0;32m---> 66\u001b[0;31m       \u001b[0mutil\u001b[0m\u001b[0;34m.\u001b[0m\u001b[0mcheckSBMLDocument\u001b[0m\u001b[0;34m(\u001b[0m\u001b[0mdocument\u001b[0m\u001b[0;34m)\u001b[0m\u001b[0;34m\u001b[0m\u001b[0m\n\u001b[0m\u001b[1;32m     67\u001b[0m       \u001b[0mmodel\u001b[0m \u001b[0;34m=\u001b[0m \u001b[0mdocument\u001b[0m\u001b[0;34m.\u001b[0m\u001b[0mgetModel\u001b[0m\u001b[0;34m(\u001b[0m\u001b[0;34m)\u001b[0m\u001b[0;34m\u001b[0m\u001b[0m\n\u001b[1;32m     68\u001b[0m     \u001b[0;31m# Do the initializations\u001b[0m\u001b[0;34m\u001b[0m\u001b[0;34m\u001b[0m\u001b[0m\n",
      "\u001b[0;32m~/SBMLLint/SBMLLint/common/util.py\u001b[0m in \u001b[0;36mcheckSBMLDocument\u001b[0;34m(document)\u001b[0m\n\u001b[1;32m     88\u001b[0m   \u001b[0;32mif\u001b[0m \u001b[0;34m(\u001b[0m\u001b[0mdocument\u001b[0m\u001b[0;34m.\u001b[0m\u001b[0mgetNumErrors\u001b[0m\u001b[0;34m(\u001b[0m\u001b[0;34m)\u001b[0m \u001b[0;34m>\u001b[0m \u001b[0;36m0\u001b[0m\u001b[0;34m)\u001b[0m\u001b[0;34m:\u001b[0m\u001b[0;34m\u001b[0m\u001b[0m\n\u001b[1;32m     89\u001b[0m     raise ValueError(\"Errors in SBML document\\n%s\" \n\u001b[0;32m---> 90\u001b[0;31m         % model_reference)\n\u001b[0m",
      "\u001b[0;31mNameError\u001b[0m: name 'model_reference' is not defined"
     ]
    }
   ],
   "source": [
    "simple = SimpleSBML()\n",
    "path = os.path.join(cn.DATA_DIR, \"BIOMD0000000353_url.xml\")\n",
    "simple.initialize(path)"
   ]
  },
  {
   "cell_type": "markdown",
   "metadata": {},
   "source": [
    "**To Do**\n",
    "1. Identify the missing files. Likely a problem with the iterator?"
   ]
  }
 ],
 "metadata": {
  "kernelspec": {
   "display_name": "Python 3",
   "language": "python",
   "name": "python3"
  },
  "language_info": {
   "codemirror_mode": {
    "name": "ipython",
    "version": 3
   },
   "file_extension": ".py",
   "mimetype": "text/x-python",
   "name": "python",
   "nbconvert_exporter": "python",
   "pygments_lexer": "ipython3",
   "version": "3.6.4"
  }
 },
 "nbformat": 4,
 "nbformat_minor": 2
}
