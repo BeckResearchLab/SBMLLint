{
 "cells": [
  {
   "cell_type": "markdown",
   "metadata": {},
   "source": [
    "# Structured Names\n",
    "This notebook describes how to use structured names to check SBML models for moiety balance."
   ]
  },
  {
   "cell_type": "code",
   "execution_count": 1,
   "metadata": {
    "scrolled": false
   },
   "outputs": [],
   "source": [
    "import init\n",
    "from SBMLLint.common import constants as cn\n",
    "from SBMLLint.common.molecule import Molecule\n",
    "from SBMLLint.common import simple_sbml\n",
    "from SBMLLint.common.reaction import Reaction\n",
    "from SBMLLint.tools import sbmllint\n",
    "from SBMLLint.tools import print_reactions\n",
    "\n",
    "import os\n",
    "import numpy as np\n",
    "import pandas as pd\n",
    "import matplotlib.pyplot as plt\n",
    "import tellurium as te"
   ]
  },
  {
   "cell_type": "code",
   "execution_count": 2,
   "metadata": {},
   "outputs": [],
   "source": [
    "from SBMLLint.common.simple_sbml import modelIterator"
   ]
  },
  {
   "cell_type": "code",
   "execution_count": 3,
   "metadata": {},
   "outputs": [
    {
     "name": "stdout",
     "output_type": "stream",
     "text": [
      "BIOMD0000000241_url.xml\n",
      "BIOMD0000000350_url.xml\n",
      "MODEL0847712949_url.xml\n",
      "BIOMD0000000346_url.xml\n",
      "BIOMD0000000256_url.xml\n",
      "BIOMD0000000402_url.xml\n"
     ]
    }
   ],
   "source": [
    "iterator = modelIterator(initial=19, final=25)\n",
    "for item in iterator:\n",
    "    print(item.filename)"
   ]
  },
  {
   "cell_type": "code",
   "execution_count": 4,
   "metadata": {
    "scrolled": false
   },
   "outputs": [
    {
     "name": "stdout",
     "output_type": "stream",
     "text": [
      "\n",
      "0 of 1 reactions have imbalances.\n",
      "\n"
     ]
    }
   ],
   "source": [
    "import init\n",
    "from SBMLLint.tools import sbmllint\n",
    "\n",
    "# The first step in glycolysis, expressed\n",
    "# in the Antimony language.\n",
    "model = \"\"\"\n",
    "Glu + A__P_3 -> Glu_P + A_P_P; 1\n",
    "Glu = 0\n",
    "A_P_P_P = 0\n",
    "Glu_P = 0\n",
    "A_P_P = 0\n",
    "\"\"\"\n",
    "_ = sbmllint.lint(model)"
   ]
  },
  {
   "cell_type": "code",
   "execution_count": 5,
   "metadata": {
    "scrolled": false
   },
   "outputs": [
    {
     "name": "stdout",
     "output_type": "stream",
     "text": [
      "\n",
      "1 of 1 reactions have imbalances.\n",
      "\n",
      "***_J0: Glu + A_P_P_P -> Glu_P + A_P\n",
      "Excess moieties in reactants\n",
      "  P: 1.00\n",
      "\n",
      "\n"
     ]
    }
   ],
   "source": [
    "# The first step in glycolysis, with an error (wrongly goes to A instead of A_P_P)\n",
    "model = \"\"\"\n",
    "Glu + A_P_P_P -> Glu_P + A_P; 1\n",
    "\"\"\"\n",
    "_ = sbmllint.lint(model)"
   ]
  },
  {
   "cell_type": "markdown",
   "metadata": {},
   "source": [
    "## Sturctured Names in BioModels"
   ]
  },
  {
   "cell_type": "code",
   "execution_count": 11,
   "metadata": {},
   "outputs": [
    {
     "data": {
      "text/html": [
       "<div>\n",
       "<style scoped>\n",
       "    .dataframe tbody tr th:only-of-type {\n",
       "        vertical-align: middle;\n",
       "    }\n",
       "\n",
       "    .dataframe tbody tr th {\n",
       "        vertical-align: top;\n",
       "    }\n",
       "\n",
       "    .dataframe thead th {\n",
       "        text-align: right;\n",
       "    }\n",
       "</style>\n",
       "<table border=\"1\" class=\"dataframe\">\n",
       "  <thead>\n",
       "    <tr style=\"text-align: right;\">\n",
       "      <th></th>\n",
       "      <th>filename</th>\n",
       "      <th>is_structured</th>\n",
       "      <th>num_boundary_reactions</th>\n",
       "      <th>total_reactions</th>\n",
       "      <th>num_imbalanced_reactions</th>\n",
       "      <th>num_balanced_reactions</th>\n",
       "      <th>frac_balanced_reactions</th>\n",
       "      <th>frac_Boundary_reactions</th>\n",
       "    </tr>\n",
       "  </thead>\n",
       "  <tbody>\n",
       "    <tr>\n",
       "      <th>0</th>\n",
       "      <td>BIOMD0000000100_url.xml</td>\n",
       "      <td>False</td>\n",
       "      <td>5</td>\n",
       "      <td>10</td>\n",
       "      <td>10</td>\n",
       "      <td>0</td>\n",
       "      <td>0.0</td>\n",
       "      <td>0.500000</td>\n",
       "    </tr>\n",
       "    <tr>\n",
       "      <th>1</th>\n",
       "      <td>BIOMD0000000325_url.xml</td>\n",
       "      <td>False</td>\n",
       "      <td>7</td>\n",
       "      <td>10</td>\n",
       "      <td>10</td>\n",
       "      <td>0</td>\n",
       "      <td>0.0</td>\n",
       "      <td>0.700000</td>\n",
       "    </tr>\n",
       "    <tr>\n",
       "      <th>2</th>\n",
       "      <td>BIOMD0000000482_url.xml</td>\n",
       "      <td>False</td>\n",
       "      <td>4</td>\n",
       "      <td>29</td>\n",
       "      <td>29</td>\n",
       "      <td>0</td>\n",
       "      <td>0.0</td>\n",
       "      <td>0.137931</td>\n",
       "    </tr>\n",
       "    <tr>\n",
       "      <th>3</th>\n",
       "      <td>BIOMD0000000462_url.xml</td>\n",
       "      <td>False</td>\n",
       "      <td>0</td>\n",
       "      <td>8</td>\n",
       "      <td>8</td>\n",
       "      <td>0</td>\n",
       "      <td>0.0</td>\n",
       "      <td>0.000000</td>\n",
       "    </tr>\n",
       "    <tr>\n",
       "      <th>4</th>\n",
       "      <td>BIOMD0000000352_url.xml</td>\n",
       "      <td>False</td>\n",
       "      <td>8</td>\n",
       "      <td>12</td>\n",
       "      <td>12</td>\n",
       "      <td>0</td>\n",
       "      <td>0.0</td>\n",
       "      <td>0.666667</td>\n",
       "    </tr>\n",
       "  </tbody>\n",
       "</table>\n",
       "</div>"
      ],
      "text/plain": [
       "                  filename  is_structured  num_boundary_reactions  \\\n",
       "0  BIOMD0000000100_url.xml          False                       5   \n",
       "1  BIOMD0000000325_url.xml          False                       7   \n",
       "2  BIOMD0000000482_url.xml          False                       4   \n",
       "3  BIOMD0000000462_url.xml          False                       0   \n",
       "4  BIOMD0000000352_url.xml          False                       8   \n",
       "\n",
       "   total_reactions  num_imbalanced_reactions  num_balanced_reactions  \\\n",
       "0               10                        10                       0   \n",
       "1               10                        10                       0   \n",
       "2               29                        29                       0   \n",
       "3                8                         8                       0   \n",
       "4               12                        12                       0   \n",
       "\n",
       "   frac_balanced_reactions  frac_Boundary_reactions  \n",
       "0                      0.0                 0.500000  \n",
       "1                      0.0                 0.700000  \n",
       "2                      0.0                 0.137931  \n",
       "3                      0.0                 0.000000  \n",
       "4                      0.0                 0.666667  "
      ]
     },
     "execution_count": 11,
     "metadata": {},
     "output_type": "execute_result"
    }
   ],
   "source": [
    "path = os.path.join(cn.ANALYSIS_STRUCTURED_NAMES_DIR, \"analyze_structured_names.csv\")\n",
    "df = pd.read_csv(path)\n",
    "df.head()"
   ]
  },
  {
   "cell_type": "code",
   "execution_count": 13,
   "metadata": {},
   "outputs": [
    {
     "data": {
      "text/plain": [
       "23"
      ]
     },
     "execution_count": 13,
     "metadata": {},
     "output_type": "execute_result"
    }
   ],
   "source": [
    "len(df)"
   ]
  },
  {
   "cell_type": "code",
   "execution_count": null,
   "metadata": {},
   "outputs": [],
   "source": []
  },
  {
   "cell_type": "code",
   "execution_count": 10,
   "metadata": {},
   "outputs": [
    {
     "data": {
      "image/png": "[encoded data removed]",
      "text/plain": [
       "<Figure size 432x288 with 1 Axes>"
      ]
     },
     "metadata": {
      "needs_background": "light"
     },
     "output_type": "display_data"
    },
    {
     "data": {
      "image/png": "[encoded data removed]",
      "text/plain": [
       "<Figure size 432x288 with 1 Axes>"
      ]
     },
     "metadata": {
      "needs_background": "light"
     },
     "output_type": "display_data"
    }
   ],
   "source": [
    "def plotIsStructured(df, val):\n",
    "    df1 = df[df[cn.IS_STRUCTURED] == val]\n",
    "    plt.hist(df1[cn.TOTAL_REACTIONS], bins=100, range=(0, 500))\n",
    "    if val:\n",
    "        title = \"Structured Names\"\n",
    "    else:\n",
    "        title = \"Not Structured Names\"\n",
    "    plt.title(title)\n",
    "    plt.xlabel(\"Number Reactions\")\n",
    "    plt.show()\n",
    "plotIsStructured(True)\n",
    "plotIsStructured(False)"
   ]
  },
  {
   "cell_type": "code",
   "execution_count": null,
   "metadata": {},
   "outputs": [],
   "source": [
    "def plotFrcBoundary(val):\n",
    "    df1 = df[df[cn.IS_STRUCTURED] == val]\n",
    "    plt.scatter(df1[cn.TOTAL_REACTIONS], df1[cn.FRAC_BOUNDARY_REACTIONS])\n",
    "    if val:\n",
    "        title = \"Structured Names\"\n",
    "    else:\n",
    "        title = \"Not Structured Names\"\n",
    "    plt.title(title)\n",
    "    plt.xlabel(\"Number Reactions\")\n",
    "    plt.ylabel(\"Fraction Boundary\")\n",
    "    plt.show()\n",
    "plotFrcBoundary(True)\n",
    "plotFrcBoundary(False)"
   ]
  },
  {
   "cell_type": "code",
   "execution_count": null,
   "metadata": {},
   "outputs": [],
   "source": [
    "def plotFrcBalanced():\n",
    "    df1 = df[df[cn.IS_STRUCTURED]]\n",
    "    xv = (1.0*df1[cn.TOTAL_REACTIONS] - df1[cn.NUM_BOUNDARY_REACTIONS]) / df1[cn.NUM_REACTIONS]\n",
    "    plt.scatter(xv, df1[cn.FRAC_BALANCED_REACTIONS])\n",
    "    title = \"Structured Names\"\n",
    "    plt.title(title)\n",
    "    plt.xlabel(\"Fraction Non-Boundary Reactions\")\n",
    "    plt.ylabel(\"Fraction Balanced\")\n",
    "    plt.xlim([0, 1.1])\n",
    "    plt.show()\n",
    "plotFrcBalanced()"
   ]
  },
  {
   "cell_type": "markdown",
   "metadata": {},
   "source": [
    "**To Do**\n",
    "1. Identify the missing files. Likely a problem with the iterator?"
   ]
  }
 ],
 "metadata": {
  "kernelspec": {
   "display_name": "Python 3",
   "language": "python",
   "name": "python3"
  },
  "language_info": {
   "codemirror_mode": {
    "name": "ipython",
    "version": 3
   },
   "file_extension": ".py",
   "mimetype": "text/x-python",
   "name": "python",
   "nbconvert_exporter": "python",
   "pygments_lexer": "ipython3",
   "version": "3.6.4"
  }
 },
 "nbformat": 4,
 "nbformat_minor": 2
}
