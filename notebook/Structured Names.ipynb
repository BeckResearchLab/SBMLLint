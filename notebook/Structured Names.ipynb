{
 "cells": [
  {
   "cell_type": "markdown",
   "metadata": {},
   "source": [
    "# Structured Names\n",
    "This notebook describes how to use structured names to check SBML models for moiety balance."
   ]
  },
  {
   "cell_type": "code",
   "execution_count": 1,
   "metadata": {
    "scrolled": false
   },
   "outputs": [],
   "source": [
    "import init\n",
    "from SBMLLint.common import constants as cn\n",
    "from SBMLLint.common.molecule import Molecule\n",
    "from SBMLLint.common import simple_sbml\n",
    "from SBMLLint.common.reaction import Reaction\n",
    "from SBMLLint.tools import sbmllint\n",
    "from SBMLLint.tools import print_reactions\n",
    "\n",
    "import os\n",
    "import pandas as pd\n",
    "import tellurium as te"
   ]
  },
  {
   "cell_type": "code",
   "execution_count": 2,
   "metadata": {
    "scrolled": false
   },
   "outputs": [
    {
     "ename": "TypeError",
     "evalue": "stat: path should be string, bytes, os.PathLike or integer, not Model",
     "output_type": "error",
     "traceback": [
      "\u001b[0;31m--------------------------------------------------------------------------\u001b[0m",
      "\u001b[0;31mTypeError\u001b[0m                                Traceback (most recent call last)",
      "\u001b[0;32m<ipython-input-2-7079ab55162a>\u001b[0m in \u001b[0;36m<module>\u001b[0;34m\u001b[0m\n\u001b[1;32m      7\u001b[0m \u001b[0mA_P_P\u001b[0m \u001b[0;34m=\u001b[0m \u001b[0;36m0\u001b[0m\u001b[0;34m\u001b[0m\u001b[0m\n\u001b[1;32m      8\u001b[0m \"\"\"\n\u001b[0;32m----> 9\u001b[0;31m \u001b[0mnum_react\u001b[0m\u001b[0;34m,\u001b[0m \u001b[0mnum_bad\u001b[0m \u001b[0;34m=\u001b[0m \u001b[0msbmllint\u001b[0m\u001b[0;34m.\u001b[0m\u001b[0mlint\u001b[0m\u001b[0;34m(\u001b[0m\u001b[0mmodel\u001b[0m\u001b[0;34m)\u001b[0m\u001b[0;34m\u001b[0m\u001b[0m\n\u001b[0m\u001b[1;32m     10\u001b[0m \u001b[0;31m#simple = simple_sbml.SimpleSBML()\u001b[0m\u001b[0;34m\u001b[0m\u001b[0;34m\u001b[0m\u001b[0m\n\u001b[1;32m     11\u001b[0m \u001b[0;31m#simple.initialize(model)\u001b[0m\u001b[0;34m\u001b[0m\u001b[0;34m\u001b[0m\u001b[0m\n",
      "\u001b[0;32m~/SBMLLint/SBMLLint/tools/sbmllint.py\u001b[0m in \u001b[0;36mlint\u001b[0;34m(model_reference, file_out, mass_balance_check, is_report)\u001b[0m\n\u001b[1;32m     33\u001b[0m     \u001b[0mmodel\u001b[0m \u001b[0;34m=\u001b[0m \u001b[0mdocument\u001b[0m\u001b[0;34m.\u001b[0m\u001b[0mgetModel\u001b[0m\u001b[0;34m(\u001b[0m\u001b[0;34m)\u001b[0m\u001b[0;34m\u001b[0m\u001b[0m\n\u001b[1;32m     34\u001b[0m   \u001b[0msimple\u001b[0m \u001b[0;34m=\u001b[0m \u001b[0mSimpleSBML\u001b[0m\u001b[0;34m(\u001b[0m\u001b[0;34m)\u001b[0m\u001b[0;34m\u001b[0m\u001b[0m\n\u001b[0;32m---> 35\u001b[0;31m   \u001b[0msimple\u001b[0m\u001b[0;34m.\u001b[0m\u001b[0minitialize\u001b[0m\u001b[0;34m(\u001b[0m\u001b[0mmodel\u001b[0m\u001b[0;34m)\u001b[0m\u001b[0;34m\u001b[0m\u001b[0m\n\u001b[0m\u001b[1;32m     36\u001b[0m   \u001b[0mnum_bad\u001b[0m\u001b[0;34m,\u001b[0m \u001b[0mreport\u001b[0m \u001b[0;34m=\u001b[0m \u001b[0mMoietyComparator\u001b[0m\u001b[0;34m.\u001b[0m\u001b[0manalyzeReactions\u001b[0m\u001b[0;34m(\u001b[0m\u001b[0msimple\u001b[0m\u001b[0;34m)\u001b[0m\u001b[0;34m\u001b[0m\u001b[0m\n\u001b[1;32m     37\u001b[0m   \u001b[0mnum_reactions\u001b[0m \u001b[0;34m=\u001b[0m \u001b[0mlen\u001b[0m\u001b[0;34m(\u001b[0m\u001b[0msimple\u001b[0m\u001b[0;34m.\u001b[0m\u001b[0mreactions\u001b[0m\u001b[0;34m)\u001b[0m\u001b[0;34m\u001b[0m\u001b[0m\n",
      "\u001b[0;32m~/SBMLLint/SBMLLint/common/simple_sbml.py\u001b[0m in \u001b[0;36minitialize\u001b[0;34m(self, model_reference)\u001b[0m\n\u001b[1;32m     61\u001b[0m       \u001b[0mmodel\u001b[0m \u001b[0;34m=\u001b[0m \u001b[0mmodel_reference\u001b[0m\u001b[0;34m\u001b[0m\u001b[0m\n\u001b[1;32m     62\u001b[0m     \u001b[0;32melse\u001b[0m\u001b[0;34m:\u001b[0m\u001b[0;34m\u001b[0m\u001b[0m\n\u001b[0;32m---> 63\u001b[0;31m       \u001b[0mxml\u001b[0m \u001b[0;34m=\u001b[0m \u001b[0mutil\u001b[0m\u001b[0;34m.\u001b[0m\u001b[0mgetXML\u001b[0m\u001b[0;34m(\u001b[0m\u001b[0mmodel_reference\u001b[0m\u001b[0;34m)\u001b[0m\u001b[0;34m\u001b[0m\u001b[0m\n\u001b[0m\u001b[1;32m     64\u001b[0m       \u001b[0mreader\u001b[0m \u001b[0;34m=\u001b[0m \u001b[0mtesbml\u001b[0m\u001b[0;34m.\u001b[0m\u001b[0mSBMLReader\u001b[0m\u001b[0;34m(\u001b[0m\u001b[0;34m)\u001b[0m\u001b[0;34m\u001b[0m\u001b[0m\n\u001b[1;32m     65\u001b[0m       \u001b[0mdocument\u001b[0m \u001b[0;34m=\u001b[0m \u001b[0mreader\u001b[0m\u001b[0;34m.\u001b[0m\u001b[0mreadSBMLFromString\u001b[0m\u001b[0;34m(\u001b[0m\u001b[0mxml\u001b[0m\u001b[0;34m)\u001b[0m\u001b[0;34m\u001b[0m\u001b[0m\n",
      "\u001b[0;32m~/SBMLLint/SBMLLint/common/util.py\u001b[0m in \u001b[0;36mgetXML\u001b[0;34m(model_reference)\u001b[0m\n\u001b[1;32m     23\u001b[0m   \"\"\"\n\u001b[1;32m     24\u001b[0m   \u001b[0;31m# Check for a file path\u001b[0m\u001b[0;34m\u001b[0m\u001b[0;34m\u001b[0m\u001b[0m\n\u001b[0;32m---> 25\u001b[0;31m   \u001b[0;32mif\u001b[0m \u001b[0mos\u001b[0m\u001b[0;34m.\u001b[0m\u001b[0mpath\u001b[0m\u001b[0;34m.\u001b[0m\u001b[0misfile\u001b[0m\u001b[0;34m(\u001b[0m\u001b[0mmodel_reference\u001b[0m\u001b[0;34m)\u001b[0m\u001b[0;34m:\u001b[0m\u001b[0;34m\u001b[0m\u001b[0m\n\u001b[0m\u001b[1;32m     26\u001b[0m     \u001b[0;32mwith\u001b[0m \u001b[0mopen\u001b[0m\u001b[0;34m(\u001b[0m\u001b[0mmodel_reference\u001b[0m\u001b[0;34m,\u001b[0m \u001b[0;34m'r'\u001b[0m\u001b[0;34m)\u001b[0m \u001b[0;32mas\u001b[0m \u001b[0mfd\u001b[0m\u001b[0;34m:\u001b[0m\u001b[0;34m\u001b[0m\u001b[0m\n\u001b[1;32m     27\u001b[0m       \u001b[0mlines\u001b[0m \u001b[0;34m=\u001b[0m \u001b[0mfd\u001b[0m\u001b[0;34m.\u001b[0m\u001b[0mreadlines\u001b[0m\u001b[0;34m(\u001b[0m\u001b[0;34m)\u001b[0m\u001b[0;34m\u001b[0m\u001b[0m\n",
      "\u001b[0;32m~/miniconda3/lib/python3.6/genericpath.py\u001b[0m in \u001b[0;36misfile\u001b[0;34m(path)\u001b[0m\n\u001b[1;32m     28\u001b[0m     \u001b[0;34m\"\"\"Test whether a path is a regular file\"\"\"\u001b[0m\u001b[0;34m\u001b[0m\u001b[0m\n\u001b[1;32m     29\u001b[0m     \u001b[0;32mtry\u001b[0m\u001b[0;34m:\u001b[0m\u001b[0;34m\u001b[0m\u001b[0m\n\u001b[0;32m---> 30\u001b[0;31m         \u001b[0mst\u001b[0m \u001b[0;34m=\u001b[0m \u001b[0mos\u001b[0m\u001b[0;34m.\u001b[0m\u001b[0mstat\u001b[0m\u001b[0;34m(\u001b[0m\u001b[0mpath\u001b[0m\u001b[0;34m)\u001b[0m\u001b[0;34m\u001b[0m\u001b[0m\n\u001b[0m\u001b[1;32m     31\u001b[0m     \u001b[0;32mexcept\u001b[0m \u001b[0mOSError\u001b[0m\u001b[0;34m:\u001b[0m\u001b[0;34m\u001b[0m\u001b[0m\n\u001b[1;32m     32\u001b[0m         \u001b[0;32mreturn\u001b[0m \u001b[0;32mFalse\u001b[0m\u001b[0;34m\u001b[0m\u001b[0m\n",
      "\u001b[0;31mTypeError\u001b[0m: stat: path should be string, bytes, os.PathLike or integer, not Model"
     ]
    }
   ],
   "source": [
    "# The first step in glycolysis\n",
    "model = \"\"\"\n",
    "2Glu + 2A_P_P_P -> 2Glu_P + 2A_P_P; 1\n",
    "Glu = 0\n",
    "A_P_P_P = 0\n",
    "Glu_P = 0\n",
    "A_P_P = 0\n",
    "\"\"\"\n",
    "num_react, num_bad = sbmllint.lint(model)\n",
    "#simple = simple_sbml.SimpleSBML()\n",
    "#simple.initialize(model)"
   ]
  },
  {
   "cell_type": "code",
   "execution_count": null,
   "metadata": {},
   "outputs": [],
   "source": [
    "simple.reactions"
   ]
  },
  {
   "cell_type": "code",
   "execution_count": null,
   "metadata": {
    "scrolled": false
   },
   "outputs": [],
   "source": [
    "# The first step in glycolysis, with an error (wrongly goes to A instead of A_P_P)\n",
    "model = \"\"\"\n",
    "Glu + A_P_P_P -> Glu_P + A_P; 1\n",
    "\"\"\"\n",
    "_ = sbmllint.lint(model)"
   ]
  },
  {
   "cell_type": "code",
   "execution_count": null,
   "metadata": {},
   "outputs": [],
   "source": []
  },
  {
   "cell_type": "markdown",
   "metadata": {},
   "source": [
    "## Sturctured Names in BioModels"
   ]
  },
  {
   "cell_type": "markdown",
   "metadata": {},
   "source": [
    "Find models that already use \"\\_\" as a name separator"
   ]
  },
  {
   "cell_type": "code",
   "execution_count": null,
   "metadata": {
    "scrolled": true
   },
   "outputs": [],
   "source": [
    "sbmliter = simple_sbml.modelIterator(final=200)\n",
    "for item in sbmliter:\n",
    "    simple = simple_sbml.SimpleSBML(item.model)\n",
    "    Reaction.initialize(simple)\n",
    "    for reaction in Reaction.reactions:\n",
    "        molecules = set(reaction.reactants).union(reaction.products)\n",
    "        if any([cn.MOIETY_SEPARATOR in m.name for m in molecules]):\n",
    "            path = os.path.join(cn.DATA_DIR, item.filename)\n",
    "            print(\"\\n\\n***%s\\n\" % item.filename)\n",
    "            #print(molecules)\n",
    "            print_reactions.prettyPrint(path, is_include_kinetics=False)\n",
    "            break\n",
    "            "
   ]
  },
  {
   "cell_type": "code",
   "execution_count": null,
   "metadata": {},
   "outputs": [],
   "source": []
  },
  {
   "cell_type": "code",
   "execution_count": null,
   "metadata": {},
   "outputs": [],
   "source": [
    "# Analysis of BIOMD0000000611_url.xml\n",
    "filename = \"BIOMD0000000611_url.xml\"\n",
    "filename = \"BIOMD0000000198_url.xml\"\n",
    "filename = \"BIOMD0000000140_url.xml\"\n",
    "filename = \"BIOMD0000000611_url.xml\"\n",
    "filename = \"BIOMD0000000139_url.xml\"\n",
    "filename = \"BIOMD0000000362_url.xml\" # 16/33 don't comply\n",
    "filename = \"BIOMD0000000571_url.xml\"\n",
    "filename = \"BIOMD0000000140_url.xml\"\n",
    "\n",
    "path = os.path.join(cn.DATA_DIR, filename)\n",
    "sbmllint.lint(path)"
   ]
  },
  {
   "cell_type": "markdown",
   "metadata": {},
   "source": [
    "**To do:**\n",
    "1. Table of counts of total reactions, number imbalance (less boundary reactions). Do as bar plot."
   ]
  },
  {
   "cell_type": "code",
   "execution_count": null,
   "metadata": {},
   "outputs": [],
   "source": [
    "def isStructuredName(name):\n",
    "    moietys = name.split(cn.MOIETY_SEPARATOR)\n",
    "    if len(moietys) == 1:\n",
    "        return False\n",
    "    # See if it has a numeric suffix\n",
    "    try:\n",
    "        _ = float(moietys[1])\n",
    "        return False\n",
    "    except:\n",
    "        pass\n",
    "    if \"species\" == moietys[0]:\n",
    "        return False\n",
    "    return True\n",
    "\n",
    "print (\"1: %d\" % isStructuredName(\"a_b\"))\n",
    "print (\"0: %d\" % isStructuredName(\"species_b\"))\n",
    "print (\"0: %d\" % isStructuredName(\"speces_3\"))"
   ]
  },
  {
   "cell_type": "code",
   "execution_count": null,
   "metadata": {},
   "outputs": [],
   "source": [
    "# Construct dataframe of statistics on names and imbalances\n",
    "\n",
    "FILENAME = \"filename\"\n",
    "HAS_DASH = \"has_dash\"\n",
    "NUM_REACTIONS = \"num_reactions\"\n",
    "NUM_BOUNDARY_REACTIONS = \"num_boundary_reactions\"\n",
    "NUM_BAD = \"num_imbalance_reactions\"\n",
    "NUM_BALANCED_REACTIONS = \"num_balanced_reactions\"\n",
    "FRC_BALANCED = \"frc_balanced\"\n",
    "def calcStats(initial=1, final=20):\n",
    "    dfs = []\n",
    "    sbmliter = simple_sbml.modelIterator(initial=initial, final=final)\n",
    "    for item in sbmliter:\n",
    "        simple = simple_sbml.SimpleSBML(item.model)\n",
    "        row = {FILENAME: [item.filename], \n",
    "               HAS_DASH: [False], \n",
    "               NUM_BOUNDARY_REACTIONS: [0],\n",
    "               NUM_REACTIONS: [0],\n",
    "               NUM_BAD: [None],\n",
    "               NUM_BAD: [0],\n",
    "               }\n",
    "        Reaction.initialize(simple)\n",
    "        for reaction in Reaction.reactions:\n",
    "            if (len(reaction.reactants) == 0) or (len(reaction.products) == 0):\n",
    "                row[NUM_BOUNDARY_REACTIONS] = [row[NUM_BOUNDARY_REACTIONS][0] + 1]\n",
    "            molecules = set(reaction.reactants).union(reaction.products)\n",
    "            if any([isStructuredName(m.name) for m in molecules]):\n",
    "                row[HAS_DASH] = [True]\n",
    "        num_reactions, num_bad = sbmllint.lint(item.model, is_report=False)\n",
    "        row[NUM_REACTIONS] = [num_reactions]\n",
    "        row[NUM_BAD] = [num_bad]\n",
    "        dfs.append(pd.DataFrame(row))\n",
    "    df_count = pd.concat(dfs)\n",
    "    df_count[NUM_BALANCED_REACTIONS] = df_count[NUM_REACTIONS] - df_count[NUM_BAD]\n",
    "    df_count[FRC_BALANCED] = 1.0*df_count[NUM_BALANCED_REACTIONS] / (\n",
    "        df_count[NUM_REACTIONS] - df_count[NUM_BOUNDARY_REACTIONS])\n",
    "    df = df_count[df_count[\"frc_balanced\"] > 0.0]\n",
    "    df.sort_values(\"frc_balanced\")\n",
    "    return df"
   ]
  },
  {
   "cell_type": "code",
   "execution_count": null,
   "metadata": {
    "scrolled": true
   },
   "outputs": [],
   "source": []
  },
  {
   "cell_type": "code",
   "execution_count": null,
   "metadata": {},
   "outputs": [],
   "source": [
    "calcStats(initial=1, final=200)"
   ]
  },
  {
   "cell_type": "code",
   "execution_count": null,
   "metadata": {},
   "outputs": [],
   "source": [
    "calcStats(initial=201, final=300)"
   ]
  }
 ],
 "metadata": {
  "kernelspec": {
   "display_name": "Python 3",
   "language": "python",
   "name": "python3"
  },
  "language_info": {
   "codemirror_mode": {
    "name": "ipython",
    "version": 3
   },
   "file_extension": ".py",
   "mimetype": "text/x-python",
   "name": "python",
   "nbconvert_exporter": "python",
   "pygments_lexer": "ipython3",
   "version": "3.6.4"
  }
 },
 "nbformat": 4,
 "nbformat_minor": 2
}
