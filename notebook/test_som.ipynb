{
 "cells": [
  {
   "cell_type": "code",
   "execution_count": 1,
   "metadata": {},
   "outputs": [],
   "source": [
    "import collections\n",
    "import itertools  \n",
    "import matplotlib.pyplot as plt\n",
    "import networkx as nx\n",
    "import os\n",
    "import tellurium as te\n",
    "import tesbml\n",
    "import re\n",
    "import os, sys"
   ]
  },
  {
   "cell_type": "code",
   "execution_count": 2,
   "metadata": {},
   "outputs": [
    {
     "name": "stdout",
     "output_type": "stream",
     "text": [
      "/Users/woosubshin/Desktop/ModelEngineering/SBMLLint/SBMLLint\n"
     ]
    }
   ],
   "source": [
    "cwd = os.getcwd()\n",
    "#print(cwd)\n",
    "parent_dir = os.path.abspath(os.path.join(cwd, os.pardir))\n",
    "#print(parent_dir)\n",
    "os.chdir(parent_dir)\n",
    "print(os.getcwd())\n",
    "\n",
    "from SBMLLint.common import constants as cn\n",
    "from SBMLLint.common.molecule import Molecule\n",
    "from SBMLLint.common.reaction import Reaction\n",
    "from SBMLLint.common.simple_sbml import SimpleSBML\n",
    "from SBMLLint.games import print_model as pm\n",
    "from SBMLLint.games.som import SOM"
   ]
  },
  {
   "cell_type": "code",
   "execution_count": 49,
   "metadata": {},
   "outputs": [
    {
     "name": "stdout",
     "output_type": "stream",
     "text": [
      "<Model Hoefnagel2002_PyruvateBranches \"Hoefnagel2002_PyruvateBranches\">\n",
      "R1: ADP + NAD + halfglucose -> ATP + NADH + pyruvate;\n",
      "R2: NADH + pyruvate -> NAD + lactate;\n",
      "R3: NAD + pyruvate + CoA -> NADH + AcCoA;\n",
      "R4: AcCoA + PO4 -> CoA + AcP;\n",
      "R5: ADP + AcP -> ATP + Ac;\n",
      "R6: NADH + AcCoA -> NAD + CoA + AcO;\n",
      "R7: NADH + AcO -> NAD + EtOH;\n",
      "R8: pyruvate -> AcLac;\n",
      "R9: AcLac -> AcetoinIn;\n",
      "R10: AcetoinIn -> AcetoinOut;\n",
      "R11: NADH + AcetoinIn -> NAD + Butanediol;\n",
      "R12: ATP -> ADP;\n",
      "R13: NADH + O2 -> NAD;\n",
      "R14: AcLac -> AcetoinIn;\n"
     ]
    }
   ],
   "source": [
    "# som.py was built using model #17, is being tested by model #18\n",
    "# use reaction 'SHMTr' to create SOM to reduce reaction 'GARFT'\n",
    "num = 17\n",
    "format_num = format(num, '03d')\n",
    "document = tesbml.readSBML(os.path.join(os.getcwd(), 'SBMLLint/games/data/curated_' + format_num + '.xml'))\n",
    "model = document.getModel()\n",
    "pm.print_model(model)"
   ]
  },
  {
   "cell_type": "code",
   "execution_count": 4,
   "metadata": {},
   "outputs": [],
   "source": [
    "import unittest"
   ]
  },
  {
   "cell_type": "code",
   "execution_count": 5,
   "metadata": {},
   "outputs": [],
   "source": [
    "UNIUNI = 'SHMTr'\n",
    "MULTIMULTI = 'GARFT'\n",
    "TEST_MOLECULE = 'CH2FH4'"
   ]
  },
  {
   "cell_type": "code",
   "execution_count": 6,
   "metadata": {},
   "outputs": [],
   "source": [
    "simple = SimpleSBML(cn.TEST_FILE3)\n",
    "sbml_reaction1 = simple._model.getReaction(UNIUNI)\n",
    "sbml_reaction2 = simple._model.getReaction(MULTIMULTI)"
   ]
  },
  {
   "cell_type": "code",
   "execution_count": 7,
   "metadata": {},
   "outputs": [
    {
     "name": "stdout",
     "output_type": "stream",
     "text": [
      "[CH2FH4 -> FH4, CHOFH4 + GAR -> FGAR + FH4]\n"
     ]
    }
   ],
   "source": [
    "Reaction.reactions = []\n",
    "Reaction(sbml_reaction1)\n",
    "Reaction(sbml_reaction2)\n",
    "print(Reaction.reactions)"
   ]
  },
  {
   "cell_type": "code",
   "execution_count": 8,
   "metadata": {},
   "outputs": [],
   "source": [
    "reaction1 = Reaction.reactions[0]\n",
    "reaction2 = Reaction.reactions[1]"
   ]
  },
  {
   "cell_type": "code",
   "execution_count": 9,
   "metadata": {},
   "outputs": [
    {
     "name": "stdout",
     "output_type": "stream",
     "text": [
      "[CH2FH4, FH4, CHOFH4, GAR, FGAR]\n"
     ]
    }
   ],
   "source": [
    "print(Molecule.molecules)"
   ]
  },
  {
   "cell_type": "code",
   "execution_count": 10,
   "metadata": {},
   "outputs": [],
   "source": [
    "SOM.initialize(Molecule.molecules)"
   ]
  },
  {
   "cell_type": "code",
   "execution_count": 11,
   "metadata": {},
   "outputs": [],
   "source": [
    "class TestSOM(unittest.TestCase):\n",
    "\n",
    "    def setUp(self):\n",
    "        self.simple = SimpleSBML(cn.TEST_FILE3)\n",
    "        Reaction(simple._model.getReaction(UNIUNI))\n",
    "        Reaction(simple._model.getReaction(MULTIMULTI))\n",
    "        self.reaction1 = Reaction.reactions[0]\n",
    "        self.reaction2 = Reaction.reactions[1]\n",
    "        self.molecules = Molecule.molecules\n",
    "        SOM.soms = []\n",
    "\n",
    "    def testMakeId(self):\n",
    "         SOM.initialize(self.molecules)\n",
    "         self.assertEqual(len(SOM.soms), len(self.molecules))"
   ]
  },
  {
   "cell_type": "code",
   "execution_count": null,
   "metadata": {},
   "outputs": [],
   "source": []
  },
  {
   "cell_type": "code",
   "execution_count": 12,
   "metadata": {},
   "outputs": [
    {
     "name": "stdout",
     "output_type": "stream",
     "text": [
      "True\n",
      "{CH2FH4}\n",
      "{FH4}\n",
      "{CHOFH4}\n",
      "{GAR}\n",
      "{FGAR}\n"
     ]
    }
   ],
   "source": [
    "# test Make Id\n",
    "SOM.initialize(Molecule.molecules)\n",
    "print(len(SOM.soms) == len(Molecule.molecules))\n",
    "\n",
    "for som in SOM.soms:\n",
    "    print(som.molecules.intersection(Molecule.molecules))"
   ]
  },
  {
   "cell_type": "code",
   "execution_count": 13,
   "metadata": {},
   "outputs": [
    {
     "name": "stdout",
     "output_type": "stream",
     "text": [
      "{CH2FH4}\n",
      "{CH2FH4}\n"
     ]
    }
   ],
   "source": [
    "som = SOM.soms[0]\n",
    "print(som.molecules.intersection(Molecule.molecules))\n",
    "print(som.identifier)"
   ]
  },
  {
   "cell_type": "code",
   "execution_count": 14,
   "metadata": {},
   "outputs": [
    {
     "name": "stdout",
     "output_type": "stream",
     "text": [
      "['CH2FH4']\n"
     ]
    }
   ],
   "source": [
    "k = re.findall(\"[0-9a-zA-Z]+\", som.identifier)\n",
    "print(k)"
   ]
  },
  {
   "cell_type": "code",
   "execution_count": 15,
   "metadata": {},
   "outputs": [
    {
     "data": {
      "text/plain": [
       "CH2FH4"
      ]
     },
     "execution_count": 15,
     "metadata": {},
     "output_type": "execute_result"
    }
   ],
   "source": [
    "Molecule.getMolecule(k[0])"
   ]
  },
  {
   "cell_type": "code",
   "execution_count": 16,
   "metadata": {},
   "outputs": [
    {
     "data": {
      "text/plain": [
       "True"
      ]
     },
     "execution_count": 16,
     "metadata": {},
     "output_type": "execute_result"
    }
   ],
   "source": [
    "list(som.molecules)[0] == Molecule.getMolecule(k[0])"
   ]
  },
  {
   "cell_type": "code",
   "execution_count": 17,
   "metadata": {},
   "outputs": [
    {
     "data": {
      "text/plain": [
       "{CH2FH4}"
      ]
     },
     "execution_count": 17,
     "metadata": {},
     "output_type": "execute_result"
    }
   ],
   "source": [
    "SOM.soms[0]"
   ]
  },
  {
   "cell_type": "code",
   "execution_count": 18,
   "metadata": {},
   "outputs": [
    {
     "data": {
      "text/plain": [
       "[CH2FH4, FH4, CHOFH4, GAR, FGAR]"
      ]
     },
     "execution_count": 18,
     "metadata": {},
     "output_type": "execute_result"
    }
   ],
   "source": [
    "Molecule.molecules"
   ]
  },
  {
   "cell_type": "code",
   "execution_count": 19,
   "metadata": {},
   "outputs": [
    {
     "data": {
      "text/plain": [
       "{CH2FH4, FH4}"
      ]
     },
     "execution_count": 19,
     "metadata": {},
     "output_type": "execute_result"
    }
   ],
   "source": [
    "SOM.merge(reaction1)"
   ]
  },
  {
   "cell_type": "code",
   "execution_count": 20,
   "metadata": {},
   "outputs": [
    {
     "name": "stdout",
     "output_type": "stream",
     "text": [
      "[{CHOFH4}, {GAR}, {FGAR}, {CH2FH4, FH4}]\n"
     ]
    }
   ],
   "source": [
    "print(SOM.soms)"
   ]
  },
  {
   "cell_type": "code",
   "execution_count": 21,
   "metadata": {},
   "outputs": [
    {
     "data": {
      "text/plain": [
       "CHOFH4 + GAR -> FGAR + FH4"
      ]
     },
     "execution_count": 21,
     "metadata": {},
     "output_type": "execute_result"
    }
   ],
   "source": [
    "reaction2"
   ]
  },
  {
   "cell_type": "code",
   "execution_count": 22,
   "metadata": {},
   "outputs": [
    {
     "name": "stdout",
     "output_type": "stream",
     "text": [
      "-------------------------------------\n",
      "before reduction: reaction.reactants:  [MoleculeStoichiometry(molecule=CHOFH4, stoichiometry=1.0), MoleculeStoichiometry(molecule=GAR, stoichiometry=1.0)]\n",
      "after reduction: reactants:  [MoleculeStoichiometry(molecule=CHOFH4, stoichiometry=1.0), MoleculeStoichiometry(molecule=GAR, stoichiometry=1.0)]\n",
      "before reduction: reaction.products:  [MoleculeStoichiometry(molecule=FGAR, stoichiometry=1.0), MoleculeStoichiometry(molecule=FH4, stoichiometry=1.0)]\n",
      "after reduction: products:  [MoleculeStoichiometry(molecule=FGAR, stoichiometry=1.0), MoleculeStoichiometry(molecule=FH4, stoichiometry=1.0)]\n",
      "Therefore: reduced =  False\n",
      "-------------------------------------\n",
      "-------------------------------------\n",
      "before reduction: reaction.reactants:  [MoleculeStoichiometry(molecule=CHOFH4, stoichiometry=1.0), MoleculeStoichiometry(molecule=GAR, stoichiometry=1.0)]\n",
      "after reduction: reactants:  [MoleculeStoichiometry(molecule=GAR, stoichiometry=1.0), MoleculeStoichiometry(molecule=CHOFH4, stoichiometry=1.0)]\n",
      "before reduction: reaction.products:  [MoleculeStoichiometry(molecule=FGAR, stoichiometry=1.0), MoleculeStoichiometry(molecule=FH4, stoichiometry=1.0)]\n",
      "after reduction: products:  [MoleculeStoichiometry(molecule=FGAR, stoichiometry=1.0), MoleculeStoichiometry(molecule=FH4, stoichiometry=1.0)]\n",
      "Therefore: reduced =  False\n",
      "-------------------------------------\n",
      "-------------------------------------\n",
      "before reduction: reaction.reactants:  [MoleculeStoichiometry(molecule=CHOFH4, stoichiometry=1.0), MoleculeStoichiometry(molecule=GAR, stoichiometry=1.0)]\n",
      "after reduction: reactants:  [MoleculeStoichiometry(molecule=CHOFH4, stoichiometry=1.0), MoleculeStoichiometry(molecule=GAR, stoichiometry=1.0)]\n",
      "before reduction: reaction.products:  [MoleculeStoichiometry(molecule=FGAR, stoichiometry=1.0), MoleculeStoichiometry(molecule=FH4, stoichiometry=1.0)]\n",
      "after reduction: products:  [MoleculeStoichiometry(molecule=FGAR, stoichiometry=1.0), MoleculeStoichiometry(molecule=FH4, stoichiometry=1.0)]\n",
      "Therefore: reduced =  False\n",
      "-------------------------------------\n",
      "-------------------------------------\n",
      "before reduction: reaction.reactants:  [MoleculeStoichiometry(molecule=CHOFH4, stoichiometry=1.0), MoleculeStoichiometry(molecule=GAR, stoichiometry=1.0)]\n",
      "after reduction: reactants:  [MoleculeStoichiometry(molecule=CHOFH4, stoichiometry=1.0), MoleculeStoichiometry(molecule=GAR, stoichiometry=1.0)]\n",
      "before reduction: reaction.products:  [MoleculeStoichiometry(molecule=FGAR, stoichiometry=1.0), MoleculeStoichiometry(molecule=FH4, stoichiometry=1.0)]\n",
      "after reduction: products:  [MoleculeStoichiometry(molecule=FH4, stoichiometry=1.0), MoleculeStoichiometry(molecule=FGAR, stoichiometry=1.0)]\n",
      "Therefore: reduced =  False\n",
      "-------------------------------------\n",
      "False\n"
     ]
    }
   ],
   "source": [
    "print(SOM.reduce(reaction2))"
   ]
  },
  {
   "cell_type": "code",
   "execution_count": 23,
   "metadata": {},
   "outputs": [
    {
     "data": {
      "text/plain": [
       "'reaction_n_n'"
      ]
     },
     "execution_count": 23,
     "metadata": {},
     "output_type": "execute_result"
    }
   ],
   "source": [
    "reaction2.category"
   ]
  },
  {
   "cell_type": "code",
   "execution_count": 24,
   "metadata": {},
   "outputs": [],
   "source": [
    "from collections import deque"
   ]
  },
  {
   "cell_type": "code",
   "execution_count": 26,
   "metadata": {},
   "outputs": [
    {
     "data": {
      "text/plain": [
       "2"
      ]
     },
     "execution_count": 26,
     "metadata": {},
     "output_type": "execute_result"
    }
   ],
   "source": [
    "aa = deque([1,2,3])\n",
    "aa.popleft()\n",
    "aa.popleft()"
   ]
  },
  {
   "cell_type": "code",
   "execution_count": 27,
   "metadata": {},
   "outputs": [
    {
     "data": {
      "text/plain": [
       "[{CHOFH4}, {GAR}, {FGAR}, {CH2FH4, FH4}]"
      ]
     },
     "execution_count": 27,
     "metadata": {},
     "output_type": "execute_result"
    }
   ],
   "source": [
    "SOM.soms"
   ]
  },
  {
   "cell_type": "code",
   "execution_count": 38,
   "metadata": {},
   "outputs": [
    {
     "data": {
      "text/plain": [
       "[{CHOFH4}, {GAR}, {FGAR}, {CH2FH4, FH4}]"
      ]
     },
     "execution_count": 38,
     "metadata": {},
     "output_type": "execute_result"
    }
   ],
   "source": [
    "SOM.soms"
   ]
  },
  {
   "cell_type": "code",
   "execution_count": 40,
   "metadata": {},
   "outputs": [],
   "source": [
    "som = SOM.soms[3]\n",
    "reactants_in = deque([mole_tuple for mole_tuple in  \n",
    "                            reaction2.reactants if \n",
    "                            mole_tuple.molecule in som.molecules])\n",
    "reactants_out = [mole_tuple for mole_tuple in  \n",
    "                            reaction2.reactants if \n",
    "                            mole_tuple.molecule not in som.molecules]\n",
    "products_in = deque([mole_tuple for mole_tuple in  \n",
    "                            reaction2.products if \n",
    "                            mole_tuple.molecule in som.molecules])\n",
    "products_out = [mole_tuple for mole_tuple in  \n",
    "                            reaction2.products if \n",
    "                            mole_tuple.molecule not in som.molecules]"
   ]
  },
  {
   "cell_type": "code",
   "execution_count": 45,
   "metadata": {},
   "outputs": [
    {
     "data": {
      "text/plain": [
       "CHOFH4 + GAR -> FGAR + FH4"
      ]
     },
     "execution_count": 45,
     "metadata": {},
     "output_type": "execute_result"
    }
   ],
   "source": [
    "reaction2"
   ]
  },
  {
   "cell_type": "code",
   "execution_count": 41,
   "metadata": {},
   "outputs": [
    {
     "data": {
      "text/plain": [
       "deque([])"
      ]
     },
     "execution_count": 41,
     "metadata": {},
     "output_type": "execute_result"
    }
   ],
   "source": [
    "reactants_in"
   ]
  },
  {
   "cell_type": "code",
   "execution_count": 42,
   "metadata": {},
   "outputs": [
    {
     "data": {
      "text/plain": [
       "[MoleculeStoichiometry(molecule=CHOFH4, stoichiometry=1.0),\n",
       " MoleculeStoichiometry(molecule=GAR, stoichiometry=1.0)]"
      ]
     },
     "execution_count": 42,
     "metadata": {},
     "output_type": "execute_result"
    }
   ],
   "source": [
    "reactants_out"
   ]
  },
  {
   "cell_type": "code",
   "execution_count": 43,
   "metadata": {},
   "outputs": [
    {
     "data": {
      "text/plain": [
       "deque([MoleculeStoichiometry(molecule=FH4, stoichiometry=1.0)])"
      ]
     },
     "execution_count": 43,
     "metadata": {},
     "output_type": "execute_result"
    }
   ],
   "source": [
    "products_in"
   ]
  },
  {
   "cell_type": "code",
   "execution_count": 44,
   "metadata": {},
   "outputs": [
    {
     "data": {
      "text/plain": [
       "[MoleculeStoichiometry(molecule=FGAR, stoichiometry=1.0)]"
      ]
     },
     "execution_count": 44,
     "metadata": {},
     "output_type": "execute_result"
    }
   ],
   "source": [
    "products_out"
   ]
  },
  {
   "cell_type": "code",
   "execution_count": 31,
   "metadata": {},
   "outputs": [
    {
     "data": {
      "text/plain": [
       "CH2FH4 -> FH4"
      ]
     },
     "execution_count": 31,
     "metadata": {},
     "output_type": "execute_result"
    }
   ],
   "source": [
    "reaction1`"
   ]
  },
  {
   "cell_type": "code",
   "execution_count": 51,
   "metadata": {},
   "outputs": [
    {
     "name": "stdout",
     "output_type": "stream",
     "text": [
      "[{CHOFH4}, {GAR}, {FGAR}, {CH2FH4, FH4}]\n"
     ]
    }
   ],
   "source": [
    "a = SOM.soms\n",
    "print(a)"
   ]
  },
  {
   "cell_type": "code",
   "execution_count": null,
   "metadata": {},
   "outputs": [],
   "source": [
    "\"\"\"\n",
    "parent_dir = os.path.abspath(os.path.join(os.getcwd(), os.pardir, os.pardir, os.pardir))\n",
    "print(parent_dir)\n",
    "os.chdir(parent_dir)\n",
    "print(\"new directory:\", os.getcwd())\n",
    "\"\"\""
   ]
  },
  {
   "cell_type": "code",
   "execution_count": 52,
   "metadata": {},
   "outputs": [
    {
     "data": {
      "text/plain": [
       "{CH2FH4, FH4}"
      ]
     },
     "execution_count": 52,
     "metadata": {},
     "output_type": "execute_result"
    }
   ],
   "source": [
    "a.pop()"
   ]
  },
  {
   "cell_type": "code",
   "execution_count": 53,
   "metadata": {},
   "outputs": [
    {
     "data": {
      "text/plain": [
       "[{CHOFH4}, {GAR}, {FGAR}]"
      ]
     },
     "execution_count": 53,
     "metadata": {},
     "output_type": "execute_result"
    }
   ],
   "source": [
    "a"
   ]
  },
  {
   "cell_type": "code",
   "execution_count": 54,
   "metadata": {},
   "outputs": [
    {
     "ename": "ModuleNotFoundError",
     "evalue": "No module named 'init'",
     "output_type": "error",
     "traceback": [
      "\u001b[0;31m---------------------------------------------------------------------------\u001b[0m",
      "\u001b[0;31mModuleNotFoundError\u001b[0m                       Traceback (most recent call last)",
      "\u001b[0;32m<ipython-input-54-e23dbaadba65>\u001b[0m in \u001b[0;36m<module>\u001b[0;34m()\u001b[0m\n\u001b[0;32m----> 1\u001b[0;31m \u001b[0;32mimport\u001b[0m \u001b[0minit\u001b[0m\u001b[0;34m\u001b[0m\u001b[0m\n\u001b[0m",
      "\u001b[0;31mModuleNotFoundError\u001b[0m: No module named 'init'"
     ]
    }
   ],
   "source": [
    "import init"
   ]
  },
  {
   "cell_type": "code",
   "execution_count": null,
   "metadata": {},
   "outputs": [],
   "source": []
  }
 ],
 "metadata": {
  "kernelspec": {
   "display_name": "Python 3",
   "language": "python",
   "name": "python3"
  },
  "language_info": {
   "codemirror_mode": {
    "name": "ipython",
    "version": 3
   },
   "file_extension": ".py",
   "mimetype": "text/x-python",
   "name": "python",
   "nbconvert_exporter": "python",
   "pygments_lexer": "ipython3",
   "version": "3.6.3"
  }
 },
 "nbformat": 4,
 "nbformat_minor": 2
}
