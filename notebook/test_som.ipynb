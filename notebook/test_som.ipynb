{
 "cells": [
  {
   "cell_type": "code",
   "execution_count": 85,
   "metadata": {},
   "outputs": [],
   "source": [
    "import collections\n",
    "import itertools  \n",
    "import matplotlib.pyplot as plt\n",
    "import networkx as nx\n",
    "import os\n",
    "import tellurium as te\n",
    "import tesbml\n",
    "import re\n",
    "import os, sys"
   ]
  },
  {
   "cell_type": "code",
   "execution_count": 57,
   "metadata": {},
   "outputs": [
    {
     "name": "stdout",
     "output_type": "stream",
     "text": [
      "/Users/woosubshin/Desktop/ModelEngineering/SBMLLint\n"
     ]
    }
   ],
   "source": [
    "cwd = os.getcwd()\n",
    "#print(cwd)\n",
    "parent_dir = os.path.abspath(os.path.join(cwd, os.pardir))\n",
    "#print(parent_dir)\n",
    "os.chdir(parent_dir)\n",
    "print(os.getcwd())\n",
    "\n",
    "from SBMLLint.common import constants as cn\n",
    "from SBMLLint.common.molecule import Molecule\n",
    "from SBMLLint.common.reaction import Reaction\n",
    "from SBMLLint.common.simple_sbml import SimpleSBML\n",
    "from SBMLLint.games import print_model as pm\n",
    "from SBMLLint.games.som import SOM"
   ]
  },
  {
   "cell_type": "code",
   "execution_count": 3,
   "metadata": {},
   "outputs": [
    {
     "name": "stdout",
     "output_type": "stream",
     "text": [
      "<Model MorrisonAllegra \"Morrison1989 - Folate Cycle\">\n",
      "SHMT: FH4 + serine -> CH2FH4;\n",
      "SHMTr: CH2FH4 -> FH4;\n",
      "HCHOtoCH2FH4: FH4 + HCHO -> CH2FH4;\n",
      "CH2FH4toHCHO: CH2FH4 -> FH4 + HCHO;\n",
      "MTHFR: CH2FH4 + NADPH -> CH3FH4;\n",
      "MTR: CH3FH4 + homocysteine -> FH4;\n",
      "HCOOHtoCHOFH4: FH4 + formate + ATP -> CHOFH4;\n",
      "GARFT: CHOFH4 + GAR -> FGAR + FH4;\n",
      "ATIC7: CHOFH4 + AICAR -> FH4;\n",
      "MTHFD: CH2FH4 + NADP -> CHOFH4;\n",
      "TYMS: CH2FH4 + dUMP -> FH2f;\n",
      "DHFReductase: FH2f -> FH4;\n",
      "FFH2syn: FH2f -> FFH2;\n",
      "ATIC12: FFH2 + AICAR -> FH2f;\n",
      "AICARsyn: FGAR -> AICAR;\n",
      "FPGS12: MTX1 -> MTX2;\n",
      "FPGS23: MTX2 -> MTX3;\n",
      "FPGS34: MTX3 -> MTX4;\n",
      "FPGS45: MTX4 -> MTX5;\n",
      "GGH21: MTX2 -> MTX1;\n",
      "GGH32: MTX3 -> MTX2;\n",
      "GGH43: MTX4 -> MTX3;\n",
      "GGH54: MTX5 -> MTX4;\n",
      "RFC: EMTX -> MTX1;\n",
      "MTX1export: MTX1 -> ;\n",
      "MTX2export: MTX2 -> ;\n",
      "MTX3export: MTX3 -> ;\n",
      "MTX4export: MTX4 -> ;\n",
      "MTX5export: MTX5 -> ;\n",
      "MTX1on: MTX1 + DHFRf -> MTX1b;\n",
      "MTX2on: MTX2 + DHFRf -> MTX2b;\n",
      "MTX3on: MTX3 + DHFRf -> MTX3b;\n",
      "MTX4on: MTX4 + DHFRf -> MTX4b;\n",
      "MTX5on: MTX5 + DHFRf -> MTX5b;\n",
      "MTX1off: MTX1b -> MTX1 + DHFRf;\n",
      "MTX2off: MTX2b -> MTX2 + DHFRf;\n",
      "MTX3off: MTX3b -> MTX3 + DHFRf;\n",
      "MTX4off: MTX4b -> MTX4 + DHFRf;\n",
      "MTX5off: MTX5b -> MTX5 + DHFRf;\n",
      "DHFRfsyn:  -> DHFRf;\n",
      "DHFRdeg: DHFRf -> ;\n",
      "FH2bdeg:  -> FH2f;\n",
      "MTX1deg: MTX1b -> MTX1;\n",
      "MTX2deg: MTX2b -> MTX2;\n",
      "MTX3deg: MTX3b -> MTX3;\n",
      "MTX4deg: MTX4b -> MTX4;\n",
      "MTX5deg: MTX5b -> MTX5;\n"
     ]
    }
   ],
   "source": [
    "# som.py was built using model #17, is being tested by model #18\n",
    "# use reaction 'SHMTr' to create SOM to reduce reaction 'GARFT'\n",
    "num = 18\n",
    "format_num = format(num, '03d')\n",
    "document = tesbml.readSBML(os.path.join(os.getcwd(), 'SBMLLint/games/data/curated_' + format_num + '.xml'))\n",
    "model = document.getModel()\n",
    "pm.print_model(model)"
   ]
  },
  {
   "cell_type": "code",
   "execution_count": 32,
   "metadata": {},
   "outputs": [],
   "source": [
    "import unittest"
   ]
  },
  {
   "cell_type": "code",
   "execution_count": 52,
   "metadata": {},
   "outputs": [],
   "source": [
    "UNIUNI = 'SHMTr'\n",
    "MULTIMULTI = 'GARFT'\n",
    "TEST_MOLECULE = 'CH2FH4'"
   ]
  },
  {
   "cell_type": "code",
   "execution_count": 53,
   "metadata": {},
   "outputs": [],
   "source": [
    "simple = SimpleSBML(cn.TEST_FILE3)\n",
    "sbml_reaction1 = simple._model.getReaction(UNIUNI)\n",
    "sbml_reaction2 = simple._model.getReaction(MULTIMULTI)"
   ]
  },
  {
   "cell_type": "code",
   "execution_count": 35,
   "metadata": {},
   "outputs": [
    {
     "name": "stdout",
     "output_type": "stream",
     "text": [
      "[CH2FH4 -> FH4, CHOFH4 + GAR -> FGAR + FH4]\n"
     ]
    }
   ],
   "source": [
    "Reaction.reactions = []\n",
    "Reaction(sbml_reaction1)\n",
    "Reaction(sbml_reaction2)\n",
    "print(Reaction.reactions)"
   ]
  },
  {
   "cell_type": "code",
   "execution_count": 36,
   "metadata": {},
   "outputs": [],
   "source": [
    "reaction1 = Reaction.reactions[0]\n",
    "reaction2 = Reaction.reactions[1]"
   ]
  },
  {
   "cell_type": "code",
   "execution_count": 37,
   "metadata": {},
   "outputs": [
    {
     "name": "stdout",
     "output_type": "stream",
     "text": [
      "[CH2FH4, FH4, CHOFH4, GAR, FGAR]\n"
     ]
    }
   ],
   "source": [
    "print(Molecule.molecules)"
   ]
  },
  {
   "cell_type": "code",
   "execution_count": 38,
   "metadata": {},
   "outputs": [],
   "source": [
    "SOM.initialize(Molecule.molecules)"
   ]
  },
  {
   "cell_type": "code",
   "execution_count": 39,
   "metadata": {},
   "outputs": [
    {
     "data": {
      "text/plain": [
       "[{CH2FH4}, {FH4}, {CHOFH4}, {GAR}, {FGAR}]"
      ]
     },
     "execution_count": 39,
     "metadata": {},
     "output_type": "execute_result"
    }
   ],
   "source": [
    "SOM.soms"
   ]
  },
  {
   "cell_type": "code",
   "execution_count": 47,
   "metadata": {},
   "outputs": [
    {
     "data": {
      "text/plain": [
       "unittest.main.TestProgram"
      ]
     },
     "execution_count": 47,
     "metadata": {},
     "output_type": "execute_result"
    }
   ],
   "source": [
    "unittest.main"
   ]
  },
  {
   "cell_type": "code",
   "execution_count": 55,
   "metadata": {},
   "outputs": [
    {
     "data": {
      "text/plain": [
       "CH2FH4 -> FH4"
      ]
     },
     "execution_count": 55,
     "metadata": {},
     "output_type": "execute_result"
    }
   ],
   "source": [
    "Reaction(simple._model.getReaction(UNIUNI))"
   ]
  },
  {
   "cell_type": "code",
   "execution_count": 51,
   "metadata": {},
   "outputs": [
    {
     "data": {
      "text/plain": [
       "'__main__'"
      ]
     },
     "execution_count": 51,
     "metadata": {},
     "output_type": "execute_result"
    }
   ],
   "source": [
    "__name__"
   ]
  },
  {
   "cell_type": "code",
   "execution_count": 58,
   "metadata": {},
   "outputs": [
    {
     "data": {
      "text/plain": [
       "'/Users/woosubshin/Desktop/ModelEngineering/SBMLLint/SBMLLint'"
      ]
     },
     "execution_count": 58,
     "metadata": {},
     "output_type": "execute_result"
    }
   ],
   "source": [
    "cwd"
   ]
  },
  {
   "cell_type": "code",
   "execution_count": 61,
   "metadata": {},
   "outputs": [],
   "source": [
    "class TestSOM(unittest.TestCase):\n",
    "\n",
    "    def setUp(self):\n",
    "        self.simple = SimpleSBML(cn.TEST_FILE3)\n",
    "        Reaction(simple._model.getReaction(UNIUNI))\n",
    "        Reaction(simple._model.getReaction(MULTIMULTI))\n",
    "        self.reaction1 = Reaction.reactions[0]\n",
    "        self.reaction2 = Reaction.reactions[1]\n",
    "        self.molecules = Molecule.molecules\n",
    "        SOM.soms = []\n",
    "\n",
    "    def testMakeId(self):\n",
    "         SOM.initialize(self.molecules)\n",
    "         self.assertEqual(len(SOM.soms), len(self.molecules))"
   ]
  },
  {
   "cell_type": "code",
   "execution_count": 70,
   "metadata": {},
   "outputs": [
    {
     "data": {
      "text/plain": [
       "[]"
      ]
     },
     "execution_count": 70,
     "metadata": {},
     "output_type": "execute_result"
    }
   ],
   "source": []
  },
  {
   "cell_type": "code",
   "execution_count": 84,
   "metadata": {},
   "outputs": [
    {
     "name": "stdout",
     "output_type": "stream",
     "text": [
      "True\n",
      "{CH2FH4}\n",
      "{FH4}\n",
      "{CHOFH4}\n",
      "{GAR}\n",
      "{FGAR}\n"
     ]
    }
   ],
   "source": [
    "# test Make Id\n",
    "SOM.initialize(Molecule.molecules)\n",
    "print(len(SOM.soms) == len(Molecule.molecules))\n",
    "\n",
    "for som in SOM.soms:\n",
    "    print(som.molecules.intersection(Molecule.molecules))"
   ]
  },
  {
   "cell_type": "code",
   "execution_count": 86,
   "metadata": {},
   "outputs": [
    {
     "name": "stdout",
     "output_type": "stream",
     "text": [
      "{CH2FH4}\n",
      "{CH2FH4}\n"
     ]
    }
   ],
   "source": [
    "som = SOM.soms[0]\n",
    "print(som.molecules.intersection(Molecule.molecules))\n",
    "print(som.identifier)"
   ]
  },
  {
   "cell_type": "code",
   "execution_count": 95,
   "metadata": {},
   "outputs": [
    {
     "name": "stdout",
     "output_type": "stream",
     "text": [
      "['CH2FH4']\n"
     ]
    }
   ],
   "source": [
    "k = re.findall(\"[0-9a-zA-Z]+\", som.identifier)\n",
    "print(k)"
   ]
  },
  {
   "cell_type": "code",
   "execution_count": 92,
   "metadata": {},
   "outputs": [
    {
     "data": {
      "text/plain": [
       "CH2FH4"
      ]
     },
     "execution_count": 92,
     "metadata": {},
     "output_type": "execute_result"
    }
   ],
   "source": [
    "Molecule.getMolecule(k[0])"
   ]
  },
  {
   "cell_type": "code",
   "execution_count": 98,
   "metadata": {},
   "outputs": [
    {
     "data": {
      "text/plain": [
       "True"
      ]
     },
     "execution_count": 98,
     "metadata": {},
     "output_type": "execute_result"
    }
   ],
   "source": [
    "list(som.molecules)[0] == Molecule.getMolecule(k[0])"
   ]
  },
  {
   "cell_type": "code",
   "execution_count": 100,
   "metadata": {},
   "outputs": [
    {
     "data": {
      "text/plain": [
       "{CH2FH4}"
      ]
     },
     "execution_count": 100,
     "metadata": {},
     "output_type": "execute_result"
    }
   ],
   "source": [
    "SOM.soms[0]"
   ]
  },
  {
   "cell_type": "code",
   "execution_count": null,
   "metadata": {},
   "outputs": [],
   "source": []
  },
  {
   "cell_type": "code",
   "execution_count": null,
   "metadata": {},
   "outputs": [],
   "source": [
    "\"\"\"\n",
    "parent_dir = os.path.abspath(os.path.join(os.getcwd(), os.pardir, os.pardir, os.pardir))\n",
    "print(parent_dir)\n",
    "os.chdir(parent_dir)\n",
    "print(\"new directory:\", os.getcwd())\n",
    "\"\"\""
   ]
  }
 ],
 "metadata": {
  "kernelspec": {
   "display_name": "Python 3",
   "language": "python",
   "name": "python3"
  },
  "language_info": {
   "codemirror_mode": {
    "name": "ipython",
    "version": 3
   },
   "file_extension": ".py",
   "mimetype": "text/x-python",
   "name": "python",
   "nbconvert_exporter": "python",
   "pygments_lexer": "ipython3",
   "version": "3.6.3"
  }
 },
 "nbformat": 4,
 "nbformat_minor": 2
}
