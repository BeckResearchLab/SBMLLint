{
 "cells": [
  {
   "cell_type": "code",
   "execution_count": 1,
   "metadata": {},
   "outputs": [
    {
     "name": "stdout",
     "output_type": "stream",
     "text": [
      "Current Directory: /Users/woosubshin/Desktop/ModelEngineering/SBMLLint/notebook\n"
     ]
    }
   ],
   "source": [
    "from games_setup import *\n",
    "from SBMLLint.common import constants as cn\n",
    "from SBMLLint.common.molecule import Molecule, MoleculeStoichiometry\n",
    "from SBMLLint.common.reaction import Reaction\n",
    "from SBMLLint.games.som import SOM\n",
    "from SBMLLint.common.simple_sbml import SimpleSBML\n",
    "\n",
    "import collections\n",
    "import itertools\n",
    "import networkx as nx\n",
    "import numpy as np\n",
    "import pandas as pd\n",
    "#\n",
    "from SBMLLint.common.stoichiometry_matrix import StoichiometryMatrix\n",
    "from SBMLLint.games.mesgraph import MESGraph\n",
    "from SBMLLint.games.games_pp import GAMES_PP, SOMStoichiometry, SOMReaction\n",
    "\n",
    "from scipy.linalg import lu, inv"
   ]
  },
  {
   "cell_type": "code",
   "execution_count": 2,
   "metadata": {},
   "outputs": [
    {
     "name": "stdout",
     "output_type": "stream",
     "text": [
      "SHMT: FH4 + serine -> CH2FH4\n",
      "SHMTr: CH2FH4 -> FH4\n",
      "HCHOtoCH2FH4: FH4 + HCHO -> CH2FH4\n",
      "CH2FH4toHCHO: CH2FH4 -> FH4 + HCHO\n",
      "MTHFR: CH2FH4 + NADPH -> CH3FH4\n",
      "MTR: CH3FH4 + homocysteine -> FH4\n",
      "HCOOHtoCHOFH4: FH4 + formate + ATP -> CHOFH4\n",
      "GARFT: CHOFH4 + GAR -> FGAR + FH4\n",
      "ATIC7: CHOFH4 + AICAR -> FH4\n",
      "MTHFD: CH2FH4 + NADP -> CHOFH4\n",
      "TYMS: CH2FH4 + dUMP -> FH2f\n",
      "DHFReductase: FH2f -> FH4\n",
      "FFH2syn: FH2f -> FFH2\n",
      "ATIC12: FFH2 + AICAR -> FH2f\n",
      "AICARsyn: FGAR -> AICAR\n",
      "FPGS12: MTX1 -> MTX2\n",
      "FPGS23: MTX2 -> MTX3\n",
      "FPGS34: MTX3 -> MTX4\n",
      "FPGS45: MTX4 -> MTX5\n",
      "GGH21: MTX2 -> MTX1\n",
      "GGH32: MTX3 -> MTX2\n",
      "GGH43: MTX4 -> MTX3\n",
      "GGH54: MTX5 -> MTX4\n",
      "RFC: EMTX -> MTX1\n",
      "MTX1on: MTX1 + DHFRf -> MTX1b\n",
      "MTX2on: MTX2 + DHFRf -> MTX2b\n",
      "MTX3on: MTX3 + DHFRf -> MTX3b\n",
      "MTX4on: MTX4 + DHFRf -> MTX4b\n",
      "MTX5on: MTX5 + DHFRf -> MTX5b\n",
      "MTX1off: MTX1b -> MTX1 + DHFRf\n",
      "MTX2off: MTX2b -> MTX2 + DHFRf\n",
      "MTX3off: MTX3b -> MTX3 + DHFRf\n",
      "MTX4off: MTX4b -> MTX4 + DHFRf\n",
      "MTX5off: MTX5b -> MTX5 + DHFRf\n",
      "MTX1deg: MTX1b -> MTX1\n",
      "MTX2deg: MTX2b -> MTX2\n",
      "MTX3deg: MTX3b -> MTX3\n",
      "MTX4deg: MTX4b -> MTX4\n",
      "MTX5deg: MTX5b -> MTX5\n"
     ]
    }
   ],
   "source": [
    "simple = load_file_from_curated_data(18)\n",
    "for r in simple.reactions:\n",
    "  if r.category != cn.REACTION_BOUNDARY:\n",
    "    print(r.makeIdentifier(is_include_kinetics=False))"
   ]
  },
  {
   "cell_type": "code",
   "execution_count": 3,
   "metadata": {},
   "outputs": [
    {
     "name": "stdout",
     "output_type": "stream",
     "text": [
      "We just analyzed the data...\n",
      "Type I error:  [PathComponents(node1='FH4', node2='CH2FH4', reactions=['CH2FH4toHCHO', 'SHMT', 'HCHOtoCH2FH4']), PathComponents(node1='CH2FH4', node2='FH2f', reactions=['TYMS']), PathComponents(node1='FFH2', node2='FH2f', reactions=['ATIC12']), PathComponents(node1='MTX1', node2='MTX1b', reactions=['MTX1off', 'MTX1on']), PathComponents(node1='MTX2', node2='MTX2b', reactions=['MTX2off', 'MTX2on']), PathComponents(node1='MTX3', node2='MTX3b', reactions=['MTX3off', 'MTX3on']), PathComponents(node1='MTX4', node2='MTX4b', reactions=['MTX4off', 'MTX4on']), PathComponents(node1='MTX5', node2='MTX5b', reactions=['MTX5off', 'MTX5on'])]\n",
      "Type II error:  [[{CH3FH4}, {CH2FH4, FFH2, FH2f, FH4}], [{CHOFH4}, {CH2FH4, FFH2, FH2f, FH4}]]\n",
      "Canceling error:  []\n",
      "Echelon error:  [MTHFR: {NADPH} + {homocysteine} -> , HCOOHtoCHOFH4: {ATP} + {formate} + {AICAR, FGAR} -> , MTHFD: {NADP} + {AICAR, FGAR} -> ]\n",
      "Type III error:  []\n",
      "Type I-SOM error:  set()\n"
     ]
    },
    {
     "data": {
      "text/plain": [
       "True"
      ]
     },
     "execution_count": 3,
     "metadata": {},
     "output_type": "execute_result"
    }
   ],
   "source": [
    "m = GAMES_PP(simple)\n",
    "m.analyze()"
   ]
  },
  {
   "cell_type": "code",
   "execution_count": 4,
   "metadata": {},
   "outputs": [
    {
     "data": {
      "text/plain": [
       "CH2FH4toHCHO: CH2FH4 -> FH4 + HCHO; cell * hl * CH2FH4"
      ]
     },
     "execution_count": 4,
     "metadata": {},
     "output_type": "execute_result"
    }
   ],
   "source": [
    "simple.getReaction(\"CH2FH4toHCHO\")"
   ]
  },
  {
   "cell_type": "code",
   "execution_count": 5,
   "metadata": {},
   "outputs": [
    {
     "data": {
      "text/plain": [
       "SHMT: FH4 + serine -> CH2FH4; cell * (Vm * (serine / Km2 / (1 + serine / Km2)) * (FH4 / Km1) / (1 + FH4 / Km1))"
      ]
     },
     "execution_count": 5,
     "metadata": {},
     "output_type": "execute_result"
    }
   ],
   "source": [
    "simple.getReaction(\"SHMT\")"
   ]
  },
  {
   "cell_type": "code",
   "execution_count": 6,
   "metadata": {},
   "outputs": [
    {
     "data": {
      "text/plain": [
       "{CH2FH4, FFH2, FH2f, FH4}"
      ]
     },
     "execution_count": 6,
     "metadata": {},
     "output_type": "execute_result"
    }
   ],
   "source": [
    "m.getNode(simple.getMolecule(\"FH4\"))"
   ]
  },
  {
   "cell_type": "code",
   "execution_count": null,
   "metadata": {},
   "outputs": [],
   "source": []
  }
 ],
 "metadata": {
  "kernelspec": {
   "display_name": "Python 3",
   "language": "python",
   "name": "python3"
  },
  "language_info": {
   "codemirror_mode": {
    "name": "ipython",
    "version": 3
   },
   "file_extension": ".py",
   "mimetype": "text/x-python",
   "name": "python",
   "nbconvert_exporter": "python",
   "pygments_lexer": "ipython3",
   "version": "3.6.8"
  }
 },
 "nbformat": 4,
 "nbformat_minor": 2
}
