{
 "cells": [
  {
   "cell_type": "code",
   "execution_count": 1,
   "metadata": {},
   "outputs": [
    {
     "name": "stdout",
     "output_type": "stream",
     "text": [
      "Current Directory: /Users/woosubshin/Desktop/ModelEngineering/SBMLLint/notebook\n"
     ]
    }
   ],
   "source": [
    "from games_setup import *\n",
    "from SBMLLint.common import constants as cn\n",
    "from SBMLLint.common.molecule import Molecule, MoleculeStoichiometry\n",
    "from SBMLLint.common.reaction import Reaction\n",
    "from SBMLLint.games.som import SOM\n",
    "from SBMLLint.common.simple_sbml import SimpleSBML\n",
    "\n",
    "import collections\n",
    "import itertools\n",
    "import networkx as nx\n",
    "import numpy as np\n",
    "import pandas as pd\n",
    "#\n",
    "from SBMLLint.common.stoichiometry_matrix import StoichiometryMatrix\n",
    "from SBMLLint.games.mesgraph import MESGraph\n",
    "from SBMLLint.games.games_pp import GAMES_PP, SOMStoichiometry, SOMReaction, TOLERANCE\n",
    "from SBMLLint.games.games_report import GAMESReport, SimplifiedReaction\n",
    "\n",
    "ReactionOperation = collections.namedtuple(\"ReactionOperation\", \n",
    "    \"reaction operation\")"
   ]
  },
  {
   "cell_type": "code",
   "execution_count": 2,
   "metadata": {},
   "outputs": [
    {
     "name": "stdout",
     "output_type": "stream",
     "text": [
      "We just analyzed the data...\n",
      "Type I error:  []\n",
      "Type II error:  []\n",
      "Canceling error:  []\n",
      "Echelon error:  [statPhosphorylation:  -> {species_test}]\n",
      "Type III error:  [PstatDimerisation: 2.00 {Pstat_sol} -> 2.00 {Pstat_nuc, stat_nuc, stat_sol}]\n",
      "Type I-SOM error:  set()\n"
     ]
    }
   ],
   "source": [
    "# Model 248 is for canceling error\n",
    "# Model 14/167 for a type three error\n",
    "simple = load_file_from_curated_data(167)\n",
    "# for r in simple.reactions:\n",
    "#   if r.category != cn.REACTION_BOUNDARY:\n",
    "#     print(r.makeIdentifier(is_include_kinetics=False))\n",
    "m = GAMES_PP(simple)\n",
    "m.analyze()\n",
    "gr = GAMESReport(m)"
   ]
  },
  {
   "cell_type": "code",
   "execution_count": 3,
   "metadata": {},
   "outputs": [
    {
     "name": "stdout",
     "output_type": "stream",
     "text": [
      "PstatDimerisation: 2.00 Pstat_sol -> PstatDimer_sol\n",
      "PstatDimerisationNuc: 2.00 Pstat_nuc -> PstatDimer_nuc\n"
     ]
    }
   ],
   "source": [
    "# print(m.getNode(simple.getMolecule(\"K_RAFP_3_1\")))\n",
    "# print(m.getNode(simple.getMolecule(\"K_3_0\")))\n",
    "print(simple.getReaction(\"PstatDimerisation\").makeIdentifier(is_include_kinetics=False))\n",
    "print(simple.getReaction(\"PstatDimerisationNuc\").makeIdentifier(is_include_kinetics=False))"
   ]
  },
  {
   "cell_type": "code",
   "execution_count": 4,
   "metadata": {},
   "outputs": [
    {
     "name": "stdout",
     "output_type": "stream",
     "text": [
      "inferred som reaction Inferred Reaction:  -> {species_test}\n",
      "\n",
      "The following mass imbalance\n",
      "Inferred Reaction:  -> species_test\n",
      "\n",
      "was inferred from the reactions below:\n",
      "\n",
      "PstatDimerisation: 2.00 Pstat_sol -> PstatDimer_sol\n",
      "statPhosphorylation: stat_sol -> Pstat_sol + species_test\n",
      "PstatDimerisationNuc: 2.00 Pstat_nuc -> PstatDimer_nuc\n",
      "\n",
      "**************************************************\n",
      "--------------------------------------------------\n",
      "\n"
     ]
    }
   ],
   "source": [
    "echelon_report = gr.reportEchelonError(m.echelon_errors)\n",
    "print(echelon_report)"
   ]
  },
  {
   "cell_type": "code",
   "execution_count": 5,
   "metadata": {},
   "outputs": [
    {
     "name": "stdout",
     "output_type": "stream",
     "text": [
      "\n",
      "From the reactions,\n",
      "PstatDimerisation: 2.00 Pstat_sol -> PstatDimer_sol\n",
      "PstatDimerisationNuc: 2.00 Pstat_nuc -> PstatDimer_nuc\n",
      "PstatDimer__import: PstatDimer_sol -> PstatDimer_nuc\n",
      "\n",
      "We can infer equality by the following uni-uni reaction\n",
      "Inferred Reaction: 2.00 Pstat_sol -> 2.00 Pstat_nuc\n",
      "\n",
      "However, the following reaction indicates inequality.\n",
      "{Pstat_sol} < {Pstat_nuc, stat_nuc, stat_sol}\n",
      "statPhosphorylation: stat_sol -> Pstat_sol + species_test\n",
      "**************************************************\n",
      "--------------------------------------------------\n",
      "\n",
      "\n"
     ]
    }
   ],
   "source": [
    "op, report = gr.reportTypeThreeError(m.type_three_errors)\n",
    "print(report)"
   ]
  },
  {
   "cell_type": "code",
   "execution_count": 26,
   "metadata": {},
   "outputs": [
    {
     "name": "stdout",
     "output_type": "stream",
     "text": [
      "['PstatDimerisation', 'PstatDimerisationNuc']\n",
      "PstatDimerisation: 2.00 {Pstat_sol} -> {PstatDimer_nuc, PstatDimer_sol}\n",
      "PstatDimerisationNuc: 2.00 {Pstat_nuc, stat_nuc, stat_sol} -> {PstatDimer_nuc, PstatDimer_sol}\n"
     ]
    },
    {
     "data": {
      "text/plain": [
       "{{PstatDimer_nuc, PstatDimer_sol}}"
      ]
     },
     "execution_count": 26,
     "metadata": {},
     "output_type": "execute_result"
    }
   ],
   "source": [
    "# get common soms\n",
    "print(reactions)\n",
    "soms = set(m.nodes)\n",
    "for r in reactions:\n",
    "  reaction = simple.getReaction(r)\n",
    "  som_reaction = m.convertReactionToSOMReaction(reaction)\n",
    "  print(som_reaction)\n",
    "  reactant_soms = {r.som for r in som_reaction.reactants}\n",
    "  product_soms = {p.som for p in som_reaction.products}\n",
    "  reaction_soms = reactant_soms.union(product_soms)\n",
    "  soms = soms.intersection(reaction_soms)\n",
    "soms"
   ]
  },
  {
   "cell_type": "code",
   "execution_count": 32,
   "metadata": {},
   "outputs": [
    {
     "name": "stdout",
     "output_type": "stream",
     "text": [
      "{PstatDimer__import: PstatDimer_sol -> PstatDimer_nuc; PstatDimer_impMax * PstatDimer_sol * (1 / (Kpsd_imp + PstatDimer_sol)) * nm}\n"
     ]
    }
   ],
   "source": [
    "print(list(soms)[0].reactions)"
   ]
  },
  {
   "cell_type": "code",
   "execution_count": 27,
   "metadata": {},
   "outputs": [],
   "source": [
    "def getMoleculeLinkage(self, som_name, reactions):\n",
    "  \"\"\"\n",
    "  Create two lists. \n",
    "  1. molecules in the reactions that are in the same som\n",
    "  2. reactions used to merge the molecules\n",
    "  :param str som_name:\n",
    "  :param list-str reactions:\n",
    "  :return list-str: linked_molecules\n",
    "  :return list-str: linked_reactions\n",
    "  \"\"\"\n",
    "  som = self.findSOM(som_name)\n",
    "  molecules = {m.name for m in som.molecules}\n",
    "  # linked_molecules: molecules within both the SOM and given reactions\n",
    "  linked_molecules = set()\n",
    "  for r in reactions:\n",
    "    reaction = self.mesgraph.simple.getReaction(r)\n",
    "    reactants = {m.molecule.name for m in reaction.reactants}\n",
    "    products = {m.molecule.name for m in reaction.products}\n",
    "    reaction_molecules = reactants.union(products)\n",
    "    #\n",
    "    som_molecules = molecules.intersection(reaction_molecules)\n",
    "    linked_molecules = linked_molecules.union(som_molecules)\n",
    "  linked_reactions = []\n",
    "  for sr in som.reactions:\n",
    "    sreactants = {m.molecule.name for m in sr.reactants}\n",
    "    sproducts = {m.molecule.name for m in sr.products}\n",
    "    if sreactants.intersection(linked_molecules) and \\\n",
    "        sproducts.intersection(linked_molecules):\n",
    "      linked_reactions.append(sr.label)\n",
    "  return list(linked_molecules), linked_reactions"
   ]
  },
  {
   "cell_type": "code",
   "execution_count": 18,
   "metadata": {},
   "outputs": [
    {
     "name": "stdout",
     "output_type": "stream",
     "text": [
      "['Pstat_sol']\n",
      "[]\n"
     ]
    }
   ],
   "source": [
    "reactions = [ro.reaction for ro in op]\n",
    "som = m.getNode(simple.getMolecule(\"Pstat_sol\"))\n",
    "\n",
    "a, b = gr.getMoleculeLinkage(som.identifier,reactions)\n",
    "print(a)\n",
    "print(b)"
   ]
  },
  {
   "cell_type": "code",
   "execution_count": 88,
   "metadata": {},
   "outputs": [
    {
     "name": "stdout",
     "output_type": "stream",
     "text": [
      "reactants is [Pstat_sol *  2.00, PstatDimer_nuc *  1.00]\n",
      "products is [Pstat_nuc *  2.00, PstatDimer_sol *  1.00]\n"
     ]
    },
    {
     "data": {
      "text/plain": [
       "Pstat_nuc         2.0\n",
       "PstatDimer_sol    1.0\n",
       "Pstat_sol        -2.0\n",
       "PstatDimer_nuc   -1.0\n",
       "dtype: float64"
      ]
     },
     "execution_count": 88,
     "metadata": {},
     "output_type": "execute_result"
    }
   ],
   "source": [
    "reactants = []\n",
    "products = []\n",
    "for ms in inferred_reaction.iteritems():\n",
    "#   element = MoleculeStoichiometry(molecule=simple.getMolecule(ms[0]),\n",
    "#                                  stoichiometry=ms[1])\n",
    "  if ms[1] > 0:\n",
    "    products.append(MoleculeStoichiometry(molecule=simple.getMolecule(ms[0]),\n",
    "                                 stoichiometry=ms[1]))\n",
    "  else:\n",
    "    reactants.append(MoleculeStoichiometry(molecule=simple.getMolecule(ms[0]),\n",
    "                                 stoichiometry=abs(ms[1])))\n",
    "print(\"reactants is\", reactants)\n",
    "print(\"products is\", products)\n",
    "inferred_reaction"
   ]
  },
  {
   "cell_type": "code",
   "execution_count": 89,
   "metadata": {},
   "outputs": [
    {
     "data": {
      "text/plain": [
       "{species_test}->{Pstat_nuc, stat_nuc, stat_sol}\n",
       "{Pstat_sol}->{Pstat_nuc, stat_nuc, stat_sol}\n",
       "{Pstat_sol}->{PstatDimer_nuc, PstatDimer_sol}\n",
       "{Pstat_nuc, stat_nuc, stat_sol}->{PstatDimer_nuc, PstatDimer_sol}"
      ]
     },
     "execution_count": 89,
     "metadata": {},
     "output_type": "execute_result"
    }
   ],
   "source": [
    "m"
   ]
  },
  {
   "cell_type": "code",
   "execution_count": 90,
   "metadata": {},
   "outputs": [
    {
     "data": {
      "text/plain": [
       "{{Pstat_sol}}"
      ]
     },
     "execution_count": 90,
     "metadata": {},
     "output_type": "execute_result"
    }
   ],
   "source": [
    "{m.getNode(r.molecule) for r in sr.reactants}"
   ]
  },
  {
   "cell_type": "code",
   "execution_count": 91,
   "metadata": {},
   "outputs": [
    {
     "name": "stdout",
     "output_type": "stream",
     "text": [
      "inferred_reaction: 2.00 Pstat_sol + PstatDimer_nuc -> 2.00 Pstat_nuc + PstatDimer_sol\n",
      "soms is {PstatDimer_nuc, PstatDimer_sol}\n",
      "reactants_in is deque([PstatDimer_nuc *  1.00])\n",
      "reactants_out is [Pstat_sol *  2.00]\n",
      "products_in is deque([PstatDimer_sol *  1.00])\n",
      "products_out is [Pstat_nuc *  2.00]\n",
      "inferred_reaction: 2.00 Pstat_sol -> 2.00 Pstat_nuc\n"
     ]
    }
   ],
   "source": [
    "sr = SimplifiedReaction(reactants, products, 'inferred_reaction', mesgraph=m)\n",
    "print(sr.identifier)\n",
    "sr.reduceBySOMs()\n",
    "print(sr.identifier)"
   ]
  },
  {
   "cell_type": "code",
   "execution_count": 71,
   "metadata": {},
   "outputs": [
    {
     "data": {
      "text/plain": [
       "[PstatDimer_sol *  2.00, Pstat_nuc *  2.00]"
      ]
     },
     "execution_count": 71,
     "metadata": {},
     "output_type": "execute_result"
    }
   ],
   "source": [
    "sr.products"
   ]
  },
  {
   "cell_type": "code",
   "execution_count": null,
   "metadata": {},
   "outputs": [],
   "source": [
    "# cancel reaction over reactants"
   ]
  },
  {
   "cell_type": "code",
   "execution_count": 11,
   "metadata": {},
   "outputs": [
    {
     "name": "stdout",
     "output_type": "stream",
     "text": [
      "{Pstat_sol}\n",
      "<class 'SBMLLint.games.som.SOM'>\n",
      "{Pstat_sol}\n"
     ]
    }
   ],
   "source": [
    "mole = simple.getMolecule(\"Pstat_sol\")\n",
    "som = gr.findSOM(mole)\n",
    "print(som)\n",
    "print(type(som))\n",
    "print(som.makeId())"
   ]
  },
  {
   "cell_type": "code",
   "execution_count": 21,
   "metadata": {},
   "outputs": [
    {
     "data": {
      "text/plain": [
       "'{Pstat_sol}'"
      ]
     },
     "execution_count": 21,
     "metadata": {},
     "output_type": "execute_result"
    }
   ],
   "source": [
    "som.identifier"
   ]
  },
  {
   "cell_type": "code",
   "execution_count": 18,
   "metadata": {},
   "outputs": [
    {
     "name": "stdout",
     "output_type": "stream",
     "text": [
      "[{Pstat_sol}]\n",
      "[{Pstat_nuc, stat_nuc, stat_sol}]\n",
      "True\n",
      "False\n"
     ]
    }
   ],
   "source": [
    "reactant_som = type3_error.reactants[0].som\n",
    "product_som = type3_error.products[0].som\n",
    "print(reactant_soms)\n",
    "print(product_soms)\n",
    "print(m.has_edge(reactant_som, product_som))\n",
    "print(m.has_edge(product_som, reactant_som))"
   ]
  },
  {
   "cell_type": "code",
   "execution_count": 8,
   "metadata": {},
   "outputs": [
    {
     "name": "stdout",
     "output_type": "stream",
     "text": [
      "--------------------------------------------------\n",
      "\n"
     ]
    }
   ],
   "source": [
    "canceling_error_report = gr.reportCancelingError(m.canceling_errors)\n",
    "print(canceling_error_report)"
   ]
  },
  {
   "cell_type": "code",
   "execution_count": 7,
   "metadata": {},
   "outputs": [
    {
     "name": "stdout",
     "output_type": "stream",
     "text": [
      "model 167  has type III error!\n"
     ]
    }
   ],
   "source": [
    "# this will test which model has which error;;\n",
    "for i in range(1, 704):\n",
    "  try:\n",
    "    simple = load_file_from_curated_data(i)\n",
    "    m = GAMES_PP(simple)\n",
    "    m.analyze(error_details=False)\n",
    "    if m.type_three_errors:\n",
    "      print(\"model\", i, \" has type III error!\")\n",
    "      break\n",
    "  except:\n",
    "    pass"
   ]
  },
  {
   "cell_type": "code",
   "execution_count": 47,
   "metadata": {},
   "outputs": [
    {
     "data": {
      "text/plain": [
       "[]"
      ]
     },
     "execution_count": 47,
     "metadata": {},
     "output_type": "execute_result"
    }
   ],
   "source": [
    "m.type_one_errors"
   ]
  },
  {
   "cell_type": "code",
   "execution_count": 4,
   "metadata": {},
   "outputs": [
    {
     "name": "stdout",
     "output_type": "stream",
     "text": [
      "\n",
      "FH4 = CH2FH4 by reaction(s):\n",
      "SHMTr: CH2FH4 -> FH4\n",
      "\n",
      "However, FH4 < CH2FH4 by reaction(s):\n",
      "CH2FH4toHCHO: CH2FH4 -> FH4 + HCHO\n",
      "SHMT: FH4 + serine -> CH2FH4\n",
      "HCHOtoCH2FH4: FH4 + HCHO -> CH2FH4\n",
      "**************************************************\n",
      "\n",
      "CH2FH4 = FH4 by reaction(s):\n",
      "SHMTr: CH2FH4 -> FH4\n",
      "\n",
      "FH4 = FH2f by reaction(s):\n",
      "DHFReductase: FH2f -> FH4\n",
      "\n",
      "However, CH2FH4 < FH2f by reaction(s):\n",
      "TYMS: CH2FH4 + dUMP -> FH2f\n",
      "**************************************************\n",
      "\n",
      "FFH2 = FH2f by reaction(s):\n",
      "FFH2syn: FH2f -> FFH2\n",
      "\n",
      "However, FFH2 < FH2f by reaction(s):\n",
      "ATIC12: FFH2 + AICAR -> FH2f\n",
      "**************************************************\n",
      "\n",
      "MTX1 = MTX1b by reaction(s):\n",
      "MTX1deg: MTX1b -> MTX1\n",
      "\n",
      "However, MTX1 < MTX1b by reaction(s):\n",
      "MTX1off: MTX1b -> MTX1 + DHFRf\n",
      "MTX1on: MTX1 + DHFRf -> MTX1b\n",
      "**************************************************\n",
      "\n",
      "MTX2 = MTX2b by reaction(s):\n",
      "MTX2deg: MTX2b -> MTX2\n",
      "\n",
      "However, MTX2 < MTX2b by reaction(s):\n",
      "MTX2off: MTX2b -> MTX2 + DHFRf\n",
      "MTX2on: MTX2 + DHFRf -> MTX2b\n",
      "**************************************************\n",
      "\n",
      "MTX3 = MTX3b by reaction(s):\n",
      "MTX3deg: MTX3b -> MTX3\n",
      "\n",
      "However, MTX3 < MTX3b by reaction(s):\n",
      "MTX3off: MTX3b -> MTX3 + DHFRf\n",
      "MTX3on: MTX3 + DHFRf -> MTX3b\n",
      "**************************************************\n",
      "\n",
      "MTX4 = MTX4b by reaction(s):\n",
      "MTX4deg: MTX4b -> MTX4\n",
      "\n",
      "However, MTX4 < MTX4b by reaction(s):\n",
      "MTX4off: MTX4b -> MTX4 + DHFRf\n",
      "MTX4on: MTX4 + DHFRf -> MTX4b\n",
      "**************************************************\n",
      "\n",
      "MTX5 = MTX5b by reaction(s):\n",
      "MTX5deg: MTX5b -> MTX5\n",
      "\n",
      "However, MTX5 < MTX5b by reaction(s):\n",
      "MTX5off: MTX5b -> MTX5 + DHFRf\n",
      "MTX5on: MTX5 + DHFRf -> MTX5b\n",
      "**************************************************\n",
      "--------------------------------------------------\n",
      "\n"
     ]
    }
   ],
   "source": [
    "gr = GAMESReport(m)\n",
    "print(gr.reportTypeOneError(m.type_one_errors))"
   ]
  },
  {
   "cell_type": "code",
   "execution_count": 5,
   "metadata": {},
   "outputs": [
    {
     "data": {
      "text/plain": [
       "[[{CHOFH4}, {CH2FH4, FFH2, FH2f, FH4}], [{CH3FH4}, {CH2FH4, FFH2, FH2f, FH4}]]"
      ]
     },
     "execution_count": 5,
     "metadata": {},
     "output_type": "execute_result"
    }
   ],
   "source": [
    "m.type_two_errors"
   ]
  },
  {
   "cell_type": "code",
   "execution_count": 6,
   "metadata": {},
   "outputs": [
    {
     "name": "stdout",
     "output_type": "stream",
     "text": [
      "\n",
      "CHOFH4 < FH4 by\n",
      "ATIC7: CHOFH4 + AICAR -> FH4\n",
      "\n",
      "FH4 < CHOFH4 by\n",
      "HCOOHtoCHOFH4: FH4 + formate + ATP -> CHOFH4\n",
      "\n",
      "CH2FH4 < CHOFH4 by\n",
      "MTHFD: CH2FH4 + NADP -> CHOFH4\n",
      "\n",
      "FH4 = CH2FH4 by\n",
      "SHMTr: CH2FH4 -> FH4\n",
      "**************************************************\n",
      "\n",
      "\n",
      "CH3FH4 < FH4 by\n",
      "MTR: CH3FH4 + homocysteine -> FH4\n",
      "\n",
      "CH2FH4 < CH3FH4 by\n",
      "MTHFR: CH2FH4 + NADPH -> CH3FH4\n",
      "\n",
      "FH4 = CH2FH4 by\n",
      "SHMTr: CH2FH4 -> FH4\n",
      "**************************************************\n",
      "\n",
      "\n",
      "--------------------------------------------------\n",
      "\n"
     ]
    }
   ],
   "source": [
    "type_two_report = gr.reportTypeTwoError(m.type_two_errors)\n",
    "print(type_two_report)"
   ]
  },
  {
   "cell_type": "code",
   "execution_count": 8,
   "metadata": {},
   "outputs": [
    {
     "name": "stdout",
     "output_type": "stream",
     "text": [
      "\n",
      "The following reactions create a mass imbalance:\n",
      "\n",
      "HCOOHtoCHOFH4: FH4 + formate + ATP -> CHOFH4\n",
      "ATIC7: CHOFH4 + AICAR -> FH4\n",
      "\n",
      "->->->->->->->->->->->->->->->->->->->->->->->->->\n",
      "FH4 is a common element in the reactions above.\n",
      "<-<-<-<-<-<-<-<-<-<-<-<-<-<-<-<-<-<-<-<-<-<-<-<-<-\n",
      "\n",
      "->->->->->->->->->->->->->->->->->->->->->->->->->\n",
      "CHOFH4 is a common element in the reactions above.\n",
      "<-<-<-<-<-<-<-<-<-<-<-<-<-<-<-<-<-<-<-<-<-<-<-<-<-\n",
      "\n",
      "**************************************************\n",
      "\n",
      "The following reactions create a mass imbalance:\n",
      "\n",
      "MTHFD: CH2FH4 + NADP -> CHOFH4\n",
      "ATIC7: CHOFH4 + AICAR -> FH4\n",
      "\n",
      "->->->->->->->->->->->->->->->->->->->->->->->->->\n",
      "The following molecules,\n",
      "CH2FH4\n",
      "FH4\n",
      "Have equal mass by the following reaction(s).\n",
      "SHMTr: CH2FH4 -> FH4\n",
      "<-<-<-<-<-<-<-<-<-<-<-<-<-<-<-<-<-<-<-<-<-<-<-<-<-\n",
      "\n",
      "->->->->->->->->->->->->->->->->->->->->->->->->->\n",
      "CHOFH4 is a common element in the reactions above.\n",
      "<-<-<-<-<-<-<-<-<-<-<-<-<-<-<-<-<-<-<-<-<-<-<-<-<-\n",
      "\n",
      "**************************************************\n",
      "--------------------------------------------------\n",
      "\n"
     ]
    }
   ],
   "source": [
    "echelon_report = gr.reportEchelonError(m.echelon_errors)\n",
    "print(echelon_report)"
   ]
  },
  {
   "cell_type": "code",
   "execution_count": 9,
   "metadata": {},
   "outputs": [
    {
     "name": "stdout",
     "output_type": "stream",
     "text": [
      "pairs:\n",
      "{CHOFH4} {CH2FH4, FFH2, FH2f, FH4}\n",
      "ATIC7: CHOFH4 + AICAR -> FH4\n",
      "pairs:\n",
      "{CH2FH4, FFH2, FH2f, FH4} {CHOFH4}\n",
      "HCOOHtoCHOFH4: FH4 + formate + ATP -> CHOFH4\n",
      "MTHFD: CH2FH4 + NADP -> CHOFH4\n"
     ]
    },
    {
     "data": {
      "text/plain": [
       "[PathComponents(node1=['CHOFH4'], node2=['FH4'], reactions=['ATIC7']),\n",
       " PathComponents(node1=['FH4', 'CH2FH4'], node2=['CHOFH4', 'CHOFH4'], reactions=['HCOOHtoCHOFH4', 'MTHFD'])]"
      ]
     },
     "execution_count": 9,
     "metadata": {},
     "output_type": "execute_result"
    }
   ],
   "source": [
    "error_cycle = []\n",
    "cycle = m.type_two_errors[0]\n",
    "cycle2 = cycle[1:] + [cycle[0]]\n",
    "for first, second in zip(cycle, cycle2):\n",
    "  print(\"pairs:\")\n",
    "  print(first, second)\n",
    "  som1_moles = {m.name for m in list(first.molecules)}\n",
    "  som2_moles = {m.name for m in list(second.molecules)}\n",
    "  reaction_data = m.get_edge_data(first, second)[cn.REACTION]\n",
    "  nodes1 = []\n",
    "  nodes2 = []\n",
    "  reaction_labels = []  \n",
    "  for r in reaction_data:\n",
    "    reaction = simple.getReaction(r)\n",
    "    print(reaction.makeIdentifier(is_include_kinetics=False))  \n",
    "    if reaction.category == cn.REACTION_n_1:\n",
    "      sources = {r.molecule.name for r in reaction.reactants}\n",
    "      destinations = {p.molecule.name for p in reaction.products}\n",
    "    elif reaction.category == cn.REACTION_1_n:\n",
    "      sources = {p.molecule.name for p in reaction.products}\n",
    "      destinations = {r.molecule.name for r in reaction.reactants}\n",
    "    node2 = list(destinations.intersection(som2_moles))[0]\n",
    "    for node1 in list(sources.intersection(som1_moles)):\n",
    "      nodes1.append(node1)\n",
    "      nodes2.append(node2)\n",
    "      reaction_labels.append(reaction.label)\n",
    "  error_cycle.append(cn.PathComponents(node1=nodes1, \n",
    "                                     node2=nodes2,\n",
    "                                     reactions=reaction_labels))\n",
    "error_cycle"
   ]
  },
  {
   "cell_type": "code",
   "execution_count": 13,
   "metadata": {},
   "outputs": [],
   "source": [
    "  def getSOMPath(som, molecule1, molecule2):\n",
    "    \"\"\"\n",
    "    Create an undirected graph between\n",
    "    two molecules within a SOM\n",
    "    and find the shortest path\n",
    "    :param SOM som:\n",
    "    :param str mole1:\n",
    "    :param str mole2:\n",
    "    :return list-PathComponents som_path:\n",
    "    \"\"\"   \n",
    "#     molecule1 = mole1.name\n",
    "#     molecule2 = mole2.name\n",
    "    # construct undirected graph\n",
    "    subg = nx.Graph()\n",
    "    # here, every reaction is 1-1 reaction\n",
    "    for reaction in list(som.reactions):\n",
    "      node1 = reaction.reactants[0].molecule.name\n",
    "      node2 = reaction.products[0].molecule.name\n",
    "      if subg.has_edge(node1, node2):\n",
    "        reaction_label = subg.get_edge_data(node1, node2)[cn.REACTION]\n",
    "        # if reaction.label is not already included in the attribute,\n",
    "        if reaction.label not in set(reaction_label):\n",
    "          reaction_label = reaction_label + [reaction.label]\n",
    "      else:\n",
    "        reaction_label = [reaction.label]    \n",
    "      subg.add_edge(node1, node2, reaction=reaction_label)\n",
    "    path = [short_p for short_p in nx.shortest_path(subg, \n",
    "                                                    source=molecule1, \n",
    "                                                    target=molecule2)]\n",
    "    som_path = []\n",
    "    for idx in range(len(path)-1):\n",
    "      edge_reactions = subg.get_edge_data(path[idx], path[idx+1])[cn.REACTION]\n",
    "      som_path.append(cn.PathComponents(node1=path[idx], \n",
    "                                     node2=path[idx+1],\n",
    "                                     reactions=edge_reactions))\n",
    "    return som_path"
   ]
  },
  {
   "cell_type": "code",
   "execution_count": 15,
   "metadata": {},
   "outputs": [
    {
     "data": {
      "text/plain": [
       "[PathComponents(node1=['CHOFH4'], node2=['FH4'], reactions=['ATIC7']),\n",
       " PathComponents(node1=['FH4', 'CH2FH4'], node2=['CHOFH4', 'CHOFH4'], reactions=['HCOOHtoCHOFH4', 'MTHFD'])]"
      ]
     },
     "execution_count": 15,
     "metadata": {},
     "output_type": "execute_result"
    }
   ],
   "source": [
    "error_cycle"
   ]
  },
  {
   "cell_type": "code",
   "execution_count": 26,
   "metadata": {},
   "outputs": [
    {
     "data": {
      "text/plain": [
       "{'FH4'}"
      ]
     },
     "execution_count": 26,
     "metadata": {},
     "output_type": "execute_result"
    }
   ],
   "source": [
    "set(error_cycle[0].node2).intersection(set(error_cycle[1].node1))"
   ]
  },
  {
   "cell_type": "code",
   "execution_count": 32,
   "metadata": {},
   "outputs": [
    {
     "name": "stdout",
     "output_type": "stream",
     "text": [
      "CHOFH4 < FH4 by ATIC7\n",
      "ATIC7: CHOFH4 + AICAR -> FH4\n",
      "\n",
      "**Already havce common molecules {'FH4'}\n",
      "FH4 < CHOFH4 by HCOOHtoCHOFH4\n",
      "HCOOHtoCHOFH4: FH4 + formate + ATP -> CHOFH4\n",
      "\n",
      "CH2FH4 < CHOFH4 by MTHFD\n",
      "MTHFD: CH2FH4 + NADP -> CHOFH4\n",
      "\n",
      "node pairs whose equality needs to be examined\n",
      "FH4 CH2FH4\n",
      "som_path is: \n",
      "[PathComponents(node1='FH4', node2='CH2FH4', reactions=['SHMTr'])]\n"
     ]
    }
   ],
   "source": [
    "last_node = None\n",
    "for one_path in error_cycle:\n",
    "  comb = zip(one_path.node1, one_path.node2, one_path.reactions)\n",
    "  if last_node is not None:\n",
    "    common_molecules = last_node.intersection(set(one_path.node1))\n",
    "    if common_molecules:\n",
    "      print(\"**Already havce common molecules\", common_molecules)\n",
    "    else:\n",
    "      print(\"**need to find path between: \", last_node, one_path.node1)\n",
    "  last_node = set(one_path.node2)\n",
    "  for tup in comb:\n",
    "    print(tup[0], cn.LESSTHAN, tup[1], \"by\", tup[2])\n",
    "    print(simple.getReaction(tup[2]).makeIdentifier(is_include_kinetics=False))\n",
    "    print(\"\")\n",
    "  if len(one_path.node1) > 1:\n",
    "    for node1, node2 in zip(one_path.node1, one_path.node1[1:]):\n",
    "      print(\"node pairs whose equality needs to be examined\")\n",
    "      print(node1, node2)\n",
    "      mole1 = simple.getMolecule(node1)\n",
    "      mole2 = simple.getMolecule(node2)\n",
    "      som = m.getNode(mole1)\n",
    "      som_path = getSOMPath(som, node1, node2)\n",
    "      print(\"som_path is: \", )\n",
    "      print(som_path)"
   ]
  },
  {
   "cell_type": "code",
   "execution_count": null,
   "metadata": {},
   "outputs": [],
   "source": []
  },
  {
   "cell_type": "code",
   "execution_count": null,
   "metadata": {},
   "outputs": [],
   "source": []
  },
  {
   "cell_type": "code",
   "execution_count": 77,
   "metadata": {},
   "outputs": [
    {
     "data": {
      "text/plain": [
       "[('FH4', 'CHOFH4', 'HCOOHtoCHOFH4'), ('CH2FH4', 'CHOFH4', 'MTHFD')]"
      ]
     },
     "execution_count": 77,
     "metadata": {},
     "output_type": "execute_result"
    }
   ],
   "source": [
    "list(zip(error_cycle[0].node1, error_cycle[0].node2, error_cycle[0].reactions))"
   ]
  },
  {
   "cell_type": "code",
   "execution_count": 41,
   "metadata": {},
   "outputs": [
    {
     "data": {
      "text/plain": [
       "[{CH2FH4, FFH2, FH2f, FH4}, {CHOFH4}]"
      ]
     },
     "execution_count": 41,
     "metadata": {},
     "output_type": "execute_result"
    }
   ],
   "source": [
    "cycle[1:] + [cycle[0]]"
   ]
  },
  {
   "cell_type": "code",
   "execution_count": 9,
   "metadata": {},
   "outputs": [
    {
     "data": {
      "text/plain": [
       "Index(['{homocysteine}', '{formate}', '{NADPH}', '{GAR}', '{ATP}', '{CH3FH4}',\n",
       "       '{DHFRf}', '{HCHO}', '{NADP}', '{dUMP}', '{serine}', '{CHOFH4}',\n",
       "       '{CH2FH4, FFH2, FH2f, FH4}', '{AICAR, FGAR}',\n",
       "       '{EMTX, MTX1, MTX1b, MTX2, MTX2b, MTX3, MTX3b, MTX4, MTX4b, MTX5, MTX5b}'],\n",
       "      dtype='object')"
      ]
     },
     "execution_count": 9,
     "metadata": {},
     "output_type": "execute_result"
    }
   ],
   "source": [
    "gr.mesgraph.som_stoichiometry_matrix.index"
   ]
  },
  {
   "cell_type": "code",
   "execution_count": 7,
   "metadata": {},
   "outputs": [
    {
     "name": "stdout",
     "output_type": "stream",
     "text": [
      "HCOOHtoCHOFH4: {formate} + {ATP} + {CH2FH4, FFH2, FH2f, FH4} -> {CHOFH4}\n",
      "ATIC7: {CHOFH4} + {AICAR, FGAR} -> {CH2FH4, FFH2, FH2f, FH4}\n"
     ]
    }
   ],
   "source": [
    "print(m.convertReactionToSOMReaction(simple.getReaction(\"HCOOHtoCHOFH4\")))\n",
    "print(m.convertReactionToSOMReaction(simple.getReaction(\"ATIC7\")))"
   ]
  },
  {
   "cell_type": "code",
   "execution_count": 9,
   "metadata": {},
   "outputs": [
    {
     "name": "stdout",
     "output_type": "stream",
     "text": [
      "{'CHOFH4'}\n",
      "[]\n"
     ]
    }
   ],
   "source": [
    "a, b = gr.getMoleculeLinkage(\"{CHOFH4}\", [\"ATIC7\"])\n",
    "print(a)\n",
    "print(b)"
   ]
  },
  {
   "cell_type": "code",
   "execution_count": 13,
   "metadata": {},
   "outputs": [
    {
     "name": "stdout",
     "output_type": "stream",
     "text": [
      "{'FH4'}\n",
      "[]\n"
     ]
    }
   ],
   "source": [
    "a, b = gr.getMoleculeLinkage(\"{CH2FH4, FFH2, FH2f, FH4}\", [\"ATIC7\", \"HCOOHtoCHOFH4\"])\n",
    "print(a)\n",
    "print(b)"
   ]
  },
  {
   "cell_type": "code",
   "execution_count": 21,
   "metadata": {},
   "outputs": [
    {
     "data": {
      "text/plain": [
       "MTHFD: {NADP} + {AICAR, FGAR} -> "
      ]
     },
     "execution_count": 21,
     "metadata": {},
     "output_type": "execute_result"
    }
   ],
   "source": [
    "echelon_error = m.echelon_errors[0]\n",
    "echelon_error"
   ]
  },
  {
   "cell_type": "code",
   "execution_count": 124,
   "metadata": {},
   "outputs": [
    {
     "data": {
      "text/plain": [
       "Index(['{NADP}', '{AICAR, FGAR}'], dtype='object')"
      ]
     },
     "execution_count": 124,
     "metadata": {},
     "output_type": "execute_result"
    }
   ],
   "source": [
    "result_row = m.echelon_df[echelon_error.label]\n",
    "nonzero_result_row = result_row[result_row.to_numpy().nonzero()[0]]\n",
    "nonzero_result_row.index"
   ]
  },
  {
   "cell_type": "code",
   "execution_count": 41,
   "metadata": {},
   "outputs": [
    {
     "data": {
      "text/plain": [
       "Index(['ATIC7', 'MTHFD'], dtype='object')"
      ]
     },
     "execution_count": 41,
     "metadata": {},
     "output_type": "execute_result"
    }
   ],
   "source": [
    "if m.rref_df is None:\n",
    "  operation_df = m.lower_inverse\n",
    "else:\n",
    "  operation_df = m.rref_operation.dot(m.lower_inverse)\n",
    "operation_df\n",
    "op_row = operation_df.T[echelon_error.label]\n",
    "nonzero_op_rows = op_row[op_row.to_numpy().nonzero()[0]]\n",
    "nonzero_op_rows.index"
   ]
  },
  {
   "cell_type": "code",
   "execution_count": 49,
   "metadata": {},
   "outputs": [
    {
     "name": "stdout",
     "output_type": "stream",
     "text": [
      "ATIC7: CHOFH4 + AICAR -> FH4\n",
      "ATIC7: {CHOFH4} + {AICAR, FGAR} -> {CH2FH4, FFH2, FH2f, FH4}\n",
      "\n",
      "MTHFD: CH2FH4 + NADP -> CHOFH4\n",
      "MTHFD: {NADP} + {CH2FH4, FFH2, FH2f, FH4} -> {CHOFH4}\n",
      "\n"
     ]
    }
   ],
   "source": [
    "for r in nonzero_op_rows.index:\n",
    "  reaction = simple.getReaction(r)\n",
    "  print(reaction.makeIdentifier(is_include_kinetics=False))\n",
    "  print(m.convertReactionToSOMReaction(reaction))\n",
    "  print()"
   ]
  },
  {
   "cell_type": "code",
   "execution_count": 55,
   "metadata": {},
   "outputs": [
    {
     "name": "stdout",
     "output_type": "stream",
     "text": [
      "Index(['{CHOFH4}', '{CH2FH4, FFH2, FH2f, FH4}', '{AICAR, FGAR}'], dtype='object')\n",
      "Index(['{CHOFH4}', '{NADP}', '{CH2FH4, FFH2, FH2f, FH4}'], dtype='object')\n"
     ]
    }
   ],
   "source": [
    "# find out canceled reactants/products first\n",
    "# meaning, nonzeros that both exist in atic7 and mthfd but not in the result_row\n",
    "atic7_row = m.som_stoichiometry_matrix[nonzero_op_rows.index[0]]\n",
    "mthfd_row = m.som_stoichiometry_matrix[nonzero_op_rows.index[1]]\n",
    "nonzero_atic7_row = atic7_row[atic7_row.to_numpy().nonzero()[0]]\n",
    "nonzero_mthfd_row = mthfd_row[mthfd_row.to_numpy().nonzero()[0]]\n",
    "print(nonzero_atic7_row.index)\n",
    "print(nonzero_mthfd_row.index)"
   ]
  },
  {
   "cell_type": "code",
   "execution_count": 57,
   "metadata": {},
   "outputs": [
    {
     "data": {
      "text/plain": [
       "Index(['{CHOFH4}', '{CH2FH4, FFH2, FH2f, FH4}'], dtype='object')"
      ]
     },
     "execution_count": 57,
     "metadata": {},
     "output_type": "execute_result"
    }
   ],
   "source": [
    "nonzero_atic7_row.index.intersection(nonzero_mthfd_row.index)"
   ]
  },
  {
   "cell_type": "code",
   "execution_count": 123,
   "metadata": {},
   "outputs": [
    {
     "data": {
      "text/plain": [
       "Index(['ATIC7', 'MTHFD'], dtype='object')"
      ]
     },
     "execution_count": 123,
     "metadata": {},
     "output_type": "execute_result"
    }
   ],
   "source": [
    "nonzero_op_rows.index"
   ]
  },
  {
   "cell_type": "code",
   "execution_count": 63,
   "metadata": {},
   "outputs": [
    {
     "name": "stdout",
     "output_type": "stream",
     "text": [
      "Index(['{CH2FH4, FFH2, FH2f, FH4}', '{CHOFH4}'], dtype='object')\n"
     ]
    }
   ],
   "source": [
    "nonzero_elements = m.som_stoichiometry_matrix.index\n",
    "for r in nonzero_op_rows.index:\n",
    "  row = m.som_stoichiometry_matrix[r]\n",
    "  nonzero_elements = nonzero_elements.intersection(row[row.to_numpy().nonzero()[0]].index)\n",
    "# finally, subtract remaining nonzero elements from nonzero_result_row\n",
    "canceled_elements = nonzero_elements.difference(nonzero_result_row.index)\n",
    "print(canceled_elements)"
   ]
  },
  {
   "cell_type": "code",
   "execution_count": 73,
   "metadata": {},
   "outputs": [
    {
     "data": {
      "text/plain": [
       "{CH2FH4, FFH2, FH2f, FH4}"
      ]
     },
     "execution_count": 73,
     "metadata": {},
     "output_type": "execute_result"
    }
   ],
   "source": [
    "def getSOM(som_name):\n",
    "  for node in m.nodes:\n",
    "    if node.identifier == som_name:\n",
    "      return node"
   ]
  },
  {
   "cell_type": "code",
   "execution_count": 77,
   "metadata": {},
   "outputs": [
    {
     "data": {
      "text/plain": [
       "{CHOFH4}"
      ]
     },
     "execution_count": 77,
     "metadata": {},
     "output_type": "execute_result"
    }
   ],
   "source": [
    "som1 = getSOM(canceled_elements[0])\n",
    "som2 = getSOM(canceled_elements[1])"
   ]
  },
  {
   "cell_type": "code",
   "execution_count": 125,
   "metadata": {},
   "outputs": [
    {
     "data": {
      "text/plain": [
       "Index(['ATIC7', 'MTHFD'], dtype='object')"
      ]
     },
     "execution_count": 125,
     "metadata": {},
     "output_type": "execute_result"
    }
   ],
   "source": [
    "nonzero_op_rows.index"
   ]
  },
  {
   "cell_type": "code",
   "execution_count": 121,
   "metadata": {},
   "outputs": [],
   "source": [
    "# this is for each som that were eliminated by matrix operation\n",
    "molecules = {m.name for m in som1.molecules}\n",
    "linked_molecules = set()\n",
    "for r in nonzero_op_rows.index:\n",
    "  reaction = simple.getReaction(r)\n",
    "  reactants = {m.molecule.name for m in reaction.reactants}\n",
    "  products = {m.molecule.name for m in reaction.products}\n",
    "  som_molecules = molecules.intersection(reactants)\n",
    "  som_molecules = som_molecules.union(molecules.intersection(products))\n",
    "  linked_molecules = linked_molecules.union(som_molecules)\n",
    "# now need to path (reactions) between molecules within the linked_molecules\n",
    "linked_reactions = []\n",
    "for sr in som1.reactions:\n",
    "  sreactants = {m.molecule.name for m in sr.reactants}\n",
    "  sproducts = {m.molecule.name for m in sr.products}\n",
    "  if sreactants.intersection(linked_molecules) and \\\n",
    "     sproducts.intersection(linked_molecules):\n",
    "    linked_reactions.append(sr.label)\n",
    "# can generate report that will create equality between molecules -> maximum amount of information"
   ]
  },
  {
   "cell_type": "code",
   "execution_count": 122,
   "metadata": {},
   "outputs": [
    {
     "name": "stdout",
     "output_type": "stream",
     "text": [
      "{'CH2FH4', 'FH4'}\n",
      "['SHMTr']\n"
     ]
    }
   ],
   "source": [
    "print(linked_molecules)\n",
    "print(linked_reactions)"
   ]
  },
  {
   "cell_type": "code",
   "execution_count": 113,
   "metadata": {},
   "outputs": [
    {
     "data": {
      "text/plain": [
       "{DHFReductase: FH2f -> FH4; cell * kter * FH2b,\n",
       " FFH2syn: FH2f -> FFH2; cell * Vm * FH2f,\n",
       " SHMTr: CH2FH4 -> FH4; cell * (Vm * (glycine / Km2 / (1 + glycine / Km2)) * (CH2FH4 / Km1) / (1 + CH2FH4 / Km1))}"
      ]
     },
     "execution_count": 113,
     "metadata": {},
     "output_type": "execute_result"
    }
   ],
   "source": [
    "som1.reactions"
   ]
  },
  {
   "cell_type": "code",
   "execution_count": 120,
   "metadata": {},
   "outputs": [
    {
     "data": {
      "text/plain": [
       "{'FH2f'}"
      ]
     },
     "execution_count": 120,
     "metadata": {},
     "output_type": "execute_result"
    }
   ],
   "source": [
    "sreactants"
   ]
  },
  {
   "cell_type": "code",
   "execution_count": null,
   "metadata": {},
   "outputs": [],
   "source": []
  }
 ],
 "metadata": {
  "kernelspec": {
   "display_name": "Python 3",
   "language": "python",
   "name": "python3"
  },
  "language_info": {
   "codemirror_mode": {
    "name": "ipython",
    "version": 3
   },
   "file_extension": ".py",
   "mimetype": "text/x-python",
   "name": "python",
   "nbconvert_exporter": "python",
   "pygments_lexer": "ipython3",
   "version": "3.6.8"
  }
 },
 "nbformat": 4,
 "nbformat_minor": 2
}
