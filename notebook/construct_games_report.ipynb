{
 "cells": [
  {
   "cell_type": "code",
   "execution_count": 7,
   "metadata": {},
   "outputs": [],
   "source": [
    "from games_setup import *\n",
    "from SBMLLint.common import constants as cn\n",
    "from SBMLLint.common.molecule import Molecule, MoleculeStoichiometry\n",
    "from SBMLLint.common.reaction import Reaction\n",
    "from SBMLLint.games.som import SOM\n",
    "from SBMLLint.common.simple_sbml import SimpleSBML\n",
    "\n",
    "import collections\n",
    "import itertools\n",
    "import networkx as nx\n",
    "import numpy as np\n",
    "import pandas as pd\n",
    "#\n",
    "from SBMLLint.common.stoichiometry_matrix import StoichiometryMatrix\n",
    "from SBMLLint.games.mesgraph import MESGraph\n",
    "from SBMLLint.games.games_pp import GAMES_PP, SOMStoichiometry, SOMReaction, TOLERANCE\n",
    "from SBMLLint.games.games_report import GAMESReport, SimplifiedReaction\n",
    "\n",
    "ReactionOperation = collections.namedtuple(\"ReactionOperation\", \n",
    "    \"reaction operation\")"
   ]
  },
  {
   "cell_type": "code",
   "execution_count": 18,
   "metadata": {},
   "outputs": [
    {
     "name": "stdout",
     "output_type": "stream",
     "text": [
      "We just analyzed the data...\n",
      "Type I error:  []\n",
      "Type II error:  []\n",
      "Canceling error:  []\n",
      "Echelon error:  [reaction_175:  -> {CaMKII}, reaction_369:  -> {CaMKIIp}, reaction_85:  -> {Ca}, reaction_181: {CamR, CamT} -> , reaction_4: 2.00 {CamR_Ca1_A, CamT_Ca1_A} + {CamR_Ca3_ABD_CaMKII, CamR_Ca3_ABD_CaMKIIp} -> , reaction_69: {CamR_Ca1_B, CamT_Ca1_B} + 0.50 {CamR_Ca3_ABD_CaMKII, CamR_Ca3_ABD_CaMKIIp} -> , reaction_86:  -> {CamR_Ca1_C, CamT_Ca1_C}, reaction_71: {CamR_Ca1_D, CamT_Ca1_D} + 0.50 {CamR_Ca3_ABD_CaMKII, CamR_Ca3_ABD_CaMKIIp} -> , reaction_187: {CamR_Ca2_AC, CamT_Ca2_AC} -> , reaction_89: {CamR_Ca2_AD, CamT_Ca2_AD} -> , reaction_183:  -> {CamR_Ca2_BC, CamT_Ca2_BC}, reaction_184:  -> {CamR_Ca2_BD, CamT_Ca2_BD}, reaction_118:  -> {CamR_Ca2_CD, CamT_Ca2_CD}, reaction_186:  -> {CamR_Ca3_ABC, CamT_Ca3_ABC}, reaction_189: {CamR_Ca3_ABD, CamT_Ca3_ABD} -> , reaction_50: {CamR_Ca3_ACD, CamT_Ca3_ACD} -> , reaction_63:  -> {CamR_Ca3_BCD, CamT_Ca3_BCD}, reaction_177:  -> 0.50 {CamR_CaMKII, CamR_CaMKIIp}, reaction_227: {CamR_Ca1_A_CaMKII, CamR_Ca1_A_CaMKIIp} -> , reaction_228:  -> {CamR_Ca1_B_CaMKII, CamR_Ca1_B_CaMKIIp}, reaction_229:  -> {CamR_Ca1_C_CaMKII, CamR_Ca1_C_CaMKIIp}, reaction_266: {CamR_Ca1_D_CaMKII, CamR_Ca1_D_CaMKIIp} -> , reaction_242: {CamR_Ca2_AB_CaMKII, CamR_Ca2_AB_CaMKIIp} -> , reaction_54: {CamR_Ca2_AC_CaMKII, CamR_Ca2_AC_CaMKIIp} -> , reaction_182: {CamR_Ca2_AD_CaMKII, CamR_Ca2_AD_CaMKIIp} -> , reaction_90: {CamR_Ca2_BC_CaMKII, CamR_Ca2_BC_CaMKIIp} -> , reaction_185:  -> {CamR_Ca2_BD_CaMKII, CamR_Ca2_BD_CaMKIIp}, reaction_190: {CamR_Ca2_CD_CaMKII, CamR_Ca2_CD_CaMKIIp} -> , reaction_285:  -> 1.33 {CamR_Ca3_ABC_CaMKII, CamR_Ca3_ABC_CaMKIIp}, reaction_271: 1.25 {CamR_Ca3_ABD_CaMKII, CamR_Ca3_ABD_CaMKIIp} -> , reaction_188: {CamR_Ca3_ACD_CaMKII, CamR_Ca3_ACD_CaMKIIp} -> ]\n",
      "Type III error:  [Ca_dissociating_from_CBP_fast_Ca: {CBPfastCa} -> {CBPfast}, reaction_484: {CamR_Ca2_BD_CaMKIIp_PP1a} -> {PP1a}, reaction_222: {CamR_Ca4_ABCD_PP2B} -> {CamR_Ca3_ACD_PP2B}, Ca_dissociating_from_CBP_media_Ca: {CBPmediaCa} -> {CBPmedia}, reaction_487: {CamR_Ca2_CD_CaMKIIp_PP1a} -> {PP1a}, reaction_490: {CamR_Ca3_ABC_CaMKIIp_PP1a} -> {PP1a}, reaction_460: {CamR_Ca1_A_CaMKIIp_PP1a} -> {PP1a}, reaction_213: {CamR_Ca2_AC_PP2B} -> {CamR_Ca3_ACD_PP2B}, reaction_475: {CamR_Ca2_AC_CaMKIIp_PP1a} -> {PP1a}, reaction_499: {CamR_Ca3_BCD_CaMKIIp_PP1a} -> {PP1a}, reaction_214: {CamR_Ca2_AD_PP2B} -> {CamR_Ca3_ACD_PP2B}, reaction_454: {CaMKIIp_PP1a} -> {PP1a}, reaction_469: {CamR_Ca1_D_CaMKIIp_PP1a} -> {PP1a}, reaction_493: {CamR_Ca3_ABD_CaMKIIp_PP1a} -> {PP1a}, reaction_208: {CamR_Ca3_ACD_PP2B} -> {PP2B}, reaction_478: {CamR_Ca2_AD_CaMKIIp_PP1a} -> {PP1a}, reaction_463: {CamR_Ca1_B_CaMKIIp_PP1a} -> {PP1a}, reaction_502: {CamR_Ca4_ABCD_CaMKIIp_PP1a} -> {PP1a}, CBPslow_Ca_off: {CBPslowCa} -> {CBPslow}, reaction_217: {CamR_Ca2_CD_PP2B} -> {CamR_Ca3_ACD_PP2B}, reaction_472: {CamR_Ca2_AB_CaMKIIp_PP1a} -> {PP1a}, reaction_457: {CamR_CaMKIIp_PP1a} -> {PP1a}, CBPvslow_Ca_off: {CBPvslowCa} -> {CBPvslow}, reaction_496: {CamR_Ca3_ACD_CaMKIIp_PP1a} -> {PP1a}, reaction_481: {CamR_Ca2_BC_CaMKIIp_PP1a} -> {PP1a}, reaction_466: {CamR_Ca1_C_CaMKIIp_PP1a} -> {PP1a}]\n",
      "Type I-SOM error:  set()\n"
     ]
    }
   ],
   "source": [
    "# Model 248 is for canceling error\n",
    "# Model 14/167 for a type three error\n",
    "# Model 87 is for a canceling error\n",
    "# Model 7 for type 1 error\n",
    "# Model 18 for type 2 error\n",
    "simple = load_file_from_curated_data(628)\n",
    "# for r in simple.reactions:\n",
    "#   if r.category != cn.REACTION_BOUNDARY and r.category != cn.REACTION_1_1:\n",
    "#     print(r.makeIdentifier(is_include_kinetics=False))\n",
    "m = GAMES_PP(simple)\n",
    "m.analyze()\n",
    "gr = GAMESReport(m)"
   ]
  },
  {
   "cell_type": "code",
   "execution_count": 17,
   "metadata": {},
   "outputs": [
    {
     "name": "stdout",
     "output_type": "stream",
     "text": [
      "\n",
      "[]\n"
     ]
    }
   ],
   "source": [
    "type2_report, error_num = gr.reportTypeTwoError(m.type_two_errors, explain_details=False)\n",
    "print(type2_report)\n",
    "print(error_num)"
   ]
  },
  {
   "cell_type": "code",
   "execution_count": 12,
   "metadata": {},
   "outputs": [
    {
     "name": "stdout",
     "output_type": "stream",
     "text": [
      "\n",
      "[]\n"
     ]
    }
   ],
   "source": [
    "type1_report, error_num = gr.reportTypeOneError(m.type_one_errors, explain_details=True)\n",
    "print(type1_report)\n",
    "print(error_num)"
   ]
  },
  {
   "cell_type": "code",
   "execution_count": 13,
   "metadata": {},
   "outputs": [
    {
     "name": "stdout",
     "output_type": "stream",
     "text": [
      "\n",
      "[]\n"
     ]
    }
   ],
   "source": [
    "canceling_report, error_num = gr.reportCancelingError(m.canceling_errors, explain_details=True)\n",
    "print(canceling_report)\n",
    "print(error_num)"
   ]
  },
  {
   "cell_type": "code",
   "execution_count": 14,
   "metadata": {},
   "outputs": [
    {
     "name": "stdout",
     "output_type": "stream",
     "text": [
      "\n",
      "\n",
      "[]\n"
     ]
    }
   ],
   "source": [
    "echelon_report, error_num = gr.reportEchelonError(m.echelon_errors)\n",
    "print(echelon_report)\n",
    "detailed_echelon_report, error_num = gr.reportEchelonError(m.echelon_errors, explain_details=True)\n",
    "print(detailed_echelon_report)\n",
    "print(error_num)"
   ]
  },
  {
   "cell_type": "code",
   "execution_count": 15,
   "metadata": {},
   "outputs": [
    {
     "name": "stdout",
     "output_type": "stream",
     "text": [
      "\n",
      "\n",
      "[]\n"
     ]
    }
   ],
   "source": [
    "type3_report, error_num = gr.reportTypeThreeError(m.type_three_errors)\n",
    "print(type3_report)\n",
    "detailed_type3_report, error_num = gr.reportTypeThreeError(m.type_three_errors, explain_details=True)\n",
    "print(detailed_type3_report)\n",
    "print(error_num)"
   ]
  },
  {
   "cell_type": "code",
   "execution_count": null,
   "metadata": {},
   "outputs": [],
   "source": [
    "\"%.2f\" % (3.00)"
   ]
  },
  {
   "cell_type": "code",
   "execution_count": null,
   "metadata": {},
   "outputs": [],
   "source": [
    "# this will test which model has which error;;\n",
    "for i in range(1, 704):\n",
    "  try:\n",
    "    simple = load_file_from_curated_data(i)\n",
    "    m = GAMES_PP(simple)\n",
    "    m.analyze(error_details=False)\n",
    "    if m.type_two_errors:\n",
    "      print(\"model\", i, \" has type II error!\")\n",
    "      break\n",
    "  except:\n",
    "    pass"
   ]
  },
  {
   "cell_type": "code",
   "execution_count": 47,
   "metadata": {},
   "outputs": [
    {
     "data": {
      "text/plain": [
       "[]"
      ]
     },
     "execution_count": 47,
     "metadata": {},
     "output_type": "execute_result"
    }
   ],
   "source": [
    "m.type_one_errors"
   ]
  },
  {
   "cell_type": "code",
   "execution_count": 4,
   "metadata": {},
   "outputs": [
    {
     "name": "stdout",
     "output_type": "stream",
     "text": [
      "\n",
      "FH4 = CH2FH4 by reaction(s):\n",
      "SHMTr: CH2FH4 -> FH4\n",
      "\n",
      "However, FH4 < CH2FH4 by reaction(s):\n",
      "CH2FH4toHCHO: CH2FH4 -> FH4 + HCHO\n",
      "SHMT: FH4 + serine -> CH2FH4\n",
      "HCHOtoCH2FH4: FH4 + HCHO -> CH2FH4\n",
      "**************************************************\n",
      "\n",
      "CH2FH4 = FH4 by reaction(s):\n",
      "SHMTr: CH2FH4 -> FH4\n",
      "\n",
      "FH4 = FH2f by reaction(s):\n",
      "DHFReductase: FH2f -> FH4\n",
      "\n",
      "However, CH2FH4 < FH2f by reaction(s):\n",
      "TYMS: CH2FH4 + dUMP -> FH2f\n",
      "**************************************************\n",
      "\n",
      "FFH2 = FH2f by reaction(s):\n",
      "FFH2syn: FH2f -> FFH2\n",
      "\n",
      "However, FFH2 < FH2f by reaction(s):\n",
      "ATIC12: FFH2 + AICAR -> FH2f\n",
      "**************************************************\n",
      "\n",
      "MTX1 = MTX1b by reaction(s):\n",
      "MTX1deg: MTX1b -> MTX1\n",
      "\n",
      "However, MTX1 < MTX1b by reaction(s):\n",
      "MTX1off: MTX1b -> MTX1 + DHFRf\n",
      "MTX1on: MTX1 + DHFRf -> MTX1b\n",
      "**************************************************\n",
      "\n",
      "MTX2 = MTX2b by reaction(s):\n",
      "MTX2deg: MTX2b -> MTX2\n",
      "\n",
      "However, MTX2 < MTX2b by reaction(s):\n",
      "MTX2off: MTX2b -> MTX2 + DHFRf\n",
      "MTX2on: MTX2 + DHFRf -> MTX2b\n",
      "**************************************************\n",
      "\n",
      "MTX3 = MTX3b by reaction(s):\n",
      "MTX3deg: MTX3b -> MTX3\n",
      "\n",
      "However, MTX3 < MTX3b by reaction(s):\n",
      "MTX3off: MTX3b -> MTX3 + DHFRf\n",
      "MTX3on: MTX3 + DHFRf -> MTX3b\n",
      "**************************************************\n",
      "\n",
      "MTX4 = MTX4b by reaction(s):\n",
      "MTX4deg: MTX4b -> MTX4\n",
      "\n",
      "However, MTX4 < MTX4b by reaction(s):\n",
      "MTX4off: MTX4b -> MTX4 + DHFRf\n",
      "MTX4on: MTX4 + DHFRf -> MTX4b\n",
      "**************************************************\n",
      "\n",
      "MTX5 = MTX5b by reaction(s):\n",
      "MTX5deg: MTX5b -> MTX5\n",
      "\n",
      "However, MTX5 < MTX5b by reaction(s):\n",
      "MTX5off: MTX5b -> MTX5 + DHFRf\n",
      "MTX5on: MTX5 + DHFRf -> MTX5b\n",
      "**************************************************\n",
      "--------------------------------------------------\n",
      "\n"
     ]
    }
   ],
   "source": [
    "gr = GAMESReport(m)\n",
    "print(gr.reportTypeOneError(m.type_one_errors))"
   ]
  },
  {
   "cell_type": "code",
   "execution_count": 5,
   "metadata": {},
   "outputs": [
    {
     "data": {
      "text/plain": [
       "[[{CHOFH4}, {CH2FH4, FFH2, FH2f, FH4}], [{CH3FH4}, {CH2FH4, FFH2, FH2f, FH4}]]"
      ]
     },
     "execution_count": 5,
     "metadata": {},
     "output_type": "execute_result"
    }
   ],
   "source": [
    "m.type_two_errors"
   ]
  },
  {
   "cell_type": "code",
   "execution_count": 6,
   "metadata": {},
   "outputs": [
    {
     "name": "stdout",
     "output_type": "stream",
     "text": [
      "\n",
      "CHOFH4 < FH4 by\n",
      "ATIC7: CHOFH4 + AICAR -> FH4\n",
      "\n",
      "FH4 < CHOFH4 by\n",
      "HCOOHtoCHOFH4: FH4 + formate + ATP -> CHOFH4\n",
      "\n",
      "CH2FH4 < CHOFH4 by\n",
      "MTHFD: CH2FH4 + NADP -> CHOFH4\n",
      "\n",
      "FH4 = CH2FH4 by\n",
      "SHMTr: CH2FH4 -> FH4\n",
      "**************************************************\n",
      "\n",
      "\n",
      "CH3FH4 < FH4 by\n",
      "MTR: CH3FH4 + homocysteine -> FH4\n",
      "\n",
      "CH2FH4 < CH3FH4 by\n",
      "MTHFR: CH2FH4 + NADPH -> CH3FH4\n",
      "\n",
      "FH4 = CH2FH4 by\n",
      "SHMTr: CH2FH4 -> FH4\n",
      "**************************************************\n",
      "\n",
      "\n",
      "--------------------------------------------------\n",
      "\n"
     ]
    }
   ],
   "source": [
    "type_two_report = gr.reportTypeTwoError(m.type_two_errors)\n",
    "print(type_two_report)"
   ]
  },
  {
   "cell_type": "code",
   "execution_count": 20,
   "metadata": {},
   "outputs": [
    {
     "data": {
      "text/plain": [
       "587"
      ]
     },
     "execution_count": 20,
     "metadata": {},
     "output_type": "execute_result"
    }
   ],
   "source": [
    "len(simple.reactions)"
   ]
  },
  {
   "cell_type": "code",
   "execution_count": 19,
   "metadata": {},
   "outputs": [
    {
     "name": "stdout",
     "output_type": "stream",
     "text": [
      "[28, 67, 104, 139, 166, 187, 206, 229, 248, 270, 302, 336, 362, 388, 416, 439, 465, 498, 532, 565, 599, 633, 665, 702, 738, 777, 814, 848, 877, 898, 923]\n"
     ]
    }
   ],
   "source": [
    "echelon_report, error_num = gr.reportEchelonError(m.echelon_errors)\n",
    "#print(echelon_report)\n",
    "print(error_num)"
   ]
  },
  {
   "cell_type": "code",
   "execution_count": 9,
   "metadata": {},
   "outputs": [
    {
     "name": "stdout",
     "output_type": "stream",
     "text": [
      "pairs:\n",
      "{CHOFH4} {CH2FH4, FFH2, FH2f, FH4}\n",
      "ATIC7: CHOFH4 + AICAR -> FH4\n",
      "pairs:\n",
      "{CH2FH4, FFH2, FH2f, FH4} {CHOFH4}\n",
      "HCOOHtoCHOFH4: FH4 + formate + ATP -> CHOFH4\n",
      "MTHFD: CH2FH4 + NADP -> CHOFH4\n"
     ]
    },
    {
     "data": {
      "text/plain": [
       "[PathComponents(node1=['CHOFH4'], node2=['FH4'], reactions=['ATIC7']),\n",
       " PathComponents(node1=['FH4', 'CH2FH4'], node2=['CHOFH4', 'CHOFH4'], reactions=['HCOOHtoCHOFH4', 'MTHFD'])]"
      ]
     },
     "execution_count": 9,
     "metadata": {},
     "output_type": "execute_result"
    }
   ],
   "source": [
    "error_cycle = []\n",
    "cycle = m.type_two_errors[0]\n",
    "cycle2 = cycle[1:] + [cycle[0]]\n",
    "for first, second in zip(cycle, cycle2):\n",
    "  print(\"pairs:\")\n",
    "  print(first, second)\n",
    "  som1_moles = {m.name for m in list(first.molecules)}\n",
    "  som2_moles = {m.name for m in list(second.molecules)}\n",
    "  reaction_data = m.get_edge_data(first, second)[cn.REACTION]\n",
    "  nodes1 = []\n",
    "  nodes2 = []\n",
    "  reaction_labels = []  \n",
    "  for r in reaction_data:\n",
    "    reaction = simple.getReaction(r)\n",
    "    print(reaction.makeIdentifier(is_include_kinetics=False))  \n",
    "    if reaction.category == cn.REACTION_n_1:\n",
    "      sources = {r.molecule.name for r in reaction.reactants}\n",
    "      destinations = {p.molecule.name for p in reaction.products}\n",
    "    elif reaction.category == cn.REACTION_1_n:\n",
    "      sources = {p.molecule.name for p in reaction.products}\n",
    "      destinations = {r.molecule.name for r in reaction.reactants}\n",
    "    node2 = list(destinations.intersection(som2_moles))[0]\n",
    "    for node1 in list(sources.intersection(som1_moles)):\n",
    "      nodes1.append(node1)\n",
    "      nodes2.append(node2)\n",
    "      reaction_labels.append(reaction.label)\n",
    "  error_cycle.append(cn.PathComponents(node1=nodes1, \n",
    "                                     node2=nodes2,\n",
    "                                     reactions=reaction_labels))\n",
    "error_cycle"
   ]
  },
  {
   "cell_type": "code",
   "execution_count": 13,
   "metadata": {},
   "outputs": [],
   "source": [
    "  def getSOMPath(som, molecule1, molecule2):\n",
    "    \"\"\"\n",
    "    Create an undirected graph between\n",
    "    two molecules within a SOM\n",
    "    and find the shortest path\n",
    "    :param SOM som:\n",
    "    :param str mole1:\n",
    "    :param str mole2:\n",
    "    :return list-PathComponents som_path:\n",
    "    \"\"\"   \n",
    "#     molecule1 = mole1.name\n",
    "#     molecule2 = mole2.name\n",
    "    # construct undirected graph\n",
    "    subg = nx.Graph()\n",
    "    # here, every reaction is 1-1 reaction\n",
    "    for reaction in list(som.reactions):\n",
    "      node1 = reaction.reactants[0].molecule.name\n",
    "      node2 = reaction.products[0].molecule.name\n",
    "      if subg.has_edge(node1, node2):\n",
    "        reaction_label = subg.get_edge_data(node1, node2)[cn.REACTION]\n",
    "        # if reaction.label is not already included in the attribute,\n",
    "        if reaction.label not in set(reaction_label):\n",
    "          reaction_label = reaction_label + [reaction.label]\n",
    "      else:\n",
    "        reaction_label = [reaction.label]    \n",
    "      subg.add_edge(node1, node2, reaction=reaction_label)\n",
    "    path = [short_p for short_p in nx.shortest_path(subg, \n",
    "                                                    source=molecule1, \n",
    "                                                    target=molecule2)]\n",
    "    som_path = []\n",
    "    for idx in range(len(path)-1):\n",
    "      edge_reactions = subg.get_edge_data(path[idx], path[idx+1])[cn.REACTION]\n",
    "      som_path.append(cn.PathComponents(node1=path[idx], \n",
    "                                     node2=path[idx+1],\n",
    "                                     reactions=edge_reactions))\n",
    "    return som_path"
   ]
  },
  {
   "cell_type": "code",
   "execution_count": 15,
   "metadata": {},
   "outputs": [
    {
     "data": {
      "text/plain": [
       "[PathComponents(node1=['CHOFH4'], node2=['FH4'], reactions=['ATIC7']),\n",
       " PathComponents(node1=['FH4', 'CH2FH4'], node2=['CHOFH4', 'CHOFH4'], reactions=['HCOOHtoCHOFH4', 'MTHFD'])]"
      ]
     },
     "execution_count": 15,
     "metadata": {},
     "output_type": "execute_result"
    }
   ],
   "source": [
    "error_cycle"
   ]
  },
  {
   "cell_type": "code",
   "execution_count": 26,
   "metadata": {},
   "outputs": [
    {
     "data": {
      "text/plain": [
       "{'FH4'}"
      ]
     },
     "execution_count": 26,
     "metadata": {},
     "output_type": "execute_result"
    }
   ],
   "source": [
    "set(error_cycle[0].node2).intersection(set(error_cycle[1].node1))"
   ]
  },
  {
   "cell_type": "code",
   "execution_count": 32,
   "metadata": {},
   "outputs": [
    {
     "name": "stdout",
     "output_type": "stream",
     "text": [
      "CHOFH4 < FH4 by ATIC7\n",
      "ATIC7: CHOFH4 + AICAR -> FH4\n",
      "\n",
      "**Already havce common molecules {'FH4'}\n",
      "FH4 < CHOFH4 by HCOOHtoCHOFH4\n",
      "HCOOHtoCHOFH4: FH4 + formate + ATP -> CHOFH4\n",
      "\n",
      "CH2FH4 < CHOFH4 by MTHFD\n",
      "MTHFD: CH2FH4 + NADP -> CHOFH4\n",
      "\n",
      "node pairs whose equality needs to be examined\n",
      "FH4 CH2FH4\n",
      "som_path is: \n",
      "[PathComponents(node1='FH4', node2='CH2FH4', reactions=['SHMTr'])]\n"
     ]
    }
   ],
   "source": [
    "last_node = None\n",
    "for one_path in error_cycle:\n",
    "  comb = zip(one_path.node1, one_path.node2, one_path.reactions)\n",
    "  if last_node is not None:\n",
    "    common_molecules = last_node.intersection(set(one_path.node1))\n",
    "    if common_molecules:\n",
    "      print(\"**Already havce common molecules\", common_molecules)\n",
    "    else:\n",
    "      print(\"**need to find path between: \", last_node, one_path.node1)\n",
    "  last_node = set(one_path.node2)\n",
    "  for tup in comb:\n",
    "    print(tup[0], cn.LESSTHAN, tup[1], \"by\", tup[2])\n",
    "    print(simple.getReaction(tup[2]).makeIdentifier(is_include_kinetics=False))\n",
    "    print(\"\")\n",
    "  if len(one_path.node1) > 1:\n",
    "    for node1, node2 in zip(one_path.node1, one_path.node1[1:]):\n",
    "      print(\"node pairs whose equality needs to be examined\")\n",
    "      print(node1, node2)\n",
    "      mole1 = simple.getMolecule(node1)\n",
    "      mole2 = simple.getMolecule(node2)\n",
    "      som = m.getNode(mole1)\n",
    "      som_path = getSOMPath(som, node1, node2)\n",
    "      print(\"som_path is: \", )\n",
    "      print(som_path)"
   ]
  },
  {
   "cell_type": "code",
   "execution_count": null,
   "metadata": {},
   "outputs": [],
   "source": []
  },
  {
   "cell_type": "code",
   "execution_count": null,
   "metadata": {},
   "outputs": [],
   "source": []
  },
  {
   "cell_type": "code",
   "execution_count": 77,
   "metadata": {},
   "outputs": [
    {
     "data": {
      "text/plain": [
       "[('FH4', 'CHOFH4', 'HCOOHtoCHOFH4'), ('CH2FH4', 'CHOFH4', 'MTHFD')]"
      ]
     },
     "execution_count": 77,
     "metadata": {},
     "output_type": "execute_result"
    }
   ],
   "source": [
    "list(zip(error_cycle[0].node1, error_cycle[0].node2, error_cycle[0].reactions))"
   ]
  },
  {
   "cell_type": "code",
   "execution_count": 41,
   "metadata": {},
   "outputs": [
    {
     "data": {
      "text/plain": [
       "[{CH2FH4, FFH2, FH2f, FH4}, {CHOFH4}]"
      ]
     },
     "execution_count": 41,
     "metadata": {},
     "output_type": "execute_result"
    }
   ],
   "source": [
    "cycle[1:] + [cycle[0]]"
   ]
  },
  {
   "cell_type": "code",
   "execution_count": 9,
   "metadata": {},
   "outputs": [
    {
     "data": {
      "text/plain": [
       "Index(['{homocysteine}', '{formate}', '{NADPH}', '{GAR}', '{ATP}', '{CH3FH4}',\n",
       "       '{DHFRf}', '{HCHO}', '{NADP}', '{dUMP}', '{serine}', '{CHOFH4}',\n",
       "       '{CH2FH4, FFH2, FH2f, FH4}', '{AICAR, FGAR}',\n",
       "       '{EMTX, MTX1, MTX1b, MTX2, MTX2b, MTX3, MTX3b, MTX4, MTX4b, MTX5, MTX5b}'],\n",
       "      dtype='object')"
      ]
     },
     "execution_count": 9,
     "metadata": {},
     "output_type": "execute_result"
    }
   ],
   "source": [
    "gr.mesgraph.som_stoichiometry_matrix.index"
   ]
  },
  {
   "cell_type": "code",
   "execution_count": 7,
   "metadata": {},
   "outputs": [
    {
     "name": "stdout",
     "output_type": "stream",
     "text": [
      "HCOOHtoCHOFH4: {formate} + {ATP} + {CH2FH4, FFH2, FH2f, FH4} -> {CHOFH4}\n",
      "ATIC7: {CHOFH4} + {AICAR, FGAR} -> {CH2FH4, FFH2, FH2f, FH4}\n"
     ]
    }
   ],
   "source": [
    "print(m.convertReactionToSOMReaction(simple.getReaction(\"HCOOHtoCHOFH4\")))\n",
    "print(m.convertReactionToSOMReaction(simple.getReaction(\"ATIC7\")))"
   ]
  },
  {
   "cell_type": "code",
   "execution_count": 9,
   "metadata": {},
   "outputs": [
    {
     "name": "stdout",
     "output_type": "stream",
     "text": [
      "{'CHOFH4'}\n",
      "[]\n"
     ]
    }
   ],
   "source": [
    "a, b = gr.getMoleculeLinkage(\"{CHOFH4}\", [\"ATIC7\"])\n",
    "print(a)\n",
    "print(b)"
   ]
  },
  {
   "cell_type": "code",
   "execution_count": 13,
   "metadata": {},
   "outputs": [
    {
     "name": "stdout",
     "output_type": "stream",
     "text": [
      "{'FH4'}\n",
      "[]\n"
     ]
    }
   ],
   "source": [
    "a, b = gr.getMoleculeLinkage(\"{CH2FH4, FFH2, FH2f, FH4}\", [\"ATIC7\", \"HCOOHtoCHOFH4\"])\n",
    "print(a)\n",
    "print(b)"
   ]
  },
  {
   "cell_type": "code",
   "execution_count": 21,
   "metadata": {},
   "outputs": [
    {
     "data": {
      "text/plain": [
       "MTHFD: {NADP} + {AICAR, FGAR} -> "
      ]
     },
     "execution_count": 21,
     "metadata": {},
     "output_type": "execute_result"
    }
   ],
   "source": [
    "echelon_error = m.echelon_errors[0]\n",
    "echelon_error"
   ]
  },
  {
   "cell_type": "code",
   "execution_count": 124,
   "metadata": {},
   "outputs": [
    {
     "data": {
      "text/plain": [
       "Index(['{NADP}', '{AICAR, FGAR}'], dtype='object')"
      ]
     },
     "execution_count": 124,
     "metadata": {},
     "output_type": "execute_result"
    }
   ],
   "source": [
    "result_row = m.echelon_df[echelon_error.label]\n",
    "nonzero_result_row = result_row[result_row.to_numpy().nonzero()[0]]\n",
    "nonzero_result_row.index"
   ]
  },
  {
   "cell_type": "code",
   "execution_count": 41,
   "metadata": {},
   "outputs": [
    {
     "data": {
      "text/plain": [
       "Index(['ATIC7', 'MTHFD'], dtype='object')"
      ]
     },
     "execution_count": 41,
     "metadata": {},
     "output_type": "execute_result"
    }
   ],
   "source": [
    "if m.rref_df is None:\n",
    "  operation_df = m.lower_inverse\n",
    "else:\n",
    "  operation_df = m.rref_operation.dot(m.lower_inverse)\n",
    "operation_df\n",
    "op_row = operation_df.T[echelon_error.label]\n",
    "nonzero_op_rows = op_row[op_row.to_numpy().nonzero()[0]]\n",
    "nonzero_op_rows.index"
   ]
  },
  {
   "cell_type": "code",
   "execution_count": 49,
   "metadata": {},
   "outputs": [
    {
     "name": "stdout",
     "output_type": "stream",
     "text": [
      "ATIC7: CHOFH4 + AICAR -> FH4\n",
      "ATIC7: {CHOFH4} + {AICAR, FGAR} -> {CH2FH4, FFH2, FH2f, FH4}\n",
      "\n",
      "MTHFD: CH2FH4 + NADP -> CHOFH4\n",
      "MTHFD: {NADP} + {CH2FH4, FFH2, FH2f, FH4} -> {CHOFH4}\n",
      "\n"
     ]
    }
   ],
   "source": [
    "for r in nonzero_op_rows.index:\n",
    "  reaction = simple.getReaction(r)\n",
    "  print(reaction.makeIdentifier(is_include_kinetics=False))\n",
    "  print(m.convertReactionToSOMReaction(reaction))\n",
    "  print()"
   ]
  },
  {
   "cell_type": "code",
   "execution_count": 55,
   "metadata": {},
   "outputs": [
    {
     "name": "stdout",
     "output_type": "stream",
     "text": [
      "Index(['{CHOFH4}', '{CH2FH4, FFH2, FH2f, FH4}', '{AICAR, FGAR}'], dtype='object')\n",
      "Index(['{CHOFH4}', '{NADP}', '{CH2FH4, FFH2, FH2f, FH4}'], dtype='object')\n"
     ]
    }
   ],
   "source": [
    "# find out canceled reactants/products first\n",
    "# meaning, nonzeros that both exist in atic7 and mthfd but not in the result_row\n",
    "atic7_row = m.som_stoichiometry_matrix[nonzero_op_rows.index[0]]\n",
    "mthfd_row = m.som_stoichiometry_matrix[nonzero_op_rows.index[1]]\n",
    "nonzero_atic7_row = atic7_row[atic7_row.to_numpy().nonzero()[0]]\n",
    "nonzero_mthfd_row = mthfd_row[mthfd_row.to_numpy().nonzero()[0]]\n",
    "print(nonzero_atic7_row.index)\n",
    "print(nonzero_mthfd_row.index)"
   ]
  },
  {
   "cell_type": "code",
   "execution_count": 57,
   "metadata": {},
   "outputs": [
    {
     "data": {
      "text/plain": [
       "Index(['{CHOFH4}', '{CH2FH4, FFH2, FH2f, FH4}'], dtype='object')"
      ]
     },
     "execution_count": 57,
     "metadata": {},
     "output_type": "execute_result"
    }
   ],
   "source": [
    "nonzero_atic7_row.index.intersection(nonzero_mthfd_row.index)"
   ]
  },
  {
   "cell_type": "code",
   "execution_count": 123,
   "metadata": {},
   "outputs": [
    {
     "data": {
      "text/plain": [
       "Index(['ATIC7', 'MTHFD'], dtype='object')"
      ]
     },
     "execution_count": 123,
     "metadata": {},
     "output_type": "execute_result"
    }
   ],
   "source": [
    "nonzero_op_rows.index"
   ]
  },
  {
   "cell_type": "code",
   "execution_count": 63,
   "metadata": {},
   "outputs": [
    {
     "name": "stdout",
     "output_type": "stream",
     "text": [
      "Index(['{CH2FH4, FFH2, FH2f, FH4}', '{CHOFH4}'], dtype='object')\n"
     ]
    }
   ],
   "source": [
    "nonzero_elements = m.som_stoichiometry_matrix.index\n",
    "for r in nonzero_op_rows.index:\n",
    "  row = m.som_stoichiometry_matrix[r]\n",
    "  nonzero_elements = nonzero_elements.intersection(row[row.to_numpy().nonzero()[0]].index)\n",
    "# finally, subtract remaining nonzero elements from nonzero_result_row\n",
    "canceled_elements = nonzero_elements.difference(nonzero_result_row.index)\n",
    "print(canceled_elements)"
   ]
  },
  {
   "cell_type": "code",
   "execution_count": 73,
   "metadata": {},
   "outputs": [
    {
     "data": {
      "text/plain": [
       "{CH2FH4, FFH2, FH2f, FH4}"
      ]
     },
     "execution_count": 73,
     "metadata": {},
     "output_type": "execute_result"
    }
   ],
   "source": [
    "def getSOM(som_name):\n",
    "  for node in m.nodes:\n",
    "    if node.identifier == som_name:\n",
    "      return node"
   ]
  },
  {
   "cell_type": "code",
   "execution_count": 77,
   "metadata": {},
   "outputs": [
    {
     "data": {
      "text/plain": [
       "{CHOFH4}"
      ]
     },
     "execution_count": 77,
     "metadata": {},
     "output_type": "execute_result"
    }
   ],
   "source": [
    "som1 = getSOM(canceled_elements[0])\n",
    "som2 = getSOM(canceled_elements[1])"
   ]
  },
  {
   "cell_type": "code",
   "execution_count": 125,
   "metadata": {},
   "outputs": [
    {
     "data": {
      "text/plain": [
       "Index(['ATIC7', 'MTHFD'], dtype='object')"
      ]
     },
     "execution_count": 125,
     "metadata": {},
     "output_type": "execute_result"
    }
   ],
   "source": [
    "nonzero_op_rows.index"
   ]
  },
  {
   "cell_type": "code",
   "execution_count": 121,
   "metadata": {},
   "outputs": [],
   "source": [
    "# this is for each som that were eliminated by matrix operation\n",
    "molecules = {m.name for m in som1.molecules}\n",
    "linked_molecules = set()\n",
    "for r in nonzero_op_rows.index:\n",
    "  reaction = simple.getReaction(r)\n",
    "  reactants = {m.molecule.name for m in reaction.reactants}\n",
    "  products = {m.molecule.name for m in reaction.products}\n",
    "  som_molecules = molecules.intersection(reactants)\n",
    "  som_molecules = som_molecules.union(molecules.intersection(products))\n",
    "  linked_molecules = linked_molecules.union(som_molecules)\n",
    "# now need to path (reactions) between molecules within the linked_molecules\n",
    "linked_reactions = []\n",
    "for sr in som1.reactions:\n",
    "  sreactants = {m.molecule.name for m in sr.reactants}\n",
    "  sproducts = {m.molecule.name for m in sr.products}\n",
    "  if sreactants.intersection(linked_molecules) and \\\n",
    "     sproducts.intersection(linked_molecules):\n",
    "    linked_reactions.append(sr.label)\n",
    "# can generate report that will create equality between molecules -> maximum amount of information"
   ]
  },
  {
   "cell_type": "code",
   "execution_count": 122,
   "metadata": {},
   "outputs": [
    {
     "name": "stdout",
     "output_type": "stream",
     "text": [
      "{'CH2FH4', 'FH4'}\n",
      "['SHMTr']\n"
     ]
    }
   ],
   "source": [
    "print(linked_molecules)\n",
    "print(linked_reactions)"
   ]
  },
  {
   "cell_type": "code",
   "execution_count": 113,
   "metadata": {},
   "outputs": [
    {
     "data": {
      "text/plain": [
       "{DHFReductase: FH2f -> FH4; cell * kter * FH2b,\n",
       " FFH2syn: FH2f -> FFH2; cell * Vm * FH2f,\n",
       " SHMTr: CH2FH4 -> FH4; cell * (Vm * (glycine / Km2 / (1 + glycine / Km2)) * (CH2FH4 / Km1) / (1 + CH2FH4 / Km1))}"
      ]
     },
     "execution_count": 113,
     "metadata": {},
     "output_type": "execute_result"
    }
   ],
   "source": [
    "som1.reactions"
   ]
  },
  {
   "cell_type": "code",
   "execution_count": 120,
   "metadata": {},
   "outputs": [
    {
     "data": {
      "text/plain": [
       "{'FH2f'}"
      ]
     },
     "execution_count": 120,
     "metadata": {},
     "output_type": "execute_result"
    }
   ],
   "source": [
    "sreactants"
   ]
  },
  {
   "cell_type": "code",
   "execution_count": null,
   "metadata": {},
   "outputs": [],
   "source": []
  }
 ],
 "metadata": {
  "kernelspec": {
   "display_name": "Python 3",
   "language": "python",
   "name": "python3"
  },
  "language_info": {
   "codemirror_mode": {
    "name": "ipython",
    "version": 3
   },
   "file_extension": ".py",
   "mimetype": "text/x-python",
   "name": "python",
   "nbconvert_exporter": "python",
   "pygments_lexer": "ipython3",
   "version": "3.6.8"
  }
 },
 "nbformat": 4,
 "nbformat_minor": 2
}
