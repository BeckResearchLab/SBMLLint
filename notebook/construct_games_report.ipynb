{
 "cells": [
  {
   "cell_type": "code",
   "execution_count": 1,
   "metadata": {},
   "outputs": [],
   "source": [
    "#from games_setup import *\n",
    "import init\n",
    "from SBMLLint.common import constants as cn\n",
    "from SBMLLint.common.molecule import Molecule, MoleculeStoichiometry\n",
    "from SBMLLint.common.reaction import Reaction\n",
    "from SBMLLint.games.som import SOM\n",
    "from SBMLLint.common.simple_sbml import SimpleSBML\n",
    "\n",
    "import collections\n",
    "import itertools\n",
    "import networkx as nx\n",
    "import numpy as np\n",
    "import os\n",
    "import pandas as pd\n",
    "#\n",
    "from SBMLLint.common.stoichiometry_matrix import StoichiometryMatrix\n",
    "from SBMLLint.games.mesgraph import MESGraph\n",
    "from SBMLLint.games.games_pp import GAMES_PP, SOMStoichiometry, SOMReaction, TOLERANCE\n",
    "from SBMLLint.games.games_report import GAMESReport, SimplifiedReaction\n",
    "\n",
    "ReactionOperation = collections.namedtuple(\"ReactionOperation\", \n",
    "    \"reaction operation\")"
   ]
  },
  {
   "cell_type": "code",
   "execution_count": 4,
   "metadata": {},
   "outputs": [],
   "source": [
    "PREFIX = \"BIOMD0000000\"\n",
    "\n",
    "def load_file_from_curated_data(num):\n",
    "\n",
    "  format_num = format(num, '03d')\n",
    "  filename = \"%s%s_url.xml\" % (PREFIX, format_num)\n",
    "  path = os.path.join(cn.BIOMODELS_DIR, filename)\n",
    "  simple = SimpleSBML()\n",
    "  simple.initialize(path)\n",
    "  return simple\n"
   ]
  },
  {
   "cell_type": "code",
   "execution_count": 5,
   "metadata": {},
   "outputs": [],
   "source": [
    "simple = load_file_from_curated_data(167)"
   ]
  },
  {
   "cell_type": "code",
   "execution_count": 6,
   "metadata": {},
   "outputs": [
    {
     "data": {
      "text/plain": [
       "[PstatDimerisation: 2.00 Pstat_sol -> PstatDimer_sol; (Kf_PstatDimerisation * pow(Pstat_sol, 2) + -(Kr_PstatDimerisation * PstatDimer_sol)) * sol,\n",
       " statDephosphorylation: Pstat_nuc -> stat_nuc; Kcat_dephos * statPhosphatase_nuc * Pstat_nuc * (1 / (Km_dephos + Pstat_nuc)) * nuc,\n",
       " statPhosphorylation: stat_sol -> Pstat_sol + species_test; Kcat_phos * statKinase_sol * stat_sol * (1 / (Km_phos + stat_sol)) * sol,\n",
       " PstatDimerisationNuc: 2.00 Pstat_nuc -> PstatDimer_nuc; (Kf_PstatDimerisation * pow(Pstat_nuc, 2) + -(Kr_PstatDimerisation * PstatDimer_nuc)) * nuc,\n",
       " PstatDimer__import: PstatDimer_sol -> PstatDimer_nuc; PstatDimer_impMax * PstatDimer_sol * (1 / (Kpsd_imp + PstatDimer_sol)) * nm,\n",
       " stat_export: stat_sol -> stat_nuc; nuc * stat_expMax * stat_nuc * (1 / (Ks_exp + stat_nuc)) * nm,\n",
       " stat_import: stat_sol -> stat_nuc; nuc * stat_impMax * stat_sol * (1 / (Ks_imp + stat_sol)) * nm]"
      ]
     },
     "execution_count": 6,
     "metadata": {},
     "output_type": "execute_result"
    }
   ],
   "source": [
    "simple.reactions"
   ]
  },
  {
   "cell_type": "code",
   "execution_count": 7,
   "metadata": {},
   "outputs": [
    {
     "name": "stdout",
     "output_type": "stream",
     "text": [
      "Model analyzed...\n",
      "At least one error found.\n",
      "\n"
     ]
    }
   ],
   "source": [
    "# Model 248 is for canceling error\n",
    "# Model 14/167 for a type three error / echelon\n",
    "# Model 7 for type 1 error\n",
    "# Model 18 for type 2 error\n",
    "\n",
    "######## examine model 628 for large echelon error ###########\n",
    "simple = load_file_from_curated_data(167)\n",
    "# for r in simple.reactions:\n",
    "#   if r.category != cn.REACTION_BOUNDARY and r.category != cn.REACTION_1_1:\n",
    "#     print(r.makeIdentifier(is_include_kinetics=False))\n",
    "m = GAMES_PP(simple)\n",
    "m.analyze()\n",
    "gr = GAMESReport(m)"
   ]
  },
  {
   "cell_type": "code",
   "execution_count": 8,
   "metadata": {},
   "outputs": [
    {
     "data": {
      "text/plain": [
       "['__class__',\n",
       " '__contains__',\n",
       " '__delattr__',\n",
       " '__dict__',\n",
       " '__dir__',\n",
       " '__doc__',\n",
       " '__eq__',\n",
       " '__format__',\n",
       " '__ge__',\n",
       " '__getattribute__',\n",
       " '__getitem__',\n",
       " '__gt__',\n",
       " '__hash__',\n",
       " '__init__',\n",
       " '__init_subclass__',\n",
       " '__iter__',\n",
       " '__le__',\n",
       " '__len__',\n",
       " '__lt__',\n",
       " '__module__',\n",
       " '__ne__',\n",
       " '__new__',\n",
       " '__reduce__',\n",
       " '__reduce_ex__',\n",
       " '__repr__',\n",
       " '__setattr__',\n",
       " '__sizeof__',\n",
       " '__str__',\n",
       " '__subclasshook__',\n",
       " '__weakref__',\n",
       " '_adj',\n",
       " '_getNonBoundaryMolecules',\n",
       " '_getNonBoundaryReactions',\n",
       " '_node',\n",
       " '_pred',\n",
       " '_succ',\n",
       " 'addArc',\n",
       " 'addReaction',\n",
       " 'addTypeOneError',\n",
       " 'addTypeTwoError',\n",
       " 'add_cycle',\n",
       " 'add_edge',\n",
       " 'add_edges_from',\n",
       " 'add_node',\n",
       " 'add_nodes_from',\n",
       " 'add_path',\n",
       " 'add_star',\n",
       " 'add_weighted_edges_from',\n",
       " 'adj',\n",
       " 'adjacency',\n",
       " 'adjlist_inner_dict_factory',\n",
       " 'adjlist_outer_dict_factory',\n",
       " 'analyze',\n",
       " 'canceling_errors',\n",
       " 'checkTypeOneError',\n",
       " 'checkTypeTwoError',\n",
       " 'clear',\n",
       " 'convertMatrixToSOMReactions',\n",
       " 'convertReactionToSOMReaction',\n",
       " 'copy',\n",
       " 'decomposeMatrix',\n",
       " 'degree',\n",
       " 'echelon_df',\n",
       " 'echelon_errors',\n",
       " 'edge_attr_dict_factory',\n",
       " 'edge_subgraph',\n",
       " 'edges',\n",
       " 'error_summary',\n",
       " 'fresh_copy',\n",
       " 'getNode',\n",
       " 'getRREFMatrix',\n",
       " 'getStoichiometryMatrix',\n",
       " 'get_edge_data',\n",
       " 'graph',\n",
       " 'has_edge',\n",
       " 'has_node',\n",
       " 'has_predecessor',\n",
       " 'has_successor',\n",
       " 'identifier',\n",
       " 'in_degree',\n",
       " 'in_edges',\n",
       " 'initializeSOMs',\n",
       " 'is_directed',\n",
       " 'is_multigraph',\n",
       " 'lower',\n",
       " 'lower_inverse',\n",
       " 'makeId',\n",
       " 'mergeNodes',\n",
       " 'molecules',\n",
       " 'name',\n",
       " 'nbunch_iter',\n",
       " 'neighbors',\n",
       " 'node',\n",
       " 'node_dict_factory',\n",
       " 'nodes',\n",
       " 'nodes_with_selfloops',\n",
       " 'number_of_edges',\n",
       " 'number_of_nodes',\n",
       " 'number_of_selfloops',\n",
       " 'order',\n",
       " 'out_degree',\n",
       " 'out_edges',\n",
       " 'perm_inverse',\n",
       " 'permuted_matrix',\n",
       " 'pred',\n",
       " 'predecessors',\n",
       " 'processEqualSOMReaction',\n",
       " 'processErrorReaction',\n",
       " 'processMultiUniReaction',\n",
       " 'processUnequalSOMReaction',\n",
       " 'processUniMultiReaction',\n",
       " 'processUniUniReaction',\n",
       " 'reactions',\n",
       " 'reactions_lu',\n",
       " 'reduced_som_reactions',\n",
       " 'remove_edge',\n",
       " 'remove_edges_from',\n",
       " 'remove_node',\n",
       " 'remove_nodes_from',\n",
       " 'reverse',\n",
       " 'rref_df',\n",
       " 'rref_operation',\n",
       " 'rref_som_reactions',\n",
       " 'selfloop_edges',\n",
       " 'simple',\n",
       " 'size',\n",
       " 'som_reactions_lu',\n",
       " 'som_stoichiometry_matrix',\n",
       " 'soms',\n",
       " 'subgraph',\n",
       " 'succ',\n",
       " 'successors',\n",
       " 'to_directed',\n",
       " 'to_directed_class',\n",
       " 'to_undirected',\n",
       " 'to_undirected_class',\n",
       " 'type_one_errors',\n",
       " 'type_three_errors',\n",
       " 'type_two_errors',\n",
       " 'update']"
      ]
     },
     "execution_count": 8,
     "metadata": {},
     "output_type": "execute_result"
    }
   ],
   "source": [
    "dir(m)"
   ]
  },
  {
   "cell_type": "code",
   "execution_count": 9,
   "metadata": {
    "scrolled": true
   },
   "outputs": [
    {
     "data": {
      "text/html": [
       "<div>\n",
       "<style scoped>\n",
       "    .dataframe tbody tr th:only-of-type {\n",
       "        vertical-align: middle;\n",
       "    }\n",
       "\n",
       "    .dataframe tbody tr th {\n",
       "        vertical-align: top;\n",
       "    }\n",
       "\n",
       "    .dataframe thead th {\n",
       "        text-align: right;\n",
       "    }\n",
       "</style>\n",
       "<table border=\"1\" class=\"dataframe\">\n",
       "  <thead>\n",
       "    <tr style=\"text-align: right;\">\n",
       "      <th></th>\n",
       "      <th>PstatDimerisation</th>\n",
       "      <th>statDephosphorylation</th>\n",
       "      <th>statPhosphorylation</th>\n",
       "      <th>PstatDimerisationNuc</th>\n",
       "      <th>PstatDimer__import</th>\n",
       "      <th>stat_export</th>\n",
       "      <th>stat_import</th>\n",
       "    </tr>\n",
       "  </thead>\n",
       "  <tbody>\n",
       "    <tr>\n",
       "      <th>Pstat_sol</th>\n",
       "      <td>-2.0</td>\n",
       "      <td>0.0</td>\n",
       "      <td>1.0</td>\n",
       "      <td>0.0</td>\n",
       "      <td>0.0</td>\n",
       "      <td>0.0</td>\n",
       "      <td>0.0</td>\n",
       "    </tr>\n",
       "    <tr>\n",
       "      <th>PstatDimer_sol</th>\n",
       "      <td>1.0</td>\n",
       "      <td>0.0</td>\n",
       "      <td>0.0</td>\n",
       "      <td>0.0</td>\n",
       "      <td>-1.0</td>\n",
       "      <td>0.0</td>\n",
       "      <td>0.0</td>\n",
       "    </tr>\n",
       "    <tr>\n",
       "      <th>Pstat_nuc</th>\n",
       "      <td>0.0</td>\n",
       "      <td>-1.0</td>\n",
       "      <td>0.0</td>\n",
       "      <td>-2.0</td>\n",
       "      <td>0.0</td>\n",
       "      <td>0.0</td>\n",
       "      <td>0.0</td>\n",
       "    </tr>\n",
       "    <tr>\n",
       "      <th>stat_nuc</th>\n",
       "      <td>0.0</td>\n",
       "      <td>1.0</td>\n",
       "      <td>0.0</td>\n",
       "      <td>0.0</td>\n",
       "      <td>0.0</td>\n",
       "      <td>1.0</td>\n",
       "      <td>1.0</td>\n",
       "    </tr>\n",
       "    <tr>\n",
       "      <th>stat_sol</th>\n",
       "      <td>0.0</td>\n",
       "      <td>0.0</td>\n",
       "      <td>-1.0</td>\n",
       "      <td>0.0</td>\n",
       "      <td>0.0</td>\n",
       "      <td>-1.0</td>\n",
       "      <td>-1.0</td>\n",
       "    </tr>\n",
       "    <tr>\n",
       "      <th>species_test</th>\n",
       "      <td>0.0</td>\n",
       "      <td>0.0</td>\n",
       "      <td>1.0</td>\n",
       "      <td>0.0</td>\n",
       "      <td>0.0</td>\n",
       "      <td>0.0</td>\n",
       "      <td>0.0</td>\n",
       "    </tr>\n",
       "    <tr>\n",
       "      <th>PstatDimer_nuc</th>\n",
       "      <td>0.0</td>\n",
       "      <td>0.0</td>\n",
       "      <td>0.0</td>\n",
       "      <td>1.0</td>\n",
       "      <td>1.0</td>\n",
       "      <td>0.0</td>\n",
       "      <td>0.0</td>\n",
       "    </tr>\n",
       "  </tbody>\n",
       "</table>\n",
       "</div>"
      ],
      "text/plain": [
       "                PstatDimerisation  statDephosphorylation  statPhosphorylation  \\\n",
       "Pstat_sol                    -2.0                    0.0                  1.0   \n",
       "PstatDimer_sol                1.0                    0.0                  0.0   \n",
       "Pstat_nuc                     0.0                   -1.0                  0.0   \n",
       "stat_nuc                      0.0                    1.0                  0.0   \n",
       "stat_sol                      0.0                    0.0                 -1.0   \n",
       "species_test                  0.0                    0.0                  1.0   \n",
       "PstatDimer_nuc                0.0                    0.0                  0.0   \n",
       "\n",
       "                PstatDimerisationNuc  PstatDimer__import  stat_export  \\\n",
       "Pstat_sol                        0.0                 0.0          0.0   \n",
       "PstatDimer_sol                   0.0                -1.0          0.0   \n",
       "Pstat_nuc                       -2.0                 0.0          0.0   \n",
       "stat_nuc                         0.0                 0.0          1.0   \n",
       "stat_sol                         0.0                 0.0         -1.0   \n",
       "species_test                     0.0                 0.0          0.0   \n",
       "PstatDimer_nuc                   1.0                 1.0          0.0   \n",
       "\n",
       "                stat_import  \n",
       "Pstat_sol               0.0  \n",
       "PstatDimer_sol          0.0  \n",
       "Pstat_nuc               0.0  \n",
       "stat_nuc                1.0  \n",
       "stat_sol               -1.0  \n",
       "species_test            0.0  \n",
       "PstatDimer_nuc          0.0  "
      ]
     },
     "execution_count": 9,
     "metadata": {},
     "output_type": "execute_result"
    }
   ],
   "source": [
    "m.getStoichiometryMatrix(simple.reactions, simple.molecules)"
   ]
  },
  {
   "cell_type": "code",
   "execution_count": 10,
   "metadata": {},
   "outputs": [
    {
     "data": {
      "text/html": [
       "<div>\n",
       "<style scoped>\n",
       "    .dataframe tbody tr th:only-of-type {\n",
       "        vertical-align: middle;\n",
       "    }\n",
       "\n",
       "    .dataframe tbody tr th {\n",
       "        vertical-align: top;\n",
       "    }\n",
       "\n",
       "    .dataframe thead th {\n",
       "        text-align: right;\n",
       "    }\n",
       "</style>\n",
       "<table border=\"1\" class=\"dataframe\">\n",
       "  <thead>\n",
       "    <tr style=\"text-align: right;\">\n",
       "      <th></th>\n",
       "      <th>statPhosphorylation</th>\n",
       "      <th>PstatDimerisation</th>\n",
       "      <th>PstatDimerisationNuc</th>\n",
       "    </tr>\n",
       "  </thead>\n",
       "  <tbody>\n",
       "    <tr>\n",
       "      <th>{species_test}</th>\n",
       "      <td>1.0</td>\n",
       "      <td>0.0</td>\n",
       "      <td>0.0</td>\n",
       "    </tr>\n",
       "    <tr>\n",
       "      <th>{Pstat_sol}</th>\n",
       "      <td>1.0</td>\n",
       "      <td>-2.0</td>\n",
       "      <td>0.0</td>\n",
       "    </tr>\n",
       "    <tr>\n",
       "      <th>{PstatDimer_nuc=PstatDimer_sol}</th>\n",
       "      <td>0.0</td>\n",
       "      <td>1.0</td>\n",
       "      <td>1.0</td>\n",
       "    </tr>\n",
       "    <tr>\n",
       "      <th>{Pstat_nuc=stat_nuc=stat_sol}</th>\n",
       "      <td>-1.0</td>\n",
       "      <td>0.0</td>\n",
       "      <td>-2.0</td>\n",
       "    </tr>\n",
       "  </tbody>\n",
       "</table>\n",
       "</div>"
      ],
      "text/plain": [
       "                                 statPhosphorylation  PstatDimerisation  \\\n",
       "{species_test}                                   1.0                0.0   \n",
       "{Pstat_sol}                                      1.0               -2.0   \n",
       "{PstatDimer_nuc=PstatDimer_sol}                  0.0                1.0   \n",
       "{Pstat_nuc=stat_nuc=stat_sol}                   -1.0                0.0   \n",
       "\n",
       "                                 PstatDimerisationNuc  \n",
       "{species_test}                                    0.0  \n",
       "{Pstat_sol}                                       0.0  \n",
       "{PstatDimer_nuc=PstatDimer_sol}                   1.0  \n",
       "{Pstat_nuc=stat_nuc=stat_sol}                    -2.0  "
      ]
     },
     "execution_count": 10,
     "metadata": {},
     "output_type": "execute_result"
    }
   ],
   "source": [
    "m.echelon_df"
   ]
  },
  {
   "cell_type": "code",
   "execution_count": 11,
   "metadata": {},
   "outputs": [
    {
     "data": {
      "text/html": [
       "<div>\n",
       "<style scoped>\n",
       "    .dataframe tbody tr th:only-of-type {\n",
       "        vertical-align: middle;\n",
       "    }\n",
       "\n",
       "    .dataframe tbody tr th {\n",
       "        vertical-align: top;\n",
       "    }\n",
       "\n",
       "    .dataframe thead th {\n",
       "        text-align: right;\n",
       "    }\n",
       "</style>\n",
       "<table border=\"1\" class=\"dataframe\">\n",
       "  <thead>\n",
       "    <tr style=\"text-align: right;\">\n",
       "      <th></th>\n",
       "      <th>{species_test}</th>\n",
       "      <th>{Pstat_sol}</th>\n",
       "      <th>{PstatDimer_nuc=PstatDimer_sol}</th>\n",
       "      <th>{Pstat_nuc=stat_nuc=stat_sol}</th>\n",
       "    </tr>\n",
       "  </thead>\n",
       "  <tbody>\n",
       "    <tr>\n",
       "      <th>statPhosphorylation</th>\n",
       "      <td>1.0</td>\n",
       "      <td>1.0</td>\n",
       "      <td>0.0</td>\n",
       "      <td>-1.0</td>\n",
       "    </tr>\n",
       "    <tr>\n",
       "      <th>PstatDimerisation</th>\n",
       "      <td>0.0</td>\n",
       "      <td>-2.0</td>\n",
       "      <td>1.0</td>\n",
       "      <td>0.0</td>\n",
       "    </tr>\n",
       "    <tr>\n",
       "      <th>PstatDimerisationNuc</th>\n",
       "      <td>0.0</td>\n",
       "      <td>0.0</td>\n",
       "      <td>1.0</td>\n",
       "      <td>-2.0</td>\n",
       "    </tr>\n",
       "  </tbody>\n",
       "</table>\n",
       "</div>"
      ],
      "text/plain": [
       "                      {species_test}  {Pstat_sol}  \\\n",
       "statPhosphorylation              1.0          1.0   \n",
       "PstatDimerisation                0.0         -2.0   \n",
       "PstatDimerisationNuc             0.0          0.0   \n",
       "\n",
       "                      {PstatDimer_nuc=PstatDimer_sol}  \\\n",
       "statPhosphorylation                               0.0   \n",
       "PstatDimerisation                                 1.0   \n",
       "PstatDimerisationNuc                              1.0   \n",
       "\n",
       "                      {Pstat_nuc=stat_nuc=stat_sol}  \n",
       "statPhosphorylation                            -1.0  \n",
       "PstatDimerisation                               0.0  \n",
       "PstatDimerisationNuc                           -2.0  "
      ]
     },
     "execution_count": 11,
     "metadata": {},
     "output_type": "execute_result"
    }
   ],
   "source": [
    "m.echelon_df.T"
   ]
  },
  {
   "cell_type": "code",
   "execution_count": 12,
   "metadata": {},
   "outputs": [
    {
     "data": {
      "text/html": [
       "<div>\n",
       "<style scoped>\n",
       "    .dataframe tbody tr th:only-of-type {\n",
       "        vertical-align: middle;\n",
       "    }\n",
       "\n",
       "    .dataframe tbody tr th {\n",
       "        vertical-align: top;\n",
       "    }\n",
       "\n",
       "    .dataframe thead th {\n",
       "        text-align: right;\n",
       "    }\n",
       "</style>\n",
       "<table border=\"1\" class=\"dataframe\">\n",
       "  <thead>\n",
       "    <tr style=\"text-align: right;\">\n",
       "      <th></th>\n",
       "      <th>statPhosphorylation</th>\n",
       "      <th>PstatDimerisation</th>\n",
       "      <th>PstatDimerisationNuc</th>\n",
       "    </tr>\n",
       "  </thead>\n",
       "  <tbody>\n",
       "    <tr>\n",
       "      <th>{species_test}</th>\n",
       "      <td>1.0</td>\n",
       "      <td>0.0</td>\n",
       "      <td>0.0</td>\n",
       "    </tr>\n",
       "    <tr>\n",
       "      <th>{Pstat_sol}</th>\n",
       "      <td>0.0</td>\n",
       "      <td>-2.0</td>\n",
       "      <td>0.0</td>\n",
       "    </tr>\n",
       "    <tr>\n",
       "      <th>{PstatDimer_nuc=PstatDimer_sol}</th>\n",
       "      <td>0.0</td>\n",
       "      <td>0.0</td>\n",
       "      <td>1.0</td>\n",
       "    </tr>\n",
       "    <tr>\n",
       "      <th>{Pstat_nuc=stat_nuc=stat_sol}</th>\n",
       "      <td>0.0</td>\n",
       "      <td>2.0</td>\n",
       "      <td>-2.0</td>\n",
       "    </tr>\n",
       "  </tbody>\n",
       "</table>\n",
       "</div>"
      ],
      "text/plain": [
       "                                 statPhosphorylation  PstatDimerisation  \\\n",
       "{species_test}                                   1.0                0.0   \n",
       "{Pstat_sol}                                      0.0               -2.0   \n",
       "{PstatDimer_nuc=PstatDimer_sol}                  0.0                0.0   \n",
       "{Pstat_nuc=stat_nuc=stat_sol}                    0.0                2.0   \n",
       "\n",
       "                                 PstatDimerisationNuc  \n",
       "{species_test}                                    0.0  \n",
       "{Pstat_sol}                                       0.0  \n",
       "{PstatDimer_nuc=PstatDimer_sol}                   1.0  \n",
       "{Pstat_nuc=stat_nuc=stat_sol}                    -2.0  "
      ]
     },
     "execution_count": 12,
     "metadata": {},
     "output_type": "execute_result"
    }
   ],
   "source": [
    "m.rref_df"
   ]
  },
  {
   "cell_type": "code",
   "execution_count": 13,
   "metadata": {},
   "outputs": [
    {
     "name": "stdout",
     "output_type": "stream",
     "text": [
      "3\n"
     ]
    }
   ],
   "source": [
    "count = 0\n",
    "for som in m.nodes:\n",
    "  if len(som.molecules)>1:\n",
    "    count = count + len(som.reactions)\n",
    "print(count)"
   ]
  },
  {
   "cell_type": "code",
   "execution_count": 14,
   "metadata": {},
   "outputs": [
    {
     "data": {
      "text/plain": [
       "1.0"
      ]
     },
     "execution_count": 14,
     "metadata": {},
     "output_type": "execute_result"
    }
   ],
   "source": [
    "np.linalg.cond(m.lower_inverse)"
   ]
  },
  {
   "cell_type": "code",
   "execution_count": 15,
   "metadata": {},
   "outputs": [
    {
     "data": {
      "text/plain": [
       "7"
      ]
     },
     "execution_count": 15,
     "metadata": {},
     "output_type": "execute_result"
    }
   ],
   "source": [
    "len(simple.reactions)"
   ]
  },
  {
   "cell_type": "code",
   "execution_count": 16,
   "metadata": {},
   "outputs": [],
   "source": [
    "resulting_series = gr.getResultingSeries(\"statPhosphorylation\")"
   ]
  },
  {
   "cell_type": "code",
   "execution_count": 17,
   "metadata": {},
   "outputs": [
    {
     "data": {
      "text/plain": [
       "7"
      ]
     },
     "execution_count": 17,
     "metadata": {},
     "output_type": "execute_result"
    }
   ],
   "source": [
    "len(simple.reactions)"
   ]
  },
  {
   "cell_type": "code",
   "execution_count": 19,
   "metadata": {},
   "outputs": [
    {
     "ename": "IndexError",
     "evalue": "list index out of range",
     "output_type": "error",
     "traceback": [
      "\u001b[0;31m--------------------------------------------------------------------------\u001b[0m",
      "\u001b[0;31mIndexError\u001b[0m                               Traceback (most recent call last)",
      "\u001b[0;32m<ipython-input-19-aaffa3e1062f>\u001b[0m in \u001b[0;36m<module>\u001b[0;34m\u001b[0m\n\u001b[0;32m----> 1\u001b[0;31m \u001b[0mtype1_report\u001b[0m\u001b[0;34m,\u001b[0m \u001b[0merror_num\u001b[0m \u001b[0;34m=\u001b[0m \u001b[0mgr\u001b[0m\u001b[0;34m.\u001b[0m\u001b[0mreportTypeOneError\u001b[0m\u001b[0;34m(\u001b[0m\u001b[0;34m[\u001b[0m\u001b[0mm\u001b[0m\u001b[0;34m.\u001b[0m\u001b[0mtype_one_errors\u001b[0m\u001b[0;34m[\u001b[0m\u001b[0;36m0\u001b[0m\u001b[0;34m]\u001b[0m\u001b[0;34m]\u001b[0m\u001b[0;34m,\u001b[0m \u001b[0mexplain_details\u001b[0m\u001b[0;34m=\u001b[0m\u001b[0;32mTrue\u001b[0m\u001b[0;34m)\u001b[0m\u001b[0;34m\u001b[0m\u001b[0m\n\u001b[0m\u001b[1;32m      2\u001b[0m \u001b[0mprint\u001b[0m\u001b[0;34m(\u001b[0m\u001b[0mtype1_report\u001b[0m\u001b[0;34m)\u001b[0m\u001b[0;34m\u001b[0m\u001b[0m\n\u001b[1;32m      3\u001b[0m \u001b[0mprint\u001b[0m\u001b[0;34m(\u001b[0m\u001b[0merror_num\u001b[0m\u001b[0;34m)\u001b[0m\u001b[0;34m\u001b[0m\u001b[0m\n",
      "\u001b[0;31mIndexError\u001b[0m: list index out of range"
     ]
    }
   ],
   "source": [
    "type1_report, error_num = gr.reportTypeOneError([m.type_one_errors[0]], explain_details=True)\n",
    "print(type1_report)\n",
    "print(error_num)"
   ]
  },
  {
   "cell_type": "code",
   "execution_count": null,
   "metadata": {},
   "outputs": [],
   "source": [
    "[m.type_three_errors[0]]"
   ]
  },
  {
   "cell_type": "code",
   "execution_count": null,
   "metadata": {},
   "outputs": [],
   "source": [
    "a = gr.reportTypeThreeError(m.type_three_errors, explain_details=True)\n",
    "a"
   ]
  },
  {
   "cell_type": "code",
   "execution_count": null,
   "metadata": {},
   "outputs": [],
   "source": [
    "type3_report, error_num = gr.reportTypeThreeError(m.type_three_errors, explain_details=True)\n",
    "print(type3_report)\n",
    "print(error_num)"
   ]
  },
  {
   "cell_type": "code",
   "execution_count": null,
   "metadata": {},
   "outputs": [],
   "source": [
    "type2_report, error_num = gr.reportTypeTwoError([m.type_two_errors[1]], explain_details=True)\n",
    "print(type2_report)\n",
    "print(error_num)"
   ]
  },
  {
   "cell_type": "code",
   "execution_count": null,
   "metadata": {},
   "outputs": [],
   "source": [
    "type2_report"
   ]
  },
  {
   "cell_type": "code",
   "execution_count": null,
   "metadata": {},
   "outputs": [],
   "source": [
    "echelon_report, error_num = gr.reportEchelonError(m.echelon_errors, explain_details=True)\n",
    "print(echelon_report)\n",
    "print(error_num)"
   ]
  },
  {
   "cell_type": "code",
   "execution_count": null,
   "metadata": {},
   "outputs": [],
   "source": [
    "echelon_report"
   ]
  },
  {
   "cell_type": "code",
   "execution_count": null,
   "metadata": {},
   "outputs": [],
   "source": [
    "canceling_report, error_num = gr.reportCancelingError(m.canceling_errors, explain_details=True)\n",
    "print(canceling_report)\n",
    "print(error_num)"
   ]
  },
  {
   "cell_type": "code",
   "execution_count": null,
   "metadata": {},
   "outputs": [],
   "source": [
    "data_dir=cn.BIOMODELS_DIR\n",
    "#files = [f for f in os.listdir(data_dir) if f[-4:] == \".xml\"]\n",
    "files = [f for f in os.listdir(data_dir) if f[:7] == \"BIOMD00\"]\n",
    "paths = [os.path.join(data_dir, filename) for filename in files]\n",
    "# this will test which model has which error;;\n",
    "model_count = 0\n",
    "count = 0\n",
    "simple = SimpleSBML\n",
    "for file in files:\n",
    "  try:\n",
    "    simple.initialize(os.path.join(data_dir, file))\n",
    "    model_count += 1\n",
    "    if model_count%100 == 0:\n",
    "      print(\"we are doing model\", model_count)\n",
    "    m = GAMES_PP(simple)\n",
    "    if m.analyze(error_details=False):\n",
    "      if (len(simple.reactions) > 100) and (len(m.type_one_errors)>1):\n",
    "        print(file, \"has type I error with more than 100 reactions\")\n",
    "        count += 1\n",
    "    if count > 5:\n",
    "      break\n",
    "  except:\n",
    "    pass"
   ]
  },
  {
   "cell_type": "code",
   "execution_count": null,
   "metadata": {},
   "outputs": [],
   "source": [
    "# this will test which model has which error;;\n",
    "model_count = 0\n",
    "count = 0\n",
    "for i in range(1, 150):\n",
    "  try:\n",
    "    simple = load_file_from_curated_data(i)\n",
    "    model_count += 1\n",
    "    if model_count%100 == 0:\n",
    "      print(\"we are doing model\", model_count)\n",
    "    m = GAMES_PP(simple)\n",
    "    m.analyze(error_details=False)\n",
    "    if m.echelon_errors or m.type_three_errors:\n",
    "        print(\"model\", model_count, \" has an echelon or type three error!\")\n",
    "        if count == 5:\n",
    "          break\n",
    "  except:\n",
    "    pass"
   ]
  },
  {
   "cell_type": "code",
   "execution_count": null,
   "metadata": {},
   "outputs": [],
   "source": []
  }
 ],
 "metadata": {
  "kernelspec": {
   "display_name": "Python 3",
   "language": "python",
   "name": "python3"
  },
  "language_info": {
   "codemirror_mode": {
    "name": "ipython",
    "version": 3
   },
   "file_extension": ".py",
   "mimetype": "text/x-python",
   "name": "python",
   "nbconvert_exporter": "python",
   "pygments_lexer": "ipython3",
   "version": "3.6.4"
  }
 },
 "nbformat": 4,
 "nbformat_minor": 2
}
