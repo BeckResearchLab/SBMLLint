{
 "cells": [
  {
   "cell_type": "code",
   "execution_count": 1,
   "metadata": {},
   "outputs": [],
   "source": [
    "#from games_setup import *\n",
    "import init\n",
    "from SBMLLint.common import constants as cn\n",
    "from SBMLLint.common.molecule import Molecule, MoleculeStoichiometry\n",
    "from SBMLLint.common.reaction import Reaction\n",
    "from SBMLLint.games.som import SOM\n",
    "from SBMLLint.common.simple_sbml import SimpleSBML\n",
    "\n",
    "import collections\n",
    "import itertools\n",
    "import networkx as nx\n",
    "import numpy as np\n",
    "import os\n",
    "import pandas as pd\n",
    "#\n",
    "from SBMLLint.common.stoichiometry_matrix import StoichiometryMatrix\n",
    "from SBMLLint.games.mesgraph import MESGraph\n",
    "from SBMLLint.games.games_pp import GAMES_PP, SOMStoichiometry, SOMReaction, TOLERANCE\n",
    "from SBMLLint.games.games_report import GAMESReport, SimplifiedReaction\n",
    "NULL_STR = \"\"\n",
    "ReactionOperation = collections.namedtuple(\"ReactionOperation\", \n",
    "    \"reaction operation\")"
   ]
  },
  {
   "cell_type": "code",
   "execution_count": 2,
   "metadata": {},
   "outputs": [],
   "source": [
    "PREFIX = \"BIOMD0000000\"\n",
    "\n",
    "def load_file_from_curated_data(num):\n",
    "\n",
    "  format_num = format(num, '03d')\n",
    "  filename = \"%s%s_url.xml\" % (PREFIX, format_num)\n",
    "  path = os.path.join(cn.BIOMODELS_DIR, filename)\n",
    "  simple = SimpleSBML()\n",
    "  simple.initialize(path)\n",
    "  return simple"
   ]
  },
  {
   "cell_type": "code",
   "execution_count": 3,
   "metadata": {},
   "outputs": [],
   "source": [
    "simple = load_file_from_curated_data(248)"
   ]
  },
  {
   "cell_type": "code",
   "execution_count": 4,
   "metadata": {},
   "outputs": [
    {
     "data": {
      "text/plain": [
       "[ATPase: ATP -> ADP; Tissue * Katpase * ATP,\n",
       " OxidativePhosphorylation: 6.00 ADP + CTtis -> 6.00 ATP; Tissue * Vmax * (CFtis / (Km + CFtis)) * ADP / (Kadp + ADP),\n",
       " ConvectionTransport:  -> CTcap; Qm * (CTart - CTcap),\n",
       " DiffusionTransport: CTcap -> CTtis; PSm * (CFcap - CFtis),\n",
       " CreatineKinase: ADP + PCr -> ATP + Cr; Tissue * (VfCK * ADP * PCr / (Kb * Kia) - VrCK * Cr * ATP / (Kiq * Kp)) / ((Kia + ADP) / Kia + ATP / Kiq + PCr / Kib + ADP * PCr / (Kb * Kia) + Cr * ATP / (Kiq * Kp))]"
      ]
     },
     "execution_count": 4,
     "metadata": {},
     "output_type": "execute_result"
    }
   ],
   "source": [
    "simple.reactions"
   ]
  },
  {
   "cell_type": "code",
   "execution_count": 5,
   "metadata": {},
   "outputs": [
    {
     "name": "stdout",
     "output_type": "stream",
     "text": [
      "Model analyzed...\n",
      "Type I error:  []\n",
      "Type II error:  []\n",
      "Canceling error:  [OxidativePhosphorylation: {CTcap=CTtis} -> ]\n",
      "Echelon error:  []\n",
      "Type III error:  [] \n",
      "\n",
      "At least one error found.\n",
      "\n",
      "analysis result is:  True\n"
     ]
    }
   ],
   "source": [
    "# Model 248 is for canceling error\n",
    "# Model 14/167 for a type three error / echelon\n",
    "# Model 7 for type 1 error\n",
    "# Model 18 for type 2 error\n",
    "\n",
    "######## examine model 628 for large echelon error ###########\n",
    "simple = load_file_from_curated_data(248)\n",
    "# for r in simple.reactions:\n",
    "#   if r.category != cn.REACTION_BOUNDARY and r.category != cn.REACTION_1_1:\n",
    "#     print(r.makeIdentifier(is_include_kinetics=False))\n",
    "m = GAMES_PP(simple)\n",
    "k = m.analyze(error_details=True)\n",
    "print(\"analysis result is: \", k)\n",
    "gr = GAMESReport(m)"
   ]
  },
  {
   "cell_type": "code",
   "execution_count": 6,
   "metadata": {},
   "outputs": [
    {
     "data": {
      "text/html": [
       "<div>\n",
       "<style scoped>\n",
       "    .dataframe tbody tr th:only-of-type {\n",
       "        vertical-align: middle;\n",
       "    }\n",
       "\n",
       "    .dataframe tbody tr th {\n",
       "        vertical-align: top;\n",
       "    }\n",
       "\n",
       "    .dataframe thead th {\n",
       "        text-align: right;\n",
       "    }\n",
       "</style>\n",
       "<table border=\"1\" class=\"dataframe\">\n",
       "  <thead>\n",
       "    <tr style=\"text-align: right;\">\n",
       "      <th></th>\n",
       "      <th>statPhosphorylation</th>\n",
       "      <th>PstatDimerisation</th>\n",
       "      <th>PstatDimerisationNuc</th>\n",
       "    </tr>\n",
       "  </thead>\n",
       "  <tbody>\n",
       "    <tr>\n",
       "      <th>{species_test}</th>\n",
       "      <td>1.0</td>\n",
       "      <td>0.0</td>\n",
       "      <td>0.0</td>\n",
       "    </tr>\n",
       "    <tr>\n",
       "      <th>{Pstat_sol}</th>\n",
       "      <td>1.0</td>\n",
       "      <td>-2.0</td>\n",
       "      <td>0.0</td>\n",
       "    </tr>\n",
       "    <tr>\n",
       "      <th>{PstatDimer_nuc=PstatDimer_sol}</th>\n",
       "      <td>0.0</td>\n",
       "      <td>1.0</td>\n",
       "      <td>1.0</td>\n",
       "    </tr>\n",
       "    <tr>\n",
       "      <th>{Pstat_nuc=stat_nuc=stat_sol}</th>\n",
       "      <td>-1.0</td>\n",
       "      <td>0.0</td>\n",
       "      <td>-2.0</td>\n",
       "    </tr>\n",
       "  </tbody>\n",
       "</table>\n",
       "</div>"
      ],
      "text/plain": [
       "                                 statPhosphorylation  PstatDimerisation  \\\n",
       "{species_test}                                   1.0                0.0   \n",
       "{Pstat_sol}                                      1.0               -2.0   \n",
       "{PstatDimer_nuc=PstatDimer_sol}                  0.0                1.0   \n",
       "{Pstat_nuc=stat_nuc=stat_sol}                   -1.0                0.0   \n",
       "\n",
       "                                 PstatDimerisationNuc  \n",
       "{species_test}                                    0.0  \n",
       "{Pstat_sol}                                       0.0  \n",
       "{PstatDimer_nuc=PstatDimer_sol}                   1.0  \n",
       "{Pstat_nuc=stat_nuc=stat_sol}                    -2.0  "
      ]
     },
     "execution_count": 6,
     "metadata": {},
     "output_type": "execute_result"
    }
   ],
   "source": [
    "m.echelon_df"
   ]
  },
  {
   "cell_type": "code",
   "execution_count": null,
   "metadata": {},
   "outputs": [],
   "source": [
    "count = 0\n",
    "for som in m.nodes:\n",
    "  if len(som.molecules)>1:\n",
    "    count = count + len(som.reactions)\n",
    "print(count)"
   ]
  },
  {
   "cell_type": "code",
   "execution_count": null,
   "metadata": {},
   "outputs": [],
   "source": [
    "np.linalg.cond(m.lower_inverse)"
   ]
  },
  {
   "cell_type": "code",
   "execution_count": null,
   "metadata": {},
   "outputs": [],
   "source": [
    "len(simple.reactions)"
   ]
  },
  {
   "cell_type": "code",
   "execution_count": null,
   "metadata": {},
   "outputs": [],
   "source": [
    "resulting_series = gr.getResultingSeries(\"statPhosphorylation\")"
   ]
  },
  {
   "cell_type": "code",
   "execution_count": null,
   "metadata": {},
   "outputs": [],
   "source": [
    "len(simple.reactions)"
   ]
  },
  {
   "cell_type": "code",
   "execution_count": null,
   "metadata": {},
   "outputs": [],
   "source": [
    "type1_report, error_num = gr.reportTypeOneError([m.type_one_errors[1]], explain_details=True)\n",
    "print(type1_report)\n",
    "print(error_num)"
   ]
  },
  {
   "cell_type": "code",
   "execution_count": null,
   "metadata": {},
   "outputs": [],
   "source": [
    "[m.type_three_errors[0]]"
   ]
  },
  {
   "cell_type": "code",
   "execution_count": null,
   "metadata": {},
   "outputs": [],
   "source": [
    "a = gr.reportTypeThreeError(m.type_three_errors, explain_details=True)\n",
    "a"
   ]
  },
  {
   "cell_type": "code",
   "execution_count": null,
   "metadata": {},
   "outputs": [],
   "source": [
    "type3_report, error_num = gr.reportTypeThreeError(m.type_three_errors, explain_details=True)\n",
    "print(type3_report)\n",
    "print(error_num)"
   ]
  },
  {
   "cell_type": "code",
   "execution_count": null,
   "metadata": {},
   "outputs": [],
   "source": [
    "type2_report, error_num = gr.reportTypeTwoError([m.type_two_errors[1]], explain_details=True)\n",
    "print(type2_report)\n",
    "print(error_num)"
   ]
  },
  {
   "cell_type": "code",
   "execution_count": null,
   "metadata": {},
   "outputs": [],
   "source": [
    "type2_report"
   ]
  },
  {
   "cell_type": "code",
   "execution_count": 15,
   "metadata": {},
   "outputs": [
    {
     "name": "stdout",
     "output_type": "stream",
     "text": [
      "\n",
      "We detected a mass imbalance\n",
      ":  -> species_test\n",
      "\n",
      "from the following isolation set.\n",
      "\n",
      "1. statPhosphorylation: stat_sol -> Pstat_sol + species_test\n",
      "2. PstatDimerisation: 2.00 Pstat_sol -> PstatDimer_sol\n",
      "3. PstatDimerisationNuc: 2.00 Pstat_nuc -> PstatDimer_nuc\n",
      "4. stat_export: stat_sol -> stat_nuc\n",
      "5. statDephosphorylation: Pstat_nuc -> stat_nuc\n",
      "6. PstatDimer__import: PstatDimer_sol -> PstatDimer_nuc\n",
      "\n",
      "\n",
      "**********************************************************************\n",
      "\n",
      "\n",
      "[3]\n"
     ]
    }
   ],
   "source": [
    "echelon_report, error_num = gr.reportEchelonError(m.echelon_errors, explain_details=False)\n",
    "print(echelon_report)\n",
    "print(error_num)"
   ]
  },
  {
   "cell_type": "code",
   "execution_count": 5,
   "metadata": {},
   "outputs": [
    {
     "name": "stdout",
     "output_type": "stream",
     "text": [
      "We detected a mass imbalance\n",
      ": OxidativePhosphorylation: CTtis -> \n",
      "\n",
      "from the followign isolation set:\n",
      "\n",
      "1. OxidativePhosphorylation: 6.00 ADP + CTtis -> 6.00 ATP\n",
      "2. ATPase: ATP -> ADP\n",
      "*ATP and ADP have the same mass according to the above reaction\n",
      "\n",
      "\n",
      "----------------------------------------------------------------------\n",
      "\n",
      "----------------------------------------------------------------------\n",
      "\n",
      "\n",
      "\n",
      "**********************************************************************\n",
      "\n",
      "\n",
      "[2]\n"
     ]
    }
   ],
   "source": [
    "canceling_report, error_num = gr.reportCancelingError(m.canceling_errors, explain_details=True)\n",
    "print(canceling_report)\n",
    "print(error_num)"
   ]
  },
  {
   "cell_type": "code",
   "execution_count": null,
   "metadata": {},
   "outputs": [],
   "source": [
    "data_dir=cn.BIOMODELS_DIR\n",
    "#files = [f for f in os.listdir(data_dir) if f[-4:] == \".xml\"]\n",
    "files = [f for f in os.listdir(data_dir) if f[:7] == \"BIOMD00\"]\n",
    "paths = [os.path.join(data_dir, filename) for filename in files]\n",
    "# this will test which model has which error;;\n",
    "model_count = 0\n",
    "count = 0\n",
    "simple = SimpleSBML\n",
    "for file in files:\n",
    "  try:\n",
    "    simple.initialize(os.path.join(data_dir, file))\n",
    "    model_count += 1\n",
    "    if model_count%100 == 0:\n",
    "      print(\"we are doing model\", model_count)\n",
    "    m = GAMES_PP(simple)\n",
    "    if m.analyze(error_details=False):\n",
    "      if (len(simple.reactions) > 100) and (len(m.type_one_errors)>1):\n",
    "        print(file, \"has type I error with more than 100 reactions\")\n",
    "        count += 1\n",
    "    if count > 5:\n",
    "      break\n",
    "  except:\n",
    "    pass"
   ]
  },
  {
   "cell_type": "code",
   "execution_count": null,
   "metadata": {},
   "outputs": [],
   "source": [
    "# this will test which model has which error;;\n",
    "model_count = 0\n",
    "count = 0\n",
    "for i in range(1, 150):\n",
    "  try:\n",
    "    simple = load_file_from_curated_data(i)\n",
    "    model_count += 1\n",
    "    if model_count%100 == 0:\n",
    "      print(\"we are doing model\", model_count)\n",
    "    m = GAMES_PP(simple)\n",
    "    m.analyze(error_details=False)\n",
    "    if m.echelon_errors or m.type_three_errors:\n",
    "        print(\"model\", model_count, \" has an echelon or type three error!\")\n",
    "        if count == 5:\n",
    "          break\n",
    "  except:\n",
    "    pass"
   ]
  },
  {
   "cell_type": "code",
   "execution_count": null,
   "metadata": {},
   "outputs": [],
   "source": []
  }
 ],
 "metadata": {
  "kernelspec": {
   "display_name": "Python 3",
   "language": "python",
   "name": "python3"
  },
  "language_info": {
   "codemirror_mode": {
    "name": "ipython",
    "version": 3
   },
   "file_extension": ".py",
   "mimetype": "text/x-python",
   "name": "python",
   "nbconvert_exporter": "python",
   "pygments_lexer": "ipython3",
   "version": "3.6.9"
  }
 },
 "nbformat": 4,
 "nbformat_minor": 4
}
