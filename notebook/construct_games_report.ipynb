{
 "cells": [
  {
   "cell_type": "code",
   "execution_count": 5,
   "metadata": {},
   "outputs": [],
   "source": [
    "from games_setup import *\n",
    "from SBMLLint.common import constants as cn\n",
    "from SBMLLint.common.molecule import Molecule, MoleculeStoichiometry\n",
    "from SBMLLint.common.reaction import Reaction\n",
    "from SBMLLint.games.som import SOM\n",
    "from SBMLLint.common.simple_sbml import SimpleSBML\n",
    "\n",
    "import collections\n",
    "import itertools\n",
    "import networkx as nx\n",
    "import numpy as np\n",
    "import pandas as pd\n",
    "#\n",
    "from SBMLLint.common.stoichiometry_matrix import StoichiometryMatrix\n",
    "from SBMLLint.games.mesgraph import MESGraph\n",
    "from SBMLLint.games.games_pp import GAMES_PP, SOMStoichiometry, SOMReaction, TOLERANCE\n",
    "from SBMLLint.games.games_report import GAMESReport, SimplifiedReaction\n",
    "\n",
    "ReactionOperation = collections.namedtuple(\"ReactionOperation\", \n",
    "    \"reaction operation\")"
   ]
  },
  {
   "cell_type": "code",
   "execution_count": 9,
   "metadata": {},
   "outputs": [
    {
     "name": "stdout",
     "output_type": "stream",
     "text": [
      "We just analyzed the data...\n",
      "Type I error:  []\n",
      "Type II error:  []\n",
      "Canceling error:  []\n",
      "Echelon error:  [statPhosphorylation:  -> {species_test}]\n",
      "Type III error:  [PstatDimerisation: 2.00 {Pstat_sol} -> 2.00 {Pstat_nuc=stat_nuc=stat_sol}]\n",
      "Type I-SOM error:  set()\n"
     ]
    }
   ],
   "source": [
    "# Model 248 is for canceling error\n",
    "# Model 14/167 for a type three error / echelon\n",
    "# Model 7 for type 1 error\n",
    "# Model 18 for type 2 error\n",
    "\n",
    "######## examine model 628 for large echelon error ###########\n",
    "simple = load_file_from_curated_data(167)\n",
    "# for r in simple.reactions:\n",
    "#   if r.category != cn.REACTION_BOUNDARY and r.category != cn.REACTION_1_1:\n",
    "#     print(r.makeIdentifier(is_include_kinetics=False))\n",
    "m = GAMES_PP(simple)\n",
    "m.analyze()\n",
    "gr = GAMESReport(m)"
   ]
  },
  {
   "cell_type": "code",
   "execution_count": 3,
   "metadata": {},
   "outputs": [
    {
     "name": "stdout",
     "output_type": "stream",
     "text": [
      "14\n"
     ]
    }
   ],
   "source": [
    "count = 0\n",
    "for som in m.nodes:\n",
    "  if len(som.molecules)>1:\n",
    "    count = count + len(som.reactions)\n",
    "print(count)"
   ]
  },
  {
   "cell_type": "code",
   "execution_count": 4,
   "metadata": {},
   "outputs": [
    {
     "data": {
      "text/plain": [
       "1.6403882032022075"
      ]
     },
     "execution_count": 4,
     "metadata": {},
     "output_type": "execute_result"
    }
   ],
   "source": [
    "np.linalg.cond(m.lower_inverse)"
   ]
  },
  {
   "cell_type": "code",
   "execution_count": 13,
   "metadata": {},
   "outputs": [
    {
     "data": {
      "text/plain": [
       "827"
      ]
     },
     "execution_count": 13,
     "metadata": {},
     "output_type": "execute_result"
    }
   ],
   "source": [
    "len(simple.reactions)"
   ]
  },
  {
   "cell_type": "code",
   "execution_count": 16,
   "metadata": {},
   "outputs": [],
   "source": [
    "resulting_series = gr.getResultingSeries(\"statPhosphorylation\")"
   ]
  },
  {
   "cell_type": "code",
   "execution_count": 11,
   "metadata": {},
   "outputs": [
    {
     "data": {
      "text/plain": [
       "827"
      ]
     },
     "execution_count": 11,
     "metadata": {},
     "output_type": "execute_result"
    }
   ],
   "source": [
    "len(simple.reactions)"
   ]
  },
  {
   "cell_type": "code",
   "execution_count": 12,
   "metadata": {},
   "outputs": [
    {
     "name": "stdout",
     "output_type": "stream",
     "text": [
      "We detected a mass imbalance from the following reactions:\n",
      "\n",
      "\n",
      "c154 = c86 by reaction(s):\n",
      "1. v537: c154 -> c86\n",
      "\n",
      "c86 = c160 by reaction(s):\n",
      "2. v601: c160 -> c86\n",
      "\n",
      "However, c154 < c160 by reaction(s):\n",
      "3. v13: c10 + c154 -> c160\n",
      "\n",
      "\n",
      "----------------------------------------------------------------------\n",
      "\n",
      "\n",
      "\n",
      "**********************************************************************\n",
      "\n",
      "\n",
      "[3]\n"
     ]
    }
   ],
   "source": [
    "type1_report, error_num = gr.reportTypeOneError([m.type_one_errors[1]], explain_details=True)\n",
    "print(type1_report)\n",
    "print(error_num)"
   ]
  },
  {
   "cell_type": "code",
   "execution_count": 4,
   "metadata": {},
   "outputs": [
    {
     "data": {
      "text/plain": [
       "[Reaction29: {K_MAPKP_1_2} -> {MAPKP}]"
      ]
     },
     "execution_count": 4,
     "metadata": {},
     "output_type": "execute_result"
    }
   ],
   "source": [
    "[m.type_three_errors[0]]"
   ]
  },
  {
   "cell_type": "code",
   "execution_count": 9,
   "metadata": {},
   "outputs": [],
   "source": [
    "a = gr.reportTypeThreeError(m.type_three_errors, explain_details=True)\n",
    "a"
   ]
  },
  {
   "cell_type": "code",
   "execution_count": 10,
   "metadata": {},
   "outputs": [
    {
     "name": "stdout",
     "output_type": "stream",
     "text": [
      "We detected a mass imbalance from the following reactions:\n",
      "\n",
      "1. PstatDimerisation: 2.00 Pstat_sol -> PstatDimer_sol\n",
      "2. PstatDimerisationNuc: 2.00 Pstat_nuc -> PstatDimer_nuc\n",
      "\n",
      "----------------------------------------------------------------------\n",
      "\n",
      "These uni-uni reactions created mass-equivalence.\n",
      "(The molecules within a curly bracket have the same atomic mass.)\n",
      "\n",
      "3. PstatDimer__import: PstatDimer_sol -> PstatDimer_nuc;   {PstatDimer_sol=PstatDimer_nuc}\n",
      "4. stat_export: stat_sol -> stat_nuc;   {stat_sol=stat_nuc}\n",
      "5. statDephosphorylation: Pstat_nuc -> stat_nuc;   {stat_sol=stat_nuc=Pstat_nuc}\n",
      "\n",
      "----------------------------------------------------------------------\n",
      "\n",
      "These multi-uni (uni-multi) reactions created mass-inequality.\n",
      "\n",
      "6. statPhosphorylation: stat_sol -> Pstat_sol + species_test\n",
      "\n",
      "----------------------------------------------------------------------\n",
      "\n",
      "Based on the reactions above, we have mass-equivalent pseudo reactions.\n",
      "\n",
      "(pseudo 1.) PstatDimerisation: 2.00 {Pstat_sol} -> {PstatDimer_nuc=PstatDimer_sol}\n",
      "(pseudo 2.) PstatDimerisationNuc: 2.00 {Pstat_nuc=stat_nuc=stat_sol} -> {PstatDimer_nuc=PstatDimer_sol}\n",
      "\n",
      "----------------------------------------------------------------------\n",
      "\n",
      "An operation between pseudo reactions:\n",
      "\n",
      "1.00 * PstatDimerisation - 1.00 * PstatDimerisationNuc\n",
      "\n",
      "\n",
      "will result in a uni-uni reaction:\n",
      "\n",
      ": 2.00 {Pstat_sol} -> 2.00 {Pstat_nuc=stat_nuc=stat_sol}\n",
      "\n",
      "\n",
      "meaning {Pstat_sol} and {Pstat_nuc=stat_nuc=stat_sol} have equal mass.\n",
      "\n",
      "\n",
      "----------------------------------------------------------------------\n",
      "\n",
      "However, the following mass-equivalent pseudo reaction(s):\n",
      "\n",
      "6. statPhosphorylation: stat_sol -> Pstat_sol + species_test\n",
      "(pseudo 6.) statPhosphorylation: {Pstat_nuc=stat_nuc=stat_sol} -> {species_test} + {Pstat_sol}\n",
      "\n",
      "incidates the masses of {Pstat_sol} and {Pstat_nuc=stat_nuc=stat_sol} are unequal.\n",
      "\n",
      "This creates a mass conflict between reactions.\n",
      "\n",
      "----------------------------------------------------------------------\n",
      "\n",
      "----------------------------------------------------------------------\n",
      "\n",
      "\n",
      "\n",
      "**********************************************************************\n",
      "\n",
      "\n",
      "[3]\n"
     ]
    }
   ],
   "source": [
    "type3_report, error_num = gr.reportTypeThreeError(m.type_three_errors, explain_details=True)\n",
    "print(type3_report)\n",
    "print(error_num)"
   ]
  },
  {
   "cell_type": "code",
   "execution_count": 22,
   "metadata": {},
   "outputs": [
    {
     "name": "stdout",
     "output_type": "stream",
     "text": [
      "We detected a mass imbalance from the following reactions:\n",
      "\n",
      "These uni-uni reactions created mass-equivalence.\n",
      "\n",
      "1. FFH2syn: FH2f -> FFH2\n",
      "2. SHMTr: CH2FH4 -> FH4\n",
      "3. DHFReductase: FH2f -> FH4\n",
      "\n",
      "----------------------------------------------------------------------\n",
      "\n",
      "The following reactions create mass-inequality.\n",
      "\n",
      "4. MTHFR: CH2FH4 + NADPH -> CH3FH4\n",
      "5. MTR: CH3FH4 + homocysteine -> FH4\n",
      "\n",
      "----------------------------------------------------------------------\n",
      "\n",
      "Based on the reactions above, we have mass-equivalent pseudo reactions.\n",
      "\n",
      "(pseudo 4.) MTHFR: {CH2FH4=FFH2=FH2f=FH4} + {NADPH} -> {CH3FH4}\n",
      "(pseudo 5.) MTR: {homocysteine} + {CH3FH4} -> {CH2FH4=FFH2=FH2f=FH4}\n",
      "\n",
      "----------------------------------------------------------------------\n",
      "\n",
      "However, the above pseudo reactions imply the following inequalities:\n",
      "\n",
      "{CH2FH4=FFH2=FH2f=FH4} < {CH3FH4} < {CH2FH4=FFH2=FH2f=FH4}\n",
      "\n",
      "This indicates a mass conflict between reactions.\n",
      "\n",
      "----------------------------------------------------------------------\n",
      "\n",
      "----------------------------------------------------------------------\n",
      "\n",
      "\n",
      "[5]\n"
     ]
    }
   ],
   "source": [
    "type2_report, error_num = gr.reportTypeTwoError([m.type_two_errors[1]], explain_details=True)\n",
    "print(type2_report)\n",
    "print(error_num)"
   ]
  },
  {
   "cell_type": "code",
   "execution_count": 12,
   "metadata": {},
   "outputs": [
    {
     "data": {
      "text/plain": [
       "'We detected a mass imbalance from the following reactions:\\n\\nThese uni-uni reactions created mass-equivalence.\\n\\n1. FFH2syn: FH2f -> FFH2\\n2. SHMTr: CH2FH4 -> FH4\\n3. DHFReductase: FH2f -> FH4\\n\\n----------------------------------------------------------------------\\n\\nThe following reactions create mass-inequality.\\n\\n4. HCOOHtoCHOFH4: FH4 + formate + ATP -> CHOFH4\\n5. MTHFD: CH2FH4 + NADP -> CHOFH4\\n6. ATIC7: CHOFH4 + AICAR -> FH4\\n\\n----------------------------------------------------------------------\\n\\nBased on the reactions above, we have mass-equivalent pseudo reactions.\\n\\n(pseudo 4.) HCOOHtoCHOFH4: {CH2FH4=FFH2=FH2f=FH4} + {formate} + {ATP} -> {CHOFH4}\\n(pseudo 5.) MTHFD: {CH2FH4=FFH2=FH2f=FH4} + {NADP} -> {CHOFH4}\\n(pseudo 6.) ATIC7: {CHOFH4} + {AICAR=FGAR} -> {CH2FH4=FFH2=FH2f=FH4}\\n\\n----------------------------------------------------------------------\\n\\nHowever, the above pseudo reactions imply the following inequalities:\\n\\n{CH2FH4=FFH2=FH2f=FH4} < {CHOFH4} < {CH2FH4=FFH2=FH2f=FH4}\\n\\nThis indicates a mass conflict between reactions.\\n\\n----------------------------------------------------------------------\\n\\n----------------------------------------------------------------------\\n\\n'"
      ]
     },
     "execution_count": 12,
     "metadata": {},
     "output_type": "execute_result"
    }
   ],
   "source": [
    "type2_report"
   ]
  },
  {
   "cell_type": "code",
   "execution_count": 11,
   "metadata": {},
   "outputs": [
    {
     "name": "stdout",
     "output_type": "stream",
     "text": [
      "\n",
      "We detected a mass imbalance\n",
      ":  -> species_test\n",
      "\n",
      "from the following reactions.\n",
      "\n",
      "1. statPhosphorylation: stat_sol -> Pstat_sol + species_test\n",
      "2. PstatDimerisation: 2.00 Pstat_sol -> PstatDimer_sol\n",
      "3. PstatDimerisationNuc: 2.00 Pstat_nuc -> PstatDimer_nuc\n",
      "\n",
      "----------------------------------------------------------------------\n",
      "\n",
      "These uni-uni reactions created mass-equivalence.\n",
      "(The molecules within a curly bracket have the same atomic mass.)\n",
      "\n",
      "4. PstatDimer__import: PstatDimer_sol -> PstatDimer_nuc;   {PstatDimer_sol=PstatDimer_nuc}\n",
      "5. stat_export: stat_sol -> stat_nuc;   {stat_sol=stat_nuc}\n",
      "6. statDephosphorylation: Pstat_nuc -> stat_nuc;   {stat_sol=stat_nuc=Pstat_nuc}\n",
      "\n",
      "----------------------------------------------------------------------\n",
      "\n",
      "Based on the reactions above, we have mass-equivalent pseudo reactions.\n",
      "(pseudo 1.) statPhosphorylation: {Pstat_nuc=stat_nuc=stat_sol} -> {species_test} + {Pstat_sol}\n",
      "(pseudo 2.) PstatDimerisation: 2.00 {Pstat_sol} -> {PstatDimer_nuc=PstatDimer_sol}\n",
      "(pseudo 3.) PstatDimerisationNuc: 2.00 {Pstat_nuc=stat_nuc=stat_sol} -> {PstatDimer_nuc=PstatDimer_sol}\n",
      "\n",
      "----------------------------------------------------------------------\n",
      "\n",
      "An operation between pseudo reactions:\n",
      "1.00 * statPhosphorylation + 0.50 * PstatDimerisation - 0.50 * PstatDimerisationNuc\n",
      "\n",
      "will result in empty reactant with zero mass:\n",
      "\n",
      ":  -> {species_test}\n",
      "\n",
      "This indicates a mass conflict between reactions.\n",
      "\n",
      "----------------------------------------------------------------------\n",
      "\n",
      "----------------------------------------------------------------------\n",
      "\n",
      "\n",
      "\n",
      "**********************************************************************\n",
      "\n",
      "\n",
      "[3]\n"
     ]
    }
   ],
   "source": [
    "echelon_report, error_num = gr.reportEchelonError(m.echelon_errors, explain_details=True)\n",
    "print(echelon_report)\n",
    "print(error_num)"
   ]
  },
  {
   "cell_type": "code",
   "execution_count": 15,
   "metadata": {},
   "outputs": [
    {
     "data": {
      "text/plain": [
       "False"
      ]
     },
     "execution_count": 15,
     "metadata": {},
     "output_type": "execute_result"
    }
   ],
   "source": [
    "echelon_report"
   ]
  },
  {
   "cell_type": "code",
   "execution_count": 3,
   "metadata": {},
   "outputs": [
    {
     "name": "stdout",
     "output_type": "stream",
     "text": [
      "We detected a mass imbalance from the following reactions:\n",
      "\n",
      "1. OxidativePhosphorylation: 6.00 ADP + CTtis -> 6.00 ATP\n",
      "\n",
      "2. ATPase: ATP -> ADP\n",
      "\n",
      "*ATP and ADP have the same mass according to the above reaction\n",
      "\n",
      "\n",
      "Therefore, they will result in empty product with zero mass:\n",
      "\n",
      "OxidativePhosphorylation: CTtis -> \n",
      "\n",
      "This indicates a mass conflict between reactions.\n",
      "\n",
      "----------------------------------------------------------------------\n",
      "\n",
      "----------------------------------------------------------------------\n",
      "\n",
      "\n",
      "\n",
      "**********************************************************************\n",
      "\n",
      "\n",
      "[2]\n"
     ]
    }
   ],
   "source": [
    "canceling_report, error_num = gr.reportCancelingError(m.canceling_errors, explain_details=True)\n",
    "print(canceling_report)\n",
    "print(error_num)"
   ]
  },
  {
   "cell_type": "code",
   "execution_count": 7,
   "metadata": {},
   "outputs": [
    {
     "name": "stdout",
     "output_type": "stream",
     "text": [
      "we are doing model 100\n",
      "we are doing model 200\n",
      "BIOMD0000000255_url.xml has type I error with more than 100 reactions\n",
      "BIOMD0000000244_url.xml has type I error with more than 100 reactions\n",
      "BIOMD0000000560_url.xml has type I error with more than 100 reactions\n",
      "we are doing model 300\n",
      "BIOMD0000000293_url.xml has type I error with more than 100 reactions\n",
      "BIOMD0000000588_url.xml has type I error with more than 100 reactions\n",
      "BIOMD0000000223_url.xml has type I error with more than 100 reactions\n"
     ]
    }
   ],
   "source": [
    "data_dir=cn.BIOMODELS_DIR\n",
    "#files = [f for f in os.listdir(data_dir) if f[-4:] == \".xml\"]\n",
    "files = [f for f in os.listdir(data_dir) if f[:7] == \"BIOMD00\"]\n",
    "paths = [os.path.join(data_dir, filename) for filename in files]\n",
    "# this will test which model has which error;;\n",
    "model_count = 0\n",
    "count = 0\n",
    "simple = SimpleSBML\n",
    "for file in files:\n",
    "  try:\n",
    "    simple.initialize(os.path.join(data_dir, file))\n",
    "    model_count += 1\n",
    "    if model_count%100 == 0:\n",
    "      print(\"we are doing model\", model_count)\n",
    "    m = GAMES_PP(simple)\n",
    "    if m.analyze(error_details=False):\n",
    "      if (len(simple.reactions) > 100) and (len(m.type_one_errors)>1):\n",
    "        print(file, \"has type I error with more than 100 reactions\")\n",
    "        count += 1\n",
    "    if count > 5:\n",
    "      break\n",
    "  except:\n",
    "    pass"
   ]
  },
  {
   "cell_type": "code",
   "execution_count": 19,
   "metadata": {},
   "outputs": [
    {
     "name": "stdout",
     "output_type": "stream",
     "text": [
      "model 14  has an echelon or type three error!\n",
      "model 49  has an echelon or type three error!\n",
      "model 51  has an echelon or type three error!\n",
      "model 52  has an echelon or type three error!\n",
      "we are doing model 100\n",
      "model 102  has an echelon or type three error!\n",
      "model 109  has an echelon or type three error!\n",
      "model 140  has an echelon or type three error!\n"
     ]
    }
   ],
   "source": [
    "# this will test which model has which error;;\n",
    "model_count = 0\n",
    "count = 0\n",
    "for i in range(1, 150):\n",
    "  try:\n",
    "    simple = load_file_from_curated_data(i)\n",
    "    model_count += 1\n",
    "    if model_count%100 == 0:\n",
    "      print(\"we are doing model\", model_count)\n",
    "    m = GAMES_PP(simple)\n",
    "    m.analyze(error_details=False)\n",
    "    if m.echelon_errors or m.type_three_errors:\n",
    "        print(\"model\", model_count, \" has an echelon or type three error!\")\n",
    "        if count == 5:\n",
    "          break\n",
    "  except:\n",
    "    pass"
   ]
  },
  {
   "cell_type": "code",
   "execution_count": null,
   "metadata": {},
   "outputs": [],
   "source": []
  }
 ],
 "metadata": {
  "kernelspec": {
   "display_name": "Python 3",
   "language": "python",
   "name": "python3"
  },
  "language_info": {
   "codemirror_mode": {
    "name": "ipython",
    "version": 3
   },
   "file_extension": ".py",
   "mimetype": "text/x-python",
   "name": "python",
   "nbconvert_exporter": "python",
   "pygments_lexer": "ipython3",
   "version": "3.6.8"
  }
 },
 "nbformat": 4,
 "nbformat_minor": 2
}
