{
 "cells": [
  {
   "cell_type": "code",
   "execution_count": 1,
   "metadata": {},
   "outputs": [
    {
     "name": "stdout",
     "output_type": "stream",
     "text": [
      "Current Directory: /Users/woosubshin/Desktop/ModelEngineering/SBMLLint/notebook\n"
     ]
    }
   ],
   "source": [
    "from games_setup import *\n",
    "from SBMLLint.common import constants as cn\n",
    "from SBMLLint.common.molecule import Molecule, MoleculeStoichiometry\n",
    "from SBMLLint.common.reaction import Reaction\n",
    "from SBMLLint.games.som import SOM\n",
    "from SBMLLint.common.simple_sbml import SimpleSBML\n",
    "\n",
    "import collections\n",
    "import itertools\n",
    "import networkx as nx\n",
    "import numpy as np\n",
    "import pandas as pd\n",
    "#\n",
    "from SBMLLint.common.stoichiometry_matrix import StoichiometryMatrix\n",
    "from SBMLLint.games.mesgraph import MESGraph\n",
    "from SBMLLint.games.games_pp import GAMES_PP, SOMStoichiometry, SOMReaction, TOLERANCE\n",
    "from SBMLLint.games.games_report import GAMESReport, SimplifiedReaction\n",
    "\n",
    "ReactionOperation = collections.namedtuple(\"ReactionOperation\", \n",
    "    \"reaction operation\")"
   ]
  },
  {
   "cell_type": "code",
   "execution_count": 2,
   "metadata": {},
   "outputs": [
    {
     "name": "stdout",
     "output_type": "stream",
     "text": [
      "Capping: Cdc13 + Utelo -> Ctelo\n",
      "Uncapping: Ctelo -> Cdc13 + Utelo\n",
      "Rad17binding: Utelo + Rad17 + Rad24 + ATP -> Rad17Utelo + Rad24 + ADP\n",
      "ExoXactivation: ExoXI + Rad17Utelo -> ExoXA + Rad17Utelo\n",
      "ExoXactivity: ExoXA + Rad17Utelo -> ExoXA + Rad17Utelo + ssDNA\n",
      "Exo1activation: Exo1I -> Exo1A\n",
      "Exo1Rad24dependentActivation: Exo1I + Rad24 -> Exo1A + Rad24\n",
      "Exo1Rad17independentActivity: Utelo + Exo1A -> Utelo + Exo1A + ssDNA\n",
      "Exo1Rad17dependentActivity: Rad17Utelo + Exo1A -> Rad17Utelo + Exo1A + ssDNA\n",
      "RPAbinding1: ssDNA + RPA -> RPAssDNA1\n",
      "RPAbinding2: ssDNA + RPAssDNA1 -> RPAssDNA2\n",
      "RPAbinding: ssDNA + RPAssDNA2 -> RPAssDNA\n",
      "Mec1binding: RPAssDNA + Mec1 -> Mec1RPAssDNA\n",
      "Rad9activation: Rad9Kin + Rad9I -> Rad9Kin + Rad9A\n",
      "ExoXinhibition: ExoXA + Rad9A -> ExoXI + Rad9A\n",
      "ExoXinhibition2: ExoXA + Rad9I -> ExoXI + Rad9I\n",
      "Rad53activation: Rad53I + Rad9A -> Rad53A + Rad9A\n",
      "Chk1Activation: Chk1I + Rad9A -> Chk1A + Rad9A\n",
      "Exo1inhibition: Exo1A + Rad53A -> Exo1I + Rad53A\n",
      "Dun1activation: Dun1I + Rad53A -> Dun1A + Rad53A\n",
      "Chk1cellArrest: Chk1A + G2Mon -> Chk1A + G2Moff\n",
      "Dun1cellArrest: Dun1A + G2Mon -> Dun1A + G2Moff\n",
      "SDNArepair1: Mec1RPAssDNA + S -> Mec1 + RPA + S + 3.00 ssDNA\n",
      "G2DNArepair1: G2 + G2Moff + Mec1RPAssDNA -> G2 + G2Moff + Mec1 + RPA + 3.00 ssDNA\n",
      "SDNArepair2: S + ssDNA -> S\n",
      "G2DNArepair2: G2 + G2Moff + ssDNA -> G2 + G2Moff\n",
      "Recovery: Cdc13 + Rad17Utelo + recovery -> Ctelo + Rad17 + recovery\n",
      "G1cyclinSynthesis: G1 -> G1cyclin + G1\n",
      "ScyclinSynthesis: S -> Scyclin + S\n",
      "G2cyclinSynthesis: G2 -> G2cyclin + G2\n",
      "McyclinSynthesis: M -> Mcyclin + M\n",
      "G1toSGenesOn: G1Soff + G1 + G1CdkA -> G1Son + G1 + G1CdkA\n",
      "StoG2GenesOn: SG2off + S + SCdkA -> SG2on + S + SCdkA\n",
      "G2toMGenesOn: G2Moff + G2 + G2CdkA -> G2Mon + G2 + G2CdkA\n",
      "MtoG1GenesOn: MG1off + M + MCdkA -> MG1on + M + MCdkA\n",
      "G1cyclinDegradation: G1cyclin -> sink\n",
      "ScyclinDegradation: Scyclin -> sink\n",
      "G2cyclinDegradation: G2cyclin -> sink\n",
      "McyclinDegradation: Mcyclin -> sink\n",
      "G1toSProgession: G1 + G1CdkA + G1Son -> G1CdkI + G1Soff + S\n",
      "StoG2Progession: S + SCdkA + SG2on -> G2 + SCdkI + SG2off\n",
      "G2toMProgession: G2 + G2CdkA + G2Mon -> G2CdkI + G2Moff + M\n",
      "MtoG1Progession: M + MCdkA + MG1on -> budscar + G1 + MCdkI + MG1off\n",
      "Columns Dropped!\n",
      "['ExoXactivity', 'Exo1Rad17independentActivity', 'Exo1Rad17dependentActivity', 'G2DNArepair2']\n",
      "We just analyzed the data...\n",
      "Type I error:  [PathComponents(node1='G1', node2='G1', reactions=['G1cyclinSynthesis']), PathComponents(node1='G2', node2='G2', reactions=['G2cyclinSynthesis']), PathComponents(node1='M', node2='M', reactions=['McyclinSynthesis']), PathComponents(node1='S', node2='S', reactions=['ScyclinSynthesis', 'SDNArepair2'])]\n",
      "Type II error:  []\n",
      "Canceling error:  [ExoXactivity:  -> {ssDNA}, Exo1Rad17independentActivity:  -> {ssDNA}, Exo1Rad17dependentActivity:  -> {ssDNA}, G2DNArepair2: {ssDNA} -> ]\n",
      "Echelon error:  []\n",
      "Type III error:  []\n",
      "Type I-SOM error:  set()\n"
     ]
    }
   ],
   "source": [
    "# Model 248 is for canceling error\n",
    "# Model 14/167 for a type three error\n",
    "simple = load_file_from_curated_data(87)\n",
    "for r in simple.reactions:\n",
    "  if r.category != cn.REACTION_BOUNDARY:\n",
    "    print(r.makeIdentifier(is_include_kinetics=False))\n",
    "m = GAMES_PP(simple)\n",
    "m.analyze()\n",
    "gr = GAMESReport(m)"
   ]
  },
  {
   "cell_type": "code",
   "execution_count": 3,
   "metadata": {},
   "outputs": [
    {
     "name": "stdout",
     "output_type": "stream",
     "text": [
      "We detected a mass imbalance from the following reactions:\n",
      "\n",
      "1. ExoXactivity: ExoXA + Rad17Utelo -> ExoXA + Rad17Utelo + ssDNA\n",
      "\n",
      "*ExoXA is a common molecule in reactants and products, so can be canceled\n",
      "\n",
      "*Rad17Utelo is a common molecule in reactants and products, so can be canceled\n",
      "\n",
      "\n",
      "Therefore, they will result in empty reactant with zero mass:\n",
      "\n",
      "ExoXactivity:  -> {ssDNA}\n",
      "\n",
      "This indicates a mass conflict between reactions.\n",
      "\n",
      "----------------------------------------------------------------------\n",
      "\n",
      "----------------------------------------------------------------------\n",
      "\n",
      "We detected a mass imbalance from the following reactions:\n",
      "\n",
      "1. Exo1Rad17independentActivity: Utelo + Exo1A -> Utelo + Exo1A + ssDNA\n",
      "\n",
      "*Utelo is a common molecule in reactants and products, so can be canceled\n",
      "\n",
      "2. Exo1activation: Exo1I -> Exo1A\n",
      "\n",
      "*Exo1I and Exo1A have the same mass according to the above reaction\n",
      "\n",
      "\n",
      "Therefore, they will result in empty reactant with zero mass:\n",
      "\n",
      "Exo1Rad17independentActivity:  -> {ssDNA}\n",
      "\n",
      "This indicates a mass conflict between reactions.\n",
      "\n",
      "----------------------------------------------------------------------\n",
      "\n",
      "----------------------------------------------------------------------\n",
      "\n",
      "We detected a mass imbalance from the following reactions:\n",
      "\n",
      "1. Exo1Rad17dependentActivity: Rad17Utelo + Exo1A -> Rad17Utelo + Exo1A + ssDNA\n",
      "\n",
      "*Rad17Utelo is a common molecule in reactants and products, so can be canceled\n",
      "\n",
      "2. Exo1activation: Exo1I -> Exo1A\n",
      "\n",
      "*Exo1I and Exo1A have the same mass according to the above reaction\n",
      "\n",
      "\n",
      "Therefore, they will result in empty reactant with zero mass:\n",
      "\n",
      "Exo1Rad17dependentActivity:  -> {ssDNA}\n",
      "\n",
      "This indicates a mass conflict between reactions.\n",
      "\n",
      "----------------------------------------------------------------------\n",
      "\n",
      "----------------------------------------------------------------------\n",
      "\n",
      "We detected a mass imbalance from the following reactions:\n",
      "\n",
      "1. G2DNArepair2: G2 + G2Moff + ssDNA -> G2 + G2Moff\n",
      "\n",
      "*G2Moff is a common molecule in reactants and products, so can be canceled\n",
      "\n",
      "*G2 is a common molecule in reactants and products, so can be canceled\n",
      "\n",
      "\n",
      "Therefore, they will result in empty product with zero mass:\n",
      "\n",
      "G2DNArepair2: {ssDNA} -> \n",
      "\n",
      "This indicates a mass conflict between reactions.\n",
      "\n",
      "----------------------------------------------------------------------\n",
      "\n",
      "----------------------------------------------------------------------\n",
      "\n",
      "\n",
      "\n",
      "**********************************************************************\n",
      "\n",
      "\n"
     ]
    }
   ],
   "source": [
    "canceling_report = gr.reportCancelingError(m.canceling_errors, explain_details=True)\n",
    "print(canceling_report)"
   ]
  },
  {
   "cell_type": "code",
   "execution_count": 4,
   "metadata": {},
   "outputs": [
    {
     "name": "stdout",
     "output_type": "stream",
     "text": [
      "\n"
     ]
    }
   ],
   "source": [
    "echelon_report = gr.reportEchelonError(m.echelon_errors)\n",
    "print(echelon_report)\n",
    "detailed_echelon_report = gr.reportEchelonError(m.echelon_errors, explain_details=True)\n",
    "#print(detailed_echelon_report)"
   ]
  },
  {
   "cell_type": "code",
   "execution_count": 5,
   "metadata": {},
   "outputs": [
    {
     "ename": "IndexError",
     "evalue": "list index out of range",
     "output_type": "error",
     "traceback": [
      "\u001b[0;31m---------------------------------------------------------------------------\u001b[0m",
      "\u001b[0;31mIndexError\u001b[0m                                Traceback (most recent call last)",
      "\u001b[0;32m<ipython-input-5-024f185fc394>\u001b[0m in \u001b[0;36m<module>\u001b[0;34m\u001b[0m\n\u001b[0;32m----> 1\u001b[0;31m \u001b[0mtype3_report\u001b[0m \u001b[0;34m=\u001b[0m \u001b[0mgr\u001b[0m\u001b[0;34m.\u001b[0m\u001b[0mreportTypeThreeError\u001b[0m\u001b[0;34m(\u001b[0m\u001b[0mm\u001b[0m\u001b[0;34m.\u001b[0m\u001b[0mtype_three_errors\u001b[0m\u001b[0;34m)\u001b[0m\u001b[0;34m\u001b[0m\u001b[0;34m\u001b[0m\u001b[0m\n\u001b[0m\u001b[1;32m      2\u001b[0m \u001b[0;31m#print(type3_report)\u001b[0m\u001b[0;34m\u001b[0m\u001b[0;34m\u001b[0m\u001b[0;34m\u001b[0m\u001b[0m\n\u001b[1;32m      3\u001b[0m \u001b[0mdetailed_type3_report\u001b[0m \u001b[0;34m=\u001b[0m \u001b[0mgr\u001b[0m\u001b[0;34m.\u001b[0m\u001b[0mreportTypeThreeError\u001b[0m\u001b[0;34m(\u001b[0m\u001b[0mm\u001b[0m\u001b[0;34m.\u001b[0m\u001b[0mtype_three_errors\u001b[0m\u001b[0;34m,\u001b[0m \u001b[0mexplain_details\u001b[0m\u001b[0;34m=\u001b[0m\u001b[0;32mTrue\u001b[0m\u001b[0;34m)\u001b[0m\u001b[0;34m\u001b[0m\u001b[0;34m\u001b[0m\u001b[0m\n\u001b[1;32m      4\u001b[0m \u001b[0;31m#print(detailed_type3_report)\u001b[0m\u001b[0;34m\u001b[0m\u001b[0;34m\u001b[0m\u001b[0;34m\u001b[0m\u001b[0m\n",
      "\u001b[0;32m~/Desktop/ModelEngineering/SBMLLint/SBMLLint/games/games_report.py\u001b[0m in \u001b[0;36mreportTypeThreeError\u001b[0;34m(self, type_three_errors, explain_details)\u001b[0m\n\u001b[1;32m    584\u001b[0m         \u001b[0mreport\u001b[0m \u001b[0;34m=\u001b[0m \u001b[0mNULL_STR\u001b[0m\u001b[0;34m\u001b[0m\u001b[0;34m\u001b[0m\u001b[0m\n\u001b[1;32m    585\u001b[0m         \u001b[0mreaction_count\u001b[0m \u001b[0;34m=\u001b[0m \u001b[0;36m0\u001b[0m\u001b[0;34m\u001b[0m\u001b[0;34m\u001b[0m\u001b[0m\n\u001b[0;32m--> 586\u001b[0;31m         \u001b[0mtype3_error\u001b[0m \u001b[0;34m=\u001b[0m \u001b[0mtype_three_errors\u001b[0m\u001b[0;34m[\u001b[0m\u001b[0;36m0\u001b[0m\u001b[0;34m]\u001b[0m\u001b[0;34m\u001b[0m\u001b[0;34m\u001b[0m\u001b[0m\n\u001b[0m\u001b[1;32m    587\u001b[0m         \u001b[0;32mif\u001b[0m \u001b[0mtype3_error\u001b[0m\u001b[0;34m.\u001b[0m\u001b[0mcategory\u001b[0m \u001b[0;34m!=\u001b[0m \u001b[0mcn\u001b[0m\u001b[0;34m.\u001b[0m\u001b[0mREACTION_1_1\u001b[0m\u001b[0;34m:\u001b[0m\u001b[0;34m\u001b[0m\u001b[0;34m\u001b[0m\u001b[0m\n\u001b[1;32m    588\u001b[0m           \u001b[0mprint\u001b[0m\u001b[0;34m(\u001b[0m\u001b[0;34m\"This canot be a type three error!\"\u001b[0m\u001b[0;34m)\u001b[0m\u001b[0;34m\u001b[0m\u001b[0;34m\u001b[0m\u001b[0m\n",
      "\u001b[0;31mIndexError\u001b[0m: list index out of range"
     ]
    }
   ],
   "source": [
    "type3_report = gr.reportTypeThreeError(m.type_three_errors)\n",
    "#print(type3_report)\n",
    "detailed_type3_report = gr.reportTypeThreeError(m.type_three_errors, explain_details=True)\n",
    "#print(detailed_type3_report)"
   ]
  },
  {
   "cell_type": "code",
   "execution_count": null,
   "metadata": {},
   "outputs": [],
   "source": [
    "m.type_one_som_errors"
   ]
  },
  {
   "cell_type": "code",
   "execution_count": null,
   "metadata": {},
   "outputs": [],
   "source": []
  },
  {
   "cell_type": "code",
   "execution_count": 8,
   "metadata": {},
   "outputs": [
    {
     "data": {
      "text/plain": [
       "'3.00'"
      ]
     },
     "execution_count": 8,
     "metadata": {},
     "output_type": "execute_result"
    }
   ],
   "source": [
    "\"%.2f\" % (3.00)"
   ]
  },
  {
   "cell_type": "code",
   "execution_count": 6,
   "metadata": {},
   "outputs": [
    {
     "data": {
      "text/html": [
       "<div>\n",
       "<style scoped>\n",
       "    .dataframe tbody tr th:only-of-type {\n",
       "        vertical-align: middle;\n",
       "    }\n",
       "\n",
       "    .dataframe tbody tr th {\n",
       "        vertical-align: top;\n",
       "    }\n",
       "\n",
       "    .dataframe thead th {\n",
       "        text-align: right;\n",
       "    }\n",
       "</style>\n",
       "<table border=\"1\" class=\"dataframe\">\n",
       "  <thead>\n",
       "    <tr style=\"text-align: right;\">\n",
       "      <th></th>\n",
       "      <th>PstatDimerisation</th>\n",
       "      <th>statPhosphorylation</th>\n",
       "      <th>PstatDimerisationNuc</th>\n",
       "    </tr>\n",
       "  </thead>\n",
       "  <tbody>\n",
       "    <tr>\n",
       "      <th>{Pstat_sol}</th>\n",
       "      <td>-2.0</td>\n",
       "      <td>0.0</td>\n",
       "      <td>0.0</td>\n",
       "    </tr>\n",
       "    <tr>\n",
       "      <th>{species_test}</th>\n",
       "      <td>0.0</td>\n",
       "      <td>1.0</td>\n",
       "      <td>0.0</td>\n",
       "    </tr>\n",
       "    <tr>\n",
       "      <th>{PstatDimer_nuc, PstatDimer_sol}</th>\n",
       "      <td>0.0</td>\n",
       "      <td>0.0</td>\n",
       "      <td>1.0</td>\n",
       "    </tr>\n",
       "    <tr>\n",
       "      <th>{Pstat_nuc, stat_nuc, stat_sol}</th>\n",
       "      <td>2.0</td>\n",
       "      <td>0.0</td>\n",
       "      <td>-2.0</td>\n",
       "    </tr>\n",
       "  </tbody>\n",
       "</table>\n",
       "</div>"
      ],
      "text/plain": [
       "                                  PstatDimerisation  statPhosphorylation  \\\n",
       "{Pstat_sol}                                    -2.0                  0.0   \n",
       "{species_test}                                  0.0                  1.0   \n",
       "{PstatDimer_nuc, PstatDimer_sol}                0.0                  0.0   \n",
       "{Pstat_nuc, stat_nuc, stat_sol}                 2.0                  0.0   \n",
       "\n",
       "                                  PstatDimerisationNuc  \n",
       "{Pstat_sol}                                        0.0  \n",
       "{species_test}                                     0.0  \n",
       "{PstatDimer_nuc, PstatDimer_sol}                   1.0  \n",
       "{Pstat_nuc, stat_nuc, stat_sol}                   -2.0  "
      ]
     },
     "execution_count": 6,
     "metadata": {},
     "output_type": "execute_result"
    }
   ],
   "source": [
    "m.rref_df"
   ]
  },
  {
   "cell_type": "code",
   "execution_count": 12,
   "metadata": {},
   "outputs": [
    {
     "name": "stdout",
     "output_type": "stream",
     "text": [
      "{Pstat_nuc, stat_nuc, stat_sol}\n",
      "statDephosphorylation: Pstat_nuc -> stat_nuc\n",
      "stat_export: stat_sol -> stat_nuc\n"
     ]
    }
   ],
   "source": [
    "molecule1 = simple.getMolecule(\"stat_sol\")\n",
    "molecule2 = simple.getMolecule(\"Pstat_nuc\")\n",
    "som = m.getNode(stat_sol)\n",
    "#gr.getSOMPath(som, stat_sol, Pstat_nuc)\n",
    "print(som)\n",
    "for r in som.reactions:\n",
    "  print(r.makeIdentifier(is_include_kinetics=False))"
   ]
  },
  {
   "cell_type": "code",
   "execution_count": 9,
   "metadata": {},
   "outputs": [
    {
     "name": "stdout",
     "output_type": "stream",
     "text": [
      "statPhosphorylation: {Pstat_nuc, stat_nuc, stat_sol} -> {species_test} + {Pstat_sol}\n",
      "PstatDimerisation: 2.00 {Pstat_sol} -> {PstatDimer_nuc, PstatDimer_sol}\n",
      "PstatDimerisationNuc: 2.00 {Pstat_nuc, stat_nuc, stat_sol} -> {PstatDimer_nuc, PstatDimer_sol}\n"
     ]
    }
   ],
   "source": [
    "print(m.convertReactionToSOMReaction(simple.getReaction(\"statPhosphorylation\")))\n",
    "print(m.convertReactionToSOMReaction(simple.getReaction(\"PstatDimerisation\")))\n",
    "print(m.convertReactionToSOMReaction(simple.getReaction(\"PstatDimerisationNuc\")))"
   ]
  },
  {
   "cell_type": "code",
   "execution_count": 32,
   "metadata": {},
   "outputs": [
    {
     "name": "stdout",
     "output_type": "stream",
     "text": [
      "{PstatDimer__import: PstatDimer_sol -> PstatDimer_nuc; PstatDimer_impMax * PstatDimer_sol * (1 / (Kpsd_imp + PstatDimer_sol)) * nm}\n"
     ]
    }
   ],
   "source": [
    "print(list(soms)[0].reactions)"
   ]
  },
  {
   "cell_type": "code",
   "execution_count": 27,
   "metadata": {},
   "outputs": [],
   "source": [
    "def getMoleculeLinkage(self, som_name, reactions):\n",
    "  \"\"\"\n",
    "  Create two lists. \n",
    "  1. molecules in the reactions that are in the same som\n",
    "  2. reactions used to merge the molecules\n",
    "  :param str som_name:\n",
    "  :param list-str reactions:\n",
    "  :return list-str: linked_molecules\n",
    "  :return list-str: linked_reactions\n",
    "  \"\"\"\n",
    "  som = self.findSOM(som_name)\n",
    "  molecules = {m.name for m in som.molecules}\n",
    "  # linked_molecules: molecules within both the SOM and given reactions\n",
    "  linked_molecules = set()\n",
    "  for r in reactions:\n",
    "    reaction = self.mesgraph.simple.getReaction(r)\n",
    "    reactants = {m.molecule.name for m in reaction.reactants}\n",
    "    products = {m.molecule.name for m in reaction.products}\n",
    "    reaction_molecules = reactants.union(products)\n",
    "    #\n",
    "    som_molecules = molecules.intersection(reaction_molecules)\n",
    "    linked_molecules = linked_molecules.union(som_molecules)\n",
    "  linked_reactions = []\n",
    "  for sr in som.reactions:\n",
    "    sreactants = {m.molecule.name for m in sr.reactants}\n",
    "    sproducts = {m.molecule.name for m in sr.products}\n",
    "    if sreactants.intersection(linked_molecules) and \\\n",
    "        sproducts.intersection(linked_molecules):\n",
    "      linked_reactions.append(sr.label)\n",
    "  return list(linked_molecules), linked_reactions"
   ]
  },
  {
   "cell_type": "code",
   "execution_count": 18,
   "metadata": {},
   "outputs": [
    {
     "name": "stdout",
     "output_type": "stream",
     "text": [
      "['Pstat_sol']\n",
      "[]\n"
     ]
    }
   ],
   "source": [
    "reactions = [ro.reaction for ro in op]\n",
    "som = m.getNode(simple.getMolecule(\"Pstat_sol\"))\n",
    "\n",
    "a, b = gr.getMoleculeLinkage(som.identifier,reactions)\n",
    "print(a)\n",
    "print(b)"
   ]
  },
  {
   "cell_type": "code",
   "execution_count": 12,
   "metadata": {},
   "outputs": [
    {
     "name": "stdout",
     "output_type": "stream",
     "text": [
      "model 87  has canceling error!\n"
     ]
    }
   ],
   "source": [
    "# this will test which model has which error;;\n",
    "for i in range(1, 704):\n",
    "  try:\n",
    "    simple = load_file_from_curated_data(i)\n",
    "    m = GAMES_PP(simple)\n",
    "    m.analyze(error_details=False)\n",
    "    if m.canceling_errors:\n",
    "      print(\"model\", i, \" has canceling error!\")\n",
    "      break\n",
    "  except:\n",
    "    pass"
   ]
  },
  {
   "cell_type": "code",
   "execution_count": 47,
   "metadata": {},
   "outputs": [
    {
     "data": {
      "text/plain": [
       "[]"
      ]
     },
     "execution_count": 47,
     "metadata": {},
     "output_type": "execute_result"
    }
   ],
   "source": [
    "m.type_one_errors"
   ]
  },
  {
   "cell_type": "code",
   "execution_count": 4,
   "metadata": {},
   "outputs": [
    {
     "name": "stdout",
     "output_type": "stream",
     "text": [
      "\n",
      "FH4 = CH2FH4 by reaction(s):\n",
      "SHMTr: CH2FH4 -> FH4\n",
      "\n",
      "However, FH4 < CH2FH4 by reaction(s):\n",
      "CH2FH4toHCHO: CH2FH4 -> FH4 + HCHO\n",
      "SHMT: FH4 + serine -> CH2FH4\n",
      "HCHOtoCH2FH4: FH4 + HCHO -> CH2FH4\n",
      "**************************************************\n",
      "\n",
      "CH2FH4 = FH4 by reaction(s):\n",
      "SHMTr: CH2FH4 -> FH4\n",
      "\n",
      "FH4 = FH2f by reaction(s):\n",
      "DHFReductase: FH2f -> FH4\n",
      "\n",
      "However, CH2FH4 < FH2f by reaction(s):\n",
      "TYMS: CH2FH4 + dUMP -> FH2f\n",
      "**************************************************\n",
      "\n",
      "FFH2 = FH2f by reaction(s):\n",
      "FFH2syn: FH2f -> FFH2\n",
      "\n",
      "However, FFH2 < FH2f by reaction(s):\n",
      "ATIC12: FFH2 + AICAR -> FH2f\n",
      "**************************************************\n",
      "\n",
      "MTX1 = MTX1b by reaction(s):\n",
      "MTX1deg: MTX1b -> MTX1\n",
      "\n",
      "However, MTX1 < MTX1b by reaction(s):\n",
      "MTX1off: MTX1b -> MTX1 + DHFRf\n",
      "MTX1on: MTX1 + DHFRf -> MTX1b\n",
      "**************************************************\n",
      "\n",
      "MTX2 = MTX2b by reaction(s):\n",
      "MTX2deg: MTX2b -> MTX2\n",
      "\n",
      "However, MTX2 < MTX2b by reaction(s):\n",
      "MTX2off: MTX2b -> MTX2 + DHFRf\n",
      "MTX2on: MTX2 + DHFRf -> MTX2b\n",
      "**************************************************\n",
      "\n",
      "MTX3 = MTX3b by reaction(s):\n",
      "MTX3deg: MTX3b -> MTX3\n",
      "\n",
      "However, MTX3 < MTX3b by reaction(s):\n",
      "MTX3off: MTX3b -> MTX3 + DHFRf\n",
      "MTX3on: MTX3 + DHFRf -> MTX3b\n",
      "**************************************************\n",
      "\n",
      "MTX4 = MTX4b by reaction(s):\n",
      "MTX4deg: MTX4b -> MTX4\n",
      "\n",
      "However, MTX4 < MTX4b by reaction(s):\n",
      "MTX4off: MTX4b -> MTX4 + DHFRf\n",
      "MTX4on: MTX4 + DHFRf -> MTX4b\n",
      "**************************************************\n",
      "\n",
      "MTX5 = MTX5b by reaction(s):\n",
      "MTX5deg: MTX5b -> MTX5\n",
      "\n",
      "However, MTX5 < MTX5b by reaction(s):\n",
      "MTX5off: MTX5b -> MTX5 + DHFRf\n",
      "MTX5on: MTX5 + DHFRf -> MTX5b\n",
      "**************************************************\n",
      "--------------------------------------------------\n",
      "\n"
     ]
    }
   ],
   "source": [
    "gr = GAMESReport(m)\n",
    "print(gr.reportTypeOneError(m.type_one_errors))"
   ]
  },
  {
   "cell_type": "code",
   "execution_count": 5,
   "metadata": {},
   "outputs": [
    {
     "data": {
      "text/plain": [
       "[[{CHOFH4}, {CH2FH4, FFH2, FH2f, FH4}], [{CH3FH4}, {CH2FH4, FFH2, FH2f, FH4}]]"
      ]
     },
     "execution_count": 5,
     "metadata": {},
     "output_type": "execute_result"
    }
   ],
   "source": [
    "m.type_two_errors"
   ]
  },
  {
   "cell_type": "code",
   "execution_count": 6,
   "metadata": {},
   "outputs": [
    {
     "name": "stdout",
     "output_type": "stream",
     "text": [
      "\n",
      "CHOFH4 < FH4 by\n",
      "ATIC7: CHOFH4 + AICAR -> FH4\n",
      "\n",
      "FH4 < CHOFH4 by\n",
      "HCOOHtoCHOFH4: FH4 + formate + ATP -> CHOFH4\n",
      "\n",
      "CH2FH4 < CHOFH4 by\n",
      "MTHFD: CH2FH4 + NADP -> CHOFH4\n",
      "\n",
      "FH4 = CH2FH4 by\n",
      "SHMTr: CH2FH4 -> FH4\n",
      "**************************************************\n",
      "\n",
      "\n",
      "CH3FH4 < FH4 by\n",
      "MTR: CH3FH4 + homocysteine -> FH4\n",
      "\n",
      "CH2FH4 < CH3FH4 by\n",
      "MTHFR: CH2FH4 + NADPH -> CH3FH4\n",
      "\n",
      "FH4 = CH2FH4 by\n",
      "SHMTr: CH2FH4 -> FH4\n",
      "**************************************************\n",
      "\n",
      "\n",
      "--------------------------------------------------\n",
      "\n"
     ]
    }
   ],
   "source": [
    "type_two_report = gr.reportTypeTwoError(m.type_two_errors)\n",
    "print(type_two_report)"
   ]
  },
  {
   "cell_type": "code",
   "execution_count": 8,
   "metadata": {},
   "outputs": [
    {
     "name": "stdout",
     "output_type": "stream",
     "text": [
      "\n",
      "The following reactions create a mass imbalance:\n",
      "\n",
      "HCOOHtoCHOFH4: FH4 + formate + ATP -> CHOFH4\n",
      "ATIC7: CHOFH4 + AICAR -> FH4\n",
      "\n",
      "->->->->->->->->->->->->->->->->->->->->->->->->->\n",
      "FH4 is a common element in the reactions above.\n",
      "<-<-<-<-<-<-<-<-<-<-<-<-<-<-<-<-<-<-<-<-<-<-<-<-<-\n",
      "\n",
      "->->->->->->->->->->->->->->->->->->->->->->->->->\n",
      "CHOFH4 is a common element in the reactions above.\n",
      "<-<-<-<-<-<-<-<-<-<-<-<-<-<-<-<-<-<-<-<-<-<-<-<-<-\n",
      "\n",
      "**************************************************\n",
      "\n",
      "The following reactions create a mass imbalance:\n",
      "\n",
      "MTHFD: CH2FH4 + NADP -> CHOFH4\n",
      "ATIC7: CHOFH4 + AICAR -> FH4\n",
      "\n",
      "->->->->->->->->->->->->->->->->->->->->->->->->->\n",
      "The following molecules,\n",
      "CH2FH4\n",
      "FH4\n",
      "Have equal mass by the following reaction(s).\n",
      "SHMTr: CH2FH4 -> FH4\n",
      "<-<-<-<-<-<-<-<-<-<-<-<-<-<-<-<-<-<-<-<-<-<-<-<-<-\n",
      "\n",
      "->->->->->->->->->->->->->->->->->->->->->->->->->\n",
      "CHOFH4 is a common element in the reactions above.\n",
      "<-<-<-<-<-<-<-<-<-<-<-<-<-<-<-<-<-<-<-<-<-<-<-<-<-\n",
      "\n",
      "**************************************************\n",
      "--------------------------------------------------\n",
      "\n"
     ]
    }
   ],
   "source": [
    "echelon_report = gr.reportEchelonError(m.echelon_errors)\n",
    "print(echelon_report)"
   ]
  },
  {
   "cell_type": "code",
   "execution_count": 9,
   "metadata": {},
   "outputs": [
    {
     "name": "stdout",
     "output_type": "stream",
     "text": [
      "pairs:\n",
      "{CHOFH4} {CH2FH4, FFH2, FH2f, FH4}\n",
      "ATIC7: CHOFH4 + AICAR -> FH4\n",
      "pairs:\n",
      "{CH2FH4, FFH2, FH2f, FH4} {CHOFH4}\n",
      "HCOOHtoCHOFH4: FH4 + formate + ATP -> CHOFH4\n",
      "MTHFD: CH2FH4 + NADP -> CHOFH4\n"
     ]
    },
    {
     "data": {
      "text/plain": [
       "[PathComponents(node1=['CHOFH4'], node2=['FH4'], reactions=['ATIC7']),\n",
       " PathComponents(node1=['FH4', 'CH2FH4'], node2=['CHOFH4', 'CHOFH4'], reactions=['HCOOHtoCHOFH4', 'MTHFD'])]"
      ]
     },
     "execution_count": 9,
     "metadata": {},
     "output_type": "execute_result"
    }
   ],
   "source": [
    "error_cycle = []\n",
    "cycle = m.type_two_errors[0]\n",
    "cycle2 = cycle[1:] + [cycle[0]]\n",
    "for first, second in zip(cycle, cycle2):\n",
    "  print(\"pairs:\")\n",
    "  print(first, second)\n",
    "  som1_moles = {m.name for m in list(first.molecules)}\n",
    "  som2_moles = {m.name for m in list(second.molecules)}\n",
    "  reaction_data = m.get_edge_data(first, second)[cn.REACTION]\n",
    "  nodes1 = []\n",
    "  nodes2 = []\n",
    "  reaction_labels = []  \n",
    "  for r in reaction_data:\n",
    "    reaction = simple.getReaction(r)\n",
    "    print(reaction.makeIdentifier(is_include_kinetics=False))  \n",
    "    if reaction.category == cn.REACTION_n_1:\n",
    "      sources = {r.molecule.name for r in reaction.reactants}\n",
    "      destinations = {p.molecule.name for p in reaction.products}\n",
    "    elif reaction.category == cn.REACTION_1_n:\n",
    "      sources = {p.molecule.name for p in reaction.products}\n",
    "      destinations = {r.molecule.name for r in reaction.reactants}\n",
    "    node2 = list(destinations.intersection(som2_moles))[0]\n",
    "    for node1 in list(sources.intersection(som1_moles)):\n",
    "      nodes1.append(node1)\n",
    "      nodes2.append(node2)\n",
    "      reaction_labels.append(reaction.label)\n",
    "  error_cycle.append(cn.PathComponents(node1=nodes1, \n",
    "                                     node2=nodes2,\n",
    "                                     reactions=reaction_labels))\n",
    "error_cycle"
   ]
  },
  {
   "cell_type": "code",
   "execution_count": 13,
   "metadata": {},
   "outputs": [],
   "source": [
    "  def getSOMPath(som, molecule1, molecule2):\n",
    "    \"\"\"\n",
    "    Create an undirected graph between\n",
    "    two molecules within a SOM\n",
    "    and find the shortest path\n",
    "    :param SOM som:\n",
    "    :param str mole1:\n",
    "    :param str mole2:\n",
    "    :return list-PathComponents som_path:\n",
    "    \"\"\"   \n",
    "#     molecule1 = mole1.name\n",
    "#     molecule2 = mole2.name\n",
    "    # construct undirected graph\n",
    "    subg = nx.Graph()\n",
    "    # here, every reaction is 1-1 reaction\n",
    "    for reaction in list(som.reactions):\n",
    "      node1 = reaction.reactants[0].molecule.name\n",
    "      node2 = reaction.products[0].molecule.name\n",
    "      if subg.has_edge(node1, node2):\n",
    "        reaction_label = subg.get_edge_data(node1, node2)[cn.REACTION]\n",
    "        # if reaction.label is not already included in the attribute,\n",
    "        if reaction.label not in set(reaction_label):\n",
    "          reaction_label = reaction_label + [reaction.label]\n",
    "      else:\n",
    "        reaction_label = [reaction.label]    \n",
    "      subg.add_edge(node1, node2, reaction=reaction_label)\n",
    "    path = [short_p for short_p in nx.shortest_path(subg, \n",
    "                                                    source=molecule1, \n",
    "                                                    target=molecule2)]\n",
    "    som_path = []\n",
    "    for idx in range(len(path)-1):\n",
    "      edge_reactions = subg.get_edge_data(path[idx], path[idx+1])[cn.REACTION]\n",
    "      som_path.append(cn.PathComponents(node1=path[idx], \n",
    "                                     node2=path[idx+1],\n",
    "                                     reactions=edge_reactions))\n",
    "    return som_path"
   ]
  },
  {
   "cell_type": "code",
   "execution_count": 15,
   "metadata": {},
   "outputs": [
    {
     "data": {
      "text/plain": [
       "[PathComponents(node1=['CHOFH4'], node2=['FH4'], reactions=['ATIC7']),\n",
       " PathComponents(node1=['FH4', 'CH2FH4'], node2=['CHOFH4', 'CHOFH4'], reactions=['HCOOHtoCHOFH4', 'MTHFD'])]"
      ]
     },
     "execution_count": 15,
     "metadata": {},
     "output_type": "execute_result"
    }
   ],
   "source": [
    "error_cycle"
   ]
  },
  {
   "cell_type": "code",
   "execution_count": 26,
   "metadata": {},
   "outputs": [
    {
     "data": {
      "text/plain": [
       "{'FH4'}"
      ]
     },
     "execution_count": 26,
     "metadata": {},
     "output_type": "execute_result"
    }
   ],
   "source": [
    "set(error_cycle[0].node2).intersection(set(error_cycle[1].node1))"
   ]
  },
  {
   "cell_type": "code",
   "execution_count": 32,
   "metadata": {},
   "outputs": [
    {
     "name": "stdout",
     "output_type": "stream",
     "text": [
      "CHOFH4 < FH4 by ATIC7\n",
      "ATIC7: CHOFH4 + AICAR -> FH4\n",
      "\n",
      "**Already havce common molecules {'FH4'}\n",
      "FH4 < CHOFH4 by HCOOHtoCHOFH4\n",
      "HCOOHtoCHOFH4: FH4 + formate + ATP -> CHOFH4\n",
      "\n",
      "CH2FH4 < CHOFH4 by MTHFD\n",
      "MTHFD: CH2FH4 + NADP -> CHOFH4\n",
      "\n",
      "node pairs whose equality needs to be examined\n",
      "FH4 CH2FH4\n",
      "som_path is: \n",
      "[PathComponents(node1='FH4', node2='CH2FH4', reactions=['SHMTr'])]\n"
     ]
    }
   ],
   "source": [
    "last_node = None\n",
    "for one_path in error_cycle:\n",
    "  comb = zip(one_path.node1, one_path.node2, one_path.reactions)\n",
    "  if last_node is not None:\n",
    "    common_molecules = last_node.intersection(set(one_path.node1))\n",
    "    if common_molecules:\n",
    "      print(\"**Already havce common molecules\", common_molecules)\n",
    "    else:\n",
    "      print(\"**need to find path between: \", last_node, one_path.node1)\n",
    "  last_node = set(one_path.node2)\n",
    "  for tup in comb:\n",
    "    print(tup[0], cn.LESSTHAN, tup[1], \"by\", tup[2])\n",
    "    print(simple.getReaction(tup[2]).makeIdentifier(is_include_kinetics=False))\n",
    "    print(\"\")\n",
    "  if len(one_path.node1) > 1:\n",
    "    for node1, node2 in zip(one_path.node1, one_path.node1[1:]):\n",
    "      print(\"node pairs whose equality needs to be examined\")\n",
    "      print(node1, node2)\n",
    "      mole1 = simple.getMolecule(node1)\n",
    "      mole2 = simple.getMolecule(node2)\n",
    "      som = m.getNode(mole1)\n",
    "      som_path = getSOMPath(som, node1, node2)\n",
    "      print(\"som_path is: \", )\n",
    "      print(som_path)"
   ]
  },
  {
   "cell_type": "code",
   "execution_count": null,
   "metadata": {},
   "outputs": [],
   "source": []
  },
  {
   "cell_type": "code",
   "execution_count": null,
   "metadata": {},
   "outputs": [],
   "source": []
  },
  {
   "cell_type": "code",
   "execution_count": 77,
   "metadata": {},
   "outputs": [
    {
     "data": {
      "text/plain": [
       "[('FH4', 'CHOFH4', 'HCOOHtoCHOFH4'), ('CH2FH4', 'CHOFH4', 'MTHFD')]"
      ]
     },
     "execution_count": 77,
     "metadata": {},
     "output_type": "execute_result"
    }
   ],
   "source": [
    "list(zip(error_cycle[0].node1, error_cycle[0].node2, error_cycle[0].reactions))"
   ]
  },
  {
   "cell_type": "code",
   "execution_count": 41,
   "metadata": {},
   "outputs": [
    {
     "data": {
      "text/plain": [
       "[{CH2FH4, FFH2, FH2f, FH4}, {CHOFH4}]"
      ]
     },
     "execution_count": 41,
     "metadata": {},
     "output_type": "execute_result"
    }
   ],
   "source": [
    "cycle[1:] + [cycle[0]]"
   ]
  },
  {
   "cell_type": "code",
   "execution_count": 9,
   "metadata": {},
   "outputs": [
    {
     "data": {
      "text/plain": [
       "Index(['{homocysteine}', '{formate}', '{NADPH}', '{GAR}', '{ATP}', '{CH3FH4}',\n",
       "       '{DHFRf}', '{HCHO}', '{NADP}', '{dUMP}', '{serine}', '{CHOFH4}',\n",
       "       '{CH2FH4, FFH2, FH2f, FH4}', '{AICAR, FGAR}',\n",
       "       '{EMTX, MTX1, MTX1b, MTX2, MTX2b, MTX3, MTX3b, MTX4, MTX4b, MTX5, MTX5b}'],\n",
       "      dtype='object')"
      ]
     },
     "execution_count": 9,
     "metadata": {},
     "output_type": "execute_result"
    }
   ],
   "source": [
    "gr.mesgraph.som_stoichiometry_matrix.index"
   ]
  },
  {
   "cell_type": "code",
   "execution_count": 7,
   "metadata": {},
   "outputs": [
    {
     "name": "stdout",
     "output_type": "stream",
     "text": [
      "HCOOHtoCHOFH4: {formate} + {ATP} + {CH2FH4, FFH2, FH2f, FH4} -> {CHOFH4}\n",
      "ATIC7: {CHOFH4} + {AICAR, FGAR} -> {CH2FH4, FFH2, FH2f, FH4}\n"
     ]
    }
   ],
   "source": [
    "print(m.convertReactionToSOMReaction(simple.getReaction(\"HCOOHtoCHOFH4\")))\n",
    "print(m.convertReactionToSOMReaction(simple.getReaction(\"ATIC7\")))"
   ]
  },
  {
   "cell_type": "code",
   "execution_count": 9,
   "metadata": {},
   "outputs": [
    {
     "name": "stdout",
     "output_type": "stream",
     "text": [
      "{'CHOFH4'}\n",
      "[]\n"
     ]
    }
   ],
   "source": [
    "a, b = gr.getMoleculeLinkage(\"{CHOFH4}\", [\"ATIC7\"])\n",
    "print(a)\n",
    "print(b)"
   ]
  },
  {
   "cell_type": "code",
   "execution_count": 13,
   "metadata": {},
   "outputs": [
    {
     "name": "stdout",
     "output_type": "stream",
     "text": [
      "{'FH4'}\n",
      "[]\n"
     ]
    }
   ],
   "source": [
    "a, b = gr.getMoleculeLinkage(\"{CH2FH4, FFH2, FH2f, FH4}\", [\"ATIC7\", \"HCOOHtoCHOFH4\"])\n",
    "print(a)\n",
    "print(b)"
   ]
  },
  {
   "cell_type": "code",
   "execution_count": 21,
   "metadata": {},
   "outputs": [
    {
     "data": {
      "text/plain": [
       "MTHFD: {NADP} + {AICAR, FGAR} -> "
      ]
     },
     "execution_count": 21,
     "metadata": {},
     "output_type": "execute_result"
    }
   ],
   "source": [
    "echelon_error = m.echelon_errors[0]\n",
    "echelon_error"
   ]
  },
  {
   "cell_type": "code",
   "execution_count": 124,
   "metadata": {},
   "outputs": [
    {
     "data": {
      "text/plain": [
       "Index(['{NADP}', '{AICAR, FGAR}'], dtype='object')"
      ]
     },
     "execution_count": 124,
     "metadata": {},
     "output_type": "execute_result"
    }
   ],
   "source": [
    "result_row = m.echelon_df[echelon_error.label]\n",
    "nonzero_result_row = result_row[result_row.to_numpy().nonzero()[0]]\n",
    "nonzero_result_row.index"
   ]
  },
  {
   "cell_type": "code",
   "execution_count": 41,
   "metadata": {},
   "outputs": [
    {
     "data": {
      "text/plain": [
       "Index(['ATIC7', 'MTHFD'], dtype='object')"
      ]
     },
     "execution_count": 41,
     "metadata": {},
     "output_type": "execute_result"
    }
   ],
   "source": [
    "if m.rref_df is None:\n",
    "  operation_df = m.lower_inverse\n",
    "else:\n",
    "  operation_df = m.rref_operation.dot(m.lower_inverse)\n",
    "operation_df\n",
    "op_row = operation_df.T[echelon_error.label]\n",
    "nonzero_op_rows = op_row[op_row.to_numpy().nonzero()[0]]\n",
    "nonzero_op_rows.index"
   ]
  },
  {
   "cell_type": "code",
   "execution_count": 49,
   "metadata": {},
   "outputs": [
    {
     "name": "stdout",
     "output_type": "stream",
     "text": [
      "ATIC7: CHOFH4 + AICAR -> FH4\n",
      "ATIC7: {CHOFH4} + {AICAR, FGAR} -> {CH2FH4, FFH2, FH2f, FH4}\n",
      "\n",
      "MTHFD: CH2FH4 + NADP -> CHOFH4\n",
      "MTHFD: {NADP} + {CH2FH4, FFH2, FH2f, FH4} -> {CHOFH4}\n",
      "\n"
     ]
    }
   ],
   "source": [
    "for r in nonzero_op_rows.index:\n",
    "  reaction = simple.getReaction(r)\n",
    "  print(reaction.makeIdentifier(is_include_kinetics=False))\n",
    "  print(m.convertReactionToSOMReaction(reaction))\n",
    "  print()"
   ]
  },
  {
   "cell_type": "code",
   "execution_count": 55,
   "metadata": {},
   "outputs": [
    {
     "name": "stdout",
     "output_type": "stream",
     "text": [
      "Index(['{CHOFH4}', '{CH2FH4, FFH2, FH2f, FH4}', '{AICAR, FGAR}'], dtype='object')\n",
      "Index(['{CHOFH4}', '{NADP}', '{CH2FH4, FFH2, FH2f, FH4}'], dtype='object')\n"
     ]
    }
   ],
   "source": [
    "# find out canceled reactants/products first\n",
    "# meaning, nonzeros that both exist in atic7 and mthfd but not in the result_row\n",
    "atic7_row = m.som_stoichiometry_matrix[nonzero_op_rows.index[0]]\n",
    "mthfd_row = m.som_stoichiometry_matrix[nonzero_op_rows.index[1]]\n",
    "nonzero_atic7_row = atic7_row[atic7_row.to_numpy().nonzero()[0]]\n",
    "nonzero_mthfd_row = mthfd_row[mthfd_row.to_numpy().nonzero()[0]]\n",
    "print(nonzero_atic7_row.index)\n",
    "print(nonzero_mthfd_row.index)"
   ]
  },
  {
   "cell_type": "code",
   "execution_count": 57,
   "metadata": {},
   "outputs": [
    {
     "data": {
      "text/plain": [
       "Index(['{CHOFH4}', '{CH2FH4, FFH2, FH2f, FH4}'], dtype='object')"
      ]
     },
     "execution_count": 57,
     "metadata": {},
     "output_type": "execute_result"
    }
   ],
   "source": [
    "nonzero_atic7_row.index.intersection(nonzero_mthfd_row.index)"
   ]
  },
  {
   "cell_type": "code",
   "execution_count": 123,
   "metadata": {},
   "outputs": [
    {
     "data": {
      "text/plain": [
       "Index(['ATIC7', 'MTHFD'], dtype='object')"
      ]
     },
     "execution_count": 123,
     "metadata": {},
     "output_type": "execute_result"
    }
   ],
   "source": [
    "nonzero_op_rows.index"
   ]
  },
  {
   "cell_type": "code",
   "execution_count": 63,
   "metadata": {},
   "outputs": [
    {
     "name": "stdout",
     "output_type": "stream",
     "text": [
      "Index(['{CH2FH4, FFH2, FH2f, FH4}', '{CHOFH4}'], dtype='object')\n"
     ]
    }
   ],
   "source": [
    "nonzero_elements = m.som_stoichiometry_matrix.index\n",
    "for r in nonzero_op_rows.index:\n",
    "  row = m.som_stoichiometry_matrix[r]\n",
    "  nonzero_elements = nonzero_elements.intersection(row[row.to_numpy().nonzero()[0]].index)\n",
    "# finally, subtract remaining nonzero elements from nonzero_result_row\n",
    "canceled_elements = nonzero_elements.difference(nonzero_result_row.index)\n",
    "print(canceled_elements)"
   ]
  },
  {
   "cell_type": "code",
   "execution_count": 73,
   "metadata": {},
   "outputs": [
    {
     "data": {
      "text/plain": [
       "{CH2FH4, FFH2, FH2f, FH4}"
      ]
     },
     "execution_count": 73,
     "metadata": {},
     "output_type": "execute_result"
    }
   ],
   "source": [
    "def getSOM(som_name):\n",
    "  for node in m.nodes:\n",
    "    if node.identifier == som_name:\n",
    "      return node"
   ]
  },
  {
   "cell_type": "code",
   "execution_count": 77,
   "metadata": {},
   "outputs": [
    {
     "data": {
      "text/plain": [
       "{CHOFH4}"
      ]
     },
     "execution_count": 77,
     "metadata": {},
     "output_type": "execute_result"
    }
   ],
   "source": [
    "som1 = getSOM(canceled_elements[0])\n",
    "som2 = getSOM(canceled_elements[1])"
   ]
  },
  {
   "cell_type": "code",
   "execution_count": 125,
   "metadata": {},
   "outputs": [
    {
     "data": {
      "text/plain": [
       "Index(['ATIC7', 'MTHFD'], dtype='object')"
      ]
     },
     "execution_count": 125,
     "metadata": {},
     "output_type": "execute_result"
    }
   ],
   "source": [
    "nonzero_op_rows.index"
   ]
  },
  {
   "cell_type": "code",
   "execution_count": 121,
   "metadata": {},
   "outputs": [],
   "source": [
    "# this is for each som that were eliminated by matrix operation\n",
    "molecules = {m.name for m in som1.molecules}\n",
    "linked_molecules = set()\n",
    "for r in nonzero_op_rows.index:\n",
    "  reaction = simple.getReaction(r)\n",
    "  reactants = {m.molecule.name for m in reaction.reactants}\n",
    "  products = {m.molecule.name for m in reaction.products}\n",
    "  som_molecules = molecules.intersection(reactants)\n",
    "  som_molecules = som_molecules.union(molecules.intersection(products))\n",
    "  linked_molecules = linked_molecules.union(som_molecules)\n",
    "# now need to path (reactions) between molecules within the linked_molecules\n",
    "linked_reactions = []\n",
    "for sr in som1.reactions:\n",
    "  sreactants = {m.molecule.name for m in sr.reactants}\n",
    "  sproducts = {m.molecule.name for m in sr.products}\n",
    "  if sreactants.intersection(linked_molecules) and \\\n",
    "     sproducts.intersection(linked_molecules):\n",
    "    linked_reactions.append(sr.label)\n",
    "# can generate report that will create equality between molecules -> maximum amount of information"
   ]
  },
  {
   "cell_type": "code",
   "execution_count": 122,
   "metadata": {},
   "outputs": [
    {
     "name": "stdout",
     "output_type": "stream",
     "text": [
      "{'CH2FH4', 'FH4'}\n",
      "['SHMTr']\n"
     ]
    }
   ],
   "source": [
    "print(linked_molecules)\n",
    "print(linked_reactions)"
   ]
  },
  {
   "cell_type": "code",
   "execution_count": 113,
   "metadata": {},
   "outputs": [
    {
     "data": {
      "text/plain": [
       "{DHFReductase: FH2f -> FH4; cell * kter * FH2b,\n",
       " FFH2syn: FH2f -> FFH2; cell * Vm * FH2f,\n",
       " SHMTr: CH2FH4 -> FH4; cell * (Vm * (glycine / Km2 / (1 + glycine / Km2)) * (CH2FH4 / Km1) / (1 + CH2FH4 / Km1))}"
      ]
     },
     "execution_count": 113,
     "metadata": {},
     "output_type": "execute_result"
    }
   ],
   "source": [
    "som1.reactions"
   ]
  },
  {
   "cell_type": "code",
   "execution_count": 120,
   "metadata": {},
   "outputs": [
    {
     "data": {
      "text/plain": [
       "{'FH2f'}"
      ]
     },
     "execution_count": 120,
     "metadata": {},
     "output_type": "execute_result"
    }
   ],
   "source": [
    "sreactants"
   ]
  },
  {
   "cell_type": "code",
   "execution_count": null,
   "metadata": {},
   "outputs": [],
   "source": []
  }
 ],
 "metadata": {
  "kernelspec": {
   "display_name": "Python 3",
   "language": "python",
   "name": "python3"
  },
  "language_info": {
   "codemirror_mode": {
    "name": "ipython",
    "version": 3
   },
   "file_extension": ".py",
   "mimetype": "text/x-python",
   "name": "python",
   "nbconvert_exporter": "python",
   "pygments_lexer": "ipython3",
   "version": "3.6.8"
  }
 },
 "nbformat": 4,
 "nbformat_minor": 2
}
