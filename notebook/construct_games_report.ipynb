{
 "cells": [
  {
   "cell_type": "code",
   "execution_count": 1,
   "metadata": {},
   "outputs": [
    {
     "name": "stdout",
     "output_type": "stream",
     "text": [
      "Current Directory: /Users/woosubshin/Desktop/ModelEngineering/SBMLLint/notebook\n"
     ]
    }
   ],
   "source": [
    "from games_setup import *\n",
    "from SBMLLint.common import constants as cn\n",
    "from SBMLLint.common.molecule import Molecule, MoleculeStoichiometry\n",
    "from SBMLLint.common.reaction import Reaction\n",
    "from SBMLLint.games.som import SOM\n",
    "from SBMLLint.common.simple_sbml import SimpleSBML\n",
    "\n",
    "import collections\n",
    "import itertools\n",
    "import networkx as nx\n",
    "import numpy as np\n",
    "import pandas as pd\n",
    "#\n",
    "from SBMLLint.common.stoichiometry_matrix import StoichiometryMatrix\n",
    "from SBMLLint.games.mesgraph import MESGraph\n",
    "from SBMLLint.games.games_pp import GAMES_PP, SOMStoichiometry, SOMReaction, TOLERANCE\n",
    "from SBMLLint.games.games_report import GAMESReport, SimplifiedReaction\n",
    "\n",
    "ReactionOperation = collections.namedtuple(\"ReactionOperation\", \n",
    "    \"reaction operation\")"
   ]
  },
  {
   "cell_type": "code",
   "execution_count": 2,
   "metadata": {},
   "outputs": [
    {
     "name": "stdout",
     "output_type": "stream",
     "text": [
      "We just analyzed the data...\n",
      "Type I error:  []\n",
      "Type II error:  []\n",
      "Canceling error:  []\n",
      "Echelon error:  [statPhosphorylation:  -> {species_test}]\n",
      "Type III error:  [PstatDimerisation: 2.00 {Pstat_sol} -> 2.00 {Pstat_nuc=stat_nuc=stat_sol}]\n",
      "Type I-SOM error:  set()\n"
     ]
    }
   ],
   "source": [
    "# Model 248 is for canceling error\n",
    "# Model 14/167 for a type three error / echelon\n",
    "# Model 7 for type 1 error\n",
    "# Model 18 for type 2 error\n",
    "\n",
    "######## examine model 628 for large echelon error ###########\n",
    "simple = load_file_from_curated_data(167)\n",
    "# for r in simple.reactions:\n",
    "#   if r.category != cn.REACTION_BOUNDARY and r.category != cn.REACTION_1_1:\n",
    "#     print(r.makeIdentifier(is_include_kinetics=False))\n",
    "m = GAMES_PP(simple)\n",
    "m.analyze()\n",
    "gr = GAMESReport(m)"
   ]
  },
  {
   "cell_type": "code",
   "execution_count": 3,
   "metadata": {},
   "outputs": [
    {
     "data": {
      "text/plain": [
       "1.6403882032022075"
      ]
     },
     "execution_count": 3,
     "metadata": {},
     "output_type": "execute_result"
    }
   ],
   "source": [
    "np.linalg.cond(m.lower_inverse)"
   ]
  },
  {
   "cell_type": "code",
   "execution_count": 4,
   "metadata": {},
   "outputs": [
    {
     "data": {
      "text/plain": [
       "7"
      ]
     },
     "execution_count": 4,
     "metadata": {},
     "output_type": "execute_result"
    }
   ],
   "source": [
    "len(simple.reactions)"
   ]
  },
  {
   "cell_type": "code",
   "execution_count": 5,
   "metadata": {},
   "outputs": [
    {
     "name": "stdout",
     "output_type": "stream",
     "text": [
      "\n",
      "[]\n"
     ]
    }
   ],
   "source": [
    "type1_report, error_num = gr.reportTypeOneError(m.type_one_errors, explain_details=True)\n",
    "print(type1_report)\n",
    "print(error_num)"
   ]
  },
  {
   "cell_type": "code",
   "execution_count": 6,
   "metadata": {},
   "outputs": [
    {
     "name": "stdout",
     "output_type": "stream",
     "text": [
      "\n",
      "[]\n"
     ]
    }
   ],
   "source": [
    "type2_report, error_num = gr.reportTypeTwoError(m.type_two_errors, explain_details=True)\n",
    "print(type2_report)\n",
    "print(error_num)"
   ]
  },
  {
   "cell_type": "code",
   "execution_count": 7,
   "metadata": {},
   "outputs": [
    {
     "name": "stdout",
     "output_type": "stream",
     "text": [
      "\n",
      "[]\n"
     ]
    }
   ],
   "source": [
    "canceling_report, error_num = gr.reportCancelingError(m.canceling_errors, explain_details=True)\n",
    "print(canceling_report)\n",
    "print(error_num)"
   ]
  },
  {
   "cell_type": "code",
   "execution_count": 8,
   "metadata": {},
   "outputs": [
    {
     "data": {
      "text/plain": [
       "statPhosphorylation:  -> {species_test}"
      ]
     },
     "execution_count": 8,
     "metadata": {},
     "output_type": "execute_result"
    }
   ],
   "source": [
    "m.echelon_errors[0]"
   ]
  },
  {
   "cell_type": "code",
   "execution_count": 9,
   "metadata": {},
   "outputs": [
    {
     "data": {
      "text/plain": [
       "7"
      ]
     },
     "execution_count": 9,
     "metadata": {},
     "output_type": "execute_result"
    }
   ],
   "source": [
    "len(simple.reactions)"
   ]
  },
  {
   "cell_type": "code",
   "execution_count": 10,
   "metadata": {},
   "outputs": [
    {
     "name": "stdout",
     "output_type": "stream",
     "text": [
      "\n",
      "We detected a mass imbalance\n",
      ":  -> species_test\n",
      "\n",
      "from the following reactions.\n",
      "\n",
      "1. PstatDimerisation: 2.00 Pstat_sol -> PstatDimer_sol\n",
      "2. statPhosphorylation: stat_sol -> Pstat_sol + species_test\n",
      "3. PstatDimerisationNuc: 2.00 Pstat_nuc -> PstatDimer_nuc\n",
      "\n",
      "----------------------------------------------------------------------\n",
      "\n",
      "These uni-uni reactions created mass-equivalence.\n",
      "(The molecules within a curly bracket are inferred to have the same atomic mass.)\n",
      "\n",
      "4. PstatDimer__import: PstatDimer_sol -> PstatDimer_nuc;   {PstatDimer_sol=PstatDimer_nuc}\n",
      "\n",
      "5. stat_export: stat_sol -> stat_nuc;   {stat_sol=stat_nuc}\n",
      "\n",
      "6. statDephosphorylation: Pstat_nuc -> stat_nuc;   {stat_sol=stat_nuc=Pstat_nuc}\n",
      "\n",
      "\n",
      "----------------------------------------------------------------------\n",
      "\n",
      "Based on the reactions above, we have mass-equivalent pseudo reactions.\n",
      "(pseudo 1.) PstatDimerisation: 2.00 {Pstat_sol} -> {PstatDimer_nuc=PstatDimer_sol}\n",
      "(pseudo 2.) statPhosphorylation: {Pstat_nuc=stat_nuc=stat_sol} -> {species_test} + {Pstat_sol}\n",
      "(pseudo 3.) PstatDimerisationNuc: 2.00 {Pstat_nuc=stat_nuc=stat_sol} -> {PstatDimer_nuc=PstatDimer_sol}\n",
      "\n",
      "----------------------------------------------------------------------\n",
      "\n",
      "An operation between pseudo reactions:\n",
      "0.50 * PstatDimerisation + 1.00 * statPhosphorylation - 0.50 * PstatDimerisationNuc\n",
      "\n",
      "will result in empty reactant with zero mass:\n",
      "\n",
      ":  -> {species_test}\n",
      "\n",
      "This indicates a mass conflict between reactions.\n",
      "\n",
      "----------------------------------------------------------------------\n",
      "\n",
      "----------------------------------------------------------------------\n",
      "\n",
      "\n",
      "\n",
      "**********************************************************************\n",
      "\n",
      "\n",
      "[3]\n"
     ]
    }
   ],
   "source": [
    "echelon_report, error_num = gr.reportEchelonError(m.echelon_errors, explain_details=True)\n",
    "print(echelon_report)\n",
    "print(error_num)"
   ]
  },
  {
   "cell_type": "code",
   "execution_count": 10,
   "metadata": {},
   "outputs": [
    {
     "data": {
      "text/plain": [
       "NodeView(({ce4p}, {cglcex}, {ferdicoa}, {csed7p}, {cf6p=cfdp=cg1p=cg6p=cpg=crib5p=cribu5p=cxyl5p}, {accoa=cdhap=cgap=cpep=cpg2=cpg3=cpgp=cpyr=malcoa}, {fer=fer_ext=fercoa}, {cur=cur_ext}))"
      ]
     },
     "execution_count": 10,
     "metadata": {},
     "output_type": "execute_result"
    }
   ],
   "source": [
    "m.nodes"
   ]
  },
  {
   "cell_type": "code",
   "execution_count": 11,
   "metadata": {},
   "outputs": [
    {
     "name": "stdout",
     "output_type": "stream",
     "text": [
      "{cf6p=cfdp=cg1p=cg6p=cpg=crib5p=cribu5p=cxyl5p}\n"
     ]
    }
   ],
   "source": [
    "som = m.getNode(simple.getMolecule(\"cf6p\"))\n",
    "print(som.identifier)"
   ]
  },
  {
   "cell_type": "code",
   "execution_count": 15,
   "metadata": {},
   "outputs": [
    {
     "data": {
      "text/plain": [
       "{cf6p=cfdp=cg1p=cg6p=cpg=crib5p=cribu5p=cxyl5p}"
      ]
     },
     "execution_count": 15,
     "metadata": {},
     "output_type": "execute_result"
    }
   ],
   "source": [
    "list(m.nodes)[4]"
   ]
  },
  {
   "cell_type": "code",
   "execution_count": 18,
   "metadata": {},
   "outputs": [
    {
     "name": "stdout",
     "output_type": "stream",
     "text": [
      "\n",
      "1. vPGDH: cpg -> cribu5p;   {cpg=cribu5p}\n",
      "\n",
      "2. vRu5P: cribu5p -> cxyl5p;   {cpg=cribu5p=cxyl5p}\n",
      "\n",
      "3. vG6PDH: cg6p -> cpg;   {cpg=cribu5p=cxyl5p=cg6p}\n",
      "\n",
      "4. vR5PI: cribu5p -> crib5p;   {cpg=cribu5p=cxyl5p=cg6p=crib5p}\n",
      "\n",
      "5. vPGI: cg6p -> cf6p;   {cpg=cribu5p=cxyl5p=cg6p=crib5p=cf6p}\n",
      "\n",
      "6. vPGM: cg6p -> cg1p;   {cpg=cribu5p=cxyl5p=cg6p=crib5p=cf6p=cg1p}\n",
      "\n",
      "7. vPFK: cf6p -> cfdp;   {cpg=cribu5p=cxyl5p=cg6p=crib5p=cf6p=cg1p=cfdp}\n",
      "\n"
     ]
    }
   ],
   "source": [
    "report, count = gr.reportReactionsInSOM(list(m.nodes)[4])\n",
    "print(report)"
   ]
  },
  {
   "cell_type": "code",
   "execution_count": 69,
   "metadata": {},
   "outputs": [],
   "source": [
    "def reportReactionsInSOM(som, reaction_count=0):\n",
    "  \"\"\"\n",
    "  Generate report on reactions created a SOM,\n",
    "  in order to demonstrate how the SOM was constructed.\n",
    "  :param som SOM:\n",
    "  :param int reaction_count:\n",
    "  :return str: report\n",
    "  :return int: reaction_count\n",
    "  \"\"\"\n",
    "  report = cn.NULL_STR\n",
    "  reaction_count += 1\n",
    "  molecules = []\n",
    "  reactions = list(som.reactions)\n",
    "  molecules.append(reactions[0].reactants[0].molecule.name)\n",
    "  molecules.append(reactions[0].products[0].molecule.name)\n",
    "  report = report + \"\\n%d. %s;   %s\\n\" % (reaction_count,\n",
    "                                          reactions[0].makeIdentifier(is_include_kinetics=False),\n",
    "                                          '{' + '='.join(molecules) + '}') \n",
    "  res = reactions[1:]\n",
    "  flag = 0\n",
    "  while res:\n",
    "    flag += 1\n",
    "    if flag > 50:\n",
    "      break\n",
    "    reaction = res[0]\n",
    "    reactant = reaction.reactants[0].molecule.name\n",
    "    product = reaction.products[0].molecule.name\n",
    "    if (reactant not in molecules) and (product not in molecules):\n",
    "      res.remove(reaction)\n",
    "      res.append(reaction)\n",
    "    else:\n",
    "      if reactant not in molecules and product in molecules:\n",
    "        molecules.append(reactant)\n",
    "      if reactant in molecules and product not in molecules:\n",
    "        molecules.append(product)\n",
    "      if reactant in molecules and product in molecules:\n",
    "        pass\n",
    "      reaction_count += 1\n",
    "      report = report + \"\\n%d. %s;   %s\\n\" % (reaction_count,\n",
    "                                              reaction.makeIdentifier(is_include_kinetics=False),\n",
    "                                              '{' + '='.join(molecules) + '}') \n",
    "      res.remove(reaction)\n",
    "  return report, reaction_count"
   ]
  },
  {
   "cell_type": "code",
   "execution_count": 70,
   "metadata": {},
   "outputs": [
    {
     "data": {
      "text/plain": [
       "{cf6p=cfdp=cg1p=cg6p=cpg=crib5p=cribu5p=cxyl5p}"
      ]
     },
     "execution_count": 70,
     "metadata": {},
     "output_type": "execute_result"
    }
   ],
   "source": [
    "som"
   ]
  },
  {
   "cell_type": "code",
   "execution_count": 72,
   "metadata": {},
   "outputs": [
    {
     "name": "stdout",
     "output_type": "stream",
     "text": [
      "\n",
      "11. vPGM: cg6p -> cg1p;   {cg6p=cg1p}\n",
      "\n",
      "12. vG6PDH: cg6p -> cpg;   {cg6p=cg1p=cpg}\n",
      "\n",
      "13. vPGI: cg6p -> cf6p;   {cg6p=cg1p=cpg=cf6p}\n",
      "\n",
      "14. vPFK: cf6p -> cfdp;   {cg6p=cg1p=cpg=cf6p=cfdp}\n",
      "\n",
      "15. vPGDH: cpg -> cribu5p;   {cg6p=cg1p=cpg=cf6p=cfdp=cribu5p}\n",
      "\n",
      "16. vR5PI: cribu5p -> crib5p;   {cg6p=cg1p=cpg=cf6p=cfdp=cribu5p=crib5p}\n",
      "\n",
      "17. vRu5P: cribu5p -> cxyl5p;   {cg6p=cg1p=cpg=cf6p=cfdp=cribu5p=crib5p=cxyl5p}\n",
      "\n"
     ]
    },
    {
     "data": {
      "text/plain": [
       "str"
      ]
     },
     "execution_count": 72,
     "metadata": {},
     "output_type": "execute_result"
    }
   ],
   "source": [
    "report, count = reportReactionsInSOM(som, 10)\n",
    "print(report)\n",
    "type(report)"
   ]
  },
  {
   "cell_type": "code",
   "execution_count": 45,
   "metadata": {},
   "outputs": [
    {
     "data": {
      "text/plain": [
       "'s=b=d'"
      ]
     },
     "execution_count": 45,
     "metadata": {},
     "output_type": "execute_result"
    }
   ],
   "source": [
    "a = {'s', 'b', 'd'}\n",
    "'='.join(a)"
   ]
  },
  {
   "cell_type": "code",
   "execution_count": 64,
   "metadata": {},
   "outputs": [
    {
     "name": "stdout",
     "output_type": "stream",
     "text": [
      "we're on reaction:  vRu5P\n",
      "we append the reactions vRu5P in the back\n",
      "we're on reaction:  vPFK\n",
      "we append the reactions vPFK in the back\n",
      "we're on reaction:  vPGDH\n",
      "we append the reactions vPGDH in the back\n",
      "we're on reaction:  vG6PDH\n",
      "we're on reaction:  vPGI\n",
      "we're on reaction:  vR5PI\n",
      "we append the reactions vR5PI in the back\n",
      "we're on reaction:  vRu5P\n",
      "we append the reactions vRu5P in the back\n",
      "we're on reaction:  vPFK\n",
      "we're on reaction:  vPGDH\n",
      "we're on reaction:  vR5PI\n",
      "we're on reaction:  vRu5P\n"
     ]
    }
   ],
   "source": [
    "\n",
    "report = cn.NULL_STR\n",
    "reaction_count = 0\n",
    "reaction_count += 1\n",
    "molecules = []\n",
    "reactions = list(som.reactions)\n",
    "molecules.append(reactions[0].reactants[0].molecule.name)\n",
    "molecules.append(reactions[0].products[0].molecule.name)\n",
    "report = report + \"\\n%d. %s;   %s\\n\" % (reaction_count,\n",
    "                                        reactions[0].makeIdentifier(is_include_kinetics=False),\n",
    "                                        '{' + '='.join(molecules) + '}') \n",
    "res = reactions[1:]\n",
    "flag = 0\n",
    "while res:\n",
    "  flag += 1\n",
    "  if flag > 50:\n",
    "    break\n",
    "  reaction = res[0]\n",
    "  print(\"we're on reaction: \", reaction.label)\n",
    "  reactant = reaction.reactants[0].molecule.name\n",
    "  product = reaction.products[0].molecule.name\n",
    "  if (reactant not in molecules) and (product not in molecules):\n",
    "    print(\"we append the reactions %s in the back\" % reaction.label)\n",
    "    res.remove(reaction)\n",
    "    res.append(reaction)\n",
    "  else:\n",
    "    if reactant not in molecules and product in molecules:\n",
    "      molecules.append(reactant)\n",
    "    if reactant in molecules and product not in molecules:\n",
    "      molecules.append(product)\n",
    "    if reactant in molecules and product in molecules:\n",
    "      pass\n",
    "    reaction_count += 1\n",
    "    report = report + \"\\n%d. %s;   %s\\n\" % (reaction_count,\n",
    "                                            reaction.makeIdentifier(is_include_kinetics=False),\n",
    "                                            '{' + '='.join(molecules) + '}') \n",
    "    res.remove(reaction)"
   ]
  },
  {
   "cell_type": "code",
   "execution_count": 65,
   "metadata": {},
   "outputs": [
    {
     "name": "stdout",
     "output_type": "stream",
     "text": [
      "\n",
      "1. vPGM: cg6p -> cg1p;   {cg6p=cg1p}\n",
      "\n",
      "2. vG6PDH: cg6p -> cpg;   {cg6p=cg1p=cpg}\n",
      "\n",
      "3. vPGI: cg6p -> cf6p;   {cg6p=cg1p=cpg=cf6p}\n",
      "\n",
      "4. vPFK: cf6p -> cfdp;   {cg6p=cg1p=cpg=cf6p=cfdp}\n",
      "\n",
      "5. vPGDH: cpg -> cribu5p;   {cg6p=cg1p=cpg=cf6p=cfdp=cribu5p}\n",
      "\n",
      "6. vR5PI: cribu5p -> crib5p;   {cg6p=cg1p=cpg=cf6p=cfdp=cribu5p=crib5p}\n",
      "\n",
      "7. vRu5P: cribu5p -> cxyl5p;   {cg6p=cg1p=cpg=cf6p=cfdp=cribu5p=crib5p=cxyl5p}\n",
      "\n",
      "11\n"
     ]
    }
   ],
   "source": [
    "print(report)\n",
    "print(flag)"
   ]
  },
  {
   "cell_type": "code",
   "execution_count": 11,
   "metadata": {},
   "outputs": [
    {
     "name": "stdout",
     "output_type": "stream",
     "text": [
      "We detected a mass imbalance from the following reactions:\n",
      "\n",
      "1. PstatDimerisation: 2.00 Pstat_sol -> PstatDimer_sol\n",
      "2. PstatDimerisationNuc: 2.00 Pstat_nuc -> PstatDimer_nuc\n",
      "\n",
      "----------------------------------------------------------------------\n",
      "\n",
      "These uni-uni reactions created mass-equivalence.\n",
      "(The molecules within a curly bracket are inferred to have the same atomic mass.)\n",
      "\n",
      "3. PstatDimer__import: PstatDimer_sol -> PstatDimer_nuc;   {PstatDimer_sol=PstatDimer_nuc}\n",
      "\n",
      "4. stat_export: stat_sol -> stat_nuc;   {stat_sol=stat_nuc}\n",
      "\n",
      "5. statDephosphorylation: Pstat_nuc -> stat_nuc;   {stat_sol=stat_nuc=Pstat_nuc}\n",
      "\n",
      "\n",
      "----------------------------------------------------------------------\n",
      "\n",
      "These multi-uni (uni-multi) reactions created mass-inequality.\n",
      "\n",
      "6. statPhosphorylation: stat_sol -> Pstat_sol + species_test\n",
      "\n",
      "----------------------------------------------------------------------\n",
      "\n",
      "Based on the reactions above, we have mass-equivalent pseudo reactions.\n",
      "\n",
      "(pseudo 1.) PstatDimerisation: 2.00 {Pstat_sol} -> {PstatDimer_nuc=PstatDimer_sol}\n",
      "(pseudo 2.) PstatDimerisationNuc: 2.00 {Pstat_nuc=stat_nuc=stat_sol} -> {PstatDimer_nuc=PstatDimer_sol}\n",
      "\n",
      "----------------------------------------------------------------------\n",
      "\n",
      "An operation between pseudo reactions:\n",
      "\n",
      "1.00 * PstatDimerisation - 1.00 * PstatDimerisationNuc\n",
      "\n",
      "\n",
      "will result in a uni-uni reaction:\n",
      "\n",
      ": 2.00 {Pstat_sol} -> 2.00 {Pstat_nuc=stat_nuc=stat_sol}\n",
      "\n",
      "\n",
      "meaning {Pstat_sol} and {Pstat_nuc=stat_nuc=stat_sol} have equal mass.\n",
      "\n",
      "\n",
      "----------------------------------------------------------------------\n",
      "\n",
      "However, the following mass-equivalent pseudo reaction(s):\n",
      "\n",
      "6. statPhosphorylation: stat_sol -> Pstat_sol + species_test\n",
      "(pseudo 6.) statPhosphorylation: {Pstat_nuc=stat_nuc=stat_sol} -> {species_test} + {Pstat_sol}\n",
      "\n",
      "incidates the masses of {Pstat_sol} and {Pstat_nuc=stat_nuc=stat_sol} are unequal.\n",
      "\n",
      "This creates a mass conflict between reactions.\n",
      "\n",
      "----------------------------------------------------------------------\n",
      "\n",
      "----------------------------------------------------------------------\n",
      "\n",
      "\n",
      "\n",
      "**********************************************************************\n",
      "\n",
      "\n",
      "[3]\n"
     ]
    }
   ],
   "source": [
    "type3_report, error_num = gr.reportTypeThreeError(m.type_three_errors, explain_details=True)\n",
    "print(type3_report)\n",
    "print(error_num)"
   ]
  },
  {
   "cell_type": "code",
   "execution_count": 11,
   "metadata": {},
   "outputs": [
    {
     "data": {
      "text/html": [
       "<div>\n",
       "<style scoped>\n",
       "    .dataframe tbody tr th:only-of-type {\n",
       "        vertical-align: middle;\n",
       "    }\n",
       "\n",
       "    .dataframe tbody tr th {\n",
       "        vertical-align: top;\n",
       "    }\n",
       "\n",
       "    .dataframe thead th {\n",
       "        text-align: right;\n",
       "    }\n",
       "</style>\n",
       "<table border=\"1\" class=\"dataframe\">\n",
       "  <thead>\n",
       "    <tr style=\"text-align: right;\">\n",
       "      <th></th>\n",
       "      <th>vTA</th>\n",
       "      <th>DCS</th>\n",
       "      <th>vTKA</th>\n",
       "      <th>vPTS</th>\n",
       "      <th>vALDO</th>\n",
       "      <th>CURS</th>\n",
       "      <th>vTKB</th>\n",
       "    </tr>\n",
       "  </thead>\n",
       "  <tbody>\n",
       "    <tr>\n",
       "      <th>vTA</th>\n",
       "      <td>3.0</td>\n",
       "      <td>0.0</td>\n",
       "      <td>2.0</td>\n",
       "      <td>0.0</td>\n",
       "      <td>-1.0</td>\n",
       "      <td>0.0</td>\n",
       "      <td>3.0</td>\n",
       "    </tr>\n",
       "    <tr>\n",
       "      <th>DCS</th>\n",
       "      <td>-0.5</td>\n",
       "      <td>0.5</td>\n",
       "      <td>-0.5</td>\n",
       "      <td>0.0</td>\n",
       "      <td>0.5</td>\n",
       "      <td>-0.5</td>\n",
       "      <td>-0.5</td>\n",
       "    </tr>\n",
       "    <tr>\n",
       "      <th>vTKA</th>\n",
       "      <td>-1.0</td>\n",
       "      <td>0.0</td>\n",
       "      <td>-1.0</td>\n",
       "      <td>0.0</td>\n",
       "      <td>1.0</td>\n",
       "      <td>0.0</td>\n",
       "      <td>-2.0</td>\n",
       "    </tr>\n",
       "    <tr>\n",
       "      <th>vPTS</th>\n",
       "      <td>2.0</td>\n",
       "      <td>0.0</td>\n",
       "      <td>2.0</td>\n",
       "      <td>1.0</td>\n",
       "      <td>-1.0</td>\n",
       "      <td>0.0</td>\n",
       "      <td>2.0</td>\n",
       "    </tr>\n",
       "    <tr>\n",
       "      <th>vALDO</th>\n",
       "      <td>2.0</td>\n",
       "      <td>0.0</td>\n",
       "      <td>2.0</td>\n",
       "      <td>0.0</td>\n",
       "      <td>-1.0</td>\n",
       "      <td>0.0</td>\n",
       "      <td>2.0</td>\n",
       "    </tr>\n",
       "    <tr>\n",
       "      <th>CURS</th>\n",
       "      <td>1.0</td>\n",
       "      <td>0.0</td>\n",
       "      <td>1.0</td>\n",
       "      <td>0.0</td>\n",
       "      <td>-1.0</td>\n",
       "      <td>0.0</td>\n",
       "      <td>1.0</td>\n",
       "    </tr>\n",
       "    <tr>\n",
       "      <th>vTKB</th>\n",
       "      <td>1.0</td>\n",
       "      <td>-1.0</td>\n",
       "      <td>1.0</td>\n",
       "      <td>0.0</td>\n",
       "      <td>-1.0</td>\n",
       "      <td>-1.0</td>\n",
       "      <td>1.0</td>\n",
       "    </tr>\n",
       "  </tbody>\n",
       "</table>\n",
       "</div>"
      ],
      "text/plain": [
       "       vTA  DCS  vTKA  vPTS  vALDO  CURS  vTKB\n",
       "vTA    3.0  0.0   2.0   0.0   -1.0   0.0   3.0\n",
       "DCS   -0.5  0.5  -0.5   0.0    0.5  -0.5  -0.5\n",
       "vTKA  -1.0  0.0  -1.0   0.0    1.0   0.0  -2.0\n",
       "vPTS   2.0  0.0   2.0   1.0   -1.0   0.0   2.0\n",
       "vALDO  2.0  0.0   2.0   0.0   -1.0   0.0   2.0\n",
       "CURS   1.0  0.0   1.0   0.0   -1.0   0.0   1.0\n",
       "vTKB   1.0 -1.0   1.0   0.0   -1.0  -1.0   1.0"
      ]
     },
     "execution_count": 11,
     "metadata": {},
     "output_type": "execute_result"
    }
   ],
   "source": [
    "m.rref_operation.dot(m.lower_inverse)"
   ]
  },
  {
   "cell_type": "code",
   "execution_count": 30,
   "metadata": {},
   "outputs": [
    {
     "name": "stdout",
     "output_type": "stream",
     "text": [
      "True\n",
      "['reaction_50', 'reaction_63', 'reaction_369', 'reaction_179', 'reaction_7', 'reaction_28', 'reaction_185', 'reaction_45', 'reaction_29', 'reaction_184', 'reaction_383', 'reaction_181', 'reaction_48', 'reaction_189', 'reaction_61', 'reaction_51', 'reaction_190', 'reaction_227', 'reaction_228', 'reaction_391', 'reaction_243', 'reaction_86', 'reaction_244', 'reaction_117', 'reaction_250', 'reaction_285', 'reaction_282', 'reaction_266']\n",
      "reaction_50    -3.000000e+00\n",
      "reaction_63     1.000000e+00\n",
      "reaction_369   -1.149855e+15\n",
      "reaction_179   -9.582127e+14\n",
      "reaction_7      1.149855e+15\n",
      "reaction_28    -3.000000e+00\n",
      "reaction_185    8.662614e-02\n",
      "reaction_45     1.149855e+15\n",
      "reaction_29     2.108068e+15\n",
      "reaction_184    9.582127e+14\n",
      "reaction_383    3.343465e-01\n",
      "reaction_181   -1.149855e+15\n",
      "reaction_48     2.108068e+15\n",
      "reaction_189   -9.582127e+14\n",
      "reaction_61     2.108068e+15\n",
      "reaction_51     3.000000e+00\n",
      "reaction_190    2.108068e+15\n",
      "reaction_227   -2.299710e+15\n",
      "reaction_228    1.149855e+15\n",
      "reaction_391    1.149855e+15\n",
      "reaction_243   -2.299710e+15\n",
      "reaction_86     3.000000e+00\n",
      "reaction_244    1.149855e+15\n",
      "reaction_117   -9.582127e+14\n",
      "reaction_250   -9.582127e+14\n",
      "reaction_285   -1.149855e+15\n",
      "reaction_282   -9.582127e+14\n",
      "reaction_266   -2.299710e+15\n",
      "dtype: float64\n",
      "CamR_Ca2_BD             9.582127e+14\n",
      "CamR_Ca1_C_CaMKII       0.000000e+00\n",
      "CamR_Ca2_AB_CaMKII      0.000000e+00\n",
      "CamR_Ca3_ABC_CaMKII     1.149855e+15\n",
      "CamR_Ca4_ABCD           0.000000e+00\n",
      "CamR_CaMKII            -1.149855e+15\n",
      "CamR_Ca2_AD             3.343465e-01\n",
      "CamR_Ca2_BD_CaMKII      0.000000e+00\n",
      "CamT_Ca1_C              3.000000e+00\n",
      "CamR_Ca2_CD_CaMKII     -8.662614e-02\n",
      "CamR_Ca1_D_CaMKII       3.750000e-01\n",
      "CamR_Ca3_BCD_CaMKII     0.000000e+00\n",
      "Ca                      1.750000e+00\n",
      "CamR_Ca3_ACD           -4.440892e-16\n",
      "CamR_Ca2_AC_CaMKII      0.000000e+00\n",
      "CamR_Ca3_BCD           -9.582127e+14\n",
      "CamR_Ca2_AC             3.000000e+00\n",
      "CamR_Ca1_C             -3.000000e+00\n",
      "CamR_Ca3_ABC            0.000000e+00\n",
      "CamR_Ca2_AD_CaMKIIp    -3.343465e-01\n",
      "CamR_Ca3_ABC_CaMKIIp   -1.149855e+15\n",
      "CaMKIIp                -2.500000e-01\n",
      "CamR_Ca3_ABD            0.000000e+00\n",
      "CamT_Ca2_AC            -3.000000e+00\n",
      "CamT_Ca2_BD            -9.582127e+14\n",
      "CamR_Ca2_CD             8.662614e-02\n",
      "CamR_Ca1_A_CaMKII       0.000000e+00\n",
      "CamT_Ca3_BCD            9.582127e+14\n",
      "CamR_Ca4_ABCD_CaMKII   -2.500000e-01\n",
      "CamR                    0.000000e+00\n",
      "CamR_Ca1_D             -3.750000e-01\n",
      "CaMKII                 -2.500000e-01\n",
      "CamR_CaMKIIp            1.149855e+15\n",
      "dtype: float64\n"
     ]
    }
   ],
   "source": [
    "# print(m.getNode(simple.getMolecule(\"CamR_Ca3_ABD_CaMKII\")))\n",
    "# reaction = m.echelon_errors[0]\n",
    "# print(simple.getReaction(\"reaction_369\"))\n",
    "operation_df = gr.getOperationMatrix()\n",
    "operation_df\n",
    "\n",
    "reaction_label = m.echelon_errors[0].label\n",
    "operation_series = operation_df.T[reaction_label]\n",
    "result_series = gr.getResultingSeries(reaction_label)\n",
    "#operation_df = self.getOperationMatrix()\n",
    "reaction_operations = gr.convertOperationSeriesToReactionOperations(operation_series)\n",
    "op_stoi_mat = gr.getOperationStoichiometryMatrix(reaction_operations)\n",
    "print(len(op_stoi_mat.index) == len(set(op_stoi_mat.index)))\n",
    "op_stoi_mat\n",
    "\n",
    "reaction_index = [op.reaction for op in reaction_operations]\n",
    "print(reaction_index)\n",
    "operation_series = pd.Series([val.operation for val in reaction_operations], index=reaction_index)\n",
    "print(operation_series)\n",
    "resulting_reaction = op_stoi_mat.dot(operation_series)\n",
    "print(resulting_reaction)"
   ]
  },
  {
   "cell_type": "code",
   "execution_count": 55,
   "metadata": {},
   "outputs": [
    {
     "data": {
      "text/plain": [
       "reaction_369    1.000000e+00\n",
       "reaction_175   -2.000000e+00\n",
       "reaction_216   -6.004800e+15\n",
       "reaction_124    6.004800e+15\n",
       "reaction_176    1.000000e+00\n",
       "reaction_210    6.004800e+15\n",
       "reaction_27    -6.004800e+15\n",
       "reaction_293    6.004800e+15\n",
       "reaction_4      1.000000e+00\n",
       "reaction_187    1.000000e+00\n",
       "reaction_112    6.004800e+15\n",
       "reaction_109   -6.004800e+15\n",
       "reaction_314    6.004800e+15\n",
       "reaction_292   -6.004800e+15\n",
       "reaction_227   -1.000000e+00\n",
       "reaction_60    -6.004800e+15\n",
       "dtype: float64"
      ]
     },
     "execution_count": 55,
     "metadata": {},
     "output_type": "execute_result"
    }
   ],
   "source": [
    "reaction_index = [op.reaction for op in reaction_operations]\n",
    "fake_series = pd.Series([val.operation for val in reaction_operations], index=reaction_index)\n",
    "fake_series"
   ]
  },
  {
   "cell_type": "code",
   "execution_count": 37,
   "metadata": {},
   "outputs": [
    {
     "name": "stdout",
     "output_type": "stream",
     "text": [
      "reaction_216: {CamR_Ca2_BD_PP2B} -> {PP2B} + {CamR_Ca2_BD, CamT_Ca2_BD}\n",
      "reaction_124: {CamR_Ca4_ABCD, CamT_Ca4_ABCD} -> {Ca} + {CamR_Ca3_ABD, CamT_Ca3_ABD}\n"
     ]
    }
   ],
   "source": [
    "print(m.convertReactionToSOMReaction(simple.getReaction(\"reaction_216\")))\n",
    "print(m.convertReactionToSOMReaction(simple.getReaction(\"reaction_124\")))"
   ]
  },
  {
   "cell_type": "code",
   "execution_count": 35,
   "metadata": {},
   "outputs": [
    {
     "data": {
      "text/plain": [
       "reaction_369    1.000000e+00\n",
       "reaction_175   -2.000000e+00\n",
       "reaction_216   -6.004800e+15\n",
       "reaction_124    6.004800e+15\n",
       "reaction_176    1.000000e+00\n",
       "reaction_210    6.004800e+15\n",
       "reaction_27    -6.004800e+15\n",
       "reaction_293    6.004800e+15\n",
       "reaction_4      1.000000e+00\n",
       "reaction_187    1.000000e+00\n",
       "reaction_112    6.004800e+15\n",
       "reaction_109   -6.004800e+15\n",
       "reaction_314    6.004800e+15\n",
       "reaction_292   -6.004800e+15\n",
       "reaction_227   -1.000000e+00\n",
       "reaction_60    -6.004800e+15\n",
       "Name: reaction_369, dtype: float64"
      ]
     },
     "execution_count": 35,
     "metadata": {},
     "output_type": "execute_result"
    }
   ],
   "source": [
    "operation_series[abs(operation_series) > 0]"
   ]
  },
  {
   "cell_type": "code",
   "execution_count": 4,
   "metadata": {},
   "outputs": [
    {
     "name": "stdout",
     "output_type": "stream",
     "text": [
      "\n",
      "We detected a mass imbalance\n",
      ": 0.50 crib5p -> \n",
      "\n",
      "from the following reactions.\n",
      "\n",
      "1. vTA: cgap + csed7p -> cf6p + ce4p\n",
      "2. vTKA: crib5p + cxyl5p -> cgap + csed7p\n",
      "3. vALDO: cfdp -> cdhap + cgap\n",
      "4. vTKB: ce4p + cxyl5p -> cgap + cf6p\n",
      "5. vrpGluMu: cpg3 -> cpg2\n",
      "6. vGAPDH: cgap -> cpgp\n",
      "7. vENO: cpg2 -> cpep\n",
      "8. vPK: cpep -> cpyr\n",
      "9. vTIS: cdhap -> cgap\n",
      "10. vPGK: cpgp -> cpg3\n",
      "\n",
      "**********************************************************************\n",
      "\n",
      "\n",
      "\n",
      "We detected a mass imbalance\n",
      ": 0.50 crib5p -> \n",
      "\n",
      "from the following reactions.\n",
      "\n",
      "1. vTA: cgap + csed7p -> cf6p + ce4p\n",
      "2. vTKA: crib5p + cxyl5p -> cgap + csed7p\n",
      "3. vALDO: cfdp -> cdhap + cgap\n",
      "4. vTKB: ce4p + cxyl5p -> cgap + cf6p\n",
      "\n",
      "----------------------------------------------------------------------\n",
      "\n",
      "These uni-uni reactions created mass-equivalence.\n",
      "5. vrpGluMu: cpg3 -> cpg2\n",
      "6. vGAPDH: cgap -> cpgp\n",
      "7. vENO: cpg2 -> cpep\n",
      "8. vPK: cpep -> cpyr\n",
      "9. vTIS: cdhap -> cgap\n",
      "10. vPGK: cpgp -> cpg3\n",
      "\n",
      "----------------------------------------------------------------------\n",
      "\n",
      "Based on the reactions above, we have mass-equivalent pseudo reactions.\n",
      "(pseudo 1.) vTA: {csed7p} + {cdhap, cgap, cpep, cpg2, cpg3, cpgp, cpyr} -> {ce4p} + {cf6p, cfdp, cg1p, cg6p, cpg, crib5p, cribu5p, cxyl5p}\n",
      "(pseudo 2.) vTKA: 2.00 {cf6p, cfdp, cg1p, cg6p, cpg, crib5p, cribu5p, cxyl5p} -> {csed7p} + {cdhap, cgap, cpep, cpg2, cpg3, cpgp, cpyr}\n",
      "(pseudo 3.) vALDO: {cf6p, cfdp, cg1p, cg6p, cpg, crib5p, cribu5p, cxyl5p} -> 2.00 {cdhap, cgap, cpep, cpg2, cpg3, cpgp, cpyr}\n",
      "(pseudo 4.) vTKB: {ce4p} + {cf6p, cfdp, cg1p, cg6p, cpg, crib5p, cribu5p, cxyl5p} -> {cdhap, cgap, cpep, cpg2, cpg3, cpgp, cpyr} + {cf6p, cfdp, cg1p, cg6p, cpg, crib5p, cribu5p, cxyl5p}\n",
      "\n",
      "----------------------------------------------------------------------\n",
      "\n",
      "An operation between pseudo reactions:\n",
      "1.00 * vTA + 1.00 * vTKA - 0.50 * vALDO + 1.00 * vTKB\n",
      "\n",
      "will result in empty product with zero mass:\n",
      "\n",
      ": 0.50 {cf6p, cfdp, cg1p, cg6p, cpg, crib5p, cribu5p, cxyl5p} -> \n",
      "\n",
      "This indicates a mass conflict between reactions.\n",
      "\n",
      "----------------------------------------------------------------------\n",
      "\n",
      "----------------------------------------------------------------------\n",
      "\n",
      "\n",
      "\n",
      "**********************************************************************\n",
      "\n",
      "\n",
      "[4]\n"
     ]
    }
   ],
   "source": [
    "echelon_report, error_num = gr.reportEchelonError([m.echelon_errors[0]])\n",
    "print(echelon_report)\n",
    "detailed_echelon_report, error_num = gr.reportEchelonError([m.echelon_errors[0]], explain_details=True)\n",
    "print(detailed_echelon_report)\n",
    "print(error_num)"
   ]
  },
  {
   "cell_type": "code",
   "execution_count": 23,
   "metadata": {},
   "outputs": [
    {
     "name": "stdout",
     "output_type": "stream",
     "text": [
      "\n",
      "\n",
      "[]\n"
     ]
    }
   ],
   "source": [
    "type3_report, error_num = gr.reportTypeThreeError(m.type_three_errors)\n",
    "print(type3_report)\n",
    "detailed_type3_report, error_num = gr.reportTypeThreeError(m.type_three_errors, explain_details=True)\n",
    "print(detailed_type3_report)\n",
    "print(error_num)"
   ]
  },
  {
   "cell_type": "code",
   "execution_count": null,
   "metadata": {},
   "outputs": [],
   "source": [
    "\"%.2f\" % (3.00)"
   ]
  },
  {
   "cell_type": "code",
   "execution_count": 11,
   "metadata": {},
   "outputs": [
    {
     "name": "stdout",
     "output_type": "stream",
     "text": [
      "we are doing model 100\n",
      "we are doing model 200\n",
      "we are doing model 300\n",
      "we are doing model 400\n",
      "we are doing model 500\n",
      "we are doing model 600\n",
      "model 623  has a really wrong echelon error!\n"
     ]
    }
   ],
   "source": [
    "# this will test which model has which error;;\n",
    "model_count = 0\n",
    "count = 0\n",
    "for i in range(1, 704):\n",
    "  try:\n",
    "    simple = load_file_from_curated_data(i)\n",
    "    model_count += 1\n",
    "    if model_count%100 == 0:\n",
    "      print(\"we are doing model\", model_count)\n",
    "    m = GAMES_PP(simple)\n",
    "    m.analyze(error_details=False)\n",
    "    gr = GAMESReport(m)\n",
    "    if m.echelon_errors:\n",
    "      res, error_num = gr.reportEchelonError(m.echelon_errors, explain_details=True)\n",
    "      if not res:\n",
    "        count += 1\n",
    "        print(\"model\", model_count, \" has a really wrong echelon error!\")\n",
    "        if count == 5:\n",
    "          break\n",
    "  except:\n",
    "    pass"
   ]
  },
  {
   "cell_type": "code",
   "execution_count": 10,
   "metadata": {},
   "outputs": [
    {
     "name": "stdout",
     "output_type": "stream",
     "text": [
      "model 0  has a really wrong echelon error!\n"
     ]
    }
   ],
   "source": [
    "count = 0\n",
    "model_count = 0\n",
    "res, error_num = gr.reportEchelonError(m.echelon_errors, explain_details=True)\n",
    "if not res:\n",
    "  count += 1\n",
    "  print(\"model\", model_count, \" has a really wrong echelon error!\")\n"
   ]
  },
  {
   "cell_type": "code",
   "execution_count": 12,
   "metadata": {},
   "outputs": [
    {
     "data": {
      "text/plain": [
       "<matplotlib.axes._subplots.AxesSubplot at 0x1a2b713710>"
      ]
     },
     "execution_count": 12,
     "metadata": {},
     "output_type": "execute_result"
    },
    {
     "data": {
      "image/png": "[encoded data removed]",
      "text/plain": [
       "<Figure size 432x288 with 1 Axes>"
      ]
     },
     "metadata": {
      "needs_background": "light"
     },
     "output_type": "display_data"
    }
   ],
   "source": [
    "\n",
    "\n",
    "x = np.random.randn(200)\n",
    "sns.distplot(x, hist_kws=dict(cumulative=True),\n",
    "             kde_kws=dict(cumulative=True), bins = 100)\n",
    "             "
   ]
  },
  {
   "cell_type": "code",
   "execution_count": null,
   "metadata": {},
   "outputs": [],
   "source": []
  }
 ],
 "metadata": {
  "kernelspec": {
   "display_name": "Python 3",
   "language": "python",
   "name": "python3"
  },
  "language_info": {
   "codemirror_mode": {
    "name": "ipython",
    "version": 3
   },
   "file_extension": ".py",
   "mimetype": "text/x-python",
   "name": "python",
   "nbconvert_exporter": "python",
   "pygments_lexer": "ipython3",
   "version": "3.6.8"
  }
 },
 "nbformat": 4,
 "nbformat_minor": 2
}
