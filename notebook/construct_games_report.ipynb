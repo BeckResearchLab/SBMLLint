{
 "cells": [
  {
   "cell_type": "code",
   "execution_count": 1,
   "metadata": {},
   "outputs": [
    {
     "name": "stdout",
     "output_type": "stream",
     "text": [
      "Current Directory: /Users/woosubshin/Desktop/ModelEngineering/SBMLLint/notebook\n"
     ]
    }
   ],
   "source": [
    "from games_setup import *\n",
    "from SBMLLint.common import constants as cn\n",
    "from SBMLLint.common.molecule import Molecule, MoleculeStoichiometry\n",
    "from SBMLLint.common.reaction import Reaction\n",
    "from SBMLLint.games.som import SOM\n",
    "from SBMLLint.common.simple_sbml import SimpleSBML\n",
    "\n",
    "import collections\n",
    "import itertools\n",
    "import networkx as nx\n",
    "import numpy as np\n",
    "import pandas as pd\n",
    "#\n",
    "from SBMLLint.common.stoichiometry_matrix import StoichiometryMatrix\n",
    "from SBMLLint.games.mesgraph import MESGraph\n",
    "from SBMLLint.games.games_pp import GAMES_PP, SOMStoichiometry, SOMReaction, TOLERANCE\n",
    "from SBMLLint.games.games_report import GAMESReport\n",
    "\n",
    "ReactionOperation = collections.namedtuple(\"ReactionOperation\", \n",
    "    \"reaction operation\")"
   ]
  },
  {
   "cell_type": "code",
   "execution_count": 2,
   "metadata": {},
   "outputs": [
    {
     "name": "stdout",
     "output_type": "stream",
     "text": [
      "SHMT: FH4 + serine -> CH2FH4\n",
      "SHMTr: CH2FH4 -> FH4\n",
      "HCHOtoCH2FH4: FH4 + HCHO -> CH2FH4\n",
      "CH2FH4toHCHO: CH2FH4 -> FH4 + HCHO\n",
      "MTHFR: CH2FH4 + NADPH -> CH3FH4\n",
      "MTR: CH3FH4 + homocysteine -> FH4\n",
      "HCOOHtoCHOFH4: FH4 + formate + ATP -> CHOFH4\n",
      "GARFT: CHOFH4 + GAR -> FGAR + FH4\n",
      "ATIC7: CHOFH4 + AICAR -> FH4\n",
      "MTHFD: CH2FH4 + NADP -> CHOFH4\n",
      "TYMS: CH2FH4 + dUMP -> FH2f\n",
      "DHFReductase: FH2f -> FH4\n",
      "FFH2syn: FH2f -> FFH2\n",
      "ATIC12: FFH2 + AICAR -> FH2f\n",
      "AICARsyn: FGAR -> AICAR\n",
      "FPGS12: MTX1 -> MTX2\n",
      "FPGS23: MTX2 -> MTX3\n",
      "FPGS34: MTX3 -> MTX4\n",
      "FPGS45: MTX4 -> MTX5\n",
      "GGH21: MTX2 -> MTX1\n",
      "GGH32: MTX3 -> MTX2\n",
      "GGH43: MTX4 -> MTX3\n",
      "GGH54: MTX5 -> MTX4\n",
      "RFC: EMTX -> MTX1\n",
      "MTX1on: MTX1 + DHFRf -> MTX1b\n",
      "MTX2on: MTX2 + DHFRf -> MTX2b\n",
      "MTX3on: MTX3 + DHFRf -> MTX3b\n",
      "MTX4on: MTX4 + DHFRf -> MTX4b\n",
      "MTX5on: MTX5 + DHFRf -> MTX5b\n",
      "MTX1off: MTX1b -> MTX1 + DHFRf\n",
      "MTX2off: MTX2b -> MTX2 + DHFRf\n",
      "MTX3off: MTX3b -> MTX3 + DHFRf\n",
      "MTX4off: MTX4b -> MTX4 + DHFRf\n",
      "MTX5off: MTX5b -> MTX5 + DHFRf\n",
      "MTX1deg: MTX1b -> MTX1\n",
      "MTX2deg: MTX2b -> MTX2\n",
      "MTX3deg: MTX3b -> MTX3\n",
      "MTX4deg: MTX4b -> MTX4\n",
      "MTX5deg: MTX5b -> MTX5\n"
     ]
    }
   ],
   "source": [
    "simple = load_file_from_curated_data(18)\n",
    "for r in simple.reactions:\n",
    "  if r.category != cn.REACTION_BOUNDARY:\n",
    "    print(r.makeIdentifier(is_include_kinetics=False))"
   ]
  },
  {
   "cell_type": "code",
   "execution_count": 3,
   "metadata": {},
   "outputs": [
    {
     "name": "stdout",
     "output_type": "stream",
     "text": [
      "We just analyzed the data...\n",
      "Type I error:  [PathComponents(node1='FH4', node2='CH2FH4', reactions=['CH2FH4toHCHO', 'SHMT', 'HCHOtoCH2FH4']), PathComponents(node1='CH2FH4', node2='FH2f', reactions=['TYMS']), PathComponents(node1='FFH2', node2='FH2f', reactions=['ATIC12']), PathComponents(node1='MTX1', node2='MTX1b', reactions=['MTX1off', 'MTX1on']), PathComponents(node1='MTX2', node2='MTX2b', reactions=['MTX2off', 'MTX2on']), PathComponents(node1='MTX3', node2='MTX3b', reactions=['MTX3off', 'MTX3on']), PathComponents(node1='MTX4', node2='MTX4b', reactions=['MTX4off', 'MTX4on']), PathComponents(node1='MTX5', node2='MTX5b', reactions=['MTX5off', 'MTX5on'])]\n",
      "Type II error:  [[{CHOFH4}, {CH2FH4, FFH2, FH2f, FH4}], [{CH3FH4}, {CH2FH4, FFH2, FH2f, FH4}]]\n",
      "Canceling error:  []\n",
      "Echelon error:  [HCOOHtoCHOFH4: {formate} + {ATP} + {AICAR, FGAR} -> , MTHFR: {NADPH} + {homocysteine} -> ]\n",
      "Type III error:  []\n",
      "Type I-SOM error:  set()\n"
     ]
    },
    {
     "data": {
      "text/plain": [
       "True"
      ]
     },
     "execution_count": 3,
     "metadata": {},
     "output_type": "execute_result"
    }
   ],
   "source": [
    "m = GAMES_PP(simple)\n",
    "m.analyze()"
   ]
  },
  {
   "cell_type": "code",
   "execution_count": 4,
   "metadata": {},
   "outputs": [],
   "source": [
    "gr = GAMESReport(m)\n",
    "# print(gr.reportTypeOneError(m.type_one_errors))"
   ]
  },
  {
   "cell_type": "code",
   "execution_count": 5,
   "metadata": {},
   "outputs": [
    {
     "data": {
      "text/html": [
       "<div>\n",
       "<style scoped>\n",
       "    .dataframe tbody tr th:only-of-type {\n",
       "        vertical-align: middle;\n",
       "    }\n",
       "\n",
       "    .dataframe tbody tr th {\n",
       "        vertical-align: top;\n",
       "    }\n",
       "\n",
       "    .dataframe thead th {\n",
       "        text-align: right;\n",
       "    }\n",
       "</style>\n",
       "<table border=\"1\" class=\"dataframe\">\n",
       "  <thead>\n",
       "    <tr style=\"text-align: right;\">\n",
       "      <th></th>\n",
       "      <th>HCOOHtoCHOFH4</th>\n",
       "      <th>MTHFR</th>\n",
       "      <th>GARFT</th>\n",
       "      <th>ATIC7</th>\n",
       "      <th>MTR</th>\n",
       "      <th>MTHFD</th>\n",
       "    </tr>\n",
       "  </thead>\n",
       "  <tbody>\n",
       "    <tr>\n",
       "      <th>HCOOHtoCHOFH4</th>\n",
       "      <td>1.0</td>\n",
       "      <td>0.0</td>\n",
       "      <td>0.0</td>\n",
       "      <td>1.0</td>\n",
       "      <td>0.0</td>\n",
       "      <td>0.0</td>\n",
       "    </tr>\n",
       "    <tr>\n",
       "      <th>MTHFR</th>\n",
       "      <td>0.0</td>\n",
       "      <td>1.0</td>\n",
       "      <td>0.0</td>\n",
       "      <td>0.0</td>\n",
       "      <td>1.0</td>\n",
       "      <td>0.0</td>\n",
       "    </tr>\n",
       "    <tr>\n",
       "      <th>GARFT</th>\n",
       "      <td>0.0</td>\n",
       "      <td>0.0</td>\n",
       "      <td>1.0</td>\n",
       "      <td>-1.0</td>\n",
       "      <td>0.0</td>\n",
       "      <td>0.0</td>\n",
       "    </tr>\n",
       "    <tr>\n",
       "      <th>ATIC7</th>\n",
       "      <td>0.0</td>\n",
       "      <td>0.0</td>\n",
       "      <td>0.0</td>\n",
       "      <td>1.0</td>\n",
       "      <td>0.0</td>\n",
       "      <td>0.0</td>\n",
       "    </tr>\n",
       "    <tr>\n",
       "      <th>MTR</th>\n",
       "      <td>0.0</td>\n",
       "      <td>0.0</td>\n",
       "      <td>0.0</td>\n",
       "      <td>0.0</td>\n",
       "      <td>1.0</td>\n",
       "      <td>0.0</td>\n",
       "    </tr>\n",
       "    <tr>\n",
       "      <th>MTHFD</th>\n",
       "      <td>0.0</td>\n",
       "      <td>0.0</td>\n",
       "      <td>0.0</td>\n",
       "      <td>0.0</td>\n",
       "      <td>0.0</td>\n",
       "      <td>1.0</td>\n",
       "    </tr>\n",
       "  </tbody>\n",
       "</table>\n",
       "</div>"
      ],
      "text/plain": [
       "               HCOOHtoCHOFH4  MTHFR  GARFT  ATIC7  MTR  MTHFD\n",
       "HCOOHtoCHOFH4            1.0    0.0    0.0    1.0  0.0    0.0\n",
       "MTHFR                    0.0    1.0    0.0    0.0  1.0    0.0\n",
       "GARFT                    0.0    0.0    1.0   -1.0  0.0    0.0\n",
       "ATIC7                    0.0    0.0    0.0    1.0  0.0    0.0\n",
       "MTR                      0.0    0.0    0.0    0.0  1.0    0.0\n",
       "MTHFD                    0.0    0.0    0.0    0.0  0.0    1.0"
      ]
     },
     "execution_count": 5,
     "metadata": {},
     "output_type": "execute_result"
    }
   ],
   "source": [
    "m.rref_operation"
   ]
  },
  {
   "cell_type": "code",
   "execution_count": 6,
   "metadata": {},
   "outputs": [
    {
     "name": "stdout",
     "output_type": "stream",
     "text": [
      "reported_reactions ['HCOOHtoCHOFH4', 'ATIC7']\n",
      "canceled_soms Index(['{CH2FH4, FFH2, FH2f, FH4}', '{CHOFH4}'], dtype='object')\n",
      "som_name is  {CH2FH4, FFH2, FH2f, FH4}\n",
      "som_name is  {CHOFH4}\n",
      "linkage report :\n",
      "The following molecules,\n",
      "FH4, \n",
      "Have equal mass by the following reactions.\n",
      "The following molecules,\n",
      "CHOFH4, \n",
      "Have equal mass by the following reactions.\n",
      "\n",
      "reported_reactions ['MTHFR', 'MTR']\n",
      "canceled_soms Index(['{CH2FH4, FFH2, FH2f, FH4}', '{CH3FH4}'], dtype='object')\n",
      "som_name is  {CH2FH4, FFH2, FH2f, FH4}\n",
      "som_name is  {CH3FH4}\n",
      "linkage report :\n",
      "The following molecules,\n",
      "FH4, \n",
      "Have equal mass by the following reactions.\n",
      "The following molecules,\n",
      "CHOFH4, \n",
      "Have equal mass by the following reactions.\n",
      "The following molecules,\n",
      "FH4, CH2FH4, \n",
      "Have equal mass by the following reactions.\n",
      "SHMTr: CH2FH4 -> FH4\n",
      "The following molecules,\n",
      "CH3FH4, \n",
      "Have equal mass by the following reactions.\n",
      "\n"
     ]
    },
    {
     "data": {
      "text/plain": [
       "'\\nThe following reactions create a mass imbalance.\\n\\nHCOOHtoCHOFH4: FH4 + formate + ATP -> CHOFH4\\nATIC7: CHOFH4 + AICAR -> FH4\\n****************************************\\n\\nThe following reactions create a mass imbalance.\\n\\nMTHFR: CH2FH4 + NADPH -> CH3FH4\\nMTR: CH3FH4 + homocysteine -> FH4\\n****************************************\\n--------------------------------------------------\\n'"
      ]
     },
     "execution_count": 6,
     "metadata": {},
     "output_type": "execute_result"
    }
   ],
   "source": [
    "gr.reportEchelonError(m.echelon_errors)"
   ]
  },
  {
   "cell_type": "code",
   "execution_count": 19,
   "metadata": {},
   "outputs": [
    {
     "data": {
      "text/plain": [
       "Index(['{CH2FH4, FFH2, FH2f, FH4}', '{CH3FH4}'], dtype='object')"
      ]
     },
     "execution_count": 19,
     "metadata": {},
     "output_type": "execute_result"
    }
   ],
   "source": [
    "result_series = gr.mesgraph.rref_df[\"MTHFR\"]\n",
    "nonzero_result_series = result_series[result_series.to_numpy().nonzero()[0]]\n",
    "\n",
    "nonzero_elements = gr.mesgraph.som_stoichiometry_matrix.index\n",
    "som_row = gr.mesgraph.som_stoichiometry_matrix[\"MTHFR\"]\n",
    "nonzero_elements = nonzero_elements.intersection(\n",
    "    som_row[som_row.to_numpy().nonzero()[0]].index\n",
    "    )\n",
    "som_row = gr.mesgraph.som_stoichiometry_matrix[\"MTR\"]\n",
    "nonzero_elements = nonzero_elements.intersection(\n",
    "    som_row[som_row.to_numpy().nonzero()[0]].index\n",
    "    )\n",
    "nonzero_elements\n",
    "\n",
    "canceled_soms = nonzero_elements.difference(nonzero_result_series.index)\n",
    "canceled_soms"
   ]
  },
  {
   "cell_type": "code",
   "execution_count": null,
   "metadata": {},
   "outputs": [],
   "source": []
  },
  {
   "cell_type": "code",
   "execution_count": 18,
   "metadata": {},
   "outputs": [
    {
     "data": {
      "text/plain": [
       "{NADPH}                     -1.0\n",
       "{CH3FH4}                     1.0\n",
       "{CH2FH4, FFH2, FH2f, FH4}   -1.0\n",
       "Name: MTHFR, dtype: float64"
      ]
     },
     "execution_count": 18,
     "metadata": {},
     "output_type": "execute_result"
    }
   ],
   "source": [
    "nonzero_result_series"
   ]
  },
  {
   "cell_type": "code",
   "execution_count": 7,
   "metadata": {},
   "outputs": [
    {
     "name": "stdout",
     "output_type": "stream",
     "text": [
      "linkage report :\n",
      "\n",
      "linkage report :\n",
      "\n",
      "linkage report :\n",
      "\n",
      "\n",
      "The following reactions create a mass imbalance.\n",
      "\n",
      "HCOOHtoCHOFH4: FH4 + formate + ATP -> CHOFH4\n",
      "ATIC7: CHOFH4 + AICAR -> FH4\n",
      "****************************************\n",
      "\n",
      "The following reactions create a mass imbalance.\n",
      "\n",
      "MTHFR: CH2FH4 + NADPH -> CH3FH4\n",
      "MTR: CH3FH4 + homocysteine -> FH4\n",
      "****************************************\n",
      "\n",
      "The following reactions create a mass imbalance.\n",
      "\n",
      "MTHFD: CH2FH4 + NADP -> CHOFH4\n",
      "ATIC7: CHOFH4 + AICAR -> FH4\n",
      "****************************************\n",
      "--------------------------------------------------\n",
      "\n"
     ]
    }
   ],
   "source": [
    "echelon_report = gr.reportEchelonError(m.echelon_errors)\n",
    "print(echelon_report)"
   ]
  },
  {
   "cell_type": "code",
   "execution_count": 9,
   "metadata": {},
   "outputs": [
    {
     "data": {
      "text/plain": [
       "Index(['{homocysteine}', '{formate}', '{NADPH}', '{GAR}', '{ATP}', '{CH3FH4}',\n",
       "       '{DHFRf}', '{HCHO}', '{NADP}', '{dUMP}', '{serine}', '{CHOFH4}',\n",
       "       '{CH2FH4, FFH2, FH2f, FH4}', '{AICAR, FGAR}',\n",
       "       '{EMTX, MTX1, MTX1b, MTX2, MTX2b, MTX3, MTX3b, MTX4, MTX4b, MTX5, MTX5b}'],\n",
       "      dtype='object')"
      ]
     },
     "execution_count": 9,
     "metadata": {},
     "output_type": "execute_result"
    }
   ],
   "source": [
    "gr.mesgraph.som_stoichiometry_matrix.index"
   ]
  },
  {
   "cell_type": "code",
   "execution_count": 7,
   "metadata": {},
   "outputs": [
    {
     "name": "stdout",
     "output_type": "stream",
     "text": [
      "HCOOHtoCHOFH4: {formate} + {ATP} + {CH2FH4, FFH2, FH2f, FH4} -> {CHOFH4}\n",
      "ATIC7: {CHOFH4} + {AICAR, FGAR} -> {CH2FH4, FFH2, FH2f, FH4}\n"
     ]
    }
   ],
   "source": [
    "print(m.convertReactionToSOMReaction(simple.getReaction(\"HCOOHtoCHOFH4\")))\n",
    "print(m.convertReactionToSOMReaction(simple.getReaction(\"ATIC7\")))"
   ]
  },
  {
   "cell_type": "code",
   "execution_count": 9,
   "metadata": {},
   "outputs": [
    {
     "name": "stdout",
     "output_type": "stream",
     "text": [
      "{'CHOFH4'}\n",
      "[]\n"
     ]
    }
   ],
   "source": [
    "a, b = gr.getMoleculeLinkage(\"{CHOFH4}\", [\"ATIC7\"])\n",
    "print(a)\n",
    "print(b)"
   ]
  },
  {
   "cell_type": "code",
   "execution_count": 13,
   "metadata": {},
   "outputs": [
    {
     "name": "stdout",
     "output_type": "stream",
     "text": [
      "{'FH4'}\n",
      "[]\n"
     ]
    }
   ],
   "source": [
    "a, b = gr.getMoleculeLinkage(\"{CH2FH4, FFH2, FH2f, FH4}\", [\"ATIC7\", \"HCOOHtoCHOFH4\"])\n",
    "print(a)\n",
    "print(b)"
   ]
  },
  {
   "cell_type": "code",
   "execution_count": 21,
   "metadata": {},
   "outputs": [
    {
     "data": {
      "text/plain": [
       "MTHFD: {NADP} + {AICAR, FGAR} -> "
      ]
     },
     "execution_count": 21,
     "metadata": {},
     "output_type": "execute_result"
    }
   ],
   "source": [
    "echelon_error = m.echelon_errors[0]\n",
    "echelon_error"
   ]
  },
  {
   "cell_type": "code",
   "execution_count": 124,
   "metadata": {},
   "outputs": [
    {
     "data": {
      "text/plain": [
       "Index(['{NADP}', '{AICAR, FGAR}'], dtype='object')"
      ]
     },
     "execution_count": 124,
     "metadata": {},
     "output_type": "execute_result"
    }
   ],
   "source": [
    "result_row = m.echelon_df[echelon_error.label]\n",
    "nonzero_result_row = result_row[result_row.to_numpy().nonzero()[0]]\n",
    "nonzero_result_row.index"
   ]
  },
  {
   "cell_type": "code",
   "execution_count": 41,
   "metadata": {},
   "outputs": [
    {
     "data": {
      "text/plain": [
       "Index(['ATIC7', 'MTHFD'], dtype='object')"
      ]
     },
     "execution_count": 41,
     "metadata": {},
     "output_type": "execute_result"
    }
   ],
   "source": [
    "if m.rref_df is None:\n",
    "  operation_df = m.lower_inverse\n",
    "else:\n",
    "  operation_df = m.rref_operation.dot(m.lower_inverse)\n",
    "operation_df\n",
    "op_row = operation_df.T[echelon_error.label]\n",
    "nonzero_op_rows = op_row[op_row.to_numpy().nonzero()[0]]\n",
    "nonzero_op_rows.index"
   ]
  },
  {
   "cell_type": "code",
   "execution_count": 49,
   "metadata": {},
   "outputs": [
    {
     "name": "stdout",
     "output_type": "stream",
     "text": [
      "ATIC7: CHOFH4 + AICAR -> FH4\n",
      "ATIC7: {CHOFH4} + {AICAR, FGAR} -> {CH2FH4, FFH2, FH2f, FH4}\n",
      "\n",
      "MTHFD: CH2FH4 + NADP -> CHOFH4\n",
      "MTHFD: {NADP} + {CH2FH4, FFH2, FH2f, FH4} -> {CHOFH4}\n",
      "\n"
     ]
    }
   ],
   "source": [
    "for r in nonzero_op_rows.index:\n",
    "  reaction = simple.getReaction(r)\n",
    "  print(reaction.makeIdentifier(is_include_kinetics=False))\n",
    "  print(m.convertReactionToSOMReaction(reaction))\n",
    "  print()"
   ]
  },
  {
   "cell_type": "code",
   "execution_count": 55,
   "metadata": {},
   "outputs": [
    {
     "name": "stdout",
     "output_type": "stream",
     "text": [
      "Index(['{CHOFH4}', '{CH2FH4, FFH2, FH2f, FH4}', '{AICAR, FGAR}'], dtype='object')\n",
      "Index(['{CHOFH4}', '{NADP}', '{CH2FH4, FFH2, FH2f, FH4}'], dtype='object')\n"
     ]
    }
   ],
   "source": [
    "# find out canceled reactants/products first\n",
    "# meaning, nonzeros that both exist in atic7 and mthfd but not in the result_row\n",
    "atic7_row = m.som_stoichiometry_matrix[nonzero_op_rows.index[0]]\n",
    "mthfd_row = m.som_stoichiometry_matrix[nonzero_op_rows.index[1]]\n",
    "nonzero_atic7_row = atic7_row[atic7_row.to_numpy().nonzero()[0]]\n",
    "nonzero_mthfd_row = mthfd_row[mthfd_row.to_numpy().nonzero()[0]]\n",
    "print(nonzero_atic7_row.index)\n",
    "print(nonzero_mthfd_row.index)"
   ]
  },
  {
   "cell_type": "code",
   "execution_count": 57,
   "metadata": {},
   "outputs": [
    {
     "data": {
      "text/plain": [
       "Index(['{CHOFH4}', '{CH2FH4, FFH2, FH2f, FH4}'], dtype='object')"
      ]
     },
     "execution_count": 57,
     "metadata": {},
     "output_type": "execute_result"
    }
   ],
   "source": [
    "nonzero_atic7_row.index.intersection(nonzero_mthfd_row.index)"
   ]
  },
  {
   "cell_type": "code",
   "execution_count": 123,
   "metadata": {},
   "outputs": [
    {
     "data": {
      "text/plain": [
       "Index(['ATIC7', 'MTHFD'], dtype='object')"
      ]
     },
     "execution_count": 123,
     "metadata": {},
     "output_type": "execute_result"
    }
   ],
   "source": [
    "nonzero_op_rows.index"
   ]
  },
  {
   "cell_type": "code",
   "execution_count": 63,
   "metadata": {},
   "outputs": [
    {
     "name": "stdout",
     "output_type": "stream",
     "text": [
      "Index(['{CH2FH4, FFH2, FH2f, FH4}', '{CHOFH4}'], dtype='object')\n"
     ]
    }
   ],
   "source": [
    "nonzero_elements = m.som_stoichiometry_matrix.index\n",
    "for r in nonzero_op_rows.index:\n",
    "  row = m.som_stoichiometry_matrix[r]\n",
    "  nonzero_elements = nonzero_elements.intersection(row[row.to_numpy().nonzero()[0]].index)\n",
    "# finally, subtract remaining nonzero elements from nonzero_result_row\n",
    "canceled_elements = nonzero_elements.difference(nonzero_result_row.index)\n",
    "print(canceled_elements)"
   ]
  },
  {
   "cell_type": "code",
   "execution_count": 73,
   "metadata": {},
   "outputs": [
    {
     "data": {
      "text/plain": [
       "{CH2FH4, FFH2, FH2f, FH4}"
      ]
     },
     "execution_count": 73,
     "metadata": {},
     "output_type": "execute_result"
    }
   ],
   "source": [
    "def getSOM(som_name):\n",
    "  for node in m.nodes:\n",
    "    if node.identifier == som_name:\n",
    "      return node"
   ]
  },
  {
   "cell_type": "code",
   "execution_count": 77,
   "metadata": {},
   "outputs": [
    {
     "data": {
      "text/plain": [
       "{CHOFH4}"
      ]
     },
     "execution_count": 77,
     "metadata": {},
     "output_type": "execute_result"
    }
   ],
   "source": [
    "som1 = getSOM(canceled_elements[0])\n",
    "som2 = getSOM(canceled_elements[1])"
   ]
  },
  {
   "cell_type": "code",
   "execution_count": 125,
   "metadata": {},
   "outputs": [
    {
     "data": {
      "text/plain": [
       "Index(['ATIC7', 'MTHFD'], dtype='object')"
      ]
     },
     "execution_count": 125,
     "metadata": {},
     "output_type": "execute_result"
    }
   ],
   "source": [
    "nonzero_op_rows.index"
   ]
  },
  {
   "cell_type": "code",
   "execution_count": 121,
   "metadata": {},
   "outputs": [],
   "source": [
    "# this is for each som that were eliminated by matrix operation\n",
    "molecules = {m.name for m in som1.molecules}\n",
    "linked_molecules = set()\n",
    "for r in nonzero_op_rows.index:\n",
    "  reaction = simple.getReaction(r)\n",
    "  reactants = {m.molecule.name for m in reaction.reactants}\n",
    "  products = {m.molecule.name for m in reaction.products}\n",
    "  som_molecules = molecules.intersection(reactants)\n",
    "  som_molecules = som_molecules.union(molecules.intersection(products))\n",
    "  linked_molecules = linked_molecules.union(som_molecules)\n",
    "# now need to path (reactions) between molecules within the linked_molecules\n",
    "linked_reactions = []\n",
    "for sr in som1.reactions:\n",
    "  sreactants = {m.molecule.name for m in sr.reactants}\n",
    "  sproducts = {m.molecule.name for m in sr.products}\n",
    "  if sreactants.intersection(linked_molecules) and \\\n",
    "     sproducts.intersection(linked_molecules):\n",
    "    linked_reactions.append(sr.label)\n",
    "# can generate report that will create equality between molecules -> maximum amount of information"
   ]
  },
  {
   "cell_type": "code",
   "execution_count": 122,
   "metadata": {},
   "outputs": [
    {
     "name": "stdout",
     "output_type": "stream",
     "text": [
      "{'CH2FH4', 'FH4'}\n",
      "['SHMTr']\n"
     ]
    }
   ],
   "source": [
    "print(linked_molecules)\n",
    "print(linked_reactions)"
   ]
  },
  {
   "cell_type": "code",
   "execution_count": 113,
   "metadata": {},
   "outputs": [
    {
     "data": {
      "text/plain": [
       "{DHFReductase: FH2f -> FH4; cell * kter * FH2b,\n",
       " FFH2syn: FH2f -> FFH2; cell * Vm * FH2f,\n",
       " SHMTr: CH2FH4 -> FH4; cell * (Vm * (glycine / Km2 / (1 + glycine / Km2)) * (CH2FH4 / Km1) / (1 + CH2FH4 / Km1))}"
      ]
     },
     "execution_count": 113,
     "metadata": {},
     "output_type": "execute_result"
    }
   ],
   "source": [
    "som1.reactions"
   ]
  },
  {
   "cell_type": "code",
   "execution_count": 120,
   "metadata": {},
   "outputs": [
    {
     "data": {
      "text/plain": [
       "{'FH2f'}"
      ]
     },
     "execution_count": 120,
     "metadata": {},
     "output_type": "execute_result"
    }
   ],
   "source": [
    "sreactants"
   ]
  },
  {
   "cell_type": "code",
   "execution_count": null,
   "metadata": {},
   "outputs": [],
   "source": []
  }
 ],
 "metadata": {
  "kernelspec": {
   "display_name": "Python 3",
   "language": "python",
   "name": "python3"
  },
  "language_info": {
   "codemirror_mode": {
    "name": "ipython",
    "version": 3
   },
   "file_extension": ".py",
   "mimetype": "text/x-python",
   "name": "python",
   "nbconvert_exporter": "python",
   "pygments_lexer": "ipython3",
   "version": "3.6.8"
  }
 },
 "nbformat": 4,
 "nbformat_minor": 2
}
