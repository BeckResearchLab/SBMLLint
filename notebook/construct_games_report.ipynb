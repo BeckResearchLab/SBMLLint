{
 "cells": [
  {
   "cell_type": "code",
   "execution_count": 10,
   "metadata": {},
   "outputs": [],
   "source": [
    "from games_setup import *\n",
    "from SBMLLint.common import constants as cn\n",
    "from SBMLLint.common.molecule import Molecule, MoleculeStoichiometry\n",
    "from SBMLLint.common.reaction import Reaction\n",
    "from SBMLLint.games.som import SOM\n",
    "from SBMLLint.common.simple_sbml import SimpleSBML\n",
    "\n",
    "import collections\n",
    "import itertools\n",
    "import networkx as nx\n",
    "import numpy as np\n",
    "import pandas as pd\n",
    "#\n",
    "from SBMLLint.common.stoichiometry_matrix import StoichiometryMatrix\n",
    "from SBMLLint.games.mesgraph import MESGraph\n",
    "from SBMLLint.games.games_pp import GAMES_PP, SOMStoichiometry, SOMReaction, TOLERANCE\n",
    "from SBMLLint.games.games_report import GAMESReport, SimplifiedReaction\n",
    "\n",
    "ReactionOperation = collections.namedtuple(\"ReactionOperation\", \n",
    "    \"reaction operation\")"
   ]
  },
  {
   "cell_type": "code",
   "execution_count": 23,
   "metadata": {},
   "outputs": [
    {
     "name": "stdout",
     "output_type": "stream",
     "text": [
      "We just analyzed the data...\n",
      "Type I error:  []\n",
      "Type II error:  []\n",
      "Canceling error:  []\n",
      "Echelon error:  []\n",
      "Type III error:  []\n",
      "Type I-SOM error:  set()\n"
     ]
    }
   ],
   "source": [
    "# Model 248 is for canceling error\n",
    "# Model 14/167 for a type three error / echelon\n",
    "# Model 7 for type 1 error\n",
    "# Model 18 for type 2 error\n",
    "\n",
    "######## examine model 628 for large echelon error ###########\n",
    "simple = load_file_from_games(170)\n",
    "# for r in simple.reactions:\n",
    "#   if r.category != cn.REACTION_BOUNDARY and r.category != cn.REACTION_1_1:\n",
    "#     print(r.makeIdentifier(is_include_kinetics=False))\n",
    "m = GAMES_PP(simple)\n",
    "m.analyze()\n",
    "gr = GAMESReport(m)"
   ]
  },
  {
   "cell_type": "code",
   "execution_count": 24,
   "metadata": {},
   "outputs": [
    {
     "data": {
      "text/plain": [
       "17"
      ]
     },
     "execution_count": 24,
     "metadata": {},
     "output_type": "execute_result"
    }
   ],
   "source": [
    "len(simple.reactions)"
   ]
  },
  {
   "cell_type": "code",
   "execution_count": 16,
   "metadata": {},
   "outputs": [
    {
     "data": {
      "text/html": [
       "<div>\n",
       "<style scoped>\n",
       "    .dataframe tbody tr th:only-of-type {\n",
       "        vertical-align: middle;\n",
       "    }\n",
       "\n",
       "    .dataframe tbody tr th {\n",
       "        vertical-align: top;\n",
       "    }\n",
       "\n",
       "    .dataframe thead th {\n",
       "        text-align: right;\n",
       "    }\n",
       "</style>\n",
       "<table border=\"1\" class=\"dataframe\">\n",
       "  <thead>\n",
       "    <tr style=\"text-align: right;\">\n",
       "      <th></th>\n",
       "      <th>PstatDimerisation</th>\n",
       "      <th>statPhosphorylation</th>\n",
       "      <th>PstatDimerisationNuc</th>\n",
       "    </tr>\n",
       "  </thead>\n",
       "  <tbody>\n",
       "    <tr>\n",
       "      <th>{Pstat_sol}</th>\n",
       "      <td>-2.0</td>\n",
       "      <td>0.0</td>\n",
       "      <td>0.0</td>\n",
       "    </tr>\n",
       "    <tr>\n",
       "      <th>{species_test}</th>\n",
       "      <td>0.0</td>\n",
       "      <td>1.0</td>\n",
       "      <td>0.0</td>\n",
       "    </tr>\n",
       "    <tr>\n",
       "      <th>{PstatDimer_nuc=PstatDimer_sol}</th>\n",
       "      <td>1.0</td>\n",
       "      <td>0.5</td>\n",
       "      <td>1.0</td>\n",
       "    </tr>\n",
       "    <tr>\n",
       "      <th>{Pstat_nuc=stat_nuc=stat_sol}</th>\n",
       "      <td>0.0</td>\n",
       "      <td>-1.0</td>\n",
       "      <td>-2.0</td>\n",
       "    </tr>\n",
       "  </tbody>\n",
       "</table>\n",
       "</div>"
      ],
      "text/plain": [
       "                                 PstatDimerisation  statPhosphorylation  \\\n",
       "{Pstat_sol}                                   -2.0                  0.0   \n",
       "{species_test}                                 0.0                  1.0   \n",
       "{PstatDimer_nuc=PstatDimer_sol}                1.0                  0.5   \n",
       "{Pstat_nuc=stat_nuc=stat_sol}                  0.0                 -1.0   \n",
       "\n",
       "                                 PstatDimerisationNuc  \n",
       "{Pstat_sol}                                       0.0  \n",
       "{species_test}                                    0.0  \n",
       "{PstatDimer_nuc=PstatDimer_sol}                   1.0  \n",
       "{Pstat_nuc=stat_nuc=stat_sol}                    -2.0  "
      ]
     },
     "execution_count": 16,
     "metadata": {},
     "output_type": "execute_result"
    }
   ],
   "source": [
    "m.echelon_df"
   ]
  },
  {
   "cell_type": "code",
   "execution_count": 3,
   "metadata": {},
   "outputs": [
    {
     "name": "stdout",
     "output_type": "stream",
     "text": [
      "14\n"
     ]
    }
   ],
   "source": [
    "count = 0\n",
    "for som in m.nodes:\n",
    "  if len(som.molecules)>1:\n",
    "    count = count + len(som.reactions)\n",
    "print(count)"
   ]
  },
  {
   "cell_type": "code",
   "execution_count": 4,
   "metadata": {},
   "outputs": [
    {
     "data": {
      "text/plain": [
       "1.6403882032022075"
      ]
     },
     "execution_count": 4,
     "metadata": {},
     "output_type": "execute_result"
    }
   ],
   "source": [
    "np.linalg.cond(m.lower_inverse)"
   ]
  },
  {
   "cell_type": "code",
   "execution_count": 13,
   "metadata": {},
   "outputs": [
    {
     "data": {
      "text/plain": [
       "827"
      ]
     },
     "execution_count": 13,
     "metadata": {},
     "output_type": "execute_result"
    }
   ],
   "source": [
    "len(simple.reactions)"
   ]
  },
  {
   "cell_type": "code",
   "execution_count": 16,
   "metadata": {},
   "outputs": [],
   "source": [
    "resulting_series = gr.getResultingSeries(\"statPhosphorylation\")"
   ]
  },
  {
   "cell_type": "code",
   "execution_count": 11,
   "metadata": {},
   "outputs": [
    {
     "data": {
      "text/plain": [
       "827"
      ]
     },
     "execution_count": 11,
     "metadata": {},
     "output_type": "execute_result"
    }
   ],
   "source": [
    "len(simple.reactions)"
   ]
  },
  {
   "cell_type": "code",
   "execution_count": 12,
   "metadata": {},
   "outputs": [
    {
     "name": "stdout",
     "output_type": "stream",
     "text": [
      "We detected a mass imbalance from the following reactions:\n",
      "\n",
      "\n",
      "c154 = c86 by reaction(s):\n",
      "1. v537: c154 -> c86\n",
      "\n",
      "c86 = c160 by reaction(s):\n",
      "2. v601: c160 -> c86\n",
      "\n",
      "However, c154 < c160 by reaction(s):\n",
      "3. v13: c10 + c154 -> c160\n",
      "\n",
      "\n",
      "----------------------------------------------------------------------\n",
      "\n",
      "\n",
      "\n",
      "**********************************************************************\n",
      "\n",
      "\n",
      "[3]\n"
     ]
    }
   ],
   "source": [
    "type1_report, error_num = gr.reportTypeOneError([m.type_one_errors[1]], explain_details=True)\n",
    "print(type1_report)\n",
    "print(error_num)"
   ]
  },
  {
   "cell_type": "code",
   "execution_count": 4,
   "metadata": {},
   "outputs": [
    {
     "data": {
      "text/plain": [
       "[Reaction29: {K_MAPKP_1_2} -> {MAPKP}]"
      ]
     },
     "execution_count": 4,
     "metadata": {},
     "output_type": "execute_result"
    }
   ],
   "source": [
    "[m.type_three_errors[0]]"
   ]
  },
  {
   "cell_type": "code",
   "execution_count": 9,
   "metadata": {},
   "outputs": [],
   "source": [
    "a = gr.reportTypeThreeError(m.type_three_errors, explain_details=True)\n",
    "a"
   ]
  },
  {
   "cell_type": "code",
   "execution_count": 10,
   "metadata": {},
   "outputs": [
    {
     "name": "stdout",
     "output_type": "stream",
     "text": [
      "We detected a mass imbalance from the following reactions:\n",
      "\n",
      "1. PstatDimerisation: 2.00 Pstat_sol -> PstatDimer_sol\n",
      "2. PstatDimerisationNuc: 2.00 Pstat_nuc -> PstatDimer_nuc\n",
      "\n",
      "----------------------------------------------------------------------\n",
      "\n",
      "These uni-uni reactions created mass-equivalence.\n",
      "(The molecules within a curly bracket have the same atomic mass.)\n",
      "\n",
      "3. PstatDimer__import: PstatDimer_sol -> PstatDimer_nuc;   {PstatDimer_sol=PstatDimer_nuc}\n",
      "4. stat_export: stat_sol -> stat_nuc;   {stat_sol=stat_nuc}\n",
      "5. statDephosphorylation: Pstat_nuc -> stat_nuc;   {stat_sol=stat_nuc=Pstat_nuc}\n",
      "\n",
      "----------------------------------------------------------------------\n",
      "\n",
      "These multi-uni (uni-multi) reactions created mass-inequality.\n",
      "\n",
      "6. statPhosphorylation: stat_sol -> Pstat_sol + species_test\n",
      "\n",
      "----------------------------------------------------------------------\n",
      "\n",
      "Based on the reactions above, we have mass-equivalent pseudo reactions.\n",
      "\n",
      "(pseudo 1.) PstatDimerisation: 2.00 {Pstat_sol} -> {PstatDimer_nuc=PstatDimer_sol}\n",
      "(pseudo 2.) PstatDimerisationNuc: 2.00 {Pstat_nuc=stat_nuc=stat_sol} -> {PstatDimer_nuc=PstatDimer_sol}\n",
      "\n",
      "----------------------------------------------------------------------\n",
      "\n",
      "An operation between pseudo reactions:\n",
      "\n",
      "1.00 * PstatDimerisation - 1.00 * PstatDimerisationNuc\n",
      "\n",
      "\n",
      "will result in a uni-uni reaction:\n",
      "\n",
      ": 2.00 {Pstat_sol} -> 2.00 {Pstat_nuc=stat_nuc=stat_sol}\n",
      "\n",
      "\n",
      "meaning {Pstat_sol} and {Pstat_nuc=stat_nuc=stat_sol} have equal mass.\n",
      "\n",
      "\n",
      "----------------------------------------------------------------------\n",
      "\n",
      "However, the following mass-equivalent pseudo reaction(s):\n",
      "\n",
      "6. statPhosphorylation: stat_sol -> Pstat_sol + species_test\n",
      "(pseudo 6.) statPhosphorylation: {Pstat_nuc=stat_nuc=stat_sol} -> {species_test} + {Pstat_sol}\n",
      "\n",
      "incidates the masses of {Pstat_sol} and {Pstat_nuc=stat_nuc=stat_sol} are unequal.\n",
      "\n",
      "This creates a mass conflict between reactions.\n",
      "\n",
      "----------------------------------------------------------------------\n",
      "\n",
      "----------------------------------------------------------------------\n",
      "\n",
      "\n",
      "\n",
      "**********************************************************************\n",
      "\n",
      "\n",
      "[3]\n"
     ]
    }
   ],
   "source": [
    "type3_report, error_num = gr.reportTypeThreeError(m.type_three_errors, explain_details=True)\n",
    "print(type3_report)\n",
    "print(error_num)"
   ]
  },
  {
   "cell_type": "code",
   "execution_count": null,
   "metadata": {},
   "outputs": [],
   "source": []
  },
  {
   "cell_type": "code",
   "execution_count": 7,
   "metadata": {},
   "outputs": [
    {
     "data": {
      "text/plain": [
       "v523: c6 -> c86; k60 * c6 - kd60 * c86"
      ]
     },
     "execution_count": 7,
     "metadata": {},
     "output_type": "execute_result"
    }
   ],
   "source": [
    "simple.getReaction(\"v523\")"
   ]
  },
  {
   "cell_type": "code",
   "execution_count": 6,
   "metadata": {},
   "outputs": [
    {
     "data": {
      "text/plain": [
       "v208: c6 + c16 -> c10; k10b * c6 * c16 - kd10 * c10"
      ]
     },
     "execution_count": 6,
     "metadata": {},
     "output_type": "execute_result"
    }
   ],
   "source": [
    "simple.getReaction(\"v208\")"
   ]
  },
  {
   "cell_type": "code",
   "execution_count": 4,
   "metadata": {},
   "outputs": [
    {
     "name": "stdout",
     "output_type": "stream",
     "text": [
      "We detected a mass imbalance from the following reactions:\n",
      "\n",
      "These uni-uni reactions created mass-equivalence.\n",
      "\n",
      "1. v180: c348 -> c350\n",
      "2. v192: c294 -> c296\n",
      "3. v174: c37 -> c68\n",
      "4. v168: c33 -> c64\n",
      "5. v533: c66 -> c86\n",
      "6. v540: c192 -> c86\n",
      "7. v546: c210 -> c86\n",
      "8. v553: c229 -> c86\n",
      "9. v559: c256 -> c86\n",
      "10. v567: c293 -> c86\n",
      "11. v574: c314 -> c86\n",
      "12. v566: c425 -> c86\n",
      "13. v587: c377 -> c86\n",
      "14. v593: c371 -> c86\n",
      "15. v605: c421 -> c86\n",
      "16. v573: c311 -> c86\n",
      "17. v527: c19 -> c86\n",
      "18. v580: c350 -> c86\n",
      "19. v181: c351 -> c353\n",
      "20. v541: c193 -> c86\n",
      "21. v193: c297 -> c299\n",
      "22. v169: c25 -> c19\n",
      "23. v175: c23 -> c18\n",
      "24. v528: c20 -> c86\n",
      "25. v163: c27 -> c20\n",
      "26. v534: c67 -> c86\n",
      "27. v547: c211 -> c86\n",
      "28. v586: c365 -> c86\n",
      "29. v554: c230 -> c86\n",
      "30. v560: c257 -> c86\n",
      "31. v568: c296 -> c86\n",
      "32. v575: c317 -> c86\n",
      "33. v588: c380 -> c86\n",
      "34. v594: c374 -> c86\n",
      "35. v600: c159 -> c86\n",
      "36. v606: c422 -> c86\n",
      "37. v385: c294 -> c297\n",
      "38. v592: c392 -> c86\n",
      "39. v542: c194 -> c86\n",
      "40. v176: c140 -> c154\n",
      "41. v170: c29 -> c21\n",
      "42. v164: c2 -> c6\n",
      "43. v529: c21 -> c86\n",
      "44. v523: c6 -> c86\n",
      "45. v535: c68 -> c86\n",
      "46. v598: c404 -> c86\n",
      "47. v555: c246 -> c86\n",
      "48. v549: c219 -> c86\n",
      "49. v563: c237 -> c86\n",
      "50. v576: c320 -> c86\n",
      "51. v583: c359 -> c86\n",
      "52. v589: c386 -> c86\n",
      "53. v595: c395 -> c86\n",
      "54. v601: c160 -> c86\n",
      "55. v604: c519 -> c86\n",
      "56. v607: c339 -> c86\n",
      "57. v177: c141 -> c155\n",
      "58. v171: c34 -> c65\n",
      "59. v524: c11 -> c86\n",
      "60. v530: c63 -> c86\n",
      "61. v537: c154 -> c86\n",
      "62. v543: c201 -> c86\n",
      "63. v550: c220 -> c86\n",
      "64. v556: c247 -> c86\n",
      "65. v564: c238 -> c86\n",
      "66. v570: c302 -> c86\n",
      "67. v577: c323 -> c86\n",
      "68. v584: c368 -> c86\n",
      "69. v590: c383 -> c86\n",
      "70. v596: c398 -> c86\n",
      "71. v602: c161 -> c86\n",
      "72. v608: c340 -> c86\n",
      "73. v387: c63 -> c64\n",
      "74. v381: c347 -> c351\n",
      "75. v184: c354 -> c356\n",
      "76. v538: c155 -> c86\n",
      "77. v544: c202 -> c86\n",
      "78. v178: c143 -> c156\n",
      "79. v172: c35 -> c66\n",
      "80. v166: c15 -> c17\n",
      "81. v525: c17 -> c86\n",
      "82. v551: c221 -> c86\n",
      "83. v557: c248 -> c86\n",
      "84. v565: c239 -> c86\n",
      "85. v572: c308 -> c86\n",
      "86. v579: c349 -> c86\n",
      "87. v585: c362 -> c86\n",
      "88. v591: c389 -> c86\n",
      "89. v548: c212 -> c86\n",
      "90. v597: c401 -> c86\n",
      "91. v603: c518 -> c86\n",
      "92. v552: c228 -> c86\n",
      "93. v179: c347 -> c349\n",
      "94. v532: c65 -> c86\n",
      "95. v191: c291 -> c293\n",
      "96. v539: c156 -> c86\n",
      "97. v173: c36 -> c67\n",
      "98. v167: c32 -> c63\n",
      "99. v526: c18 -> c86\n",
      "100. v545: c203 -> c86\n",
      "101. v558: c255 -> c86\n",
      "102. v383: c348 -> c354\n",
      "\n",
      "----------------------------------------------------------------------\n",
      "\n",
      "The following reactions create mass-inequality.\n",
      "\n",
      "103. v8: c10 + c10 -> c11\n",
      "104. v12: c10 + c155 -> c159\n",
      "105. v13: c10 + c154 -> c160\n",
      "106. v14: c10 + c156 -> c161\n",
      "107. v208: c6 + c16 -> c10\n",
      "\n",
      "----------------------------------------------------------------------\n",
      "\n",
      "Based on the reactions above, we have mass-equivalent pseudo reactions.\n",
      "\n",
      "(pseudo 103.) v8: 2.00 {c10} -> {c11=c140=c141=c143=c15=c154=c155=c156=c159=c160=c161=c17=c18=c19=c192=c193=c194=c2=c20=c201=c202=c203=c21=c210=c211=c212=c219=c220=c221=c228=c229=c23=c230=c237=c238=c239=c246=c247=c248=c25=c255=c256=c257=c27=c29=c291=c293=c294=c296=c297=c299=c302=c308=c311=c314=c317=c32=c320=c323=c33=c339=c34=c340=c347=c348=c349=c35=c350=c351=c353=c354=c356=c359=c36=c362=c365=c368=c37=c371=c374=c377=c380=c383=c386=c389=c392=c395=c398=c401=c404=c421=c422=c425=c518=c519=c6=c63=c64=c65=c66=c67=c68=c86}\n",
      "(pseudo 104.) v12: {c10} + {c11=c140=c141=c143=c15=c154=c155=c156=c159=c160=c161=c17=c18=c19=c192=c193=c194=c2=c20=c201=c202=c203=c21=c210=c211=c212=c219=c220=c221=c228=c229=c23=c230=c237=c238=c239=c246=c247=c248=c25=c255=c256=c257=c27=c29=c291=c293=c294=c296=c297=c299=c302=c308=c311=c314=c317=c32=c320=c323=c33=c339=c34=c340=c347=c348=c349=c35=c350=c351=c353=c354=c356=c359=c36=c362=c365=c368=c37=c371=c374=c377=c380=c383=c386=c389=c392=c395=c398=c401=c404=c421=c422=c425=c518=c519=c6=c63=c64=c65=c66=c67=c68=c86} -> {c11=c140=c141=c143=c15=c154=c155=c156=c159=c160=c161=c17=c18=c19=c192=c193=c194=c2=c20=c201=c202=c203=c21=c210=c211=c212=c219=c220=c221=c228=c229=c23=c230=c237=c238=c239=c246=c247=c248=c25=c255=c256=c257=c27=c29=c291=c293=c294=c296=c297=c299=c302=c308=c311=c314=c317=c32=c320=c323=c33=c339=c34=c340=c347=c348=c349=c35=c350=c351=c353=c354=c356=c359=c36=c362=c365=c368=c37=c371=c374=c377=c380=c383=c386=c389=c392=c395=c398=c401=c404=c421=c422=c425=c518=c519=c6=c63=c64=c65=c66=c67=c68=c86}\n",
      "(pseudo 105.) v13: {c10} + {c11=c140=c141=c143=c15=c154=c155=c156=c159=c160=c161=c17=c18=c19=c192=c193=c194=c2=c20=c201=c202=c203=c21=c210=c211=c212=c219=c220=c221=c228=c229=c23=c230=c237=c238=c239=c246=c247=c248=c25=c255=c256=c257=c27=c29=c291=c293=c294=c296=c297=c299=c302=c308=c311=c314=c317=c32=c320=c323=c33=c339=c34=c340=c347=c348=c349=c35=c350=c351=c353=c354=c356=c359=c36=c362=c365=c368=c37=c371=c374=c377=c380=c383=c386=c389=c392=c395=c398=c401=c404=c421=c422=c425=c518=c519=c6=c63=c64=c65=c66=c67=c68=c86} -> {c11=c140=c141=c143=c15=c154=c155=c156=c159=c160=c161=c17=c18=c19=c192=c193=c194=c2=c20=c201=c202=c203=c21=c210=c211=c212=c219=c220=c221=c228=c229=c23=c230=c237=c238=c239=c246=c247=c248=c25=c255=c256=c257=c27=c29=c291=c293=c294=c296=c297=c299=c302=c308=c311=c314=c317=c32=c320=c323=c33=c339=c34=c340=c347=c348=c349=c35=c350=c351=c353=c354=c356=c359=c36=c362=c365=c368=c37=c371=c374=c377=c380=c383=c386=c389=c392=c395=c398=c401=c404=c421=c422=c425=c518=c519=c6=c63=c64=c65=c66=c67=c68=c86}\n",
      "(pseudo 106.) v14: {c10} + {c11=c140=c141=c143=c15=c154=c155=c156=c159=c160=c161=c17=c18=c19=c192=c193=c194=c2=c20=c201=c202=c203=c21=c210=c211=c212=c219=c220=c221=c228=c229=c23=c230=c237=c238=c239=c246=c247=c248=c25=c255=c256=c257=c27=c29=c291=c293=c294=c296=c297=c299=c302=c308=c311=c314=c317=c32=c320=c323=c33=c339=c34=c340=c347=c348=c349=c35=c350=c351=c353=c354=c356=c359=c36=c362=c365=c368=c37=c371=c374=c377=c380=c383=c386=c389=c392=c395=c398=c401=c404=c421=c422=c425=c518=c519=c6=c63=c64=c65=c66=c67=c68=c86} -> {c11=c140=c141=c143=c15=c154=c155=c156=c159=c160=c161=c17=c18=c19=c192=c193=c194=c2=c20=c201=c202=c203=c21=c210=c211=c212=c219=c220=c221=c228=c229=c23=c230=c237=c238=c239=c246=c247=c248=c25=c255=c256=c257=c27=c29=c291=c293=c294=c296=c297=c299=c302=c308=c311=c314=c317=c32=c320=c323=c33=c339=c34=c340=c347=c348=c349=c35=c350=c351=c353=c354=c356=c359=c36=c362=c365=c368=c37=c371=c374=c377=c380=c383=c386=c389=c392=c395=c398=c401=c404=c421=c422=c425=c518=c519=c6=c63=c64=c65=c66=c67=c68=c86}\n",
      "(pseudo 107.) v208: {c13=c16} + {c11=c140=c141=c143=c15=c154=c155=c156=c159=c160=c161=c17=c18=c19=c192=c193=c194=c2=c20=c201=c202=c203=c21=c210=c211=c212=c219=c220=c221=c228=c229=c23=c230=c237=c238=c239=c246=c247=c248=c25=c255=c256=c257=c27=c29=c291=c293=c294=c296=c297=c299=c302=c308=c311=c314=c317=c32=c320=c323=c33=c339=c34=c340=c347=c348=c349=c35=c350=c351=c353=c354=c356=c359=c36=c362=c365=c368=c37=c371=c374=c377=c380=c383=c386=c389=c392=c395=c398=c401=c404=c421=c422=c425=c518=c519=c6=c63=c64=c65=c66=c67=c68=c86} -> {c10}\n",
      "\n",
      "----------------------------------------------------------------------\n",
      "\n",
      "However, the above pseudo reactions imply the following inequalities:\n",
      "\n",
      "{c10} < {c11=c140=c141=c143=c15=c154=c155=c156=c159=c160=c161=c17=c18=c19=c192=c193=c194=c2=c20=c201=c202=c203=c21=c210=c211=c212=c219=c220=c221=c228=c229=c23=c230=c237=c238=c239=c246=c247=c248=c25=c255=c256=c257=c27=c29=c291=c293=c294=c296=c297=c299=c302=c308=c311=c314=c317=c32=c320=c323=c33=c339=c34=c340=c347=c348=c349=c35=c350=c351=c353=c354=c356=c359=c36=c362=c365=c368=c37=c371=c374=c377=c380=c383=c386=c389=c392=c395=c398=c401=c404=c421=c422=c425=c518=c519=c6=c63=c64=c65=c66=c67=c68=c86} < {c10}\n",
      "\n",
      "This indicates a mass conflict between reactions.\n",
      "\n",
      "----------------------------------------------------------------------\n",
      "\n",
      "----------------------------------------------------------------------\n",
      "\n",
      "\n",
      "[107]\n"
     ]
    }
   ],
   "source": [
    "type2_report, error_num = gr.reportTypeTwoError([m.type_two_errors[2]], explain_details=True)\n",
    "print(type2_report)\n",
    "print(error_num)"
   ]
  },
  {
   "cell_type": "code",
   "execution_count": 12,
   "metadata": {},
   "outputs": [
    {
     "data": {
      "text/plain": [
       "'We detected a mass imbalance from the following reactions:\\n\\nThese uni-uni reactions created mass-equivalence.\\n\\n1. FFH2syn: FH2f -> FFH2\\n2. SHMTr: CH2FH4 -> FH4\\n3. DHFReductase: FH2f -> FH4\\n\\n----------------------------------------------------------------------\\n\\nThe following reactions create mass-inequality.\\n\\n4. HCOOHtoCHOFH4: FH4 + formate + ATP -> CHOFH4\\n5. MTHFD: CH2FH4 + NADP -> CHOFH4\\n6. ATIC7: CHOFH4 + AICAR -> FH4\\n\\n----------------------------------------------------------------------\\n\\nBased on the reactions above, we have mass-equivalent pseudo reactions.\\n\\n(pseudo 4.) HCOOHtoCHOFH4: {CH2FH4=FFH2=FH2f=FH4} + {formate} + {ATP} -> {CHOFH4}\\n(pseudo 5.) MTHFD: {CH2FH4=FFH2=FH2f=FH4} + {NADP} -> {CHOFH4}\\n(pseudo 6.) ATIC7: {CHOFH4} + {AICAR=FGAR} -> {CH2FH4=FFH2=FH2f=FH4}\\n\\n----------------------------------------------------------------------\\n\\nHowever, the above pseudo reactions imply the following inequalities:\\n\\n{CH2FH4=FFH2=FH2f=FH4} < {CHOFH4} < {CH2FH4=FFH2=FH2f=FH4}\\n\\nThis indicates a mass conflict between reactions.\\n\\n----------------------------------------------------------------------\\n\\n----------------------------------------------------------------------\\n\\n'"
      ]
     },
     "execution_count": 12,
     "metadata": {},
     "output_type": "execute_result"
    }
   ],
   "source": [
    "type2_report"
   ]
  },
  {
   "cell_type": "code",
   "execution_count": 12,
   "metadata": {},
   "outputs": [
    {
     "name": "stdout",
     "output_type": "stream",
     "text": [
      "Writing /Users/woosubshin/Desktop/ModelEngineering/results/echelon_report.txt\n"
     ]
    }
   ],
   "source": [
    "%%writefile /Users/woosubshin/Desktop/ModelEngineering/results/echelon_report.txt\n",
    "print(echelon_error)"
   ]
  },
  {
   "cell_type": "code",
   "execution_count": 8,
   "metadata": {},
   "outputs": [
    {
     "data": {
      "text/plain": [
       "97"
      ]
     },
     "execution_count": 8,
     "metadata": {},
     "output_type": "execute_result"
    }
   ],
   "source": [
    "len(simple.molecules)"
   ]
  },
  {
   "cell_type": "code",
   "execution_count": 13,
   "metadata": {},
   "outputs": [],
   "source": [
    "with open(\"/Users/woosubshin/Desktop/ModelEngineering/results/echelon_report.txt\", \"w\") as f:\n",
    "    print(echelon_report, file=f)"
   ]
  },
  {
   "cell_type": "code",
   "execution_count": 11,
   "metadata": {},
   "outputs": [
    {
     "data": {
      "text/plain": [
       "'\\nWe detected a mass imbalance\\n:  -> species_test\\n\\nfrom the following reactions.\\n\\n1. statPhosphorylation: stat_sol -> Pstat_sol + species_test\\n2. PstatDimerisation: 2.00 Pstat_sol -> PstatDimer_sol\\n3. PstatDimerisationNuc: 2.00 Pstat_nuc -> PstatDimer_nuc\\n\\n----------------------------------------------------------------------\\n\\nThese uni-uni reactions created mass-equivalence.\\n(The molecules within a curly bracket have the same atomic mass.)\\n\\n4. statDephosphorylation: Pstat_nuc -> stat_nuc;   {Pstat_nuc=stat_nuc}\\n5. stat_export: stat_sol -> stat_nuc;   {Pstat_nuc=stat_nuc=stat_sol}\\n6. PstatDimer__import: PstatDimer_sol -> PstatDimer_nuc;   {PstatDimer_sol=PstatDimer_nuc}\\n\\n----------------------------------------------------------------------\\n\\nBased on the reactions above, we have mass-equivalent pseudo reactions.\\n(pseudo 1.) statPhosphorylation: {Pstat_nuc=stat_nuc=stat_sol} -> {species_test} + {Pstat_sol}\\n(pseudo 2.) PstatDimerisation: 2.00 {Pstat_sol} -> {PstatDimer_nuc=PstatDimer_sol}\\n(pseudo 3.) PstatDimerisationNuc: 2.00 {Pstat_nuc=stat_nuc=stat_sol} -> {PstatDimer_nuc=PstatDimer_sol}\\n\\n----------------------------------------------------------------------\\n\\nAn operation between pseudo reactions:\\n1.00 * statPhosphorylation + 0.50 * PstatDimerisation - 0.50 * PstatDimerisationNuc\\n\\nwill result in empty reactant with zero mass:\\n\\n:  -> {species_test}\\n\\nThis indicates a mass conflict between reactions.\\n\\n----------------------------------------------------------------------\\n\\n----------------------------------------------------------------------\\n\\n\\n\\n**********************************************************************\\n\\n'"
      ]
     },
     "execution_count": 11,
     "metadata": {},
     "output_type": "execute_result"
    }
   ],
   "source": [
    "echelon_report"
   ]
  },
  {
   "cell_type": "code",
   "execution_count": 16,
   "metadata": {},
   "outputs": [
    {
     "ename": "IndexError",
     "evalue": "list index out of range",
     "output_type": "error",
     "traceback": [
      "\u001b[0;31m---------------------------------------------------------------------------\u001b[0m",
      "\u001b[0;31mIndexError\u001b[0m                                Traceback (most recent call last)",
      "\u001b[0;32m<ipython-input-16-c7ee15cd5d93>\u001b[0m in \u001b[0;36m<module>\u001b[0;34m\u001b[0m\n\u001b[0;32m----> 1\u001b[0;31m \u001b[0mechelon_report\u001b[0m\u001b[0;34m,\u001b[0m \u001b[0merror_num\u001b[0m \u001b[0;34m=\u001b[0m \u001b[0mgr\u001b[0m\u001b[0;34m.\u001b[0m\u001b[0mreportEchelonError\u001b[0m\u001b[0;34m(\u001b[0m\u001b[0;34m[\u001b[0m\u001b[0mm\u001b[0m\u001b[0;34m.\u001b[0m\u001b[0mechelon_errors\u001b[0m\u001b[0;34m[\u001b[0m\u001b[0;36m4\u001b[0m\u001b[0;34m]\u001b[0m\u001b[0;34m]\u001b[0m\u001b[0;34m,\u001b[0m \u001b[0mexplain_details\u001b[0m\u001b[0;34m=\u001b[0m\u001b[0;32mTrue\u001b[0m\u001b[0;34m)\u001b[0m\u001b[0;34m\u001b[0m\u001b[0;34m\u001b[0m\u001b[0m\n\u001b[0m\u001b[1;32m      2\u001b[0m \u001b[0mprint\u001b[0m\u001b[0;34m(\u001b[0m\u001b[0mechelon_report\u001b[0m\u001b[0;34m)\u001b[0m\u001b[0;34m\u001b[0m\u001b[0;34m\u001b[0m\u001b[0m\n\u001b[1;32m      3\u001b[0m \u001b[0mprint\u001b[0m\u001b[0;34m(\u001b[0m\u001b[0merror_num\u001b[0m\u001b[0;34m)\u001b[0m\u001b[0;34m\u001b[0m\u001b[0;34m\u001b[0m\u001b[0m\n",
      "\u001b[0;31mIndexError\u001b[0m: list index out of range"
     ]
    }
   ],
   "source": [
    "echelon_report, error_num = gr.reportEchelonError([m.echelon_errors[4]], explain_details=True)\n",
    "print(echelon_report)\n",
    "print(error_num)"
   ]
  },
  {
   "cell_type": "code",
   "execution_count": 9,
   "metadata": {},
   "outputs": [
    {
     "name": "stdout",
     "output_type": "stream",
     "text": [
      "\n",
      "We detected a mass imbalance\n",
      ":  -> proteosome\n",
      "\n",
      "from the following reactions.\n",
      "\n",
      "1. J46: FRS2_dpEGFR_c_Cbl_ubiq -> proteosome + c_Cbl + FRS2\n",
      "2. J164: Crk_C3G_pFRS2_dpEGFR_c_Cbl_ubiq -> c_Cbl + pFRS2 + Crk_C3G\n",
      "3. J88: pFRS2_pTrkA -> degradation + pFRS2\n",
      "4. J112: pFRS2_pTrkA_endo -> degradation + pFRS2\n",
      "5. J44: pFRS2_dpEGFR_c_Cbl + Crk_C3G -> Crk_C3G_pFRS2_dpEGFR_c_Cbl\n",
      "\n",
      "----------------------------------------------------------------------\n",
      "\n",
      "These uni-uni reactions created mass-equivalence.\n",
      "(The molecules within a curly bracket have the same atomic mass.)\n",
      "\n",
      "6. J43: FRS2_dpEGFR_c_Cbl -> pFRS2_dpEGFR_c_Cbl;   {FRS2_dpEGFR_c_Cbl=pFRS2_dpEGFR_c_Cbl}\n",
      "7. J42: FRS2_dpEGFR_c_Cbl -> FRS2_dpEGFR_c_Cbl_ubiq;   {FRS2_dpEGFR_c_Cbl=pFRS2_dpEGFR_c_Cbl=FRS2_dpEGFR_c_Cbl_ubiq}\n",
      "8. J41: pFRS2_dpEGFR_c_Cbl -> pFRS2_dpEGFR_c_Cbl_ubiq;   {FRS2_dpEGFR_c_Cbl=pFRS2_dpEGFR_c_Cbl=FRS2_dpEGFR_c_Cbl_ubiq=pFRS2_dpEGFR_c_Cbl_ubiq}\n",
      "9. J33: pFRS2 -> FRS2;   {pFRS2=FRS2}\n",
      "10. J71: L_NGFR -> pTrkA;   {L_NGFR=pTrkA}\n",
      "11. J72: pTrkA -> pTrkA_endo;   {L_NGFR=pTrkA=pTrkA_endo}\n",
      "12. J73: pTrkA_endo -> degradation;   {L_NGFR=pTrkA=pTrkA_endo=degradation}\n",
      "13. J45: Crk_C3G_pFRS2_dpEGFR_c_Cbl -> Crk_C3G_pFRS2_dpEGFR_c_Cbl_ubiq;   {Crk_C3G_pFRS2_dpEGFR_c_Cbl=Crk_C3G_pFRS2_dpEGFR_c_Cbl_ubiq}\n",
      "14. J86: FRS2_pTrkA_endo -> pFRS2_pTrkA_endo;   {FRS2_pTrkA_endo=pFRS2_pTrkA_endo}\n",
      "15. J99: pFRS2_pTrkA -> pFRS2_pTrkA_endo;   {FRS2_pTrkA_endo=pFRS2_pTrkA_endo=pFRS2_pTrkA}\n",
      "16. J83: FRS2_pTrkA -> pFRS2_pTrkA;   {FRS2_pTrkA_endo=pFRS2_pTrkA_endo=pFRS2_pTrkA=FRS2_pTrkA}\n",
      "\n",
      "----------------------------------------------------------------------\n",
      "\n",
      "Based on the reactions above, we have mass-equivalent pseudo reactions.\n",
      "(pseudo 1.) J46: {FRS2_dpEGFR_c_Cbl=FRS2_dpEGFR_c_Cbl_ubiq=pFRS2_dpEGFR_c_Cbl=pFRS2_dpEGFR_c_Cbl_ubiq} -> {FRS2=pFRS2} + {c_Cbl} + {proteosome}\n",
      "(pseudo 2.) J164: {Crk_C3G_pFRS2_dpEGFR_c_Cbl=Crk_C3G_pFRS2_dpEGFR_c_Cbl_ubiq} -> {Crk_C3G} + {FRS2=pFRS2} + {c_Cbl}\n",
      "(pseudo 3.) J88: {FRS2_pTrkA=FRS2_pTrkA_endo=pFRS2_pTrkA=pFRS2_pTrkA_endo} -> {FRS2=pFRS2} + {L_NGFR=degradation=pTrkA=pTrkA_endo}\n",
      "(pseudo 4.) J112: {FRS2_pTrkA=FRS2_pTrkA_endo=pFRS2_pTrkA=pFRS2_pTrkA_endo} -> {FRS2=pFRS2} + {L_NGFR=degradation=pTrkA=pTrkA_endo}\n",
      "(pseudo 5.) J44: {Crk_C3G} + {FRS2_dpEGFR_c_Cbl=FRS2_dpEGFR_c_Cbl_ubiq=pFRS2_dpEGFR_c_Cbl=pFRS2_dpEGFR_c_Cbl_ubiq} -> {Crk_C3G_pFRS2_dpEGFR_c_Cbl=Crk_C3G_pFRS2_dpEGFR_c_Cbl_ubiq}\n",
      "\n",
      "----------------------------------------------------------------------\n",
      "\n",
      "An operation between pseudo reactions:\n",
      "1.00 * J46 - 1.00 * J164 - 1.00 * J88 + 1.00 * J112 - 1.00 * J44\n",
      "\n",
      "will result in empty reactant with zero mass:\n",
      "\n",
      ":  -> {proteosome}\n",
      "\n",
      "This indicates a mass conflict between reactions.\n",
      "\n",
      "----------------------------------------------------------------------\n",
      "\n",
      "----------------------------------------------------------------------\n",
      "\n",
      "\n",
      "\n",
      "**********************************************************************\n",
      "\n",
      "\n",
      "[5]\n"
     ]
    }
   ],
   "source": [
    "echelon_report, error_num = gr.reportEchelonError([m.echelon_errors[0]], explain_details=True)\n",
    "print(echelon_report)\n",
    "print(error_num)\n",
    "with open(\"/Users/woosubshin/Desktop/ModelEngineering/results/echelon_report_sasagawa.txt\", \"w\") as f:\n",
    "    print(echelon_report, file=f)"
   ]
  },
  {
   "cell_type": "code",
   "execution_count": 15,
   "metadata": {},
   "outputs": [
    {
     "data": {
      "text/plain": [
       "False"
      ]
     },
     "execution_count": 15,
     "metadata": {},
     "output_type": "execute_result"
    }
   ],
   "source": [
    "echelon_report"
   ]
  },
  {
   "cell_type": "code",
   "execution_count": 3,
   "metadata": {},
   "outputs": [
    {
     "name": "stdout",
     "output_type": "stream",
     "text": [
      "We detected a mass imbalance from the following reactions:\n",
      "\n",
      "1. OxidativePhosphorylation: 6.00 ADP + CTtis -> 6.00 ATP\n",
      "\n",
      "2. ATPase: ATP -> ADP\n",
      "\n",
      "*ATP and ADP have the same mass according to the above reaction\n",
      "\n",
      "\n",
      "Therefore, they will result in empty product with zero mass:\n",
      "\n",
      "OxidativePhosphorylation: CTtis -> \n",
      "\n",
      "This indicates a mass conflict between reactions.\n",
      "\n",
      "----------------------------------------------------------------------\n",
      "\n",
      "----------------------------------------------------------------------\n",
      "\n",
      "\n",
      "\n",
      "**********************************************************************\n",
      "\n",
      "\n",
      "[2]\n"
     ]
    }
   ],
   "source": [
    "canceling_report, error_num = gr.reportCancelingError(m.canceling_errors, explain_details=True)\n",
    "print(canceling_report)\n",
    "print(error_num)"
   ]
  },
  {
   "cell_type": "code",
   "execution_count": 7,
   "metadata": {},
   "outputs": [
    {
     "name": "stdout",
     "output_type": "stream",
     "text": [
      "we are doing model 100\n",
      "we are doing model 200\n",
      "BIOMD0000000255_url.xml has type I error with more than 100 reactions\n",
      "BIOMD0000000244_url.xml has type I error with more than 100 reactions\n",
      "BIOMD0000000560_url.xml has type I error with more than 100 reactions\n",
      "we are doing model 300\n",
      "BIOMD0000000293_url.xml has type I error with more than 100 reactions\n",
      "BIOMD0000000588_url.xml has type I error with more than 100 reactions\n",
      "BIOMD0000000223_url.xml has type I error with more than 100 reactions\n"
     ]
    }
   ],
   "source": [
    "data_dir=cn.BIOMODELS_DIR\n",
    "#files = [f for f in os.listdir(data_dir) if f[-4:] == \".xml\"]\n",
    "files = [f for f in os.listdir(data_dir) if f[:7] == \"BIOMD00\"]\n",
    "paths = [os.path.join(data_dir, filename) for filename in files]\n",
    "# this will test which model has which error;;\n",
    "model_count = 0\n",
    "count = 0\n",
    "simple = SimpleSBML\n",
    "for file in files:\n",
    "  try:\n",
    "    simple.initialize(os.path.join(data_dir, file))\n",
    "    model_count += 1\n",
    "    if model_count%100 == 0:\n",
    "      print(\"we are doing model\", model_count)\n",
    "    m = GAMES_PP(simple)\n",
    "    if m.analyze(error_details=False):\n",
    "      if (len(simple.reactions) > 100) and (len(m.type_one_errors)>1):\n",
    "        print(file, \"has type I error with more than 100 reactions\")\n",
    "        count += 1\n",
    "    if count > 5:\n",
    "      break\n",
    "  except:\n",
    "    pass"
   ]
  },
  {
   "cell_type": "code",
   "execution_count": 19,
   "metadata": {},
   "outputs": [
    {
     "name": "stdout",
     "output_type": "stream",
     "text": [
      "model 14  has an echelon or type three error!\n",
      "model 49  has an echelon or type three error!\n",
      "model 51  has an echelon or type three error!\n",
      "model 52  has an echelon or type three error!\n",
      "we are doing model 100\n",
      "model 102  has an echelon or type three error!\n",
      "model 109  has an echelon or type three error!\n",
      "model 140  has an echelon or type three error!\n"
     ]
    }
   ],
   "source": [
    "# this will test which model has which error;;\n",
    "model_count = 0\n",
    "count = 0\n",
    "for i in range(1, 150):\n",
    "  try:\n",
    "    simple = load_file_from_curated_data(i)\n",
    "    model_count += 1\n",
    "    if model_count%100 == 0:\n",
    "      print(\"we are doing model\", model_count)\n",
    "    m = GAMES_PP(simple)\n",
    "    m.analyze(error_details=False)\n",
    "    if m.echelon_errors or m.type_three_errors:\n",
    "        print(\"model\", model_count, \" has an echelon or type three error!\")\n",
    "        if count == 5:\n",
    "          break\n",
    "  except:\n",
    "    pass"
   ]
  },
  {
   "cell_type": "code",
   "execution_count": null,
   "metadata": {},
   "outputs": [],
   "source": []
  }
 ],
 "metadata": {
  "kernelspec": {
   "display_name": "Python 3",
   "language": "python",
   "name": "python3"
  },
  "language_info": {
   "codemirror_mode": {
    "name": "ipython",
    "version": 3
   },
   "file_extension": ".py",
   "mimetype": "text/x-python",
   "name": "python",
   "nbconvert_exporter": "python",
   "pygments_lexer": "ipython3",
   "version": "3.6.8"
  }
 },
 "nbformat": 4,
 "nbformat_minor": 2
}
