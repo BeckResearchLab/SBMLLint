{
 "cells": [
  {
   "cell_type": "code",
   "execution_count": 1,
   "metadata": {},
   "outputs": [
    {
     "name": "stdout",
     "output_type": "stream",
     "text": [
      "Current Directory: /Users/woosubshin/Desktop/ModelEngineering/SBMLLint/notebook\n"
     ]
    }
   ],
   "source": [
    "from games_setup import *\n",
    "from SBMLLint.common import constants as cn\n",
    "from SBMLLint.common.molecule import Molecule, MoleculeStoichiometry\n",
    "from SBMLLint.common.reaction import Reaction\n",
    "from SBMLLint.games.som import SOM\n",
    "from SBMLLint.common.simple_sbml import SimpleSBML\n",
    "\n",
    "import collections\n",
    "import itertools\n",
    "import networkx as nx\n",
    "import numpy as np\n",
    "import pandas as pd\n",
    "import scipy\n",
    "from sympy.matrices import Matrix, eye\n",
    "#\n",
    "from SBMLLint.games.message import Message"
   ]
  },
  {
   "cell_type": "code",
   "execution_count": 55,
   "metadata": {},
   "outputs": [
    {
     "name": "stdout",
     "output_type": "stream",
     "text": [
      "R0: Ras2_GDP + Cdc25 -> Ras2_GDP_Cdc25\n",
      "R1: Ras2_GDP_Cdc25 -> Ras2_GDP + Cdc25\n",
      "R2: Ras2_GDP_Cdc25 -> Ras2_Cdc25 + GDP\n",
      "R3: Ras2_Cdc25 + GDP -> Ras2_GDP_Cdc25\n",
      "R4: Ras2_Cdc25 + GTP -> Ras2_GTP_Cdc25\n",
      "R5: Ras2_GTP_Cdc25 -> Ras2_Cdc25 + GTP\n",
      "R6: Ras2_GTP_Cdc25 -> Cdc25 + Ras2_GTP\n",
      "R7: Cdc25 + Ras2_GTP -> Ras2_GTP_Cdc25\n",
      "R8: Ras2_GTP + Ira2 -> Ras2_GTP_Ira2\n",
      "R9: Ras2_GTP_Ira2 -> Ras2_GDP + Ira2\n",
      "R10: Ras2_GTP + CYR1 -> Ras2_GTP_CYR1\n",
      "R11: Ras2_GTP_CYR1 + ATP -> Ras2_GTP_CYR1 + cAMP\n",
      "R12: Ira2 + Ras2_GTP_CYR1 -> Ras2_GDP + Ira2 + CYR1\n",
      "R13: cAMP + PKA -> cAMP_PKA\n",
      "R14: cAMP + cAMP_PKA -> IIcAMP_PKA\n",
      "R15: cAMP + IIcAMP_PKA -> IIIcAMP_PKA\n",
      "R16: cAMP + IIIcAMP_PKA -> IVcAMP_PKA\n",
      "R17: IVcAMP_PKA -> cAMP + IIIcAMP_PKA\n",
      "R18: IIIcAMP_PKA -> cAMP + IIcAMP_PKA\n",
      "R19: IIcAMP_PKA -> cAMP + cAMP_PKA\n",
      "R20: cAMP_PKA -> cAMP + PKA\n",
      "R21: IVcAMP_PKA -> 2.00 C + 2.00 R_2cAMP\n",
      "R22: R_2cAMP -> 2.00 cAMP + R\n",
      "R23: C + R -> R_C\n",
      "R24: 2.00 R_C -> PKA\n",
      "R25: C + Pde1 -> C + Pde1f\n",
      "R26: cAMP + Pde1f -> cAMP_Pde1f\n",
      "R27: cAMP_Pde1f -> cAMP + Pde1f\n",
      "R28: cAMP_Pde1f -> Pde1f + AMP\n",
      "R29: Pde1f + PPA2 -> Pde1 + PPA2\n",
      "R30: cAMP + Pde2 -> cAMP_Pde2\n",
      "R31: cAMP_Pde2 -> cAMP + Pde2\n",
      "R32: cAMP_Pde2 -> AMP + Pde2\n",
      "R33: Cdc25 + C -> C + Cdc25f\n",
      "R34: PPA2 + Cdc25f -> Cdc25 + PPA2\n",
      "R35: Ira2 + C -> C + Ira2P\n",
      "R36: Ras2_GTP + Ira2P -> Ras2_GTP_Ira2P\n",
      "R37: Ras2_GTP_Ira2P -> Ras2_GDP + Ira2P\n"
     ]
    }
   ],
   "source": [
    "simple = load_file_from_curated_data(478)\n",
    "for r in simple.reactions:\n",
    "  if r.category != cn.REACTION_BOUNDARY and r.category != cn.REACTION_1_1:\n",
    "    print(r.makeIdentifier(is_include_kinetics=False))"
   ]
  },
  {
   "cell_type": "code",
   "execution_count": 56,
   "metadata": {},
   "outputs": [
    {
     "data": {
      "text/plain": [
       "{Ras2_GDP};{Cdc25};{PPA2};{PKA};{R_C};{GTP};{ATP};{Ras2_GTP_Ira2};{Ras2_GDP_Cdc25};{Ira2};{IIcAMP_PKA};{cAMP};{cAMP_Pde2};{C};{Ira2P};{Pde2};{R_2cAMP};{GDP};{Ras2_GTP_Ira2P};{IIIcAMP_PKA};{Cdc25f};{Pde1};{Ras2_Cdc25};{Ras2_GTP};{Ras2_GTP_CYR1};{Pde1f};{AMP};{R};{cAMP_Pde1f};{CYR1};{IVcAMP_PKA};{cAMP_PKA};{Ras2_GTP_Cdc25}"
      ]
     },
     "execution_count": 56,
     "metadata": {},
     "output_type": "execute_result"
    }
   ],
   "source": [
    "m = Message(simple)\n",
    "m"
   ]
  },
  {
   "cell_type": "code",
   "execution_count": 57,
   "metadata": {},
   "outputs": [
    {
     "name": "stdout",
     "output_type": "stream",
     "text": [
      "We just analyzed the data...\n",
      "Type I error:  []\n",
      "Type II error:  []\n",
      "Canceling error:  []\n",
      "Echelon error:  []\n",
      "Type III error:  []\n",
      "Type I-SOM error:  set()\n"
     ]
    },
    {
     "data": {
      "text/plain": [
       "False"
      ]
     },
     "execution_count": 57,
     "metadata": {},
     "output_type": "execute_result"
    }
   ],
   "source": [
    "m.analyze()"
   ]
  },
  {
   "cell_type": "code",
   "execution_count": 45,
   "metadata": {},
   "outputs": [
    {
     "name": "stdout",
     "output_type": "stream",
     "text": [
      "re24: 2.00 {NADH} + 2.00 {F6P, G6P} -> 2.00 {NAD} + 2.00 {Mannitol, Mannitol1Phosphate, Mannitol_Ext}\n",
      "reaction_n_n\n",
      "re14: 0.67 {Acetoin, Acetoin_Ext} + 1.33 {Mannitol, Mannitol1Phosphate, Mannitol_Ext} -> 2.00 {Pint} + 2.00 {F6P, G6P}\n",
      "reaction_n_n\n",
      "re18: 0.50 {Acetoin, Acetoin_Ext} -> {BPG}\n",
      "reaction_1_n\n",
      "re26: 2.00 {PYR} -> {Acetoin, Acetoin_Ext}\n",
      "reaction_n_1\n",
      "re17: 0.33 {Acetoin, Acetoin_Ext} + 0.67 {Mannitol, Mannitol1Phosphate, Mannitol_Ext} -> 2.00 {G3P}\n",
      "reaction_n_n\n",
      "re12: {Glucose} -> {F6P, G6P}\n",
      "reaction_1_1\n",
      "re23: {CoA} + {Acetate} + {Acetoin, Acetoin_Ext} + 2.00 {Mannitol, Mannitol1Phosphate, Mannitol_Ext} -> {AcetCoA} + 3.00 {F6P, G6P}\n",
      "reaction_n_n\n",
      "re33: {FBP} -> 0.33 {Acetoin, Acetoin_Ext} + 0.67 {Mannitol, Mannitol1Phosphate, Mannitol_Ext}\n",
      "reaction_n_n\n",
      "re22: 0.50 {Acetoin, Acetoin_Ext} + {Mannitol, Mannitol1Phosphate, Mannitol_Ext} -> {Lactate} + {F6P, G6P}\n",
      "reaction_n_n\n",
      "re20: 0.75 {Pext} + 1.50 {F6P, G6P} -> 0.50 {Acetoin, Acetoin_Ext} + {Mannitol, Mannitol1Phosphate, Mannitol_Ext}\n",
      "reaction_n_n\n",
      "re21: 3.00 {F6P, G6P} -> {Acetoin, Acetoin_Ext} + 2.00 {Mannitol, Mannitol1Phosphate, Mannitol_Ext}\n",
      "reaction_n_n\n",
      "re27: 0.50 {Ethanol} + 2.50 {F6P, G6P} -> 0.50 {Acetate} + 0.50 {Acetoin, Acetoin_Ext} + 2.00 {Mannitol, Mannitol1Phosphate, Mannitol_Ext}\n",
      "reaction_n_n\n",
      "re25: 3.00 {F6P, G6P} -> {Formate} + {Acetate} + 0.50 {Acetoin, Acetoin_Ext} + 2.00 {Mannitol, Mannitol1Phosphate, Mannitol_Ext}\n",
      "reaction_n_n\n",
      "re13: 0.33 {ATP} + {F6P, G6P} -> 0.33 {ADP} + 0.33 {Acetoin, Acetoin_Ext} + 0.67 {Mannitol, Mannitol1Phosphate, Mannitol_Ext}\n",
      "reaction_n_n\n",
      "re16:  -> \n",
      "reaction_redundant\n",
      "re28: {Butanediol} + {F6P, G6P} -> {Acetoin, Acetoin_Ext} + {Mannitol, Mannitol1Phosphate, Mannitol_Ext}\n",
      "reaction_n_n\n",
      "re30: {PEP} -> 0.50 {Acetoin, Acetoin_Ext}\n",
      "reaction_n_1\n"
     ]
    }
   ],
   "source": [
    "m.in_edges()"
   ]
  },
  {
   "cell_type": "code",
   "execution_count": 19,
   "metadata": {},
   "outputs": [
    {
     "data": {
      "text/plain": [
       "{CamR_Ca3_ABD, CamT_Ca3_ABD}"
      ]
     },
     "execution_count": 19,
     "metadata": {},
     "output_type": "execute_result"
    }
   ],
   "source": [
    "m.getNode(m.simple.getMolecule('CamT_Ca3_ABD'))"
   ]
  },
  {
   "cell_type": "code",
   "execution_count": 19,
   "metadata": {},
   "outputs": [
    {
     "data": {
      "text/plain": [
       "{'reaction': ['reaction_25']}"
      ]
     },
     "execution_count": 19,
     "metadata": {},
     "output_type": "execute_result"
    }
   ],
   "source": [
    "m.get_edge_data(s21, s13)"
   ]
  },
  {
   "cell_type": "code",
   "execution_count": 14,
   "metadata": {},
   "outputs": [
    {
     "data": {
      "text/plain": [
       "{species_19}    0.0\n",
       "{species_6}     0.0\n",
       "{species_12}    0.0\n",
       "{species_15}    0.0\n",
       "{species_22}    1.0\n",
       "{species_3}     0.0\n",
       "{species_8}     0.0\n",
       "{species_10}    0.0\n",
       "{species_9}     0.0\n",
       "{species_18}    0.0\n",
       "{species_2}     0.0\n",
       "{species_20}    0.0\n",
       "{species_16}    0.0\n",
       "{species_14}    0.0\n",
       "{species_17}    0.0\n",
       "{species_11}    0.0\n",
       "{species_23}    0.0\n",
       "{species_1}     0.0\n",
       "{species_5}     0.0\n",
       "{species_4}     0.0\n",
       "{species_13}    1.0\n",
       "{species_21}   -1.0\n",
       "{species_7}     0.0\n",
       "Name: reaction_22, dtype: float64"
      ]
     },
     "execution_count": 14,
     "metadata": {},
     "output_type": "execute_result"
    }
   ],
   "source": [
    "m.echelon_df['reaction_22']"
   ]
  },
  {
   "cell_type": "code",
   "execution_count": 15,
   "metadata": {},
   "outputs": [
    {
     "data": {
      "text/plain": [
       "reaction_22: species_21 -> species_13 + species_22; compartment_1 * k1 * species_21"
      ]
     },
     "execution_count": 15,
     "metadata": {},
     "output_type": "execute_result"
    }
   ],
   "source": [
    "simple.getReaction('reaction_22')"
   ]
  },
  {
   "cell_type": "code",
   "execution_count": 16,
   "metadata": {},
   "outputs": [
    {
     "data": {
      "text/plain": [
       "reaction_25: species_22 -> 3.00 species_8 + species_23; compartment_1 * k1 * species_22"
      ]
     },
     "execution_count": 16,
     "metadata": {},
     "output_type": "execute_result"
    }
   ],
   "source": [
    "simple.getReaction('reaction_25')"
   ]
  },
  {
   "cell_type": "code",
   "execution_count": 30,
   "metadata": {},
   "outputs": [
    {
     "data": {
      "text/plain": [
       "reaction_25: {species_22} -> 3.00 {species_8} + {species_23}"
      ]
     },
     "execution_count": 30,
     "metadata": {},
     "output_type": "execute_result"
    }
   ],
   "source": [
    "m.som_reactions_lu[14]"
   ]
  },
  {
   "cell_type": "code",
   "execution_count": 41,
   "metadata": {},
   "outputs": [
    {
     "data": {
      "text/plain": [
       "{'reaction': ['reaction_22', 'reaction_25']}"
      ]
     },
     "execution_count": 41,
     "metadata": {},
     "output_type": "execute_result"
    }
   ],
   "source": [
    "m.get_edge_data(s13, s21)"
   ]
  },
  {
   "cell_type": "code",
   "execution_count": 40,
   "metadata": {},
   "outputs": [
    {
     "data": {
      "text/plain": [
       "{'reaction': ['reaction_25']}"
      ]
     },
     "execution_count": 40,
     "metadata": {},
     "output_type": "execute_result"
    }
   ],
   "source": [
    "m.get_edge_data(s21, s13)"
   ]
  },
  {
   "cell_type": "code",
   "execution_count": 42,
   "metadata": {},
   "outputs": [
    {
     "data": {
      "text/plain": [
       "[reaction_3: {species_4} -> 2.00 {species_5},\n",
       " reaction_6: {species_9} -> {species_3} + {species_4},\n",
       " reaction_8: {species_10} -> {species_7} + {species_9},\n",
       " reaction_9: {species_10} -> {species_6} + {species_11},\n",
       " reaction_10: {species_11} -> {species_12} + {species_4},\n",
       " reaction_13: {species_14} -> {species_13} + {species_12},\n",
       " reaction_15: {species_16} -> {species_14} + {species_15},\n",
       " reaction_16: {species_16} -> {species_18} + {species_17},\n",
       " reaction_17: {species_17} -> {species_13} + {species_19},\n",
       " reaction_20: {species_20} -> {species_17} + {species_15},\n",
       " reaction_21: {species_20} -> {species_18} + {species_21},\n",
       " reaction_22: {species_21} -> {species_13} + {species_22},\n",
       " reaction_23: {species_12} -> {species_8} + {species_23},\n",
       " reaction_24: {species_19} -> 2.00 {species_8} + {species_23},\n",
       " reaction_25: {species_22} -> 3.00 {species_8} + {species_23},\n",
       " reaction_1: {species_1} + {species_2} -> {species_3},\n",
       " reaction_2: 2.00 {species_5} -> {species_4},\n",
       " reaction_4: {species_8} + {species_6} -> {species_7},\n",
       " reaction_5: {species_3} + {species_4} -> {species_9},\n",
       " reaction_7: {species_7} + {species_9} -> {species_10},\n",
       " reaction_11: {species_8} + {species_18} -> {species_15},\n",
       " reaction_12: {species_13} + {species_12} -> {species_14},\n",
       " reaction_14: {species_14} + {species_15} -> {species_16},\n",
       " reaction_18: {species_13} + {species_19} -> {species_17},\n",
       " reaction_19: {species_17} + {species_15} -> {species_20}]"
      ]
     },
     "execution_count": 42,
     "metadata": {},
     "output_type": "execute_result"
    }
   ],
   "source": [
    "m.som_reactions_lu"
   ]
  },
  {
   "cell_type": "code",
   "execution_count": 41,
   "metadata": {},
   "outputs": [
    {
     "data": {
      "text/plain": [
       "{Br, Ce}    0.0\n",
       "{BrO3}      0.0\n",
       "{HOBr}      0.0\n",
       "{HBrO2}     0.0\n",
       "Name: Reaction1, dtype: float64"
      ]
     },
     "execution_count": 41,
     "metadata": {},
     "output_type": "execute_result"
    }
   ],
   "source": [
    "echelon[colname][::-1]"
   ]
  },
  {
   "cell_type": "code",
   "execution_count": 77,
   "metadata": {},
   "outputs": [
    {
     "data": {
      "text/html": [
       "<div>\n",
       "<style scoped>\n",
       "    .dataframe tbody tr th:only-of-type {\n",
       "        vertical-align: middle;\n",
       "    }\n",
       "\n",
       "    .dataframe tbody tr th {\n",
       "        vertical-align: top;\n",
       "    }\n",
       "\n",
       "    .dataframe thead th {\n",
       "        text-align: right;\n",
       "    }\n",
       "</style>\n",
       "<table border=\"1\" class=\"dataframe\">\n",
       "  <thead>\n",
       "    <tr style=\"text-align: right;\">\n",
       "      <th></th>\n",
       "      <th>Reaction4</th>\n",
       "      <th>Reaction2</th>\n",
       "      <th>Reaction3</th>\n",
       "      <th>Reaction1</th>\n",
       "    </tr>\n",
       "  </thead>\n",
       "  <tbody>\n",
       "    <tr>\n",
       "      <th>Reaction4</th>\n",
       "      <td>1.0</td>\n",
       "      <td>0.0</td>\n",
       "      <td>0.0</td>\n",
       "      <td>0.0</td>\n",
       "    </tr>\n",
       "    <tr>\n",
       "      <th>Reaction2</th>\n",
       "      <td>0.0</td>\n",
       "      <td>1.0</td>\n",
       "      <td>0.0</td>\n",
       "      <td>0.0</td>\n",
       "    </tr>\n",
       "    <tr>\n",
       "      <th>Reaction3</th>\n",
       "      <td>0.0</td>\n",
       "      <td>0.0</td>\n",
       "      <td>1.0</td>\n",
       "      <td>0.0</td>\n",
       "    </tr>\n",
       "    <tr>\n",
       "      <th>Reaction1</th>\n",
       "      <td>0.0</td>\n",
       "      <td>0.0</td>\n",
       "      <td>0.0</td>\n",
       "      <td>1.0</td>\n",
       "    </tr>\n",
       "  </tbody>\n",
       "</table>\n",
       "</div>"
      ],
      "text/plain": [
       "           Reaction4  Reaction2  Reaction3  Reaction1\n",
       "Reaction4        1.0        0.0        0.0        0.0\n",
       "Reaction2        0.0        1.0        0.0        0.0\n",
       "Reaction3        0.0        0.0        1.0        0.0\n",
       "Reaction1        0.0        0.0        0.0        1.0"
      ]
     },
     "execution_count": 77,
     "metadata": {},
     "output_type": "execute_result"
    }
   ],
   "source": [
    "rref_operation = np.identity(echelon_t.shape[0])\n",
    "rref_operation = pd.DataFrame(rref_operation,\n",
    "                  index = echelon_t.index,\n",
    "                  columns = echelon_t.index)\n",
    "rref_operation"
   ]
  },
  {
   "cell_type": "code",
   "execution_count": 116,
   "metadata": {},
   "outputs": [
    {
     "name": "stdout",
     "output_type": "stream",
     "text": [
      "Colname is:  Reaction2\n",
      "Previous columns are: Reaction4\n",
      "We need to reduce  1.0\n",
      "Colname is:  Reaction3\n",
      "Previous columns are: Reaction4\n",
      "We need to reduce  1.3333333333333333\n",
      "Colname is:  Reaction3\n",
      "Previous columns are: Reaction2\n",
      "We need to reduce  -0.5\n"
     ]
    },
    {
     "data": {
      "text/html": [
       "<div>\n",
       "<style scoped>\n",
       "    .dataframe tbody tr th:only-of-type {\n",
       "        vertical-align: middle;\n",
       "    }\n",
       "\n",
       "    .dataframe tbody tr th {\n",
       "        vertical-align: top;\n",
       "    }\n",
       "\n",
       "    .dataframe thead th {\n",
       "        text-align: right;\n",
       "    }\n",
       "</style>\n",
       "<table border=\"1\" class=\"dataframe\">\n",
       "  <thead>\n",
       "    <tr style=\"text-align: right;\">\n",
       "      <th></th>\n",
       "      <th>Reaction4</th>\n",
       "      <th>Reaction2</th>\n",
       "      <th>Reaction3</th>\n",
       "      <th>Reaction1</th>\n",
       "    </tr>\n",
       "  </thead>\n",
       "  <tbody>\n",
       "    <tr>\n",
       "      <th>Reaction4</th>\n",
       "      <td>1.0</td>\n",
       "      <td>-0.666667</td>\n",
       "      <td>4.0</td>\n",
       "      <td>0.0</td>\n",
       "    </tr>\n",
       "    <tr>\n",
       "      <th>Reaction2</th>\n",
       "      <td>0.0</td>\n",
       "      <td>1.000000</td>\n",
       "      <td>-1.5</td>\n",
       "      <td>0.0</td>\n",
       "    </tr>\n",
       "    <tr>\n",
       "      <th>Reaction3</th>\n",
       "      <td>0.0</td>\n",
       "      <td>0.000000</td>\n",
       "      <td>1.0</td>\n",
       "      <td>0.0</td>\n",
       "    </tr>\n",
       "    <tr>\n",
       "      <th>Reaction1</th>\n",
       "      <td>0.0</td>\n",
       "      <td>0.000000</td>\n",
       "      <td>0.0</td>\n",
       "      <td>1.0</td>\n",
       "    </tr>\n",
       "  </tbody>\n",
       "</table>\n",
       "</div>"
      ],
      "text/plain": [
       "           Reaction4  Reaction2  Reaction3  Reaction1\n",
       "Reaction4        1.0  -0.666667        4.0        0.0\n",
       "Reaction2        0.0   1.000000       -1.5        0.0\n",
       "Reaction3        0.0   0.000000        1.0        0.0\n",
       "Reaction1        0.0   0.000000        0.0        1.0"
      ]
     },
     "execution_count": 116,
     "metadata": {},
     "output_type": "execute_result"
    }
   ],
   "source": [
    "rref_operation = np.identity(echelon_t.shape[0])\n",
    "rref_operation = pd.DataFrame(rref_operation,\n",
    "                  index = echelon_t.index,\n",
    "                  columns = echelon_t.index)\n",
    "\n",
    "# now update the operation matrix, finally multiply (dot product) two matrices\n",
    "echelon = m.echelon_df\n",
    "for idx, colname in enumerate(echelon.columns):\n",
    "  reaction_series = echelon[colname]\n",
    "#   # find the first nonzero values\n",
    "  nonzero_idx = np.nonzero(echelon[colname])[0]\n",
    "  # Skip if there is no nonzero value or if it is first reaction\n",
    "  if not nonzero_idx.any() or idx == 0:\n",
    "    continue\n",
    "  nonzero_species = reaction_series.index[nonzero_idx[0]]\n",
    "  nonzero_value = reaction_series[nonzero_idx[0]]\n",
    "  # find current nonzero index\n",
    "  current_echelon = rref_operation.dot(echelon.T).T\n",
    "  for prev_colname in current_echelon.columns[:idx]:\n",
    "    print(\"Colname is: \", colname)\n",
    "    print(\"Previous columns are:\", prev_colname)\n",
    "    if np.round(current_echelon[prev_colname][nonzero_species], 3) != 0.0:\n",
    "      reduction_value = current_echelon[prev_colname][nonzero_species]\n",
    "      print(\"We need to reduce \", reduction_value)\n",
    "      rref_operation.at[prev_colname, colname] = (-1.0) * reduction_value / nonzero_value\n",
    "rref_operation"
   ]
  },
  {
   "cell_type": "code",
   "execution_count": 120,
   "metadata": {},
   "outputs": [
    {
     "data": {
      "text/html": [
       "<div>\n",
       "<style scoped>\n",
       "    .dataframe tbody tr th:only-of-type {\n",
       "        vertical-align: middle;\n",
       "    }\n",
       "\n",
       "    .dataframe tbody tr th {\n",
       "        vertical-align: top;\n",
       "    }\n",
       "\n",
       "    .dataframe thead th {\n",
       "        text-align: right;\n",
       "    }\n",
       "</style>\n",
       "<table border=\"1\" class=\"dataframe\">\n",
       "  <thead>\n",
       "    <tr style=\"text-align: right;\">\n",
       "      <th></th>\n",
       "      <th>{HBrO2}</th>\n",
       "      <th>{HOBr}</th>\n",
       "      <th>{BrO3}</th>\n",
       "      <th>{Br, Ce}</th>\n",
       "    </tr>\n",
       "  </thead>\n",
       "  <tbody>\n",
       "    <tr>\n",
       "      <th>Reaction4</th>\n",
       "      <td>-2.0</td>\n",
       "      <td>0.0</td>\n",
       "      <td>-0.000</td>\n",
       "      <td>6.000</td>\n",
       "    </tr>\n",
       "    <tr>\n",
       "      <th>Reaction2</th>\n",
       "      <td>0.0</td>\n",
       "      <td>1.5</td>\n",
       "      <td>-0.000</td>\n",
       "      <td>-3.000</td>\n",
       "    </tr>\n",
       "    <tr>\n",
       "      <th>Reaction3</th>\n",
       "      <td>0.0</td>\n",
       "      <td>0.0</td>\n",
       "      <td>-0.333</td>\n",
       "      <td>1.333</td>\n",
       "    </tr>\n",
       "    <tr>\n",
       "      <th>Reaction1</th>\n",
       "      <td>0.0</td>\n",
       "      <td>0.0</td>\n",
       "      <td>0.000</td>\n",
       "      <td>0.000</td>\n",
       "    </tr>\n",
       "  </tbody>\n",
       "</table>\n",
       "</div>"
      ],
      "text/plain": [
       "           {HBrO2}  {HOBr}  {BrO3}  {Br, Ce}\n",
       "Reaction4     -2.0     0.0  -0.000     6.000\n",
       "Reaction2      0.0     1.5  -0.000    -3.000\n",
       "Reaction3      0.0     0.0  -0.333     1.333\n",
       "Reaction1      0.0     0.0   0.000     0.000"
      ]
     },
     "execution_count": 120,
     "metadata": {},
     "output_type": "execute_result"
    }
   ],
   "source": [
    "np.round(rref_operation.dot(echelon_t), 3)"
   ]
  },
  {
   "cell_type": "code",
   "execution_count": 121,
   "metadata": {},
   "outputs": [
    {
     "data": {
      "text/html": [
       "<div>\n",
       "<style scoped>\n",
       "    .dataframe tbody tr th:only-of-type {\n",
       "        vertical-align: middle;\n",
       "    }\n",
       "\n",
       "    .dataframe tbody tr th {\n",
       "        vertical-align: top;\n",
       "    }\n",
       "\n",
       "    .dataframe thead th {\n",
       "        text-align: right;\n",
       "    }\n",
       "</style>\n",
       "<table border=\"1\" class=\"dataframe\">\n",
       "  <thead>\n",
       "    <tr style=\"text-align: right;\">\n",
       "      <th></th>\n",
       "      <th>Reaction4</th>\n",
       "      <th>Reaction2</th>\n",
       "      <th>Reaction3</th>\n",
       "      <th>Reaction1</th>\n",
       "    </tr>\n",
       "  </thead>\n",
       "  <tbody>\n",
       "    <tr>\n",
       "      <th>Reaction4</th>\n",
       "      <td>4.000000</td>\n",
       "      <td>-2.000000</td>\n",
       "      <td>4.0</td>\n",
       "      <td>0.0</td>\n",
       "    </tr>\n",
       "    <tr>\n",
       "      <th>Reaction2</th>\n",
       "      <td>-1.500000</td>\n",
       "      <td>1.500000</td>\n",
       "      <td>-1.5</td>\n",
       "      <td>0.0</td>\n",
       "    </tr>\n",
       "    <tr>\n",
       "      <th>Reaction3</th>\n",
       "      <td>0.666667</td>\n",
       "      <td>-0.333333</td>\n",
       "      <td>1.0</td>\n",
       "      <td>0.0</td>\n",
       "    </tr>\n",
       "    <tr>\n",
       "      <th>Reaction1</th>\n",
       "      <td>1.000000</td>\n",
       "      <td>-1.000000</td>\n",
       "      <td>0.0</td>\n",
       "      <td>1.0</td>\n",
       "    </tr>\n",
       "  </tbody>\n",
       "</table>\n",
       "</div>"
      ],
      "text/plain": [
       "           Reaction4  Reaction2  Reaction3  Reaction1\n",
       "Reaction4   4.000000  -2.000000        4.0        0.0\n",
       "Reaction2  -1.500000   1.500000       -1.5        0.0\n",
       "Reaction3   0.666667  -0.333333        1.0        0.0\n",
       "Reaction1   1.000000  -1.000000        0.0        1.0"
      ]
     },
     "execution_count": 121,
     "metadata": {},
     "output_type": "execute_result"
    }
   ],
   "source": [
    "rref_operation.dot(m.lower_inverse)"
   ]
  },
  {
   "cell_type": "code",
   "execution_count": 108,
   "metadata": {},
   "outputs": [
    {
     "data": {
      "text/html": [
       "<div>\n",
       "<style scoped>\n",
       "    .dataframe tbody tr th:only-of-type {\n",
       "        vertical-align: middle;\n",
       "    }\n",
       "\n",
       "    .dataframe tbody tr th {\n",
       "        vertical-align: top;\n",
       "    }\n",
       "\n",
       "    .dataframe thead th {\n",
       "        text-align: right;\n",
       "    }\n",
       "</style>\n",
       "<table border=\"1\" class=\"dataframe\">\n",
       "  <thead>\n",
       "    <tr style=\"text-align: right;\">\n",
       "      <th></th>\n",
       "      <th>Reaction4</th>\n",
       "      <th>Reaction2</th>\n",
       "      <th>Reaction3</th>\n",
       "      <th>Reaction1</th>\n",
       "    </tr>\n",
       "  </thead>\n",
       "  <tbody>\n",
       "    <tr>\n",
       "      <th>Reaction4</th>\n",
       "      <td>1.0</td>\n",
       "      <td>-0.666667</td>\n",
       "      <td>0.0</td>\n",
       "      <td>0.0</td>\n",
       "    </tr>\n",
       "    <tr>\n",
       "      <th>Reaction2</th>\n",
       "      <td>0.0</td>\n",
       "      <td>1.000000</td>\n",
       "      <td>0.0</td>\n",
       "      <td>0.0</td>\n",
       "    </tr>\n",
       "    <tr>\n",
       "      <th>Reaction3</th>\n",
       "      <td>0.0</td>\n",
       "      <td>0.000000</td>\n",
       "      <td>1.0</td>\n",
       "      <td>0.0</td>\n",
       "    </tr>\n",
       "    <tr>\n",
       "      <th>Reaction1</th>\n",
       "      <td>0.0</td>\n",
       "      <td>0.000000</td>\n",
       "      <td>0.0</td>\n",
       "      <td>1.0</td>\n",
       "    </tr>\n",
       "  </tbody>\n",
       "</table>\n",
       "</div>"
      ],
      "text/plain": [
       "           Reaction4  Reaction2  Reaction3  Reaction1\n",
       "Reaction4        1.0  -0.666667        0.0        0.0\n",
       "Reaction2        0.0   1.000000        0.0        0.0\n",
       "Reaction3        0.0   0.000000        1.0        0.0\n",
       "Reaction1        0.0   0.000000        0.0        1.0"
      ]
     },
     "execution_count": 108,
     "metadata": {},
     "output_type": "execute_result"
    }
   ],
   "source": [
    "rref_op1 = np.identity(echelon_t.shape[0])\n",
    "rref_op1 = pd.DataFrame(rref_op1,\n",
    "          index = echelon_t.index,\n",
    "          columns = echelon_t.index)\n",
    "val = 1/1.5*(-1.0)\n",
    "rref_op1.at['Reaction4', 'Reaction2'] = val\n",
    "op1 = rref_op1.dot(echelon_t)\n",
    "op1\n",
    "rref_op1"
   ]
  },
  {
   "cell_type": "code",
   "execution_count": 111,
   "metadata": {},
   "outputs": [
    {
     "data": {
      "text/html": [
       "<div>\n",
       "<style scoped>\n",
       "    .dataframe tbody tr th:only-of-type {\n",
       "        vertical-align: middle;\n",
       "    }\n",
       "\n",
       "    .dataframe tbody tr th {\n",
       "        vertical-align: top;\n",
       "    }\n",
       "\n",
       "    .dataframe thead th {\n",
       "        text-align: right;\n",
       "    }\n",
       "</style>\n",
       "<table border=\"1\" class=\"dataframe\">\n",
       "  <thead>\n",
       "    <tr style=\"text-align: right;\">\n",
       "      <th></th>\n",
       "      <th>{HBrO2}</th>\n",
       "      <th>{HOBr}</th>\n",
       "      <th>{BrO3}</th>\n",
       "      <th>{Br, Ce}</th>\n",
       "    </tr>\n",
       "  </thead>\n",
       "  <tbody>\n",
       "    <tr>\n",
       "      <th>Reaction4</th>\n",
       "      <td>-2.0</td>\n",
       "      <td>5.551115e-17</td>\n",
       "      <td>1.333333</td>\n",
       "      <td>0.666667</td>\n",
       "    </tr>\n",
       "    <tr>\n",
       "      <th>Reaction2</th>\n",
       "      <td>0.0</td>\n",
       "      <td>1.500000e+00</td>\n",
       "      <td>-0.500000</td>\n",
       "      <td>-1.000000</td>\n",
       "    </tr>\n",
       "    <tr>\n",
       "      <th>Reaction3</th>\n",
       "      <td>0.0</td>\n",
       "      <td>0.000000e+00</td>\n",
       "      <td>-0.333333</td>\n",
       "      <td>1.333333</td>\n",
       "    </tr>\n",
       "    <tr>\n",
       "      <th>Reaction1</th>\n",
       "      <td>0.0</td>\n",
       "      <td>0.000000e+00</td>\n",
       "      <td>0.000000</td>\n",
       "      <td>0.000000</td>\n",
       "    </tr>\n",
       "  </tbody>\n",
       "</table>\n",
       "</div>"
      ],
      "text/plain": [
       "           {HBrO2}        {HOBr}    {BrO3}  {Br, Ce}\n",
       "Reaction4     -2.0  5.551115e-17  1.333333  0.666667\n",
       "Reaction2      0.0  1.500000e+00 -0.500000 -1.000000\n",
       "Reaction3      0.0  0.000000e+00 -0.333333  1.333333\n",
       "Reaction1      0.0  0.000000e+00  0.000000  0.000000"
      ]
     },
     "execution_count": 111,
     "metadata": {},
     "output_type": "execute_result"
    }
   ],
   "source": [
    "op1"
   ]
  },
  {
   "cell_type": "code",
   "execution_count": 110,
   "metadata": {},
   "outputs": [
    {
     "data": {
      "text/html": [
       "<div>\n",
       "<style scoped>\n",
       "    .dataframe tbody tr th:only-of-type {\n",
       "        vertical-align: middle;\n",
       "    }\n",
       "\n",
       "    .dataframe tbody tr th {\n",
       "        vertical-align: top;\n",
       "    }\n",
       "\n",
       "    .dataframe thead th {\n",
       "        text-align: right;\n",
       "    }\n",
       "</style>\n",
       "<table border=\"1\" class=\"dataframe\">\n",
       "  <thead>\n",
       "    <tr style=\"text-align: right;\">\n",
       "      <th></th>\n",
       "      <th>Reaction4</th>\n",
       "      <th>Reaction2</th>\n",
       "      <th>Reaction3</th>\n",
       "      <th>Reaction1</th>\n",
       "    </tr>\n",
       "  </thead>\n",
       "  <tbody>\n",
       "    <tr>\n",
       "      <th>Reaction4</th>\n",
       "      <td>1.0</td>\n",
       "      <td>0.0</td>\n",
       "      <td>4.0</td>\n",
       "      <td>0.0</td>\n",
       "    </tr>\n",
       "    <tr>\n",
       "      <th>Reaction2</th>\n",
       "      <td>0.0</td>\n",
       "      <td>1.0</td>\n",
       "      <td>0.0</td>\n",
       "      <td>0.0</td>\n",
       "    </tr>\n",
       "    <tr>\n",
       "      <th>Reaction3</th>\n",
       "      <td>0.0</td>\n",
       "      <td>0.0</td>\n",
       "      <td>1.0</td>\n",
       "      <td>0.0</td>\n",
       "    </tr>\n",
       "    <tr>\n",
       "      <th>Reaction1</th>\n",
       "      <td>0.0</td>\n",
       "      <td>0.0</td>\n",
       "      <td>0.0</td>\n",
       "      <td>1.0</td>\n",
       "    </tr>\n",
       "  </tbody>\n",
       "</table>\n",
       "</div>"
      ],
      "text/plain": [
       "           Reaction4  Reaction2  Reaction3  Reaction1\n",
       "Reaction4        1.0        0.0        4.0        0.0\n",
       "Reaction2        0.0        1.0        0.0        0.0\n",
       "Reaction3        0.0        0.0        1.0        0.0\n",
       "Reaction1        0.0        0.0        0.0        1.0"
      ]
     },
     "execution_count": 110,
     "metadata": {},
     "output_type": "execute_result"
    }
   ],
   "source": [
    "rref_op2 = np.identity(echelon_t.shape[0])\n",
    "rref_op2 = pd.DataFrame(rref_op2,\n",
    "          index = echelon_t.index,\n",
    "          columns = echelon_t.index)\n",
    "val = op1.loc['Reaction4', '{BrO3}'] / op1.loc['Reaction3', '{BrO3}'] * (-1.0)\n",
    "rref_op2.at['Reaction4', 'Reaction3'] = val\n",
    "op2 = rref_op2.dot(op1)\n",
    "op2\n",
    "rref_op2"
   ]
  },
  {
   "cell_type": "code",
   "execution_count": 113,
   "metadata": {},
   "outputs": [
    {
     "data": {
      "text/html": [
       "<div>\n",
       "<style scoped>\n",
       "    .dataframe tbody tr th:only-of-type {\n",
       "        vertical-align: middle;\n",
       "    }\n",
       "\n",
       "    .dataframe tbody tr th {\n",
       "        vertical-align: top;\n",
       "    }\n",
       "\n",
       "    .dataframe thead th {\n",
       "        text-align: right;\n",
       "    }\n",
       "</style>\n",
       "<table border=\"1\" class=\"dataframe\">\n",
       "  <thead>\n",
       "    <tr style=\"text-align: right;\">\n",
       "      <th></th>\n",
       "      <th>{HBrO2}</th>\n",
       "      <th>{HOBr}</th>\n",
       "      <th>{BrO3}</th>\n",
       "      <th>{Br, Ce}</th>\n",
       "    </tr>\n",
       "  </thead>\n",
       "  <tbody>\n",
       "    <tr>\n",
       "      <th>Reaction4</th>\n",
       "      <td>-2.0</td>\n",
       "      <td>5.551115e-17</td>\n",
       "      <td>-7.401487e-17</td>\n",
       "      <td>6.000000</td>\n",
       "    </tr>\n",
       "    <tr>\n",
       "      <th>Reaction2</th>\n",
       "      <td>0.0</td>\n",
       "      <td>1.500000e+00</td>\n",
       "      <td>-5.000000e-01</td>\n",
       "      <td>-1.000000</td>\n",
       "    </tr>\n",
       "    <tr>\n",
       "      <th>Reaction3</th>\n",
       "      <td>0.0</td>\n",
       "      <td>0.000000e+00</td>\n",
       "      <td>-3.333333e-01</td>\n",
       "      <td>1.333333</td>\n",
       "    </tr>\n",
       "    <tr>\n",
       "      <th>Reaction1</th>\n",
       "      <td>0.0</td>\n",
       "      <td>0.000000e+00</td>\n",
       "      <td>0.000000e+00</td>\n",
       "      <td>0.000000</td>\n",
       "    </tr>\n",
       "  </tbody>\n",
       "</table>\n",
       "</div>"
      ],
      "text/plain": [
       "           {HBrO2}        {HOBr}        {BrO3}  {Br, Ce}\n",
       "Reaction4     -2.0  5.551115e-17 -7.401487e-17  6.000000\n",
       "Reaction2      0.0  1.500000e+00 -5.000000e-01 -1.000000\n",
       "Reaction3      0.0  0.000000e+00 -3.333333e-01  1.333333\n",
       "Reaction1      0.0  0.000000e+00  0.000000e+00  0.000000"
      ]
     },
     "execution_count": 113,
     "metadata": {},
     "output_type": "execute_result"
    }
   ],
   "source": [
    "op2"
   ]
  },
  {
   "cell_type": "code",
   "execution_count": 106,
   "metadata": {},
   "outputs": [
    {
     "data": {
      "text/html": [
       "<div>\n",
       "<style scoped>\n",
       "    .dataframe tbody tr th:only-of-type {\n",
       "        vertical-align: middle;\n",
       "    }\n",
       "\n",
       "    .dataframe tbody tr th {\n",
       "        vertical-align: top;\n",
       "    }\n",
       "\n",
       "    .dataframe thead th {\n",
       "        text-align: right;\n",
       "    }\n",
       "</style>\n",
       "<table border=\"1\" class=\"dataframe\">\n",
       "  <thead>\n",
       "    <tr style=\"text-align: right;\">\n",
       "      <th></th>\n",
       "      <th>Reaction4</th>\n",
       "      <th>Reaction2</th>\n",
       "      <th>Reaction3</th>\n",
       "      <th>Reaction1</th>\n",
       "    </tr>\n",
       "  </thead>\n",
       "  <tbody>\n",
       "    <tr>\n",
       "      <th>Reaction4</th>\n",
       "      <td>1.0</td>\n",
       "      <td>-0.666667</td>\n",
       "      <td>1.0</td>\n",
       "      <td>0.0</td>\n",
       "    </tr>\n",
       "    <tr>\n",
       "      <th>Reaction2</th>\n",
       "      <td>0.0</td>\n",
       "      <td>1.000000</td>\n",
       "      <td>-1.5</td>\n",
       "      <td>0.0</td>\n",
       "    </tr>\n",
       "    <tr>\n",
       "      <th>Reaction3</th>\n",
       "      <td>0.0</td>\n",
       "      <td>0.000000</td>\n",
       "      <td>1.0</td>\n",
       "      <td>0.0</td>\n",
       "    </tr>\n",
       "    <tr>\n",
       "      <th>Reaction1</th>\n",
       "      <td>0.0</td>\n",
       "      <td>0.000000</td>\n",
       "      <td>0.0</td>\n",
       "      <td>1.0</td>\n",
       "    </tr>\n",
       "  </tbody>\n",
       "</table>\n",
       "</div>"
      ],
      "text/plain": [
       "           Reaction4  Reaction2  Reaction3  Reaction1\n",
       "Reaction4        1.0  -0.666667        1.0        0.0\n",
       "Reaction2        0.0   1.000000       -1.5        0.0\n",
       "Reaction3        0.0   0.000000        1.0        0.0\n",
       "Reaction1        0.0   0.000000        0.0        1.0"
      ]
     },
     "execution_count": 106,
     "metadata": {},
     "output_type": "execute_result"
    }
   ],
   "source": [
    "rref_op1"
   ]
  },
  {
   "cell_type": "code",
   "execution_count": 103,
   "metadata": {},
   "outputs": [
    {
     "data": {
      "text/html": [
       "<div>\n",
       "<style scoped>\n",
       "    .dataframe tbody tr th:only-of-type {\n",
       "        vertical-align: middle;\n",
       "    }\n",
       "\n",
       "    .dataframe tbody tr th {\n",
       "        vertical-align: top;\n",
       "    }\n",
       "\n",
       "    .dataframe thead th {\n",
       "        text-align: right;\n",
       "    }\n",
       "</style>\n",
       "<table border=\"1\" class=\"dataframe\">\n",
       "  <thead>\n",
       "    <tr style=\"text-align: right;\">\n",
       "      <th></th>\n",
       "      <th>Reaction4</th>\n",
       "      <th>Reaction2</th>\n",
       "      <th>Reaction3</th>\n",
       "      <th>Reaction1</th>\n",
       "    </tr>\n",
       "  </thead>\n",
       "  <tbody>\n",
       "    <tr>\n",
       "      <th>Reaction4</th>\n",
       "      <td>1.0</td>\n",
       "      <td>-0.666667</td>\n",
       "      <td>1.0</td>\n",
       "      <td>0.0</td>\n",
       "    </tr>\n",
       "    <tr>\n",
       "      <th>Reaction2</th>\n",
       "      <td>0.0</td>\n",
       "      <td>1.000000</td>\n",
       "      <td>-1.5</td>\n",
       "      <td>0.0</td>\n",
       "    </tr>\n",
       "    <tr>\n",
       "      <th>Reaction3</th>\n",
       "      <td>0.0</td>\n",
       "      <td>0.000000</td>\n",
       "      <td>1.0</td>\n",
       "      <td>0.0</td>\n",
       "    </tr>\n",
       "    <tr>\n",
       "      <th>Reaction1</th>\n",
       "      <td>0.0</td>\n",
       "      <td>0.000000</td>\n",
       "      <td>0.0</td>\n",
       "      <td>1.0</td>\n",
       "    </tr>\n",
       "  </tbody>\n",
       "</table>\n",
       "</div>"
      ],
      "text/plain": [
       "           Reaction4  Reaction2  Reaction3  Reaction1\n",
       "Reaction4        1.0  -0.666667        1.0        0.0\n",
       "Reaction2        0.0   1.000000       -1.5        0.0\n",
       "Reaction3        0.0   0.000000        1.0        0.0\n",
       "Reaction1        0.0   0.000000        0.0        1.0"
      ]
     },
     "execution_count": 103,
     "metadata": {},
     "output_type": "execute_result"
    }
   ],
   "source": [
    "rref_op2"
   ]
  },
  {
   "cell_type": "code",
   "execution_count": 95,
   "metadata": {},
   "outputs": [
    {
     "data": {
      "text/html": [
       "<div>\n",
       "<style scoped>\n",
       "    .dataframe tbody tr th:only-of-type {\n",
       "        vertical-align: middle;\n",
       "    }\n",
       "\n",
       "    .dataframe tbody tr th {\n",
       "        vertical-align: top;\n",
       "    }\n",
       "\n",
       "    .dataframe thead th {\n",
       "        text-align: right;\n",
       "    }\n",
       "</style>\n",
       "<table border=\"1\" class=\"dataframe\">\n",
       "  <thead>\n",
       "    <tr style=\"text-align: right;\">\n",
       "      <th></th>\n",
       "      <th>{HBrO2}</th>\n",
       "      <th>{HOBr}</th>\n",
       "      <th>{BrO3}</th>\n",
       "      <th>{Br, Ce}</th>\n",
       "    </tr>\n",
       "  </thead>\n",
       "  <tbody>\n",
       "    <tr>\n",
       "      <th>Reaction4</th>\n",
       "      <td>-2.0</td>\n",
       "      <td>0.0</td>\n",
       "      <td>0.333</td>\n",
       "      <td>4.667</td>\n",
       "    </tr>\n",
       "    <tr>\n",
       "      <th>Reaction2</th>\n",
       "      <td>0.0</td>\n",
       "      <td>1.5</td>\n",
       "      <td>-0.000</td>\n",
       "      <td>-3.000</td>\n",
       "    </tr>\n",
       "    <tr>\n",
       "      <th>Reaction3</th>\n",
       "      <td>0.0</td>\n",
       "      <td>0.0</td>\n",
       "      <td>-0.333</td>\n",
       "      <td>1.333</td>\n",
       "    </tr>\n",
       "    <tr>\n",
       "      <th>Reaction1</th>\n",
       "      <td>0.0</td>\n",
       "      <td>0.0</td>\n",
       "      <td>0.000</td>\n",
       "      <td>0.000</td>\n",
       "    </tr>\n",
       "  </tbody>\n",
       "</table>\n",
       "</div>"
      ],
      "text/plain": [
       "           {HBrO2}  {HOBr}  {BrO3}  {Br, Ce}\n",
       "Reaction4     -2.0     0.0   0.333     4.667\n",
       "Reaction2      0.0     1.5  -0.000    -3.000\n",
       "Reaction3      0.0     0.0  -0.333     1.333\n",
       "Reaction1      0.0     0.0   0.000     0.000"
      ]
     },
     "execution_count": 95,
     "metadata": {},
     "output_type": "execute_result"
    }
   ],
   "source": [
    "np.round(rref_operation.dot(echelon_t), 3)"
   ]
  },
  {
   "cell_type": "code",
   "execution_count": 94,
   "metadata": {},
   "outputs": [
    {
     "data": {
      "text/plain": [
       "[Reaction4: 2.00 {HBrO2} -> 0.33 {BrO3} + 4.67 {Br, Ce},\n",
       " Reaction2: 3.00 {Br, Ce} -> 1.50 {HOBr},\n",
       " Reaction3: 0.33 {BrO3} -> 1.33 {Br, Ce},\n",
       " Reaction1:  -> ]"
      ]
     },
     "execution_count": 94,
     "metadata": {},
     "output_type": "execute_result"
    }
   ],
   "source": [
    "m.convertMatrixToSOMReactions(np.round(rref_operation.dot(echelon_t), 3).T)"
   ]
  },
  {
   "cell_type": "code",
   "execution_count": 90,
   "metadata": {},
   "outputs": [
    {
     "data": {
      "text/html": [
       "<div>\n",
       "<style scoped>\n",
       "    .dataframe tbody tr th:only-of-type {\n",
       "        vertical-align: middle;\n",
       "    }\n",
       "\n",
       "    .dataframe tbody tr th {\n",
       "        vertical-align: top;\n",
       "    }\n",
       "\n",
       "    .dataframe thead th {\n",
       "        text-align: right;\n",
       "    }\n",
       "</style>\n",
       "<table border=\"1\" class=\"dataframe\">\n",
       "  <thead>\n",
       "    <tr style=\"text-align: right;\">\n",
       "      <th></th>\n",
       "      <th>{HBrO2}</th>\n",
       "      <th>{HOBr}</th>\n",
       "      <th>{BrO3}</th>\n",
       "      <th>{Br, Ce}</th>\n",
       "    </tr>\n",
       "  </thead>\n",
       "  <tbody>\n",
       "    <tr>\n",
       "      <th>Reaction4</th>\n",
       "      <td>-2.0</td>\n",
       "      <td>0.0</td>\n",
       "      <td>0.0</td>\n",
       "      <td>5.0</td>\n",
       "    </tr>\n",
       "    <tr>\n",
       "      <th>Reaction2</th>\n",
       "      <td>0.0</td>\n",
       "      <td>2.0</td>\n",
       "      <td>-0.0</td>\n",
       "      <td>-3.0</td>\n",
       "    </tr>\n",
       "    <tr>\n",
       "      <th>Reaction3</th>\n",
       "      <td>0.0</td>\n",
       "      <td>0.0</td>\n",
       "      <td>-0.0</td>\n",
       "      <td>1.0</td>\n",
       "    </tr>\n",
       "    <tr>\n",
       "      <th>Reaction1</th>\n",
       "      <td>0.0</td>\n",
       "      <td>0.0</td>\n",
       "      <td>0.0</td>\n",
       "      <td>0.0</td>\n",
       "    </tr>\n",
       "  </tbody>\n",
       "</table>\n",
       "</div>"
      ],
      "text/plain": [
       "           {HBrO2}  {HOBr}  {BrO3}  {Br, Ce}\n",
       "Reaction4     -2.0     0.0     0.0       5.0\n",
       "Reaction2      0.0     2.0    -0.0      -3.0\n",
       "Reaction3      0.0     0.0    -0.0       1.0\n",
       "Reaction1      0.0     0.0     0.0       0.0"
      ]
     },
     "execution_count": 90,
     "metadata": {},
     "output_type": "execute_result"
    }
   ],
   "source": [
    "rref_operation.dot(echelon_t).apply(np.round)"
   ]
  },
  {
   "cell_type": "code",
   "execution_count": 11,
   "metadata": {},
   "outputs": [
    {
     "data": {
      "text/plain": [
       "[ReactionSummary(label=Reaction1, reactants=[BrO3 *  1.00, Br *  1.00], products=[HBrO2 *  1.00, HOBr *  1.00], category='reaction_n_n'),\n",
       " ReactionSummary(label=Reaction3, reactants=[BrO3 *  1.00], products=[Ce *  1.00, HBrO2 *  1.00], category='reaction_1_n'),\n",
       " ReactionSummary(label=Reaction2, reactants=[Br *  1.00, HBrO2 *  1.00], products=[HOBr *  2.00], category='reaction_n_n'),\n",
       " ReactionSummary(label=Reaction5, reactants=[Ce *  1.00], products=[Br *  1.00], category='reaction_1_1'),\n",
       " ReactionSummary(label=Reaction4, reactants=[HBrO2 *  2.00], products=[BrO3 *  1.00, HOBr *  1.00], category='reaction_n_n')]"
      ]
     },
     "execution_count": 11,
     "metadata": {},
     "output_type": "execute_result"
    }
   ],
   "source": [
    "m.convertMatrixToReactions(simple, m.permuted_matrix)"
   ]
  },
  {
   "cell_type": "code",
   "execution_count": 12,
   "metadata": {},
   "outputs": [
    {
     "name": "stdout",
     "output_type": "stream",
     "text": [
      "We just analyzed the data...\n",
      "RREF error:  []\n",
      "Type I error:  []\n",
      "Type II error:  []\n"
     ]
    },
    {
     "data": {
      "text/plain": [
       "True"
      ]
     },
     "execution_count": 12,
     "metadata": {},
     "output_type": "execute_result"
    }
   ],
   "source": [
    "m.analyze()"
   ]
  },
  {
   "cell_type": "code",
   "execution_count": 13,
   "metadata": {},
   "outputs": [
    {
     "data": {
      "text/plain": [
       "{Ce}->{HOBr}\n",
       "{Br}->{HOBr}\n",
       "{HOBr}->{HBrO2}\n",
       "{BrO3}"
      ]
     },
     "execution_count": 13,
     "metadata": {},
     "output_type": "execute_result"
    }
   ],
   "source": [
    "m"
   ]
  },
  {
   "cell_type": "code",
   "execution_count": 32,
   "metadata": {},
   "outputs": [],
   "source": [
    "# mat_df = m.stoichiometry_matrix\n",
    "# mat_t = mat_df.T\n",
    "\n",
    "# mat_t\n",
    "# idx_mat_t = mat_t.index\n",
    "# # # LU decomposition\n",
    "# mat_lu = scipy.linalg.lu(mat_t)\n",
    "# # # inverse pivot matrix\n",
    "# p_inv = scipy.linalg.inv(mat_lu[0])\n",
    "# pivot_index = [list(k).index(1) for k in p_inv]\n",
    "# new_idx_mat_t = [idx_mat_t[idx] for idx in pivot_index]\n",
    "# # # row reduced matrix\n",
    "# row_reduced = pd.DataFrame(mat_lu[2], index=new_idx_mat_t, columns=mat_t.columns)\n",
    "# row_reduced"
   ]
  },
  {
   "cell_type": "code",
   "execution_count": 125,
   "metadata": {},
   "outputs": [
    {
     "name": "stdout",
     "output_type": "stream",
     "text": [
      "haha\n"
     ]
    }
   ],
   "source": [
    "rref = [1]\n",
    "er = []\n",
    "if rref and not er:\n",
    "  print(\"haha\")"
   ]
  },
  {
   "cell_type": "code",
   "execution_count": null,
   "metadata": {},
   "outputs": [],
   "source": []
  }
 ],
 "metadata": {
  "kernelspec": {
   "display_name": "Python 3",
   "language": "python",
   "name": "python3"
  },
  "language_info": {
   "codemirror_mode": {
    "name": "ipython",
    "version": 3
   },
   "file_extension": ".py",
   "mimetype": "text/x-python",
   "name": "python",
   "nbconvert_exporter": "python",
   "pygments_lexer": "ipython3",
   "version": "3.6.8"
  }
 },
 "nbformat": 4,
 "nbformat_minor": 2
}
