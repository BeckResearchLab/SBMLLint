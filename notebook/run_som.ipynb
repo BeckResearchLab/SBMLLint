{
 "cells": [
  {
   "cell_type": "code",
   "execution_count": 1,
   "metadata": {},
   "outputs": [],
   "source": [
    "# import collections\n",
    "# import itertools  \n",
    "# import matplotlib.pyplot as plt\n",
    "# import networkx as nx\n",
    "# import os\n",
    "# import tellurium as te\n",
    "# import tesbml\n",
    "# import re\n",
    "# import os, sys"
   ]
  },
  {
   "cell_type": "code",
   "execution_count": 1,
   "metadata": {},
   "outputs": [
    {
     "name": "stdout",
     "output_type": "stream",
     "text": [
      "Current Directory: /Users/woosubshin/Desktop/ModelEngineering/SBMLLint/notebook\n"
     ]
    }
   ],
   "source": [
    "from games_setup import *\n",
    "from SBMLLint.games.som import SOM"
   ]
  },
  {
   "cell_type": "code",
   "execution_count": 3,
   "metadata": {},
   "outputs": [
    {
     "data": {
      "text/plain": [
       "[R1: ADP + NAD + halfglucose -> ATP + NADH + pyruvate; 2 * V_1 * (halfglucose / (2 * Kglc_1)) * (NAD / Knad_1) * (ADP / Kadp_1) / ((1 + halfglucose / (2 * Kglc_1) + pyruvate / Kpyr_1) * (1 + NAD / Knad_1 + NADH / Knadh_1) * (1 + ADP / Kadp_1 + ATP / Katp_1)),\n",
       " R2: NADH + pyruvate -> NAD + lactate; V_2 * ((pyruvate * NADH - lactate * NAD / Keq_2) / (Kpyr_2 * Knadh_2)) / ((1 + pyruvate / Kpyr_2 + lactate / Klac_2) * (1 + NADH / Knadh_2 + NAD / Knad_2)),\n",
       " R3: NAD + pyruvate + CoA -> NADH + AcCoA; V_3 * (pyruvate / Kpyr_3) * (NAD / Knad_3) * (CoA / Kcoa_3) * (NAD / (NAD + Ki_3 * NADH)) / ((1 + pyruvate / Kpyr_3) * (1 + NAD / Knad_3 + NADH / Knadh_3) * (1 + CoA / Kcoa_3 + AcCoA / Kaccoa_3)),\n",
       " R4: AcCoA + PO4 -> CoA + AcP; V_4 * ((AcCoA * PO4 - AcP * CoA / Keq_4) / (Kiaccoa_4 * Kpi_4)) / (1 + AcCoA / Kiaccoa_4 + PO4 / Kipi_4 + AcP / Kiacp_4 + CoA / Kicoa_4 + AcCoA * PO4 / (Kiaccoa_4 * Kpi_4) + AcP * CoA / (Kacp_4 * Kicoa_4)),\n",
       " R5: ADP + AcP -> ATP + Ac; V_5 * ((AcP * ADP - Ac * ATP / Keq_5) / (Kadp_5 * Kacp_5)) / ((1 + AcP / Kacp_5 + Ac / Kac_5) * (1 + ADP / Kadp_5 + ATP / Katp_5)),\n",
       " R6: NADH + AcCoA -> NAD + CoA + AcO; V_6 * ((AcCoA * NADH - CoA * NAD * AcO / Keq_6) / (Kaccoa_6 * Knadh_6)) / ((1 + NAD / Knad_6 + NADH / Knadh_6) * (1 + AcCoA / Kaccoa_6 + CoA / Kcoa_6) * (1 + AcO / Kaco_6)),\n",
       " R7: NADH + AcO -> NAD + EtOH; V_7 * ((AcO * NADH - EtOH * NAD / Keq_7) / (Kaco_7 * Knadh_7)) / ((1 + NAD / Knad_7 + NADH / Knadh_7) * (1 + AcO / Kaco_7 + EtOH / Ketoh_7)),\n",
       " R8: 2.00 pyruvate -> AcLac; V_8 * (pyruvate / Kpyr_8) * (1 - AcLac / (pyruvate * Keq_8)) * pow(pyruvate / Kpyr_8 + AcLac / Kaclac_8, n_8 - 1) / (1 + pow(pyruvate / Kpyr_8 + AcLac / Kaclac_8, n_8)),\n",
       " R9: AcLac -> AcetoinIn; V_9 * (AcLac / Kaclac_9) / (1 + AcLac / Kaclac_9 + AcetoinIn / Kacet_9),\n",
       " R10: AcetoinIn -> AcetoinOut; V_10 * (AcetoinIn / Kacet_10) / (1 + AcetoinIn / Kacet_10),\n",
       " R11: NADH + AcetoinIn -> NAD + Butanediol; V_11 * ((AcetoinIn * NADH - Butanediol * NAD / Keq_11) / (Kacet_11 * Knadh_11)) / ((1 + AcetoinIn / Kacet_11 + Butanediol / Kbut_11) * (1 + NADH / Knadh_11 + NAD / Knad_11)),\n",
       " R12: ATP -> ADP; V_12 * pow(ATP / (ADP * Katp_12), n_12) / (1 + pow(ATP / (ADP * Katp_12), n_12)),\n",
       " R13: NADH + O2 -> NAD; V_13 * (NADH * O2 / (Knadh_13 * Ko_13)) / ((1 + NADH / Knadh_13 + NAD / Knad_13) * (1 + O2 / Ko_13)),\n",
       " R14: AcLac -> AcetoinIn; k_14 * AcLac]"
      ]
     },
     "execution_count": 3,
     "metadata": {},
     "output_type": "execute_result"
    }
   ],
   "source": [
    "simple = load_file_from_curated_data(17)\n",
    "simple.reactions"
   ]
  },
  {
   "cell_type": "code",
   "execution_count": 4,
   "metadata": {},
   "outputs": [],
   "source": [
    "import unittest"
   ]
  },
  {
   "cell_type": "code",
   "execution_count": 10,
   "metadata": {},
   "outputs": [],
   "source": [
    "# UNIUNI = 'SHMTr'\n",
    "# MULTIMULTI = 'GARFT'\n",
    "# TEST_MOLECULE = 'CH2FH4'\n",
    "UNIUNI = 'R12'\n",
    "MULTIMULTI = 'R1'\n",
    "MULTIUNI = 'R13'\n",
    "MOLECULE = 'halfglucose'\n",
    "NAMEFILTER = \"[0-9a-zA-Z]+\""
   ]
  },
  {
   "cell_type": "code",
   "execution_count": 6,
   "metadata": {},
   "outputs": [],
   "source": [
    "reaction1 = simple.reactions[0]\n",
    "reaction2 = simple.reactions[1]"
   ]
  },
  {
   "cell_type": "code",
   "execution_count": 16,
   "metadata": {},
   "outputs": [
    {
     "name": "stdout",
     "output_type": "stream",
     "text": [
      "[ADP, NAD, halfglucose, ATP, NADH, pyruvate, lactate, CoA, AcCoA, PO4, AcP, Ac, AcO, EtOH, AcLac, AcetoinIn, AcetoinOut, Butanediol, O2]\n"
     ]
    }
   ],
   "source": [
    "print(simple.molecules)"
   ]
  },
  {
   "cell_type": "code",
   "execution_count": 12,
   "metadata": {},
   "outputs": [
    {
     "ename": "AttributeError",
     "evalue": "type object 'SOM' has no attribute 'initialize'",
     "output_type": "error",
     "traceback": [
      "\u001b[0;31m---------------------------------------------------------------------------\u001b[0m",
      "\u001b[0;31mAttributeError\u001b[0m                            Traceback (most recent call last)",
      "\u001b[0;32m<ipython-input-12-214fbe73858d>\u001b[0m in \u001b[0;36m<module>\u001b[0;34m()\u001b[0m\n\u001b[0;32m----> 1\u001b[0;31m \u001b[0mSOM\u001b[0m\u001b[0;34m.\u001b[0m\u001b[0minitialize\u001b[0m\u001b[0;34m(\u001b[0m\u001b[0mMolecule\u001b[0m\u001b[0;34m.\u001b[0m\u001b[0mmolecules\u001b[0m\u001b[0;34m)\u001b[0m\u001b[0;34m\u001b[0m\u001b[0m\n\u001b[0m",
      "\u001b[0;31mAttributeError\u001b[0m: type object 'SOM' has no attribute 'initialize'"
     ]
    }
   ],
   "source": [
    "SOM.initialize(Molecule.molecules)"
   ]
  },
  {
   "cell_type": "code",
   "execution_count": 11,
   "metadata": {},
   "outputs": [],
   "source": [
    "class TestSOM(unittest.TestCase):\n",
    "\n",
    "    def setUp(self):\n",
    "        self.simple = SimpleSBML(cn.TEST_FILE3)\n",
    "        Reaction(simple._model.getReaction(UNIUNI))\n",
    "        Reaction(simple._model.getReaction(MULTIMULTI))\n",
    "        self.reaction1 = Reaction.reactions[0]\n",
    "        self.reaction2 = Reaction.reactions[1]\n",
    "        self.molecules = Molecule.molecules\n",
    "        SOM.soms = []\n",
    "\n",
    "    def testMakeId(self):\n",
    "         SOM.initialize(self.molecules)\n",
    "         self.assertEqual(len(SOM.soms), len(self.molecules))"
   ]
  },
  {
   "cell_type": "code",
   "execution_count": null,
   "metadata": {},
   "outputs": [],
   "source": []
  },
  {
   "cell_type": "code",
   "execution_count": 18,
   "metadata": {},
   "outputs": [
    {
     "data": {
      "text/plain": [
       "SBMLLint.games.som.SOM"
      ]
     },
     "execution_count": 18,
     "metadata": {},
     "output_type": "execute_result"
    }
   ],
   "source": [
    "SOM"
   ]
  },
  {
   "cell_type": "code",
   "execution_count": 21,
   "metadata": {},
   "outputs": [
    {
     "name": "stdout",
     "output_type": "stream",
     "text": [
      "True\n",
      "{ADP}\n",
      "{NAD}\n",
      "{halfglucose}\n",
      "{ATP}\n",
      "{NADH}\n",
      "{pyruvate}\n",
      "{lactate}\n",
      "{CoA}\n",
      "{AcCoA}\n",
      "{PO4}\n",
      "{AcP}\n",
      "{Ac}\n",
      "{AcO}\n",
      "{EtOH}\n",
      "{AcLac}\n",
      "{AcetoinIn}\n",
      "{AcetoinOut}\n",
      "{Butanediol}\n",
      "{O2}\n"
     ]
    }
   ],
   "source": [
    "# test Make Id\n",
    "\n",
    "soms = []\n",
    "for mole in simple.molecules:\n",
    "  soms.append(SOM({mole}))\n",
    "print(len(soms) == len(simple.molecules))\n",
    "\n",
    "for som in soms:\n",
    "  print(som.molecules.intersection(simple.molecules))"
   ]
  },
  {
   "cell_type": "code",
   "execution_count": 13,
   "metadata": {},
   "outputs": [
    {
     "name": "stdout",
     "output_type": "stream",
     "text": [
      "{CH2FH4}\n",
      "{CH2FH4}\n"
     ]
    }
   ],
   "source": [
    "som = SOM.soms[0]\n",
    "print(som.molecules.intersection(Molecule.molecules))\n",
    "print(som.identifier)"
   ]
  },
  {
   "cell_type": "code",
   "execution_count": 14,
   "metadata": {},
   "outputs": [
    {
     "name": "stdout",
     "output_type": "stream",
     "text": [
      "['CH2FH4']\n"
     ]
    }
   ],
   "source": [
    "k = re.findall(\"[0-9a-zA-Z]+\", som.identifier)\n",
    "print(k)"
   ]
  },
  {
   "cell_type": "code",
   "execution_count": 15,
   "metadata": {},
   "outputs": [
    {
     "data": {
      "text/plain": [
       "CH2FH4"
      ]
     },
     "execution_count": 15,
     "metadata": {},
     "output_type": "execute_result"
    }
   ],
   "source": [
    "Molecule.getMolecule(k[0])"
   ]
  },
  {
   "cell_type": "code",
   "execution_count": 16,
   "metadata": {},
   "outputs": [
    {
     "data": {
      "text/plain": [
       "True"
      ]
     },
     "execution_count": 16,
     "metadata": {},
     "output_type": "execute_result"
    }
   ],
   "source": [
    "list(som.molecules)[0] == Molecule.getMolecule(k[0])"
   ]
  },
  {
   "cell_type": "code",
   "execution_count": 17,
   "metadata": {},
   "outputs": [
    {
     "data": {
      "text/plain": [
       "{CH2FH4}"
      ]
     },
     "execution_count": 17,
     "metadata": {},
     "output_type": "execute_result"
    }
   ],
   "source": [
    "SOM.soms[0]"
   ]
  },
  {
   "cell_type": "code",
   "execution_count": 18,
   "metadata": {},
   "outputs": [
    {
     "data": {
      "text/plain": [
       "[CH2FH4, FH4, CHOFH4, GAR, FGAR]"
      ]
     },
     "execution_count": 18,
     "metadata": {},
     "output_type": "execute_result"
    }
   ],
   "source": [
    "Molecule.molecules"
   ]
  },
  {
   "cell_type": "code",
   "execution_count": 19,
   "metadata": {},
   "outputs": [
    {
     "data": {
      "text/plain": [
       "{CH2FH4, FH4}"
      ]
     },
     "execution_count": 19,
     "metadata": {},
     "output_type": "execute_result"
    }
   ],
   "source": [
    "SOM.merge(reaction1)"
   ]
  },
  {
   "cell_type": "code",
   "execution_count": 20,
   "metadata": {},
   "outputs": [
    {
     "name": "stdout",
     "output_type": "stream",
     "text": [
      "[{CHOFH4}, {GAR}, {FGAR}, {CH2FH4, FH4}]\n"
     ]
    }
   ],
   "source": [
    "print(SOM.soms)"
   ]
  },
  {
   "cell_type": "code",
   "execution_count": 21,
   "metadata": {},
   "outputs": [
    {
     "data": {
      "text/plain": [
       "CHOFH4 + GAR -> FGAR + FH4"
      ]
     },
     "execution_count": 21,
     "metadata": {},
     "output_type": "execute_result"
    }
   ],
   "source": [
    "reaction2"
   ]
  },
  {
   "cell_type": "code",
   "execution_count": 22,
   "metadata": {},
   "outputs": [
    {
     "name": "stdout",
     "output_type": "stream",
     "text": [
      "-------------------------------------\n",
      "before reduction: reaction.reactants:  [MoleculeStoichiometry(molecule=CHOFH4, stoichiometry=1.0), MoleculeStoichiometry(molecule=GAR, stoichiometry=1.0)]\n",
      "after reduction: reactants:  [MoleculeStoichiometry(molecule=CHOFH4, stoichiometry=1.0), MoleculeStoichiometry(molecule=GAR, stoichiometry=1.0)]\n",
      "before reduction: reaction.products:  [MoleculeStoichiometry(molecule=FGAR, stoichiometry=1.0), MoleculeStoichiometry(molecule=FH4, stoichiometry=1.0)]\n",
      "after reduction: products:  [MoleculeStoichiometry(molecule=FGAR, stoichiometry=1.0), MoleculeStoichiometry(molecule=FH4, stoichiometry=1.0)]\n",
      "Therefore: reduced =  False\n",
      "-------------------------------------\n",
      "-------------------------------------\n",
      "before reduction: reaction.reactants:  [MoleculeStoichiometry(molecule=CHOFH4, stoichiometry=1.0), MoleculeStoichiometry(molecule=GAR, stoichiometry=1.0)]\n",
      "after reduction: reactants:  [MoleculeStoichiometry(molecule=GAR, stoichiometry=1.0), MoleculeStoichiometry(molecule=CHOFH4, stoichiometry=1.0)]\n",
      "before reduction: reaction.products:  [MoleculeStoichiometry(molecule=FGAR, stoichiometry=1.0), MoleculeStoichiometry(molecule=FH4, stoichiometry=1.0)]\n",
      "after reduction: products:  [MoleculeStoichiometry(molecule=FGAR, stoichiometry=1.0), MoleculeStoichiometry(molecule=FH4, stoichiometry=1.0)]\n",
      "Therefore: reduced =  False\n",
      "-------------------------------------\n",
      "-------------------------------------\n",
      "before reduction: reaction.reactants:  [MoleculeStoichiometry(molecule=CHOFH4, stoichiometry=1.0), MoleculeStoichiometry(molecule=GAR, stoichiometry=1.0)]\n",
      "after reduction: reactants:  [MoleculeStoichiometry(molecule=CHOFH4, stoichiometry=1.0), MoleculeStoichiometry(molecule=GAR, stoichiometry=1.0)]\n",
      "before reduction: reaction.products:  [MoleculeStoichiometry(molecule=FGAR, stoichiometry=1.0), MoleculeStoichiometry(molecule=FH4, stoichiometry=1.0)]\n",
      "after reduction: products:  [MoleculeStoichiometry(molecule=FGAR, stoichiometry=1.0), MoleculeStoichiometry(molecule=FH4, stoichiometry=1.0)]\n",
      "Therefore: reduced =  False\n",
      "-------------------------------------\n",
      "-------------------------------------\n",
      "before reduction: reaction.reactants:  [MoleculeStoichiometry(molecule=CHOFH4, stoichiometry=1.0), MoleculeStoichiometry(molecule=GAR, stoichiometry=1.0)]\n",
      "after reduction: reactants:  [MoleculeStoichiometry(molecule=CHOFH4, stoichiometry=1.0), MoleculeStoichiometry(molecule=GAR, stoichiometry=1.0)]\n",
      "before reduction: reaction.products:  [MoleculeStoichiometry(molecule=FGAR, stoichiometry=1.0), MoleculeStoichiometry(molecule=FH4, stoichiometry=1.0)]\n",
      "after reduction: products:  [MoleculeStoichiometry(molecule=FH4, stoichiometry=1.0), MoleculeStoichiometry(molecule=FGAR, stoichiometry=1.0)]\n",
      "Therefore: reduced =  False\n",
      "-------------------------------------\n",
      "False\n"
     ]
    }
   ],
   "source": [
    "print(SOM.reduce(reaction2))"
   ]
  },
  {
   "cell_type": "code",
   "execution_count": 23,
   "metadata": {},
   "outputs": [
    {
     "data": {
      "text/plain": [
       "'reaction_n_n'"
      ]
     },
     "execution_count": 23,
     "metadata": {},
     "output_type": "execute_result"
    }
   ],
   "source": [
    "reaction2.category"
   ]
  },
  {
   "cell_type": "code",
   "execution_count": 24,
   "metadata": {},
   "outputs": [],
   "source": [
    "from collections import deque"
   ]
  },
  {
   "cell_type": "code",
   "execution_count": 26,
   "metadata": {},
   "outputs": [
    {
     "data": {
      "text/plain": [
       "2"
      ]
     },
     "execution_count": 26,
     "metadata": {},
     "output_type": "execute_result"
    }
   ],
   "source": [
    "aa = deque([1,2,3])\n",
    "aa.popleft()\n",
    "aa.popleft()"
   ]
  },
  {
   "cell_type": "code",
   "execution_count": 27,
   "metadata": {},
   "outputs": [
    {
     "data": {
      "text/plain": [
       "[{CHOFH4}, {GAR}, {FGAR}, {CH2FH4, FH4}]"
      ]
     },
     "execution_count": 27,
     "metadata": {},
     "output_type": "execute_result"
    }
   ],
   "source": [
    "SOM.soms"
   ]
  },
  {
   "cell_type": "code",
   "execution_count": 38,
   "metadata": {},
   "outputs": [
    {
     "data": {
      "text/plain": [
       "[{CHOFH4}, {GAR}, {FGAR}, {CH2FH4, FH4}]"
      ]
     },
     "execution_count": 38,
     "metadata": {},
     "output_type": "execute_result"
    }
   ],
   "source": [
    "SOM.soms"
   ]
  },
  {
   "cell_type": "code",
   "execution_count": 40,
   "metadata": {},
   "outputs": [],
   "source": [
    "som = SOM.soms[3]\n",
    "reactants_in = deque([mole_tuple for mole_tuple in  \n",
    "                            reaction2.reactants if \n",
    "                            mole_tuple.molecule in som.molecules])\n",
    "reactants_out = [mole_tuple for mole_tuple in  \n",
    "                            reaction2.reactants if \n",
    "                            mole_tuple.molecule not in som.molecules]\n",
    "products_in = deque([mole_tuple for mole_tuple in  \n",
    "                            reaction2.products if \n",
    "                            mole_tuple.molecule in som.molecules])\n",
    "products_out = [mole_tuple for mole_tuple in  \n",
    "                            reaction2.products if \n",
    "                            mole_tuple.molecule not in som.molecules]"
   ]
  },
  {
   "cell_type": "code",
   "execution_count": 45,
   "metadata": {},
   "outputs": [
    {
     "data": {
      "text/plain": [
       "CHOFH4 + GAR -> FGAR + FH4"
      ]
     },
     "execution_count": 45,
     "metadata": {},
     "output_type": "execute_result"
    }
   ],
   "source": [
    "reaction2"
   ]
  },
  {
   "cell_type": "code",
   "execution_count": 41,
   "metadata": {},
   "outputs": [
    {
     "data": {
      "text/plain": [
       "deque([])"
      ]
     },
     "execution_count": 41,
     "metadata": {},
     "output_type": "execute_result"
    }
   ],
   "source": [
    "reactants_in"
   ]
  },
  {
   "cell_type": "code",
   "execution_count": 42,
   "metadata": {},
   "outputs": [
    {
     "data": {
      "text/plain": [
       "[MoleculeStoichiometry(molecule=CHOFH4, stoichiometry=1.0),\n",
       " MoleculeStoichiometry(molecule=GAR, stoichiometry=1.0)]"
      ]
     },
     "execution_count": 42,
     "metadata": {},
     "output_type": "execute_result"
    }
   ],
   "source": [
    "reactants_out"
   ]
  },
  {
   "cell_type": "code",
   "execution_count": 43,
   "metadata": {},
   "outputs": [
    {
     "data": {
      "text/plain": [
       "deque([MoleculeStoichiometry(molecule=FH4, stoichiometry=1.0)])"
      ]
     },
     "execution_count": 43,
     "metadata": {},
     "output_type": "execute_result"
    }
   ],
   "source": [
    "products_in"
   ]
  },
  {
   "cell_type": "code",
   "execution_count": 44,
   "metadata": {},
   "outputs": [
    {
     "data": {
      "text/plain": [
       "[MoleculeStoichiometry(molecule=FGAR, stoichiometry=1.0)]"
      ]
     },
     "execution_count": 44,
     "metadata": {},
     "output_type": "execute_result"
    }
   ],
   "source": [
    "products_out"
   ]
  },
  {
   "cell_type": "code",
   "execution_count": 31,
   "metadata": {},
   "outputs": [
    {
     "data": {
      "text/plain": [
       "CH2FH4 -> FH4"
      ]
     },
     "execution_count": 31,
     "metadata": {},
     "output_type": "execute_result"
    }
   ],
   "source": [
    "reaction1`"
   ]
  },
  {
   "cell_type": "code",
   "execution_count": 51,
   "metadata": {},
   "outputs": [
    {
     "name": "stdout",
     "output_type": "stream",
     "text": [
      "[{CHOFH4}, {GAR}, {FGAR}, {CH2FH4, FH4}]\n"
     ]
    }
   ],
   "source": [
    "a = SOM.soms\n",
    "print(a)"
   ]
  },
  {
   "cell_type": "code",
   "execution_count": null,
   "metadata": {},
   "outputs": [],
   "source": [
    "\"\"\"\n",
    "parent_dir = os.path.abspath(os.path.join(os.getcwd(), os.pardir, os.pardir, os.pardir))\n",
    "print(parent_dir)\n",
    "os.chdir(parent_dir)\n",
    "print(\"new directory:\", os.getcwd())\n",
    "\"\"\""
   ]
  },
  {
   "cell_type": "code",
   "execution_count": 52,
   "metadata": {},
   "outputs": [
    {
     "data": {
      "text/plain": [
       "{CH2FH4, FH4}"
      ]
     },
     "execution_count": 52,
     "metadata": {},
     "output_type": "execute_result"
    }
   ],
   "source": [
    "a.pop()"
   ]
  },
  {
   "cell_type": "code",
   "execution_count": 53,
   "metadata": {},
   "outputs": [
    {
     "data": {
      "text/plain": [
       "[{CHOFH4}, {GAR}, {FGAR}]"
      ]
     },
     "execution_count": 53,
     "metadata": {},
     "output_type": "execute_result"
    }
   ],
   "source": [
    "a"
   ]
  },
  {
   "cell_type": "code",
   "execution_count": 54,
   "metadata": {},
   "outputs": [
    {
     "ename": "ModuleNotFoundError",
     "evalue": "No module named 'init'",
     "output_type": "error",
     "traceback": [
      "\u001b[0;31m---------------------------------------------------------------------------\u001b[0m",
      "\u001b[0;31mModuleNotFoundError\u001b[0m                       Traceback (most recent call last)",
      "\u001b[0;32m<ipython-input-54-e23dbaadba65>\u001b[0m in \u001b[0;36m<module>\u001b[0;34m()\u001b[0m\n\u001b[0;32m----> 1\u001b[0;31m \u001b[0;32mimport\u001b[0m \u001b[0minit\u001b[0m\u001b[0;34m\u001b[0m\u001b[0m\n\u001b[0m",
      "\u001b[0;31mModuleNotFoundError\u001b[0m: No module named 'init'"
     ]
    }
   ],
   "source": [
    "import init"
   ]
  },
  {
   "cell_type": "code",
   "execution_count": null,
   "metadata": {},
   "outputs": [],
   "source": []
  }
 ],
 "metadata": {
  "kernelspec": {
   "display_name": "Python 3",
   "language": "python",
   "name": "python3"
  },
  "language_info": {
   "codemirror_mode": {
    "name": "ipython",
    "version": 3
   },
   "file_extension": ".py",
   "mimetype": "text/x-python",
   "name": "python",
   "nbconvert_exporter": "python",
   "pygments_lexer": "ipython3",
   "version": "3.6.3"
  }
 },
 "nbformat": 4,
 "nbformat_minor": 2
}
