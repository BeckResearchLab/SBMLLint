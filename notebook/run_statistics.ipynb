{
 "cells": [
  {
   "cell_type": "code",
   "execution_count": 90,
   "metadata": {},
   "outputs": [],
   "source": [
    "from games_setup import *\n",
    "import SBMLLint.common.constants as cn\n",
    "from SBMLLint.common.reaction import Reaction\n",
    "from SBMLLint.common.stoichiometry_matrix import StoichiometryMatrix\n",
    "from SBMLLint.games.som import SOM\n",
    "from SBMLLint.games.mesgraph import MESGraph\n",
    "import collections\n",
    "import tesbml\n",
    "import numpy as np\n",
    "import pandas as pd"
   ]
  },
  {
   "cell_type": "code",
   "execution_count": 6,
   "metadata": {},
   "outputs": [],
   "source": [
    "data_dir=cn.DATA_DIR\n",
    "files = [f for f in os.listdir(data_dir) if f[-4:] == \".xml\"]\n",
    "paths = [os.path.join(data_dir, filename) for filename in files]"
   ]
  },
  {
   "cell_type": "code",
   "execution_count": 19,
   "metadata": {},
   "outputs": [],
   "source": [
    "# statistics columns\n",
    "LP_ERROR = \"LP_Error\"\n",
    "MESGRAPH_ERROR = \"MESGraph_Error\"\n",
    "TYPE_I = \"Type_I\"\n",
    "TYPE_II = \"Type_II\"\n",
    "result_columns = [LP_ERROR, MESGRAPH_ERROR, TYPE_I, TYPE_II]"
   ]
  },
  {
   "cell_type": "code",
   "execution_count": 20,
   "metadata": {},
   "outputs": [
    {
     "data": {
      "text/html": [
       "<div>\n",
       "<style scoped>\n",
       "    .dataframe tbody tr th:only-of-type {\n",
       "        vertical-align: middle;\n",
       "    }\n",
       "\n",
       "    .dataframe tbody tr th {\n",
       "        vertical-align: top;\n",
       "    }\n",
       "\n",
       "    .dataframe thead th {\n",
       "        text-align: right;\n",
       "    }\n",
       "</style>\n",
       "<table border=\"1\" class=\"dataframe\">\n",
       "  <thead>\n",
       "    <tr style=\"text-align: right;\">\n",
       "      <th></th>\n",
       "      <th>LP_Error</th>\n",
       "      <th>MESGraph_Error</th>\n",
       "      <th>Type_I</th>\n",
       "      <th>Type_II</th>\n",
       "    </tr>\n",
       "  </thead>\n",
       "  <tbody>\n",
       "    <tr>\n",
       "      <th>BIOMD0000000199_url.xml</th>\n",
       "      <td>False</td>\n",
       "      <td>False</td>\n",
       "      <td>False</td>\n",
       "      <td>False</td>\n",
       "    </tr>\n",
       "    <tr>\n",
       "      <th>BIOMD0000000189_url.xml</th>\n",
       "      <td>False</td>\n",
       "      <td>False</td>\n",
       "      <td>False</td>\n",
       "      <td>False</td>\n",
       "    </tr>\n",
       "    <tr>\n",
       "      <th>BIOMD0000000387_url.xml</th>\n",
       "      <td>False</td>\n",
       "      <td>False</td>\n",
       "      <td>False</td>\n",
       "      <td>False</td>\n",
       "    </tr>\n",
       "    <tr>\n",
       "      <th>BIOMD0000000397_url.xml</th>\n",
       "      <td>False</td>\n",
       "      <td>False</td>\n",
       "      <td>False</td>\n",
       "      <td>False</td>\n",
       "    </tr>\n",
       "    <tr>\n",
       "      <th>BIOMD0000000413_url.xml</th>\n",
       "      <td>False</td>\n",
       "      <td>False</td>\n",
       "      <td>False</td>\n",
       "      <td>False</td>\n",
       "    </tr>\n",
       "  </tbody>\n",
       "</table>\n",
       "</div>"
      ],
      "text/plain": [
       "                         LP_Error  MESGraph_Error  Type_I  Type_II\n",
       "BIOMD0000000199_url.xml     False           False   False    False\n",
       "BIOMD0000000189_url.xml     False           False   False    False\n",
       "BIOMD0000000387_url.xml     False           False   False    False\n",
       "BIOMD0000000397_url.xml     False           False   False    False\n",
       "BIOMD0000000413_url.xml     False           False   False    False"
      ]
     },
     "execution_count": 20,
     "metadata": {},
     "output_type": "execute_result"
    }
   ],
   "source": [
    "results = pd.DataFrame(False, index=files, columns=result_columns)\n",
    "results[:5]"
   ]
  },
  {
   "cell_type": "code",
   "execution_count": 18,
   "metadata": {},
   "outputs": [
    {
     "data": {
      "text/plain": [
       "False"
      ]
     },
     "execution_count": 18,
     "metadata": {},
     "output_type": "execute_result"
    }
   ],
   "source": [
    "results.loc[files[0]][LP_ERROR]"
   ]
  },
  {
   "cell_type": "code",
   "execution_count": null,
   "metadata": {},
   "outputs": [],
   "source": [
    "# Checking all graphs \n",
    "simple = SimpleSBML()\n",
    "for file in files:\n",
    "  try:\n",
    "    simple.initialize(os.path.join(data_dir, file))\n",
    "    m = MESGraph(simple)\n",
    "    s = StoichiometryMatrix(simple)\n",
    "    if simple.reactions:\n",
    "      m.analyze(simple.reactions, error_details=False)\n",
    "      results[file][\"LP_ERROR\"]\n",
    "    else:\n",
    "      "
   ]
  },
  {
   "cell_type": "code",
   "execution_count": 26,
   "metadata": {},
   "outputs": [
    {
     "name": "stdout",
     "output_type": "stream",
     "text": [
      "[{s1}, {s16}, {s28}, {s27}, {s121}, {s123}, {s46}, {s129}, {s75}, {s159}, {s174}, {s176}, {s183}, {s173}, {s188}, {s252}, {s61}, {s259}, {s268}, {s266}, {s155}, {s267}, {s275}, {s101}, {s278}, {s164}, {s31}, {s288}, {s102}, {s107}, {s32}, {s33}, {s245}, {s179}, {s171}, {s170}, {s172}, {s195, s305}, {s292, s37}, {s286, s30}, {s239, s5}, {s232, s260, s270, s36}]\n"
     ]
    }
   ],
   "source": [
    "simple = SimpleSBML()\n",
    "simple.initialize(os.path.join(data_dir, files[3]))\n",
    "m = MESGraph(simple)\n",
    "m.analyze(simple.reactions, error_details=False)\n",
    "print(m.nodes)"
   ]
  },
  {
   "cell_type": "code",
   "execution_count": 126,
   "metadata": {},
   "outputs": [],
   "source": [
    "import networkx as nx\n",
    "som_example = list(m.nodes)[-1]\n",
    "PathNodesReactions = collections.namedtuple('PathNodesReactions',\n",
    "    'node1 node2 reactions')\n",
    "def getSOMPath(som, mole1, mole2):\n",
    "  \"\"\"\n",
    "  Create an undirected graph between\n",
    "  two molecules within a SOM\n",
    "  and find the shortest path\n",
    "  :param SOM som:\n",
    "  :param str mole1:\n",
    "  :param str mole2:\n",
    "  :return PathNodesReactions result_data:\n",
    "  \"\"\"   \n",
    "  molecule1 = simple.getMolecule(mole1).name\n",
    "  moelcule2 = simple.getMolecule(mole2).name\n",
    "  # construct undirected graph\n",
    "  subg = nx.Graph()\n",
    "  # here, every reaction is 1-1 reaction\n",
    "  for reaction in list(som.reactions):\n",
    "    print(reaction.makeIdentifier(is_include_kinetics=False))\n",
    "    node1 = reaction.reactants[0].molecule.name\n",
    "    node2 = reaction.products[0].molecule.name\n",
    "    if subg.has_edge(node1, node2):\n",
    "      reaction_label = subg.get_edge_data(node1, node2)[cn.REACTION]\n",
    "      # if reaction.label is not already included in the attribute,\n",
    "      if reaction.label not in set(reaction_label):\n",
    "        reaction_label = reaction_label + [reaction.label]\n",
    "    else:\n",
    "      reaction_label = [reaction.label]    \n",
    "    subg.add_edge(node1, node2, reaction=reaction_label)\n",
    "  print(list(subg.edges))\n",
    "  path = [p for p in nx.shortest_path(subg, \n",
    "                                      source=mole1, \n",
    "                                      target=mole2)]\n",
    "  # if result has more than 1 element need a for loop\n",
    "  print(\"We found the shortest path from \" + mole1 + \" to \" + mole2)\n",
    "  result_data = []\n",
    "  for idx in range(len(path)-1):\n",
    "    print(path[idx] + \"=\" + path[idx+1], end=\" \")\n",
    "    edge_reactions = subg.get_edge_data(path[idx], path[idx+1])[cn.REACTION]\n",
    "    print(\"by reaction(s)\", edge_reactions)\n",
    "    result_data.append(PathNodesReactions(node1=path[idx], \n",
    "                                          node2=path[idx+1],\n",
    "                                          reactions=edge_reactions))\n",
    "  return result_data"
   ]
  },
  {
   "cell_type": "code",
   "execution_count": 131,
   "metadata": {},
   "outputs": [
    {
     "name": "stdout",
     "output_type": "stream",
     "text": [
      "r58: s36 -> s232\n",
      "re65: s260 -> s232\n",
      "re64: s270 -> s232\n",
      "[('s36', 's232'), ('s232', 's260'), ('s232', 's270')]\n",
      "We found the shortest path from s260 to s270\n",
      "s260=s232 by reaction(s) ['re65']\n",
      "s232=s270 by reaction(s) ['re64']\n"
     ]
    },
    {
     "data": {
      "text/plain": [
       "list"
      ]
     },
     "execution_count": 131,
     "metadata": {},
     "output_type": "execute_result"
    }
   ],
   "source": [
    "som_path = getSOMPath(som_example, 's260', 's270')\n",
    "type(som_path)"
   ]
  },
  {
   "cell_type": "code",
   "execution_count": 134,
   "metadata": {},
   "outputs": [
    {
     "name": "stdout",
     "output_type": "stream",
     "text": [
      "s260 = s232 by re65: s260 -> s232\n",
      "s232 = s270 by re64: s270 -> s232\n"
     ]
    }
   ],
   "source": [
    "for pat in som_path:\n",
    "\n",
    "  print(pat.node1 + \" = \" + pat.node2 + \" by\", end=\" \")\n",
    "  for r in pat.reactions:\n",
    "    reaction = simple.getReaction(r)\n",
    "    print(reaction.makeIdentifier(is_include_kinetics=False))"
   ]
  },
  {
   "cell_type": "code",
   "execution_count": 124,
   "metadata": {},
   "outputs": [
    {
     "name": "stdout",
     "output_type": "stream",
     "text": [
      "[('s36', 's232'), ('s232', 's260'), ('s232', 's270')]\n",
      "True\n",
      "True\n"
     ]
    }
   ],
   "source": [
    "print(subg.edges)\n",
    "print(subg.has_edge('s260', 's232'))\n",
    "print(subg.has_edge('s232', 's260'))"
   ]
  },
  {
   "cell_type": "code",
   "execution_count": 87,
   "metadata": {},
   "outputs": [
    {
     "name": "stdout",
     "output_type": "stream",
     "text": [
      "r58: s36 -> s232\n",
      "re65: s260 -> s232\n",
      "re64: s270 -> s232\n"
     ]
    }
   ],
   "source": [
    "som = som_example\n",
    "mole1 = 's260'\n",
    "mole2 = 's270'\n",
    "molecule1 = simple.getMolecule(mole1).name\n",
    "moelcule2 = simple.getMolecule(mole2).name\n",
    "# construct undirected graph\n",
    "subg = nx.Graph()\n",
    "# subg.add_nodes_from(som.molecules)\n",
    "# here, every reaction is 1-1 reaction\n",
    "for reaction in list(som.reactions):\n",
    "  print(reaction.makeIdentifier(is_include_kinetics=False))\n",
    "  node1 = reaction.reactants[0].molecule.name\n",
    "  node2 = reaction.products[0].molecule.name\n",
    "  if subg.has_edge(node1, node2):\n",
    "    reaction_label = subg.get_edge_data(node1, node2)[cn.REACTION]\n",
    "    # if reaction.label is not already included in the attribute,\n",
    "    if reaction.label not in set(reaction_label):\n",
    "      reaction_label = reaction_label + [reaction.label]\n",
    "  else:\n",
    "    reaction_label = [reaction.label]    \n",
    "  subg.add_edge(node1, node2, reaction=reaction_label)\n"
   ]
  },
  {
   "cell_type": "code",
   "execution_count": 11,
   "metadata": {},
   "outputs": [
    {
     "name": "stdout",
     "output_type": "stream",
     "text": [
      "/Users/woosubshin/Desktop/ModelEngineering/SBMLLint/data/BIOMD0000000596_url.xml\n",
      "showed error\n",
      "/Users/woosubshin/Desktop/ModelEngineering/SBMLLint/data/MODEL0568648427_url.xml\n",
      "showed error\n",
      "/Users/woosubshin/Desktop/ModelEngineering/SBMLLint/data/BIOMD0000000410_url.xml\n",
      "showed error\n",
      "/Users/woosubshin/Desktop/ModelEngineering/SBMLLint/data/BIOMD0000000081_url.xml\n",
      "showed error\n",
      "/Users/woosubshin/Desktop/ModelEngineering/SBMLLint/data/BIOMD0000000075_url.xml\n",
      "showed error\n",
      "/Users/woosubshin/Desktop/ModelEngineering/SBMLLint/data/BIOMD0000000094_url.xml\n",
      "showed error\n",
      "/Users/woosubshin/Desktop/ModelEngineering/SBMLLint/data/BIOMD0000000353_url.xml\n",
      "showed error\n",
      "/Users/woosubshin/Desktop/ModelEngineering/SBMLLint/data/BIOMD0000000627_url.xml\n",
      "showed error\n",
      "/Users/woosubshin/Desktop/ModelEngineering/SBMLLint/data/MODEL0072364382_url.xml\n",
      "showed error\n"
     ]
    }
   ],
   "source": [
    "import tesbml\n",
    "for error_path in error_paths:\n",
    "  document = tesbml.readSBML(error_path)\n",
    "  model = document.getModel()\n",
    "  #pm.print_model(model)\n",
    "  try:\n",
    "    simple.initialize(error_path)\n",
    "  except:\n",
    "    print(error_path)\n",
    "    print(\"showed error\")"
   ]
  },
  {
   "cell_type": "code",
   "execution_count": 7,
   "metadata": {},
   "outputs": [
    {
     "name": "stdout",
     "output_type": "stream",
     "text": [
      "rct done! now pdt\n",
      "s51\n",
      "1.0\n",
      "similar,  1.0\n",
      "<Model MODEL1508180000 \"Philipson2015 - Innate immune response modulated by NLRX1\">\n",
      "MyD88_a_HP:  -> s51;\n",
      "MyD88_d: s51 -> ;\n",
      "TRAF_d: s7 -> ;\n",
      "NFkB_a1:  -> s4;\n",
      "NFkB_d: s4 -> ;\n",
      "CytoL_a:  -> s34;\n",
      "CytoL_d: s34 -> ;\n",
      "NLRX1_d: s49 -> ;\n",
      "MyD88_a:  -> s51;\n",
      "HP_a:  -> s18;\n",
      "HP_CytoL: s18 -> ;\n",
      "NLRX1_TF:  -> s49;\n",
      "NFkB_a2:  -> s4;\n",
      "RIG_a_HP:  -> RIG;\n",
      "RIG_d: RIG -> ;\n",
      "MAVS_a:  -> MAVS;\n",
      "MAVS_d: MAVS -> ;\n",
      "IRF_a1:  -> IRF;\n",
      "IRF_a2:  -> IRF;\n",
      "IRF_a3:  -> IRF;\n",
      "IRF_d: IRF -> ;\n",
      "IFN_a:  -> IFN;\n",
      "IFN_d: IFN -> ;\n",
      "NOD_a:  -> NOD1;\n",
      "NOD_d: NOD1 -> ;\n",
      "HP_IFN: s18 -> ;\n",
      "TRAF_a:  -> s7;\n",
      "TFa_a:  -> TFa;\n",
      "TFa_d: TFa -> ;\n",
      "TFi_a:  -> TFi;\n",
      "TFi_d: TFi -> ;\n",
      "CytoE_a:  -> CytoE;\n",
      "CytoE_d: CytoE -> ;\n",
      "X_a:  -> X;\n",
      "X_d: X -> ;\n",
      "HP_CytoE: s18 -> ;\n"
     ]
    },
    {
     "data": {
      "text/plain": [
       "[]"
      ]
     },
     "execution_count": 7,
     "metadata": {},
     "output_type": "execute_result"
    }
   ],
   "source": [
    "#pm.print_model(model)\n",
    "for rct in model.getReaction(0).getListOfReactants():\n",
    "  print(rct.getSpecies())\n",
    "  print(\"similar, \", rct.species)\n",
    "  print(rct.stoichiometry)\n",
    "  print(\"similar, \", rct.getStoichiometry())\n",
    "print(\"rct done! now pdt\")\n",
    "for pdt in model.getReaction(0).getListOfProducts():\n",
    "  print(pdt.getSpecies())\n",
    "  print(pdt.stoichiometry)\n",
    "  print(\"similar, \", pdt.getStoichiometry())\n",
    "pm.print_model(model)\n",
    "\n",
    "model.getReaction(3).getId()\n",
    "[rct.stoichiometry for r in model.getReaction(3).getListOfReactants() \\\n",
    "if rct.species != \"haha\"]\n",
    "#r = Reaction(model.getReaction(3))\n",
    "#r.category"
   ]
  },
  {
   "cell_type": "code",
   "execution_count": 10,
   "metadata": {},
   "outputs": [
    {
     "ename": "AttributeError",
     "evalue": "getListOfReactants",
     "output_type": "error",
     "traceback": [
      "\u001b[0;31m---------------------------------------------------------------------------\u001b[0m",
      "\u001b[0;31mAttributeError\u001b[0m                            Traceback (most recent call last)",
      "\u001b[0;32m<ipython-input-10-e543e0485f73>\u001b[0m in \u001b[0;36m<module>\u001b[0;34m()\u001b[0m\n\u001b[0;32m----> 1\u001b[0;31m \u001b[0mmodel\u001b[0m\u001b[0;34m.\u001b[0m\u001b[0mgetListOfReactants\u001b[0m\u001b[0;34m(\u001b[0m\u001b[0;34m)\u001b[0m\u001b[0;34m\u001b[0m\u001b[0m\n\u001b[0m",
      "\u001b[0;32m~/anaconda3/lib/python3.6/site-packages/tesbml/libsbml.py\u001b[0m in \u001b[0;36m<lambda>\u001b[0;34m(self, name)\u001b[0m\n\u001b[1;32m   6860\u001b[0m     \u001b[0m__swig_getmethods__\u001b[0m \u001b[0;34m=\u001b[0m \u001b[0;34m{\u001b[0m\u001b[0;34m}\u001b[0m\u001b[0;34m\u001b[0m\u001b[0m\n\u001b[1;32m   6861\u001b[0m     \u001b[0;32mfor\u001b[0m \u001b[0m_s\u001b[0m \u001b[0;32min\u001b[0m \u001b[0;34m[\u001b[0m\u001b[0mSBase\u001b[0m\u001b[0;34m]\u001b[0m\u001b[0;34m:\u001b[0m \u001b[0m__swig_getmethods__\u001b[0m\u001b[0;34m.\u001b[0m\u001b[0mupdate\u001b[0m\u001b[0;34m(\u001b[0m\u001b[0mgetattr\u001b[0m\u001b[0;34m(\u001b[0m\u001b[0m_s\u001b[0m\u001b[0;34m,\u001b[0m\u001b[0;34m'__swig_getmethods__'\u001b[0m\u001b[0;34m,\u001b[0m\u001b[0;34m{\u001b[0m\u001b[0;34m}\u001b[0m\u001b[0;34m)\u001b[0m\u001b[0;34m)\u001b[0m\u001b[0;34m\u001b[0m\u001b[0m\n\u001b[0;32m-> 6862\u001b[0;31m     \u001b[0m__getattr__\u001b[0m \u001b[0;34m=\u001b[0m \u001b[0;32mlambda\u001b[0m \u001b[0mself\u001b[0m\u001b[0;34m,\u001b[0m \u001b[0mname\u001b[0m\u001b[0;34m:\u001b[0m \u001b[0m_swig_getattr\u001b[0m\u001b[0;34m(\u001b[0m\u001b[0mself\u001b[0m\u001b[0;34m,\u001b[0m \u001b[0mModel\u001b[0m\u001b[0;34m,\u001b[0m \u001b[0mname\u001b[0m\u001b[0;34m)\u001b[0m\u001b[0;34m\u001b[0m\u001b[0m\n\u001b[0m\u001b[1;32m   6863\u001b[0m     \u001b[0m__repr__\u001b[0m \u001b[0;34m=\u001b[0m \u001b[0m_swig_repr\u001b[0m\u001b[0;34m\u001b[0m\u001b[0m\n\u001b[1;32m   6864\u001b[0m     \u001b[0m__swig_destroy__\u001b[0m \u001b[0;34m=\u001b[0m \u001b[0m_libsbml\u001b[0m\u001b[0;34m.\u001b[0m\u001b[0mdelete_Model\u001b[0m\u001b[0;34m\u001b[0m\u001b[0m\n",
      "\u001b[0;32m~/anaconda3/lib/python3.6/site-packages/tesbml/libsbml.py\u001b[0m in \u001b[0;36m_swig_getattr\u001b[0;34m(self, class_type, name)\u001b[0m\n\u001b[1;32m     55\u001b[0m     \u001b[0mmethod\u001b[0m \u001b[0;34m=\u001b[0m \u001b[0mclass_type\u001b[0m\u001b[0;34m.\u001b[0m\u001b[0m__swig_getmethods__\u001b[0m\u001b[0;34m.\u001b[0m\u001b[0mget\u001b[0m\u001b[0;34m(\u001b[0m\u001b[0mname\u001b[0m\u001b[0;34m,\u001b[0m\u001b[0;32mNone\u001b[0m\u001b[0;34m)\u001b[0m\u001b[0;34m\u001b[0m\u001b[0m\n\u001b[1;32m     56\u001b[0m     \u001b[0;32mif\u001b[0m \u001b[0mmethod\u001b[0m\u001b[0;34m:\u001b[0m \u001b[0;32mreturn\u001b[0m \u001b[0mmethod\u001b[0m\u001b[0;34m(\u001b[0m\u001b[0mself\u001b[0m\u001b[0;34m)\u001b[0m\u001b[0;34m\u001b[0m\u001b[0m\n\u001b[0;32m---> 57\u001b[0;31m     \u001b[0;32mraise\u001b[0m \u001b[0mAttributeError\u001b[0m\u001b[0;34m(\u001b[0m\u001b[0mname\u001b[0m\u001b[0;34m)\u001b[0m\u001b[0;34m\u001b[0m\u001b[0m\n\u001b[0m\u001b[1;32m     58\u001b[0m \u001b[0;34m\u001b[0m\u001b[0m\n\u001b[1;32m     59\u001b[0m \u001b[0;32mdef\u001b[0m \u001b[0m_swig_repr\u001b[0m\u001b[0;34m(\u001b[0m\u001b[0mself\u001b[0m\u001b[0;34m)\u001b[0m\u001b[0;34m:\u001b[0m\u001b[0;34m\u001b[0m\u001b[0m\n",
      "\u001b[0;31mAttributeError\u001b[0m: getListOfReactants"
     ]
    }
   ],
   "source": [
    "model.getLgetListOfReactants()"
   ]
  },
  {
   "cell_type": "code",
   "execution_count": 56,
   "metadata": {},
   "outputs": [],
   "source": [
    "REACTION_1_1 = \"reaction_1_1\"\n",
    "REACTION_n_1 = \"reaction_n_1\"\n",
    "REACTION_1_n = \"reaction_1_n\"\n",
    "REACTION_n_n = \"reaction_n_n\"\n",
    "REACTION_BOUNDARY = \"reaction_boundary\"\n",
    "ReactionCategory = collections.namedtuple('ReactionCategory',\n",
    "    'category predicate')\n",
    "REACTION_CATEGORIES = [\n",
    "    ReactionCategory(category=REACTION_1_1,\n",
    "        predicate=lambda x,y,z,w: (x==1) and (y==1) and (z==w)),\n",
    "    ReactionCategory(category=REACTION_1_n,\n",
    "        predicate=lambda x,y,z,w: ((x==1) and (y>1) and (z==1.00)) or ((x==1) and (y==1) and (z<w))),\n",
    "    ReactionCategory(category=REACTION_n_1,\n",
    "        predicate=lambda x,y,z,w: ((x>1) and (y==1) and (w==1.00)) or ((x==1) and (y==1) and (z>w))),\n",
    "    ReactionCategory(category=REACTION_n_n,\n",
    "        predicate=lambda x,y,z,w: ((x>1) and (y>1)) or ((x==1) and (y>1) and (z!=1.00)) or ((x>1) and (y==1) and (w!=1.00))),\n",
    "    ReactionCategory(category=REACTION_BOUNDARY,\n",
    "        predicate=lambda x,y,z,w: (x==0) or (y==0) or (z==0) or (w==0)),\n",
    "    ]"
   ]
  },
  {
   "cell_type": "code",
   "execution_count": 57,
   "metadata": {},
   "outputs": [
    {
     "name": "stdout",
     "output_type": "stream",
     "text": [
      "x = 3 ;y = 1 ;z = 4.0 ;w = 2.0\n",
      "reaction_n_n\n",
      "x = 3 ;y = 1 ;z = 4.0 ;w = 1.5\n",
      "reaction_n_n\n",
      "x = 1 ;y = 1 ;z = 1.0 ;w = 1.0\n",
      "reaction_1_1\n",
      "x = 1 ;y = 1 ;z = 1.0 ;w = 1.0\n",
      "reaction_1_1\n"
     ]
    }
   ],
   "source": [
    "for reaction in model.getListOfReactions():\n",
    "  num_rct = len([r.species for r in reaction.getListOfReactants()])\n",
    "  num_pdt = len([p.species for p in reaction.getListOfProducts()])\n",
    "  stoi_rct = sum([r.stoichiometry for r in reaction.getListOfReactants()])\n",
    "  stoi_pdt = sum([p.stoichiometry for p in reaction.getListOfProducts()])\n",
    "  print(\"x =\", num_rct, \";y =\", num_pdt, \";z =\", stoi_rct, \";w =\", stoi_pdt)\n",
    "  for reaction_category in REACTION_CATEGORIES:\n",
    "    if reaction_category.predicate(num_rct, num_pdt, \n",
    "                                 stoi_rct, stoi_pdt):\n",
    "      print(reaction_category.category)"
   ]
  },
  {
   "cell_type": "code",
   "execution_count": 49,
   "metadata": {},
   "outputs": [
    {
     "name": "stdout",
     "output_type": "stream",
     "text": [
      "<Model \"Arnold2011_Damour2007_RuBisCO-CalvinCycle\">\n",
      "PGA_prod_Vc: RuBP + CO2 + NADPH -> PGA;\n",
      "PGA_prod_Vo: RuBP + O2 + NADPH -> PGA;\n",
      "PGA_cons: PGA -> RuBP;\n",
      "NADPH_prod: NADP -> NADPH;\n"
     ]
    }
   ],
   "source": [
    "pm.print_model(model)"
   ]
  },
  {
   "cell_type": "code",
   "execution_count": 51,
   "metadata": {},
   "outputs": [
    {
     "data": {
      "text/plain": [
       "True"
      ]
     },
     "execution_count": 51,
     "metadata": {},
     "output_type": "execute_result"
    }
   ],
   "source": [
    "x = 3 ;y = 1 ;z = 4.0 ;w = 2.0\n",
    "((x>1) and (y==1) and (w!=1.00))"
   ]
  },
  {
   "cell_type": "code",
   "execution_count": 53,
   "metadata": {},
   "outputs": [
    {
     "data": {
      "text/plain": [
       "True"
      ]
     },
     "execution_count": 53,
     "metadata": {},
     "output_type": "execute_result"
    }
   ],
   "source": [
    "((x>1) and (y>1)) or ((x==1) and (y>1) and (z!=1.00)) or ((x>1) and (y==1) and (w!=1.00))"
   ]
  },
  {
   "cell_type": "code",
   "execution_count": null,
   "metadata": {},
   "outputs": [],
   "source": []
  }
 ],
 "metadata": {
  "kernelspec": {
   "display_name": "Python 3",
   "language": "python",
   "name": "python3"
  },
  "language_info": {
   "codemirror_mode": {
    "name": "ipython",
    "version": 3
   },
   "file_extension": ".py",
   "mimetype": "text/x-python",
   "name": "python",
   "nbconvert_exporter": "python",
   "pygments_lexer": "ipython3",
   "version": "3.6.3"
  }
 },
 "nbformat": 4,
 "nbformat_minor": 2
}
