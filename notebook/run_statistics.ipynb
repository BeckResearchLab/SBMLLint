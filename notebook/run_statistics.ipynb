{
 "cells": [
  {
   "cell_type": "code",
   "execution_count": 1,
   "metadata": {},
   "outputs": [
    {
     "name": "stdout",
     "output_type": "stream",
     "text": [
      "Current Directory: /Users/woosubs/Desktop/ModelEngineering/SBMLLint/SBMLLint/notebook\n"
     ]
    }
   ],
   "source": [
    "from games_setup import *\n",
    "import SBMLLint.common.constants as cn\n",
    "from SBMLLint.common.reaction import Reaction\n",
    "from SBMLLint.common.stoichiometry_matrix import StoichiometryMatrix\n",
    "from SBMLLint.games.som import SOM\n",
    "from SBMLLint.games.mesgraph import MESGraph\n",
    "from SBMLLint.games.games_pp import GAMES_PP, SOMStoichiometry, SOMReaction, TOLERANCE\n",
    "from SBMLLint.games.games_report import GAMESReport, SimplifiedReaction\n",
    "import collections\n",
    "import tesbml\n",
    "import numpy as np\n",
    "import pandas as pd\n",
    "import matplotlib.pyplot as plt\n",
    "%matplotlib inline\n",
    "import time"
   ]
  },
  {
   "cell_type": "code",
   "execution_count": 2,
   "metadata": {},
   "outputs": [],
   "source": [
    "data_dir=cn.BIOMODELS_DIR\n",
    "#files = [f for f in os.listdir(data_dir) if f[-4:] == \".xml\"]\n",
    "files = [f for f in os.listdir(data_dir) if f[:7] == \"BIOMD00\"]\n",
    "paths = [os.path.join(data_dir, filename) for filename in files]"
   ]
  },
  {
   "cell_type": "code",
   "execution_count": 3,
   "metadata": {},
   "outputs": [
    {
     "data": {
      "text/plain": [
       "'/Users/woosubs/Desktop/ModelEngineering/SBMLLint/SBMLLint/data/biomodels'"
      ]
     },
     "execution_count": 3,
     "metadata": {},
     "output_type": "execute_result"
    }
   ],
   "source": [
    "data_dir"
   ]
  },
  {
   "cell_type": "code",
   "execution_count": 4,
   "metadata": {},
   "outputs": [
    {
     "data": {
      "text/plain": [
       "656"
      ]
     },
     "execution_count": 4,
     "metadata": {},
     "output_type": "execute_result"
    }
   ],
   "source": [
    "len(files)"
   ]
  },
  {
   "cell_type": "code",
   "execution_count": 5,
   "metadata": {},
   "outputs": [],
   "source": [
    "# statistics columns\n",
    "NUM_REACTIONS = \"num_reactions(nonbdry)\"\n",
    "LP_ERROR = \"lp_error\"\n",
    "GAMES_ERROR = \"games_error\"\n",
    "GAMESPP_ERROR = \"gamespp_error\"\n",
    "TYPEI_ERROR = \"type1_error\"\n",
    "TYPEII_ERROR = \"type2_error\"\n",
    "CANCELING_ERROR = \"canceling_error\"\n",
    "ECHELON_ERROR = \"echelon_error\"\n",
    "TYPEIII_ERROR = \"type3_error\"\n",
    "result_columns = [NUM_REACTIONS,\n",
    "                  LP_ERROR,\n",
    "                  GAMES_ERROR,\n",
    "                  GAMESPP_ERROR,\n",
    "                  TYPEI_ERROR,\n",
    "                  TYPEII_ERROR,\n",
    "                  CANCELING_ERROR,\n",
    "                  ECHELON_ERROR,\n",
    "                  TYPEIII_ERROR]\n",
    "## invertible matrix column? \n",
    "# INVERTIBLE = \"l_inverse\""
   ]
  },
  {
   "cell_type": "code",
   "execution_count": 6,
   "metadata": {},
   "outputs": [
    {
     "data": {
      "text/html": [
       "<div>\n",
       "<style scoped>\n",
       "    .dataframe tbody tr th:only-of-type {\n",
       "        vertical-align: middle;\n",
       "    }\n",
       "\n",
       "    .dataframe tbody tr th {\n",
       "        vertical-align: top;\n",
       "    }\n",
       "\n",
       "    .dataframe thead th {\n",
       "        text-align: right;\n",
       "    }\n",
       "</style>\n",
       "<table border=\"1\" class=\"dataframe\">\n",
       "  <thead>\n",
       "    <tr style=\"text-align: right;\">\n",
       "      <th></th>\n",
       "      <th>num_reactions(nonbdry)</th>\n",
       "      <th>lp_error</th>\n",
       "      <th>games_error</th>\n",
       "      <th>gamespp_error</th>\n",
       "      <th>type1_error</th>\n",
       "      <th>type2_error</th>\n",
       "      <th>canceling_error</th>\n",
       "      <th>echelon_error</th>\n",
       "      <th>type3_error</th>\n",
       "    </tr>\n",
       "  </thead>\n",
       "  <tbody>\n",
       "    <tr>\n",
       "      <th>BIOMD0000000199_url.xml</th>\n",
       "      <td>0</td>\n",
       "      <td>0</td>\n",
       "      <td>0</td>\n",
       "      <td>0</td>\n",
       "      <td>0</td>\n",
       "      <td>0</td>\n",
       "      <td>0</td>\n",
       "      <td>0</td>\n",
       "      <td>0</td>\n",
       "    </tr>\n",
       "    <tr>\n",
       "      <th>BIOMD0000000189_url.xml</th>\n",
       "      <td>0</td>\n",
       "      <td>0</td>\n",
       "      <td>0</td>\n",
       "      <td>0</td>\n",
       "      <td>0</td>\n",
       "      <td>0</td>\n",
       "      <td>0</td>\n",
       "      <td>0</td>\n",
       "      <td>0</td>\n",
       "    </tr>\n",
       "    <tr>\n",
       "      <th>BIOMD0000000387_url.xml</th>\n",
       "      <td>0</td>\n",
       "      <td>0</td>\n",
       "      <td>0</td>\n",
       "      <td>0</td>\n",
       "      <td>0</td>\n",
       "      <td>0</td>\n",
       "      <td>0</td>\n",
       "      <td>0</td>\n",
       "      <td>0</td>\n",
       "    </tr>\n",
       "    <tr>\n",
       "      <th>BIOMD0000000397_url.xml</th>\n",
       "      <td>0</td>\n",
       "      <td>0</td>\n",
       "      <td>0</td>\n",
       "      <td>0</td>\n",
       "      <td>0</td>\n",
       "      <td>0</td>\n",
       "      <td>0</td>\n",
       "      <td>0</td>\n",
       "      <td>0</td>\n",
       "    </tr>\n",
       "    <tr>\n",
       "      <th>BIOMD0000000413_url.xml</th>\n",
       "      <td>0</td>\n",
       "      <td>0</td>\n",
       "      <td>0</td>\n",
       "      <td>0</td>\n",
       "      <td>0</td>\n",
       "      <td>0</td>\n",
       "      <td>0</td>\n",
       "      <td>0</td>\n",
       "      <td>0</td>\n",
       "    </tr>\n",
       "  </tbody>\n",
       "</table>\n",
       "</div>"
      ],
      "text/plain": [
       "                         num_reactions(nonbdry)  lp_error  games_error  \\\n",
       "BIOMD0000000199_url.xml                       0         0            0   \n",
       "BIOMD0000000189_url.xml                       0         0            0   \n",
       "BIOMD0000000387_url.xml                       0         0            0   \n",
       "BIOMD0000000397_url.xml                       0         0            0   \n",
       "BIOMD0000000413_url.xml                       0         0            0   \n",
       "\n",
       "                         gamespp_error  type1_error  type2_error  \\\n",
       "BIOMD0000000199_url.xml              0            0            0   \n",
       "BIOMD0000000189_url.xml              0            0            0   \n",
       "BIOMD0000000387_url.xml              0            0            0   \n",
       "BIOMD0000000397_url.xml              0            0            0   \n",
       "BIOMD0000000413_url.xml              0            0            0   \n",
       "\n",
       "                         canceling_error  echelon_error  type3_error  \n",
       "BIOMD0000000199_url.xml                0              0            0  \n",
       "BIOMD0000000189_url.xml                0              0            0  \n",
       "BIOMD0000000387_url.xml                0              0            0  \n",
       "BIOMD0000000397_url.xml                0              0            0  \n",
       "BIOMD0000000413_url.xml                0              0            0  "
      ]
     },
     "execution_count": 6,
     "metadata": {},
     "output_type": "execute_result"
    }
   ],
   "source": [
    "results = pd.DataFrame(0, index=files, columns=result_columns)\n",
    "results[:5]"
   ]
  },
  {
   "cell_type": "code",
   "execution_count": null,
   "metadata": {},
   "outputs": [],
   "source": []
  },
  {
   "cell_type": "code",
   "execution_count": 7,
   "metadata": {},
   "outputs": [
    {
     "name": "stdout",
     "output_type": "stream",
     "text": [
      "consistent?  False\n"
     ]
    },
    {
     "name": "stderr",
     "output_type": "stream",
     "text": [
      "//anaconda3/envs/sbmllint_env/lib/python3.6/site-packages/scipy/optimize/_linprog_util.py:763: OptimizeWarning:\n",
      "\n",
      "A_eq does not appear to be of full row rank. To improve performance, check the problem formulation for redundant equality constraints.\n",
      "\n"
     ]
    }
   ],
   "source": [
    "simple = SimpleSBML()\n",
    "simple.initialize(os.path.join(data_dir, \"BIOMD0000000244_url.xml\"))\n",
    "s = StoichiometryMatrix(simple)\n",
    "consistent = s.isConsistent()\n",
    "print(\"consistent? \", consistent)"
   ]
  },
  {
   "cell_type": "code",
   "execution_count": 8,
   "metadata": {},
   "outputs": [
    {
     "name": "stderr",
     "output_type": "stream",
     "text": [
      "/Users/woosubs/Desktop/ModelEngineering/SBMLLint/SBMLLint/SBMLLint/common/stoichiometry_matrix.py:88: OptimizeWarning:\n",
      "\n",
      "Solving system with option 'cholesky':True failed. It is normal for this to happen occasionally, especially as the solution is approached. However, if you see this frequently, consider setting option 'cholesky' to False.\n",
      "\n",
      "/Users/woosubs/Desktop/ModelEngineering/SBMLLint/SBMLLint/SBMLLint/common/stoichiometry_matrix.py:88: OptimizeWarning:\n",
      "\n",
      "Solving system with option 'sym_pos':True failed. It is normal for this to happen occasionally, especially as the solution is approached. However, if you see this frequently, consider setting option 'sym_pos' to False.\n",
      "\n",
      "//anaconda3/envs/sbmllint_env/lib/python3.6/site-packages/scipy/optimize/_linprog_ip.py:110: LinAlgWarning:\n",
      "\n",
      "Ill-conditioned matrix (rcond=1.99514e-18): result may not be accurate.\n",
      "\n",
      "//anaconda3/envs/sbmllint_env/lib/python3.6/site-packages/scipy/optimize/_linprog_ip.py:110: LinAlgWarning:\n",
      "\n",
      "Ill-conditioned matrix (rcond=1.12898e-35): result may not be accurate.\n",
      "\n",
      "//anaconda3/envs/sbmllint_env/lib/python3.6/site-packages/scipy/optimize/_linprog_ip.py:110: LinAlgWarning:\n",
      "\n",
      "Ill-conditioned matrix (rcond=2.79846e-19): result may not be accurate.\n",
      "\n",
      "/Users/woosubs/Desktop/ModelEngineering/SBMLLint/SBMLLint/SBMLLint/common/stoichiometry_matrix.py:88: OptimizeWarning:\n",
      "\n",
      "Solving system with option 'sym_pos':False failed. This may happen occasionally, especially as the solution is approached. However, if you see this frequently, your problem may be numerically challenging. If you cannot improve the formulation, consider setting 'lstsq' to True. Consider also setting `presolve` to True, if it is not already.\n",
      "\n",
      "//anaconda3/envs/sbmllint_env/lib/python3.6/site-packages/scipy/optimize/_linprog_ip.py:110: LinAlgWarning:\n",
      "\n",
      "Ill-conditioned matrix (rcond=2.43504e-19): result may not be accurate.\n",
      "\n",
      "//anaconda3/envs/sbmllint_env/lib/python3.6/site-packages/scipy/optimize/_linprog_ip.py:110: LinAlgWarning:\n",
      "\n",
      "Ill-conditioned matrix (rcond=4.92811e-26): result may not be accurate.\n",
      "\n",
      "//anaconda3/envs/sbmllint_env/lib/python3.6/site-packages/scipy/optimize/_linprog_ip.py:110: LinAlgWarning:\n",
      "\n",
      "Ill-conditioned matrix (rcond=8.10991e-22): result may not be accurate.\n",
      "\n",
      "//anaconda3/envs/sbmllint_env/lib/python3.6/site-packages/scipy/optimize/_linprog_ip.py:110: LinAlgWarning:\n",
      "\n",
      "Ill-conditioned matrix (rcond=7.5858e-23): result may not be accurate.\n",
      "\n"
     ]
    },
    {
     "name": "stdout",
     "output_type": "stream",
     "text": [
      "we are analyzing Model number: 100\n"
     ]
    },
    {
     "name": "stderr",
     "output_type": "stream",
     "text": [
      "//anaconda3/envs/sbmllint_env/lib/python3.6/site-packages/scipy/optimize/_linprog_ip.py:110: LinAlgWarning:\n",
      "\n",
      "Ill-conditioned matrix (rcond=1.86384e-35): result may not be accurate.\n",
      "\n",
      "//anaconda3/envs/sbmllint_env/lib/python3.6/site-packages/scipy/optimize/_linprog_ip.py:110: LinAlgWarning:\n",
      "\n",
      "Ill-conditioned matrix (rcond=6.83193e-21): result may not be accurate.\n",
      "\n",
      "//anaconda3/envs/sbmllint_env/lib/python3.6/site-packages/scipy/optimize/_linprog_ip.py:110: LinAlgWarning:\n",
      "\n",
      "Ill-conditioned matrix (rcond=4.11351e-35): result may not be accurate.\n",
      "\n",
      "//anaconda3/envs/sbmllint_env/lib/python3.6/site-packages/scipy/optimize/_linprog_ip.py:110: LinAlgWarning:\n",
      "\n",
      "Ill-conditioned matrix (rcond=6.72697e-21): result may not be accurate.\n",
      "\n",
      "//anaconda3/envs/sbmllint_env/lib/python3.6/site-packages/scipy/optimize/_linprog_ip.py:110: LinAlgWarning:\n",
      "\n",
      "Ill-conditioned matrix (rcond=5.83777e-20): result may not be accurate.\n",
      "\n",
      "//anaconda3/envs/sbmllint_env/lib/python3.6/site-packages/scipy/optimize/_linprog_ip.py:110: LinAlgWarning:\n",
      "\n",
      "Ill-conditioned matrix (rcond=4.96133e-20): result may not be accurate.\n",
      "\n"
     ]
    },
    {
     "name": "stdout",
     "output_type": "stream",
     "text": [
      "we are analyzing Model number: 200\n"
     ]
    },
    {
     "name": "stderr",
     "output_type": "stream",
     "text": [
      "//anaconda3/envs/sbmllint_env/lib/python3.6/site-packages/scipy/optimize/_linprog_ip.py:110: LinAlgWarning:\n",
      "\n",
      "Ill-conditioned matrix (rcond=1.28673e-17): result may not be accurate.\n",
      "\n"
     ]
    },
    {
     "name": "stdout",
     "output_type": "stream",
     "text": [
      "we are analyzing Model number: 300\n"
     ]
    },
    {
     "name": "stderr",
     "output_type": "stream",
     "text": [
      "//anaconda3/envs/sbmllint_env/lib/python3.6/site-packages/scipy/optimize/_linprog_ip.py:110: LinAlgWarning:\n",
      "\n",
      "Ill-conditioned matrix (rcond=7.61841e-19): result may not be accurate.\n",
      "\n",
      "//anaconda3/envs/sbmllint_env/lib/python3.6/site-packages/scipy/optimize/_linprog_ip.py:110: LinAlgWarning:\n",
      "\n",
      "Ill-conditioned matrix (rcond=1.09096e-20): result may not be accurate.\n",
      "\n"
     ]
    },
    {
     "name": "stdout",
     "output_type": "stream",
     "text": [
      "we are analyzing Model number: 400\n"
     ]
    },
    {
     "name": "stderr",
     "output_type": "stream",
     "text": [
      "//anaconda3/envs/sbmllint_env/lib/python3.6/site-packages/scipy/optimize/_linprog_ip.py:110: LinAlgWarning:\n",
      "\n",
      "Ill-conditioned matrix (rcond=3.37511e-19): result may not be accurate.\n",
      "\n",
      "//anaconda3/envs/sbmllint_env/lib/python3.6/site-packages/scipy/optimize/_linprog_ip.py:110: LinAlgWarning:\n",
      "\n",
      "Ill-conditioned matrix (rcond=2.56377e-18): result may not be accurate.\n",
      "\n",
      "//anaconda3/envs/sbmllint_env/lib/python3.6/site-packages/scipy/optimize/_linprog_ip.py:110: LinAlgWarning:\n",
      "\n",
      "Ill-conditioned matrix (rcond=1.49853e-19): result may not be accurate.\n",
      "\n",
      "//anaconda3/envs/sbmllint_env/lib/python3.6/site-packages/scipy/optimize/_linprog_ip.py:110: LinAlgWarning:\n",
      "\n",
      "Ill-conditioned matrix (rcond=4.80563e-20): result may not be accurate.\n",
      "\n"
     ]
    },
    {
     "name": "stdout",
     "output_type": "stream",
     "text": [
      "we are analyzing Model number: 500\n"
     ]
    },
    {
     "name": "stderr",
     "output_type": "stream",
     "text": [
      "//anaconda3/envs/sbmllint_env/lib/python3.6/site-packages/scipy/optimize/_linprog_ip.py:110: LinAlgWarning:\n",
      "\n",
      "Ill-conditioned matrix (rcond=3.72045e-18): result may not be accurate.\n",
      "\n",
      "//anaconda3/envs/sbmllint_env/lib/python3.6/site-packages/scipy/optimize/_linprog_ip.py:110: LinAlgWarning:\n",
      "\n",
      "Ill-conditioned matrix (rcond=3.67095e-36): result may not be accurate.\n",
      "\n",
      "//anaconda3/envs/sbmllint_env/lib/python3.6/site-packages/scipy/optimize/_linprog_ip.py:110: LinAlgWarning:\n",
      "\n",
      "Ill-conditioned matrix (rcond=6.20275e-36): result may not be accurate.\n",
      "\n",
      "//anaconda3/envs/sbmllint_env/lib/python3.6/site-packages/scipy/optimize/_linprog_ip.py:110: LinAlgWarning:\n",
      "\n",
      "Ill-conditioned matrix (rcond=1.10128e-35): result may not be accurate.\n",
      "\n",
      "//anaconda3/envs/sbmllint_env/lib/python3.6/site-packages/scipy/optimize/_linprog_ip.py:110: LinAlgWarning:\n",
      "\n",
      "Ill-conditioned matrix (rcond=3.58365e-19): result may not be accurate.\n",
      "\n",
      "//anaconda3/envs/sbmllint_env/lib/python3.6/site-packages/scipy/optimize/_linprog_ip.py:110: LinAlgWarning:\n",
      "\n",
      "Ill-conditioned matrix (rcond=5.27979e-19): result may not be accurate.\n",
      "\n",
      "//anaconda3/envs/sbmllint_env/lib/python3.6/site-packages/scipy/optimize/_linprog_ip.py:110: LinAlgWarning:\n",
      "\n",
      "Ill-conditioned matrix (rcond=6.21334e-19): result may not be accurate.\n",
      "\n"
     ]
    },
    {
     "name": "stdout",
     "output_type": "stream",
     "text": [
      "we are analyzing Model number: 600\n"
     ]
    },
    {
     "name": "stderr",
     "output_type": "stream",
     "text": [
      "//anaconda3/envs/sbmllint_env/lib/python3.6/site-packages/scipy/optimize/_linprog_ip.py:110: LinAlgWarning:\n",
      "\n",
      "Ill-conditioned matrix (rcond=4.77536e-21): result may not be accurate.\n",
      "\n",
      "//anaconda3/envs/sbmllint_env/lib/python3.6/site-packages/scipy/optimize/_linprog_ip.py:110: LinAlgWarning:\n",
      "\n",
      "Ill-conditioned matrix (rcond=1.25833e-21): result may not be accurate.\n",
      "\n"
     ]
    },
    {
     "name": "stdout",
     "output_type": "stream",
     "text": [
      "Analysis finished!\n",
      "LP time: 46.06716799736023\n"
     ]
    }
   ],
   "source": [
    "# LP only\n",
    "simple = SimpleSBML()\n",
    "count = 0\n",
    "lp_start = time.time()\n",
    "for file in files:\n",
    "  count += 1\n",
    "  if (count%100)==0:\n",
    "    print(\"we are analyzing Model number:\", count)\n",
    "  try:\n",
    "    simple.initialize(os.path.join(data_dir, file))\n",
    "    s = StoichiometryMatrix(simple)\n",
    "    num_reactions = s.stoichiometry_matrix.shape[1]\n",
    "    results.at[file, NUM_REACTIONS] = num_reactions\n",
    "    if num_reactions:\n",
    "      consistent = s.isConsistent()\n",
    "    else:\n",
    "      consistent = -1\n",
    "    results.at[file, LP_ERROR] = 1 - int(consistent)\n",
    "  except:\n",
    "    results.at[file, LP_ERROR] = -1\n",
    "lp_end = time.time()\n",
    "lp_time = lp_end - lp_start\n",
    "print(\"Analysis finished!\")\n",
    "print(\"LP time:\", lp_time)"
   ]
  },
  {
   "cell_type": "code",
   "execution_count": 9,
   "metadata": {},
   "outputs": [
    {
     "name": "stdout",
     "output_type": "stream",
     "text": [
      "(Mean) ISS for LP is: 55.51048951048951\n",
      "(STD) ISS for LP is: 94.38982308045166\n"
     ]
    }
   ],
   "source": [
    "lp_results = results[results[LP_ERROR] == 1]\n",
    "len(lp_results)\n",
    "print(\"(Mean) ISS for LP is:\", np.mean(lp_results[NUM_REACTIONS]))\n",
    "print(\"(STD) ISS for LP is:\", np.std(lp_results[NUM_REACTIONS]))"
   ]
  },
  {
   "cell_type": "code",
   "execution_count": null,
   "metadata": {},
   "outputs": [],
   "source": []
  },
  {
   "cell_type": "code",
   "execution_count": null,
   "metadata": {},
   "outputs": [],
   "source": []
  },
  {
   "cell_type": "code",
   "execution_count": null,
   "metadata": {},
   "outputs": [],
   "source": []
  },
  {
   "cell_type": "code",
   "execution_count": 10,
   "metadata": {},
   "outputs": [
    {
     "data": {
      "text/plain": [
       "143"
      ]
     },
     "execution_count": 10,
     "metadata": {},
     "output_type": "execute_result"
    }
   ],
   "source": [
    "len(results[results[LP_ERROR]==1])"
   ]
  },
  {
   "cell_type": "code",
   "execution_count": 11,
   "metadata": {},
   "outputs": [
    {
     "data": {
      "text/plain": [
       "5"
      ]
     },
     "execution_count": 11,
     "metadata": {},
     "output_type": "execute_result"
    }
   ],
   "source": [
    "len(results[results[LP_ERROR]==-1])"
   ]
  },
  {
   "cell_type": "code",
   "execution_count": 12,
   "metadata": {},
   "outputs": [
    {
     "name": "stdout",
     "output_type": "stream",
     "text": [
      "we are analyzing Model number: 100\n",
      "we are analyzing Model number: 200\n",
      "we are analyzing Model number: 300\n",
      "we are analyzing Model number: 400\n",
      "we are analyzing Model number: 500\n",
      "we are analyzing Model number: 600\n",
      "Analysis finished!\n",
      "GAMES time: 106.94337201118469\n"
     ]
    }
   ],
   "source": [
    "# GAMES only\n",
    "simple = SimpleSBML()\n",
    "count = 0\n",
    "games_start = time.time()\n",
    "for file in files:\n",
    "  count += 1\n",
    "  if (count%100)==0:\n",
    "    print(\"we are analyzing Model number:\", count)\n",
    "  try:\n",
    "    simple.initialize(os.path.join(data_dir, file))\n",
    "    m = GAMES_PP(simple)\n",
    "    if simple.reactions:\n",
    "      res = m.analyze(simple_games=True, error_details=False)\n",
    "      results.at[file, GAMES_ERROR] = int(res)\n",
    "      if res:\n",
    "        gr = GAMESReport(m)\n",
    "        summary = m.error_summary\n",
    "        if m.type_one_errors:\n",
    "          results.at[file, TYPEI_ERROR] = len(m.type_one_errors)\n",
    "          report, error_num = gr.reportTypeOneError(m.type_one_errors, explain_details=True)\n",
    "        if m.type_two_errors:\n",
    "          results.at[file, TYPEII_ERROR] = len(m.type_two_errors)\n",
    "          report, error_num = gr.reportTypeTwoError(m.type_two_errors, explain_details=True)\n",
    "  except:\n",
    "    results.at[file, GAMES_ERROR] = -1   \n",
    "games_end = time.time()\n",
    "games_time = games_end - games_start\n",
    "print(\"Analysis finished!\")\n",
    "print(\"GAMES time:\", games_time)"
   ]
  },
  {
   "cell_type": "code",
   "execution_count": 13,
   "metadata": {},
   "outputs": [
    {
     "name": "stdout",
     "output_type": "stream",
     "text": [
      "106.94337201118469\n"
     ]
    }
   ],
   "source": [
    "print(games_time)"
   ]
  },
  {
   "cell_type": "code",
   "execution_count": 14,
   "metadata": {},
   "outputs": [
    {
     "name": "stdout",
     "output_type": "stream",
     "text": [
      "number of detected errors:  109\n",
      "number of GAMES but not in LP 0\n"
     ]
    }
   ],
   "source": [
    "print(\"number of detected errors: \", len(results[results[GAMES_ERROR]==1]))\n",
    "print(\"number of GAMES but not in LP\", len(results[(results[GAMES_ERROR]==1) & (results[LP_ERROR]!=1)]))"
   ]
  },
  {
   "cell_type": "code",
   "execution_count": 15,
   "metadata": {},
   "outputs": [
    {
     "data": {
      "text/plain": [
       "5"
      ]
     },
     "execution_count": 15,
     "metadata": {},
     "output_type": "execute_result"
    }
   ],
   "source": [
    "len(results[results[GAMES_ERROR]==-1])"
   ]
  },
  {
   "cell_type": "code",
   "execution_count": 43,
   "metadata": {},
   "outputs": [
    {
     "name": "stdout",
     "output_type": "stream",
     "text": [
      "Model BIOMD0000000478_url.xml has an inexplainable Echelon Error\n",
      "As the lower matrix has a condition number 8.590581\n",
      "Decide if the matrix is invertible\n",
      "Model BIOMD0000000478_url.xml has an inexplainable Type III Error\n",
      "As the lower matrix has a condition number 8.590581\n",
      "Decide if the matrix is invertible\n",
      "we are analyzing Model number: 100\n",
      "The L matrix of the model BIOMD0000000628_url.xml has a condition number 501.451879.\n",
      "Model BIOMD0000000628_url.xml has an inexplainable Echelon Error\n",
      "As the lower matrix has a condition number 501.451879\n",
      "Decide if the matrix is invertible\n",
      "Model BIOMD0000000628_url.xml has an inexplainable Type III Error\n",
      "As the lower matrix has a condition number 501.451879\n",
      "Decide if the matrix is invertible\n",
      "we are analyzing Model number: 200\n",
      "we are analyzing Model number: 300\n",
      "we are analyzing Model number: 400\n",
      "The L matrix of the model BIOMD0000000574_url.xml has a condition number 718.276667.\n",
      "Model BIOMD0000000574_url.xml has an inexplainable Echelon Error\n",
      "As the lower matrix has a condition number 718.276667\n",
      "Decide if the matrix is invertible\n",
      "we are analyzing Model number: 500\n",
      "Model BIOMD0000000498_url.xml has an inexplainable Echelon Error\n",
      "As the lower matrix has a condition number 19.614586\n",
      "Decide if the matrix is invertible\n",
      "we are analyzing Model number: 600\n",
      "Model BIOMD0000000243_url.xml has an inexplainable Type III Error\n",
      "As the lower matrix has a condition number 11.701284\n",
      "Decide if the matrix is invertible\n",
      "Analysis finished!\n",
      "GAMES++ time: 196.97502183914185\n"
     ]
    }
   ],
   "source": [
    "# GAMES+\n",
    "# file, GAMES_ERROR coding:\n",
    "# 0; normal - no error found\n",
    "# -1; not loaded or error found\n",
    "# 1; normal - error found\n",
    "# 2; echelon error found, but it is not explainable\n",
    "# 3; type III error found, but it is not explainable\n",
    "simple = SimpleSBML()\n",
    "count = 0\n",
    "gamespp_start = time.time()\n",
    "for file in files:\n",
    "  count += 1\n",
    "  if (count%100)==0:\n",
    "    print(\"we are analyzing Model number:\", count)\n",
    "  try:\n",
    "    simple.initialize(os.path.join(data_dir, file))\n",
    "    m = GAMES_PP(simple)\n",
    "    if simple.reactions:\n",
    "      res = m.analyze(simple_games=False, error_details=False)\n",
    "      results.at[file, GAMESPP_ERROR] = int(res)\n",
    "      if res:\n",
    "        condition_number = np.linalg.cond(m.lower)\n",
    "        if condition_number > 300:\n",
    "          print(\"*****The L matrix of the model %s has a condition number %f*****\" % (file, condition_number))\n",
    "        gr = GAMESReport(m)\n",
    "        summary = m.error_summary\n",
    "        if m.type_one_errors:\n",
    "          results.at[file, TYPEI_ERROR] = len(m.type_one_errors)\n",
    "          report, error_num = gr.reportTypeOneError(m.type_one_errors, explain_details=True)\n",
    "        if m.type_two_errors:\n",
    "          results.at[file, TYPEII_ERROR] = len(m.type_two_errors)\n",
    "          report, error_num = gr.reportTypeTwoError(m.type_two_errors, explain_details=True)\n",
    "        if m.canceling_errors:\n",
    "          results.at[file, CANCELING_ERROR] = len(m.canceling_errors)\n",
    "          report, error_num = gr.reportCancelingError(m.canceling_errors, explain_details=True)\n",
    "        if m.echelon_errors:\n",
    "          results.at[file, ECHELON_ERROR] = len(m.echelon_errors)\n",
    "          report, error_num = gr.reportEchelonError(m.echelon_errors, explain_details=True)\n",
    "          if report is False:\n",
    "            results.at[file, GAMESPP_ERROR] = 2\n",
    "            print(\"Model %s has an inexplainable Echelon Error\" % file)\n",
    "            print(\"As the lower matrix has a condition number %f\" % condition_number)\n",
    "            print(\"Decide if the matrix is invertible\")\n",
    "        if m.type_three_errors:\n",
    "          results.at[file, TYPEIII_ERROR] = len(m.type_three_errors)\n",
    "          report, error_num = gr.reportTypeThreeError(m.type_three_errors, explain_details=True)\n",
    "          if report is False:\n",
    "            results.at[file, GAMESPP_ERROR] = 3\n",
    "            print(\"Model %s has an inexplainable Type III Error\" % file)\n",
    "            print(\"As the lower matrix has a condition number %f\" % condition_number)\n",
    "            print(\"Decide if the matrix is invertible\")\n",
    "  except:\n",
    "    results.at[file, GAMES_ERROR] = -1   \n",
    "gamespp_end = time.time()\n",
    "gamespp_time = gamespp_end - gamespp_start\n",
    "print(\"\\nAnalysis finished!\")\n",
    "print(\"GAMES++ time:\", gamespp_time)"
   ]
  },
  {
   "cell_type": "code",
   "execution_count": 44,
   "metadata": {},
   "outputs": [
    {
     "ename": "LinAlgError",
     "evalue": "0-dimensional array given. Array must be at least two-dimensional",
     "output_type": "error",
     "traceback": [
      "\u001b[0;31m---------------------------------------------------------------------------\u001b[0m",
      "\u001b[0;31mLinAlgError\u001b[0m                               Traceback (most recent call last)",
      "\u001b[0;32m<ipython-input-44-d6c83be68296>\u001b[0m in \u001b[0;36m<module>\u001b[0;34m\u001b[0m\n\u001b[0;32m----> 1\u001b[0;31m \u001b[0mprint\u001b[0m\u001b[0;34m(\u001b[0m\u001b[0;34m\"Lower matrix has a condition number %f\"\u001b[0m \u001b[0;34m%\u001b[0m \u001b[0mnp\u001b[0m\u001b[0;34m.\u001b[0m\u001b[0mlinalg\u001b[0m\u001b[0;34m.\u001b[0m\u001b[0mcond\u001b[0m\u001b[0;34m(\u001b[0m\u001b[0mm\u001b[0m\u001b[0;34m.\u001b[0m\u001b[0mlower\u001b[0m\u001b[0;34m)\u001b[0m\u001b[0;34m)\u001b[0m\u001b[0;34m\u001b[0m\u001b[0;34m\u001b[0m\u001b[0m\n\u001b[0m",
      "\u001b[0;32m//anaconda3/envs/sbmllint_env/lib/python3.6/site-packages/numpy/linalg/linalg.py\u001b[0m in \u001b[0;36mcond\u001b[0;34m(x, p)\u001b[0m\n\u001b[1;32m   1714\u001b[0m     \u001b[0m_assertNoEmpty2d\u001b[0m\u001b[0;34m(\u001b[0m\u001b[0mx\u001b[0m\u001b[0;34m)\u001b[0m\u001b[0;34m\u001b[0m\u001b[0;34m\u001b[0m\u001b[0m\n\u001b[1;32m   1715\u001b[0m     \u001b[0;32mif\u001b[0m \u001b[0mp\u001b[0m \u001b[0;32mis\u001b[0m \u001b[0;32mNone\u001b[0m \u001b[0;32mor\u001b[0m \u001b[0mp\u001b[0m \u001b[0;34m==\u001b[0m \u001b[0;36m2\u001b[0m \u001b[0;32mor\u001b[0m \u001b[0mp\u001b[0m \u001b[0;34m==\u001b[0m \u001b[0;34m-\u001b[0m\u001b[0;36m2\u001b[0m\u001b[0;34m:\u001b[0m\u001b[0;34m\u001b[0m\u001b[0;34m\u001b[0m\u001b[0m\n\u001b[0;32m-> 1716\u001b[0;31m         \u001b[0ms\u001b[0m \u001b[0;34m=\u001b[0m \u001b[0msvd\u001b[0m\u001b[0;34m(\u001b[0m\u001b[0mx\u001b[0m\u001b[0;34m,\u001b[0m \u001b[0mcompute_uv\u001b[0m\u001b[0;34m=\u001b[0m\u001b[0;32mFalse\u001b[0m\u001b[0;34m)\u001b[0m\u001b[0;34m\u001b[0m\u001b[0;34m\u001b[0m\u001b[0m\n\u001b[0m\u001b[1;32m   1717\u001b[0m         \u001b[0;32mwith\u001b[0m \u001b[0merrstate\u001b[0m\u001b[0;34m(\u001b[0m\u001b[0mall\u001b[0m\u001b[0;34m=\u001b[0m\u001b[0;34m'ignore'\u001b[0m\u001b[0;34m)\u001b[0m\u001b[0;34m:\u001b[0m\u001b[0;34m\u001b[0m\u001b[0;34m\u001b[0m\u001b[0m\n\u001b[1;32m   1718\u001b[0m             \u001b[0;32mif\u001b[0m \u001b[0mp\u001b[0m \u001b[0;34m==\u001b[0m \u001b[0;34m-\u001b[0m\u001b[0;36m2\u001b[0m\u001b[0;34m:\u001b[0m\u001b[0;34m\u001b[0m\u001b[0;34m\u001b[0m\u001b[0m\n",
      "\u001b[0;32m//anaconda3/envs/sbmllint_env/lib/python3.6/site-packages/numpy/linalg/linalg.py\u001b[0m in \u001b[0;36msvd\u001b[0;34m(a, full_matrices, compute_uv)\u001b[0m\n\u001b[1;32m   1591\u001b[0m     \"\"\"\n\u001b[1;32m   1592\u001b[0m     \u001b[0ma\u001b[0m\u001b[0;34m,\u001b[0m \u001b[0mwrap\u001b[0m \u001b[0;34m=\u001b[0m \u001b[0m_makearray\u001b[0m\u001b[0;34m(\u001b[0m\u001b[0ma\u001b[0m\u001b[0;34m)\u001b[0m\u001b[0;34m\u001b[0m\u001b[0;34m\u001b[0m\u001b[0m\n\u001b[0;32m-> 1593\u001b[0;31m     \u001b[0m_assertRankAtLeast2\u001b[0m\u001b[0;34m(\u001b[0m\u001b[0ma\u001b[0m\u001b[0;34m)\u001b[0m\u001b[0;34m\u001b[0m\u001b[0;34m\u001b[0m\u001b[0m\n\u001b[0m\u001b[1;32m   1594\u001b[0m     \u001b[0mt\u001b[0m\u001b[0;34m,\u001b[0m \u001b[0mresult_t\u001b[0m \u001b[0;34m=\u001b[0m \u001b[0m_commonType\u001b[0m\u001b[0;34m(\u001b[0m\u001b[0ma\u001b[0m\u001b[0;34m)\u001b[0m\u001b[0;34m\u001b[0m\u001b[0;34m\u001b[0m\u001b[0m\n\u001b[1;32m   1595\u001b[0m \u001b[0;34m\u001b[0m\u001b[0m\n",
      "\u001b[0;32m//anaconda3/envs/sbmllint_env/lib/python3.6/site-packages/numpy/linalg/linalg.py\u001b[0m in \u001b[0;36m_assertRankAtLeast2\u001b[0;34m(*arrays)\u001b[0m\n\u001b[1;32m    205\u001b[0m         \u001b[0;32mif\u001b[0m \u001b[0ma\u001b[0m\u001b[0;34m.\u001b[0m\u001b[0mndim\u001b[0m \u001b[0;34m<\u001b[0m \u001b[0;36m2\u001b[0m\u001b[0;34m:\u001b[0m\u001b[0;34m\u001b[0m\u001b[0;34m\u001b[0m\u001b[0m\n\u001b[1;32m    206\u001b[0m             raise LinAlgError('%d-dimensional array given. Array must be '\n\u001b[0;32m--> 207\u001b[0;31m                     'at least two-dimensional' % a.ndim)\n\u001b[0m\u001b[1;32m    208\u001b[0m \u001b[0;34m\u001b[0m\u001b[0m\n\u001b[1;32m    209\u001b[0m \u001b[0;32mdef\u001b[0m \u001b[0m_assertNdSquareness\u001b[0m\u001b[0;34m(\u001b[0m\u001b[0;34m*\u001b[0m\u001b[0marrays\u001b[0m\u001b[0;34m)\u001b[0m\u001b[0;34m:\u001b[0m\u001b[0;34m\u001b[0m\u001b[0;34m\u001b[0m\u001b[0m\n",
      "\u001b[0;31mLinAlgError\u001b[0m: 0-dimensional array given. Array must be at least two-dimensional"
     ]
    }
   ],
   "source": [
    "print(\"Lower matrix has a condition number %f\" % np.linalg.cond(m.lower))"
   ]
  },
  {
   "cell_type": "code",
   "execution_count": 45,
   "metadata": {},
   "outputs": [
    {
     "name": "stdout",
     "output_type": "stream",
     "text": [
      "number of detected errors:  133\n",
      "number of GAMES errors not in LP 0\n"
     ]
    },
    {
     "data": {
      "text/plain": [
       "0"
      ]
     },
     "execution_count": 45,
     "metadata": {},
     "output_type": "execute_result"
    }
   ],
   "source": [
    "print(\"number of detected errors: \", len(results[results[GAMESPP_ERROR]==1]))\n",
    "print(\"number of GAMES errors not in LP\", len(results[(results[GAMESPP_ERROR]==1) & (results[LP_ERROR]!=1)]))\n",
    "len(results[results[GAMESPP_ERROR]==-1])"
   ]
  },
  {
   "cell_type": "code",
   "execution_count": null,
   "metadata": {},
   "outputs": [],
   "source": []
  },
  {
   "cell_type": "code",
   "execution_count": 46,
   "metadata": {},
   "outputs": [
    {
     "data": {
      "text/plain": [
       "2"
      ]
     },
     "execution_count": 46,
     "metadata": {},
     "output_type": "execute_result"
    }
   ],
   "source": [
    "len(results[results[GAMESPP_ERROR]==2])"
   ]
  },
  {
   "cell_type": "code",
   "execution_count": 47,
   "metadata": {},
   "outputs": [
    {
     "data": {
      "text/plain": [
       "3"
      ]
     },
     "execution_count": 47,
     "metadata": {},
     "output_type": "execute_result"
    }
   ],
   "source": [
    "len(results[results[GAMESPP_ERROR]==3])"
   ]
  },
  {
   "cell_type": "code",
   "execution_count": 20,
   "metadata": {},
   "outputs": [
    {
     "data": {
      "text/html": [
       "<div>\n",
       "<style scoped>\n",
       "    .dataframe tbody tr th:only-of-type {\n",
       "        vertical-align: middle;\n",
       "    }\n",
       "\n",
       "    .dataframe tbody tr th {\n",
       "        vertical-align: top;\n",
       "    }\n",
       "\n",
       "    .dataframe thead th {\n",
       "        text-align: right;\n",
       "    }\n",
       "</style>\n",
       "<table border=\"1\" class=\"dataframe\">\n",
       "  <thead>\n",
       "    <tr style=\"text-align: right;\">\n",
       "      <th></th>\n",
       "      <th>num_reactions(nonbdry)</th>\n",
       "      <th>lp_error</th>\n",
       "      <th>games_error</th>\n",
       "      <th>gamespp_error</th>\n",
       "      <th>type1_error</th>\n",
       "      <th>type2_error</th>\n",
       "      <th>canceling_error</th>\n",
       "      <th>echelon_error</th>\n",
       "      <th>type3_error</th>\n",
       "    </tr>\n",
       "  </thead>\n",
       "  <tbody>\n",
       "    <tr>\n",
       "      <th>BIOMD0000000426_url.xml</th>\n",
       "      <td>29</td>\n",
       "      <td>1</td>\n",
       "      <td>0</td>\n",
       "      <td>3</td>\n",
       "      <td>0</td>\n",
       "      <td>0</td>\n",
       "      <td>0</td>\n",
       "      <td>10</td>\n",
       "      <td>4</td>\n",
       "    </tr>\n",
       "    <tr>\n",
       "      <th>BIOMD0000000628_url.xml</th>\n",
       "      <td>584</td>\n",
       "      <td>0</td>\n",
       "      <td>0</td>\n",
       "      <td>3</td>\n",
       "      <td>0</td>\n",
       "      <td>0</td>\n",
       "      <td>0</td>\n",
       "      <td>29</td>\n",
       "      <td>7</td>\n",
       "    </tr>\n",
       "    <tr>\n",
       "      <th>BIOMD0000000574_url.xml</th>\n",
       "      <td>576</td>\n",
       "      <td>0</td>\n",
       "      <td>0</td>\n",
       "      <td>3</td>\n",
       "      <td>0</td>\n",
       "      <td>0</td>\n",
       "      <td>0</td>\n",
       "      <td>15</td>\n",
       "      <td>10</td>\n",
       "    </tr>\n",
       "    <tr>\n",
       "      <th>BIOMD0000000243_url.xml</th>\n",
       "      <td>19</td>\n",
       "      <td>1</td>\n",
       "      <td>0</td>\n",
       "      <td>3</td>\n",
       "      <td>0</td>\n",
       "      <td>0</td>\n",
       "      <td>0</td>\n",
       "      <td>2</td>\n",
       "      <td>1</td>\n",
       "    </tr>\n",
       "  </tbody>\n",
       "</table>\n",
       "</div>"
      ],
      "text/plain": [
       "                         num_reactions(nonbdry)  lp_error  games_error  \\\n",
       "BIOMD0000000426_url.xml                      29         1            0   \n",
       "BIOMD0000000628_url.xml                     584         0            0   \n",
       "BIOMD0000000574_url.xml                     576         0            0   \n",
       "BIOMD0000000243_url.xml                      19         1            0   \n",
       "\n",
       "                         gamespp_error  type1_error  type2_error  \\\n",
       "BIOMD0000000426_url.xml              3            0            0   \n",
       "BIOMD0000000628_url.xml              3            0            0   \n",
       "BIOMD0000000574_url.xml              3            0            0   \n",
       "BIOMD0000000243_url.xml              3            0            0   \n",
       "\n",
       "                         canceling_error  echelon_error  type3_error  \n",
       "BIOMD0000000426_url.xml                0             10            4  \n",
       "BIOMD0000000628_url.xml                0             29            7  \n",
       "BIOMD0000000574_url.xml                0             15           10  \n",
       "BIOMD0000000243_url.xml                0              2            1  "
      ]
     },
     "execution_count": 20,
     "metadata": {},
     "output_type": "execute_result"
    }
   ],
   "source": [
    "results[results[GAMESPP_ERROR]==3]"
   ]
  },
  {
   "cell_type": "code",
   "execution_count": 52,
   "metadata": {},
   "outputs": [
    {
     "name": "stdout",
     "output_type": "stream",
     "text": [
      "We just analyzed the data...\n",
      "Type I error:  []\n",
      "Type II error:  []\n",
      "Canceling error:  []\n",
      "Echelon error:  []\n",
      "Type III error:  []\n"
     ]
    }
   ],
   "source": [
    "simple = load_file_from_games(478)\n",
    "m = GAMES_PP(simple)\n",
    "res = m.analyze(simple_games=False, error_details=True)"
   ]
  },
  {
   "cell_type": "code",
   "execution_count": 53,
   "metadata": {},
   "outputs": [
    {
     "data": {
      "text/plain": [
       "True"
      ]
     },
     "execution_count": 53,
     "metadata": {},
     "output_type": "execute_result"
    }
   ],
   "source": [
    "np.isfinite(np.linalg.cond(m.lower))"
   ]
  },
  {
   "cell_type": "code",
   "execution_count": 54,
   "metadata": {},
   "outputs": [
    {
     "data": {
      "text/plain": [
       "True"
      ]
     },
     "execution_count": 54,
     "metadata": {},
     "output_type": "execute_result"
    }
   ],
   "source": [
    "np.linalg.det(m.lower) == 1.0"
   ]
  },
  {
   "cell_type": "code",
   "execution_count": null,
   "metadata": {},
   "outputs": [],
   "source": []
  },
  {
   "cell_type": "code",
   "execution_count": 57,
   "metadata": {},
   "outputs": [
    {
     "name": "stdout",
     "output_type": "stream",
     "text": [
      "\n",
      "[]\n"
     ]
    }
   ],
   "source": [
    "gr = GAMESReport(m)\n",
    "echelon_report, error_num = gr.reportEchelonError(m.echelon_errors, explain_details=True)\n",
    "print(echelon_report)\n",
    "print(error_num)"
   ]
  },
  {
   "cell_type": "code",
   "execution_count": 55,
   "metadata": {},
   "outputs": [
    {
     "data": {
      "text/plain": [
       "1.0"
      ]
     },
     "execution_count": 55,
     "metadata": {},
     "output_type": "execute_result"
    }
   ],
   "source": [
    "np.linalg.det(np.linalg.inv(m.lower))"
   ]
  },
  {
   "cell_type": "code",
   "execution_count": 37,
   "metadata": {},
   "outputs": [
    {
     "name": "stdout",
     "output_type": "stream",
     "text": [
      "We are doing file BIOMD0000000032_url.xml\n",
      "We are doing file BIOMD0000000022_url.xml\n",
      "We are doing file BIOMD0000000479_url.xml\n",
      "We are doing file BIOMD0000000501_url.xml\n",
      "We are doing file BIOMD0000000469_url.xml\n",
      "We are doing file BIOMD0000000511_url.xml\n",
      "We are doing file BIOMD0000000354_url.xml\n"
     ]
    }
   ],
   "source": [
    "# # GAMES++ \n",
    "# simple = SimpleSBML()\n",
    "# count = 0\n",
    "# gamespp_start = time.time()\n",
    "# for file in files[82:89]:\n",
    "#   print(\"We are doing file\", file)\n",
    "#   count += 1\n",
    "#   if (count%100)==0:\n",
    "#     print(\"we are analyzing Model number:\", count)\n",
    "#   simple.initialize(os.path.join(data_dir, file))\n",
    "#   m = GAMES_PP(simple)\n",
    "#   if simple.reactions:\n",
    "#     res = m.analyze(simple_games=False, error_details=False)\n",
    "#     results.at[file, GAMESPP_ERROR] = int(res)\n",
    "#     if res:\n",
    "#       gr = GAMESReport(m)\n",
    "#       summary = m.error_summary\n",
    "#       if m.type_one_errors:\n",
    "#         results.at[file, TYPEI_ERROR] = len(m.type_one_errors)\n",
    "#         report, error_num = gr.reportTypeOneError(m.type_one_errors)\n",
    "#       if m.type_two_errors:\n",
    "#         results.at[file, TYPEII_ERROR] = len(m.type_two_errors)\n",
    "#         report, error_num = gr.reportTypeTwoError(m.type_two_errors)\n",
    "#       if m.canceling_errors:\n",
    "#         results.at[file, CANCELING_ERROR] = len(m.canceling_errors)\n",
    "#         report, error_num = gr.reportCancelingError(m.canceling_errors)\n",
    "#       if m.echelon_errors:\n",
    "#         results.at[file, ECHELON_ERROR] = len(m.echelon_errors)\n",
    "#         report, error_num = gr.reportEchelonError(m.echelon_errors)\n",
    "#       if m.type_three_errors:\n",
    "#         results.at[file, TYPEIII_ERROR] = len(m.type_three_errors)\n",
    "#         report, error_num = gr.reportTypeThreeError(m.type_three_errors)"
   ]
  },
  {
   "cell_type": "code",
   "execution_count": 28,
   "metadata": {},
   "outputs": [
    {
     "data": {
      "text/plain": [
       "1"
      ]
     },
     "execution_count": 28,
     "metadata": {},
     "output_type": "execute_result"
    }
   ],
   "source": [
    "results.loc[\"BIOMD0000000479_url.xml\", LP_ERROR]"
   ]
  },
  {
   "cell_type": "code",
   "execution_count": 23,
   "metadata": {},
   "outputs": [
    {
     "data": {
      "text/html": [
       "<div>\n",
       "<style scoped>\n",
       "    .dataframe tbody tr th:only-of-type {\n",
       "        vertical-align: middle;\n",
       "    }\n",
       "\n",
       "    .dataframe tbody tr th {\n",
       "        vertical-align: top;\n",
       "    }\n",
       "\n",
       "    .dataframe thead th {\n",
       "        text-align: right;\n",
       "    }\n",
       "</style>\n",
       "<table border=\"1\" class=\"dataframe\">\n",
       "  <thead>\n",
       "    <tr style=\"text-align: right;\">\n",
       "      <th></th>\n",
       "      <th>num_reactions(nonbdry)</th>\n",
       "      <th>lp_error</th>\n",
       "      <th>games_error</th>\n",
       "      <th>gamespp_error</th>\n",
       "      <th>type1_error</th>\n",
       "      <th>type2_error</th>\n",
       "      <th>canceling_error</th>\n",
       "      <th>echelon_error</th>\n",
       "      <th>type3_error</th>\n",
       "    </tr>\n",
       "  </thead>\n",
       "  <tbody>\n",
       "    <tr>\n",
       "      <th>BIOMD0000000199_url.xml</th>\n",
       "      <td>10</td>\n",
       "      <td>0</td>\n",
       "      <td>0</td>\n",
       "      <td>0</td>\n",
       "      <td>0</td>\n",
       "      <td>0</td>\n",
       "      <td>0</td>\n",
       "      <td>0</td>\n",
       "      <td>0</td>\n",
       "    </tr>\n",
       "    <tr>\n",
       "      <th>BIOMD0000000189_url.xml</th>\n",
       "      <td>13</td>\n",
       "      <td>1</td>\n",
       "      <td>0</td>\n",
       "      <td>1</td>\n",
       "      <td>4</td>\n",
       "      <td>0</td>\n",
       "      <td>0</td>\n",
       "      <td>0</td>\n",
       "      <td>0</td>\n",
       "    </tr>\n",
       "    <tr>\n",
       "      <th>BIOMD0000000387_url.xml</th>\n",
       "      <td>4</td>\n",
       "      <td>0</td>\n",
       "      <td>0</td>\n",
       "      <td>0</td>\n",
       "      <td>0</td>\n",
       "      <td>0</td>\n",
       "      <td>0</td>\n",
       "      <td>0</td>\n",
       "      <td>0</td>\n",
       "    </tr>\n",
       "    <tr>\n",
       "      <th>BIOMD0000000397_url.xml</th>\n",
       "      <td>29</td>\n",
       "      <td>0</td>\n",
       "      <td>0</td>\n",
       "      <td>0</td>\n",
       "      <td>0</td>\n",
       "      <td>0</td>\n",
       "      <td>0</td>\n",
       "      <td>0</td>\n",
       "      <td>0</td>\n",
       "    </tr>\n",
       "    <tr>\n",
       "      <th>BIOMD0000000413_url.xml</th>\n",
       "      <td>5</td>\n",
       "      <td>1</td>\n",
       "      <td>0</td>\n",
       "      <td>1</td>\n",
       "      <td>1</td>\n",
       "      <td>0</td>\n",
       "      <td>0</td>\n",
       "      <td>0</td>\n",
       "      <td>0</td>\n",
       "    </tr>\n",
       "  </tbody>\n",
       "</table>\n",
       "</div>"
      ],
      "text/plain": [
       "                         num_reactions(nonbdry)  lp_error  games_error  \\\n",
       "BIOMD0000000199_url.xml                      10         0            0   \n",
       "BIOMD0000000189_url.xml                      13         1            0   \n",
       "BIOMD0000000387_url.xml                       4         0            0   \n",
       "BIOMD0000000397_url.xml                      29         0            0   \n",
       "BIOMD0000000413_url.xml                       5         1            0   \n",
       "\n",
       "                         gamespp_error  type1_error  type2_error  \\\n",
       "BIOMD0000000199_url.xml              0            0            0   \n",
       "BIOMD0000000189_url.xml              1            4            0   \n",
       "BIOMD0000000387_url.xml              0            0            0   \n",
       "BIOMD0000000397_url.xml              0            0            0   \n",
       "BIOMD0000000413_url.xml              1            1            0   \n",
       "\n",
       "                         canceling_error  echelon_error  type3_error  \n",
       "BIOMD0000000199_url.xml                0              0            0  \n",
       "BIOMD0000000189_url.xml                0              0            0  \n",
       "BIOMD0000000387_url.xml                0              0            0  \n",
       "BIOMD0000000397_url.xml                0              0            0  \n",
       "BIOMD0000000413_url.xml                0              0            0  "
      ]
     },
     "execution_count": 23,
     "metadata": {},
     "output_type": "execute_result"
    }
   ],
   "source": [
    "results.head()"
   ]
  },
  {
   "cell_type": "code",
   "execution_count": 35,
   "metadata": {},
   "outputs": [],
   "source": [
    "import networkx as nx\n",
    "som_example = list(m.nodes)[-1]\n",
    "PathNodesReactions = collections.namedtuple('PathNodesReactions',\n",
    "    'node1 node2 reactions')\n",
    "def getSOMPath(som, mole1, mole2):\n",
    "  \"\"\"\n",
    "  Create an undirected graph between\n",
    "  two molecules within a SOM\n",
    "  and find the shortest path\n",
    "  :param SOM som:\n",
    "  :param str mole1:\n",
    "  :param str mole2:\n",
    "  :return PathNodesReactions result_data:\n",
    "  \"\"\"   \n",
    "  molecule1 = simple.getMolecule(mole1).name\n",
    "  moelcule2 = simple.getMolecule(mole2).name\n",
    "  # construct undirected graph\n",
    "  subg = nx.Graph()\n",
    "  # here, every reaction is 1-1 reaction\n",
    "  for reaction in list(som.reactions):\n",
    "    print(reaction.makeIdentifier(is_include_kinetics=False))\n",
    "    node1 = reaction.reactants[0].molecule.name\n",
    "    node2 = reaction.products[0].molecule.name\n",
    "    if subg.has_edge(node1, node2):\n",
    "      reaction_label = subg.get_edge_data(node1, node2)[cn.REACTION]\n",
    "      # if reaction.label is not already included in the attribute,\n",
    "      if reaction.label not in set(reaction_label):\n",
    "        reaction_label = reaction_label + [reaction.label]\n",
    "    else:\n",
    "      reaction_label = [reaction.label]    \n",
    "    subg.add_edge(node1, node2, reaction=reaction_label)\n",
    "  print(list(subg.edges))\n",
    "  path = [p for p in nx.shortest_path(subg, \n",
    "                                      source=mole1, \n",
    "                                      target=mole2)]\n",
    "  # if result has more than 1 element need a for loop\n",
    "  print(\"We found the shortest path from \" + mole1 + \" to \" + mole2)\n",
    "  result_data = []\n",
    "  for idx in range(len(path)-1):\n",
    "    print(path[idx] + \"=\" + path[idx+1], end=\" \")\n",
    "    edge_reactions = subg.get_edge_data(path[idx], path[idx+1])[cn.REACTION]\n",
    "    print(\"by reaction(s)\", edge_reactions)\n",
    "    result_data.append(PathNodesReactions(node1=path[idx], \n",
    "                                          node2=path[idx+1],\n",
    "                                          reactions=edge_reactions))\n",
    "  return result_data"
   ]
  },
  {
   "cell_type": "code",
   "execution_count": 131,
   "metadata": {},
   "outputs": [
    {
     "name": "stdout",
     "output_type": "stream",
     "text": [
      "r58: s36 -> s232\n",
      "re65: s260 -> s232\n",
      "re64: s270 -> s232\n",
      "[('s36', 's232'), ('s232', 's260'), ('s232', 's270')]\n",
      "We found the shortest path from s260 to s270\n",
      "s260=s232 by reaction(s) ['re65']\n",
      "s232=s270 by reaction(s) ['re64']\n"
     ]
    },
    {
     "data": {
      "text/plain": [
       "list"
      ]
     },
     "execution_count": 131,
     "metadata": {},
     "output_type": "execute_result"
    }
   ],
   "source": [
    "som_path = getSOMPath(som_example, 's260', 's270')\n",
    "type(som_path)"
   ]
  },
  {
   "cell_type": "code",
   "execution_count": 134,
   "metadata": {},
   "outputs": [
    {
     "name": "stdout",
     "output_type": "stream",
     "text": [
      "s260 = s232 by re65: s260 -> s232\n",
      "s232 = s270 by re64: s270 -> s232\n"
     ]
    }
   ],
   "source": [
    "for pat in som_path:\n",
    "\n",
    "  print(pat.node1 + \" = \" + pat.node2 + \" by\", end=\" \")\n",
    "  for r in pat.reactions:\n",
    "    reaction = simple.getReaction(r)\n",
    "    print(reaction.makeIdentifier(is_include_kinetics=False))"
   ]
  },
  {
   "cell_type": "code",
   "execution_count": 124,
   "metadata": {},
   "outputs": [
    {
     "name": "stdout",
     "output_type": "stream",
     "text": [
      "[('s36', 's232'), ('s232', 's260'), ('s232', 's270')]\n",
      "True\n",
      "True\n"
     ]
    }
   ],
   "source": [
    "print(subg.edges)\n",
    "print(subg.has_edge('s260', 's232'))\n",
    "print(subg.has_edge('s232', 's260'))"
   ]
  },
  {
   "cell_type": "code",
   "execution_count": 87,
   "metadata": {},
   "outputs": [
    {
     "name": "stdout",
     "output_type": "stream",
     "text": [
      "r58: s36 -> s232\n",
      "re65: s260 -> s232\n",
      "re64: s270 -> s232\n"
     ]
    }
   ],
   "source": [
    "som = som_example\n",
    "mole1 = 's260'\n",
    "mole2 = 's270'\n",
    "molecule1 = simple.getMolecule(mole1).name\n",
    "moelcule2 = simple.getMolecule(mole2).name\n",
    "# construct undirected graph\n",
    "subg = nx.Graph()\n",
    "# subg.add_nodes_from(som.molecules)\n",
    "# here, every reaction is 1-1 reaction\n",
    "for reaction in list(som.reactions):\n",
    "  print(reaction.makeIdentifier(is_include_kinetics=False))\n",
    "  node1 = reaction.reactants[0].molecule.name\n",
    "  node2 = reaction.products[0].molecule.name\n",
    "  if subg.has_edge(node1, node2):\n",
    "    reaction_label = subg.get_edge_data(node1, node2)[cn.REACTION]\n",
    "    # if reaction.label is not already included in the attribute,\n",
    "    if reaction.label not in set(reaction_label):\n",
    "      reaction_label = reaction_label + [reaction.label]\n",
    "  else:\n",
    "    reaction_label = [reaction.label]    \n",
    "  subg.add_edge(node1, node2, reaction=reaction_label)\n"
   ]
  },
  {
   "cell_type": "code",
   "execution_count": 11,
   "metadata": {},
   "outputs": [
    {
     "name": "stdout",
     "output_type": "stream",
     "text": [
      "/Users/woosubshin/Desktop/ModelEngineering/SBMLLint/data/BIOMD0000000596_url.xml\n",
      "showed error\n",
      "/Users/woosubshin/Desktop/ModelEngineering/SBMLLint/data/MODEL0568648427_url.xml\n",
      "showed error\n",
      "/Users/woosubshin/Desktop/ModelEngineering/SBMLLint/data/BIOMD0000000410_url.xml\n",
      "showed error\n",
      "/Users/woosubshin/Desktop/ModelEngineering/SBMLLint/data/BIOMD0000000081_url.xml\n",
      "showed error\n",
      "/Users/woosubshin/Desktop/ModelEngineering/SBMLLint/data/BIOMD0000000075_url.xml\n",
      "showed error\n",
      "/Users/woosubshin/Desktop/ModelEngineering/SBMLLint/data/BIOMD0000000094_url.xml\n",
      "showed error\n",
      "/Users/woosubshin/Desktop/ModelEngineering/SBMLLint/data/BIOMD0000000353_url.xml\n",
      "showed error\n",
      "/Users/woosubshin/Desktop/ModelEngineering/SBMLLint/data/BIOMD0000000627_url.xml\n",
      "showed error\n",
      "/Users/woosubshin/Desktop/ModelEngineering/SBMLLint/data/MODEL0072364382_url.xml\n",
      "showed error\n"
     ]
    }
   ],
   "source": [
    "import tesbml\n",
    "for error_path in error_paths:\n",
    "  document = tesbml.readSBML(error_path)\n",
    "  model = document.getModel()\n",
    "  #pm.print_model(model)\n",
    "  try:\n",
    "    simple.initialize(error_path)\n",
    "  except:\n",
    "    print(error_path)\n",
    "    print(\"showed error\")"
   ]
  },
  {
   "cell_type": "code",
   "execution_count": 57,
   "metadata": {},
   "outputs": [
    {
     "name": "stdout",
     "output_type": "stream",
     "text": [
      "x = 3 ;y = 1 ;z = 4.0 ;w = 2.0\n",
      "reaction_n_n\n",
      "x = 3 ;y = 1 ;z = 4.0 ;w = 1.5\n",
      "reaction_n_n\n",
      "x = 1 ;y = 1 ;z = 1.0 ;w = 1.0\n",
      "reaction_1_1\n",
      "x = 1 ;y = 1 ;z = 1.0 ;w = 1.0\n",
      "reaction_1_1\n"
     ]
    }
   ],
   "source": [
    "for reaction in model.getListOfReactions():\n",
    "  num_rct = len([r.species for r in reaction.getListOfReactants()])\n",
    "  num_pdt = len([p.species for p in reaction.getListOfProducts()])\n",
    "  stoi_rct = sum([r.stoichiometry for r in reaction.getListOfReactants()])\n",
    "  stoi_pdt = sum([p.stoichiometry for p in reaction.getListOfProducts()])\n",
    "  print(\"x =\", num_rct, \";y =\", num_pdt, \";z =\", stoi_rct, \";w =\", stoi_pdt)\n",
    "  for reaction_category in REACTION_CATEGORIES:\n",
    "    if reaction_category.predicate(num_rct, num_pdt, \n",
    "                                 stoi_rct, stoi_pdt):\n",
    "      print(reaction_category.category)"
   ]
  },
  {
   "cell_type": "code",
   "execution_count": null,
   "metadata": {},
   "outputs": [],
   "source": []
  }
 ],
 "metadata": {
  "kernelspec": {
   "display_name": "Python 3",
   "language": "python",
   "name": "python3"
  },
  "language_info": {
   "codemirror_mode": {
    "name": "ipython",
    "version": 3
   },
   "file_extension": ".py",
   "mimetype": "text/x-python",
   "name": "python",
   "nbconvert_exporter": "python",
   "pygments_lexer": "ipython3",
   "version": "3.6.9"
  }
 },
 "nbformat": 4,
 "nbformat_minor": 4
}
