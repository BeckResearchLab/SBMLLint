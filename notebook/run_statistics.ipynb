{
 "cells": [
  {
   "cell_type": "code",
   "execution_count": 1,
   "metadata": {},
   "outputs": [
    {
     "name": "stdout",
     "output_type": "stream",
     "text": [
      "Current Directory: /Users/woosubshin/Desktop/ModelEngineering/SBMLLint/notebook\n"
     ]
    }
   ],
   "source": [
    "from games_setup import *\n",
    "import SBMLLint.common.constants as cn\n",
    "from SBMLLint.common.reaction import Reaction\n",
    "from SBMLLint.games.som import SOM\n",
    "from SBMLLint.games.mesgraph import MESGraph"
   ]
  },
  {
   "cell_type": "code",
   "execution_count": 2,
   "metadata": {},
   "outputs": [],
   "source": [
    "data_dir=cn.DATA_DIR\n",
    "files = [f for f in os.listdir(data_dir) if f[-4:] == \".xml\"]\n",
    "paths = [os.path.join(data_dir, filename) for filename in files]"
   ]
  },
  {
   "cell_type": "code",
   "execution_count": 3,
   "metadata": {},
   "outputs": [
    {
     "name": "stdout",
     "output_type": "stream",
     "text": [
      "Index... 75 /Users/woosubshin/Desktop/ModelEngineering/SBMLLint/data/BIOMD0000000596_url.xml Showed Error\n",
      "Index... 238 /Users/woosubshin/Desktop/ModelEngineering/SBMLLint/data/MODEL0568648427_url.xml Showed Error\n",
      "Index... 243 /Users/woosubshin/Desktop/ModelEngineering/SBMLLint/data/BIOMD0000000410_url.xml Showed Error\n",
      "Index... 289 /Users/woosubshin/Desktop/ModelEngineering/SBMLLint/data/BIOMD0000000081_url.xml Showed Error\n",
      "Index... 317 /Users/woosubshin/Desktop/ModelEngineering/SBMLLint/data/BIOMD0000000075_url.xml Showed Error\n",
      "Index... 442 /Users/woosubshin/Desktop/ModelEngineering/SBMLLint/data/BIOMD0000000094_url.xml Showed Error\n",
      "Index... 538 /Users/woosubshin/Desktop/ModelEngineering/SBMLLint/data/BIOMD0000000353_url.xml Showed Error\n",
      "Index... 687 /Users/woosubshin/Desktop/ModelEngineering/SBMLLint/data/BIOMD0000000627_url.xml Showed Error\n",
      "Index... 692 /Users/woosubshin/Desktop/ModelEngineering/SBMLLint/data/MODEL0072364382_url.xml Showed Error\n"
     ]
    }
   ],
   "source": [
    "simple = SimpleSBML()\n",
    "error_paths = []\n",
    "for idx, path in enumerate(paths):\n",
    "  try:\n",
    "    simple.initialize(path)\n",
    "    m = MESGraph(simple)\n",
    "    m.analyze(simple.reactions, error_details=False)\n",
    "  except:\n",
    "    print(\"Index...\", idx, path, \"Showed Error\")\n",
    "    error_paths.append(path)\n",
    "#  if simple.reactions:\n",
    "#     m.analyze(simple.reactions, error_details=False)\n",
    "#   else:\n",
    "#     print(\"the following model doesn't have reactions\")\n",
    "#   print(files[idx] + \"...\")\n",
    "#   print(\"Type I Error: \", m.type_one_error)\n",
    "#   print(\"Type II Error: \", m.type_two_error)"
   ]
  },
  {
   "cell_type": "code",
   "execution_count": 17,
   "metadata": {},
   "outputs": [
    {
     "name": "stdout",
     "output_type": "stream",
     "text": [
      "9\n"
     ]
    },
    {
     "ename": "NameError",
     "evalue": "name 'model_reference' is not defined",
     "output_type": "error",
     "traceback": [
      "\u001b[0;31m---------------------------------------------------------------------------\u001b[0m",
      "\u001b[0;31mNameError\u001b[0m                                 Traceback (most recent call last)",
      "\u001b[0;32m<ipython-input-17-0a010c30c509>\u001b[0m in \u001b[0;36m<module>\u001b[0;34m()\u001b[0m\n\u001b[1;32m      1\u001b[0m \u001b[0mprint\u001b[0m\u001b[0;34m(\u001b[0m\u001b[0mlen\u001b[0m\u001b[0;34m(\u001b[0m\u001b[0merror_paths\u001b[0m\u001b[0;34m)\u001b[0m\u001b[0;34m)\u001b[0m\u001b[0;34m\u001b[0m\u001b[0m\n\u001b[0;32m----> 2\u001b[0;31m \u001b[0msimple\u001b[0m\u001b[0;34m.\u001b[0m\u001b[0minitialize\u001b[0m\u001b[0;34m(\u001b[0m\u001b[0merror_paths\u001b[0m\u001b[0;34m[\u001b[0m\u001b[0;36m5\u001b[0m\u001b[0;34m]\u001b[0m\u001b[0;34m)\u001b[0m\u001b[0;34m\u001b[0m\u001b[0m\n\u001b[0m\u001b[1;32m      3\u001b[0m \u001b[0;32mfor\u001b[0m \u001b[0mr\u001b[0m \u001b[0;32min\u001b[0m \u001b[0msimple\u001b[0m\u001b[0;34m.\u001b[0m\u001b[0mreactions\u001b[0m\u001b[0;34m:\u001b[0m\u001b[0;34m\u001b[0m\u001b[0m\n\u001b[1;32m      4\u001b[0m   \u001b[0mprint\u001b[0m\u001b[0;34m(\u001b[0m\u001b[0mr\u001b[0m\u001b[0;34m.\u001b[0m\u001b[0mmakeIdentifier\u001b[0m\u001b[0;34m(\u001b[0m\u001b[0mis_include_kinetics\u001b[0m\u001b[0;34m=\u001b[0m\u001b[0;32mFalse\u001b[0m\u001b[0;34m)\u001b[0m\u001b[0;34m)\u001b[0m\u001b[0;34m\u001b[0m\u001b[0m\n\u001b[1;32m      5\u001b[0m   \u001b[0mprint\u001b[0m\u001b[0;34m(\u001b[0m\u001b[0mr\u001b[0m\u001b[0;34m.\u001b[0m\u001b[0mcategory\u001b[0m\u001b[0;34m)\u001b[0m\u001b[0;34m\u001b[0m\u001b[0m\n",
      "\u001b[0;32m~/Desktop/ModelEngineering/SBMLLint/SBMLLint/common/simple_sbml.py\u001b[0m in \u001b[0;36minitialize\u001b[0;34m(self, model_reference)\u001b[0m\n\u001b[1;32m     64\u001b[0m       \u001b[0mreader\u001b[0m \u001b[0;34m=\u001b[0m \u001b[0mtesbml\u001b[0m\u001b[0;34m.\u001b[0m\u001b[0mSBMLReader\u001b[0m\u001b[0;34m(\u001b[0m\u001b[0;34m)\u001b[0m\u001b[0;34m\u001b[0m\u001b[0m\n\u001b[1;32m     65\u001b[0m       \u001b[0mdocument\u001b[0m \u001b[0;34m=\u001b[0m \u001b[0mreader\u001b[0m\u001b[0;34m.\u001b[0m\u001b[0mreadSBMLFromString\u001b[0m\u001b[0;34m(\u001b[0m\u001b[0mxml\u001b[0m\u001b[0;34m)\u001b[0m\u001b[0;34m\u001b[0m\u001b[0m\n\u001b[0;32m---> 66\u001b[0;31m       \u001b[0mutil\u001b[0m\u001b[0;34m.\u001b[0m\u001b[0mcheckSBMLDocument\u001b[0m\u001b[0;34m(\u001b[0m\u001b[0mdocument\u001b[0m\u001b[0;34m)\u001b[0m\u001b[0;34m\u001b[0m\u001b[0m\n\u001b[0m\u001b[1;32m     67\u001b[0m       \u001b[0mmodel\u001b[0m \u001b[0;34m=\u001b[0m \u001b[0mdocument\u001b[0m\u001b[0;34m.\u001b[0m\u001b[0mgetModel\u001b[0m\u001b[0;34m(\u001b[0m\u001b[0;34m)\u001b[0m\u001b[0;34m\u001b[0m\u001b[0m\n\u001b[1;32m     68\u001b[0m     \u001b[0;31m# Do the initializations\u001b[0m\u001b[0;34m\u001b[0m\u001b[0;34m\u001b[0m\u001b[0m\n",
      "\u001b[0;32m~/Desktop/ModelEngineering/SBMLLint/SBMLLint/common/util.py\u001b[0m in \u001b[0;36mcheckSBMLDocument\u001b[0;34m(document)\u001b[0m\n\u001b[1;32m     88\u001b[0m   \u001b[0;32mif\u001b[0m \u001b[0;34m(\u001b[0m\u001b[0mdocument\u001b[0m\u001b[0;34m.\u001b[0m\u001b[0mgetNumErrors\u001b[0m\u001b[0;34m(\u001b[0m\u001b[0;34m)\u001b[0m \u001b[0;34m>\u001b[0m \u001b[0;36m0\u001b[0m\u001b[0;34m)\u001b[0m\u001b[0;34m:\u001b[0m\u001b[0;34m\u001b[0m\u001b[0m\n\u001b[1;32m     89\u001b[0m     raise ValueError(\"Errors in SBML document\\n%s\" \n\u001b[0;32m---> 90\u001b[0;31m         % model_reference)\n\u001b[0m",
      "\u001b[0;31mNameError\u001b[0m: name 'model_reference' is not defined"
     ]
    }
   ],
   "source": [
    "print(len(error_paths))\n",
    "simple.initialize(error_paths[5])\n",
    "for r in simple.reactions:\n",
    "  print(r.makeIdentifier(is_include_kinetics=False))\n",
    "  print(r.category)"
   ]
  },
  {
   "cell_type": "code",
   "execution_count": 11,
   "metadata": {},
   "outputs": [
    {
     "name": "stdout",
     "output_type": "stream",
     "text": [
      "/Users/woosubshin/Desktop/ModelEngineering/SBMLLint/data/BIOMD0000000596_url.xml\n",
      "showed error\n",
      "/Users/woosubshin/Desktop/ModelEngineering/SBMLLint/data/MODEL0568648427_url.xml\n",
      "showed error\n",
      "/Users/woosubshin/Desktop/ModelEngineering/SBMLLint/data/BIOMD0000000410_url.xml\n",
      "showed error\n",
      "/Users/woosubshin/Desktop/ModelEngineering/SBMLLint/data/BIOMD0000000081_url.xml\n",
      "showed error\n",
      "/Users/woosubshin/Desktop/ModelEngineering/SBMLLint/data/BIOMD0000000075_url.xml\n",
      "showed error\n",
      "/Users/woosubshin/Desktop/ModelEngineering/SBMLLint/data/BIOMD0000000094_url.xml\n",
      "showed error\n",
      "/Users/woosubshin/Desktop/ModelEngineering/SBMLLint/data/BIOMD0000000353_url.xml\n",
      "showed error\n",
      "/Users/woosubshin/Desktop/ModelEngineering/SBMLLint/data/BIOMD0000000627_url.xml\n",
      "showed error\n",
      "/Users/woosubshin/Desktop/ModelEngineering/SBMLLint/data/MODEL0072364382_url.xml\n",
      "showed error\n"
     ]
    }
   ],
   "source": [
    "import tesbml\n",
    "for error_path in error_paths:\n",
    "  document = tesbml.readSBML(error_path)\n",
    "  model = document.getModel()\n",
    "  #pm.print_model(model)\n",
    "  try:\n",
    "    simple.initialize(error_path)\n",
    "  except:\n",
    "    print(error_path)\n",
    "    print(\"showed error\")"
   ]
  },
  {
   "cell_type": "code",
   "execution_count": 7,
   "metadata": {},
   "outputs": [
    {
     "name": "stdout",
     "output_type": "stream",
     "text": [
      "rct done! now pdt\n",
      "s51\n",
      "1.0\n",
      "similar,  1.0\n",
      "<Model MODEL1508180000 \"Philipson2015 - Innate immune response modulated by NLRX1\">\n",
      "MyD88_a_HP:  -> s51;\n",
      "MyD88_d: s51 -> ;\n",
      "TRAF_d: s7 -> ;\n",
      "NFkB_a1:  -> s4;\n",
      "NFkB_d: s4 -> ;\n",
      "CytoL_a:  -> s34;\n",
      "CytoL_d: s34 -> ;\n",
      "NLRX1_d: s49 -> ;\n",
      "MyD88_a:  -> s51;\n",
      "HP_a:  -> s18;\n",
      "HP_CytoL: s18 -> ;\n",
      "NLRX1_TF:  -> s49;\n",
      "NFkB_a2:  -> s4;\n",
      "RIG_a_HP:  -> RIG;\n",
      "RIG_d: RIG -> ;\n",
      "MAVS_a:  -> MAVS;\n",
      "MAVS_d: MAVS -> ;\n",
      "IRF_a1:  -> IRF;\n",
      "IRF_a2:  -> IRF;\n",
      "IRF_a3:  -> IRF;\n",
      "IRF_d: IRF -> ;\n",
      "IFN_a:  -> IFN;\n",
      "IFN_d: IFN -> ;\n",
      "NOD_a:  -> NOD1;\n",
      "NOD_d: NOD1 -> ;\n",
      "HP_IFN: s18 -> ;\n",
      "TRAF_a:  -> s7;\n",
      "TFa_a:  -> TFa;\n",
      "TFa_d: TFa -> ;\n",
      "TFi_a:  -> TFi;\n",
      "TFi_d: TFi -> ;\n",
      "CytoE_a:  -> CytoE;\n",
      "CytoE_d: CytoE -> ;\n",
      "X_a:  -> X;\n",
      "X_d: X -> ;\n",
      "HP_CytoE: s18 -> ;\n"
     ]
    },
    {
     "data": {
      "text/plain": [
       "[]"
      ]
     },
     "execution_count": 7,
     "metadata": {},
     "output_type": "execute_result"
    }
   ],
   "source": [
    "#pm.print_model(model)\n",
    "for rct in model.getReaction(0).getListOfReactants():\n",
    "  print(rct.getSpecies())\n",
    "  print(\"similar, \", rct.species)\n",
    "  print(rct.stoichiometry)\n",
    "  print(\"similar, \", rct.getStoichiometry())\n",
    "print(\"rct done! now pdt\")\n",
    "for pdt in model.getReaction(0).getListOfProducts():\n",
    "  print(pdt.getSpecies())\n",
    "  print(pdt.stoichiometry)\n",
    "  print(\"similar, \", pdt.getStoichiometry())\n",
    "pm.print_model(model)\n",
    "\n",
    "model.getReaction(3).getId()\n",
    "[rct.stoichiometry for r in model.getReaction(3).getListOfReactants() \\\n",
    "if rct.species != \"haha\"]\n",
    "#r = Reaction(model.getReaction(3))\n",
    "#r.category"
   ]
  },
  {
   "cell_type": "code",
   "execution_count": 10,
   "metadata": {},
   "outputs": [
    {
     "ename": "AttributeError",
     "evalue": "getListOfReactants",
     "output_type": "error",
     "traceback": [
      "\u001b[0;31m---------------------------------------------------------------------------\u001b[0m",
      "\u001b[0;31mAttributeError\u001b[0m                            Traceback (most recent call last)",
      "\u001b[0;32m<ipython-input-10-e543e0485f73>\u001b[0m in \u001b[0;36m<module>\u001b[0;34m()\u001b[0m\n\u001b[0;32m----> 1\u001b[0;31m \u001b[0mmodel\u001b[0m\u001b[0;34m.\u001b[0m\u001b[0mgetListOfReactants\u001b[0m\u001b[0;34m(\u001b[0m\u001b[0;34m)\u001b[0m\u001b[0;34m\u001b[0m\u001b[0m\n\u001b[0m",
      "\u001b[0;32m~/anaconda3/lib/python3.6/site-packages/tesbml/libsbml.py\u001b[0m in \u001b[0;36m<lambda>\u001b[0;34m(self, name)\u001b[0m\n\u001b[1;32m   6860\u001b[0m     \u001b[0m__swig_getmethods__\u001b[0m \u001b[0;34m=\u001b[0m \u001b[0;34m{\u001b[0m\u001b[0;34m}\u001b[0m\u001b[0;34m\u001b[0m\u001b[0m\n\u001b[1;32m   6861\u001b[0m     \u001b[0;32mfor\u001b[0m \u001b[0m_s\u001b[0m \u001b[0;32min\u001b[0m \u001b[0;34m[\u001b[0m\u001b[0mSBase\u001b[0m\u001b[0;34m]\u001b[0m\u001b[0;34m:\u001b[0m \u001b[0m__swig_getmethods__\u001b[0m\u001b[0;34m.\u001b[0m\u001b[0mupdate\u001b[0m\u001b[0;34m(\u001b[0m\u001b[0mgetattr\u001b[0m\u001b[0;34m(\u001b[0m\u001b[0m_s\u001b[0m\u001b[0;34m,\u001b[0m\u001b[0;34m'__swig_getmethods__'\u001b[0m\u001b[0;34m,\u001b[0m\u001b[0;34m{\u001b[0m\u001b[0;34m}\u001b[0m\u001b[0;34m)\u001b[0m\u001b[0;34m)\u001b[0m\u001b[0;34m\u001b[0m\u001b[0m\n\u001b[0;32m-> 6862\u001b[0;31m     \u001b[0m__getattr__\u001b[0m \u001b[0;34m=\u001b[0m \u001b[0;32mlambda\u001b[0m \u001b[0mself\u001b[0m\u001b[0;34m,\u001b[0m \u001b[0mname\u001b[0m\u001b[0;34m:\u001b[0m \u001b[0m_swig_getattr\u001b[0m\u001b[0;34m(\u001b[0m\u001b[0mself\u001b[0m\u001b[0;34m,\u001b[0m \u001b[0mModel\u001b[0m\u001b[0;34m,\u001b[0m \u001b[0mname\u001b[0m\u001b[0;34m)\u001b[0m\u001b[0;34m\u001b[0m\u001b[0m\n\u001b[0m\u001b[1;32m   6863\u001b[0m     \u001b[0m__repr__\u001b[0m \u001b[0;34m=\u001b[0m \u001b[0m_swig_repr\u001b[0m\u001b[0;34m\u001b[0m\u001b[0m\n\u001b[1;32m   6864\u001b[0m     \u001b[0m__swig_destroy__\u001b[0m \u001b[0;34m=\u001b[0m \u001b[0m_libsbml\u001b[0m\u001b[0;34m.\u001b[0m\u001b[0mdelete_Model\u001b[0m\u001b[0;34m\u001b[0m\u001b[0m\n",
      "\u001b[0;32m~/anaconda3/lib/python3.6/site-packages/tesbml/libsbml.py\u001b[0m in \u001b[0;36m_swig_getattr\u001b[0;34m(self, class_type, name)\u001b[0m\n\u001b[1;32m     55\u001b[0m     \u001b[0mmethod\u001b[0m \u001b[0;34m=\u001b[0m \u001b[0mclass_type\u001b[0m\u001b[0;34m.\u001b[0m\u001b[0m__swig_getmethods__\u001b[0m\u001b[0;34m.\u001b[0m\u001b[0mget\u001b[0m\u001b[0;34m(\u001b[0m\u001b[0mname\u001b[0m\u001b[0;34m,\u001b[0m\u001b[0;32mNone\u001b[0m\u001b[0;34m)\u001b[0m\u001b[0;34m\u001b[0m\u001b[0m\n\u001b[1;32m     56\u001b[0m     \u001b[0;32mif\u001b[0m \u001b[0mmethod\u001b[0m\u001b[0;34m:\u001b[0m \u001b[0;32mreturn\u001b[0m \u001b[0mmethod\u001b[0m\u001b[0;34m(\u001b[0m\u001b[0mself\u001b[0m\u001b[0;34m)\u001b[0m\u001b[0;34m\u001b[0m\u001b[0m\n\u001b[0;32m---> 57\u001b[0;31m     \u001b[0;32mraise\u001b[0m \u001b[0mAttributeError\u001b[0m\u001b[0;34m(\u001b[0m\u001b[0mname\u001b[0m\u001b[0;34m)\u001b[0m\u001b[0;34m\u001b[0m\u001b[0m\n\u001b[0m\u001b[1;32m     58\u001b[0m \u001b[0;34m\u001b[0m\u001b[0m\n\u001b[1;32m     59\u001b[0m \u001b[0;32mdef\u001b[0m \u001b[0m_swig_repr\u001b[0m\u001b[0;34m(\u001b[0m\u001b[0mself\u001b[0m\u001b[0;34m)\u001b[0m\u001b[0;34m:\u001b[0m\u001b[0;34m\u001b[0m\u001b[0m\n",
      "\u001b[0;31mAttributeError\u001b[0m: getListOfReactants"
     ]
    }
   ],
   "source": [
    "model.getLgetListOfReactants()"
   ]
  },
  {
   "cell_type": "code",
   "execution_count": 56,
   "metadata": {},
   "outputs": [],
   "source": [
    "REACTION_1_1 = \"reaction_1_1\"\n",
    "REACTION_n_1 = \"reaction_n_1\"\n",
    "REACTION_1_n = \"reaction_1_n\"\n",
    "REACTION_n_n = \"reaction_n_n\"\n",
    "REACTION_BOUNDARY = \"reaction_boundary\"\n",
    "ReactionCategory = collections.namedtuple('ReactionCategory',\n",
    "    'category predicate')\n",
    "REACTION_CATEGORIES = [\n",
    "    ReactionCategory(category=REACTION_1_1,\n",
    "        predicate=lambda x,y,z,w: (x==1) and (y==1) and (z==w)),\n",
    "    ReactionCategory(category=REACTION_1_n,\n",
    "        predicate=lambda x,y,z,w: ((x==1) and (y>1) and (z==1.00)) or ((x==1) and (y==1) and (z<w))),\n",
    "    ReactionCategory(category=REACTION_n_1,\n",
    "        predicate=lambda x,y,z,w: ((x>1) and (y==1) and (w==1.00)) or ((x==1) and (y==1) and (z>w))),\n",
    "    ReactionCategory(category=REACTION_n_n,\n",
    "        predicate=lambda x,y,z,w: ((x>1) and (y>1)) or ((x==1) and (y>1) and (z!=1.00)) or ((x>1) and (y==1) and (w!=1.00))),\n",
    "    ReactionCategory(category=REACTION_BOUNDARY,\n",
    "        predicate=lambda x,y,z,w: (x==0) or (y==0) or (z==0) or (w==0)),\n",
    "    ]"
   ]
  },
  {
   "cell_type": "code",
   "execution_count": 57,
   "metadata": {},
   "outputs": [
    {
     "name": "stdout",
     "output_type": "stream",
     "text": [
      "x = 3 ;y = 1 ;z = 4.0 ;w = 2.0\n",
      "reaction_n_n\n",
      "x = 3 ;y = 1 ;z = 4.0 ;w = 1.5\n",
      "reaction_n_n\n",
      "x = 1 ;y = 1 ;z = 1.0 ;w = 1.0\n",
      "reaction_1_1\n",
      "x = 1 ;y = 1 ;z = 1.0 ;w = 1.0\n",
      "reaction_1_1\n"
     ]
    }
   ],
   "source": [
    "for reaction in model.getListOfReactions():\n",
    "  num_rct = len([r.species for r in reaction.getListOfReactants()])\n",
    "  num_pdt = len([p.species for p in reaction.getListOfProducts()])\n",
    "  stoi_rct = sum([r.stoichiometry for r in reaction.getListOfReactants()])\n",
    "  stoi_pdt = sum([p.stoichiometry for p in reaction.getListOfProducts()])\n",
    "  print(\"x =\", num_rct, \";y =\", num_pdt, \";z =\", stoi_rct, \";w =\", stoi_pdt)\n",
    "  for reaction_category in REACTION_CATEGORIES:\n",
    "    if reaction_category.predicate(num_rct, num_pdt, \n",
    "                                 stoi_rct, stoi_pdt):\n",
    "      print(reaction_category.category)"
   ]
  },
  {
   "cell_type": "code",
   "execution_count": 49,
   "metadata": {},
   "outputs": [
    {
     "name": "stdout",
     "output_type": "stream",
     "text": [
      "<Model \"Arnold2011_Damour2007_RuBisCO-CalvinCycle\">\n",
      "PGA_prod_Vc: RuBP + CO2 + NADPH -> PGA;\n",
      "PGA_prod_Vo: RuBP + O2 + NADPH -> PGA;\n",
      "PGA_cons: PGA -> RuBP;\n",
      "NADPH_prod: NADP -> NADPH;\n"
     ]
    }
   ],
   "source": [
    "pm.print_model(model)"
   ]
  },
  {
   "cell_type": "code",
   "execution_count": 51,
   "metadata": {},
   "outputs": [
    {
     "data": {
      "text/plain": [
       "True"
      ]
     },
     "execution_count": 51,
     "metadata": {},
     "output_type": "execute_result"
    }
   ],
   "source": [
    "x = 3 ;y = 1 ;z = 4.0 ;w = 2.0\n",
    "((x>1) and (y==1) and (w!=1.00))"
   ]
  },
  {
   "cell_type": "code",
   "execution_count": 53,
   "metadata": {},
   "outputs": [
    {
     "data": {
      "text/plain": [
       "True"
      ]
     },
     "execution_count": 53,
     "metadata": {},
     "output_type": "execute_result"
    }
   ],
   "source": [
    "((x>1) and (y>1)) or ((x==1) and (y>1) and (z!=1.00)) or ((x>1) and (y==1) and (w!=1.00))"
   ]
  },
  {
   "cell_type": "code",
   "execution_count": null,
   "metadata": {},
   "outputs": [],
   "source": []
  }
 ],
 "metadata": {
  "kernelspec": {
   "display_name": "Python 3",
   "language": "python",
   "name": "python3"
  },
  "language_info": {
   "codemirror_mode": {
    "name": "ipython",
    "version": 3
   },
   "file_extension": ".py",
   "mimetype": "text/x-python",
   "name": "python",
   "nbconvert_exporter": "python",
   "pygments_lexer": "ipython3",
   "version": "3.6.3"
  }
 },
 "nbformat": 4,
 "nbformat_minor": 2
}
