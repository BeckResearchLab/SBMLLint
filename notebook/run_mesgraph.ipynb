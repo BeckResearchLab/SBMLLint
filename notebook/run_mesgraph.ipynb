{
 "cells": [
  {
   "cell_type": "code",
   "execution_count": 1,
   "metadata": {},
   "outputs": [
    {
     "name": "stdout",
     "output_type": "stream",
     "text": [
      "Current Directory: /Users/woosubshin/Desktop/ModelEngineering/SBMLLint/notebook\n"
     ]
    }
   ],
   "source": [
    "from games_setup import *\n",
    "import SBMLLint.common.constants as cn\n",
    "from SBMLLint.games.som import SOM\n",
    "from SBMLLint.games.mesgraph import MESGraph"
   ]
  },
  {
   "cell_type": "code",
   "execution_count": 2,
   "metadata": {},
   "outputs": [
    {
     "data": {
      "text/plain": [
       "['reaction8: C + Y -> Z',\n",
       " 'reaction9: Z -> C + Y',\n",
       " 'reaction10: Z -> C',\n",
       " 'reaction11: Z -> Y']"
      ]
     },
     "execution_count": 2,
     "metadata": {},
     "output_type": "execute_result"
    }
   ],
   "source": [
    "simple = load_file_from_curated_data(8)\n",
    "reactions = []\n",
    "for reaction in simple.reactions:\n",
    "  if reaction.category != cn.REACTION_BOUNDARY:\n",
    "    reactions.append(reaction.makeIdentifier(is_include_kinetics=False))\n",
    "m = MESGraph(simple)\n",
    "reactions"
   ]
  },
  {
   "cell_type": "code",
   "execution_count": 3,
   "metadata": {},
   "outputs": [
    {
     "name": "stdout",
     "output_type": "stream",
     "text": [
      "C = Z by reaction(s):\n",
      "reaction10: Z -> C\n",
      "\n",
      "However, the following reaction(s)\n",
      "reaction9: Z -> C + Y\n",
      "reaction8: C + Y -> Z\n",
      "imply C < Z\n",
      "------------------------------------\n",
      "Y = Z by reaction(s):\n",
      "reaction11: Z -> Y\n",
      "\n",
      "However, the following reaction(s)\n",
      "reaction9: Z -> C + Y\n",
      "reaction8: C + Y -> Z\n",
      "imply Y < Z\n",
      "------------------------------------\n",
      "************************************\n"
     ]
    },
    {
     "data": {
      "text/plain": [
       "{M};{X};{C, Y, Z}"
      ]
     },
     "execution_count": 3,
     "metadata": {},
     "output_type": "execute_result"
    }
   ],
   "source": [
    "m.analyze(simple.reactions)"
   ]
  },
  {
   "cell_type": "code",
   "execution_count": 4,
   "metadata": {},
   "outputs": [
    {
     "data": {
      "text/plain": [
       "[PathComponents(node1='C', node2='Z', reactions=['reaction9', 'reaction8']),\n",
       " PathComponents(node1='Y', node2='Z', reactions=['reaction9', 'reaction8'])]"
      ]
     },
     "execution_count": 4,
     "metadata": {},
     "output_type": "execute_result"
    }
   ],
   "source": [
    "m.type_one_errors"
   ]
  },
  {
   "cell_type": "code",
   "execution_count": 5,
   "metadata": {},
   "outputs": [
    {
     "name": "stdout",
     "output_type": "stream",
     "text": [
      "[PathComponents(node1='Y', node2='Z', reactions=['reaction9', 'reaction8']), PathComponents(node1='C', node2='Z', reactions=['reaction8', 'reaction9'])]\n"
     ]
    }
   ],
   "source": [
    "PathComponents = collections.namedtuple('PathComponents',\n",
    "                                        'node1 node2 reactions')\n",
    "toe = m.type_one_errors\n",
    "p = toe[0]\n",
    "new_p = PathComponents(p.node1, p.node2, list(set(p.reactions)))\n",
    "toe.remove(p)\n",
    "toe.append(new_p)\n",
    "print(toe)"
   ]
  },
  {
   "cell_type": "code",
   "execution_count": 6,
   "metadata": {},
   "outputs": [],
   "source": [
    "simple = load_file_from_curated_data(18)\n",
    "reactions = []\n",
    "for reaction in simple.reactions:\n",
    "  if reaction.category != cn.REACTION_BOUNDARY:\n",
    "    reactions.append(reaction.makeIdentifier(is_include_kinetics=False))\n",
    "m = MESGraph(simple)\n",
    "#reactions"
   ]
  },
  {
   "cell_type": "code",
   "execution_count": 7,
   "metadata": {},
   "outputs": [
    {
     "name": "stdout",
     "output_type": "stream",
     "text": [
      "FH4 = CH2FH4 by reaction(s):\n",
      "SHMTr: CH2FH4 -> FH4\n",
      "\n",
      "However, the following reaction(s)\n",
      "CH2FH4toHCHO: CH2FH4 -> FH4 + HCHO\n",
      "SHMT: FH4 + serine -> CH2FH4\n",
      "HCHOtoCH2FH4: FH4 + HCHO -> CH2FH4\n",
      "imply FH4 < CH2FH4\n",
      "------------------------------------\n",
      "CH2FH4 = FH4 by reaction(s):\n",
      "SHMTr: CH2FH4 -> FH4\n",
      "FH4 = FH2f by reaction(s):\n",
      "DHFReductase: FH2f -> FH4\n",
      "\n",
      "However, the following reaction(s)\n",
      "TYMS: CH2FH4 + dUMP -> FH2f\n",
      "imply CH2FH4 < FH2f\n",
      "------------------------------------\n",
      "FFH2 = FH2f by reaction(s):\n",
      "FFH2syn: FH2f -> FFH2\n",
      "\n",
      "However, the following reaction(s)\n",
      "ATIC12: FFH2 + AICAR -> FH2f\n",
      "imply FFH2 < FH2f\n",
      "------------------------------------\n",
      "MTX1 = MTX1b by reaction(s):\n",
      "MTX1deg: MTX1b -> MTX1\n",
      "\n",
      "However, the following reaction(s)\n",
      "MTX1off: MTX1b -> MTX1 + DHFRf\n",
      "MTX1on: MTX1 + DHFRf -> MTX1b\n",
      "imply MTX1 < MTX1b\n",
      "------------------------------------\n",
      "MTX2 = MTX2b by reaction(s):\n",
      "MTX2deg: MTX2b -> MTX2\n",
      "\n",
      "However, the following reaction(s)\n",
      "MTX2off: MTX2b -> MTX2 + DHFRf\n",
      "MTX2on: MTX2 + DHFRf -> MTX2b\n",
      "imply MTX2 < MTX2b\n",
      "------------------------------------\n",
      "MTX3 = MTX3b by reaction(s):\n",
      "MTX3deg: MTX3b -> MTX3\n",
      "\n",
      "However, the following reaction(s)\n",
      "MTX3off: MTX3b -> MTX3 + DHFRf\n",
      "MTX3on: MTX3 + DHFRf -> MTX3b\n",
      "imply MTX3 < MTX3b\n",
      "------------------------------------\n",
      "MTX4 = MTX4b by reaction(s):\n",
      "MTX4deg: MTX4b -> MTX4\n",
      "\n",
      "However, the following reaction(s)\n",
      "MTX4off: MTX4b -> MTX4 + DHFRf\n",
      "MTX4on: MTX4 + DHFRf -> MTX4b\n",
      "imply MTX4 < MTX4b\n",
      "------------------------------------\n",
      "MTX5 = MTX5b by reaction(s):\n",
      "MTX5deg: MTX5b -> MTX5\n",
      "\n",
      "However, the following reaction(s)\n",
      "MTX5off: MTX5b -> MTX5 + DHFRf\n",
      "MTX5on: MTX5 + DHFRf -> MTX5b\n",
      "imply MTX5 < MTX5b\n",
      "------------------------------------\n",
      "************************************\n",
      "\n",
      "CH3FH4 < FH4 by reaction:\n",
      "MTR: CH3FH4 + homocysteine -> FH4\n",
      "\n",
      "CH2FH4 < CH3FH4 by reaction:\n",
      "MTHFR: CH2FH4 + NADPH -> CH3FH4\n",
      "------------------------------------\n",
      "\n",
      "CHOFH4 < FH4 by reaction:\n",
      "ATIC7: CHOFH4 + AICAR -> FH4\n",
      "\n",
      "FH4 = CH2FH4 by reaction(s):\n",
      "SHMTr: CH2FH4 -> FH4\n",
      "\n",
      "FH4 < CHOFH4 by reaction:\n",
      "HCOOHtoCHOFH4: FH4 + formate + ATP -> CHOFH4\n",
      "\n",
      "CH2FH4 < CHOFH4 by reaction:\n",
      "MTHFD: CH2FH4 + NADP -> CHOFH4\n",
      "------------------------------------\n"
     ]
    },
    {
     "data": {
      "text/plain": [
       "{serine}->{CH2FH4, FFH2, FH2f, FH4}\n",
       "{HCHO}->{CH2FH4, FFH2, FH2f, FH4}\n",
       "{NADPH}->{CH3FH4}\n",
       "{CH3FH4}->{CH2FH4, FFH2, FH2f, FH4}\n",
       "{homocysteine}->{CH2FH4, FFH2, FH2f, FH4}\n",
       "{formate}->{CHOFH4}\n",
       "{ATP}->{CHOFH4}\n",
       "{CHOFH4}->{CH2FH4, FFH2, FH2f, FH4}\n",
       "{NADP}->{CHOFH4}\n",
       "{dUMP}->{CH2FH4, FFH2, FH2f, FH4}\n",
       "{DHFRf}->{EMTX, MTX1, MTX1b, MTX2, MTX2b, MTX3, MTX3b, MTX4, MTX4b, MTX5, MTX5b}\n",
       "{CH2FH4, FFH2, FH2f, FH4}->{CH3FH4}\n",
       "{CH2FH4, FFH2, FH2f, FH4}->{CHOFH4}\n",
       "{AICAR, FGAR}->{CH2FH4, FFH2, FH2f, FH4}\n",
       "{GAR}"
      ]
     },
     "execution_count": 7,
     "metadata": {},
     "output_type": "execute_result"
    }
   ],
   "source": [
    "m.analyze(simple.reactions)"
   ]
  },
  {
   "cell_type": "code",
   "execution_count": 9,
   "metadata": {},
   "outputs": [
    {
     "data": {
      "text/plain": [
       "[[PathComponents(node1=['CHOFH4'], node2=['FH4'], reactions=['ATIC7']),\n",
       "  PathComponents(node1=['FH4', 'CH2FH4'], node2=['CHOFH4', 'CHOFH4'], reactions=['HCOOHtoCHOFH4', 'MTHFD'])],\n",
       " [PathComponents(node1=['CH2FH4'], node2=['CH3FH4'], reactions=['MTHFR']),\n",
       "  PathComponents(node1=['CH3FH4'], node2=['FH4'], reactions=['MTR'])]]"
      ]
     },
     "execution_count": 9,
     "metadata": {},
     "output_type": "execute_result"
    }
   ],
   "source": [
    "m.type_two_errors"
   ]
  },
  {
   "cell_type": "code",
   "execution_count": 15,
   "metadata": {},
   "outputs": [
    {
     "name": "stdout",
     "output_type": "stream",
     "text": [
      "SHMT: FH4 + serine -> CH2FH4\n",
      "SHMTr: CH2FH4 -> FH4\n",
      "HCHOtoCH2FH4: FH4 + HCHO -> CH2FH4\n",
      "CH2FH4toHCHO: CH2FH4 -> FH4 + HCHO\n",
      "MTHFR: CH2FH4 + NADPH -> CH3FH4\n",
      "MTR: CH3FH4 + homocysteine -> FH4\n",
      "HCOOHtoCHOFH4: FH4 + formate + ATP -> CHOFH4\n",
      "GARFT: CHOFH4 + GAR -> FGAR + FH4\n",
      "ATIC7: CHOFH4 + AICAR -> FH4\n",
      "MTHFD: CH2FH4 + NADP -> CHOFH4\n",
      "TYMS: CH2FH4 + dUMP -> FH2f\n",
      "DHFReductase: FH2f -> FH4\n",
      "FFH2syn: FH2f -> FFH2\n",
      "ATIC12: FFH2 + AICAR -> FH2f\n",
      "AICARsyn: FGAR -> AICAR\n",
      "FPGS12: MTX1 -> MTX2\n",
      "FPGS23: MTX2 -> MTX3\n",
      "FPGS34: MTX3 -> MTX4\n",
      "FPGS45: MTX4 -> MTX5\n",
      "GGH21: MTX2 -> MTX1\n",
      "GGH32: MTX3 -> MTX2\n",
      "GGH43: MTX4 -> MTX3\n",
      "GGH54: MTX5 -> MTX4\n",
      "RFC: EMTX -> MTX1\n",
      "MTX1on: MTX1 + DHFRf -> MTX1b\n",
      "MTX2on: MTX2 + DHFRf -> MTX2b\n",
      "MTX3on: MTX3 + DHFRf -> MTX3b\n",
      "MTX4on: MTX4 + DHFRf -> MTX4b\n",
      "MTX5on: MTX5 + DHFRf -> MTX5b\n",
      "MTX1off: MTX1b -> MTX1 + DHFRf\n",
      "MTX2off: MTX2b -> MTX2 + DHFRf\n",
      "MTX3off: MTX3b -> MTX3 + DHFRf\n",
      "MTX4off: MTX4b -> MTX4 + DHFRf\n",
      "MTX5off: MTX5b -> MTX5 + DHFRf\n",
      "MTX1deg: MTX1b -> MTX1\n",
      "MTX2deg: MTX2b -> MTX2\n",
      "MTX3deg: MTX3b -> MTX3\n",
      "MTX4deg: MTX4b -> MTX4\n",
      "MTX5deg: MTX5b -> MTX5\n"
     ]
    }
   ],
   "source": [
    "for reaction in simple.reactions:\n",
    "  if reaction.category != cn.REACTION_BOUNDARY:\n",
    "    print(reaction.makeIdentifier(is_include_kinetics=False))"
   ]
  },
  {
   "cell_type": "code",
   "execution_count": 7,
   "metadata": {
    "collapsed": true
   },
   "outputs": [],
   "source": [
    "INITIAL_NODES = 14\n",
    "INITIAL_EDGES = 0\n",
    "FINAL_NODES = 6\n",
    "FINAL_EDGES = 6\n",
    "UNIUNI0 = 0\n",
    "UNIUNI1 = 7\n",
    "UNIUNI2 = 8\n",
    "UNIMULTI = 2\n",
    "MULTIUNI = 13\n",
    "INEQUAL1 = 14\n",
    "INEQUAL2 = 15\n",
    "AA = \"AA\"\n",
    "CN = \"Cn\"\n",
    "DFG = \"DFG\"\n",
    "E1 = \"E1\"\n",
    "E2 = \"E2\"\n",
    "FRU = \"Fru\"\n",
    "GLY = \"Gly\"\n",
    "MEL = \"Mel\"\n",
    "MG = \"MG\""
   ]
  },
  {
   "cell_type": "code",
   "execution_count": 19,
   "metadata": {
    "collapsed": true
   },
   "outputs": [
    {
     "ename": "AttributeError",
     "evalue": "'list' object has no attribute 'popleft'",
     "output_type": "error",
     "traceback": [
      "\u001b[0;31m---------------------------------------------------------------------------\u001b[0m",
      "\u001b[0;31mAttributeError\u001b[0m                            Traceback (most recent call last)",
      "\u001b[0;32m<ipython-input-19-fb4070283611>\u001b[0m in \u001b[0;36m<module>\u001b[0;34m()\u001b[0m\n\u001b[1;32m      3\u001b[0m \u001b[0ma\u001b[0m\u001b[0;34m.\u001b[0m\u001b[0mpopleft\u001b[0m\u001b[0;34m(\u001b[0m\u001b[0;34m)\u001b[0m\u001b[0;34m\u001b[0m\u001b[0m\n\u001b[1;32m      4\u001b[0m \u001b[0mb\u001b[0m \u001b[0;34m=\u001b[0m \u001b[0;34m[\u001b[0m\u001b[0;36m1\u001b[0m\u001b[0;34m,\u001b[0m\u001b[0;36m2\u001b[0m\u001b[0;34m,\u001b[0m\u001b[0;36m3\u001b[0m\u001b[0;34m]\u001b[0m\u001b[0;34m\u001b[0m\u001b[0m\n\u001b[0;32m----> 5\u001b[0;31m \u001b[0mb\u001b[0m\u001b[0;34m.\u001b[0m\u001b[0mpopleft\u001b[0m\u001b[0;34m(\u001b[0m\u001b[0;34m)\u001b[0m\u001b[0;34m\u001b[0m\u001b[0m\n\u001b[0m",
      "\u001b[0;31mAttributeError\u001b[0m: 'list' object has no attribute 'popleft'"
     ]
    }
   ],
   "source": [
    "\n",
    "a = collections.deque([1,2,3])\n",
    "a.popleft()\n",
    "b = [1,2,3]"
   ]
  },
  {
   "cell_type": "code",
   "execution_count": 9,
   "metadata": {},
   "outputs": [
    {
     "data": {
      "text/plain": [
       "False"
      ]
     },
     "execution_count": 9,
     "metadata": {},
     "output_type": "execute_result"
    }
   ],
   "source": [
    "molecules = [som.molecules for som in m.nodes]\n",
    "{simple.getMolecule('MKKK')} in molecules"
   ]
  },
  {
   "cell_type": "code",
   "execution_count": 10,
   "metadata": {},
   "outputs": [
    {
     "data": {
      "text/plain": [
       "'{DFG};{E1};{E2};{Gly};{Cn};{_3DG};{FA};{_1DG};{AA};{Man};{Glu};{Mel};{MG};{Fru}'"
      ]
     },
     "execution_count": 10,
     "metadata": {},
     "output_type": "execute_result"
    }
   ],
   "source": [
    "m.identifier"
   ]
  },
  {
   "cell_type": "code",
   "execution_count": 11,
   "metadata": {},
   "outputs": [
    {
     "name": "stdout",
     "output_type": "stream",
     "text": [
      "True\n",
      "True\n",
      "True\n"
     ]
    }
   ],
   "source": [
    "# test constructor:\n",
    "print(len(m.nodes) == INITIAL_NODES)\n",
    "print(len(m.edges) == INITIAL_EDGES)\n",
    "dfg = simple.getMolecule(DFG)\n",
    "# molecules is a list of one-molecule sets\n",
    "molecules = [som.molecules for som in m.nodes]\n",
    "print({simple.getMolecule(DFG)} in molecules)"
   ]
  },
  {
   "cell_type": "code",
   "execution_count": 12,
   "metadata": {},
   "outputs": [
    {
     "name": "stdout",
     "output_type": "stream",
     "text": [
      "True\n",
      "True\n",
      "True\n",
      "True\n",
      "True\n",
      "True\n",
      "True\n",
      "True\n",
      "True\n",
      "True\n",
      "True\n",
      "True\n",
      "True\n",
      "True\n"
     ]
    }
   ],
   "source": [
    "# testInitializeSOMs\n",
    "for node in m.nodes:\n",
    "  print(type(node) == SOM)"
   ]
  },
  {
   "cell_type": "code",
   "execution_count": 13,
   "metadata": {},
   "outputs": [
    {
     "name": "stdout",
     "output_type": "stream",
     "text": [
      "True\n"
     ]
    }
   ],
   "source": [
    "# testMakeId\n",
    "identifier = \"\"\n",
    "for key, som in enumerate(m.nodes):\n",
    "  identifier = identifier + som.identifier\n",
    "  if key < len(m.nodes)-1:\n",
    "    identifier = identifier + \";\"\n",
    "print(identifier == m.identifier)"
   ]
  },
  {
   "cell_type": "code",
   "execution_count": 14,
   "metadata": {},
   "outputs": [
    {
     "name": "stdout",
     "output_type": "stream",
     "text": [
      "True\n",
      "True\n"
     ]
    }
   ],
   "source": [
    "# testGetNode\n",
    "aa = simple.getMolecule(AA)\n",
    "aa_som = m.getNode(aa)\n",
    "print(type(aa_som) == SOM)\n",
    "print(aa_som.molecules == {aa})"
   ]
  },
  {
   "cell_type": "code",
   "execution_count": 15,
   "metadata": {},
   "outputs": [
    {
     "name": "stdout",
     "output_type": "stream",
     "text": [
      "True\n",
      "True\n",
      "True\n"
     ]
    }
   ],
   "source": [
    "# testUniUniReaction\n",
    "uniuni_reaction = simple.reactions[UNIUNI0]\n",
    "m.processUniUniReaction(uniuni_reaction)\n",
    "dfg = m.getNode(simple.getMolecule(DFG))\n",
    "e1 = m.getNode(simple.getMolecule(E1))\n",
    "print(m.has_node(dfg) == True)\n",
    "print(m.has_node(e1) == True)\n",
    "print(dfg == e1)"
   ]
  },
  {
   "cell_type": "code",
   "execution_count": 17,
   "metadata": {},
   "outputs": [
    {
     "name": "stdout",
     "output_type": "stream",
     "text": [
      "v3: DFG -> Gly + Cn; k3 * DFG\n",
      "True\n",
      "True\n"
     ]
    }
   ],
   "source": [
    "# testUniMultiReaction\n",
    "unimulti_reaction = simple.reactions[UNIMULTI]\n",
    "print(unimulti_reaction)\n",
    "m.processUniMultiReaction(unimulti_reaction)\n",
    "prods = [m.getNode(product.molecule) for product in unimulti_reaction.products]\n",
    "dfg = m.getNode(simple.getMolecule(DFG))\n",
    "for prod in prods:\n",
    "  print(m.has_edge(prod, dfg))"
   ]
  },
  {
   "cell_type": "code",
   "execution_count": 18,
   "metadata": {},
   "outputs": [
    {
     "data": {
      "text/plain": [
       "OutEdgeView([({Gly}, {DFG, E1}), ({Cn}, {DFG, E1})])"
      ]
     },
     "execution_count": 18,
     "metadata": {},
     "output_type": "execute_result"
    }
   ],
   "source": [
    "m.edges"
   ]
  },
  {
   "cell_type": "code",
   "execution_count": 19,
   "metadata": {},
   "outputs": [
    {
     "name": "stdout",
     "output_type": "stream",
     "text": [
      "v14: Gly + Cn -> Mel; k14 * Cn * Gly\n",
      "True\n",
      "True\n"
     ]
    }
   ],
   "source": [
    "# testMultiUniReaction\n",
    "multiuni_reaction = simple.reactions[MULTIUNI]\n",
    "print(multiuni_reaction)\n",
    "m.processMultiUniReaction(multiuni_reaction)\n",
    "reacts = [m.getNode(reactant.molecule) for reactant in multiuni_reaction.reactants]\n",
    "mel = m.getNode(simple.getMolecule(MEL))\n",
    "for react in reacts:\n",
    "  print(m.has_edge(react, mel))"
   ]
  },
  {
   "cell_type": "code",
   "execution_count": 20,
   "metadata": {},
   "outputs": [
    {
     "data": {
      "text/plain": [
       "OutEdgeView([({Gly}, {DFG, E1}), ({Gly}, {Mel}), ({Cn}, {DFG, E1}), ({Cn}, {Mel})])"
      ]
     },
     "execution_count": 20,
     "metadata": {},
     "output_type": "execute_result"
    }
   ],
   "source": [
    "m.edges"
   ]
  },
  {
   "cell_type": "code",
   "execution_count": 21,
   "metadata": {},
   "outputs": [
    {
     "name": "stdout",
     "output_type": "stream",
     "text": [
      "True\n",
      "True\n",
      "True\n",
      "True\n",
      "[({Gly}, {DFG, E1}), ({Gly}, {Mel}), ({Gly}, {E2}), ({Cn}, {DFG, E1}), ({Cn}, {Mel}), ({Fru}, {E2})]\n"
     ]
    }
   ],
   "source": [
    "# testAddArc\n",
    "source = [simple.getMolecule(FRU), simple.getMolecule(GLY)]\n",
    "destination = [simple.getMolecule(E2)]\n",
    "dummy_reaction = simple.reactions[INEQUAL2]\n",
    "m.addArc(source, destination, dummy_reaction)\n",
    "arc1 = [m.getNode(source[0]), \n",
    "        m.getNode(destination[0])]\n",
    "arc2 = [m.getNode(source[1]), \n",
    "        m.getNode(destination[0])]\n",
    "print(m.has_edge(arc1[0], arc1[1]))\n",
    "print(m.has_edge(arc2[0], arc2[1]))\n",
    "reaction_label1 = m.get_edge_data(arc1[0], arc1[1])[cn.REACTION][0]\n",
    "reaction_label2 = m.get_edge_data(arc2[0], arc1[1])[cn.REACTION][0]\n",
    "print(reaction_label1 == dummy_reaction.label)\n",
    "print(reaction_label1 == reaction_label2)\n",
    "print(m.edges)"
   ]
  },
  {
   "cell_type": "code",
   "execution_count": 22,
   "metadata": {},
   "outputs": [
    {
     "name": "stdout",
     "output_type": "stream",
     "text": [
      "We have a Type I Error...\n",
      "AA  and  Cn  have the same weight by\n",
      "v9: _1DG -> AA; k9 * _1DG\n",
      "v8: _1DG -> Cn; k8 * _1DG\n",
      "\n",
      "However, reaction \" v15: Cn -> AA + FA + MG; k15 * Cn \" implies  AA < Cn\n",
      "We cannot add the arc:  AA -> Cn\n",
      "\n",
      "True\n",
      "True\n"
     ]
    }
   ],
   "source": [
    "# test checkTypeOneError\n",
    "uniuni_reaction1 = simple.reactions[7]\n",
    "uniuni_reaction2 = simple.reactions[8]\n",
    "inequality_reaction1 = simple.reactions[14]\n",
    "inequality_reaction2 = simple.reactions[15]\n",
    "m.processUniUniReaction(uniuni_reaction1)\n",
    "m.processUniUniReaction(uniuni_reaction2)\n",
    "aa = simple.getMolecule(AA)\n",
    "cn = simple.getMolecule(CN)\n",
    "mg = simple.getMolecule(MG)\n",
    "print(m.checkTypeOneError((aa, cn), inequality_reaction1) == True)\n",
    "print(m.checkTypeOneError((mg, aa), inequality_reaction2) == False)"
   ]
  },
  {
   "cell_type": "code",
   "execution_count": 30,
   "metadata": {},
   "outputs": [
    {
     "name": "stdout",
     "output_type": "stream",
     "text": [
      "We have a Type II Error...\n",
      "\n",
      "{HBrO2} < {HOBr} < {HBrO2} \n",
      "\n",
      "{HBrO2} -> {HOBr}  by\n",
      "Reaction2\n",
      "\n",
      "{HOBr} -> {HBrO2}  by\n",
      "Reaction4\n",
      "\n",
      "True\n",
      "True\n",
      "True\n"
     ]
    }
   ],
   "source": [
    "# test checkTypeTwoError\n",
    "REACTION1 = \"Reaction2\"\n",
    "REACTION2 = \"Reaction4\"\n",
    "simple2 = load_file_from_curated_data(40)\n",
    "m2 = MESGraph(simple2)\n",
    "m2.processMultiUniReaction(simple2.getReaction(REACTION1))\n",
    "m2.processUniMultiReaction(simple2.getReaction(REACTION2))\n",
    "print(m2.checkTypeTwoError() == True)\n",
    "print(m2.type_one_error == False)\n",
    "print(m2.type_two_error == True)"
   ]
  },
  {
   "cell_type": "code",
   "execution_count": 107,
   "metadata": {},
   "outputs": [
    {
     "name": "stdout",
     "output_type": "stream",
     "text": [
      "v17: complexC -> Fus3 + Ste11 + Ste7 + Ste5; compartment * complexC * k17\n",
      "[1.0]\n",
      "[1.0, 1.0, 1.0, 1.0]\n"
     ]
    }
   ],
   "source": [
    "reaction = simple.reactions[16]\n",
    "print(reaction)\n",
    "rct = [a.stoichiometry for a in reaction.reactants]\n",
    "pdt = [b.stoichiometry for b in reaction.products]\n",
    "print(rct)\n",
    "print(pdt)"
   ]
  },
  {
   "cell_type": "code",
   "execution_count": 109,
   "metadata": {},
   "outputs": [
    {
     "data": {
      "text/plain": [
       "0"
      ]
     },
     "execution_count": 109,
     "metadata": {},
     "output_type": "execute_result"
    }
   ],
   "source": [
    "sum([])"
   ]
  },
  {
   "cell_type": "code",
   "execution_count": 108,
   "metadata": {},
   "outputs": [
    {
     "data": {
      "text/plain": [
       "4.0"
      ]
     },
     "execution_count": 108,
     "metadata": {},
     "output_type": "execute_result"
    }
   ],
   "source": [
    "sum(pdt)"
   ]
  },
  {
   "cell_type": "code",
   "execution_count": 39,
   "metadata": {},
   "outputs": [
    {
     "data": {
      "text/plain": [
       "NodeView(({MKKK, MKKK_P}, {MKK, MKK_P, MKK_PP}, {MAPK, MAPK_P, MAPK_PP}))"
      ]
     },
     "execution_count": 39,
     "metadata": {},
     "output_type": "execute_result"
    }
   ],
   "source": [
    "m_analyze.nodes"
   ]
  },
  {
   "cell_type": "code",
   "execution_count": 42,
   "metadata": {},
   "outputs": [
    {
     "data": {
      "text/plain": [
       "[Reaction1: Br + BrO3 -> HBrO2 + HOBr; Br * BrO3 * k1 * BZ,\n",
       " Reaction2: Br + HBrO2 -> 2.00 HOBr; Br * HBrO2 * k2 * BZ,\n",
       " Reaction3: BrO3 + HBrO2 -> Ce + 2.00 HBrO2; BrO3 * HBrO2 * k3 * BZ,\n",
       " Reaction4: 2.00 HBrO2 -> BrO3 + HOBr; pow(HBrO2, 2) * k4 * BZ,\n",
       " Reaction5: Ce -> Br; Ce * k5 * BZ]"
      ]
     },
     "execution_count": 42,
     "metadata": {},
     "output_type": "execute_result"
    }
   ],
   "source": [
    "simple2.reactions"
   ]
  },
  {
   "cell_type": "code",
   "execution_count": 40,
   "metadata": {},
   "outputs": [
    {
     "name": "stdout",
     "output_type": "stream",
     "text": [
      "We have a Type I Error...\n",
      "AA  and  Cn  have the same weight by\n",
      "v5: _3DG -> Cn; k5 * _3DG\n",
      "v6: _3DG -> FA; k6 * _3DG\n",
      "v8: _1DG -> Cn; k8 * _1DG\n",
      "v13: Glu -> _3DG; k13 * Glu\n",
      "v12: Man -> Glu; k12 * Man\n",
      "v9: _1DG -> AA; k9 * _1DG\n",
      "\n",
      "However, reaction \" v15: Cn -> AA + FA + MG; k15 * Cn \" implies  AA < Cn\n",
      "We cannot add the arc:  AA -> Cn\n",
      "\n",
      "We have a Type I Error...\n",
      "FA  and  Cn  have the same weight by\n",
      "v5: _3DG -> Cn; k5 * _3DG\n",
      "v6: _3DG -> FA; k6 * _3DG\n",
      "v8: _1DG -> Cn; k8 * _1DG\n",
      "v13: Glu -> _3DG; k13 * Glu\n",
      "v12: Man -> Glu; k12 * Man\n",
      "v9: _1DG -> AA; k9 * _1DG\n",
      "\n",
      "However, reaction \" v15: Cn -> AA + FA + MG; k15 * Cn \" implies  FA < Cn\n",
      "We cannot add the arc:  FA -> Cn\n",
      "\n",
      "No cycles! No Type II Error!\n",
      "{Gly}->{DFG, E1, E2}\n",
      "{Gly}->{Mel}\n",
      "{MG}->{AA, Cn, FA, Glu, Man, _1DG, _3DG}\n",
      "{Fru}->{DFG, E1, E2}\n",
      "{AA, Cn, FA, Glu, Man, _1DG, _3DG}->{DFG, E1, E2}\n",
      "{AA, Cn, FA, Glu, Man, _1DG, _3DG}->{Mel}\n",
      "\n",
      "True\n",
      "True\n",
      "True\n",
      "True\n",
      "We have a Type II Error...\n",
      "\n",
      "{HOBr} < {HBrO2} < {HOBr} \n",
      "\n",
      "{HOBr} -> {HBrO2}  by\n",
      "Reaction4\n",
      "\n",
      "{HBrO2} -> {HOBr}  by\n",
      "Reaction2\n",
      "\n",
      "True\n",
      "True\n"
     ]
    }
   ],
   "source": [
    "# test analyze\n",
    "simple1 = load_file_from_curated_data(50)\n",
    "m_analyze = MESGraph(simple1)\n",
    "m_analyze.analyze(simple1.reactions)\n",
    "print(m_analyze.identifier)\n",
    "print(len(m_analyze.nodes) == 6)\n",
    "print(len(m_analyze.edges) == 6)\n",
    "print(m_analyze.type_one_error == True)\n",
    "print(m_analyze.type_two_error == False)\n",
    "\n",
    "simple2 = load_file_from_curated_data(40)\n",
    "m_analyze2 = MESGraph(simple2)\n",
    "m_analyze2.analyze(simple2.reactions)\n",
    "print(m_analyze2.type_one_error == False)\n",
    "print(m_analyze2.type_two_error == True)"
   ]
  },
  {
   "cell_type": "code",
   "execution_count": null,
   "metadata": {
    "collapsed": true
   },
   "outputs": [],
   "source": [
    "cn.RE"
   ]
  },
  {
   "cell_type": "code",
   "execution_count": null,
   "metadata": {
    "collapsed": true
   },
   "outputs": [],
   "source": [
    "# reduceReaction: \n",
    "def reduce(cls, reaction):\n",
    "  Reduces reaction using existing cls.soms\n",
    "  :param Reaction reaction:\n",
    "  :return reaction/False:     \n",
    "  # flag that will show whether the reaction was reduced\n",
    "  reduced = False\n",
    "  if reaction.category != cn.REACTION_n_n:\n",
    "    return reduced\n",
    "  # Reduces the reaction by examining all SOMs\n",
    "  for som in cls.soms:\n",
    "    reactants_in = deque([mole_stoich for mole_stoich in  \n",
    "                           reaction.reactants if \n",
    "                           mole_stoich.molecule in som.molecules])\n",
    "    reactants_out = [mole_stoich for mole_stoich in  \n",
    "                      reaction.reactants if \n",
    "                      mole_stoich.molecule not in som.molecules]\n",
    "    products_in = deque([mole_stoich for mole_stoich in  \n",
    "                          reaction.products if \n",
    "                          mole_stoich.molecule in som.molecules])\n",
    "    products_out = [mole_stoich for mole_stoich in  \n",
    "                     reaction.products if \n",
    "                     mole_stoich.molecule not in som.molecules]\n",
    "      #\n",
    "  while reactants_in and products_in:\n",
    "    reactant = reactants_in[0]\n",
    "    product = products_in[0]\n",
    "    if reactant.stoichiometry > product.stoichiometry:\n",
    "      reactants_in[0] = MoleculeStoichiometry(reactant.molecule,\n",
    "                                            reactant.stoichiometry - product.stoichiometry)\n",
    "      products_in.popleft()\n",
    "    elif reactant.stoichiometry < product.stoichiometry:\n",
    "      products_in[0] = MoleculeStoichiometry(product.molecule,\n",
    "                                            product.stoichiometry - reactant.stoichiometry)\n",
    "      reactants_in.popleft()\n",
    "    else:\n",
    "      reactants_in.popleft()\n",
    "      products_in.popleft()\n",
    "    reactants = list(reactants_in) + reactants_out\n",
    "    products = list(products_in) + products_out\n",
    "    #  \n",
    "  if (len(reaction.reactants) > len(reactants)) | \\\n",
    "    (len(reaction.products) > len(products)):\n",
    "    reduced = True\n",
    "    reaction.reactants = reactants\n",
    "    reaction.products = products\n",
    "        \n",
    "  if reduced:\n",
    "    reaction.identifier = reaction.makeIdentifier()\n",
    "    reaction.category = reaction._getCategory() \n",
    "    return reaction\n",
    "  else:\n",
    "    return reduced"
   ]
  },
  {
   "cell_type": "code",
   "execution_count": null,
   "metadata": {
    "collapsed": true
   },
   "outputs": [],
   "source": [
    "# processMultiMultiReactions:\n"
   ]
  },
  {
   "cell_type": "code",
   "execution_count": null,
   "metadata": {
    "collapsed": true
   },
   "outputs": [],
   "source": []
  },
  {
   "cell_type": "code",
   "execution_count": null,
   "metadata": {
    "collapsed": true
   },
   "outputs": [],
   "source": []
  },
  {
   "cell_type": "code",
   "execution_count": 29,
   "metadata": {},
   "outputs": [
    {
     "name": "stdout",
     "output_type": "stream",
     "text": [
      "We have a Type I Error...\n",
      "AA  and  Cn  have the same weight by\n",
      "v8: _1DG -> Cn; k8 * _1DG\n",
      "v12: Man -> Glu; k12 * Man\n",
      "v9: _1DG -> AA; k9 * _1DG\n",
      "v13: Glu -> _3DG; k13 * Glu\n",
      "v5: _3DG -> Cn; k5 * _3DG\n",
      "v6: _3DG -> FA; k6 * _3DG\n",
      "\n",
      "However, reaction \" v15: Cn -> AA + FA + MG; k15 * Cn \" implies  AA < Cn\n",
      "We cannot add the arc:  AA -> Cn\n",
      "\n",
      "We have a Type I Error...\n",
      "FA  and  Cn  have the same weight by\n",
      "v8: _1DG -> Cn; k8 * _1DG\n",
      "v12: Man -> Glu; k12 * Man\n",
      "v9: _1DG -> AA; k9 * _1DG\n",
      "v13: Glu -> _3DG; k13 * Glu\n",
      "v5: _3DG -> Cn; k5 * _3DG\n",
      "v6: _3DG -> FA; k6 * _3DG\n",
      "\n",
      "However, reaction \" v15: Cn -> AA + FA + MG; k15 * Cn \" implies  FA < Cn\n",
      "We cannot add the arc:  FA -> Cn\n",
      "\n"
     ]
    }
   ],
   "source": [
    "reactions = []\n",
    "for reaction in [r for r in simple.reactions if r.category!=cn.REACTION_BOUNDARY]:\n",
    "  if (reaction.reactants[0].molecule.name == cn.EMPTYSET) | \\\n",
    "      (reaction.products[0].molecule.name == cn.EMPTYSET):\n",
    "   continue\n",
    "  else:\n",
    "    reactions.append(reaction)\n",
    "# for reaction in reactions:\n",
    "#   print(reaction)\n",
    "z = m.analyze(reactions)"
   ]
  },
  {
   "cell_type": "code",
   "execution_count": null,
   "metadata": {
    "collapsed": true
   },
   "outputs": [],
   "source": []
  }
 ],
 "metadata": {
  "kernelspec": {
   "display_name": "Python 3",
   "language": "python",
   "name": "python3"
  },
  "language_info": {
   "codemirror_mode": {
    "name": "ipython",
    "version": 3
   },
   "file_extension": ".py",
   "mimetype": "text/x-python",
   "name": "python",
   "nbconvert_exporter": "python",
   "pygments_lexer": "ipython3",
   "version": "3.6.3"
  }
 },
 "nbformat": 4,
 "nbformat_minor": 2
}
