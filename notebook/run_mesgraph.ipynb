{
 "cells": [
  {
   "cell_type": "code",
   "execution_count": 1,
   "metadata": {},
   "outputs": [
    {
     "name": "stdout",
     "output_type": "stream",
     "text": [
      "/Users/woosubshin/Desktop/ModelEngineering/SBMLLint/notebook\n"
     ]
    }
   ],
   "source": [
    "import collections\n",
    "import itertools  \n",
    "import matplotlib.pyplot as plt\n",
    "import networkx as nx\n",
    "import os\n",
    "import tellurium as te\n",
    "import tesbml\n",
    "import os, sys\n",
    "cwd = os.getcwd()\n",
    "print(cwd)"
   ]
  },
  {
   "cell_type": "code",
   "execution_count": 2,
   "metadata": {},
   "outputs": [
    {
     "name": "stdout",
     "output_type": "stream",
     "text": [
      "/Users/woosubshin/Desktop/ModelEngineering/SBMLLint\n"
     ]
    }
   ],
   "source": [
    "parent_dir = os.path.abspath(os.path.join(cwd, os.pardir))\n",
    "#print(parent_dir)\n",
    "os.chdir(parent_dir)\n",
    "print(os.getcwd())"
   ]
  },
  {
   "cell_type": "code",
   "execution_count": 3,
   "metadata": {},
   "outputs": [],
   "source": [
    "from SBMLLint.common import constants as cn\n",
    "from SBMLLint.common.molecule import Molecule, MoleculeStoichiometry\n",
    "from SBMLLint.common.reaction import Reaction\n",
    "from SBMLLint.common.simple_sbml import SimpleSBML\n",
    "from SBMLLint.games import print_model as pm\n",
    "from SBMLLint.games.som import SOM\n",
    "from SBMLLint.games.mesgraph import MESGraph"
   ]
  },
  {
   "cell_type": "code",
   "execution_count": 4,
   "metadata": {},
   "outputs": [],
   "source": [
    "# setup\n",
    "num = 50\n",
    "format_num = format(num, '03d')\n",
    "document = tesbml.readSBML(os.path.join(os.getcwd(), 'SBMLLint/games/data/curated_' + format_num + '.xml'))\n",
    "model = document.getModel()\n",
    "#pm.print_model(model)\n",
    "\n",
    "simple = SimpleSBML(model)\n",
    "Reaction.reactions = []\n",
    "Molecule.molecules = []\n",
    "Reaction.initialize(simple)\n",
    "SOM.initialize(Molecule.molecules)"
   ]
  },
  {
   "cell_type": "code",
   "execution_count": 5,
   "metadata": {},
   "outputs": [
    {
     "data": {
      "text/plain": [
       "[v1: DFG -> E1; k1 * DFG,\n",
       " v2: DFG -> E2; k2 * DFG,\n",
       " v3: DFG -> Gly + Cn; k3 * DFG,\n",
       " v4: E1 -> Gly + _3DG; k4 * E1,\n",
       " v5: _3DG -> Cn; k5 * _3DG,\n",
       " v6: _3DG -> FA; k6 * _3DG,\n",
       " v7: E2 -> Gly + _1DG; k7 * E2,\n",
       " v8: _1DG -> Cn; k8 * _1DG,\n",
       " v9: _1DG -> AA; k9 * _1DG,\n",
       " v10: E1 -> Gly + Man; k10 * E1,\n",
       " v11: E1 -> Gly + Glu; k11 * E1,\n",
       " v12: Man -> Glu; k12 * Man,\n",
       " v13: Glu -> _3DG; k13 * Glu,\n",
       " v14: Gly + Cn -> Mel; k14 * Cn * Gly,\n",
       " v15: Cn -> AA + FA + MG; k15 * Cn,\n",
       " v16: E2 -> Gly + Fru; k16 * E2]"
      ]
     },
     "execution_count": 5,
     "metadata": {},
     "output_type": "execute_result"
    }
   ],
   "source": [
    "Reaction.reactions"
   ]
  },
  {
   "cell_type": "code",
   "execution_count": 6,
   "metadata": {},
   "outputs": [
    {
     "data": {
      "text/plain": [
       "[{DFG},\n",
       " {E1},\n",
       " {E2},\n",
       " {Gly},\n",
       " {Cn},\n",
       " {_3DG},\n",
       " {FA},\n",
       " {_1DG},\n",
       " {AA},\n",
       " {Man},\n",
       " {Glu},\n",
       " {Mel},\n",
       " {MG},\n",
       " {Fru}]"
      ]
     },
     "execution_count": 6,
     "metadata": {},
     "output_type": "execute_result"
    }
   ],
   "source": [
    "SOM.soms"
   ]
  },
  {
   "cell_type": "code",
   "execution_count": 7,
   "metadata": {},
   "outputs": [],
   "source": [
    "m = MESGraph(SOM.soms)"
   ]
  },
  {
   "cell_type": "code",
   "execution_count": 8,
   "metadata": {},
   "outputs": [
    {
     "data": {
      "text/plain": [
       "NodeView(({DFG}, {E1}, {E2}, {Gly}, {Cn}, {_3DG}, {FA}, {_1DG}, {AA}, {Man}, {Glu}, {Mel}, {MG}, {Fru}))"
      ]
     },
     "execution_count": 8,
     "metadata": {},
     "output_type": "execute_result"
    }
   ],
   "source": [
    "m.nodes"
   ]
  },
  {
   "cell_type": "code",
   "execution_count": 9,
   "metadata": {},
   "outputs": [
    {
     "data": {
      "text/plain": [
       "OutEdgeView([])"
      ]
     },
     "execution_count": 9,
     "metadata": {},
     "output_type": "execute_result"
    }
   ],
   "source": [
    "m.edges"
   ]
  },
  {
   "cell_type": "code",
   "execution_count": 10,
   "metadata": {},
   "outputs": [
    {
     "name": "stdout",
     "output_type": "stream",
     "text": [
      "haha\n"
     ]
    }
   ],
   "source": [
    "if not m.edges:\n",
    "    print(\"haha\")"
   ]
  },
  {
   "cell_type": "code",
   "execution_count": 11,
   "metadata": {},
   "outputs": [
    {
     "name": "stdout",
     "output_type": "stream",
     "text": [
      "14\n",
      "True\n",
      "True\n",
      "True\n"
     ]
    },
    {
     "data": {
      "text/plain": [
       "True"
      ]
     },
     "execution_count": 11,
     "metadata": {},
     "output_type": "execute_result"
    }
   ],
   "source": [
    "# test constructor:\n",
    "print(len(SOM.soms))\n",
    "print(len(m.nodes) == 14)\n",
    "print(len(m.edges) == 0)\n",
    "ident = \"\"\n",
    "for key, som in enumerate(SOM.soms):\n",
    "    ident = ident + som.identifier\n",
    "    if key < len(SOM.soms)-1:\n",
    "        ident = ident + \";\"\n",
    "print(ident == m.identifier)\n",
    "\n",
    "dfg = SOM.soms[0]\n",
    "m.has_node(dfg)"
   ]
  },
  {
   "cell_type": "code",
   "execution_count": 60,
   "metadata": {},
   "outputs": [
    {
     "name": "stdout",
     "output_type": "stream",
     "text": [
      "[v1: DFG -> E1; k1 * DFG, v2: DFG -> E2; k2 * DFG, v3: DFG -> Gly + Cn; k3 * DFG, v4: E1 -> Gly + _3DG; k4 * E1, v5: _3DG -> Cn; k5 * _3DG, v6: _3DG -> FA; k6 * _3DG, v7: E2 -> Gly + _1DG; k7 * E2, v8: _1DG -> Cn; k8 * _1DG, v9: _1DG -> AA; k9 * _1DG, v10: E1 -> Gly + Man; k10 * E1, v11: E1 -> Gly + Glu; k11 * E1, v12: Man -> Glu; k12 * Man, v13: Glu -> _3DG; k13 * Glu, v14: Gly + Cn -> Mel; k14 * Cn * Gly, v15: Cn -> AA + FA + MG; k15 * Cn, v16: E2 -> Gly + Fru; k16 * E2]\n"
     ]
    }
   ],
   "source": [
    "print(Reaction.reactions)\n",
    "unimulti_reaction = Reaction.reactions[2]\n",
    "multiuni_reaction = Reaction.reactions[13]"
   ]
  },
  {
   "cell_type": "code",
   "execution_count": 40,
   "metadata": {},
   "outputs": [
    {
     "name": "stdout",
     "output_type": "stream",
     "text": [
      "v1: DFG -> E1; k1 * DFG\n",
      "v8: _1DG -> Cn; k8 * _1DG\n",
      "v9: _1DG -> AA; k9 * _1DG\n"
     ]
    }
   ],
   "source": [
    "print(uniuni_reaction)\n",
    "print(uniuni_reaction1)\n",
    "print(uniuni_reaction2)"
   ]
  },
  {
   "cell_type": "code",
   "execution_count": 14,
   "metadata": {},
   "outputs": [
    {
     "data": {
      "text/plain": [
       "v3: DFG -> Gly + Cn; k3 * DFG"
      ]
     },
     "execution_count": 14,
     "metadata": {},
     "output_type": "execute_result"
    }
   ],
   "source": [
    "unimulti_reaction"
   ]
  },
  {
   "cell_type": "code",
   "execution_count": 15,
   "metadata": {},
   "outputs": [
    {
     "data": {
      "text/plain": [
       "v14: Gly + Cn -> Mel; k14 * Cn * Gly"
      ]
     },
     "execution_count": 15,
     "metadata": {},
     "output_type": "execute_result"
    }
   ],
   "source": [
    "multiuni_reaction"
   ]
  },
  {
   "cell_type": "code",
   "execution_count": 16,
   "metadata": {},
   "outputs": [
    {
     "data": {
      "text/plain": [
       "{DFG};{E1};{E2};{Gly};{Cn};{_3DG};{FA};{_1DG};{AA};{Man};{Glu};{Mel};{MG};{Fru}"
      ]
     },
     "execution_count": 16,
     "metadata": {},
     "output_type": "execute_result"
    }
   ],
   "source": [
    "m"
   ]
  },
  {
   "cell_type": "code",
   "execution_count": 17,
   "metadata": {},
   "outputs": [
    {
     "data": {
      "text/plain": [
       "True"
      ]
     },
     "execution_count": 17,
     "metadata": {},
     "output_type": "execute_result"
    }
   ],
   "source": [
    "# test process uniuni reaction\n",
    "m.processUniUniReaction(uniuni_reaction)\n",
    "dfg_e1 = SOM.findSOM(list(dfg.molecules)[0])\n",
    "m.has_node(dfg_e1) == True"
   ]
  },
  {
   "cell_type": "code",
   "execution_count": 62,
   "metadata": {},
   "outputs": [
    {
     "data": {
      "text/plain": [
       "v14: Gly + Cn -> Mel; k14 * Cn * Gly"
      ]
     },
     "execution_count": 62,
     "metadata": {},
     "output_type": "execute_result"
    }
   ],
   "source": [
    "multiuni_reaction"
   ]
  },
  {
   "cell_type": "code",
   "execution_count": 18,
   "metadata": {},
   "outputs": [
    {
     "name": "stdout",
     "output_type": "stream",
     "text": [
      "True\n",
      "True\n"
     ]
    }
   ],
   "source": [
    "# test process unimulti reaction\n",
    "m.processUniMultiReaction(unimulti_reaction)\n",
    "prods = [SOM.findSOM(product.molecule) for product in unimulti_reaction.products]\n",
    "for prod in prods:\n",
    "    print(m.has_edge(prod, dfg_e1) == True)"
   ]
  },
  {
   "cell_type": "code",
   "execution_count": 19,
   "metadata": {},
   "outputs": [
    {
     "name": "stdout",
     "output_type": "stream",
     "text": [
      "True\n",
      "True\n"
     ]
    }
   ],
   "source": [
    "# test process multiuni reaction\n",
    "m.processMultiUniReaction(multiuni_reaction)\n",
    "reacts = [SOM.findSOM(reactant.molecule) for reactant in multiuni_reaction.reactants]\n",
    "mel = SOM.findSOM(Molecule.getMolecule('Mel'))\n",
    "for react in reacts:\n",
    "    print(m.has_edge(react, mel) == True)"
   ]
  },
  {
   "cell_type": "code",
   "execution_count": 31,
   "metadata": {},
   "outputs": [
    {
     "name": "stdout",
     "output_type": "stream",
     "text": [
      "True\n",
      "True\n"
     ]
    }
   ],
   "source": [
    "# test addArc\n",
    "source = [Molecule.getMolecule('Fru'), Molecule.getMolecule('Gly')]\n",
    "destination = [Molecule.getMolecule('E2')]\n",
    "dummy_reaction = Reaction.reactions[15]\n",
    "m.addArc(source, destination, dummy_reaction)\n",
    "print(m.has_edge(SOM.findSOM(source[0]), SOM.findSOM(destination[0])) == True)\n",
    "print(m.has_edge(SOM.findSOM(source[1]), SOM.findSOM(destination[0])) == True)"
   ]
  },
  {
   "cell_type": "code",
   "execution_count": 44,
   "metadata": {},
   "outputs": [
    {
     "name": "stdout",
     "output_type": "stream",
     "text": [
      "We have Type I Error...\n",
      "AA  and  Cn  have the same weight by\n",
      "v8: _1DG -> Cn; k8 * _1DG\n",
      "v9: _1DG -> AA; k9 * _1DG\n",
      "v6: _3DG -> FA; k6 * _3DG\n",
      "v13: Glu -> _3DG; k13 * Glu\n",
      "v5: _3DG -> Cn; k5 * _3DG\n",
      "v12: Man -> Glu; k12 * Man\n",
      "\n",
      "However, reaction \" v15: Cn -> AA + FA + MG; k15 * Cn \" implies  AA  <  Cn\n",
      "\n",
      "True\n",
      "True\n"
     ]
    }
   ],
   "source": [
    "# test checkTypeOneError\n",
    "uniuni_reaction1 = Reaction.reactions[7]\n",
    "uniuni_reaction2 = Reaction.reactions[8]\n",
    "inequality_reaction1 = Reaction.reactions[14]\n",
    "inequality_reaction2 = Reaction.reactions[15]\n",
    "m.processUniUniReaction(uniuni_reaction1)\n",
    "m.processUniUniReaction(uniuni_reaction2)\n",
    "aa = Molecule.getMolecule('AA')\n",
    "cn = Molecule.getMolecule('Cn')\n",
    "mg = Molecule.getMolecule('MG')\n",
    "print(m.checkTypeOneError((aa, cn), inequality_reaction1) == True)\n",
    "print(m.checkTypeOneError((mg, aa), inequality_reaction2) == False)"
   ]
  },
  {
   "cell_type": "code",
   "execution_count": 59,
   "metadata": {},
   "outputs": [
    {
     "name": "stdout",
     "output_type": "stream",
     "text": [
      "We have Type I Error...\n",
      "AA  and  Cn  have the same weight by\n",
      "v8: _1DG -> Cn; k8 * _1DG\n",
      "v9: _1DG -> AA; k9 * _1DG\n",
      "v6: _3DG -> FA; k6 * _3DG\n",
      "v13: Glu -> _3DG; k13 * Glu\n",
      "v5: _3DG -> Cn; k5 * _3DG\n",
      "v12: Man -> Glu; k12 * Man\n",
      "\n",
      "However, reaction \" v15: Cn -> AA + FA + MG; k15 * Cn \" implies  AA  <  Cn\n",
      "\n",
      "We have Type I Error...\n",
      "FA  and  Cn  have the same weight by\n",
      "v8: _1DG -> Cn; k8 * _1DG\n",
      "v9: _1DG -> AA; k9 * _1DG\n",
      "v6: _3DG -> FA; k6 * _3DG\n",
      "v13: Glu -> _3DG; k13 * Glu\n",
      "v5: _3DG -> Cn; k5 * _3DG\n",
      "v12: Man -> Glu; k12 * Man\n",
      "\n",
      "However, reaction \" v15: Cn -> AA + FA + MG; k15 * Cn \" implies  FA  <  Cn\n",
      "\n",
      "{Gly}->{Mel}\n",
      "{Gly}->{DFG, E1, E2}\n",
      "{MG}->{AA, Cn, FA, Glu, Man, _1DG, _3DG}\n",
      "{Fru}->{DFG, E1, E2}\n",
      "{AA, Cn, FA, Glu, Man, _1DG, _3DG}->{DFG, E1, E2}\n",
      "{AA, Cn, FA, Glu, Man, _1DG, _3DG}->{Mel}\n",
      "\n",
      "True\n",
      "True\n"
     ]
    }
   ],
   "source": [
    "# test analyze\n",
    "k = m.analyze(Reaction.reactions)\n",
    "print(k.identifier)\n",
    "print(len(k.nodes) == 6)\n",
    "print(len(k.edges) == 6)"
   ]
  },
  {
   "cell_type": "code",
   "execution_count": 37,
   "metadata": {},
   "outputs": [
    {
     "name": "stdout",
     "output_type": "stream",
     "text": [
      "We have Type I Error...\n",
      "AA  and  Cn  have the same weight by\n",
      "v8: _1DG -> Cn; k8 * _1DG\n",
      "v9: _1DG -> AA; k9 * _1DG\n",
      "v6: _3DG -> FA; k6 * _3DG\n",
      "v13: Glu -> _3DG; k13 * Glu\n",
      "v5: _3DG -> Cn; k5 * _3DG\n",
      "v12: Man -> Glu; k12 * Man\n",
      "\n",
      "However, reaction \" v15: Cn -> AA + FA + MG; k15 * Cn \" implies  AA  <  Cn\n",
      "\n",
      "We have Type I Error...\n",
      "FA  and  Cn  have the same weight by\n",
      "v8: _1DG -> Cn; k8 * _1DG\n",
      "v9: _1DG -> AA; k9 * _1DG\n",
      "v6: _3DG -> FA; k6 * _3DG\n",
      "v13: Glu -> _3DG; k13 * Glu\n",
      "v5: _3DG -> Cn; k5 * _3DG\n",
      "v12: Man -> Glu; k12 * Man\n",
      "\n",
      "However, reaction \" v15: Cn -> AA + FA + MG; k15 * Cn \" implies  FA  <  Cn\n",
      "\n"
     ]
    },
    {
     "data": {
      "text/plain": [
       "{Gly}->{Mel}\n",
       "{Gly}->{DFG, E1, E2}\n",
       "{MG}->{AA, Cn, FA, Glu, Man, _1DG, _3DG}\n",
       "{Fru}->{DFG, E1, E2}\n",
       "{AA, Cn, FA, Glu, Man, _1DG, _3DG}->{DFG, E1, E2}\n",
       "{AA, Cn, FA, Glu, Man, _1DG, _3DG}->{Mel}"
      ]
     },
     "execution_count": 37,
     "metadata": {},
     "output_type": "execute_result"
    }
   ],
   "source": [
    "m.analyze(Reaction.reactions)"
   ]
  },
  {
   "cell_type": "code",
   "execution_count": 63,
   "metadata": {},
   "outputs": [
    {
     "data": {
      "text/plain": [
       "v16: E2 -> Gly + Fru; k16 * E2"
      ]
     },
     "execution_count": 63,
     "metadata": {},
     "output_type": "execute_result"
    }
   ],
   "source": [
    "dummy_reaction"
   ]
  },
  {
   "cell_type": "code",
   "execution_count": 65,
   "metadata": {},
   "outputs": [
    {
     "data": {
      "text/plain": [
       "v16: E2 -> Gly + Fru; k16 * E2"
      ]
     },
     "execution_count": 65,
     "metadata": {},
     "output_type": "execute_result"
    }
   ],
   "source": [
    "inequality_reaction2"
   ]
  },
  {
   "cell_type": "code",
   "execution_count": null,
   "metadata": {},
   "outputs": [],
   "source": []
  }
 ],
 "metadata": {
  "kernelspec": {
   "display_name": "Python 3",
   "language": "python",
   "name": "python3"
  },
  "language_info": {
   "codemirror_mode": {
    "name": "ipython",
    "version": 3
   },
   "file_extension": ".py",
   "mimetype": "text/x-python",
   "name": "python",
   "nbconvert_exporter": "python",
   "pygments_lexer": "ipython3",
   "version": "3.6.3"
  }
 },
 "nbformat": 4,
 "nbformat_minor": 2
}
