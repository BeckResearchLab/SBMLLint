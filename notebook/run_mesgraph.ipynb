{
 "cells": [
  {
   "cell_type": "code",
   "execution_count": 3,
   "metadata": {},
   "outputs": [
    {
     "name": "stdout",
     "output_type": "stream",
     "text": [
      "Current Directory: /Users/woosubshin/Desktop/ModelEngineering/SBMLLint/notebook\n"
     ]
    }
   ],
   "source": [
    "from games_setup import *\n",
    "import SBMLLint.common.constants as cn\n",
    "from SBMLLint.games.som import SOM\n",
    "from SBMLLint.games.mesgraph import MESGraph"
   ]
  },
  {
   "cell_type": "code",
   "execution_count": 38,
   "metadata": {},
   "outputs": [
    {
     "name": "stdout",
     "output_type": "stream",
     "text": [
      "vinGlc: GlcX0 -> GlcX\n",
      "vGlcTrans: GlcX -> 59.00 Glc\n",
      "vHK: ATP + Glc -> G6P + ADP\n",
      "vPGI: G6P -> F6P\n",
      "vPFK: F6P + ATP -> FBP + ADP\n",
      "vALD: FBP -> GAP + DHAP\n",
      "vTIM: DHAP -> GAP\n",
      "vGAPDH: GAP + NAD -> NADH + BPG\n",
      "vlpPEP: BPG + ADP -> PEP + ATP\n",
      "vPK: ADP + PEP -> Pyr + ATP\n",
      "vPDC: Pyr -> ACA\n",
      "vADH: NADH + ACA -> NAD + EtOH\n",
      "vdifEtOH: 59.00 EtOH -> EtOHX\n",
      "voutEtOH: EtOHX -> P\n",
      "vlpGlyc: DHAP + NADH -> Glyc + NAD\n",
      "vdifGlyc: 59.00 Glyc -> GlycX\n",
      "voutGlyc: GlycX -> P\n",
      "vdifACA: 59.00 ACA -> ACAX\n",
      "voutACA: ACAX -> P\n",
      "vlacto: CNX + ACAX -> P\n",
      "vinCN: CNX0 -> CNX\n",
      "vstorage: ATP + G6P -> ADP\n",
      "vconsum: ATP -> ADP\n",
      "vAK: ATP + AMP -> 2.00 ADP\n"
     ]
    }
   ],
   "source": [
    "simple = load_file_from_curated_data(61)\n",
    "reactions = []\n",
    "for reaction in simple.reactions:\n",
    "  if reaction.category != cn.REACTION_BOUNDARY:\n",
    "    reactions.append(reaction.makeIdentifier(is_include_kinetics=False))\n",
    "m = MESGraph(simple)\n",
    "for r in simple.reactions:\n",
    "  print(r.makeIdentifier(is_include_kinetics=False))"
   ]
  },
  {
   "cell_type": "code",
   "execution_count": 74,
   "metadata": {},
   "outputs": [
    {
     "name": "stdout",
     "output_type": "stream",
     "text": [
      "\n",
      "PRPP = IMP by reaction(s):\n",
      "den: PRPP -> IMP\n",
      "\n",
      "IMP = ATP by reaction(s):\n",
      "ampd: ATP -> IMP\n",
      "\n",
      "However, the following reaction(s)\n",
      "aprt: PRPP + Ade -> ATP\n",
      "imply PRPP < ATP\n",
      "------------------------------------\n",
      "\n",
      "Ade = SAM by reaction(s):\n",
      "polyam: SAM -> Ade\n",
      "\n",
      "SAM = ATP by reaction(s):\n",
      "mat: ATP -> SAM\n",
      "\n",
      "However, the following reaction(s)\n",
      "aprt: PRPP + Ade -> ATP\n",
      "imply Ade < ATP\n",
      "------------------------------------\n",
      "\n",
      "Gua = dGTP by reaction(s):\n",
      "dgnuc: dGTP -> Gua\n",
      "\n",
      "dGTP = GTP by reaction(s):\n",
      "gdrnr: GTP -> dGTP\n",
      "\n",
      "However, the following reaction(s)\n",
      "gprt: Gua + PRPP -> GTP\n",
      "imply Gua < GTP\n",
      "------------------------------------\n",
      "\n",
      "PRPP = IMP by reaction(s):\n",
      "den: PRPP -> IMP\n",
      "\n",
      "IMP = ATP by reaction(s):\n",
      "ampd: ATP -> IMP\n",
      "\n",
      "ATP = dATP by reaction(s):\n",
      "adrnr: ATP -> dATP\n",
      "\n",
      "dATP = DNA by reaction(s):\n",
      "adna: dATP -> DNA\n",
      "\n",
      "DNA = dGTP by reaction(s):\n",
      "dnag: DNA -> dGTP\n",
      "\n",
      "dGTP = GTP by reaction(s):\n",
      "gdrnr: GTP -> dGTP\n",
      "\n",
      "However, the following reaction(s)\n",
      "gprt: Gua + PRPP -> GTP\n",
      "imply PRPP < GTP\n",
      "------------------------------------\n",
      "\n",
      "HX = ATP by reaction(s):\n",
      "ada: ATP -> HX\n",
      "\n",
      "ATP = IMP by reaction(s):\n",
      "ampd: ATP -> IMP\n",
      "\n",
      "However, the following reaction(s)\n",
      "hprt: HX + PRPP -> IMP\n",
      "imply HX < IMP\n",
      "------------------------------------\n",
      "\n",
      "PRPP = IMP by reaction(s):\n",
      "den: PRPP -> IMP\n",
      "\n",
      "However, the following reaction(s)\n",
      "hprt: HX + PRPP -> IMP\n",
      "imply PRPP < IMP\n",
      "------------------------------------\n",
      "************************************\n",
      "************************************\n"
     ]
    },
    {
     "data": {
      "text/plain": [
       "NodeView(({ATP, Ade, DNA, GTP, Gua, HX, IMP, PRPP, R5P, RNA, SAM, SAMP, UA, XMP, Xa, dATP, dGTP},))"
      ]
     },
     "execution_count": 74,
     "metadata": {},
     "output_type": "execute_result"
    }
   ],
   "source": [
    "m.analyze(simple.reactions)\n",
    "m.nodes"
   ]
  },
  {
   "cell_type": "code",
   "execution_count": 17,
   "metadata": {},
   "outputs": [
    {
     "name": "stdout",
     "output_type": "stream",
     "text": [
      "SHMTr: CH2FH4 -> FH4\n",
      "MTHFR: CH2FH4 + NADPH -> CH3FH4\n",
      "MTR: CH3FH4 + homocysteine -> FH4\n",
      "{NADPH}->{CH3FH4}\n",
      "{CH3FH4}->{CH2FH4, FH4}\n",
      "{homocysteine}->{CH2FH4, FH4}\n",
      "{CH2FH4, FH4}->{CH3FH4}\n",
      "{serine};{HCHO};{formate};{ATP};{CHOFH4};{GAR};{FGAR};{AICAR};{NADP};{dUMP};{FH2f};{FFH2};{MTX1};{MTX2};{MTX3};{MTX4};{MTX5};{EMTX};{DHFRf};{MTX1b};{MTX2b};{MTX3b};{MTX4b};{MTX5b}\n"
     ]
    },
    {
     "data": {
      "text/plain": [
       "True"
      ]
     },
     "execution_count": 17,
     "metadata": {},
     "output_type": "execute_result"
    }
   ],
   "source": [
    "REACTION1 = \"SHMTr\"\n",
    "REACTION2 = \"MTHFR\"\n",
    "REACTION3 = \"MTR\"\n",
    "simple2 = simple\n",
    "m2 = MESGraph(simple2)\n",
    "print(simple2.getReaction(REACTION1).makeIdentifier(is_include_kinetics=False))\n",
    "print(simple2.getReaction(REACTION2).makeIdentifier(is_include_kinetics=False))\n",
    "print(simple2.getReaction(REACTION3).makeIdentifier(is_include_kinetics=False))\n",
    "m2.processUniUniReaction(simple2.getReaction(REACTION1))\n",
    "m2.processMultiUniReaction(simple2.getReaction(REACTION2))\n",
    "m2.processMultiUniReaction(simple2.getReaction(REACTION3))\n",
    "print(m2.identifier)\n",
    "m2.checkTypeTwoError()\n",
    "# self.assertTrue(mesgraph2.checkTypeTwoError())\n",
    "# self.assertFalse(len(mesgraph2.type_one_errors)>0)\n",
    "# self.assertTrue(len(mesgraph2.type_two_errors)>0)"
   ]
  },
  {
   "cell_type": "code",
   "execution_count": 4,
   "metadata": {},
   "outputs": [
    {
     "data": {
      "text/plain": [
       "v3: DFG -> Gly + Cn; k3 * DFG"
      ]
     },
     "execution_count": 4,
     "metadata": {},
     "output_type": "execute_result"
    }
   ],
   "source": [
    "INITIAL_NODES = 14\n",
    "INITIAL_EDGES = 0\n",
    "FINAL_NODES = 6\n",
    "FINAL_EDGES = 6\n",
    "UNIUNI0 = 0\n",
    "UNIUNI1 = 7\n",
    "UNIUNI2 = 8\n",
    "UNIMULTI = 2\n",
    "MULTIUNI = 13\n",
    "INEQUAL1 = 14\n",
    "INEQUAL2 = 15\n",
    "# Constants for simple\n",
    "AA = \"AA\"\n",
    "CN = \"Cn\"\n",
    "DFG = \"DFG\"\n",
    "E1 = \"E1\"\n",
    "E2 = \"E2\"\n",
    "FRU = \"Fru\"\n",
    "GLY = \"Gly\"\n",
    "MEL = \"Mel\"\n",
    "MG = \"MG\"\n",
    "# Constants for simple2\n",
    "REACTION1 = \"SHMTr\"\n",
    "REACTION2 = \"MTHFR\"\n",
    "REACTION3 = \"MTR\"\n",
    "unimulti_reaction = simple.reactions[UNIMULTI]\n",
    "unimulti_reaction"
   ]
  },
  {
   "cell_type": "code",
   "execution_count": 5,
   "metadata": {},
   "outputs": [
    {
     "name": "stdout",
     "output_type": "stream",
     "text": [
      "[]\n",
      "[({Gly}, {DFG}), ({Cn}, {DFG})]\n"
     ]
    }
   ],
   "source": [
    "print(m.edges)\n",
    "m.processUniMultiReaction(unimulti_reaction)\n",
    "print(m.edges)\n",
    "# # prods = [m.getNode(product.molecule) for product in unimulti_reaction.products]\n",
    "# # dfg = m.getNode(simple.getMolecule(DFG))\n",
    "# # for prod in prods:\n",
    "# #   print(m.has_edge(prod, dfg))\n",
    "# destination = [unimulti_reaction.reactants[0].molecule]\n",
    "# source = [product.molecule for product in unimulti_reaction.products]\n",
    "# arcs = itertools.product(source, destination)\n",
    "# for arc in arcs:\n",
    "#   print(m.checkTypeOneError(arc, reaction)) \n",
    "#   if not m.checkTypeOneError(arc, reaction):\n",
    "#   print(arc)\n",
    "#   print(type(arc[0]), type(arc[1]))\n",
    "#   print(m.checkTypeOneError(arc, reaction))"
   ]
  },
  {
   "cell_type": "code",
   "execution_count": 6,
   "metadata": {},
   "outputs": [
    {
     "name": "stdout",
     "output_type": "stream",
     "text": [
      "\n",
      "AA = _1DG by reaction(s):\n",
      "v9: _1DG -> AA\n",
      "\n",
      "_1DG = Cn by reaction(s):\n",
      "v8: _1DG -> Cn\n",
      "\n",
      "However, the following reaction(s)\n",
      "v15: Cn -> AA + FA + MG\n",
      "imply AA < Cn\n",
      "------------------------------------\n",
      "\n",
      "FA = _3DG by reaction(s):\n",
      "v6: _3DG -> FA\n",
      "\n",
      "_3DG = Cn by reaction(s):\n",
      "v5: _3DG -> Cn\n",
      "\n",
      "However, the following reaction(s)\n",
      "v15: Cn -> AA + FA + MG\n",
      "imply FA < Cn\n",
      "------------------------------------\n",
      "************************************\n"
     ]
    },
    {
     "data": {
      "text/plain": [
       "{Gly}->{DFG, E1, E2}\n",
       "{Gly}->{Mel}\n",
       "{MG}->{AA, Cn, FA, Glu, Man, _1DG, _3DG}\n",
       "{Fru}->{DFG, E1, E2}\n",
       "{AA, Cn, FA, Glu, Man, _1DG, _3DG}->{DFG, E1, E2}\n",
       "{AA, Cn, FA, Glu, Man, _1DG, _3DG}->{Mel}"
      ]
     },
     "execution_count": 6,
     "metadata": {},
     "output_type": "execute_result"
    }
   ],
   "source": [
    "m.analyze(simple.reactions)"
   ]
  },
  {
   "cell_type": "code",
   "execution_count": 7,
   "metadata": {},
   "outputs": [
    {
     "data": {
      "text/plain": [
       "[PathComponents(node1='AA', node2='Cn', reactions=['v15']),\n",
       " PathComponents(node1='FA', node2='Cn', reactions=['v15'])]"
      ]
     },
     "execution_count": 7,
     "metadata": {},
     "output_type": "execute_result"
    }
   ],
   "source": [
    "m.type_one_errors"
   ]
  },
  {
   "cell_type": "code",
   "execution_count": 8,
   "metadata": {},
   "outputs": [
    {
     "name": "stdout",
     "output_type": "stream",
     "text": [
      "[PathComponents(node1='FA', node2='Cn', reactions=['v15']), PathComponents(node1='AA', node2='Cn', reactions=['v15'])]\n"
     ]
    }
   ],
   "source": [
    "PathComponents = collections.namedtuple('PathComponents',\n",
    "                                        'node1 node2 reactions')\n",
    "toe = m.type_one_errors\n",
    "p = toe[0]\n",
    "new_p = PathComponents(p.node1, p.node2, list(set(p.reactions)))\n",
    "toe.remove(p)\n",
    "toe.append(new_p)\n",
    "print(toe)"
   ]
  },
  {
   "cell_type": "code",
   "execution_count": 9,
   "metadata": {},
   "outputs": [
    {
     "name": "stdout",
     "output_type": "stream",
     "text": [
      "[]\n"
     ]
    }
   ],
   "source": [
    "simple = load_file_from_curated_data(142)\n",
    "reactions = []\n",
    "for reaction in simple.reactions:\n",
    "  if reaction.category != cn.REACTION_BOUNDARY:\n",
    "    reactions.append(reaction.makeIdentifier(is_include_kinetics=False))\n",
    "m = MESGraph(simple)\n",
    "print(reactions)\n",
    "#reactions"
   ]
  },
  {
   "cell_type": "code",
   "execution_count": 10,
   "metadata": {},
   "outputs": [
    {
     "name": "stdout",
     "output_type": "stream",
     "text": [
      "No mass balance error found.\n",
      "************************************\n"
     ]
    },
    {
     "data": {
      "text/plain": []
     },
     "execution_count": 10,
     "metadata": {},
     "output_type": "execute_result"
    }
   ],
   "source": [
    "m.analyze(simple.reactions)"
   ]
  },
  {
   "cell_type": "code",
   "execution_count": 11,
   "metadata": {},
   "outputs": [
    {
     "data": {
      "text/plain": [
       "NodeView(())"
      ]
     },
     "execution_count": 11,
     "metadata": {},
     "output_type": "execute_result"
    }
   ],
   "source": [
    "m.nodes"
   ]
  },
  {
   "cell_type": "code",
   "execution_count": 12,
   "metadata": {},
   "outputs": [],
   "source": [
    "for reaction in simple.reactions:\n",
    "  print(reaction.makeIdentifier(is_include_kinetics=False))"
   ]
  },
  {
   "cell_type": "code",
   "execution_count": 13,
   "metadata": {},
   "outputs": [],
   "source": [
    "for reaction in simple.reactions:\n",
    "  if reaction.category != cn.REACTION_BOUNDARY:\n",
    "    print(reaction.makeIdentifier(is_include_kinetics=False))"
   ]
  },
  {
   "cell_type": "code",
   "execution_count": 10,
   "metadata": {
    "collapsed": true
   },
   "outputs": [],
   "source": [
    "INITIAL_NODES = 14\n",
    "INITIAL_EDGES = 0\n",
    "FINAL_NODES = 6\n",
    "FINAL_EDGES = 6\n",
    "UNIUNI0 = 0\n",
    "UNIUNI1 = 7\n",
    "UNIUNI2 = 8\n",
    "UNIMULTI = 2\n",
    "MULTIUNI = 13\n",
    "INEQUAL1 = 14\n",
    "INEQUAL2 = 15\n",
    "AA = \"AA\"\n",
    "CN = \"Cn\"\n",
    "DFG = \"DFG\"\n",
    "E1 = \"E1\"\n",
    "E2 = \"E2\"\n",
    "FRU = \"Fru\"\n",
    "GLY = \"Gly\"\n",
    "MEL = \"Mel\"\n",
    "MG = \"MG\""
   ]
  },
  {
   "cell_type": "code",
   "execution_count": 13,
   "metadata": {
    "collapsed": true
   },
   "outputs": [
    {
     "data": {
      "text/plain": [
       "{3}"
      ]
     },
     "execution_count": 13,
     "metadata": {},
     "output_type": "execute_result"
    }
   ],
   "source": [
    "a = collections.deque([1,2,3])\n",
    "b = collections.deque([3,4,5])\n",
    "set(a).intersection(set(b))"
   ]
  },
  {
   "cell_type": "code",
   "execution_count": 9,
   "metadata": {},
   "outputs": [
    {
     "data": {
      "text/plain": [
       "False"
      ]
     },
     "execution_count": 9,
     "metadata": {},
     "output_type": "execute_result"
    }
   ],
   "source": [
    "molecules = [som.molecules for som in m.nodes]\n",
    "{simple.getMolecule('MKKK')} in molecules"
   ]
  },
  {
   "cell_type": "code",
   "execution_count": 10,
   "metadata": {},
   "outputs": [
    {
     "data": {
      "text/plain": [
       "'{DFG};{E1};{E2};{Gly};{Cn};{_3DG};{FA};{_1DG};{AA};{Man};{Glu};{Mel};{MG};{Fru}'"
      ]
     },
     "execution_count": 10,
     "metadata": {},
     "output_type": "execute_result"
    }
   ],
   "source": [
    "m.identifier"
   ]
  },
  {
   "cell_type": "code",
   "execution_count": 11,
   "metadata": {},
   "outputs": [
    {
     "name": "stdout",
     "output_type": "stream",
     "text": [
      "True\n",
      "True\n",
      "True\n"
     ]
    }
   ],
   "source": [
    "# test constructor:\n",
    "print(len(m.nodes) == INITIAL_NODES)\n",
    "print(len(m.edges) == INITIAL_EDGES)\n",
    "dfg = simple.getMolecule(DFG)\n",
    "# molecules is a list of one-molecule sets\n",
    "molecules = [som.molecules for som in m.nodes]\n",
    "print({simple.getMolecule(DFG)} in molecules)"
   ]
  },
  {
   "cell_type": "code",
   "execution_count": 12,
   "metadata": {},
   "outputs": [
    {
     "name": "stdout",
     "output_type": "stream",
     "text": [
      "True\n",
      "True\n",
      "True\n",
      "True\n",
      "True\n",
      "True\n",
      "True\n",
      "True\n",
      "True\n",
      "True\n",
      "True\n",
      "True\n",
      "True\n",
      "True\n"
     ]
    }
   ],
   "source": [
    "# testInitializeSOMs\n",
    "for node in m.nodes:\n",
    "  print(type(node) == SOM)"
   ]
  },
  {
   "cell_type": "code",
   "execution_count": 13,
   "metadata": {},
   "outputs": [
    {
     "name": "stdout",
     "output_type": "stream",
     "text": [
      "True\n"
     ]
    }
   ],
   "source": [
    "# testMakeId\n",
    "identifier = \"\"\n",
    "for key, som in enumerate(m.nodes):\n",
    "  identifier = identifier + som.identifier\n",
    "  if key < len(m.nodes)-1:\n",
    "    identifier = identifier + \";\"\n",
    "print(identifier == m.identifier)"
   ]
  },
  {
   "cell_type": "code",
   "execution_count": 14,
   "metadata": {},
   "outputs": [
    {
     "name": "stdout",
     "output_type": "stream",
     "text": [
      "True\n",
      "True\n"
     ]
    }
   ],
   "source": [
    "# testGetNode\n",
    "aa = simple.getMolecule(AA)\n",
    "aa_som = m.getNode(aa)\n",
    "print(type(aa_som) == SOM)\n",
    "print(aa_som.molecules == {aa})"
   ]
  },
  {
   "cell_type": "code",
   "execution_count": 15,
   "metadata": {},
   "outputs": [
    {
     "name": "stdout",
     "output_type": "stream",
     "text": [
      "True\n",
      "True\n",
      "True\n"
     ]
    }
   ],
   "source": [
    "# testUniUniReaction\n",
    "uniuni_reaction = simple.reactions[UNIUNI0]\n",
    "m.processUniUniReaction(uniuni_reaction)\n",
    "dfg = m.getNode(simple.getMolecule(DFG))\n",
    "e1 = m.getNode(simple.getMolecule(E1))\n",
    "print(m.has_node(dfg) == True)\n",
    "print(m.has_node(e1) == True)\n",
    "print(dfg == e1)"
   ]
  },
  {
   "cell_type": "code",
   "execution_count": 17,
   "metadata": {},
   "outputs": [
    {
     "name": "stdout",
     "output_type": "stream",
     "text": [
      "v3: DFG -> Gly + Cn; k3 * DFG\n",
      "True\n",
      "True\n"
     ]
    }
   ],
   "source": [
    "# testUniMultiReaction\n",
    "unimulti_reaction = simple.reactions[UNIMULTI]\n",
    "print(unimulti_reaction)\n",
    "m.processUniMultiReaction(unimulti_reaction)\n",
    "prods = [m.getNode(product.molecule) for product in unimulti_reaction.products]\n",
    "dfg = m.getNode(simple.getMolecule(DFG))\n",
    "for prod in prods:\n",
    "  print(m.has_edge(prod, dfg))"
   ]
  },
  {
   "cell_type": "code",
   "execution_count": 18,
   "metadata": {},
   "outputs": [
    {
     "data": {
      "text/plain": [
       "OutEdgeView([({Gly}, {DFG, E1}), ({Cn}, {DFG, E1})])"
      ]
     },
     "execution_count": 18,
     "metadata": {},
     "output_type": "execute_result"
    }
   ],
   "source": [
    "m.edges"
   ]
  },
  {
   "cell_type": "code",
   "execution_count": 19,
   "metadata": {},
   "outputs": [
    {
     "name": "stdout",
     "output_type": "stream",
     "text": [
      "v14: Gly + Cn -> Mel; k14 * Cn * Gly\n",
      "True\n",
      "True\n"
     ]
    }
   ],
   "source": [
    "# testMultiUniReaction\n",
    "multiuni_reaction = simple.reactions[MULTIUNI]\n",
    "print(multiuni_reaction)\n",
    "m.processMultiUniReaction(multiuni_reaction)\n",
    "reacts = [m.getNode(reactant.molecule) for reactant in multiuni_reaction.reactants]\n",
    "mel = m.getNode(simple.getMolecule(MEL))\n",
    "for react in reacts:\n",
    "  print(m.has_edge(react, mel))"
   ]
  },
  {
   "cell_type": "code",
   "execution_count": 20,
   "metadata": {},
   "outputs": [
    {
     "data": {
      "text/plain": [
       "OutEdgeView([({Gly}, {DFG, E1}), ({Gly}, {Mel}), ({Cn}, {DFG, E1}), ({Cn}, {Mel})])"
      ]
     },
     "execution_count": 20,
     "metadata": {},
     "output_type": "execute_result"
    }
   ],
   "source": [
    "m.edges"
   ]
  },
  {
   "cell_type": "code",
   "execution_count": 21,
   "metadata": {},
   "outputs": [
    {
     "name": "stdout",
     "output_type": "stream",
     "text": [
      "True\n",
      "True\n",
      "True\n",
      "True\n",
      "[({Gly}, {DFG, E1}), ({Gly}, {Mel}), ({Gly}, {E2}), ({Cn}, {DFG, E1}), ({Cn}, {Mel}), ({Fru}, {E2})]\n"
     ]
    }
   ],
   "source": [
    "# testAddArc\n",
    "source = [simple.getMolecule(FRU), simple.getMolecule(GLY)]\n",
    "destination = [simple.getMolecule(E2)]\n",
    "dummy_reaction = simple.reactions[INEQUAL2]\n",
    "m.addArc(source, destination, dummy_reaction)\n",
    "arc1 = [m.getNode(source[0]), \n",
    "        m.getNode(destination[0])]\n",
    "arc2 = [m.getNode(source[1]), \n",
    "        m.getNode(destination[0])]\n",
    "print(m.has_edge(arc1[0], arc1[1]))\n",
    "print(m.has_edge(arc2[0], arc2[1]))\n",
    "reaction_label1 = m.get_edge_data(arc1[0], arc1[1])[cn.REACTION][0]\n",
    "reaction_label2 = m.get_edge_data(arc2[0], arc1[1])[cn.REACTION][0]\n",
    "print(reaction_label1 == dummy_reaction.label)\n",
    "print(reaction_label1 == reaction_label2)\n",
    "print(m.edges)"
   ]
  },
  {
   "cell_type": "code",
   "execution_count": 22,
   "metadata": {},
   "outputs": [
    {
     "name": "stdout",
     "output_type": "stream",
     "text": [
      "We have a Type I Error...\n",
      "AA  and  Cn  have the same weight by\n",
      "v9: _1DG -> AA; k9 * _1DG\n",
      "v8: _1DG -> Cn; k8 * _1DG\n",
      "\n",
      "However, reaction \" v15: Cn -> AA + FA + MG; k15 * Cn \" implies  AA < Cn\n",
      "We cannot add the arc:  AA -> Cn\n",
      "\n",
      "True\n",
      "True\n"
     ]
    }
   ],
   "source": [
    "# test checkTypeOneError\n",
    "uniuni_reaction1 = simple.reactions[7]\n",
    "uniuni_reaction2 = simple.reactions[8]\n",
    "inequality_reaction1 = simple.reactions[14]\n",
    "inequality_reaction2 = simple.reactions[15]\n",
    "m.processUniUniReaction(uniuni_reaction1)\n",
    "m.processUniUniReaction(uniuni_reaction2)\n",
    "aa = simple.getMolecule(AA)\n",
    "cn = simple.getMolecule(CN)\n",
    "mg = simple.getMolecule(MG)\n",
    "print(m.checkTypeOneError((aa, cn), inequality_reaction1) == True)\n",
    "print(m.checkTypeOneError((mg, aa), inequality_reaction2) == False)"
   ]
  },
  {
   "cell_type": "code",
   "execution_count": 30,
   "metadata": {},
   "outputs": [
    {
     "name": "stdout",
     "output_type": "stream",
     "text": [
      "We have a Type II Error...\n",
      "\n",
      "{HBrO2} < {HOBr} < {HBrO2} \n",
      "\n",
      "{HBrO2} -> {HOBr}  by\n",
      "Reaction2\n",
      "\n",
      "{HOBr} -> {HBrO2}  by\n",
      "Reaction4\n",
      "\n",
      "True\n",
      "True\n",
      "True\n"
     ]
    }
   ],
   "source": [
    "# test checkTypeTwoError\n",
    "REACTION1 = \"Reaction2\"\n",
    "REACTION2 = \"Reaction4\"\n",
    "simple2 = load_file_from_curated_data(40)\n",
    "m2 = MESGraph(simple2)\n",
    "m2.processMultiUniReaction(simple2.getReaction(REACTION1))\n",
    "m2.processUniMultiReaction(simple2.getReaction(REACTION2))\n",
    "print(m2.checkTypeTwoError() == True)\n",
    "print(m2.type_one_error == False)\n",
    "print(m2.type_two_error == True)"
   ]
  },
  {
   "cell_type": "code",
   "execution_count": 107,
   "metadata": {},
   "outputs": [
    {
     "name": "stdout",
     "output_type": "stream",
     "text": [
      "v17: complexC -> Fus3 + Ste11 + Ste7 + Ste5; compartment * complexC * k17\n",
      "[1.0]\n",
      "[1.0, 1.0, 1.0, 1.0]\n"
     ]
    }
   ],
   "source": [
    "reaction = simple.reactions[16]\n",
    "print(reaction)\n",
    "rct = [a.stoichiometry for a in reaction.reactants]\n",
    "pdt = [b.stoichiometry for b in reaction.products]\n",
    "print(rct)\n",
    "print(pdt)"
   ]
  },
  {
   "cell_type": "code",
   "execution_count": 109,
   "metadata": {},
   "outputs": [
    {
     "data": {
      "text/plain": [
       "0"
      ]
     },
     "execution_count": 109,
     "metadata": {},
     "output_type": "execute_result"
    }
   ],
   "source": [
    "sum([])"
   ]
  },
  {
   "cell_type": "code",
   "execution_count": 108,
   "metadata": {},
   "outputs": [
    {
     "data": {
      "text/plain": [
       "4.0"
      ]
     },
     "execution_count": 108,
     "metadata": {},
     "output_type": "execute_result"
    }
   ],
   "source": [
    "sum(pdt)"
   ]
  },
  {
   "cell_type": "code",
   "execution_count": 39,
   "metadata": {},
   "outputs": [
    {
     "data": {
      "text/plain": [
       "NodeView(({MKKK, MKKK_P}, {MKK, MKK_P, MKK_PP}, {MAPK, MAPK_P, MAPK_PP}))"
      ]
     },
     "execution_count": 39,
     "metadata": {},
     "output_type": "execute_result"
    }
   ],
   "source": [
    "m_analyze.nodes"
   ]
  },
  {
   "cell_type": "code",
   "execution_count": 42,
   "metadata": {},
   "outputs": [
    {
     "data": {
      "text/plain": [
       "[Reaction1: Br + BrO3 -> HBrO2 + HOBr; Br * BrO3 * k1 * BZ,\n",
       " Reaction2: Br + HBrO2 -> 2.00 HOBr; Br * HBrO2 * k2 * BZ,\n",
       " Reaction3: BrO3 + HBrO2 -> Ce + 2.00 HBrO2; BrO3 * HBrO2 * k3 * BZ,\n",
       " Reaction4: 2.00 HBrO2 -> BrO3 + HOBr; pow(HBrO2, 2) * k4 * BZ,\n",
       " Reaction5: Ce -> Br; Ce * k5 * BZ]"
      ]
     },
     "execution_count": 42,
     "metadata": {},
     "output_type": "execute_result"
    }
   ],
   "source": [
    "simple2.reactions"
   ]
  },
  {
   "cell_type": "code",
   "execution_count": 40,
   "metadata": {},
   "outputs": [
    {
     "name": "stdout",
     "output_type": "stream",
     "text": [
      "We have a Type I Error...\n",
      "AA  and  Cn  have the same weight by\n",
      "v5: _3DG -> Cn; k5 * _3DG\n",
      "v6: _3DG -> FA; k6 * _3DG\n",
      "v8: _1DG -> Cn; k8 * _1DG\n",
      "v13: Glu -> _3DG; k13 * Glu\n",
      "v12: Man -> Glu; k12 * Man\n",
      "v9: _1DG -> AA; k9 * _1DG\n",
      "\n",
      "However, reaction \" v15: Cn -> AA + FA + MG; k15 * Cn \" implies  AA < Cn\n",
      "We cannot add the arc:  AA -> Cn\n",
      "\n",
      "We have a Type I Error...\n",
      "FA  and  Cn  have the same weight by\n",
      "v5: _3DG -> Cn; k5 * _3DG\n",
      "v6: _3DG -> FA; k6 * _3DG\n",
      "v8: _1DG -> Cn; k8 * _1DG\n",
      "v13: Glu -> _3DG; k13 * Glu\n",
      "v12: Man -> Glu; k12 * Man\n",
      "v9: _1DG -> AA; k9 * _1DG\n",
      "\n",
      "However, reaction \" v15: Cn -> AA + FA + MG; k15 * Cn \" implies  FA < Cn\n",
      "We cannot add the arc:  FA -> Cn\n",
      "\n",
      "No cycles! No Type II Error!\n",
      "{Gly}->{DFG, E1, E2}\n",
      "{Gly}->{Mel}\n",
      "{MG}->{AA, Cn, FA, Glu, Man, _1DG, _3DG}\n",
      "{Fru}->{DFG, E1, E2}\n",
      "{AA, Cn, FA, Glu, Man, _1DG, _3DG}->{DFG, E1, E2}\n",
      "{AA, Cn, FA, Glu, Man, _1DG, _3DG}->{Mel}\n",
      "\n",
      "True\n",
      "True\n",
      "True\n",
      "True\n",
      "We have a Type II Error...\n",
      "\n",
      "{HOBr} < {HBrO2} < {HOBr} \n",
      "\n",
      "{HOBr} -> {HBrO2}  by\n",
      "Reaction4\n",
      "\n",
      "{HBrO2} -> {HOBr}  by\n",
      "Reaction2\n",
      "\n",
      "True\n",
      "True\n"
     ]
    }
   ],
   "source": [
    "# test analyze\n",
    "simple1 = load_file_from_curated_data(50)\n",
    "m_analyze = MESGraph(simple1)\n",
    "m_analyze.analyze(simple1.reactions)\n",
    "print(m_analyze.identifier)\n",
    "print(len(m_analyze.nodes) == 6)\n",
    "print(len(m_analyze.edges) == 6)\n",
    "print(m_analyze.type_one_error == True)\n",
    "print(m_analyze.type_two_error == False)\n",
    "\n",
    "simple2 = load_file_from_curated_data(40)\n",
    "m_analyze2 = MESGraph(simple2)\n",
    "m_analyze2.analyze(simple2.reactions)\n",
    "print(m_analyze2.type_one_error == False)\n",
    "print(m_analyze2.type_two_error == True)"
   ]
  },
  {
   "cell_type": "code",
   "execution_count": null,
   "metadata": {
    "collapsed": true
   },
   "outputs": [],
   "source": [
    "cn.RE"
   ]
  },
  {
   "cell_type": "code",
   "execution_count": null,
   "metadata": {
    "collapsed": true
   },
   "outputs": [],
   "source": [
    "# reduceReaction: \n",
    "def reduce(cls, reaction):\n",
    "  Reduces reaction using existing cls.soms\n",
    "  :param Reaction reaction:\n",
    "  :return reaction/False:     \n",
    "  # flag that will show whether the reaction was reduced\n",
    "  reduced = False\n",
    "  if reaction.category != cn.REACTION_n_n:\n",
    "    return reduced\n",
    "  # Reduces the reaction by examining all SOMs\n",
    "  for som in cls.soms:\n",
    "    reactants_in = deque([mole_stoich for mole_stoich in  \n",
    "                           reaction.reactants if \n",
    "                           mole_stoich.molecule in som.molecules])\n",
    "    reactants_out = [mole_stoich for mole_stoich in  \n",
    "                      reaction.reactants if \n",
    "                      mole_stoich.molecule not in som.molecules]\n",
    "    products_in = deque([mole_stoich for mole_stoich in  \n",
    "                          reaction.products if \n",
    "                          mole_stoich.molecule in som.molecules])\n",
    "    products_out = [mole_stoich for mole_stoich in  \n",
    "                     reaction.products if \n",
    "                     mole_stoich.molecule not in som.molecules]\n",
    "      #\n",
    "  while reactants_in and products_in:\n",
    "    reactant = reactants_in[0]\n",
    "    product = products_in[0]\n",
    "    if reactant.stoichiometry > product.stoichiometry:\n",
    "      reactants_in[0] = MoleculeStoichiometry(reactant.molecule,\n",
    "                                            reactant.stoichiometry - product.stoichiometry)\n",
    "      products_in.popleft()\n",
    "    elif reactant.stoichiometry < product.stoichiometry:\n",
    "      products_in[0] = MoleculeStoichiometry(product.molecule,\n",
    "                                            product.stoichiometry - reactant.stoichiometry)\n",
    "      reactants_in.popleft()\n",
    "    else:\n",
    "      reactants_in.popleft()\n",
    "      products_in.popleft()\n",
    "    reactants = list(reactants_in) + reactants_out\n",
    "    products = list(products_in) + products_out\n",
    "    #  \n",
    "  if (len(reaction.reactants) > len(reactants)) | \\\n",
    "    (len(reaction.products) > len(products)):\n",
    "    reduced = True\n",
    "    reaction.reactants = reactants\n",
    "    reaction.products = products\n",
    "        \n",
    "  if reduced:\n",
    "    reaction.identifier = reaction.makeIdentifier()\n",
    "    reaction.category = reaction._getCategory() \n",
    "    return reaction\n",
    "  else:\n",
    "    return reduced"
   ]
  },
  {
   "cell_type": "code",
   "execution_count": null,
   "metadata": {
    "collapsed": true
   },
   "outputs": [],
   "source": [
    "# processMultiMultiReactions:\n"
   ]
  },
  {
   "cell_type": "code",
   "execution_count": null,
   "metadata": {
    "collapsed": true
   },
   "outputs": [],
   "source": []
  },
  {
   "cell_type": "code",
   "execution_count": null,
   "metadata": {
    "collapsed": true
   },
   "outputs": [],
   "source": []
  },
  {
   "cell_type": "code",
   "execution_count": 29,
   "metadata": {},
   "outputs": [
    {
     "name": "stdout",
     "output_type": "stream",
     "text": [
      "We have a Type I Error...\n",
      "AA  and  Cn  have the same weight by\n",
      "v8: _1DG -> Cn; k8 * _1DG\n",
      "v12: Man -> Glu; k12 * Man\n",
      "v9: _1DG -> AA; k9 * _1DG\n",
      "v13: Glu -> _3DG; k13 * Glu\n",
      "v5: _3DG -> Cn; k5 * _3DG\n",
      "v6: _3DG -> FA; k6 * _3DG\n",
      "\n",
      "However, reaction \" v15: Cn -> AA + FA + MG; k15 * Cn \" implies  AA < Cn\n",
      "We cannot add the arc:  AA -> Cn\n",
      "\n",
      "We have a Type I Error...\n",
      "FA  and  Cn  have the same weight by\n",
      "v8: _1DG -> Cn; k8 * _1DG\n",
      "v12: Man -> Glu; k12 * Man\n",
      "v9: _1DG -> AA; k9 * _1DG\n",
      "v13: Glu -> _3DG; k13 * Glu\n",
      "v5: _3DG -> Cn; k5 * _3DG\n",
      "v6: _3DG -> FA; k6 * _3DG\n",
      "\n",
      "However, reaction \" v15: Cn -> AA + FA + MG; k15 * Cn \" implies  FA < Cn\n",
      "We cannot add the arc:  FA -> Cn\n",
      "\n"
     ]
    }
   ],
   "source": [
    "reactions = []\n",
    "for reaction in [r for r in simple.reactions if r.category!=cn.REACTION_BOUNDARY]:\n",
    "  if (reaction.reactants[0].molecule.name == cn.EMPTYSET) | \\\n",
    "      (reaction.products[0].molecule.name == cn.EMPTYSET):\n",
    "   continue\n",
    "  else:\n",
    "    reactions.append(reaction)\n",
    "# for reaction in reactions:\n",
    "#   print(reaction)\n",
    "z = m.analyze(reactions)"
   ]
  },
  {
   "cell_type": "code",
   "execution_count": null,
   "metadata": {
    "collapsed": true
   },
   "outputs": [],
   "source": []
  }
 ],
 "metadata": {
  "kernelspec": {
   "display_name": "Python 3",
   "language": "python",
   "name": "python3"
  },
  "language_info": {
   "codemirror_mode": {
    "name": "ipython",
    "version": 3
   },
   "file_extension": ".py",
   "mimetype": "text/x-python",
   "name": "python",
   "nbconvert_exporter": "python",
   "pygments_lexer": "ipython3",
   "version": "3.6.3"
  }
 },
 "nbformat": 4,
 "nbformat_minor": 2
}
