{
 "cells": [
  {
   "cell_type": "code",
   "execution_count": 1,
   "metadata": {},
   "outputs": [
    {
     "name": "stdout",
     "output_type": "stream",
     "text": [
      "Current Directory: /Users/woosubshin/Desktop/ModelEngineering/SBMLLint/notebook\n"
     ]
    }
   ],
   "source": [
    "from games_setup import *\n",
    "import SBMLLint.common.constants as cn\n",
    "from SBMLLint.games.som import SOM\n",
    "from SBMLLint.games.mesgraph import MESGraph"
   ]
  },
  {
   "cell_type": "code",
   "execution_count": 9,
   "metadata": {},
   "outputs": [
    {
     "name": "stdout",
     "output_type": "stream",
     "text": [
      "Reaction1: Br + BrO3 -> HBrO2 + HOBr; Br * BrO3 * k1 * BZ\n",
      "reaction_n_n\n",
      "Reaction2: Br + HBrO2 -> 2.00 HOBr; Br * HBrO2 * k2 * BZ\n",
      "reaction_n_n\n",
      "Reaction3: BrO3 + HBrO2 -> Ce + 2.00 HBrO2; BrO3 * HBrO2 * k3 * BZ\n",
      "reaction_n_n\n",
      "Reaction4: 2.00 HBrO2 -> BrO3 + HOBr; pow(HBrO2, 2) * k4 * BZ\n",
      "reaction_n_n\n",
      "Reaction5: Ce -> Br; Ce * k5 * BZ\n",
      "reaction_1_1\n"
     ]
    }
   ],
   "source": [
    "simple = load_file_from_curated_data(40)\n",
    "m = MESGraph(simple)\n",
    "for reaction in simple.reactions:\n",
    "  print(reaction)\n",
    "  print(reaction.category)"
   ]
  },
  {
   "cell_type": "code",
   "execution_count": null,
   "metadata": {},
   "outputs": [],
   "source": []
  },
  {
   "cell_type": "code",
   "execution_count": 11,
   "metadata": {},
   "outputs": [
    {
     "data": {
      "text/plain": [
       "{BrO3, HBrO2}"
      ]
     },
     "execution_count": 11,
     "metadata": {},
     "output_type": "execute_result"
    }
   ],
   "source": [
    "{r.molecule for r in simple.reactions[2].reactants}"
   ]
  },
  {
   "cell_type": "code",
   "execution_count": 87,
   "metadata": {},
   "outputs": [
    {
     "data": {
      "text/plain": [
       "NodeView(({Fruex}, {Fru}, {Glcex}, {Glc}, {ATP}, {HexP}, {ADP}, {UDP}, {Suc6P}, {Suc}, {phos}, {glycolysis}, {Sucvac}))"
      ]
     },
     "execution_count": 87,
     "metadata": {},
     "output_type": "execute_result"
    }
   ],
   "source": [
    "m.nodes"
   ]
  },
  {
   "cell_type": "code",
   "execution_count": 88,
   "metadata": {},
   "outputs": [
    {
     "data": {
      "text/plain": [
       "OutEdgeView([])"
      ]
     },
     "execution_count": 88,
     "metadata": {},
     "output_type": "execute_result"
    }
   ],
   "source": [
    "m.edges"
   ]
  },
  {
   "cell_type": "code",
   "execution_count": 89,
   "metadata": {},
   "outputs": [
    {
     "name": "stdout",
     "output_type": "stream",
     "text": [
      "v3: ATP + Glc -> HexP + ADP; compartment * (Vmax3 * (Glc / Km3Glc) * (ATP / Km3ATP) / ((1 + ATP / Km3ATP) * (1 + Glc / Km3Glc + Fru / Km4Fru + 0.113 * HexP / Ki3G6P + 0.0575 * HexP / Ki4F6P)))\n",
      "v4: Fru + ATP -> HexP + ADP; compartment * (Vmax4 * (Fru / Km4Fru) * (ATP / Km4ATP) / ((1 + ATP / Km4ATP) * (1 + Glc / Km3Glc + Fru / Km4Fru + 0.113 * HexP / Ki3G6P + 0.0575 * HexP / Ki4F6P)))\n",
      "v5: Fru + ATP -> HexP + ADP; compartment * (Vmax5 / (1 + Fru / Ki5Fru) * (Fru / Km5Fru) * (ATP / Km5ATP) / (1 + Fru / Km5Fru + ATP / Km5ATP + Fru * ATP / (Km5Fru * Km5ATP) + ADP / Ki5ADP))\n",
      "v8: HexP + Fru -> Suc + UDP; compartment * (-Vmax8f * (Suc * UDP - Fru * 0.8231 * HexP / Keq8) / (Suc * UDP * (1 + Fru / Ki8Fru) + Km8Suc * (UDP + Ki8UDP) + Km8UDP * Suc + Vmax8f / (Vmax8r * Keq8) * (Km8UDPGlc * Fru * (1 + UDP / Ki8UDP) + 0.8231 * HexP * (Km8Fru * (1 + Km8UDP * Suc / (Ki8UDP * Km8Suc)) + Fru * (1 + Suc / Ki8Suc)))))\n"
     ]
    }
   ],
   "source": [
    "for reaction in simple.reactions:\n",
    "  if reaction.category == cn.REACTION_n_n:\n",
    "    print(reaction)"
   ]
  },
  {
   "cell_type": "code",
   "execution_count": 81,
   "metadata": {},
   "outputs": [
    {
     "name": "stdout",
     "output_type": "stream",
     "text": [
      "No cycles! No Type II Error!\n"
     ]
    },
    {
     "data": {
      "text/plain": [
       "{P0, P1, P2}->{CC, Cn}\n",
       "{T0, T1, T2}->{CC, Cn}\n",
       "{Mp};{Mt}"
      ]
     },
     "execution_count": 81,
     "metadata": {},
     "output_type": "execute_result"
    }
   ],
   "source": [
    "m.analyze(simple.reactions)"
   ]
  },
  {
   "cell_type": "code",
   "execution_count": 82,
   "metadata": {},
   "outputs": [
    {
     "name": "stdout",
     "output_type": "stream",
     "text": [
      "[{Mp}, {Mt}, {P0, P1, P2}, {T0, T1, T2}, {CC, Cn}]\n",
      "[({P0, P1, P2}, {CC, Cn}), ({T0, T1, T2}, {CC, Cn})]\n"
     ]
    }
   ],
   "source": [
    "print(m.nodes)\n",
    "print(m.edges)"
   ]
  },
  {
   "cell_type": "code",
   "execution_count": 7,
   "metadata": {},
   "outputs": [],
   "source": [
    "INITIAL_NODES = 14\n",
    "INITIAL_EDGES = 0\n",
    "FINAL_NODES = 6\n",
    "FINAL_EDGES = 6\n",
    "UNIUNI0 = 0\n",
    "UNIUNI1 = 7\n",
    "UNIUNI2 = 8\n",
    "UNIMULTI = 2\n",
    "MULTIUNI = 13\n",
    "INEQUAL1 = 14\n",
    "INEQUAL2 = 15\n",
    "AA = \"AA\"\n",
    "CN = \"Cn\"\n",
    "DFG = \"DFG\"\n",
    "E1 = \"E1\"\n",
    "E2 = \"E2\"\n",
    "FRU = \"Fru\"\n",
    "GLY = \"Gly\"\n",
    "MEL = \"Mel\"\n",
    "MG = \"MG\""
   ]
  },
  {
   "cell_type": "code",
   "execution_count": 8,
   "metadata": {},
   "outputs": [],
   "source": [
    "simple = load_file_from_curated_data(50)\n",
    "m = MESGraph(simple)"
   ]
  },
  {
   "cell_type": "code",
   "execution_count": 9,
   "metadata": {},
   "outputs": [
    {
     "data": {
      "text/plain": [
       "False"
      ]
     },
     "execution_count": 9,
     "metadata": {},
     "output_type": "execute_result"
    }
   ],
   "source": [
    "molecules = [som.molecules for som in m.nodes]\n",
    "{simple.getMolecule('MKKK')} in molecules"
   ]
  },
  {
   "cell_type": "code",
   "execution_count": 10,
   "metadata": {},
   "outputs": [
    {
     "data": {
      "text/plain": [
       "'{DFG};{E1};{E2};{Gly};{Cn};{_3DG};{FA};{_1DG};{AA};{Man};{Glu};{Mel};{MG};{Fru}'"
      ]
     },
     "execution_count": 10,
     "metadata": {},
     "output_type": "execute_result"
    }
   ],
   "source": [
    "m.identifier"
   ]
  },
  {
   "cell_type": "code",
   "execution_count": 11,
   "metadata": {},
   "outputs": [
    {
     "name": "stdout",
     "output_type": "stream",
     "text": [
      "True\n",
      "True\n",
      "True\n"
     ]
    }
   ],
   "source": [
    "# test constructor:\n",
    "print(len(m.nodes) == INITIAL_NODES)\n",
    "print(len(m.edges) == INITIAL_EDGES)\n",
    "dfg = simple.getMolecule(DFG)\n",
    "# molecules is a list of one-molecule sets\n",
    "molecules = [som.molecules for som in m.nodes]\n",
    "print({simple.getMolecule(DFG)} in molecules)"
   ]
  },
  {
   "cell_type": "code",
   "execution_count": 12,
   "metadata": {},
   "outputs": [
    {
     "name": "stdout",
     "output_type": "stream",
     "text": [
      "True\n",
      "True\n",
      "True\n",
      "True\n",
      "True\n",
      "True\n",
      "True\n",
      "True\n",
      "True\n",
      "True\n",
      "True\n",
      "True\n",
      "True\n",
      "True\n"
     ]
    }
   ],
   "source": [
    "# testInitializeSOMs\n",
    "for node in m.nodes:\n",
    "  print(type(node) == SOM)"
   ]
  },
  {
   "cell_type": "code",
   "execution_count": 13,
   "metadata": {},
   "outputs": [
    {
     "name": "stdout",
     "output_type": "stream",
     "text": [
      "True\n"
     ]
    }
   ],
   "source": [
    "# testMakeId\n",
    "identifier = \"\"\n",
    "for key, som in enumerate(m.nodes):\n",
    "  identifier = identifier + som.identifier\n",
    "  if key < len(m.nodes)-1:\n",
    "    identifier = identifier + \";\"\n",
    "print(identifier == m.identifier)"
   ]
  },
  {
   "cell_type": "code",
   "execution_count": 14,
   "metadata": {},
   "outputs": [
    {
     "name": "stdout",
     "output_type": "stream",
     "text": [
      "True\n",
      "True\n"
     ]
    }
   ],
   "source": [
    "# testGetNode\n",
    "aa = simple.getMolecule(AA)\n",
    "aa_som = m.getNode(aa)\n",
    "print(type(aa_som) == SOM)\n",
    "print(aa_som.molecules == {aa})"
   ]
  },
  {
   "cell_type": "code",
   "execution_count": 15,
   "metadata": {},
   "outputs": [
    {
     "name": "stdout",
     "output_type": "stream",
     "text": [
      "True\n",
      "True\n",
      "True\n"
     ]
    }
   ],
   "source": [
    "# testUniUniReaction\n",
    "uniuni_reaction = simple.reactions[UNIUNI0]\n",
    "m.processUniUniReaction(uniuni_reaction)\n",
    "dfg = m.getNode(simple.getMolecule(DFG))\n",
    "e1 = m.getNode(simple.getMolecule(E1))\n",
    "print(m.has_node(dfg) == True)\n",
    "print(m.has_node(e1) == True)\n",
    "print(dfg == e1)"
   ]
  },
  {
   "cell_type": "code",
   "execution_count": 17,
   "metadata": {},
   "outputs": [
    {
     "name": "stdout",
     "output_type": "stream",
     "text": [
      "v3: DFG -> Gly + Cn; k3 * DFG\n",
      "True\n",
      "True\n"
     ]
    }
   ],
   "source": [
    "# testUniMultiReaction\n",
    "unimulti_reaction = simple.reactions[UNIMULTI]\n",
    "print(unimulti_reaction)\n",
    "m.processUniMultiReaction(unimulti_reaction)\n",
    "prods = [m.getNode(product.molecule) for product in unimulti_reaction.products]\n",
    "dfg = m.getNode(simple.getMolecule(DFG))\n",
    "for prod in prods:\n",
    "  print(m.has_edge(prod, dfg))"
   ]
  },
  {
   "cell_type": "code",
   "execution_count": 18,
   "metadata": {},
   "outputs": [
    {
     "data": {
      "text/plain": [
       "OutEdgeView([({Gly}, {DFG, E1}), ({Cn}, {DFG, E1})])"
      ]
     },
     "execution_count": 18,
     "metadata": {},
     "output_type": "execute_result"
    }
   ],
   "source": [
    "m.edges"
   ]
  },
  {
   "cell_type": "code",
   "execution_count": 19,
   "metadata": {},
   "outputs": [
    {
     "name": "stdout",
     "output_type": "stream",
     "text": [
      "v14: Gly + Cn -> Mel; k14 * Cn * Gly\n",
      "True\n",
      "True\n"
     ]
    }
   ],
   "source": [
    "# testMultiUniReaction\n",
    "multiuni_reaction = simple.reactions[MULTIUNI]\n",
    "print(multiuni_reaction)\n",
    "m.processMultiUniReaction(multiuni_reaction)\n",
    "reacts = [m.getNode(reactant.molecule) for reactant in multiuni_reaction.reactants]\n",
    "mel = m.getNode(simple.getMolecule(MEL))\n",
    "for react in reacts:\n",
    "  print(m.has_edge(react, mel))"
   ]
  },
  {
   "cell_type": "code",
   "execution_count": 20,
   "metadata": {},
   "outputs": [
    {
     "data": {
      "text/plain": [
       "OutEdgeView([({Gly}, {DFG, E1}), ({Gly}, {Mel}), ({Cn}, {DFG, E1}), ({Cn}, {Mel})])"
      ]
     },
     "execution_count": 20,
     "metadata": {},
     "output_type": "execute_result"
    }
   ],
   "source": [
    "m.edges"
   ]
  },
  {
   "cell_type": "code",
   "execution_count": 21,
   "metadata": {},
   "outputs": [
    {
     "name": "stdout",
     "output_type": "stream",
     "text": [
      "True\n",
      "True\n",
      "True\n",
      "True\n",
      "[({Gly}, {DFG, E1}), ({Gly}, {Mel}), ({Gly}, {E2}), ({Cn}, {DFG, E1}), ({Cn}, {Mel}), ({Fru}, {E2})]\n"
     ]
    }
   ],
   "source": [
    "# testAddArc\n",
    "source = [simple.getMolecule(FRU), simple.getMolecule(GLY)]\n",
    "destination = [simple.getMolecule(E2)]\n",
    "dummy_reaction = simple.reactions[INEQUAL2]\n",
    "m.addArc(source, destination, dummy_reaction)\n",
    "arc1 = [m.getNode(source[0]), \n",
    "        m.getNode(destination[0])]\n",
    "arc2 = [m.getNode(source[1]), \n",
    "        m.getNode(destination[0])]\n",
    "print(m.has_edge(arc1[0], arc1[1]))\n",
    "print(m.has_edge(arc2[0], arc2[1]))\n",
    "reaction_label1 = m.get_edge_data(arc1[0], arc1[1])[cn.REACTION][0]\n",
    "reaction_label2 = m.get_edge_data(arc2[0], arc1[1])[cn.REACTION][0]\n",
    "print(reaction_label1 == dummy_reaction.label)\n",
    "print(reaction_label1 == reaction_label2)\n",
    "print(m.edges)"
   ]
  },
  {
   "cell_type": "code",
   "execution_count": 22,
   "metadata": {},
   "outputs": [
    {
     "name": "stdout",
     "output_type": "stream",
     "text": [
      "We have a Type I Error...\n",
      "AA  and  Cn  have the same weight by\n",
      "v9: _1DG -> AA; k9 * _1DG\n",
      "v8: _1DG -> Cn; k8 * _1DG\n",
      "\n",
      "However, reaction \" v15: Cn -> AA + FA + MG; k15 * Cn \" implies  AA < Cn\n",
      "We cannot add the arc:  AA -> Cn\n",
      "\n",
      "True\n",
      "True\n"
     ]
    }
   ],
   "source": [
    "# test checkTypeOneError\n",
    "uniuni_reaction1 = simple.reactions[7]\n",
    "uniuni_reaction2 = simple.reactions[8]\n",
    "inequality_reaction1 = simple.reactions[14]\n",
    "inequality_reaction2 = simple.reactions[15]\n",
    "m.processUniUniReaction(uniuni_reaction1)\n",
    "m.processUniUniReaction(uniuni_reaction2)\n",
    "aa = simple.getMolecule(AA)\n",
    "cn = simple.getMolecule(CN)\n",
    "mg = simple.getMolecule(MG)\n",
    "print(m.checkTypeOneError((aa, cn), inequality_reaction1) == True)\n",
    "print(m.checkTypeOneError((mg, aa), inequality_reaction2) == False)"
   ]
  },
  {
   "cell_type": "code",
   "execution_count": 30,
   "metadata": {},
   "outputs": [
    {
     "name": "stdout",
     "output_type": "stream",
     "text": [
      "We have a Type II Error...\n",
      "\n",
      "{HBrO2} < {HOBr} < {HBrO2} \n",
      "\n",
      "{HBrO2} -> {HOBr}  by\n",
      "Reaction2\n",
      "\n",
      "{HOBr} -> {HBrO2}  by\n",
      "Reaction4\n",
      "\n",
      "True\n",
      "True\n",
      "True\n"
     ]
    }
   ],
   "source": [
    "# test checkTypeTwoError\n",
    "REACTION1 = \"Reaction2\"\n",
    "REACTION2 = \"Reaction4\"\n",
    "simple2 = load_file_from_curated_data(40)\n",
    "m2 = MESGraph(simple2)\n",
    "m2.processMultiUniReaction(simple2.getReaction(REACTION1))\n",
    "m2.processUniMultiReaction(simple2.getReaction(REACTION2))\n",
    "print(m2.checkTypeTwoError() == True)\n",
    "print(m2.type_one_error == False)\n",
    "print(m2.type_two_error == True)"
   ]
  },
  {
   "cell_type": "code",
   "execution_count": 107,
   "metadata": {},
   "outputs": [
    {
     "name": "stdout",
     "output_type": "stream",
     "text": [
      "v17: complexC -> Fus3 + Ste11 + Ste7 + Ste5; compartment * complexC * k17\n",
      "[1.0]\n",
      "[1.0, 1.0, 1.0, 1.0]\n"
     ]
    }
   ],
   "source": [
    "reaction = simple.reactions[16]\n",
    "print(reaction)\n",
    "rct = [a.stoichiometry for a in reaction.reactants]\n",
    "pdt = [b.stoichiometry for b in reaction.products]\n",
    "print(rct)\n",
    "print(pdt)"
   ]
  },
  {
   "cell_type": "code",
   "execution_count": 109,
   "metadata": {},
   "outputs": [
    {
     "data": {
      "text/plain": [
       "0"
      ]
     },
     "execution_count": 109,
     "metadata": {},
     "output_type": "execute_result"
    }
   ],
   "source": [
    "sum([])"
   ]
  },
  {
   "cell_type": "code",
   "execution_count": 108,
   "metadata": {},
   "outputs": [
    {
     "data": {
      "text/plain": [
       "4.0"
      ]
     },
     "execution_count": 108,
     "metadata": {},
     "output_type": "execute_result"
    }
   ],
   "source": [
    "sum(pdt)"
   ]
  },
  {
   "cell_type": "code",
   "execution_count": 39,
   "metadata": {},
   "outputs": [
    {
     "data": {
      "text/plain": [
       "NodeView(({MKKK, MKKK_P}, {MKK, MKK_P, MKK_PP}, {MAPK, MAPK_P, MAPK_PP}))"
      ]
     },
     "execution_count": 39,
     "metadata": {},
     "output_type": "execute_result"
    }
   ],
   "source": [
    "m_analyze.nodes"
   ]
  },
  {
   "cell_type": "code",
   "execution_count": 42,
   "metadata": {},
   "outputs": [
    {
     "data": {
      "text/plain": [
       "[Reaction1: Br + BrO3 -> HBrO2 + HOBr; Br * BrO3 * k1 * BZ,\n",
       " Reaction2: Br + HBrO2 -> 2.00 HOBr; Br * HBrO2 * k2 * BZ,\n",
       " Reaction3: BrO3 + HBrO2 -> Ce + 2.00 HBrO2; BrO3 * HBrO2 * k3 * BZ,\n",
       " Reaction4: 2.00 HBrO2 -> BrO3 + HOBr; pow(HBrO2, 2) * k4 * BZ,\n",
       " Reaction5: Ce -> Br; Ce * k5 * BZ]"
      ]
     },
     "execution_count": 42,
     "metadata": {},
     "output_type": "execute_result"
    }
   ],
   "source": [
    "simple2.reactions"
   ]
  },
  {
   "cell_type": "code",
   "execution_count": 40,
   "metadata": {},
   "outputs": [
    {
     "name": "stdout",
     "output_type": "stream",
     "text": [
      "We have a Type I Error...\n",
      "AA  and  Cn  have the same weight by\n",
      "v5: _3DG -> Cn; k5 * _3DG\n",
      "v6: _3DG -> FA; k6 * _3DG\n",
      "v8: _1DG -> Cn; k8 * _1DG\n",
      "v13: Glu -> _3DG; k13 * Glu\n",
      "v12: Man -> Glu; k12 * Man\n",
      "v9: _1DG -> AA; k9 * _1DG\n",
      "\n",
      "However, reaction \" v15: Cn -> AA + FA + MG; k15 * Cn \" implies  AA < Cn\n",
      "We cannot add the arc:  AA -> Cn\n",
      "\n",
      "We have a Type I Error...\n",
      "FA  and  Cn  have the same weight by\n",
      "v5: _3DG -> Cn; k5 * _3DG\n",
      "v6: _3DG -> FA; k6 * _3DG\n",
      "v8: _1DG -> Cn; k8 * _1DG\n",
      "v13: Glu -> _3DG; k13 * Glu\n",
      "v12: Man -> Glu; k12 * Man\n",
      "v9: _1DG -> AA; k9 * _1DG\n",
      "\n",
      "However, reaction \" v15: Cn -> AA + FA + MG; k15 * Cn \" implies  FA < Cn\n",
      "We cannot add the arc:  FA -> Cn\n",
      "\n",
      "No cycles! No Type II Error!\n",
      "{Gly}->{DFG, E1, E2}\n",
      "{Gly}->{Mel}\n",
      "{MG}->{AA, Cn, FA, Glu, Man, _1DG, _3DG}\n",
      "{Fru}->{DFG, E1, E2}\n",
      "{AA, Cn, FA, Glu, Man, _1DG, _3DG}->{DFG, E1, E2}\n",
      "{AA, Cn, FA, Glu, Man, _1DG, _3DG}->{Mel}\n",
      "\n",
      "True\n",
      "True\n",
      "True\n",
      "True\n",
      "We have a Type II Error...\n",
      "\n",
      "{HOBr} < {HBrO2} < {HOBr} \n",
      "\n",
      "{HOBr} -> {HBrO2}  by\n",
      "Reaction4\n",
      "\n",
      "{HBrO2} -> {HOBr}  by\n",
      "Reaction2\n",
      "\n",
      "True\n",
      "True\n"
     ]
    }
   ],
   "source": [
    "# test analyze\n",
    "simple1 = load_file_from_curated_data(50)\n",
    "m_analyze = MESGraph(simple1)\n",
    "m_analyze.analyze(simple1.reactions)\n",
    "print(m_analyze.identifier)\n",
    "print(len(m_analyze.nodes) == 6)\n",
    "print(len(m_analyze.edges) == 6)\n",
    "print(m_analyze.type_one_error == True)\n",
    "print(m_analyze.type_two_error == False)\n",
    "\n",
    "simple2 = load_file_from_curated_data(40)\n",
    "m_analyze2 = MESGraph(simple2)\n",
    "m_analyze2.analyze(simple2.reactions)\n",
    "print(m_analyze2.type_one_error == False)\n",
    "print(m_analyze2.type_two_error == True)"
   ]
  },
  {
   "cell_type": "code",
   "execution_count": null,
   "metadata": {},
   "outputs": [],
   "source": [
    "cn.RE"
   ]
  },
  {
   "cell_type": "code",
   "execution_count": null,
   "metadata": {},
   "outputs": [],
   "source": [
    "# reduceReaction: \n",
    "def reduce(cls, reaction):\n",
    "  Reduces reaction using existing cls.soms\n",
    "  :param Reaction reaction:\n",
    "  :return reaction/False:     \n",
    "  # flag that will show whether the reaction was reduced\n",
    "  reduced = False\n",
    "  if reaction.category != cn.REACTION_n_n:\n",
    "    return reduced\n",
    "  # Reduces the reaction by examining all SOMs\n",
    "  for som in cls.soms:\n",
    "    reactants_in = deque([mole_stoich for mole_stoich in  \n",
    "                           reaction.reactants if \n",
    "                           mole_stoich.molecule in som.molecules])\n",
    "    reactants_out = [mole_stoich for mole_stoich in  \n",
    "                      reaction.reactants if \n",
    "                      mole_stoich.molecule not in som.molecules]\n",
    "    products_in = deque([mole_stoich for mole_stoich in  \n",
    "                          reaction.products if \n",
    "                          mole_stoich.molecule in som.molecules])\n",
    "    products_out = [mole_stoich for mole_stoich in  \n",
    "                     reaction.products if \n",
    "                     mole_stoich.molecule not in som.molecules]\n",
    "      #\n",
    "  while reactants_in and products_in:\n",
    "    reactant = reactants_in[0]\n",
    "    product = products_in[0]\n",
    "    if reactant.stoichiometry > product.stoichiometry:\n",
    "      reactants_in[0] = MoleculeStoichiometry(reactant.molecule,\n",
    "                                            reactant.stoichiometry - product.stoichiometry)\n",
    "      products_in.popleft()\n",
    "    elif reactant.stoichiometry < product.stoichiometry:\n",
    "      products_in[0] = MoleculeStoichiometry(product.molecule,\n",
    "                                            product.stoichiometry - reactant.stoichiometry)\n",
    "      reactants_in.popleft()\n",
    "    else:\n",
    "      reactants_in.popleft()\n",
    "      products_in.popleft()\n",
    "    reactants = list(reactants_in) + reactants_out\n",
    "    products = list(products_in) + products_out\n",
    "    #  \n",
    "  if (len(reaction.reactants) > len(reactants)) | \\\n",
    "    (len(reaction.products) > len(products)):\n",
    "    reduced = True\n",
    "    reaction.reactants = reactants\n",
    "    reaction.products = products\n",
    "        \n",
    "  if reduced:\n",
    "    reaction.identifier = reaction.makeIdentifier()\n",
    "    reaction.category = reaction._getCategory() \n",
    "    return reaction\n",
    "  else:\n",
    "    return reduced"
   ]
  },
  {
   "cell_type": "code",
   "execution_count": null,
   "metadata": {},
   "outputs": [],
   "source": [
    "# processMultiMultiReactions:\n"
   ]
  },
  {
   "cell_type": "code",
   "execution_count": null,
   "metadata": {},
   "outputs": [],
   "source": []
  },
  {
   "cell_type": "code",
   "execution_count": null,
   "metadata": {},
   "outputs": [],
   "source": []
  },
  {
   "cell_type": "code",
   "execution_count": 29,
   "metadata": {},
   "outputs": [
    {
     "name": "stdout",
     "output_type": "stream",
     "text": [
      "We have a Type I Error...\n",
      "AA  and  Cn  have the same weight by\n",
      "v8: _1DG -> Cn; k8 * _1DG\n",
      "v12: Man -> Glu; k12 * Man\n",
      "v9: _1DG -> AA; k9 * _1DG\n",
      "v13: Glu -> _3DG; k13 * Glu\n",
      "v5: _3DG -> Cn; k5 * _3DG\n",
      "v6: _3DG -> FA; k6 * _3DG\n",
      "\n",
      "However, reaction \" v15: Cn -> AA + FA + MG; k15 * Cn \" implies  AA < Cn\n",
      "We cannot add the arc:  AA -> Cn\n",
      "\n",
      "We have a Type I Error...\n",
      "FA  and  Cn  have the same weight by\n",
      "v8: _1DG -> Cn; k8 * _1DG\n",
      "v12: Man -> Glu; k12 * Man\n",
      "v9: _1DG -> AA; k9 * _1DG\n",
      "v13: Glu -> _3DG; k13 * Glu\n",
      "v5: _3DG -> Cn; k5 * _3DG\n",
      "v6: _3DG -> FA; k6 * _3DG\n",
      "\n",
      "However, reaction \" v15: Cn -> AA + FA + MG; k15 * Cn \" implies  FA < Cn\n",
      "We cannot add the arc:  FA -> Cn\n",
      "\n"
     ]
    }
   ],
   "source": [
    "reactions = []\n",
    "for reaction in [r for r in simple.reactions if r.category!=cn.REACTION_BOUNDARY]:\n",
    "  if (reaction.reactants[0].molecule.name == cn.EMPTYSET) | \\\n",
    "      (reaction.products[0].molecule.name == cn.EMPTYSET):\n",
    "   continue\n",
    "  else:\n",
    "    reactions.append(reaction)\n",
    "# for reaction in reactions:\n",
    "#   print(reaction)\n",
    "z = m.analyze(reactions)"
   ]
  },
  {
   "cell_type": "code",
   "execution_count": null,
   "metadata": {},
   "outputs": [],
   "source": []
  }
 ],
 "metadata": {
  "kernelspec": {
   "display_name": "Python 3",
   "language": "python",
   "name": "python3"
  },
  "language_info": {
   "codemirror_mode": {
    "name": "ipython",
    "version": 3
   },
   "file_extension": ".py",
   "mimetype": "text/x-python",
   "name": "python",
   "nbconvert_exporter": "python",
   "pygments_lexer": "ipython3",
   "version": "3.6.3"
  }
 },
 "nbformat": 4,
 "nbformat_minor": 2
}
