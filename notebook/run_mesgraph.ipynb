{
 "cells": [
  {
   "cell_type": "code",
   "execution_count": 7,
   "metadata": {},
   "outputs": [],
   "source": [
    "from games_setup import *\n",
    "from SBMLLint.games.som import SOM\n",
    "from SBMLLint.games.mesgraph import MESGraph"
   ]
  },
  {
   "cell_type": "code",
   "execution_count": 30,
   "metadata": {},
   "outputs": [],
   "source": [
    "simple = load_file_from_curated_data(10)"
   ]
  },
  {
   "cell_type": "code",
   "execution_count": 31,
   "metadata": {},
   "outputs": [
    {
     "data": {
      "text/plain": [
       "[J0: MKKK -> MKKK_P; uVol * V1 * MKKK / ((1 + pow(MAPK_PP / Ki, n)) * (K1 + MKKK)),\n",
       " J1: MKKK_P -> MKKK; uVol * V2 * MKKK_P / (KK2 + MKKK_P),\n",
       " J2: MKK -> MKK_P; uVol * k3 * MKKK_P * MKK / (KK3 + MKK),\n",
       " J3: MKK_P -> MKK_PP; uVol * k4 * MKKK_P * MKK_P / (KK4 + MKK_P),\n",
       " J4: MKK_PP -> MKK_P; uVol * V5 * MKK_PP / (KK5 + MKK_PP),\n",
       " J5: MKK_P -> MKK; uVol * V6 * MKK_P / (KK6 + MKK_P),\n",
       " J6: MAPK -> MAPK_P; uVol * k7 * MKK_PP * MAPK / (KK7 + MAPK),\n",
       " J7: MAPK_P -> MAPK_PP; uVol * k8 * MKK_PP * MAPK_P / (KK8 + MAPK_P),\n",
       " J8: MAPK_PP -> MAPK_P; uVol * V9 * MAPK_PP / (KK9 + MAPK_PP),\n",
       " J9: MAPK_P -> MAPK; uVol * V10 * MAPK_P / (KK10 + MAPK_P)]"
      ]
     },
     "execution_count": 31,
     "metadata": {},
     "output_type": "execute_result"
    }
   ],
   "source": [
    "simple.reactions"
   ]
  },
  {
   "cell_type": "code",
   "execution_count": 32,
   "metadata": {},
   "outputs": [],
   "source": [
    "m = MESGraph(simple)"
   ]
  },
  {
   "cell_type": "code",
   "execution_count": 33,
   "metadata": {},
   "outputs": [
    {
     "data": {
      "text/plain": [
       "NodeView(({MKKK}, {MKKK_P}, {MKK}, {MKK_P}, {MKK_PP}, {MAPK}, {MAPK_P}, {MAPK_PP}))"
      ]
     },
     "execution_count": 33,
     "metadata": {},
     "output_type": "execute_result"
    }
   ],
   "source": [
    "m.nodes"
   ]
  },
  {
   "cell_type": "code",
   "execution_count": 34,
   "metadata": {},
   "outputs": [
    {
     "data": {
      "text/plain": [
       "OutEdgeView([])"
      ]
     },
     "execution_count": 34,
     "metadata": {},
     "output_type": "execute_result"
    }
   ],
   "source": [
    "m.edges"
   ]
  },
  {
   "cell_type": "code",
   "execution_count": 20,
   "metadata": {},
   "outputs": [],
   "source": [
    "INITIAL_NODES = 14\n",
    "INITIAL_EDGES = 0\n",
    "FINAL_NODES = 6\n",
    "FINAL_EDGES = 6\n",
    "UNIUNI0 = 0\n",
    "UNIUNI1 = 7\n",
    "UNIUNI2 = 8\n",
    "UNIMULTI = 2\n",
    "MULTIUNI = 13\n",
    "INEQUAL1 = 14\n",
    "INEQUAL2 = 15\n",
    "AA = \"AA\"\n",
    "CN = \"Cn\"\n",
    "DFG = \"DFG\"\n",
    "E1 = \"E1\"\n",
    "E2 = \"E2\"\n",
    "FRU = \"Fru\"\n",
    "GLY = \"Gly\"\n",
    "MEL = \"Mel\"\n",
    "MG = \"MG\""
   ]
  },
  {
   "cell_type": "code",
   "execution_count": 48,
   "metadata": {},
   "outputs": [],
   "source": [
    "simple = load_file_from_curated_data(50)\n",
    "m = MESGraph(simple)"
   ]
  },
  {
   "cell_type": "code",
   "execution_count": 49,
   "metadata": {},
   "outputs": [
    {
     "data": {
      "text/plain": [
       "False"
      ]
     },
     "execution_count": 49,
     "metadata": {},
     "output_type": "execute_result"
    }
   ],
   "source": [
    "molecules = [som.molecules for som in m.nodes]\n",
    "{simple.getMolecule('MKKK')} in molecules"
   ]
  },
  {
   "cell_type": "code",
   "execution_count": 50,
   "metadata": {},
   "outputs": [
    {
     "data": {
      "text/plain": [
       "'{DFG};{E1};{E2};{Gly};{Cn};{_3DG};{FA};{_1DG};{AA};{Man};{Glu};{Mel};{MG};{Fru}'"
      ]
     },
     "execution_count": 50,
     "metadata": {},
     "output_type": "execute_result"
    }
   ],
   "source": [
    "m.identifier"
   ]
  },
  {
   "cell_type": "code",
   "execution_count": 53,
   "metadata": {},
   "outputs": [
    {
     "name": "stdout",
     "output_type": "stream",
     "text": [
      "True\n",
      "True\n",
      "True\n"
     ]
    }
   ],
   "source": [
    "# test constructor:\n",
    "print(len(m.nodes) == INITIAL_NODES)\n",
    "print(len(m.edges) == INITIAL_EDGES)\n",
    "dfg = simple.getMolecule(DFG)\n",
    "# molecules is a list of one-molecule sets\n",
    "molecules = [som.molecules for som in m.nodes]\n",
    "print({simple.getMolecule(DFG)} in molecules)"
   ]
  },
  {
   "cell_type": "code",
   "execution_count": 59,
   "metadata": {},
   "outputs": [
    {
     "name": "stdout",
     "output_type": "stream",
     "text": [
      "True\n",
      "True\n",
      "True\n",
      "True\n",
      "True\n",
      "True\n",
      "True\n",
      "True\n",
      "True\n",
      "True\n",
      "True\n",
      "True\n",
      "True\n",
      "True\n"
     ]
    }
   ],
   "source": [
    "# testInitializeSOMs\n",
    "for node in m.nodes:\n",
    "  print(type(node) == SOM)"
   ]
  },
  {
   "cell_type": "code",
   "execution_count": 56,
   "metadata": {},
   "outputs": [
    {
     "name": "stdout",
     "output_type": "stream",
     "text": [
      "True\n"
     ]
    }
   ],
   "source": [
    "# testMakeId\n",
    "identifier = \"\"\n",
    "for key, som in enumerate(m.nodes):\n",
    "  identifier = identifier + som.identifier\n",
    "  if key < len(m.nodes)-1:\n",
    "    identifier = identifier + \";\"\n",
    "print(identifier == m.identifier)"
   ]
  },
  {
   "cell_type": "code",
   "execution_count": 67,
   "metadata": {},
   "outputs": [
    {
     "name": "stdout",
     "output_type": "stream",
     "text": [
      "True\n",
      "True\n"
     ]
    }
   ],
   "source": [
    "# testGetNode\n",
    "aa = simple.getMolecule(AA)\n",
    "aa_som = m.getNode(aa)\n",
    "print(type(aa_som) == SOM)\n",
    "print(aa_som.molecules == {aa})"
   ]
  },
  {
   "cell_type": "code",
   "execution_count": 78,
   "metadata": {},
   "outputs": [
    {
     "name": "stdout",
     "output_type": "stream",
     "text": [
      "True\n",
      "True\n",
      "True\n"
     ]
    }
   ],
   "source": [
    "# testUniUniReaction\n",
    "uniuni_reaction = simple.reactions[UNIUNI0]\n",
    "m.processUniUniReaction(uniuni_reaction)\n",
    "dfg = m.getNode(simple.getMolecule(DFG))\n",
    "e1 = m.getNode(simple.getMolecule(E1))\n",
    "print(m.has_node(dfg) == True)\n",
    "print(m.has_node(e1) == True)\n",
    "print(dfg == e1)"
   ]
  },
  {
   "cell_type": "code",
   "execution_count": 79,
   "metadata": {},
   "outputs": [
    {
     "name": "stdout",
     "output_type": "stream",
     "text": [
      "v3: DFG -> Gly + Cn; k3 * DFG\n",
      "True\n",
      "True\n"
     ]
    }
   ],
   "source": [
    "# testUniMultiReaction\n",
    "unimulti_reaction = simple.reactions[UNIMULTI]\n",
    "print(unimulti)\n",
    "m.processUniMultiReaction(unimulti_reaction)\n",
    "prods = [m.getNode(product.molecule) for product in unimulti_reaction.products]\n",
    "dfg = m.getNode(simple.getMolecule(DFG))\n",
    "for prod in prods:\n",
    "  print(m.has_edge(prod, dfg))"
   ]
  },
  {
   "cell_type": "code",
   "execution_count": 80,
   "metadata": {},
   "outputs": [
    {
     "data": {
      "text/plain": [
       "OutEdgeView([({Gly}, {DFG, E1}), ({Cn}, {DFG, E1})])"
      ]
     },
     "execution_count": 80,
     "metadata": {},
     "output_type": "execute_result"
    }
   ],
   "source": [
    "m.edges"
   ]
  },
  {
   "cell_type": "code",
   "execution_count": 85,
   "metadata": {},
   "outputs": [
    {
     "name": "stdout",
     "output_type": "stream",
     "text": [
      "v14: Gly + Cn -> Mel; k14 * Cn * Gly\n",
      "True\n",
      "True\n"
     ]
    }
   ],
   "source": [
    "# testMultiUniReaction\n",
    "multiuni_reaction = simple.reactions[MULTIUNI]\n",
    "print(multiuni_reaction)\n",
    "m.processMultiUniReaction(multiuni_reaction)\n",
    "reacts = [m.getNode(reactant.molecule) for reactant in multiuni_reaction.reactants]\n",
    "mel = m.getNode(simple.getMolecule(MEL))\n",
    "for react in reacts:\n",
    "  print(m.has_edge(react, mel))"
   ]
  },
  {
   "cell_type": "code",
   "execution_count": 86,
   "metadata": {},
   "outputs": [
    {
     "data": {
      "text/plain": [
       "OutEdgeView([({Gly}, {DFG, E1}), ({Gly}, {Mel}), ({Cn}, {DFG, E1}), ({Cn}, {Mel})])"
      ]
     },
     "execution_count": 86,
     "metadata": {},
     "output_type": "execute_result"
    }
   ],
   "source": [
    "m.edges"
   ]
  },
  {
   "cell_type": "code",
   "execution_count": 93,
   "metadata": {},
   "outputs": [
    {
     "name": "stdout",
     "output_type": "stream",
     "text": [
      "True\n",
      "True\n",
      "True\n",
      "True\n",
      "[({Gly}, {DFG, E1}), ({Gly}, {Mel}), ({Gly}, {E2}), ({Cn}, {DFG, E1}), ({Cn}, {Mel}), ({Fru}, {E2})]\n"
     ]
    }
   ],
   "source": [
    "# testAddArc\n",
    "REACTION = \"reaction\"\n",
    "source = [simple.getMolecule(FRU), simple.getMolecule(GLY)]\n",
    "destination = [simple.getMolecule(E2)]\n",
    "dummy_reaction = simple.reactions[INEQUAL2]\n",
    "m.addArc(source, destination, dummy_reaction)\n",
    "arc1 = [m.getNode(source[0]), \n",
    "        m.getNode(destination[0])]\n",
    "arc2 = [m.getNode(source[1]), \n",
    "        m.getNode(destination[0])]\n",
    "print(m.has_edge(arc1[0], arc1[1]))\n",
    "print(m.has_edge(arc2[0], arc2[1]))\n",
    "reaction_label1 = m.get_edge_data(arc1[0], arc1[1])[REACTION][0]\n",
    "reaction_label2 = m.get_edge_data(arc2[0], arc1[1])[REACTION][0]\n",
    "print(reaction_label1 == dummy_reaction.label)\n",
    "print(reaction_label1 == reaction_label2)\n",
    "print(m.edges)"
   ]
  },
  {
   "cell_type": "code",
   "execution_count": 97,
   "metadata": {},
   "outputs": [
    {
     "name": "stdout",
     "output_type": "stream",
     "text": [
      "We have a Type I Error...\n",
      "AA  and  Cn  have the same weight by\n",
      "v9: _1DG -> AA; k9 * _1DG\n",
      "v8: _1DG -> Cn; k8 * _1DG\n",
      "\n",
      "However, reaction \" v15: Cn -> AA + FA + MG; k15 * Cn \" implies  AA < Cn\n",
      "We cannot add the arc:  AA -> Cn\n",
      "\n",
      "True\n",
      "True\n"
     ]
    }
   ],
   "source": [
    "# test checkTypeOneError\n",
    "uniuni_reaction1 = simple.reactions[7]\n",
    "uniuni_reaction2 = simple.reactions[8]\n",
    "inequality_reaction1 = simple.reactions[14]\n",
    "inequality_reaction2 = simple.reactions[15]\n",
    "m.processUniUniReaction(uniuni_reaction1)\n",
    "m.processUniUniReaction(uniuni_reaction2)\n",
    "aa = simple.getMolecule(AA)\n",
    "cn = simple.getMolecule(CN)\n",
    "mg = simple.getMolecule(MG)\n",
    "print(m.checkTypeOneError((aa, cn), inequality_reaction1) == True)\n",
    "print(m.checkTypeOneError((mg, aa), inequality_reaction2) == False)"
   ]
  },
  {
   "cell_type": "code",
   "execution_count": 59,
   "metadata": {},
   "outputs": [
    {
     "name": "stdout",
     "output_type": "stream",
     "text": [
      "We have Type I Error...\n",
      "AA  and  Cn  have the same weight by\n",
      "v8: _1DG -> Cn; k8 * _1DG\n",
      "v9: _1DG -> AA; k9 * _1DG\n",
      "v6: _3DG -> FA; k6 * _3DG\n",
      "v13: Glu -> _3DG; k13 * Glu\n",
      "v5: _3DG -> Cn; k5 * _3DG\n",
      "v12: Man -> Glu; k12 * Man\n",
      "\n",
      "However, reaction \" v15: Cn -> AA + FA + MG; k15 * Cn \" implies  AA  <  Cn\n",
      "\n",
      "We have Type I Error...\n",
      "FA  and  Cn  have the same weight by\n",
      "v8: _1DG -> Cn; k8 * _1DG\n",
      "v9: _1DG -> AA; k9 * _1DG\n",
      "v6: _3DG -> FA; k6 * _3DG\n",
      "v13: Glu -> _3DG; k13 * Glu\n",
      "v5: _3DG -> Cn; k5 * _3DG\n",
      "v12: Man -> Glu; k12 * Man\n",
      "\n",
      "However, reaction \" v15: Cn -> AA + FA + MG; k15 * Cn \" implies  FA  <  Cn\n",
      "\n",
      "{Gly}->{Mel}\n",
      "{Gly}->{DFG, E1, E2}\n",
      "{MG}->{AA, Cn, FA, Glu, Man, _1DG, _3DG}\n",
      "{Fru}->{DFG, E1, E2}\n",
      "{AA, Cn, FA, Glu, Man, _1DG, _3DG}->{DFG, E1, E2}\n",
      "{AA, Cn, FA, Glu, Man, _1DG, _3DG}->{Mel}\n",
      "\n",
      "True\n",
      "True\n"
     ]
    }
   ],
   "source": [
    "# test analyze\n",
    "k = m.analyze(Reaction.reactions)\n",
    "print(k.identifier)\n",
    "print(len(k.nodes) == 6)\n",
    "print(len(k.edges) == 6)"
   ]
  },
  {
   "cell_type": "code",
   "execution_count": 37,
   "metadata": {},
   "outputs": [
    {
     "name": "stdout",
     "output_type": "stream",
     "text": [
      "We have Type I Error...\n",
      "AA  and  Cn  have the same weight by\n",
      "v8: _1DG -> Cn; k8 * _1DG\n",
      "v9: _1DG -> AA; k9 * _1DG\n",
      "v6: _3DG -> FA; k6 * _3DG\n",
      "v13: Glu -> _3DG; k13 * Glu\n",
      "v5: _3DG -> Cn; k5 * _3DG\n",
      "v12: Man -> Glu; k12 * Man\n",
      "\n",
      "However, reaction \" v15: Cn -> AA + FA + MG; k15 * Cn \" implies  AA  <  Cn\n",
      "\n",
      "We have Type I Error...\n",
      "FA  and  Cn  have the same weight by\n",
      "v8: _1DG -> Cn; k8 * _1DG\n",
      "v9: _1DG -> AA; k9 * _1DG\n",
      "v6: _3DG -> FA; k6 * _3DG\n",
      "v13: Glu -> _3DG; k13 * Glu\n",
      "v5: _3DG -> Cn; k5 * _3DG\n",
      "v12: Man -> Glu; k12 * Man\n",
      "\n",
      "However, reaction \" v15: Cn -> AA + FA + MG; k15 * Cn \" implies  FA  <  Cn\n",
      "\n"
     ]
    },
    {
     "data": {
      "text/plain": [
       "{Gly}->{Mel}\n",
       "{Gly}->{DFG, E1, E2}\n",
       "{MG}->{AA, Cn, FA, Glu, Man, _1DG, _3DG}\n",
       "{Fru}->{DFG, E1, E2}\n",
       "{AA, Cn, FA, Glu, Man, _1DG, _3DG}->{DFG, E1, E2}\n",
       "{AA, Cn, FA, Glu, Man, _1DG, _3DG}->{Mel}"
      ]
     },
     "execution_count": 37,
     "metadata": {},
     "output_type": "execute_result"
    }
   ],
   "source": [
    "m.analyze(Reaction.reactions)"
   ]
  },
  {
   "cell_type": "code",
   "execution_count": 63,
   "metadata": {},
   "outputs": [
    {
     "data": {
      "text/plain": [
       "v16: E2 -> Gly + Fru; k16 * E2"
      ]
     },
     "execution_count": 63,
     "metadata": {},
     "output_type": "execute_result"
    }
   ],
   "source": [
    "dummy_reaction"
   ]
  },
  {
   "cell_type": "code",
   "execution_count": 65,
   "metadata": {},
   "outputs": [
    {
     "data": {
      "text/plain": [
       "v16: E2 -> Gly + Fru; k16 * E2"
      ]
     },
     "execution_count": 65,
     "metadata": {},
     "output_type": "execute_result"
    }
   ],
   "source": [
    "inequality_reaction2"
   ]
  },
  {
   "cell_type": "code",
   "execution_count": 29,
   "metadata": {},
   "outputs": [
    {
     "name": "stdout",
     "output_type": "stream",
     "text": [
      "We have a Type I Error...\n",
      "AA  and  Cn  have the same weight by\n",
      "v8: _1DG -> Cn; k8 * _1DG\n",
      "v12: Man -> Glu; k12 * Man\n",
      "v9: _1DG -> AA; k9 * _1DG\n",
      "v13: Glu -> _3DG; k13 * Glu\n",
      "v5: _3DG -> Cn; k5 * _3DG\n",
      "v6: _3DG -> FA; k6 * _3DG\n",
      "\n",
      "However, reaction \" v15: Cn -> AA + FA + MG; k15 * Cn \" implies  AA < Cn\n",
      "We cannot add the arc:  AA -> Cn\n",
      "\n",
      "We have a Type I Error...\n",
      "FA  and  Cn  have the same weight by\n",
      "v8: _1DG -> Cn; k8 * _1DG\n",
      "v12: Man -> Glu; k12 * Man\n",
      "v9: _1DG -> AA; k9 * _1DG\n",
      "v13: Glu -> _3DG; k13 * Glu\n",
      "v5: _3DG -> Cn; k5 * _3DG\n",
      "v6: _3DG -> FA; k6 * _3DG\n",
      "\n",
      "However, reaction \" v15: Cn -> AA + FA + MG; k15 * Cn \" implies  FA < Cn\n",
      "We cannot add the arc:  FA -> Cn\n",
      "\n"
     ]
    }
   ],
   "source": [
    "reactions = []\n",
    "for reaction in [r for r in simple.reactions if r.category!=cn.REACTION_BOUNDARY]:\n",
    "  if (reaction.reactants[0].molecule.name == cn.EMPTYSET) | \\\n",
    "      (reaction.products[0].molecule.name == cn.EMPTYSET):\n",
    "   continue\n",
    "  else:\n",
    "    reactions.append(reaction)\n",
    "# for reaction in reactions:\n",
    "#   print(reaction)\n",
    "z = m.analyze(reactions)"
   ]
  },
  {
   "cell_type": "code",
   "execution_count": null,
   "metadata": {},
   "outputs": [],
   "source": []
  }
 ],
 "metadata": {
  "kernelspec": {
   "display_name": "Python 3",
   "language": "python",
   "name": "python3"
  },
  "language_info": {
   "codemirror_mode": {
    "name": "ipython",
    "version": 3
   },
   "file_extension": ".py",
   "mimetype": "text/x-python",
   "name": "python",
   "nbconvert_exporter": "python",
   "pygments_lexer": "ipython3",
   "version": "3.6.3"
  }
 },
 "nbformat": 4,
 "nbformat_minor": 2
}
