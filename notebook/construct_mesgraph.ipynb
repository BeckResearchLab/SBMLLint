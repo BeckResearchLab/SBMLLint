{
 "cells": [
  {
   "cell_type": "code",
   "execution_count": 1,
   "metadata": {},
   "outputs": [
    {
     "name": "stdout",
     "output_type": "stream",
     "text": [
      "Current Directory: /Users/woosubshin/Desktop/ModelEngineering/SBMLLint/notebook\n"
     ]
    }
   ],
   "source": [
    "from games_setup import *"
   ]
  },
  {
   "cell_type": "code",
   "execution_count": 2,
   "metadata": {},
   "outputs": [
    {
     "data": {
      "text/plain": [
       "[SHMT: FH4 + serine -> CH2FH4; cell * (Vm * (serine / Km2 / (1 + serine / Km2)) * (FH4 / Km1) / (1 + FH4 / Km1)),\n",
       " SHMTr: CH2FH4 -> FH4; cell * (Vm * (glycine / Km2 / (1 + glycine / Km2)) * (CH2FH4 / Km1) / (1 + CH2FH4 / Km1)),\n",
       " HCHOtoCH2FH4: FH4 + HCHO -> CH2FH4; cell * hp * FH4 * HCHO,\n",
       " CH2FH4toHCHO: CH2FH4 -> FH4 + HCHO; cell * hl * CH2FH4,\n",
       " MTHFR: CH2FH4 + NADPH -> CH3FH4; cell * (Vm * CH2FH4 * NADPH / (NADPH * CH2FH4 + CH2FH4 * Km2 + (NADPH + Km2) * Km1 * (1 + MTX1 / Ki21 + MTX2 / Ki22 + MTX3 / Ki23 + MTX4 / Ki24 + MTX5 / Ki25 + FH2f / Ki1))),\n",
       " MTR: CH3FH4 + homocysteine -> FH4; cell * (Vm * (homocysteine / Km2 / (1 + homocysteine / Km2)) * (CH3FH4 / Km1) / (1 + CH3FH4 / Km1)),\n",
       " HCOOHtoCHOFH4: FH4 + formate + ATP -> CHOFH4; cell * (Vm / ((1 + Km1 / FH4) * (1 + Km2 / ATP) * (1 + Km3 / formate))),\n",
       " GARFT: CHOFH4 + GAR -> FGAR + FH4; cell * (Vm * CHOFH4 * GAR / (GAR * CHOFH4 + CHOFH4 * Km2 + (GAR + Km2) * Km1 * (1 + MTX1 / Ki21 + MTX2 / Ki22 + MTX3 / Ki23 + MTX4 / Ki24 + MTX5 / Ki25 + FH2f / Ki1 + FFH2 / Ki1f))),\n",
       " ATIC7: CHOFH4 + AICAR -> FH4; cell * (Vm * CHOFH4 * AICAR / (AICAR * CHOFH4 + CHOFH4 * Km2 + (AICAR + Km2) * Km1 * (1 + MTX1 / Ki21 + MTX2 / Ki22 + MTX3 / Ki23 + MTX4 / Ki24 + MTX5 / Ki25 + FH2f / Ki1 + FFH2 / Ki1f))),\n",
       " MTHFD: CH2FH4 + NADP -> CHOFH4; cell * Vm * (CH2FH4 / Km1 / (1 + CH2FH4 / Km1)) * (NADP / Km2 / (1 + NADP / Km2)),\n",
       " TYMS: CH2FH4 + dUMP -> FH2f; cell * (Vm * CH2FH4 * dUMP / (dUMP * CH2FH4 * (1 + MTX1 / Ki21 + MTX2 / Ki22 + MTX3 / Ki23 + MTX4 / Ki24 + MTX5 / Ki25 + FH2f / Ki1) + Km1 * dUMP * (FFH2 / Ki1f * (MTX1 / Ki21) + (1 + FFH2 / Ki1f) * (1 + MTX2 / Ki22 + MTX3 / Ki23 + MTX4 / Ki24 + MTX5 / Ki25 + FH2f / Ki1)) + Km1 * Km2 * (1 + MTX2 / Ki22 + MTX3 / Ki23 + MTX4 / Ki24 + MTX5 / Ki25 + FH2f / Ki1))),\n",
       " DHFReductase: FH2f -> FH4; cell * kter * FH2b,\n",
       " FFH2syn: FH2f -> FFH2; cell * Vm * FH2f,\n",
       " ATIC12: FFH2 + AICAR -> FH2f; cell * (Vm * FFH2 * AICAR / (AICAR * FFH2 + FFH2 * Km2 + (AICAR + Km2) * Km1 * (1 + MTX1 / Ki21 + MTX2 / Ki22 + MTX3 / Ki23 + MTX4 / Ki24 + MTX5 / Ki25 + FH2f / Ki1 + FFH2 / Ki1f))),\n",
       " AICARsyn: FGAR -> AICAR; cell * Vm * (glutamine / Km1 / (1 + glutamine / Km1)) * (FGAR / Km2 / (1 + FGAR / Km2)),\n",
       " FPGS12: MTX1 -> MTX2; cell * Vm * MTX1,\n",
       " FPGS23: MTX2 -> MTX3; cell * Vm * MTX2,\n",
       " FPGS34: MTX3 -> MTX4; cell * Vm * MTX3,\n",
       " FPGS45: MTX4 -> MTX5; cell * Vm * MTX4,\n",
       " GGH21: MTX2 -> MTX1; cell * Vm * MTX2,\n",
       " GGH32: MTX3 -> MTX2; cell * Vm * MTX3,\n",
       " GGH43: MTX4 -> MTX3; cell * Vm * MTX4,\n",
       " GGH54: MTX5 -> MTX4; cell * Vm * MTX5,\n",
       " RFC: EMTX -> MTX1; ext * (Vm * EMTX / (Km + EMTX)),\n",
       " MTX1export: MTX1 -> ; cell * Vm * MTX1,\n",
       " MTX2export: MTX2 -> ; cell * Vm * MTX2,\n",
       " MTX3export: MTX3 -> ; cell * Vm * MTX3,\n",
       " MTX4export: MTX4 -> ; cell * Vm * MTX4,\n",
       " MTX5export: MTX5 -> ; cell * Vm * MTX5,\n",
       " MTX1on: MTX1 + DHFRf -> MTX1b; cell * Vm * DHFRf * MTX1,\n",
       " MTX2on: MTX2 + DHFRf -> MTX2b; cell * Vm * DHFRf * MTX2,\n",
       " MTX3on: MTX3 + DHFRf -> MTX3b; cell * Vm * DHFRf * MTX3,\n",
       " MTX4on: MTX4 + DHFRf -> MTX4b; cell * Vm * DHFRf * MTX4,\n",
       " MTX5on: MTX5 + DHFRf -> MTX5b; cell * Vm * DHFRf * MTX5,\n",
       " MTX1off: MTX1b -> MTX1 + DHFRf; cell * Vm * MTX1b,\n",
       " MTX2off: MTX2b -> MTX2 + DHFRf; cell * Vm * MTX2b,\n",
       " MTX3off: MTX3b -> MTX3 + DHFRf; cell * Vm * MTX3b,\n",
       " MTX4off: MTX4b -> MTX4 + DHFRf; cell * Vm * MTX4b,\n",
       " MTX5off: MTX5b -> MTX5 + DHFRf; cell * Vm * MTX5b,\n",
       " DHFRfsyn:  -> DHFRf; cell * (k0 + k1 * EMTX),\n",
       " DHFRdeg: DHFRf -> ; Vm * cell * (DHFRf + FH2b),\n",
       " FH2bdeg:  -> FH2f; cell * Vm * FH2b,\n",
       " MTX1deg: MTX1b -> MTX1; cell * Vm * MTX1b,\n",
       " MTX2deg: MTX2b -> MTX2; cell * Vm * MTX2b,\n",
       " MTX3deg: MTX3b -> MTX3; cell * Vm * MTX3b,\n",
       " MTX4deg: MTX4b -> MTX4; cell * Vm * MTX4b,\n",
       " MTX5deg: MTX5b -> MTX5; cell * Vm * MTX5b]"
      ]
     },
     "execution_count": 2,
     "metadata": {},
     "output_type": "execute_result"
    }
   ],
   "source": [
    "simple = load_file(18)\n",
    "simple.reactions"
   ]
  },
  {
   "cell_type": "code",
   "execution_count": 26,
   "metadata": {},
   "outputs": [
    {
     "name": "stdout",
     "output_type": "stream",
     "text": [
      "[FH4, serine, CH2FH4, HCHO, NADPH, CH3FH4, homocysteine, formate, ATP, CHOFH4, GAR, FGAR, AICAR, NADP, dUMP, FH2f, FFH2, MTX1, MTX2, MTX3, MTX4, MTX5, EMTX, DHFRf, MTX1b, MTX2b, MTX3b, MTX4b, MTX5b]\n"
     ]
    }
   ],
   "source": [
    "print(simple.molecules)"
   ]
  },
  {
   "cell_type": "code",
   "execution_count": 27,
   "metadata": {},
   "outputs": [
    {
     "name": "stdout",
     "output_type": "stream",
     "text": [
      "reaction_n_1\n",
      "reaction_1_1\n",
      "reaction_n_1\n",
      "reaction_1_n\n",
      "reaction_n_1\n",
      "reaction_n_1\n",
      "reaction_n_1\n",
      "reaction_n_n\n",
      "reaction_n_1\n",
      "reaction_n_1\n",
      "reaction_n_1\n",
      "reaction_1_1\n",
      "reaction_1_1\n",
      "reaction_n_1\n",
      "reaction_1_1\n",
      "reaction_1_1\n",
      "reaction_1_1\n",
      "reaction_1_1\n",
      "reaction_1_1\n",
      "reaction_1_1\n",
      "reaction_1_1\n",
      "reaction_1_1\n",
      "reaction_1_1\n",
      "reaction_1_1\n",
      "reaction_boundary\n",
      "reaction_boundary\n",
      "reaction_boundary\n",
      "reaction_boundary\n",
      "reaction_boundary\n",
      "reaction_n_1\n",
      "reaction_n_1\n",
      "reaction_n_1\n",
      "reaction_n_1\n",
      "reaction_n_1\n",
      "reaction_1_n\n",
      "reaction_1_n\n",
      "reaction_1_n\n",
      "reaction_1_n\n",
      "reaction_1_n\n",
      "reaction_boundary\n",
      "reaction_boundary\n",
      "reaction_boundary\n",
      "reaction_1_1\n",
      "reaction_1_1\n",
      "reaction_1_1\n",
      "reaction_1_1\n",
      "reaction_1_1\n"
     ]
    }
   ],
   "source": [
    "for reaction in simple.reactions:\n",
    "    print(reaction.category)"
   ]
  },
  {
   "cell_type": "code",
   "execution_count": 6,
   "metadata": {},
   "outputs": [],
   "source": [
    "from SBMLLint.games.som import SOM"
   ]
  },
  {
   "cell_type": "code",
   "execution_count": 28,
   "metadata": {},
   "outputs": [],
   "source": [
    "# soms = []\n",
    "# for mole in simple.molecules:\n",
    "#     soms.append(SOM({mole}))\n",
    "# #c = SOM({simple.molecules[0]})\n",
    "# #m = SOM({simple.molecules[1]})\n",
    "# print(soms)"
   ]
  },
  {
   "cell_type": "code",
   "execution_count": 8,
   "metadata": {},
   "outputs": [],
   "source": [
    "# class Arc(object):\n",
    "    \n",
    "#     def __init__(self, source, destination, reaction):\n",
    "#         \"\"\"\n",
    "#         :param SOM source:\n",
    "#         :param SOM destination:\n",
    "#         :param Reaction reaction:\n",
    "#         \"\"\"\n",
    "#         self.source = source\n",
    "#         self.destination = destination\n",
    "#         self.reaction = reaction"
   ]
  },
  {
   "cell_type": "code",
   "execution_count": 29,
   "metadata": {},
   "outputs": [
    {
     "data": {
      "text/plain": [
       "' The following can be used to add multiple entries to an edge\\n\\nG = nx.DiGraph()\\nG.add_edges_from([(\\'a\\', \\'b\\'), (\\'b\\', \\'c\\')])\\n#set_edge_attributes(G, name, values)\\nG.add_edge(\\'d\\', \\'e\\', reaction = [1,2])\\nprint(\"first edge\")\\nprint(G.edges(data=True))\\na = G.get_edge_data(\\'d\\', \\'e\\')[\\'reaction\\']\\nG.add_edge(\\'d\\', \\'e\\', reaction = a + [3, 4])\\nprint(\"second\")\\nprint(G.edges(data=True))\\n'"
      ]
     },
     "execution_count": 29,
     "metadata": {},
     "output_type": "execute_result"
    }
   ],
   "source": [
    "\"\"\" The following can be used to add multiple entries to an edge\n",
    "\n",
    "G = nx.DiGraph()\n",
    "G.add_edges_from([('a', 'b'), ('b', 'c')])\n",
    "#set_edge_attributes(G, name, values)\n",
    "G.add_edge('d', 'e', reaction = [1,2])\n",
    "print(\"first edge\")\n",
    "print(G.edges(data=True))\n",
    "a = G.get_edge_data('d', 'e')['reaction']\n",
    "G.add_edge('d', 'e', reaction = a + [3, 4])\n",
    "print(\"second\")\n",
    "print(G.edges(data=True))\n",
    "\"\"\""
   ]
  },
  {
   "cell_type": "code",
   "execution_count": 22,
   "metadata": {},
   "outputs": [],
   "source": [
    "#ARROW = \"->\"\n",
    "REACTION = \"reaction\"\n",
    "LESSTHAN = \"<\"\n",
    "\n",
    "class MESGraph(nx.DiGraph):\n",
    "  \"\"\"\n",
    "  The MESGraph class represents a collection of SOMs as nodes\n",
    "  and their inequality relationships as edges (arcs). \n",
    "  Mass inequality between SOMs from reactions can help us\n",
    "  detect their relationship.\n",
    "  Type I Error occurs when we find inequality between two molecules\n",
    "  in the same SOM, because each element in a SOM has the same weight.\n",
    "  Type II Error implies there is cyclism between molecules, such as\n",
    "  A < B < C < ... < A, which is physically impossible. \n",
    "  \"\"\"\n",
    "\n",
    "  def __init__(self, simple=None):\n",
    "    \"\"\"\n",
    "    :param list-SOM soms:\n",
    "    \"\"\"\n",
    "    super(MESGraph, self).__init__()\n",
    "    self.soms = self.initializeSOMs(simple)\n",
    "    self.add_nodes_from(self.soms)\n",
    "    self.identifier = self.makeId()\n",
    "\n",
    "  def __repr__(self):\n",
    "    return self.identifier\n",
    "\n",
    "  def initializeSOMs(self, simple):\n",
    "    \"\"\"\n",
    "    Create a list of one-molecule SOMs\n",
    "    :param SimpleSBML simple:\n",
    "    :return list-SOM:\n",
    "    \"\"\"\n",
    "    soms = []\n",
    "    for molecule in simple.molecules:\n",
    "      soms.append(SOM({molecule}))\n",
    "    return soms\n",
    "    \n",
    "  def makeId(self):\n",
    "    identifier = \"\"\n",
    "    if self.edges:\n",
    "      for edge in self.edges:\n",
    "        identifier = identifier + str(edge[0]) + cn.ARC_ARROW + str(edge[1]) + \"\\n\"\n",
    "\n",
    "    for key, node in enumerate(nx.isolates(self)):\n",
    "      identifier = identifier + str(node)\n",
    "      if key < (len(list(nx.isolates(self)))-1):\n",
    "        identifier = identifier + cn.KINETICS_SEPARATOR\n",
    "\n",
    "    return identifier\n",
    "\n",
    "  def getNode(self, molecule):\n",
    "    \"\"\"\n",
    "    Search nodes in MESGraph and \n",
    "    returns SOM that includes the given molecule\n",
    "    If no such SOM exists, return False\n",
    "    :param Molecule molecule:\n",
    "    :return SOM/False:\n",
    "    \"\"\"\n",
    "    for som in list(self.nodes):\n",
    "      for mole in som.molecules:\n",
    "        if mole.name == molecule.name:\n",
    "          return som\n",
    "    return False\n",
    "\n",
    "  def processUniUniReaction(self, reaction):\n",
    "    \"\"\"\n",
    "    Process a 1-1 reaction to merge nodes.\n",
    "    If no need to merge, return None.\n",
    "    :param Reaction reactions:\n",
    "    \"\"\"\n",
    "    if reaction.category != cn.REACTION_1_1:\n",
    "      pass\n",
    "    else:\n",
    "      reactant_som = self.getNode(reaction.reactants[0].molecule)\n",
    "      product_som = self.getNode(reaction.products[0].molecule)\n",
    "      if reactant_som == product_som:\n",
    "        return None\n",
    "      else:\n",
    "        new_som = reactant_som.merge(product_som)\n",
    "        new_som.reactions.add(reaction)\n",
    "        # TODO: if there are edges, need to also check them\n",
    "        self.remove_node(reactant_som)\n",
    "        self.remove_node(product_som)\n",
    "        self.add_node(new_som)\n",
    "        self.identifier = self.makeId()\n",
    "        return new_som\n",
    "    \n",
    "  def processUniMultiReaction(self, reaction):\n",
    "    \"\"\"\n",
    "    Process a 1-n reaction to add arcs.\n",
    "    Since the mass of reactant is greater than\n",
    "    that of each product, it adds arcs by\n",
    "    addArc(source=products, destination=reactant). \n",
    "    :param Reaction reaction:\n",
    "    \"\"\"\n",
    "    if reaction.category != cn.REACTION_1_n:\n",
    "      pass\n",
    "    else:\n",
    "      destination = [reaction.reactants[0].molecule]\n",
    "      source = [product.molecule for product in reaction.products]\n",
    "      self.addArc(source, destination, reaction)\n",
    "      self.identifier = self.makeId()\n",
    "\n",
    "  def processMultiUniReaction(self, reaction):\n",
    "    \"\"\"\n",
    "    Process a n-1 reaction to add arcs.\n",
    "    Since the mass of product is greater than\n",
    "    that of each reactant, it adds arcs by\n",
    "    addArc(source=reactants, destination=product). \n",
    "    :param Reaction reaction:\n",
    "    \"\"\"\n",
    "    if reaction.category != cn.REACTION_n_1:\n",
    "      pass\n",
    "    else:\n",
    "      destination = [reaction.products[0].molecule]\n",
    "      source = [reactant.molecule for reactant in reaction.reactants]\n",
    "      self.addArc(source, destination, reaction)\n",
    "      self.identifier = self.makeId()\n",
    "    \n",
    "  def addArc(self, source, destination, reaction=None):\n",
    "    \"\"\"\n",
    "    Add arcs (edges) using two molecule lists (source/destination).\n",
    "    :param list-Molecule source:\n",
    "    :param list-Molecule destination:\n",
    "    \"\"\"\n",
    "    arcs = itertools.product(source, destination)\n",
    "    for arc in arcs:\n",
    "      if not self.checkTypeOneError(arc, reaction):\n",
    "        arc_source = self.getNode(arc[0])\n",
    "        arc_destination = self.getNode(arc[1])\n",
    "        # if there is already a preious reaction,\n",
    "        if self.has_edge(arc_source, arc_destination):\n",
    "          reaction_label = self.get_edge_data(arc_source, arc_destination)[REACTION]\n",
    "          # if reaction.label is not already included in the attribute,\n",
    "          if reaction.label not in set(reaction_label):\n",
    "            reaction_label = reaction_label + [reaction.label]\n",
    "        else:\n",
    "          reaction_label = [reaction.label]\n",
    "        self.add_edge(arc_source, arc_destination, reaction=reaction_label)\n",
    "      else:\n",
    "        continue\n",
    "    \n",
    "  def checkTypeOneError(self, arc, inequality_reaction=None):\n",
    "    \"\"\"\n",
    "    Check Type I Error of an arc.\n",
    "    If both source and destination are found\n",
    "    in the same SOM, send error message and return True.\n",
    "    If not, return False.\n",
    "    :param tuple-Molecule arc:\n",
    "    :param Reaction inequality_reaction:\n",
    "    :return bool:\n",
    "    \"\"\"\n",
    "    som1 = self.getNode(arc[0])\n",
    "    som2 = self.getNode(arc[1])\n",
    "    if som1 == som2:\n",
    "      print(\"We have Type I Error...\\n\")\n",
    "      print(arc[0], \" and \", arc[1], \" have the same weight by\")\n",
    "      for equality_reaction in list(som1.reactions):\n",
    "        print(equality_reaction)\n",
    "      print(\"\\nHowever, reaction \\\"\", inequality_reaction, \n",
    "            \"\\\" implies \", arc[0], LESSTHAN, arc[1])\n",
    "      print()\n",
    "      return True\n",
    "    else:\n",
    "      return False\n",
    "    \n",
    "  def analyze(self, reactions):\n",
    "    \"\"\"\n",
    "    Sort list of reactions and process them.\n",
    "    Add arcs or sending error messages using\n",
    "    checkTypeOneError or checkTypeTwoError.\n",
    "    :param list-Reaction reactions:\n",
    "    \"\"\"\n",
    "    # Associate the reaction category with the function\n",
    "    # that processes that category\n",
    "    reaction_dic = {\n",
    "        cn.REACTION_1_1: self.processUniUniReaction,\n",
    "        cn.REACTION_1_n: self.processUniMultiReaction,\n",
    "        cn.REACTION_n_1: self.processMultiUniReaction,\n",
    "        }\n",
    "    # Process each type of reaction\n",
    "    for category in reaction_dic.keys():\n",
    "      for reaction in [r for r in reactions if r.category == category]:\n",
    "        func = reaction_dic[category]\n",
    "        func(reaction)\n",
    "    #\n",
    "    return self"
   ]
  },
  {
   "cell_type": "code",
   "execution_count": 23,
   "metadata": {},
   "outputs": [
    {
     "data": {
      "text/plain": [
       "NodeView(({FH4}, {serine}, {CH2FH4}, {HCHO}, {NADPH}, {CH3FH4}, {homocysteine}, {formate}, {ATP}, {CHOFH4}, {GAR}, {FGAR}, {AICAR}, {NADP}, {dUMP}, {FH2f}, {FFH2}, {MTX1}, {MTX2}, {MTX3}, {MTX4}, {MTX5}, {EMTX}, {DHFRf}, {MTX1b}, {MTX2b}, {MTX3b}, {MTX4b}, {MTX5b}))"
      ]
     },
     "execution_count": 23,
     "metadata": {},
     "output_type": "execute_result"
    }
   ],
   "source": [
    "m = MESGraph(simple)\n",
    "m.nodes"
   ]
  },
  {
   "cell_type": "code",
   "execution_count": 24,
   "metadata": {},
   "outputs": [
    {
     "name": "stdout",
     "output_type": "stream",
     "text": [
      "We have Type I Error...\n",
      "\n",
      "FH4  and  CH2FH4  have the same weight by\n",
      "SHMTr: CH2FH4 -> FH4; cell * (Vm * (glycine / Km2 / (1 + glycine / Km2)) * (CH2FH4 / Km1) / (1 + CH2FH4 / Km1))\n",
      "FFH2syn: FH2f -> FFH2; cell * Vm * FH2f\n",
      "DHFReductase: FH2f -> FH4; cell * kter * FH2b\n",
      "\n",
      "However, reaction \" CH2FH4toHCHO: CH2FH4 -> FH4 + HCHO; cell * hl * CH2FH4 \" implies  FH4  <  CH2FH4\n",
      "\n",
      "We have Type I Error...\n",
      "\n",
      "MTX1  and  MTX1b  have the same weight by\n",
      "MTX2deg: MTX2b -> MTX2; cell * Vm * MTX2b\n",
      "MTX3deg: MTX3b -> MTX3; cell * Vm * MTX3b\n",
      "MTX4deg: MTX4b -> MTX4; cell * Vm * MTX4b\n",
      "FPGS45: MTX4 -> MTX5; cell * Vm * MTX4\n",
      "RFC: EMTX -> MTX1; ext * (Vm * EMTX / (Km + EMTX))\n",
      "FPGS23: MTX2 -> MTX3; cell * Vm * MTX2\n",
      "MTX5deg: MTX5b -> MTX5; cell * Vm * MTX5b\n",
      "MTX1deg: MTX1b -> MTX1; cell * Vm * MTX1b\n",
      "FPGS12: MTX1 -> MTX2; cell * Vm * MTX1\n",
      "FPGS34: MTX3 -> MTX4; cell * Vm * MTX3\n",
      "\n",
      "However, reaction \" MTX1off: MTX1b -> MTX1 + DHFRf; cell * Vm * MTX1b \" implies  MTX1  <  MTX1b\n",
      "\n",
      "We have Type I Error...\n",
      "\n",
      "MTX2  and  MTX2b  have the same weight by\n",
      "MTX2deg: MTX2b -> MTX2; cell * Vm * MTX2b\n",
      "MTX3deg: MTX3b -> MTX3; cell * Vm * MTX3b\n",
      "MTX4deg: MTX4b -> MTX4; cell * Vm * MTX4b\n",
      "FPGS45: MTX4 -> MTX5; cell * Vm * MTX4\n",
      "RFC: EMTX -> MTX1; ext * (Vm * EMTX / (Km + EMTX))\n",
      "FPGS23: MTX2 -> MTX3; cell * Vm * MTX2\n",
      "MTX5deg: MTX5b -> MTX5; cell * Vm * MTX5b\n",
      "MTX1deg: MTX1b -> MTX1; cell * Vm * MTX1b\n",
      "FPGS12: MTX1 -> MTX2; cell * Vm * MTX1\n",
      "FPGS34: MTX3 -> MTX4; cell * Vm * MTX3\n",
      "\n",
      "However, reaction \" MTX2off: MTX2b -> MTX2 + DHFRf; cell * Vm * MTX2b \" implies  MTX2  <  MTX2b\n",
      "\n",
      "We have Type I Error...\n",
      "\n",
      "MTX3  and  MTX3b  have the same weight by\n",
      "MTX2deg: MTX2b -> MTX2; cell * Vm * MTX2b\n",
      "MTX3deg: MTX3b -> MTX3; cell * Vm * MTX3b\n",
      "MTX4deg: MTX4b -> MTX4; cell * Vm * MTX4b\n",
      "FPGS45: MTX4 -> MTX5; cell * Vm * MTX4\n",
      "RFC: EMTX -> MTX1; ext * (Vm * EMTX / (Km + EMTX))\n",
      "FPGS23: MTX2 -> MTX3; cell * Vm * MTX2\n",
      "MTX5deg: MTX5b -> MTX5; cell * Vm * MTX5b\n",
      "MTX1deg: MTX1b -> MTX1; cell * Vm * MTX1b\n",
      "FPGS12: MTX1 -> MTX2; cell * Vm * MTX1\n",
      "FPGS34: MTX3 -> MTX4; cell * Vm * MTX3\n",
      "\n",
      "However, reaction \" MTX3off: MTX3b -> MTX3 + DHFRf; cell * Vm * MTX3b \" implies  MTX3  <  MTX3b\n",
      "\n",
      "We have Type I Error...\n",
      "\n",
      "MTX4  and  MTX4b  have the same weight by\n",
      "MTX2deg: MTX2b -> MTX2; cell * Vm * MTX2b\n",
      "MTX3deg: MTX3b -> MTX3; cell * Vm * MTX3b\n",
      "MTX4deg: MTX4b -> MTX4; cell * Vm * MTX4b\n",
      "FPGS45: MTX4 -> MTX5; cell * Vm * MTX4\n",
      "RFC: EMTX -> MTX1; ext * (Vm * EMTX / (Km + EMTX))\n",
      "FPGS23: MTX2 -> MTX3; cell * Vm * MTX2\n",
      "MTX5deg: MTX5b -> MTX5; cell * Vm * MTX5b\n",
      "MTX1deg: MTX1b -> MTX1; cell * Vm * MTX1b\n",
      "FPGS12: MTX1 -> MTX2; cell * Vm * MTX1\n",
      "FPGS34: MTX3 -> MTX4; cell * Vm * MTX3\n",
      "\n",
      "However, reaction \" MTX4off: MTX4b -> MTX4 + DHFRf; cell * Vm * MTX4b \" implies  MTX4  <  MTX4b\n",
      "\n",
      "We have Type I Error...\n",
      "\n",
      "MTX5  and  MTX5b  have the same weight by\n",
      "MTX2deg: MTX2b -> MTX2; cell * Vm * MTX2b\n",
      "MTX3deg: MTX3b -> MTX3; cell * Vm * MTX3b\n",
      "MTX4deg: MTX4b -> MTX4; cell * Vm * MTX4b\n",
      "FPGS45: MTX4 -> MTX5; cell * Vm * MTX4\n",
      "RFC: EMTX -> MTX1; ext * (Vm * EMTX / (Km + EMTX))\n",
      "FPGS23: MTX2 -> MTX3; cell * Vm * MTX2\n",
      "MTX5deg: MTX5b -> MTX5; cell * Vm * MTX5b\n",
      "MTX1deg: MTX1b -> MTX1; cell * Vm * MTX1b\n",
      "FPGS12: MTX1 -> MTX2; cell * Vm * MTX1\n",
      "FPGS34: MTX3 -> MTX4; cell * Vm * MTX3\n",
      "\n",
      "However, reaction \" MTX5off: MTX5b -> MTX5 + DHFRf; cell * Vm * MTX5b \" implies  MTX5  <  MTX5b\n",
      "\n",
      "We have Type I Error...\n",
      "\n",
      "FH4  and  CH2FH4  have the same weight by\n",
      "SHMTr: CH2FH4 -> FH4; cell * (Vm * (glycine / Km2 / (1 + glycine / Km2)) * (CH2FH4 / Km1) / (1 + CH2FH4 / Km1))\n",
      "FFH2syn: FH2f -> FFH2; cell * Vm * FH2f\n",
      "DHFReductase: FH2f -> FH4; cell * kter * FH2b\n",
      "\n",
      "However, reaction \" SHMT: FH4 + serine -> CH2FH4; cell * (Vm * (serine / Km2 / (1 + serine / Km2)) * (FH4 / Km1) / (1 + FH4 / Km1)) \" implies  FH4  <  CH2FH4\n",
      "\n",
      "We have Type I Error...\n",
      "\n",
      "FH4  and  CH2FH4  have the same weight by\n",
      "SHMTr: CH2FH4 -> FH4; cell * (Vm * (glycine / Km2 / (1 + glycine / Km2)) * (CH2FH4 / Km1) / (1 + CH2FH4 / Km1))\n",
      "FFH2syn: FH2f -> FFH2; cell * Vm * FH2f\n",
      "DHFReductase: FH2f -> FH4; cell * kter * FH2b\n",
      "\n",
      "However, reaction \" HCHOtoCH2FH4: FH4 + HCHO -> CH2FH4; cell * hp * FH4 * HCHO \" implies  FH4  <  CH2FH4\n",
      "\n",
      "We have Type I Error...\n",
      "\n",
      "CH2FH4  and  FH2f  have the same weight by\n",
      "SHMTr: CH2FH4 -> FH4; cell * (Vm * (glycine / Km2 / (1 + glycine / Km2)) * (CH2FH4 / Km1) / (1 + CH2FH4 / Km1))\n",
      "FFH2syn: FH2f -> FFH2; cell * Vm * FH2f\n",
      "DHFReductase: FH2f -> FH4; cell * kter * FH2b\n",
      "\n",
      "However, reaction \" TYMS: CH2FH4 + dUMP -> FH2f; cell * (Vm * CH2FH4 * dUMP / (dUMP * CH2FH4 * (1 + MTX1 / Ki21 + MTX2 / Ki22 + MTX3 / Ki23 + MTX4 / Ki24 + MTX5 / Ki25 + FH2f / Ki1) + Km1 * dUMP * (FFH2 / Ki1f * (MTX1 / Ki21) + (1 + FFH2 / Ki1f) * (1 + MTX2 / Ki22 + MTX3 / Ki23 + MTX4 / Ki24 + MTX5 / Ki25 + FH2f / Ki1)) + Km1 * Km2 * (1 + MTX2 / Ki22 + MTX3 / Ki23 + MTX4 / Ki24 + MTX5 / Ki25 + FH2f / Ki1))) \" implies  CH2FH4  <  FH2f\n",
      "\n",
      "We have Type I Error...\n",
      "\n",
      "FFH2  and  FH2f  have the same weight by\n",
      "SHMTr: CH2FH4 -> FH4; cell * (Vm * (glycine / Km2 / (1 + glycine / Km2)) * (CH2FH4 / Km1) / (1 + CH2FH4 / Km1))\n",
      "FFH2syn: FH2f -> FFH2; cell * Vm * FH2f\n",
      "DHFReductase: FH2f -> FH4; cell * kter * FH2b\n",
      "\n",
      "However, reaction \" ATIC12: FFH2 + AICAR -> FH2f; cell * (Vm * FFH2 * AICAR / (AICAR * FFH2 + FFH2 * Km2 + (AICAR + Km2) * Km1 * (1 + MTX1 / Ki21 + MTX2 / Ki22 + MTX3 / Ki23 + MTX4 / Ki24 + MTX5 / Ki25 + FH2f / Ki1 + FFH2 / Ki1f))) \" implies  FFH2  <  FH2f\n",
      "\n",
      "We have Type I Error...\n",
      "\n",
      "MTX1  and  MTX1b  have the same weight by\n",
      "MTX2deg: MTX2b -> MTX2; cell * Vm * MTX2b\n",
      "MTX3deg: MTX3b -> MTX3; cell * Vm * MTX3b\n",
      "MTX4deg: MTX4b -> MTX4; cell * Vm * MTX4b\n",
      "FPGS45: MTX4 -> MTX5; cell * Vm * MTX4\n",
      "RFC: EMTX -> MTX1; ext * (Vm * EMTX / (Km + EMTX))\n",
      "FPGS23: MTX2 -> MTX3; cell * Vm * MTX2\n",
      "MTX5deg: MTX5b -> MTX5; cell * Vm * MTX5b\n",
      "MTX1deg: MTX1b -> MTX1; cell * Vm * MTX1b\n",
      "FPGS12: MTX1 -> MTX2; cell * Vm * MTX1\n",
      "FPGS34: MTX3 -> MTX4; cell * Vm * MTX3\n",
      "\n",
      "However, reaction \" MTX1on: MTX1 + DHFRf -> MTX1b; cell * Vm * DHFRf * MTX1 \" implies  MTX1  <  MTX1b\n",
      "\n",
      "We have Type I Error...\n",
      "\n",
      "MTX2  and  MTX2b  have the same weight by\n",
      "MTX2deg: MTX2b -> MTX2; cell * Vm * MTX2b\n",
      "MTX3deg: MTX3b -> MTX3; cell * Vm * MTX3b\n",
      "MTX4deg: MTX4b -> MTX4; cell * Vm * MTX4b\n",
      "FPGS45: MTX4 -> MTX5; cell * Vm * MTX4\n",
      "RFC: EMTX -> MTX1; ext * (Vm * EMTX / (Km + EMTX))\n",
      "FPGS23: MTX2 -> MTX3; cell * Vm * MTX2\n",
      "MTX5deg: MTX5b -> MTX5; cell * Vm * MTX5b\n",
      "MTX1deg: MTX1b -> MTX1; cell * Vm * MTX1b\n",
      "FPGS12: MTX1 -> MTX2; cell * Vm * MTX1\n",
      "FPGS34: MTX3 -> MTX4; cell * Vm * MTX3\n",
      "\n",
      "However, reaction \" MTX2on: MTX2 + DHFRf -> MTX2b; cell * Vm * DHFRf * MTX2 \" implies  MTX2  <  MTX2b\n",
      "\n",
      "We have Type I Error...\n",
      "\n",
      "MTX3  and  MTX3b  have the same weight by\n",
      "MTX2deg: MTX2b -> MTX2; cell * Vm * MTX2b\n",
      "MTX3deg: MTX3b -> MTX3; cell * Vm * MTX3b\n",
      "MTX4deg: MTX4b -> MTX4; cell * Vm * MTX4b\n",
      "FPGS45: MTX4 -> MTX5; cell * Vm * MTX4\n",
      "RFC: EMTX -> MTX1; ext * (Vm * EMTX / (Km + EMTX))\n",
      "FPGS23: MTX2 -> MTX3; cell * Vm * MTX2\n",
      "MTX5deg: MTX5b -> MTX5; cell * Vm * MTX5b\n",
      "MTX1deg: MTX1b -> MTX1; cell * Vm * MTX1b\n",
      "FPGS12: MTX1 -> MTX2; cell * Vm * MTX1\n",
      "FPGS34: MTX3 -> MTX4; cell * Vm * MTX3\n",
      "\n",
      "However, reaction \" MTX3on: MTX3 + DHFRf -> MTX3b; cell * Vm * DHFRf * MTX3 \" implies  MTX3  <  MTX3b\n",
      "\n",
      "We have Type I Error...\n",
      "\n",
      "MTX4  and  MTX4b  have the same weight by\n",
      "MTX2deg: MTX2b -> MTX2; cell * Vm * MTX2b\n",
      "MTX3deg: MTX3b -> MTX3; cell * Vm * MTX3b\n",
      "MTX4deg: MTX4b -> MTX4; cell * Vm * MTX4b\n",
      "FPGS45: MTX4 -> MTX5; cell * Vm * MTX4\n",
      "RFC: EMTX -> MTX1; ext * (Vm * EMTX / (Km + EMTX))\n",
      "FPGS23: MTX2 -> MTX3; cell * Vm * MTX2\n",
      "MTX5deg: MTX5b -> MTX5; cell * Vm * MTX5b\n",
      "MTX1deg: MTX1b -> MTX1; cell * Vm * MTX1b\n",
      "FPGS12: MTX1 -> MTX2; cell * Vm * MTX1\n",
      "FPGS34: MTX3 -> MTX4; cell * Vm * MTX3\n",
      "\n",
      "However, reaction \" MTX4on: MTX4 + DHFRf -> MTX4b; cell * Vm * DHFRf * MTX4 \" implies  MTX4  <  MTX4b\n",
      "\n",
      "We have Type I Error...\n",
      "\n",
      "MTX5  and  MTX5b  have the same weight by\n",
      "MTX2deg: MTX2b -> MTX2; cell * Vm * MTX2b\n",
      "MTX3deg: MTX3b -> MTX3; cell * Vm * MTX3b\n",
      "MTX4deg: MTX4b -> MTX4; cell * Vm * MTX4b\n",
      "FPGS45: MTX4 -> MTX5; cell * Vm * MTX4\n",
      "RFC: EMTX -> MTX1; ext * (Vm * EMTX / (Km + EMTX))\n",
      "FPGS23: MTX2 -> MTX3; cell * Vm * MTX2\n",
      "MTX5deg: MTX5b -> MTX5; cell * Vm * MTX5b\n",
      "MTX1deg: MTX1b -> MTX1; cell * Vm * MTX1b\n",
      "FPGS12: MTX1 -> MTX2; cell * Vm * MTX1\n",
      "FPGS34: MTX3 -> MTX4; cell * Vm * MTX3\n",
      "\n",
      "However, reaction \" MTX5on: MTX5 + DHFRf -> MTX5b; cell * Vm * DHFRf * MTX5 \" implies  MTX5  <  MTX5b\n",
      "\n"
     ]
    },
    {
     "data": {
      "text/plain": [
       "{serine}->{CH2FH4, FFH2, FH2f, FH4}\n",
       "{HCHO}->{CH2FH4, FFH2, FH2f, FH4}\n",
       "{NADPH}->{CH3FH4}\n",
       "{CH3FH4}->{CH2FH4, FFH2, FH2f, FH4}\n",
       "{homocysteine}->{CH2FH4, FFH2, FH2f, FH4}\n",
       "{formate}->{CHOFH4}\n",
       "{ATP}->{CHOFH4}\n",
       "{CHOFH4}->{CH2FH4, FFH2, FH2f, FH4}\n",
       "{NADP}->{CHOFH4}\n",
       "{dUMP}->{CH2FH4, FFH2, FH2f, FH4}\n",
       "{DHFRf}->{EMTX, MTX1, MTX1b, MTX2, MTX2b, MTX3, MTX3b, MTX4, MTX4b, MTX5, MTX5b}\n",
       "{CH2FH4, FFH2, FH2f, FH4}->{CH3FH4}\n",
       "{CH2FH4, FFH2, FH2f, FH4}->{CHOFH4}\n",
       "{AICAR, FGAR}->{CH2FH4, FFH2, FH2f, FH4}\n",
       "{GAR}"
      ]
     },
     "execution_count": 24,
     "metadata": {},
     "output_type": "execute_result"
    }
   ],
   "source": [
    "m.analyze(simple.reactions)"
   ]
  },
  {
   "cell_type": "code",
   "execution_count": 25,
   "metadata": {},
   "outputs": [
    {
     "data": {
      "text/plain": [
       "{MTX2deg: MTX2b -> MTX2; cell * Vm * MTX2b,\n",
       " MTX3deg: MTX3b -> MTX3; cell * Vm * MTX3b,\n",
       " MTX4deg: MTX4b -> MTX4; cell * Vm * MTX4b,\n",
       " FPGS45: MTX4 -> MTX5; cell * Vm * MTX4,\n",
       " RFC: EMTX -> MTX1; ext * (Vm * EMTX / (Km + EMTX)),\n",
       " FPGS23: MTX2 -> MTX3; cell * Vm * MTX2,\n",
       " MTX5deg: MTX5b -> MTX5; cell * Vm * MTX5b,\n",
       " MTX1deg: MTX1b -> MTX1; cell * Vm * MTX1b,\n",
       " FPGS12: MTX1 -> MTX2; cell * Vm * MTX1,\n",
       " FPGS34: MTX3 -> MTX4; cell * Vm * MTX3}"
      ]
     },
     "execution_count": 25,
     "metadata": {},
     "output_type": "execute_result"
    }
   ],
   "source": [
    "list(m.nodes)[-1].reactions"
   ]
  },
  {
   "cell_type": "code",
   "execution_count": 21,
   "metadata": {},
   "outputs": [
    {
     "name": "stdout",
     "output_type": "stream",
     "text": [
      "reaction_n_1\n"
     ]
    },
    {
     "data": {
      "text/plain": [
       "ATIC7: CHOFH4 + AICAR -> FH4; cell * (Vm * CHOFH4 * AICAR / (AICAR * CHOFH4 + CHOFH4 * Km2 + (AICAR + Km2) * Km1 * (1 + MTX1 / Ki21 + MTX2 / Ki22 + MTX3 / Ki23 + MTX4 / Ki24 + MTX5 / Ki25 + FH2f / Ki1 + FFH2 / Ki1f)))"
      ]
     },
     "execution_count": 21,
     "metadata": {},
     "output_type": "execute_result"
    }
   ],
   "source": [
    "reaction = simple.reactions[8]\n",
    "print(reaction.category)\n",
    "reaction"
   ]
  },
  {
   "cell_type": "code",
   "execution_count": 232,
   "metadata": {},
   "outputs": [
    {
     "name": "stdout",
     "output_type": "stream",
     "text": [
      "SHMT: FH4 + serine -> CH2FH4; cell * (Vm * (serine / Km2 / (1 + serine / Km2)) * (FH4 / Km1) / (1 + FH4 / Km1)) \n",
      "\n",
      "SHMTr: CH2FH4 -> FH4; cell * (Vm * (glycine / Km2 / (1 + glycine / Km2)) * (CH2FH4 / Km1) / (1 + CH2FH4 / Km1)) \n",
      "\n",
      "HCHOtoCH2FH4: FH4 + HCHO -> CH2FH4; cell * hp * FH4 * HCHO \n",
      "\n",
      "CH2FH4toHCHO: CH2FH4 -> FH4 + HCHO; cell * hl * CH2FH4 \n",
      "\n",
      "MTHFR: CH2FH4 + NADPH -> CH3FH4; cell * (Vm * CH2FH4 * NADPH / (NADPH * CH2FH4 + CH2FH4 * Km2 + (NADPH + Km2) * Km1 * (1 + MTX1 / Ki21 + MTX2 / Ki22 + MTX3 / Ki23 + MTX4 / Ki24 + MTX5 / Ki25 + FH2f / Ki1))) \n",
      "\n",
      "MTR: CH3FH4 + homocysteine -> FH4; cell * (Vm * (homocysteine / Km2 / (1 + homocysteine / Km2)) * (CH3FH4 / Km1) / (1 + CH3FH4 / Km1)) \n",
      "\n",
      "HCOOHtoCHOFH4: FH4 + formate + ATP -> CHOFH4; cell * (Vm / ((1 + Km1 / FH4) * (1 + Km2 / ATP) * (1 + Km3 / formate))) \n",
      "\n",
      "GARFT: CHOFH4 + GAR -> FGAR + FH4; cell * (Vm * CHOFH4 * GAR / (GAR * CHOFH4 + CHOFH4 * Km2 + (GAR + Km2) * Km1 * (1 + MTX1 / Ki21 + MTX2 / Ki22 + MTX3 / Ki23 + MTX4 / Ki24 + MTX5 / Ki25 + FH2f / Ki1 + FFH2 / Ki1f))) \n",
      "\n",
      "ATIC7: CHOFH4 + AICAR -> FH4; cell * (Vm * CHOFH4 * AICAR / (AICAR * CHOFH4 + CHOFH4 * Km2 + (AICAR + Km2) * Km1 * (1 + MTX1 / Ki21 + MTX2 / Ki22 + MTX3 / Ki23 + MTX4 / Ki24 + MTX5 / Ki25 + FH2f / Ki1 + FFH2 / Ki1f))) \n",
      "\n",
      "MTHFD: CH2FH4 + NADP -> CHOFH4; cell * Vm * (CH2FH4 / Km1 / (1 + CH2FH4 / Km1)) * (NADP / Km2 / (1 + NADP / Km2)) \n",
      "\n",
      "TYMS: CH2FH4 + dUMP -> FH2f; cell * (Vm * CH2FH4 * dUMP / (dUMP * CH2FH4 * (1 + MTX1 / Ki21 + MTX2 / Ki22 + MTX3 / Ki23 + MTX4 / Ki24 + MTX5 / Ki25 + FH2f / Ki1) + Km1 * dUMP * (FFH2 / Ki1f * (MTX1 / Ki21) + (1 + FFH2 / Ki1f) * (1 + MTX2 / Ki22 + MTX3 / Ki23 + MTX4 / Ki24 + MTX5 / Ki25 + FH2f / Ki1)) + Km1 * Km2 * (1 + MTX2 / Ki22 + MTX3 / Ki23 + MTX4 / Ki24 + MTX5 / Ki25 + FH2f / Ki1))) \n",
      "\n",
      "DHFReductase: FH2f -> FH4; cell * kter * FH2b \n",
      "\n",
      "FFH2syn: FH2f -> FFH2; cell * Vm * FH2f \n",
      "\n",
      "ATIC12: FFH2 + AICAR -> FH2f; cell * (Vm * FFH2 * AICAR / (AICAR * FFH2 + FFH2 * Km2 + (AICAR + Km2) * Km1 * (1 + MTX1 / Ki21 + MTX2 / Ki22 + MTX3 / Ki23 + MTX4 / Ki24 + MTX5 / Ki25 + FH2f / Ki1 + FFH2 / Ki1f))) \n",
      "\n",
      "AICARsyn: FGAR -> AICAR; cell * Vm * (glutamine / Km1 / (1 + glutamine / Km1)) * (FGAR / Km2 / (1 + FGAR / Km2)) \n",
      "\n",
      "FPGS12: MTX1 -> MTX2; cell * Vm * MTX1 \n",
      "\n",
      "FPGS23: MTX2 -> MTX3; cell * Vm * MTX2 \n",
      "\n",
      "FPGS34: MTX3 -> MTX4; cell * Vm * MTX3 \n",
      "\n",
      "FPGS45: MTX4 -> MTX5; cell * Vm * MTX4 \n",
      "\n",
      "GGH21: MTX2 -> MTX1; cell * Vm * MTX2 \n",
      "\n",
      "GGH32: MTX3 -> MTX2; cell * Vm * MTX3 \n",
      "\n",
      "GGH43: MTX4 -> MTX3; cell * Vm * MTX4 \n",
      "\n",
      "GGH54: MTX5 -> MTX4; cell * Vm * MTX5 \n",
      "\n",
      "RFC: EMTX -> MTX1; ext * (Vm * EMTX / (Km + EMTX)) \n",
      "\n",
      "MTX1export: MTX1 -> ; cell * Vm * MTX1 \n",
      "\n",
      "MTX2export: MTX2 -> ; cell * Vm * MTX2 \n",
      "\n",
      "MTX3export: MTX3 -> ; cell * Vm * MTX3 \n",
      "\n",
      "MTX4export: MTX4 -> ; cell * Vm * MTX4 \n",
      "\n",
      "MTX5export: MTX5 -> ; cell * Vm * MTX5 \n",
      "\n",
      "MTX1on: MTX1 + DHFRf -> MTX1b; cell * Vm * DHFRf * MTX1 \n",
      "\n",
      "MTX2on: MTX2 + DHFRf -> MTX2b; cell * Vm * DHFRf * MTX2 \n",
      "\n",
      "MTX3on: MTX3 + DHFRf -> MTX3b; cell * Vm * DHFRf * MTX3 \n",
      "\n",
      "MTX4on: MTX4 + DHFRf -> MTX4b; cell * Vm * DHFRf * MTX4 \n",
      "\n",
      "MTX5on: MTX5 + DHFRf -> MTX5b; cell * Vm * DHFRf * MTX5 \n",
      "\n",
      "MTX1off: MTX1b -> MTX1 + DHFRf; cell * Vm * MTX1b \n",
      "\n",
      "MTX2off: MTX2b -> MTX2 + DHFRf; cell * Vm * MTX2b \n",
      "\n",
      "MTX3off: MTX3b -> MTX3 + DHFRf; cell * Vm * MTX3b \n",
      "\n",
      "MTX4off: MTX4b -> MTX4 + DHFRf; cell * Vm * MTX4b \n",
      "\n",
      "MTX5off: MTX5b -> MTX5 + DHFRf; cell * Vm * MTX5b \n",
      "\n",
      "DHFRfsyn:  -> DHFRf; cell * (k0 + k1 * EMTX) \n",
      "\n",
      "DHFRdeg: DHFRf -> ; Vm * cell * (DHFRf + FH2b) \n",
      "\n",
      "FH2bdeg:  -> FH2f; cell * Vm * FH2b \n",
      "\n",
      "MTX1deg: MTX1b -> MTX1; cell * Vm * MTX1b \n",
      "\n",
      "MTX2deg: MTX2b -> MTX2; cell * Vm * MTX2b \n",
      "\n",
      "MTX3deg: MTX3b -> MTX3; cell * Vm * MTX3b \n",
      "\n",
      "MTX4deg: MTX4b -> MTX4; cell * Vm * MTX4b \n",
      "\n",
      "MTX5deg: MTX5b -> MTX5; cell * Vm * MTX5b \n",
      "\n"
     ]
    }
   ],
   "source": [
    "for react in simple.reactions:\n",
    "    print(react, \"\\n\")"
   ]
  },
  {
   "cell_type": "code",
   "execution_count": 233,
   "metadata": {},
   "outputs": [
    {
     "data": {
      "text/plain": [
       "OutEdgeView([])"
      ]
     },
     "execution_count": 233,
     "metadata": {},
     "output_type": "execute_result"
    }
   ],
   "source": [
    "m.edges"
   ]
  },
  {
   "cell_type": "code",
   "execution_count": 234,
   "metadata": {},
   "outputs": [
    {
     "data": {
      "text/plain": [
       "CH2FH4toHCHO: CH2FH4 -> FH4 + HCHO; cell * hl * CH2FH4"
      ]
     },
     "execution_count": 234,
     "metadata": {},
     "output_type": "execute_result"
    }
   ],
   "source": [
    "unimulti_reaction = simple.reactions[3]\n",
    "destination = [reactant.molecule for reactant in unimulti_reaction.reactants]\n",
    "source = [produce.molecule for produce in unimulti_reaction.products]\n",
    "unimulti_reaction"
   ]
  },
  {
   "cell_type": "code",
   "execution_count": 235,
   "metadata": {},
   "outputs": [
    {
     "data": {
      "text/plain": [
       "OutEdgeDataView([])"
      ]
     },
     "execution_count": 235,
     "metadata": {},
     "output_type": "execute_result"
    }
   ],
   "source": [
    "m.edges(data=True)"
   ]
  },
  {
   "cell_type": "code",
   "execution_count": 236,
   "metadata": {},
   "outputs": [],
   "source": [
    "m.addArc(source, destination, unimulti_reaction)"
   ]
  },
  {
   "cell_type": "code",
   "execution_count": 237,
   "metadata": {},
   "outputs": [
    {
     "data": {
      "text/plain": [
       "OutEdgeDataView([({FH4}, {CH2FH4}, {'reaction': ['CH2FH4toHCHO']}), ({HCHO}, {CH2FH4}, {'reaction': ['CH2FH4toHCHO']})])"
      ]
     },
     "execution_count": 237,
     "metadata": {},
     "output_type": "execute_result"
    }
   ],
   "source": [
    "m.edges(data=True)"
   ]
  },
  {
   "cell_type": "code",
   "execution_count": null,
   "metadata": {},
   "outputs": [],
   "source": []
  },
  {
   "cell_type": "code",
   "execution_count": 212,
   "metadata": {},
   "outputs": [
    {
     "name": "stdout",
     "output_type": "stream",
     "text": [
      "FH4\n",
      "CH2FH4\n"
     ]
    }
   ],
   "source": [
    "fh4 = simple.molecules[0]\n",
    "ch2fh4 = simple.molecules[2]\n",
    "print(fh4)\n",
    "print(ch2fh4)"
   ]
  },
  {
   "cell_type": "code",
   "execution_count": 213,
   "metadata": {},
   "outputs": [
    {
     "data": {
      "text/plain": [
       "True"
      ]
     },
     "execution_count": 213,
     "metadata": {},
     "output_type": "execute_result"
    }
   ],
   "source": [
    "m.has_edge(m.getNode(fh4), m.getNode(ch2fh4))"
   ]
  },
  {
   "cell_type": "code",
   "execution_count": 214,
   "metadata": {},
   "outputs": [
    {
     "data": {
      "text/plain": [
       "['CH2FH4toHCHO']"
      ]
     },
     "execution_count": 214,
     "metadata": {},
     "output_type": "execute_result"
    }
   ],
   "source": [
    "m.get_edge_data(m.getNode(fh4), m.getNode(ch2fh4))['reaction']"
   ]
  },
  {
   "cell_type": "code",
   "execution_count": 215,
   "metadata": {},
   "outputs": [
    {
     "data": {
      "text/plain": [
       "OutEdgeView([({FH4}, {CH2FH4}), ({HCHO}, {CH2FH4})])"
      ]
     },
     "execution_count": 215,
     "metadata": {},
     "output_type": "execute_result"
    }
   ],
   "source": [
    "m.processUniMultiReaction(unimulti_reaction)\n",
    "m.edges"
   ]
  },
  {
   "cell_type": "code",
   "execution_count": 217,
   "metadata": {},
   "outputs": [
    {
     "data": {
      "text/plain": [
       "OutEdgeDataView([({FH4}, {CH2FH4}, {'reaction': ['CH2FH4toHCHO']}), ({HCHO}, {CH2FH4}, {'reaction': ['CH2FH4toHCHO']})])"
      ]
     },
     "execution_count": 217,
     "metadata": {},
     "output_type": "execute_result"
    }
   ],
   "source": [
    "m.edges(data=True)"
   ]
  },
  {
   "cell_type": "code",
   "execution_count": 218,
   "metadata": {},
   "outputs": [
    {
     "data": {
      "text/plain": [
       "SHMT: FH4 + serine -> CH2FH4; cell * (Vm * (serine / Km2 / (1 + serine / Km2)) * (FH4 / Km1) / (1 + FH4 / Km1))"
      ]
     },
     "execution_count": 218,
     "metadata": {},
     "output_type": "execute_result"
    }
   ],
   "source": [
    "multiuni_reaction = simple.reactions[0]\n",
    "multiuni_reaction"
   ]
  },
  {
   "cell_type": "code",
   "execution_count": 219,
   "metadata": {},
   "outputs": [
    {
     "data": {
      "text/plain": [
       "OutEdgeView([({FH4}, {CH2FH4}), ({serine}, {CH2FH4}), ({HCHO}, {CH2FH4})])"
      ]
     },
     "execution_count": 219,
     "metadata": {},
     "output_type": "execute_result"
    }
   ],
   "source": [
    "m.processMultiUniReaction(multiuni_reaction)\n",
    "m.edges"
   ]
  },
  {
   "cell_type": "code",
   "execution_count": 220,
   "metadata": {},
   "outputs": [
    {
     "data": {
      "text/plain": [
       "OutEdgeDataView([({FH4}, {CH2FH4}, {'reaction': ['CH2FH4toHCHO', 'SHMT']}), ({serine}, {CH2FH4}, {'reaction': ['SHMT']}), ({HCHO}, {CH2FH4}, {'reaction': ['CH2FH4toHCHO']})])"
      ]
     },
     "execution_count": 220,
     "metadata": {},
     "output_type": "execute_result"
    }
   ],
   "source": [
    "m.edges(data=True)"
   ]
  },
  {
   "cell_type": "code",
   "execution_count": 221,
   "metadata": {},
   "outputs": [],
   "source": [
    "m.processUniUniReaction(reaction)"
   ]
  },
  {
   "cell_type": "code",
   "execution_count": 222,
   "metadata": {},
   "outputs": [
    {
     "data": {
      "text/plain": [
       "NodeView(({FH4}, {serine}, {CH2FH4}, {HCHO}, {NADPH}, {CH3FH4}, {homocysteine}, {formate}, {ATP}, {CHOFH4}, {GAR}, {FGAR}, {AICAR}, {NADP}, {dUMP}, {FH2f}, {FFH2}, {MTX1}, {MTX2}, {MTX3}, {MTX4}, {MTX5}, {EMTX}, {DHFRf}, {MTX1b}, {MTX2b}, {MTX3b}, {MTX4b}, {MTX5b}))"
      ]
     },
     "execution_count": 222,
     "metadata": {},
     "output_type": "execute_result"
    }
   ],
   "source": [
    "m.nodes"
   ]
  },
  {
   "cell_type": "code",
   "execution_count": 18,
   "metadata": {},
   "outputs": [
    {
     "data": {
      "text/plain": [
       "NodeView(({NAD}, {halfglucose}, {NADH}, {lactate}, {CoA}, {AcCoA}, {PO4}, {AcP}, {Ac}, {AcO}, {EtOH}, {Butanediol}, {O2}, {AcLac, AcetoinIn, AcetoinOut, pyruvate}, {ADP, ATP}))"
      ]
     },
     "execution_count": 18,
     "metadata": {},
     "output_type": "execute_result"
    }
   ],
   "source": [
    "m.analyze(Reaction.reactions)\n",
    "m.nodes"
   ]
  },
  {
   "cell_type": "code",
   "execution_count": 19,
   "metadata": {},
   "outputs": [
    {
     "data": {
      "text/plain": [
       "OutEdgeView([({NADH}, {NAD}), ({O2}, {NAD})])"
      ]
     },
     "execution_count": 19,
     "metadata": {},
     "output_type": "execute_result"
    }
   ],
   "source": [
    "m.edges"
   ]
  },
  {
   "cell_type": "code",
   "execution_count": 20,
   "metadata": {},
   "outputs": [
    {
     "data": {
      "text/plain": [
       "{NADH}->{NAD}\n",
       "{O2}->{NAD}\n",
       "{halfglucose};{lactate};{CoA};{AcCoA};{PO4};{AcP};{Ac};{AcO};{EtOH};{Butanediol};{AcLac, AcetoinIn, AcetoinOut, pyruvate};{ADP, ATP}"
      ]
     },
     "execution_count": 20,
     "metadata": {},
     "output_type": "execute_result"
    }
   ],
   "source": [
    "m"
   ]
  },
  {
   "cell_type": "code",
   "execution_count": 453,
   "metadata": {},
   "outputs": [
    {
     "data": {
      "text/plain": [
       "OutEdgeView([({Gly}, {DFG, E1, E2}), ({Gly}, {Mel}), ({MG}, {AA, Cn, FA, Glu, Man, _1DG, _3DG}), ({Fru}, {DFG, E1, E2}), ({AA, Cn, FA, Glu, Man, _1DG, _3DG}, {DFG, E1, E2}), ({AA, Cn, FA, Glu, Man, _1DG, _3DG}, {Mel})])"
      ]
     },
     "execution_count": 453,
     "metadata": {},
     "output_type": "execute_result"
    }
   ],
   "source": [
    "m.edges"
   ]
  },
  {
   "cell_type": "code",
   "execution_count": 456,
   "metadata": {},
   "outputs": [
    {
     "data": {
      "text/plain": [
       "[]"
      ]
     },
     "execution_count": 456,
     "metadata": {},
     "output_type": "execute_result"
    }
   ],
   "source": [
    "list(nx.isolates(m))"
   ]
  },
  {
   "cell_type": "code",
   "execution_count": 424,
   "metadata": {},
   "outputs": [
    {
     "name": "stdout",
     "output_type": "stream",
     "text": [
      "{Gly}->{DFG, E1, E2}\n",
      "{Gly}->{Mel}\n",
      "{MG}->{AA, Cn, FA, Glu, Man, _1DG, _3DG}\n",
      "{Fru}->{DFG, E1, E2}\n",
      "{AA, Cn, FA, Glu, Man, _1DG, _3DG}->{DFG, E1, E2}\n",
      "{AA, Cn, FA, Glu, Man, _1DG, _3DG}->{Mel}\n",
      "\n"
     ]
    }
   ],
   "source": [
    "identifier = \"\"\n",
    "if m.edges:\n",
    "    for edge in m.edges:\n",
    "        identifier = identifier + str(edge[0]) + \"->\" + str(edge[1]) + \"\\n\"\n",
    "    \n",
    "for key, node in enumerate(nx.isolates(m)):\n",
    "    identifier = identifier + str(node)\n",
    "    if key < (len(list(nx.isolates(m)))-1):\n",
    "        identifier = identifier + cn.KINETICS_SEPARATOR\n",
    "print(identifier)"
   ]
  },
  {
   "cell_type": "code",
   "execution_count": 443,
   "metadata": {},
   "outputs": [
    {
     "data": {
      "text/plain": [
       "{DFG};{E1};{E2};{Gly};{Cn};{_3DG};{FA};{_1DG};{AA};{Man};{Glu};{Mel};{MG};{Fru}"
      ]
     },
     "execution_count": 443,
     "metadata": {},
     "output_type": "execute_result"
    }
   ],
   "source": []
  },
  {
   "cell_type": "code",
   "execution_count": 323,
   "metadata": {},
   "outputs": [
    {
     "data": {
      "text/plain": [
       "'{Gly}'"
      ]
     },
     "execution_count": 323,
     "metadata": {},
     "output_type": "execute_result"
    }
   ],
   "source": [
    "str(edge[0])"
   ]
  },
  {
   "cell_type": "code",
   "execution_count": 343,
   "metadata": {},
   "outputs": [
    {
     "name": "stdout",
     "output_type": "stream",
     "text": [
      "[{Gly}, {Mel}, {MG}, {Fru}, {DFG, E1, E2}, {AA, Cn, FA, Glu, Man, _1DG, _3DG}]\n"
     ]
    }
   ],
   "source": [
    "nodes = list(m.nodes)\n",
    "print(nodes)"
   ]
  },
  {
   "cell_type": "code",
   "execution_count": 373,
   "metadata": {},
   "outputs": [
    {
     "name": "stdout",
     "output_type": "stream",
     "text": [
      "{ATP, Ade, DNA, GTP, Gua, HX, IMP, PRPP, R5P, RNA, SAM, SAMP, UA, XMP, Xa, dATP, dGTP}\n",
      "<class 'SBMLLint.games.som.SOM'>\n"
     ]
    }
   ],
   "source": [
    "for x in nx.isolates(m):\n",
    "    print(x)\n",
    "    print(type(x))"
   ]
  },
  {
   "cell_type": "code",
   "execution_count": 341,
   "metadata": {},
   "outputs": [
    {
     "data": {
      "text/plain": [
       "{{Fru}, {MG}, {Gly}, {AA, Cn, FA, Glu, Man, _1DG, _3DG}}"
      ]
     },
     "execution_count": 341,
     "metadata": {},
     "output_type": "execute_result"
    }
   ],
   "source": [
    "nx.ancestors(m, list(m.edges)[0][1])"
   ]
  },
  {
   "cell_type": "code",
   "execution_count": 339,
   "metadata": {},
   "outputs": [
    {
     "data": {
      "text/plain": [
       "{Gly}"
      ]
     },
     "execution_count": 339,
     "metadata": {},
     "output_type": "execute_result"
    }
   ],
   "source": [
    "list(m.edges)[0][0]"
   ]
  },
  {
   "cell_type": "code",
   "execution_count": 374,
   "metadata": {},
   "outputs": [
    {
     "data": {
      "text/plain": [
       ";{ATP}+{HX}+{Ade}+{dATP}+{DNA}+{IMP}+{PRPP}+{RNA}+{SAMP}+{dGTP}+{Gua}+{GTP}+{XMP}+{Xa}+{SAM}+{R5P}+{UA}+"
      ]
     },
     "execution_count": 374,
     "metadata": {},
     "output_type": "execute_result"
    }
   ],
   "source": [
    "m"
   ]
  },
  {
   "cell_type": "code",
   "execution_count": 376,
   "metadata": {},
   "outputs": [
    {
     "data": {
      "text/plain": [
       "<generator object isolates.<locals>.<genexpr> at 0x1521ab2c50>"
      ]
     },
     "execution_count": 376,
     "metadata": {},
     "output_type": "execute_result"
    }
   ],
   "source": [
    "nx.isolates(m)"
   ]
  },
  {
   "cell_type": "code",
   "execution_count": 22,
   "metadata": {},
   "outputs": [],
   "source": [
    "a = {1}.union({2})"
   ]
  },
  {
   "cell_type": "code",
   "execution_count": 23,
   "metadata": {},
   "outputs": [
    {
     "data": {
      "text/plain": [
       "{1, 2}"
      ]
     },
     "execution_count": 23,
     "metadata": {},
     "output_type": "execute_result"
    }
   ],
   "source": [
    "a"
   ]
  },
  {
   "cell_type": "code",
   "execution_count": 24,
   "metadata": {},
   "outputs": [],
   "source": [
    "a.add(3)"
   ]
  },
  {
   "cell_type": "code",
   "execution_count": 25,
   "metadata": {},
   "outputs": [
    {
     "data": {
      "text/plain": [
       "{1, 2, 3}"
      ]
     },
     "execution_count": 25,
     "metadata": {},
     "output_type": "execute_result"
    }
   ],
   "source": [
    "a"
   ]
  },
  {
   "cell_type": "code",
   "execution_count": 26,
   "metadata": {},
   "outputs": [
    {
     "data": {
      "text/plain": [
       "[{E2},\n",
       " {Gly},\n",
       " {Cn},\n",
       " {_3DG},\n",
       " {FA},\n",
       " {_1DG},\n",
       " {AA},\n",
       " {Man},\n",
       " {Glu},\n",
       " {Mel},\n",
       " {MG},\n",
       " {Fru}]"
      ]
     },
     "execution_count": 26,
     "metadata": {},
     "output_type": "execute_result"
    }
   ],
   "source": [
    "SOM.soms"
   ]
  },
  {
   "cell_type": "code",
   "execution_count": null,
   "metadata": {},
   "outputs": [],
   "source": []
  }
 ],
 "metadata": {
  "kernelspec": {
   "display_name": "Python 3",
   "language": "python",
   "name": "python3"
  },
  "language_info": {
   "codemirror_mode": {
    "name": "ipython",
    "version": 3
   },
   "file_extension": ".py",
   "mimetype": "text/x-python",
   "name": "python",
   "nbconvert_exporter": "python",
   "pygments_lexer": "ipython3",
   "version": "3.6.3"
  }
 },
 "nbformat": 4,
 "nbformat_minor": 2
}
