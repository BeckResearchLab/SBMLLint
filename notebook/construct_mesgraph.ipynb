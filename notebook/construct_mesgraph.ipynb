{
 "cells": [
  {
   "cell_type": "code",
   "execution_count": 1,
   "metadata": {},
   "outputs": [
    {
     "name": "stdout",
     "output_type": "stream",
     "text": [
      "Current Directory: /Users/woosubshin/Desktop/ModelEngineering/SBMLLint/notebook\n"
     ]
    }
   ],
   "source": [
    "from games_setup import *"
   ]
  },
  {
   "cell_type": "code",
   "execution_count": 400,
   "metadata": {},
   "outputs": [
    {
     "data": {
      "text/plain": [
       "[Vin: Glco -> Glci; cytoplasm * (Vm1 - Ki1G6P * G6P),\n",
       " Vhk: ATP + Glci -> G6P; cytoplasm * Vm2 / (1 + Km2Glc / Glci + Km2ATP / ATP + Ks2Glc * Km2ATP / (Glci * ATP)),\n",
       " Vpol: ATP + G6P -> Carbo; cytoplasm * 1.1 * Vm3 * pow(G6P, n3) / (pow(K3Gly, n3) + pow(G6P, n3)) / (1 + Km30 / 0.7 * (1 + Km3G6P / G6P)),\n",
       " Vpfk: ATP + G6P -> FDP; cytoplasm * Vm4 * g4R * 0.3 * G6P / K4F6P * ATP / K4ATP * (1 + 0.3 * G6P / K4F6P + ATP / K4ATP + g4R * 0.3 * G6P / K4F6P * ATP / K4ATP) / (pow(1 + 0.3 * G6P / K4F6P + ATP / K4ATP + g4R * 0.3 * G6P / K4F6P * ATP / K4ATP, 2) + L40 * pow((1 + c4AMP * (3 - ATP - 0.5 * (-ATP + pow(12 * ATP - 3 * pow(ATP, 2), 0.5))) / K4AMP) / (1 + (3 - ATP - 0.5 * (-ATP + pow(12 * ATP - 3 * pow(ATP, 2), 0.5))) / K4AMP), 2) * pow(1 + c4F6P * 0.3 * G6P / K4F6P + c4ATP * ATP / K4ATP + gT * c4F6P * 0.3 * G6P / K4F6P * c4ATP * ATP / K4ATP, 2)),\n",
       " Vgapd: FDP -> 2.00 ATP + 2.00 PEP; cytoplasm * Vm5 / (1 + K5G3P / (0.01 * FDP) + (K5NAD / NAD + K5G3P * K5NAD / (NAD * 0.01 * FDP) + K5G3P * K5NAD * NADH / (NAD * 0.01 * FDP * K5NADH)) * (1 + 0.5 * (-ATP + pow(12 * ATP - 3 * pow(ATP, 2), 0.5)) / K5ADP + (3 - ATP - 0.5 * (-ATP + pow(12 * ATP - 3 * pow(ATP, 2), 0.5))) / K5AMP + ATP / K5ATP)),\n",
       " Vpk: PEP -> ATP + EtOH; cytoplasm * Vm6 * (PEP / K6PEP * 0.5 * (-ATP + pow(12 * ATP - 3 * pow(ATP, 2), 0.5)) / K6ADP) * (g6R * (1 + PEP / K6PEP + 0.5 * (-ATP + pow(12 * ATP - 3 * pow(ATP, 2), 0.5)) / K6ADP + g6R * PEP / K6PEP * 0.5 * (-ATP + pow(12 * ATP - 3 * pow(ATP, 2), 0.5)) / K6ADP) + q6 * L60 * pow((1 + c6FDP * FDP / K6FDP) / (1 + FDP / K6FDP), 2) * g6T * c6PEP * PEP / K6PEP * c6ADP * 0.5 * (-ATP + pow(12 * ATP - 3 * pow(ATP, 2), 0.5)) / K6ADP * (1 + c6PEP * PEP / K6PEP + c6ADP * 0.5 * (-ATP + pow(12 * ATP - 3 * pow(ATP, 2), 0.5)) / K6ADP + g6T * c6PEP * PEP / K6PEP * c6ADP * 0.5 * (-ATP + pow(12 * ATP - 3 * pow(ATP, 2), 0.5)) / K6ADP)) / ((1 + 9.55 * pow(10, -9) / h6) * (pow(1 + PEP / K6PEP + 0.5 * (-ATP + pow(12 * ATP - 3 * pow(ATP, 2), 0.5)) / K6ADP + g6R * PEP / K6PEP * 0.5 * (-ATP + pow(12 * ATP - 3 * pow(ATP, 2), 0.5)) / K6ADP, 2) + L60 * pow((1 + c6FDP * FDP / K6FDP) / (1 + FDP / K6FDP), 2) * pow(1 + c6PEP * PEP / K6PEP + c6ADP * 0.5 * (-ATP + pow(12 * ATP - 3 * pow(ATP, 2), 0.5)) / K6ADP + g6T * c6PEP * PEP / K6PEP * c6ADP * 0.5 * (-ATP + pow(12 * ATP - 3 * pow(ATP, 2), 0.5)) / K6ADP, 2))),\n",
       " Vgol: 0.50 FDP -> Gly; Vm7 * cytoplasm * (PEP / K6PEP * 0.5 * (-ATP + pow(12 * ATP - 3 * pow(ATP, 2), 0.5)) / K6ADP) * (g6R * (1 + PEP / K6PEP + 0.5 * (-ATP + pow(12 * ATP - 3 * pow(ATP, 2), 0.5)) / K6ADP + g6R * PEP / K6PEP * 0.5 * (-ATP + pow(12 * ATP - 3 * pow(ATP, 2), 0.5)) / K6ADP) + q6 * L60 * pow((1 + c6FDP * FDP / K6FDP) / (1 + FDP / K6FDP), 2) * g6T * c6PEP * PEP / K6PEP * c6ADP * 0.5 * (-ATP + pow(12 * ATP - 3 * pow(ATP, 2), 0.5)) / K6ADP * (1 + c6PEP * PEP / K6PEP + c6ADP * 0.5 * (-ATP + pow(12 * ATP - 3 * pow(ATP, 2), 0.5)) / K6ADP + g6T * c6PEP * PEP / K6PEP * c6ADP * 0.5 * (-ATP + pow(12 * ATP - 3 * pow(ATP, 2), 0.5)) / K6ADP)) / ((1 + 9.55 * pow(10, -9) / h6) * (pow(1 + PEP / K6PEP + 0.5 * (-ATP + pow(12 * ATP - 3 * pow(ATP, 2), 0.5)) / K6ADP + g6R * PEP / K6PEP * 0.5 * (-ATP + pow(12 * ATP - 3 * pow(ATP, 2), 0.5)) / K6ADP, 2) + L60 * pow((1 + c6FDP * FDP / K6FDP) / (1 + FDP / K6FDP), 2) * pow(1 + c6PEP * PEP / K6PEP + c6ADP * 0.5 * (-ATP + pow(12 * ATP - 3 * pow(ATP, 2), 0.5)) / K6ADP + g6T * c6PEP * PEP / K6PEP * c6ADP * 0.5 * (-ATP + pow(12 * ATP - 3 * pow(ATP, 2), 0.5)) / K6ADP, 2))),\n",
       " Vatpase: ATP -> ; cytoplasm * Vm8 * ATP]"
      ]
     },
     "execution_count": 400,
     "metadata": {},
     "output_type": "execute_result"
    }
   ],
   "source": [
    "simple = load_file_from_curated_data(63)\n",
    "simple.reactions"
   ]
  },
  {
   "cell_type": "code",
   "execution_count": 401,
   "metadata": {},
   "outputs": [
    {
     "name": "stdout",
     "output_type": "stream",
     "text": [
      "reaction_1_1\n",
      "reaction_n_1\n",
      "reaction_n_1\n",
      "reaction_n_1\n",
      "reaction_1_n\n",
      "reaction_1_n\n",
      "reaction_1_1\n",
      "reaction_boundary\n"
     ]
    }
   ],
   "source": [
    "for reaction in simple.reactions:\n",
    "    print(reaction.category)"
   ]
  },
  {
   "cell_type": "code",
   "execution_count": 402,
   "metadata": {},
   "outputs": [],
   "source": [
    "from SBMLLint.games.som import SOM"
   ]
  },
  {
   "cell_type": "code",
   "execution_count": 403,
   "metadata": {},
   "outputs": [],
   "source": [
    "# soms = []\n",
    "# for mole in simple.molecules:\n",
    "#     soms.append(SOM({mole}))\n",
    "# #c = SOM({simple.molecules[0]})\n",
    "# #m = SOM({simple.molecules[1]})\n",
    "# print(soms)"
   ]
  },
  {
   "cell_type": "code",
   "execution_count": 404,
   "metadata": {},
   "outputs": [],
   "source": [
    "# class Arc(object):\n",
    "    \n",
    "#     def __init__(self, source, destination, reaction):\n",
    "#         \"\"\"\n",
    "#         :param SOM source:\n",
    "#         :param SOM destination:\n",
    "#         :param Reaction reaction:\n",
    "#         \"\"\"\n",
    "#         self.source = source\n",
    "#         self.destination = destination\n",
    "#         self.reaction = reaction"
   ]
  },
  {
   "cell_type": "code",
   "execution_count": 405,
   "metadata": {},
   "outputs": [
    {
     "data": {
      "text/plain": [
       "' The following can be used to add multiple entries to an edge\\n\\nG = nx.DiGraph()\\nG.add_edges_from([(\\'a\\', \\'b\\'), (\\'b\\', \\'c\\')])\\n#set_edge_attributes(G, name, values)\\nG.add_edge(\\'d\\', \\'e\\', reaction = [1,2])\\nprint(\"first edge\")\\nprint(G.edges(data=True))\\na = G.get_edge_data(\\'d\\', \\'e\\')[\\'reaction\\']\\nG.add_edge(\\'d\\', \\'e\\', reaction = a + [3, 4])\\nprint(\"second\")\\nprint(G.edges(data=True))\\n'"
      ]
     },
     "execution_count": 405,
     "metadata": {},
     "output_type": "execute_result"
    }
   ],
   "source": [
    "\"\"\" The following can be used to add multiple entries to an edge\n",
    "\n",
    "G = nx.DiGraph()\n",
    "G.add_edges_from([('a', 'b'), ('b', 'c')])\n",
    "#set_edge_attributes(G, name, values)\n",
    "G.add_edge('d', 'e', reaction = [1,2])\n",
    "print(\"first edge\")\n",
    "print(G.edges(data=True))\n",
    "a = G.get_edge_data('d', 'e')['reaction']\n",
    "G.add_edge('d', 'e', reaction = a + [3, 4])\n",
    "print(\"second\")\n",
    "print(G.edges(data=True))\n",
    "\"\"\""
   ]
  },
  {
   "cell_type": "code",
   "execution_count": 568,
   "metadata": {},
   "outputs": [
    {
     "data": {
      "text/plain": [
       "'\\n\\n  @classmethod\\n  def reduce(cls, reaction):\\n#     Reduces reaction using existing cls.soms\\n#     :param Reaction reaction:\\n#     :return reaction/False:     \\n    # flag that will show whether the reaction was reduced\\n    reduced = False\\n    if reaction.category != cn.REACTION_n_n:\\n        return reduced\\n    # Reduces the reaction by examining all SOMs\\n    for som in cls.soms:\\n      reactants_in = deque([mole_stoich for mole_stoich in  \\n                           reaction.reactants if \\n                           mole_stoich.molecule in som.molecules])\\n      reactants_out = [mole_stoich for mole_stoich in  \\n                      reaction.reactants if \\n                      mole_stoich.molecule not in som.molecules]\\n      products_in = deque([mole_stoich for mole_stoich in  \\n                          reaction.products if \\n                          mole_stoich.molecule in som.molecules])\\n      products_out = [mole_stoich for mole_stoich in  \\n                     reaction.products if \\n                     mole_stoich.molecule not in som.molecules]\\n      #\\n      while reactants_in and products_in:\\n        reactant = reactants_in[0]\\n        product = products_in[0]\\n        if reactant.stoichiometry > product.stoichiometry:\\n          reactants_in[0] = MoleculeStoichiometry(reactant.molecule,\\n                                                    reactant.stoichiometry - product.stoichiometry)\\n          products_in.popleft()\\n        elif reactant.stoichiometry < product.stoichiometry:\\n          products_in[0] = MoleculeStoichiometry(product.molecule,\\n                                                      product.stoichiometry - reactant.stoichiometry)\\n          reactants_in.popleft()\\n        else:\\n          reactants_in.popleft()\\n          products_in.popleft()\\n      reactants = list(reactants_in) + reactants_out\\n      products = list(products_in) + products_out\\n    #  \\n    if (len(reaction.reactants) > len(reactants)) |     (len(reaction.products) > len(products)):\\n      reduced = True\\n      reaction.reactants = reactants\\n      reaction.products = products\\n        \\n    if reduced:\\n      reaction.identifier = reaction.makeIdentifier()\\n      reaction.category = reaction._getCategory() \\n      return reaction\\n    else:\\n      return reduced\\n\\n\\n'"
      ]
     },
     "execution_count": 568,
     "metadata": {},
     "output_type": "execute_result"
    }
   ],
   "source": [
    "\"\"\"\n",
    "\n",
    "  @classmethod\n",
    "  def reduce(cls, reaction):\n",
    "#     Reduces reaction using existing cls.soms\n",
    "#     :param Reaction reaction:\n",
    "#     :return reaction/False:     \n",
    "    # flag that will show whether the reaction was reduced\n",
    "    reduced = False\n",
    "    if reaction.category != cn.REACTION_n_n:\n",
    "        return reduced\n",
    "    # Reduces the reaction by examining all SOMs\n",
    "    for som in cls.soms:\n",
    "      reactants_in = deque([mole_stoich for mole_stoich in  \n",
    "                           reaction.reactants if \n",
    "                           mole_stoich.molecule in som.molecules])\n",
    "      reactants_out = [mole_stoich for mole_stoich in  \n",
    "                      reaction.reactants if \n",
    "                      mole_stoich.molecule not in som.molecules]\n",
    "      products_in = deque([mole_stoich for mole_stoich in  \n",
    "                          reaction.products if \n",
    "                          mole_stoich.molecule in som.molecules])\n",
    "      products_out = [mole_stoich for mole_stoich in  \n",
    "                     reaction.products if \n",
    "                     mole_stoich.molecule not in som.molecules]\n",
    "      #\n",
    "      while reactants_in and products_in:\n",
    "        reactant = reactants_in[0]\n",
    "        product = products_in[0]\n",
    "        if reactant.stoichiometry > product.stoichiometry:\n",
    "          reactants_in[0] = MoleculeStoichiometry(reactant.molecule,\n",
    "                                                    reactant.stoichiometry - product.stoichiometry)\n",
    "          products_in.popleft()\n",
    "        elif reactant.stoichiometry < product.stoichiometry:\n",
    "          products_in[0] = MoleculeStoichiometry(product.molecule,\n",
    "                                                      product.stoichiometry - reactant.stoichiometry)\n",
    "          reactants_in.popleft()\n",
    "        else:\n",
    "          reactants_in.popleft()\n",
    "          products_in.popleft()\n",
    "      reactants = list(reactants_in) + reactants_out\n",
    "      products = list(products_in) + products_out\n",
    "    #  \n",
    "    if (len(reaction.reactants) > len(reactants)) | \\\n",
    "    (len(reaction.products) > len(products)):\n",
    "      reduced = True\n",
    "      reaction.reactants = reactants\n",
    "      reaction.products = products\n",
    "        \n",
    "    if reduced:\n",
    "      reaction.identifier = reaction.makeIdentifier()\n",
    "      reaction.category = reaction._getCategory() \n",
    "      return reaction\n",
    "    else:\n",
    "      return reduced\n",
    "\n",
    "\n",
    "\"\"\""
   ]
  },
  {
   "cell_type": "code",
   "execution_count": 406,
   "metadata": {},
   "outputs": [
    {
     "data": {
      "text/plain": [
       "True"
      ]
     },
     "execution_count": 406,
     "metadata": {},
     "output_type": "execute_result"
    }
   ],
   "source": [
    "type(simple) == SimpleSBML"
   ]
  },
  {
   "cell_type": "code",
   "execution_count": 564,
   "metadata": {},
   "outputs": [],
   "source": [
    "#ARROW = \"->\"\n",
    "REACTION = \"reaction\"\n",
    "LESSTHAN = \"<\"\n",
    "\n",
    "class MESGraph(nx.DiGraph):\n",
    "  \"\"\"\n",
    "  The MESGraph class represents a collection of SOMs as nodes\n",
    "  and their inequality relationships as edges (arcs). \n",
    "  Mass inequality between SOMs from reactions can help us\n",
    "  detect their relationship.\n",
    "  Type I Error occurs when we find inequality between two molecules\n",
    "  in the same SOM, because each element in a SOM has the same weight.\n",
    "  Type II Error implies there is cyclism between molecules, such as\n",
    "  A < B < C < ... < A, which is physically impossible. \n",
    "  \"\"\"\n",
    "\n",
    "  def __init__(self, simple=None):\n",
    "    \"\"\"\n",
    "    :param list-SOM soms:\n",
    "    \"\"\"\n",
    "    super(MESGraph, self).__init__()\n",
    "    self.soms = self.initializeSOMs(simple)\n",
    "    self.add_nodes_from(self.soms)\n",
    "    self.identifier = self.makeId()\n",
    "    self.type_one_error = False\n",
    "    self.type_two_error = False\n",
    "\n",
    "  def __repr__(self):\n",
    "    return self.identifier\n",
    "\n",
    "  def initializeSOMs(self, simple):\n",
    "    \"\"\"\n",
    "    Create a list of one-molecule SOMs\n",
    "    :param SimpleSBML simple:\n",
    "    :return list-SOM:\n",
    "    \"\"\"\n",
    "    soms = []\n",
    "    if type(simple) == SimpleSBML:\n",
    "      for molecule in simple.molecules:\n",
    "        if molecule.name == cn.EMPTYSET:\n",
    "          continue\n",
    "        else:\n",
    "          soms.append(SOM({molecule}))\n",
    "    return soms\n",
    "    \n",
    "  def makeId(self):\n",
    "    identifier = \"\"\n",
    "    if self.edges:\n",
    "      for edge in self.edges:\n",
    "        identifier = identifier + str(edge[0]) + cn.ARC_ARROW + str(edge[1]) + \"\\n\"\n",
    "\n",
    "    for key, node in enumerate(nx.isolates(self)):\n",
    "      identifier = identifier + str(node)\n",
    "      if key < (len(list(nx.isolates(self)))-1):\n",
    "        identifier = identifier + cn.KINETICS_SEPARATOR\n",
    "\n",
    "    return identifier\n",
    "\n",
    "  def getNode(self, molecule):\n",
    "    \"\"\"\n",
    "    Search nodes in MESGraph and \n",
    "    returns SOM that includes the given molecule\n",
    "    If no such SOM exists, return False\n",
    "    :param Molecule molecule:\n",
    "    :return SOM/False:\n",
    "    \"\"\"\n",
    "    for som in list(self.nodes):\n",
    "      for mole in som.molecules:\n",
    "        if mole.name == molecule.name:\n",
    "          return som\n",
    "    return False\n",
    "\n",
    "  def processUniUniReaction(self, reaction):\n",
    "    \"\"\"\n",
    "    Process a 1-1 reaction to merge nodes.\n",
    "    If no need to merge, return None.\n",
    "    :param Reaction reactions:\n",
    "    \"\"\"\n",
    "    if reaction.category != cn.REACTION_1_1:\n",
    "      pass\n",
    "    else:\n",
    "      reactant_som = self.getNode(reaction.reactants[0].molecule)\n",
    "      product_som = self.getNode(reaction.products[0].molecule)\n",
    "      if reactant_som == product_som:\n",
    "        return None\n",
    "      else:\n",
    "        new_som = reactant_som.merge(product_som)\n",
    "        new_som.reactions.add(reaction)\n",
    "        # TODO: if there are edges, need to also check them\n",
    "        self.remove_node(reactant_som)\n",
    "        self.remove_node(product_som)\n",
    "        self.add_node(new_som)\n",
    "        self.identifier = self.makeId()\n",
    "        return new_som\n",
    "    \n",
    "  def processUniMultiReaction(self, reaction):\n",
    "    \"\"\"\n",
    "    Process a 1-n reaction to add arcs.\n",
    "    Since the mass of reactant is greater than\n",
    "    that of each product, it adds arcs by\n",
    "    addArc(source=products, destination=reactant). \n",
    "    :param Reaction reaction:\n",
    "    \"\"\"\n",
    "    if reaction.category != cn.REACTION_1_n:\n",
    "      pass\n",
    "    else:\n",
    "      destination = [reaction.reactants[0].molecule]\n",
    "      source = [product.molecule for product in reaction.products]\n",
    "      self.addArc(source, destination, reaction)\n",
    "      self.identifier = self.makeId()\n",
    "\n",
    "  def processMultiUniReaction(self, reaction):\n",
    "    \"\"\"\n",
    "    Process a n-1 reaction to add arcs.\n",
    "    Since the mass of product is greater than\n",
    "    that of each reactant, it adds arcs by\n",
    "    addArc(source=reactants, destination=product). \n",
    "    :param Reaction reaction:\n",
    "    \"\"\"\n",
    "    if reaction.category != cn.REACTION_n_1:\n",
    "      pass\n",
    "    else:\n",
    "      destination = [reaction.products[0].molecule]\n",
    "      source = [reactant.molecule for reactant in reaction.reactants]\n",
    "      self.addArc(source, destination, reaction)\n",
    "      self.identifier = self.makeId()\n",
    "    \n",
    "  def addArc(self, source, destination, reaction):\n",
    "    \"\"\"\n",
    "    Add arcs (edges) using two molecule lists (source/destination).\n",
    "    :param list-Molecule source:\n",
    "    :param list-Molecule destination:\n",
    "    \"\"\"\n",
    "    arcs = itertools.product(source, destination)\n",
    "    for arc in arcs:\n",
    "      if not self.checkTypeOneError(arc, reaction):\n",
    "        arc_source = self.getNode(arc[0])\n",
    "        arc_destination = self.getNode(arc[1])\n",
    "        # if there is already a preious reaction,\n",
    "        if self.has_edge(arc_source, arc_destination):\n",
    "          reaction_label = self.get_edge_data(arc_source, arc_destination)[REACTION]\n",
    "          # if reaction.label is not already included in the attribute,\n",
    "          if reaction.label not in set(reaction_label):\n",
    "            reaction_label = reaction_label + [reaction.label]\n",
    "        else:\n",
    "          reaction_label = [reaction.label]\n",
    "        self.add_edge(arc_source, arc_destination, reaction=reaction_label)\n",
    "      else:\n",
    "        continue\n",
    "    \n",
    "  def checkTypeOneError(self, arc, inequality_reaction=None):\n",
    "    \"\"\"\n",
    "    Check Type I Error of an arc.\n",
    "    If both source and destination are found\n",
    "    in the same SOM, send error message and return True.\n",
    "    If not, return False.\n",
    "    :param tuple-Molecule arc:\n",
    "    :param Reaction inequality_reaction:\n",
    "    :return bool:\n",
    "    \"\"\"\n",
    "    som1 = self.getNode(arc[0])\n",
    "    som2 = self.getNode(arc[1])\n",
    "    if som1 == som2:\n",
    "      print(\"\\nWe have a Type I Error...\\n\")\n",
    "      print(arc[0], \" and \", arc[1], \" have the same weight by\")\n",
    "      for equality_reaction in list(som1.reactions):\n",
    "        print(equality_reaction)\n",
    "      print(\"\\nHowever, reaction \\\"\", inequality_reaction, \n",
    "            \"\\\" implies \", arc[0], LESSTHAN, arc[1])\n",
    "      print(\"We cannot add the arc: \", arc[0], cn.ARC_ARROW, arc[1])\n",
    "      print()\n",
    "      if not self.type_one_error:\n",
    "        self.type_one_error = True\n",
    "      return True\n",
    "    else:\n",
    "      return False\n",
    "\n",
    "  def checkTypeTwoError(self):\n",
    "    \"\"\"\n",
    "    Check Type II Error (cycles) of a MESGraph.\n",
    "    If there is at least one cycle, \n",
    "    report an error message, related reactions\n",
    "    and return True.\n",
    "    If there is no cycle, return False. \n",
    "    :return bool:\n",
    "    \"\"\"\n",
    "    graph = nx.DiGraph()\n",
    "    graph.add_edges_from(self.edges)\n",
    "    cycles = list(nx.simple_cycles(graph))\n",
    "    if len(cycles) == 0:\n",
    "      print(\"No cycles! No Type II Error!\")\n",
    "      return False\n",
    "    else:\n",
    "      print(\"We have a Type II Error...\\n\")\n",
    "      for cycle in cycles:\n",
    "        cycle_nodes = []\n",
    "        for node in cycle:\n",
    "          cycle_nodes.append(node)\n",
    "        for node in cycle_nodes:\n",
    "          print(node, LESSTHAN, end=\" \")\n",
    "        print(cycle_nodes[0])\n",
    "      if not self.type_two_error:\n",
    "        self.type_two_error = True\n",
    "      return True\n",
    "    \n",
    "    \n",
    "  def analyze(self, reactions):\n",
    "    \"\"\"\n",
    "    Sort list of reactions and process them.\n",
    "    Add arcs or sending error messages using\n",
    "    checkTypeOneError or checkTypeTwoError.\n",
    "    :param list-Reaction reactions:\n",
    "    \"\"\"\n",
    "    # Associate the reaction category with the function\n",
    "    # that processes that category\n",
    "    reaction_dic = {\n",
    "        cn.REACTION_1_1: self.processUniUniReaction,\n",
    "        cn.REACTION_1_n: self.processUniMultiReaction,\n",
    "        cn.REACTION_n_1: self.processMultiUniReaction,\n",
    "        }\n",
    "    # Process each type of reaction\n",
    "    for category in reaction_dic.keys():\n",
    "      for reaction in [r for r in reactions if r.category == category]:\n",
    "        func = reaction_dic[category]\n",
    "        func(reaction)\n",
    "    \n",
    "    # check checkTypeTwoError:\n",
    "    self.checkTypeTwoError()\n",
    "    return self"
   ]
  },
  {
   "cell_type": "code",
   "execution_count": 565,
   "metadata": {},
   "outputs": [
    {
     "data": {
      "text/plain": [
       "[Reaction1: Br + BrO3 -> HBrO2 + HOBr; Br * BrO3 * k1 * BZ,\n",
       " Reaction2: Br + HBrO2 -> 2.00 HOBr; Br * HBrO2 * k2 * BZ,\n",
       " Reaction3: BrO3 + HBrO2 -> Ce + 2.00 HBrO2; BrO3 * HBrO2 * k3 * BZ,\n",
       " Reaction4: 2.00 HBrO2 -> BrO3 + HOBr; pow(HBrO2, 2) * k4 * BZ,\n",
       " Reaction5: Ce -> Br; Ce * k5 * BZ]"
      ]
     },
     "execution_count": 565,
     "metadata": {},
     "output_type": "execute_result"
    }
   ],
   "source": [
    "simple.reactions"
   ]
  },
  {
   "cell_type": "code",
   "execution_count": 566,
   "metadata": {},
   "outputs": [
    {
     "name": "stdout",
     "output_type": "stream",
     "text": [
      "We have a Type II Error...\n",
      "\n",
      "{HBrO2} < {HOBr} < {HBrO2}\n",
      "{BrO3} -> {HBrO2}\n",
      "{HBrO2} -> {HOBr}\n",
      "{HOBr} -> {HBrO2}\n",
      "{Br, Ce} -> {HOBr}\n",
      "Model 40 has a type two error\n"
     ]
    }
   ],
   "source": [
    "simple = load_file_from_curated_data(40)\n",
    "m = MESGraph(simple)\n",
    "reactions = []\n",
    "for reaction in [r for r in simple.reactions if r.category!=cn.REACTION_BOUNDARY]:\n",
    "  if (reaction.reactants[0].molecule.name == cn.EMPTYSET) | \\\n",
    "      (reaction.products[0].molecule.name == cn.EMPTYSET):\n",
    "   continue\n",
    "  else:\n",
    "    reactions.append(reaction)\n",
    "# for reaction in reactions:\n",
    "#   print(reaction)\n",
    "z = m.analyze(reactions)\n",
    "for arc in m.edges:\n",
    "  print(arc[0], \"->\", arc[1])\n",
    "if z.type_two_error:\n",
    "  print(\"Model \" + str(40) + \" has a type two error\")"
   ]
  },
  {
   "cell_type": "code",
   "execution_count": 560,
   "metadata": {},
   "outputs": [
    {
     "data": {
      "text/plain": [
       "NodeView(({BrO3}, {HBrO2}, {HOBr}, {Br, Ce}))"
      ]
     },
     "execution_count": 560,
     "metadata": {},
     "output_type": "execute_result"
    }
   ],
   "source": [
    "m.nodes"
   ]
  },
  {
   "cell_type": "code",
   "execution_count": 552,
   "metadata": {},
   "outputs": [
    {
     "data": {
      "text/plain": [
       "OutEdgeView([({MKKK, MKKK_P}, {MAPK, MAPK_P, MAPK_PP}), ({MKK, MKK_P, MKK_PP}, {MKKK, MKKK_P}), ({MAPK, MAPK_P, MAPK_PP}, {MKK, MKK_P, MKK_PP})])"
      ]
     },
     "execution_count": 552,
     "metadata": {},
     "output_type": "execute_result"
    }
   ],
   "source": [
    "dummy_reaction = simple.reactions[0]\n",
    "m.addArc([simple.getMolecule('MKK')], [simple.getMolecule('MKKK')], dummy_reaction)\n",
    "m.addArc([simple.getMolecule('MKKK')], [simple.getMolecule('MAPK')], dummy_reaction)\n",
    "m.addArc([simple.getMolecule('MAPK')], [simple.getMolecule('MKK')], dummy_reaction)\n",
    "m.edges"
   ]
  },
  {
   "cell_type": "code",
   "execution_count": null,
   "metadata": {},
   "outputs": [],
   "source": []
  },
  {
   "cell_type": "code",
   "execution_count": 505,
   "metadata": {},
   "outputs": [
    {
     "name": "stdout",
     "output_type": "stream",
     "text": [
      "({HBrO2}, {HOBr})\n",
      "({HOBr}, {HBrO2})\n"
     ]
    }
   ],
   "source": [
    "edge1 = list(m.edges)[1]\n",
    "edge2 = list(m.edges)[2]\n",
    "print(edge1)\n",
    "print(edge2)"
   ]
  },
  {
   "cell_type": "code",
   "execution_count": 554,
   "metadata": {},
   "outputs": [
    {
     "data": {
      "text/plain": [
       "[[{MKK, MKK_P, MKK_PP}, {MKKK, MKKK_P}, {MAPK, MAPK_P, MAPK_PP}]]"
      ]
     },
     "execution_count": 554,
     "metadata": {},
     "output_type": "execute_result"
    }
   ],
   "source": [
    "G = nx.DiGraph()\n",
    "G.add_edges_from(m.edges)\n",
    "list(nx.simple_cycles(G))"
   ]
  },
  {
   "cell_type": "code",
   "execution_count": 556,
   "metadata": {},
   "outputs": [
    {
     "name": "stdout",
     "output_type": "stream",
     "text": [
      "{MKK, MKK_P, MKK_PP}\n",
      "{MKKK, MKKK_P}\n",
      "{MAPK, MAPK_P, MAPK_PP}\n"
     ]
    }
   ],
   "source": [
    "for cycle in list(nx.simple_cycles(G)):\n",
    "  for node in cycle:\n",
    "    print(node)\n"
   ]
  },
  {
   "cell_type": "code",
   "execution_count": 387,
   "metadata": {},
   "outputs": [
    {
     "data": {
      "text/plain": [
       "NodeView(({Pc1, Pc2, Po1, Po2},))"
      ]
     },
     "execution_count": 387,
     "metadata": {},
     "output_type": "execute_result"
    }
   ],
   "source": [
    "m.nodes"
   ]
  },
  {
   "cell_type": "code",
   "execution_count": 232,
   "metadata": {},
   "outputs": [
    {
     "name": "stdout",
     "output_type": "stream",
     "text": [
      "SHMT: FH4 + serine -> CH2FH4; cell * (Vm * (serine / Km2 / (1 + serine / Km2)) * (FH4 / Km1) / (1 + FH4 / Km1)) \n",
      "\n",
      "SHMTr: CH2FH4 -> FH4; cell * (Vm * (glycine / Km2 / (1 + glycine / Km2)) * (CH2FH4 / Km1) / (1 + CH2FH4 / Km1)) \n",
      "\n",
      "HCHOtoCH2FH4: FH4 + HCHO -> CH2FH4; cell * hp * FH4 * HCHO \n",
      "\n",
      "CH2FH4toHCHO: CH2FH4 -> FH4 + HCHO; cell * hl * CH2FH4 \n",
      "\n",
      "MTHFR: CH2FH4 + NADPH -> CH3FH4; cell * (Vm * CH2FH4 * NADPH / (NADPH * CH2FH4 + CH2FH4 * Km2 + (NADPH + Km2) * Km1 * (1 + MTX1 / Ki21 + MTX2 / Ki22 + MTX3 / Ki23 + MTX4 / Ki24 + MTX5 / Ki25 + FH2f / Ki1))) \n",
      "\n",
      "MTR: CH3FH4 + homocysteine -> FH4; cell * (Vm * (homocysteine / Km2 / (1 + homocysteine / Km2)) * (CH3FH4 / Km1) / (1 + CH3FH4 / Km1)) \n",
      "\n",
      "HCOOHtoCHOFH4: FH4 + formate + ATP -> CHOFH4; cell * (Vm / ((1 + Km1 / FH4) * (1 + Km2 / ATP) * (1 + Km3 / formate))) \n",
      "\n",
      "GARFT: CHOFH4 + GAR -> FGAR + FH4; cell * (Vm * CHOFH4 * GAR / (GAR * CHOFH4 + CHOFH4 * Km2 + (GAR + Km2) * Km1 * (1 + MTX1 / Ki21 + MTX2 / Ki22 + MTX3 / Ki23 + MTX4 / Ki24 + MTX5 / Ki25 + FH2f / Ki1 + FFH2 / Ki1f))) \n",
      "\n",
      "ATIC7: CHOFH4 + AICAR -> FH4; cell * (Vm * CHOFH4 * AICAR / (AICAR * CHOFH4 + CHOFH4 * Km2 + (AICAR + Km2) * Km1 * (1 + MTX1 / Ki21 + MTX2 / Ki22 + MTX3 / Ki23 + MTX4 / Ki24 + MTX5 / Ki25 + FH2f / Ki1 + FFH2 / Ki1f))) \n",
      "\n",
      "MTHFD: CH2FH4 + NADP -> CHOFH4; cell * Vm * (CH2FH4 / Km1 / (1 + CH2FH4 / Km1)) * (NADP / Km2 / (1 + NADP / Km2)) \n",
      "\n",
      "TYMS: CH2FH4 + dUMP -> FH2f; cell * (Vm * CH2FH4 * dUMP / (dUMP * CH2FH4 * (1 + MTX1 / Ki21 + MTX2 / Ki22 + MTX3 / Ki23 + MTX4 / Ki24 + MTX5 / Ki25 + FH2f / Ki1) + Km1 * dUMP * (FFH2 / Ki1f * (MTX1 / Ki21) + (1 + FFH2 / Ki1f) * (1 + MTX2 / Ki22 + MTX3 / Ki23 + MTX4 / Ki24 + MTX5 / Ki25 + FH2f / Ki1)) + Km1 * Km2 * (1 + MTX2 / Ki22 + MTX3 / Ki23 + MTX4 / Ki24 + MTX5 / Ki25 + FH2f / Ki1))) \n",
      "\n",
      "DHFReductase: FH2f -> FH4; cell * kter * FH2b \n",
      "\n",
      "FFH2syn: FH2f -> FFH2; cell * Vm * FH2f \n",
      "\n",
      "ATIC12: FFH2 + AICAR -> FH2f; cell * (Vm * FFH2 * AICAR / (AICAR * FFH2 + FFH2 * Km2 + (AICAR + Km2) * Km1 * (1 + MTX1 / Ki21 + MTX2 / Ki22 + MTX3 / Ki23 + MTX4 / Ki24 + MTX5 / Ki25 + FH2f / Ki1 + FFH2 / Ki1f))) \n",
      "\n",
      "AICARsyn: FGAR -> AICAR; cell * Vm * (glutamine / Km1 / (1 + glutamine / Km1)) * (FGAR / Km2 / (1 + FGAR / Km2)) \n",
      "\n",
      "FPGS12: MTX1 -> MTX2; cell * Vm * MTX1 \n",
      "\n",
      "FPGS23: MTX2 -> MTX3; cell * Vm * MTX2 \n",
      "\n",
      "FPGS34: MTX3 -> MTX4; cell * Vm * MTX3 \n",
      "\n",
      "FPGS45: MTX4 -> MTX5; cell * Vm * MTX4 \n",
      "\n",
      "GGH21: MTX2 -> MTX1; cell * Vm * MTX2 \n",
      "\n",
      "GGH32: MTX3 -> MTX2; cell * Vm * MTX3 \n",
      "\n",
      "GGH43: MTX4 -> MTX3; cell * Vm * MTX4 \n",
      "\n",
      "GGH54: MTX5 -> MTX4; cell * Vm * MTX5 \n",
      "\n",
      "RFC: EMTX -> MTX1; ext * (Vm * EMTX / (Km + EMTX)) \n",
      "\n",
      "MTX1export: MTX1 -> ; cell * Vm * MTX1 \n",
      "\n",
      "MTX2export: MTX2 -> ; cell * Vm * MTX2 \n",
      "\n",
      "MTX3export: MTX3 -> ; cell * Vm * MTX3 \n",
      "\n",
      "MTX4export: MTX4 -> ; cell * Vm * MTX4 \n",
      "\n",
      "MTX5export: MTX5 -> ; cell * Vm * MTX5 \n",
      "\n",
      "MTX1on: MTX1 + DHFRf -> MTX1b; cell * Vm * DHFRf * MTX1 \n",
      "\n",
      "MTX2on: MTX2 + DHFRf -> MTX2b; cell * Vm * DHFRf * MTX2 \n",
      "\n",
      "MTX3on: MTX3 + DHFRf -> MTX3b; cell * Vm * DHFRf * MTX3 \n",
      "\n",
      "MTX4on: MTX4 + DHFRf -> MTX4b; cell * Vm * DHFRf * MTX4 \n",
      "\n",
      "MTX5on: MTX5 + DHFRf -> MTX5b; cell * Vm * DHFRf * MTX5 \n",
      "\n",
      "MTX1off: MTX1b -> MTX1 + DHFRf; cell * Vm * MTX1b \n",
      "\n",
      "MTX2off: MTX2b -> MTX2 + DHFRf; cell * Vm * MTX2b \n",
      "\n",
      "MTX3off: MTX3b -> MTX3 + DHFRf; cell * Vm * MTX3b \n",
      "\n",
      "MTX4off: MTX4b -> MTX4 + DHFRf; cell * Vm * MTX4b \n",
      "\n",
      "MTX5off: MTX5b -> MTX5 + DHFRf; cell * Vm * MTX5b \n",
      "\n",
      "DHFRfsyn:  -> DHFRf; cell * (k0 + k1 * EMTX) \n",
      "\n",
      "DHFRdeg: DHFRf -> ; Vm * cell * (DHFRf + FH2b) \n",
      "\n",
      "FH2bdeg:  -> FH2f; cell * Vm * FH2b \n",
      "\n",
      "MTX1deg: MTX1b -> MTX1; cell * Vm * MTX1b \n",
      "\n",
      "MTX2deg: MTX2b -> MTX2; cell * Vm * MTX2b \n",
      "\n",
      "MTX3deg: MTX3b -> MTX3; cell * Vm * MTX3b \n",
      "\n",
      "MTX4deg: MTX4b -> MTX4; cell * Vm * MTX4b \n",
      "\n",
      "MTX5deg: MTX5b -> MTX5; cell * Vm * MTX5b \n",
      "\n"
     ]
    }
   ],
   "source": [
    "for react in simple.reactions:\n",
    "    print(react, \"\\n\")"
   ]
  },
  {
   "cell_type": "code",
   "execution_count": 233,
   "metadata": {},
   "outputs": [
    {
     "data": {
      "text/plain": [
       "OutEdgeView([])"
      ]
     },
     "execution_count": 233,
     "metadata": {},
     "output_type": "execute_result"
    }
   ],
   "source": [
    "m.edges"
   ]
  },
  {
   "cell_type": "code",
   "execution_count": 234,
   "metadata": {},
   "outputs": [
    {
     "data": {
      "text/plain": [
       "CH2FH4toHCHO: CH2FH4 -> FH4 + HCHO; cell * hl * CH2FH4"
      ]
     },
     "execution_count": 234,
     "metadata": {},
     "output_type": "execute_result"
    }
   ],
   "source": [
    "unimulti_reaction = simple.reactions[3]\n",
    "destination = [reactant.molecule for reactant in unimulti_reaction.reactants]\n",
    "source = [produce.molecule for produce in unimulti_reaction.products]\n",
    "unimulti_reaction"
   ]
  },
  {
   "cell_type": "code",
   "execution_count": 235,
   "metadata": {},
   "outputs": [
    {
     "data": {
      "text/plain": [
       "OutEdgeDataView([])"
      ]
     },
     "execution_count": 235,
     "metadata": {},
     "output_type": "execute_result"
    }
   ],
   "source": [
    "m.edges(data=True)"
   ]
  },
  {
   "cell_type": "code",
   "execution_count": 236,
   "metadata": {},
   "outputs": [],
   "source": [
    "m.addArc(source, destination, unimulti_reaction)"
   ]
  },
  {
   "cell_type": "code",
   "execution_count": 237,
   "metadata": {},
   "outputs": [
    {
     "data": {
      "text/plain": [
       "OutEdgeDataView([({FH4}, {CH2FH4}, {'reaction': ['CH2FH4toHCHO']}), ({HCHO}, {CH2FH4}, {'reaction': ['CH2FH4toHCHO']})])"
      ]
     },
     "execution_count": 237,
     "metadata": {},
     "output_type": "execute_result"
    }
   ],
   "source": [
    "m.edges(data=True)"
   ]
  },
  {
   "cell_type": "code",
   "execution_count": null,
   "metadata": {},
   "outputs": [],
   "source": []
  },
  {
   "cell_type": "code",
   "execution_count": 212,
   "metadata": {},
   "outputs": [
    {
     "name": "stdout",
     "output_type": "stream",
     "text": [
      "FH4\n",
      "CH2FH4\n"
     ]
    }
   ],
   "source": [
    "fh4 = simple.molecules[0]\n",
    "ch2fh4 = simple.molecules[2]\n",
    "print(fh4)\n",
    "print(ch2fh4)"
   ]
  },
  {
   "cell_type": "code",
   "execution_count": 213,
   "metadata": {},
   "outputs": [
    {
     "data": {
      "text/plain": [
       "True"
      ]
     },
     "execution_count": 213,
     "metadata": {},
     "output_type": "execute_result"
    }
   ],
   "source": [
    "m.has_edge(m.getNode(fh4), m.getNode(ch2fh4))"
   ]
  },
  {
   "cell_type": "code",
   "execution_count": 214,
   "metadata": {},
   "outputs": [
    {
     "data": {
      "text/plain": [
       "['CH2FH4toHCHO']"
      ]
     },
     "execution_count": 214,
     "metadata": {},
     "output_type": "execute_result"
    }
   ],
   "source": [
    "m.get_edge_data(m.getNode(fh4), m.getNode(ch2fh4))['reaction']"
   ]
  },
  {
   "cell_type": "code",
   "execution_count": 215,
   "metadata": {},
   "outputs": [
    {
     "data": {
      "text/plain": [
       "OutEdgeView([({FH4}, {CH2FH4}), ({HCHO}, {CH2FH4})])"
      ]
     },
     "execution_count": 215,
     "metadata": {},
     "output_type": "execute_result"
    }
   ],
   "source": [
    "m.processUniMultiReaction(unimulti_reaction)\n",
    "m.edges"
   ]
  },
  {
   "cell_type": "code",
   "execution_count": 217,
   "metadata": {},
   "outputs": [
    {
     "data": {
      "text/plain": [
       "OutEdgeDataView([({FH4}, {CH2FH4}, {'reaction': ['CH2FH4toHCHO']}), ({HCHO}, {CH2FH4}, {'reaction': ['CH2FH4toHCHO']})])"
      ]
     },
     "execution_count": 217,
     "metadata": {},
     "output_type": "execute_result"
    }
   ],
   "source": [
    "m.edges(data=True)"
   ]
  },
  {
   "cell_type": "code",
   "execution_count": 218,
   "metadata": {},
   "outputs": [
    {
     "data": {
      "text/plain": [
       "SHMT: FH4 + serine -> CH2FH4; cell * (Vm * (serine / Km2 / (1 + serine / Km2)) * (FH4 / Km1) / (1 + FH4 / Km1))"
      ]
     },
     "execution_count": 218,
     "metadata": {},
     "output_type": "execute_result"
    }
   ],
   "source": [
    "multiuni_reaction = simple.reactions[0]\n",
    "multiuni_reaction"
   ]
  },
  {
   "cell_type": "code",
   "execution_count": 219,
   "metadata": {},
   "outputs": [
    {
     "data": {
      "text/plain": [
       "OutEdgeView([({FH4}, {CH2FH4}), ({serine}, {CH2FH4}), ({HCHO}, {CH2FH4})])"
      ]
     },
     "execution_count": 219,
     "metadata": {},
     "output_type": "execute_result"
    }
   ],
   "source": [
    "m.processMultiUniReaction(multiuni_reaction)\n",
    "m.edges"
   ]
  },
  {
   "cell_type": "code",
   "execution_count": 220,
   "metadata": {},
   "outputs": [
    {
     "data": {
      "text/plain": [
       "OutEdgeDataView([({FH4}, {CH2FH4}, {'reaction': ['CH2FH4toHCHO', 'SHMT']}), ({serine}, {CH2FH4}, {'reaction': ['SHMT']}), ({HCHO}, {CH2FH4}, {'reaction': ['CH2FH4toHCHO']})])"
      ]
     },
     "execution_count": 220,
     "metadata": {},
     "output_type": "execute_result"
    }
   ],
   "source": [
    "m.edges(data=True)"
   ]
  },
  {
   "cell_type": "code",
   "execution_count": 221,
   "metadata": {},
   "outputs": [],
   "source": [
    "m.processUniUniReaction(reaction)"
   ]
  },
  {
   "cell_type": "code",
   "execution_count": 222,
   "metadata": {},
   "outputs": [
    {
     "data": {
      "text/plain": [
       "NodeView(({FH4}, {serine}, {CH2FH4}, {HCHO}, {NADPH}, {CH3FH4}, {homocysteine}, {formate}, {ATP}, {CHOFH4}, {GAR}, {FGAR}, {AICAR}, {NADP}, {dUMP}, {FH2f}, {FFH2}, {MTX1}, {MTX2}, {MTX3}, {MTX4}, {MTX5}, {EMTX}, {DHFRf}, {MTX1b}, {MTX2b}, {MTX3b}, {MTX4b}, {MTX5b}))"
      ]
     },
     "execution_count": 222,
     "metadata": {},
     "output_type": "execute_result"
    }
   ],
   "source": [
    "m.nodes"
   ]
  },
  {
   "cell_type": "code",
   "execution_count": 18,
   "metadata": {},
   "outputs": [
    {
     "data": {
      "text/plain": [
       "NodeView(({NAD}, {halfglucose}, {NADH}, {lactate}, {CoA}, {AcCoA}, {PO4}, {AcP}, {Ac}, {AcO}, {EtOH}, {Butanediol}, {O2}, {AcLac, AcetoinIn, AcetoinOut, pyruvate}, {ADP, ATP}))"
      ]
     },
     "execution_count": 18,
     "metadata": {},
     "output_type": "execute_result"
    }
   ],
   "source": [
    "m.analyze(Reaction.reactions)\n",
    "m.nodes"
   ]
  },
  {
   "cell_type": "code",
   "execution_count": 19,
   "metadata": {},
   "outputs": [
    {
     "data": {
      "text/plain": [
       "OutEdgeView([({NADH}, {NAD}), ({O2}, {NAD})])"
      ]
     },
     "execution_count": 19,
     "metadata": {},
     "output_type": "execute_result"
    }
   ],
   "source": [
    "m.edges"
   ]
  },
  {
   "cell_type": "code",
   "execution_count": 20,
   "metadata": {},
   "outputs": [
    {
     "data": {
      "text/plain": [
       "{NADH}->{NAD}\n",
       "{O2}->{NAD}\n",
       "{halfglucose};{lactate};{CoA};{AcCoA};{PO4};{AcP};{Ac};{AcO};{EtOH};{Butanediol};{AcLac, AcetoinIn, AcetoinOut, pyruvate};{ADP, ATP}"
      ]
     },
     "execution_count": 20,
     "metadata": {},
     "output_type": "execute_result"
    }
   ],
   "source": [
    "m"
   ]
  },
  {
   "cell_type": "code",
   "execution_count": 453,
   "metadata": {},
   "outputs": [
    {
     "data": {
      "text/plain": [
       "OutEdgeView([({Gly}, {DFG, E1, E2}), ({Gly}, {Mel}), ({MG}, {AA, Cn, FA, Glu, Man, _1DG, _3DG}), ({Fru}, {DFG, E1, E2}), ({AA, Cn, FA, Glu, Man, _1DG, _3DG}, {DFG, E1, E2}), ({AA, Cn, FA, Glu, Man, _1DG, _3DG}, {Mel})])"
      ]
     },
     "execution_count": 453,
     "metadata": {},
     "output_type": "execute_result"
    }
   ],
   "source": [
    "m.edges"
   ]
  },
  {
   "cell_type": "code",
   "execution_count": 456,
   "metadata": {},
   "outputs": [
    {
     "data": {
      "text/plain": [
       "[]"
      ]
     },
     "execution_count": 456,
     "metadata": {},
     "output_type": "execute_result"
    }
   ],
   "source": [
    "list(nx.isolates(m))"
   ]
  },
  {
   "cell_type": "code",
   "execution_count": 424,
   "metadata": {},
   "outputs": [
    {
     "name": "stdout",
     "output_type": "stream",
     "text": [
      "{Gly}->{DFG, E1, E2}\n",
      "{Gly}->{Mel}\n",
      "{MG}->{AA, Cn, FA, Glu, Man, _1DG, _3DG}\n",
      "{Fru}->{DFG, E1, E2}\n",
      "{AA, Cn, FA, Glu, Man, _1DG, _3DG}->{DFG, E1, E2}\n",
      "{AA, Cn, FA, Glu, Man, _1DG, _3DG}->{Mel}\n",
      "\n"
     ]
    }
   ],
   "source": [
    "identifier = \"\"\n",
    "if m.edges:\n",
    "    for edge in m.edges:\n",
    "        identifier = identifier + str(edge[0]) + \"->\" + str(edge[1]) + \"\\n\"\n",
    "    \n",
    "for key, node in enumerate(nx.isolates(m)):\n",
    "    identifier = identifier + str(node)\n",
    "    if key < (len(list(nx.isolates(m)))-1):\n",
    "        identifier = identifier + cn.KINETICS_SEPARATOR\n",
    "print(identifier)"
   ]
  },
  {
   "cell_type": "code",
   "execution_count": 443,
   "metadata": {},
   "outputs": [
    {
     "data": {
      "text/plain": [
       "{DFG};{E1};{E2};{Gly};{Cn};{_3DG};{FA};{_1DG};{AA};{Man};{Glu};{Mel};{MG};{Fru}"
      ]
     },
     "execution_count": 443,
     "metadata": {},
     "output_type": "execute_result"
    }
   ],
   "source": []
  },
  {
   "cell_type": "code",
   "execution_count": 323,
   "metadata": {},
   "outputs": [
    {
     "data": {
      "text/plain": [
       "'{Gly}'"
      ]
     },
     "execution_count": 323,
     "metadata": {},
     "output_type": "execute_result"
    }
   ],
   "source": [
    "str(edge[0])"
   ]
  },
  {
   "cell_type": "code",
   "execution_count": 343,
   "metadata": {},
   "outputs": [
    {
     "name": "stdout",
     "output_type": "stream",
     "text": [
      "[{Gly}, {Mel}, {MG}, {Fru}, {DFG, E1, E2}, {AA, Cn, FA, Glu, Man, _1DG, _3DG}]\n"
     ]
    }
   ],
   "source": [
    "nodes = list(m.nodes)\n",
    "print(nodes)"
   ]
  },
  {
   "cell_type": "code",
   "execution_count": 373,
   "metadata": {},
   "outputs": [
    {
     "name": "stdout",
     "output_type": "stream",
     "text": [
      "{ATP, Ade, DNA, GTP, Gua, HX, IMP, PRPP, R5P, RNA, SAM, SAMP, UA, XMP, Xa, dATP, dGTP}\n",
      "<class 'SBMLLint.games.som.SOM'>\n"
     ]
    }
   ],
   "source": [
    "for x in nx.isolates(m):\n",
    "    print(x)\n",
    "    print(type(x))"
   ]
  },
  {
   "cell_type": "code",
   "execution_count": 341,
   "metadata": {},
   "outputs": [
    {
     "data": {
      "text/plain": [
       "{{Fru}, {MG}, {Gly}, {AA, Cn, FA, Glu, Man, _1DG, _3DG}}"
      ]
     },
     "execution_count": 341,
     "metadata": {},
     "output_type": "execute_result"
    }
   ],
   "source": [
    "nx.ancestors(m, list(m.edges)[0][1])"
   ]
  },
  {
   "cell_type": "code",
   "execution_count": 339,
   "metadata": {},
   "outputs": [
    {
     "data": {
      "text/plain": [
       "{Gly}"
      ]
     },
     "execution_count": 339,
     "metadata": {},
     "output_type": "execute_result"
    }
   ],
   "source": [
    "list(m.edges)[0][0]"
   ]
  },
  {
   "cell_type": "code",
   "execution_count": 374,
   "metadata": {},
   "outputs": [
    {
     "data": {
      "text/plain": [
       ";{ATP}+{HX}+{Ade}+{dATP}+{DNA}+{IMP}+{PRPP}+{RNA}+{SAMP}+{dGTP}+{Gua}+{GTP}+{XMP}+{Xa}+{SAM}+{R5P}+{UA}+"
      ]
     },
     "execution_count": 374,
     "metadata": {},
     "output_type": "execute_result"
    }
   ],
   "source": [
    "m"
   ]
  },
  {
   "cell_type": "code",
   "execution_count": 376,
   "metadata": {},
   "outputs": [
    {
     "data": {
      "text/plain": [
       "<generator object isolates.<locals>.<genexpr> at 0x1521ab2c50>"
      ]
     },
     "execution_count": 376,
     "metadata": {},
     "output_type": "execute_result"
    }
   ],
   "source": [
    "nx.isolates(m)"
   ]
  },
  {
   "cell_type": "code",
   "execution_count": 22,
   "metadata": {},
   "outputs": [],
   "source": [
    "a = {1}.union({2})"
   ]
  },
  {
   "cell_type": "code",
   "execution_count": 23,
   "metadata": {},
   "outputs": [
    {
     "data": {
      "text/plain": [
       "{1, 2}"
      ]
     },
     "execution_count": 23,
     "metadata": {},
     "output_type": "execute_result"
    }
   ],
   "source": [
    "a"
   ]
  },
  {
   "cell_type": "code",
   "execution_count": 24,
   "metadata": {},
   "outputs": [],
   "source": [
    "a.add(3)"
   ]
  },
  {
   "cell_type": "code",
   "execution_count": 25,
   "metadata": {},
   "outputs": [
    {
     "data": {
      "text/plain": [
       "{1, 2, 3}"
      ]
     },
     "execution_count": 25,
     "metadata": {},
     "output_type": "execute_result"
    }
   ],
   "source": [
    "a"
   ]
  },
  {
   "cell_type": "code",
   "execution_count": 26,
   "metadata": {},
   "outputs": [
    {
     "data": {
      "text/plain": [
       "[{E2},\n",
       " {Gly},\n",
       " {Cn},\n",
       " {_3DG},\n",
       " {FA},\n",
       " {_1DG},\n",
       " {AA},\n",
       " {Man},\n",
       " {Glu},\n",
       " {Mel},\n",
       " {MG},\n",
       " {Fru}]"
      ]
     },
     "execution_count": 26,
     "metadata": {},
     "output_type": "execute_result"
    }
   ],
   "source": [
    "SOM.soms"
   ]
  },
  {
   "cell_type": "code",
   "execution_count": null,
   "metadata": {},
   "outputs": [],
   "source": []
  }
 ],
 "metadata": {
  "kernelspec": {
   "display_name": "Python 3",
   "language": "python",
   "name": "python3"
  },
  "language_info": {
   "codemirror_mode": {
    "name": "ipython",
    "version": 3
   },
   "file_extension": ".py",
   "mimetype": "text/x-python",
   "name": "python",
   "nbconvert_exporter": "python",
   "pygments_lexer": "ipython3",
   "version": "3.6.3"
  }
 },
 "nbformat": 4,
 "nbformat_minor": 2
}
