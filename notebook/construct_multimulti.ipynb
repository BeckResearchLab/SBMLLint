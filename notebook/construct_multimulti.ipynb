{
 "cells": [
  {
   "cell_type": "code",
   "execution_count": 1,
   "metadata": {},
   "outputs": [
    {
     "name": "stdout",
     "output_type": "stream",
     "text": [
      "Current Directory: /Users/woosubshin/Desktop/ModelEngineering/SBMLLint/notebook\n"
     ]
    }
   ],
   "source": [
    "from games_setup import *\n",
    "from SBMLLint.games.som import SOM\n",
    "from SBMLLint.games.mesgraph import MESGraph\n",
    "import os\n",
    "import networkx as nx"
   ]
  },
  {
   "cell_type": "code",
   "execution_count": 2,
   "metadata": {},
   "outputs": [],
   "source": [
    "# following results from run_statistics\n",
    "multimulti_errors = ['BIOMD0000000471_url.xml', 'BIOMD0000000468_url.xml',\n",
    "'BIOMD0000000190_url.xml', 'BIOMD0000000572_url.xml',\n",
    "'BIOMD0000000051_url.xml', 'BIOMD0000000479_url.xml',\n",
    "'BIOMD0000000469_url.xml', 'BIOMD0000000175_url.xml',\n",
    "'BIOMD0000000247_url.xml', 'BIOMD0000000049_url.xml',\n",
    "'BIOMD0000000143_url.xml', 'BIOMD0000000470_url.xml',\n",
    "'BIOMD0000000235_url.xml', 'BIOMD0000000052_url.xml',\n",
    "'BIOMD0000000503_url.xml', 'BIOMD0000000426_url.xml',\n",
    "'BIOMD0000000105_url.xml', 'BIOMD0000000167_url.xml',\n",
    "'BIOMD0000000472_url.xml', 'BIOMD0000000245_url.xml',\n",
    "'BIOMD0000000496_url.xml', 'BIOMD0000000473_url.xml',\n",
    "'BIOMD0000000497_url.xml', 'BIOMD0000000248_url.xml',\n",
    "'BIOMD0000000565_url.xml', 'BIOMD0000000364_url.xml',\n",
    "'BIOMD0000000070_url.xml', 'BIOMD0000000232_url.xml',\n",
    "'BIOMD0000000467_url.xml', 'BIOMD0000000383_url.xml',\n",
    "'BIOMD0000000453_url.xml', 'BIOMD0000000112_url.xml',\n",
    "'BIOMD0000000217_url.xml', 'BIOMD0000000452_url.xml',\n",
    "'BIOMD0000000281_url.xml', 'BIOMD0000000439_url.xml',\n",
    "'MODEL0072364382_url.xml', 'BIOMD0000000253_url.xml',\n",
    "'BIOMD0000000243_url.xml', 'BIOMD0000000231_url.xml'\n",
    "]"
   ]
  },
  {
   "cell_type": "code",
   "execution_count": 3,
   "metadata": {},
   "outputs": [
    {
     "name": "stdout",
     "output_type": "stream",
     "text": [
      "No mass balance error found.\n",
      "************************************\n",
      "************************************\n",
      "Unfortunately(?), We don't have type III errors\n"
     ]
    },
    {
     "data": {
      "text/plain": [
       "{Glc}->{HMP}\n",
       "{HMP}->{Fru16P2}\n",
       "{Fru16P2}->{ADP, ATP}\n",
       "{ADP, ATP}->{HMP}\n",
       "{ADP, ATP}->{Fru16P2}\n",
       "{ADP, ATP}->{ADP, ATP}"
      ]
     },
     "execution_count": 3,
     "metadata": {},
     "output_type": "execute_result"
    }
   ],
   "source": [
    "num = -3\n",
    "simple = SimpleSBML()\n",
    "simple.initialize(os.path.join(cn.DATA_DIR, multimulti_errors[num]))\n",
    "m = MESGraph(simple)\n",
    "m.analyze(simple.reactions)"
   ]
  },
  {
   "cell_type": "code",
   "execution_count": 4,
   "metadata": {},
   "outputs": [
    {
     "name": "stdout",
     "output_type": "stream",
     "text": [
      "lower: Fru16P2 + 4.00 ADP -> 4.00 ATP\n"
     ]
    }
   ],
   "source": [
    "for r in simple.reactions:\n",
    "  if r.category == cn.REACTION_n_n:\n",
    "    print(r.makeIdentifier(is_include_kinetics=False))"
   ]
  },
  {
   "cell_type": "code",
   "execution_count": 5,
   "metadata": {},
   "outputs": [
    {
     "data": {
      "text/plain": [
       "[{Glc}, {HMP}, {Fru16P2}, {ADP, ATP}]"
      ]
     },
     "execution_count": 5,
     "metadata": {},
     "output_type": "execute_result"
    }
   ],
   "source": [
    "list(m.nodes)"
   ]
  },
  {
   "cell_type": "code",
   "execution_count": 6,
   "metadata": {},
   "outputs": [
    {
     "ename": "NameError",
     "evalue": "name 'lower' is not defined",
     "output_type": "error",
     "traceback": [
      "\u001b[0;31m---------------------------------------------------------------------------\u001b[0m",
      "\u001b[0;31mNameError\u001b[0m                                 Traceback (most recent call last)",
      "\u001b[0;32m<ipython-input-6-05d18ab2fec4>\u001b[0m in \u001b[0;36m<module>\u001b[0;34m()\u001b[0m\n\u001b[0;32m----> 1\u001b[0;31m \u001b[0mreaction\u001b[0m \u001b[0;34m=\u001b[0m \u001b[0mlower\u001b[0m\u001b[0;34m\u001b[0m\u001b[0m\n\u001b[0m\u001b[1;32m      2\u001b[0m \u001b[0msom\u001b[0m \u001b[0;34m=\u001b[0m \u001b[0mm\u001b[0m\u001b[0;34m.\u001b[0m\u001b[0mgetNode\u001b[0m\u001b[0;34m(\u001b[0m\u001b[0msimple\u001b[0m\u001b[0;34m.\u001b[0m\u001b[0mgetMolecule\u001b[0m\u001b[0;34m(\u001b[0m\u001b[0;34m'ADP'\u001b[0m\u001b[0;34m)\u001b[0m\u001b[0;34m)\u001b[0m\u001b[0;34m\u001b[0m\u001b[0m\n\u001b[1;32m      3\u001b[0m collections.deque([mole_stoich for mole_stoich in  \n\u001b[1;32m      4\u001b[0m                           \u001b[0mreaction\u001b[0m\u001b[0;34m.\u001b[0m\u001b[0mproducts\u001b[0m \u001b[0;32mif\u001b[0m\u001b[0;34m\u001b[0m\u001b[0m\n\u001b[1;32m      5\u001b[0m                        m.getNode(mole_stoich.molecule)==som])\n",
      "\u001b[0;31mNameError\u001b[0m: name 'lower' is not defined"
     ]
    }
   ],
   "source": [
    "reaction = lower\n",
    "som = m.getNode(simple.getMolecule('ADP'))\n",
    "collections.deque([mole_stoich for mole_stoich in  \n",
    "                          reaction.products if \n",
    "                       m.getNode(mole_stoich.molecule)==som])\n",
    "#                          mole_stoich.molecule in som.molecules])"
   ]
  },
  {
   "cell_type": "code",
   "execution_count": 7,
   "metadata": {},
   "outputs": [
    {
     "name": "stdout",
     "output_type": "stream",
     "text": [
      "SOM =  {Glc}\n",
      "(before) reactants_in deque([])\n",
      "(before) products_in deque([])\n",
      "(after) reactants_in deque([])\n",
      "(after) products_in deque([])\n",
      "SOM =  {HMP}\n",
      "(before) reactants_in deque([])\n",
      "(before) products_in deque([])\n",
      "(after) reactants_in deque([])\n",
      "(after) products_in deque([])\n",
      "SOM =  {Fru16P2}\n",
      "(before) reactants_in deque([Fru16P2 *  1.00])\n",
      "(before) products_in deque([])\n",
      "(after) reactants_in deque([Fru16P2 *  1.00])\n",
      "(after) products_in deque([])\n",
      "SOM =  {ADP, ATP}\n",
      "(before) reactants_in deque([ADP *  4.00])\n",
      "(before) products_in deque([ATP *  4.00])\n",
      "(after) reactants_in deque([])\n",
      "(after) products_in deque([])\n"
     ]
    },
    {
     "data": {
      "text/plain": [
       "1.0"
      ]
     },
     "execution_count": 7,
     "metadata": {},
     "output_type": "execute_result"
    }
   ],
   "source": [
    "lower = simple.getReaction('lower')\n",
    "reduced_lower = m.reduceReaction(lower)\n",
    "reduced_lower.reactants[0].stoichiometry"
   ]
  },
  {
   "cell_type": "code",
   "execution_count": 11,
   "metadata": {},
   "outputs": [
    {
     "data": {
      "text/plain": [
       "[Fru16P2 *  1.00]"
      ]
     },
     "execution_count": 11,
     "metadata": {},
     "output_type": "execute_result"
    }
   ],
   "source": [
    "reduced_lower.reactants"
   ]
  },
  {
   "cell_type": "code",
   "execution_count": 13,
   "metadata": {},
   "outputs": [
    {
     "name": "stdout",
     "output_type": "stream",
     "text": [
      "Unfortunately(?), We don't have type III errors\n"
     ]
    },
    {
     "data": {
      "text/plain": [
       "{Glc}->{HMP}\n",
       "{HMP}->{Fru16P2}\n",
       "{Fru16P2}->{ADP, ATP}\n",
       "{ADP, ATP}->{HMP}\n",
       "{ADP, ATP}->{Fru16P2}\n",
       "{ADP, ATP}->{ADP, ATP}"
      ]
     },
     "execution_count": 13,
     "metadata": {},
     "output_type": "execute_result"
    }
   ],
   "source": [
    "num = -3\n",
    "simple = SimpleSBML()\n",
    "simple.initialize(os.path.join(cn.DATA_DIR, multimulti_errors[num]))\n",
    "m = MESGraph(simple)\n",
    "m.analyze(error_details=False)"
   ]
  },
  {
   "cell_type": "code",
   "execution_count": 13,
   "metadata": {},
   "outputs": [
    {
     "data": {
      "text/plain": [
       "True"
      ]
     },
     "execution_count": 13,
     "metadata": {},
     "output_type": "execute_result"
    }
   ],
   "source": [
    "v2 = simple.getReaction('v2')\n",
    "m.processMultiMultiReaction(v2)"
   ]
  },
  {
   "cell_type": "code",
   "execution_count": 15,
   "metadata": {},
   "outputs": [
    {
     "data": {
      "text/plain": [
       "[]"
      ]
     },
     "execution_count": 15,
     "metadata": {},
     "output_type": "execute_result"
    }
   ],
   "source": [
    "m.type_three_errors"
   ]
  },
  {
   "cell_type": "code",
   "execution_count": 125,
   "metadata": {},
   "outputs": [],
   "source": [
    "def checkTypeThreeError(som1, som2, reaction):\n",
    "  if m.has_edge(som1, som2):\n",
    "    addTypeThreeError(som1, som2, reaction)\n",
    "    return True\n",
    "  elif m.has_edge(som2, som1):\n",
    "    addTypeThreeError(som2, som1, reaction)\n",
    "    return True\n",
    "  return False\n",
    "\n",
    "def mergeNodes(som1, som2, reaction):\n",
    "  # Now mergeNodes assumes there is no error;\n",
    "  # otherwise we would have already detected by checkTypeThreeError\n",
    "  # (a) create a new SOM: som1.merge(som2)\n",
    "  # (b) find edges starting or ending with som1/som2 and replace with this new SOM\n",
    "  # delete som1 and som2 using remove_nodes_from\n",
    "  new_som = som1.merge(som2)\n",
    "  new_som.reactions.add(reaction)\n",
    "  for som in [som1, som2]:\n",
    "    for edge in list(m.in_edges(som)):\n",
    "      remaining_som = edge[0]\n",
    "      # add arc\n",
    "      m.add_edge(remaining_som, new_som)  \n",
    "    for edge in list(m.out_edges(som)):\n",
    "      remaining_som = edge[1]\n",
    "      # add arc\n",
    "      m.add_edge(new_som, remaining_som) \n",
    "  m.remove_nodes_from([som1, som2])\n",
    "  if not has_node(new_som):\n",
    "    m.add_node(new_som)\n",
    "  return m"
   ]
  },
  {
   "cell_type": "code",
   "execution_count": 78,
   "metadata": {},
   "outputs": [],
   "source": [
    "def processMultiMultiReaction(reaction):\n",
    "  pass\n",
    "  # if all reactants are in one som, and all products are in one som\n",
    "  # they must be the same (mergeSOM and update graph nodes & edges)\n",
    "  flag = False\n",
    "  reactants = [ms.molecule for ms in reaction.reactants]\n",
    "  products = [ms.molecule for ms in reaction.products]\n",
    "  reactant_soms = list({m.getNode(mole) for mole in reactants})\n",
    "  product_soms = list({m.getNode(mole) for mole in products})\n",
    "  print(reactant_soms)\n",
    "  print(product_soms)\n",
    "  if (len(reactant_soms)==1) and (len(product_soms)==1):\n",
    "    flag = True\n",
    "    # we should remove this multimulti reaction from self.multimulti_reactions\n",
    "    reactant_stoichiometry = sum([ms.stoichiometry for ms in reaction.reactants])\n",
    "    product_stoichiometry = sum([ms.stoichiometry for ms in reaction.products])\n",
    "    if reactant_stoichiometry == product_stoichiometry:\n",
    "        if reactant_soms[0] != product_soms[0]:\n",
    "          if not checkTypeThreeError(som1, som2, reaction):\n",
    "            mergeNodes(som1, som2, reaction)\n",
    "        else:\n",
    "          # this is obvious. pass (just add reaction)\n",
    "          pass\n",
    "    elif reactant_stoichciometry > product_stoichiometry:\n",
    "      # meaning add arc from reactant_som -> product_som\n",
    "      # check type I error and addArc\n",
    "    else:\n",
    "      # meaning add arc from product_som -> reactant_som\n",
    "      # checck type I error and addArc\n",
    "  else:\n",
    "    # DON'T FORGET TO REMOVE THIS REACTION FROM SELF.MULTIMULTI_REACTIONS\n",
    "    # now, we should reduce reaction\n",
    "    # reduce reaction = namedtuple(label, reactants, products)\n",
    "    # because of the above \n",
    "    # it doesn't merge soms but only add arcs (or type I errors)\n",
    "    \n",
    "    # flag = True if reduced reaction was used\n",
    "    \n",
    "\n",
    "  # elif, if both sides have the same som elements, reduce them by stoichiometry\n",
    "  m.identifier = m.makeId()\n",
    "  return flag"
   ]
  },
  {
   "cell_type": "code",
   "execution_count": 71,
   "metadata": {},
   "outputs": [],
   "source": [
    "g = nx.DiGraph()\n",
    "g.add_edges_from([('a', 'b'), ('b', 'c'), ('c', 'd'), ('d', 'a'), ('a', 'e'), \n",
    "                  ('c', 'e'), ('f', 'c')])\n",
    "# if remove 'a', all connected edges are deleted as well. But all nodes will still remain\n",
    "g.remove_node('a')"
   ]
  },
  {
   "cell_type": "code",
   "execution_count": 72,
   "metadata": {},
   "outputs": [
    {
     "name": "stdout",
     "output_type": "stream",
     "text": [
      "[('b', 'c'), ('c', 'd'), ('c', 'e'), ('f', 'c')]\n",
      "['b', 'c', 'd', 'e', 'f']\n"
     ]
    }
   ],
   "source": [
    "print(g.edges)\n",
    "print(g.nodes)"
   ]
  },
  {
   "cell_type": "code",
   "execution_count": 73,
   "metadata": {},
   "outputs": [
    {
     "data": {
      "text/plain": [
       "[2, 3, 4, 5, 1]"
      ]
     },
     "execution_count": 73,
     "metadata": {},
     "output_type": "execute_result"
    }
   ],
   "source": [
    "a = [1, 2, 3, 4, 5]\n",
    "a[1:] + [a[0]]"
   ]
  },
  {
   "cell_type": "code",
   "execution_count": 74,
   "metadata": {},
   "outputs": [
    {
     "name": "stdout",
     "output_type": "stream",
     "text": [
      "before [('b', 'c'), ('f', 'c')]\n",
      "after [('b', 'z'), ('f', 'z')]\n"
     ]
    }
   ],
   "source": [
    "print(\"before\", g.in_edges('c'))\n",
    "for edge in list(g.in_edges('c')):\n",
    "  remaining_som = edge[0]\n",
    "  g.add_edge(remaining_som, 'z')\n",
    "  g.remove_edge(edge[0], edge[1])\n",
    "print(\"after\", g.in_edges('z'))"
   ]
  },
  {
   "cell_type": "code",
   "execution_count": 75,
   "metadata": {},
   "outputs": [
    {
     "data": {
      "text/plain": [
       "OutEdgeView([('b', 'z'), ('c', 'd'), ('c', 'e'), ('f', 'z')])"
      ]
     },
     "execution_count": 75,
     "metadata": {},
     "output_type": "execute_result"
    }
   ],
   "source": [
    "g.edges"
   ]
  },
  {
   "cell_type": "code",
   "execution_count": 8,
   "metadata": {},
   "outputs": [
    {
     "data": {
      "text/plain": [
       "[{Glc}, {HMP}, {Fru16P2}, {ADP, ATP}]"
      ]
     },
     "execution_count": 8,
     "metadata": {},
     "output_type": "execute_result"
    }
   ],
   "source": [
    "list(m.nodes)"
   ]
  },
  {
   "cell_type": "code",
   "execution_count": null,
   "metadata": {},
   "outputs": [],
   "source": []
  }
 ],
 "metadata": {
  "kernelspec": {
   "display_name": "Python 3",
   "language": "python",
   "name": "python3"
  },
  "language_info": {
   "codemirror_mode": {
    "name": "ipython",
    "version": 3
   },
   "file_extension": ".py",
   "mimetype": "text/x-python",
   "name": "python",
   "nbconvert_exporter": "python",
   "pygments_lexer": "ipython3",
   "version": "3.6.3"
  }
 },
 "nbformat": 4,
 "nbformat_minor": 2
}
