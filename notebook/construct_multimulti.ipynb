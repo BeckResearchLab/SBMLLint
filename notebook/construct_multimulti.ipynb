{
 "cells": [
  {
   "cell_type": "code",
   "execution_count": 1,
   "metadata": {},
   "outputs": [
    {
     "name": "stdout",
     "output_type": "stream",
     "text": [
      "Current Directory: /Users/woosubshin/Desktop/ModelEngineering/SBMLLint/notebook\n"
     ]
    }
   ],
   "source": [
    "from games_setup import *\n",
    "from SBMLLint.games.som import SOM\n",
    "from SBMLLint.games.mesgraph import MESGraph\n",
    "import os\n",
    "import networkx as nx"
   ]
  },
  {
   "cell_type": "code",
   "execution_count": 98,
   "metadata": {},
   "outputs": [],
   "source": [
    "# following results from run_statistics\n",
    "multimulti_errors = ['BIOMD0000000471_url.xml', 'BIOMD0000000468_url.xml',\n",
    "'BIOMD0000000190_url.xml', 'BIOMD0000000572_url.xml',\n",
    "'BIOMD0000000051_url.xml', 'BIOMD0000000479_url.xml',\n",
    "'BIOMD0000000469_url.xml', 'BIOMD0000000175_url.xml',\n",
    "'BIOMD0000000247_url.xml', 'BIOMD0000000049_url.xml',\n",
    "'BIOMD0000000143_url.xml', 'BIOMD0000000470_url.xml',\n",
    "'BIOMD0000000235_url.xml', 'BIOMD0000000052_url.xml',\n",
    "'BIOMD0000000503_url.xml', 'BIOMD0000000426_url.xml',\n",
    "'BIOMD0000000105_url.xml', 'BIOMD0000000167_url.xml',\n",
    "'BIOMD0000000472_url.xml', 'BIOMD0000000245_url.xml',\n",
    "'BIOMD0000000496_url.xml', 'BIOMD0000000473_url.xml',\n",
    "'BIOMD0000000497_url.xml', 'BIOMD0000000248_url.xml',\n",
    "'BIOMD0000000565_url.xml', 'BIOMD0000000364_url.xml',\n",
    "'BIOMD0000000070_url.xml', 'BIOMD0000000232_url.xml',\n",
    "'BIOMD0000000467_url.xml', 'BIOMD0000000383_url.xml',\n",
    "'BIOMD0000000453_url.xml', 'BIOMD0000000112_url.xml',\n",
    "'BIOMD0000000217_url.xml', 'BIOMD0000000452_url.xml',\n",
    "'BIOMD0000000281_url.xml', 'BIOMD0000000439_url.xml',\n",
    "'MODEL0072364382_url.xml', 'BIOMD0000000253_url.xml',\n",
    "'BIOMD0000000243_url.xml', 'BIOMD0000000231_url.xml'\n",
    "]"
   ]
  },
  {
   "cell_type": "code",
   "execution_count": 99,
   "metadata": {},
   "outputs": [
    {
     "data": {
      "text/plain": [
       "'BIOMD0000000231_url.xml'"
      ]
     },
     "execution_count": 99,
     "metadata": {},
     "output_type": "execute_result"
    }
   ],
   "source": [
    "multimulti_errors[-1]"
   ]
  },
  {
   "cell_type": "code",
   "execution_count": 100,
   "metadata": {},
   "outputs": [],
   "source": [
    "num = -1\n",
    "simple = SimpleSBML()\n",
    "simple.initialize(os.path.join(cn.DATA_DIR, multimulti_errors[num]))"
   ]
  },
  {
   "cell_type": "code",
   "execution_count": 101,
   "metadata": {},
   "outputs": [
    {
     "data": {
      "text/plain": [
       "[v1: ATP -> AMP; Vmapp1 * ATP / (Kmapp1 + ATP),\n",
       " v2: ATP + AMP -> 2.00 ADP; Vm2 * ATP * AMP / (K + Km2ATP * AMP + Km2AMP * ATP + ATP * AMP),\n",
       " v3: ADP -> ATP + Pyr; Vmapp3 * ADP / (Kmapp3 + ADP),\n",
       " v4: Pyr + NADH -> Lac; k4 * Pyr]"
      ]
     },
     "execution_count": 101,
     "metadata": {},
     "output_type": "execute_result"
    }
   ],
   "source": [
    "simple.reactions"
   ]
  },
  {
   "cell_type": "code",
   "execution_count": 118,
   "metadata": {},
   "outputs": [
    {
     "name": "stdout",
     "output_type": "stream",
     "text": [
      "************************************\n",
      "No mass balance error found.\n"
     ]
    },
    {
     "data": {
      "text/plain": [
       "{Pyr}->{ADP}\n",
       "{Pyr}->{Lac}\n",
       "{NADH}->{Lac}\n",
       "{AMP, ATP}->{ADP}"
      ]
     },
     "execution_count": 118,
     "metadata": {},
     "output_type": "execute_result"
    }
   ],
   "source": [
    "m = MESGraph(simple)\n",
    "m.analyze()"
   ]
  },
  {
   "cell_type": "code",
   "execution_count": 119,
   "metadata": {},
   "outputs": [
    {
     "data": {
      "text/plain": [
       "[v2: ATP + AMP -> 2.00 ADP; Vm2 * ATP * AMP / (K + Km2ATP * AMP + Km2AMP * ATP + ATP * AMP)]"
      ]
     },
     "execution_count": 119,
     "metadata": {},
     "output_type": "execute_result"
    }
   ],
   "source": [
    "m.multimulti_reactions"
   ]
  },
  {
   "cell_type": "code",
   "execution_count": 121,
   "metadata": {},
   "outputs": [
    {
     "data": {
      "text/plain": [
       "ATP *  1.00"
      ]
     },
     "execution_count": 121,
     "metadata": {},
     "output_type": "execute_result"
    }
   ],
   "source": [
    "v2 = simple.getReaction('v2')\n",
    "v2.reactants[0]"
   ]
  },
  {
   "cell_type": "code",
   "execution_count": 122,
   "metadata": {},
   "outputs": [
    {
     "name": "stdout",
     "output_type": "stream",
     "text": [
      "[{ADP}, {Pyr}, {NADH}, {Lac}, {AMP, ATP}]\n"
     ]
    }
   ],
   "source": [
    "print(m.nodes)\n",
    "adp = list(m.nodes)[0]\n",
    "ampatp = list(m.nodes)[-1]\n",
    "pyr = list(m.nodes)[1]\n",
    "nadh = list(m.nodes)[2]"
   ]
  },
  {
   "cell_type": "code",
   "execution_count": 123,
   "metadata": {},
   "outputs": [
    {
     "data": {
      "text/plain": [
       "{Pyr}->{Lac}\n",
       "{Pyr}->{ADP, NADH}\n",
       "{AMP, ATP}->{ADP, NADH}\n",
       "{ADP, NADH}->{Lac}"
      ]
     },
     "execution_count": 123,
     "metadata": {},
     "output_type": "execute_result"
    }
   ],
   "source": [
    "mergeGraph(nadh, adp)"
   ]
  },
  {
   "cell_type": "code",
   "execution_count": 124,
   "metadata": {},
   "outputs": [
    {
     "data": {
      "text/plain": [
       "NodeView(({Pyr}, {Lac}, {AMP, ATP}, {ADP, NADH}))"
      ]
     },
     "execution_count": 124,
     "metadata": {},
     "output_type": "execute_result"
    }
   ],
   "source": [
    "m.nodes"
   ]
  },
  {
   "cell_type": "code",
   "execution_count": 125,
   "metadata": {},
   "outputs": [],
   "source": [
    "def checkTypeThreeError(som1, som2, reaction):\n",
    "  if m.has_edge(som1, som2):\n",
    "    addTypeThreeError(som1, som2, reaction)\n",
    "    return True\n",
    "  elif m.has_edge(som2, som1):\n",
    "    addTypeThreeError(som2, som1, reaction)\n",
    "    return True\n",
    "  return False\n",
    "\n",
    "def mergeNodes(som1, som2, reaction):\n",
    "  # Now mergeNodes assumes there is no error;\n",
    "  # otherwise we would have already detected by checkTypeThreeError\n",
    "  # (a) create a new SOM: som1.merge(som2)\n",
    "  # (b) find edges starting or ending with som1/som2 and replace with this new SOM\n",
    "  # delete som1 and som2 using remove_nodes_from\n",
    "  new_som = som1.merge(som2)\n",
    "  new_som.reactions.add(reaction)\n",
    "  for som in [som1, som2]:\n",
    "    for edge in list(m.in_edges(som)):\n",
    "      remaining_som = edge[0]\n",
    "      # add arc\n",
    "      m.add_edge(remaining_som, new_som)  \n",
    "    for edge in list(m.out_edges(som)):\n",
    "      remaining_som = edge[1]\n",
    "      # add arc\n",
    "      m.add_edge(new_som, remaining_som) \n",
    "  m.remove_nodes_from([som1, som2])\n",
    "  if not has_node(new_som):\n",
    "    m.add_node(new_som)\n",
    "  return m"
   ]
  },
  {
   "cell_type": "code",
   "execution_count": 78,
   "metadata": {},
   "outputs": [],
   "source": [
    "def processMultiMultiReaction(reaction):\n",
    "  pass\n",
    "  # if all reactants are in one som, and all products are in one som\n",
    "  # they must be the same (mergeSOM and update graph nodes & edges)\n",
    "  flag = False\n",
    "  reactants = [ms.molecule for ms in reaction.reactants]\n",
    "  products = [ms.molecule for ms in reaction.products]\n",
    "  reactant_soms = list({m.getNode(mole) for mole in reactants})\n",
    "  product_soms = list({m.getNode(mole) for mole in products})\n",
    "  print(reactant_soms)\n",
    "  print(product_soms)\n",
    "  if (len(reactant_soms)==1) and (len(product_soms)==1):\n",
    "    flag = True\n",
    "    # we should remove this multimulti reaction from self.multimulti_reactions\n",
    "    reactant_stoichiometry = sum([ms.stoichiometry for ms in reaction.reactants])\n",
    "    product_stoichiometry = sum([ms.stoichiometry for ms in reaction.products])\n",
    "    if reactant_stoichiometry == product_stoichiometry:\n",
    "        if reactant_soms[0] != product_soms[0]:\n",
    "          if not checkTypeThreeError(som1, som2, reaction):\n",
    "            mergeNodes(som1, som2, reaction)\n",
    "        else:\n",
    "          # this is obvious. pass (just add reaction)\n",
    "          pass\n",
    "    elif reactant_stoichciometry > product_stoichiometry:\n",
    "      # meaning add arc from reactant_som -> product_som\n",
    "      # check type I error and addArc\n",
    "    else:\n",
    "      # meaning add arc from product_som -> reactant_som\n",
    "      # checck type I error and addArc\n",
    "  else:\n",
    "    # DON'T FORGET TO REMOVE THIS REACTION FROM SELF.MULTIMULTI_REACTIONS\n",
    "    # now, we should reduce reaction\n",
    "    # reduce reaction = namedtuple(label, reactants, products)\n",
    "    # because of the above \n",
    "    # it doesn't merge soms but only add arcs (or type I errors)\n",
    "    \n",
    "    # flag = True if reduced reaction was used\n",
    "    \n",
    "\n",
    "  # elif, if both sides have the same som elements, reduce them by stoichiometry\n",
    "  m.identifier = m.makeId()\n",
    "  return flag"
   ]
  },
  {
   "cell_type": "code",
   "execution_count": 71,
   "metadata": {},
   "outputs": [],
   "source": [
    "g = nx.DiGraph()\n",
    "g.add_edges_from([('a', 'b'), ('b', 'c'), ('c', 'd'), ('d', 'a'), ('a', 'e'), \n",
    "                  ('c', 'e'), ('f', 'c')])\n",
    "# if remove 'a', all connected edges are deleted as well. But all nodes will still remain\n",
    "g.remove_node('a')"
   ]
  },
  {
   "cell_type": "code",
   "execution_count": 72,
   "metadata": {},
   "outputs": [
    {
     "name": "stdout",
     "output_type": "stream",
     "text": [
      "[('b', 'c'), ('c', 'd'), ('c', 'e'), ('f', 'c')]\n",
      "['b', 'c', 'd', 'e', 'f']\n"
     ]
    }
   ],
   "source": [
    "print(g.edges)\n",
    "print(g.nodes)"
   ]
  },
  {
   "cell_type": "code",
   "execution_count": 73,
   "metadata": {},
   "outputs": [
    {
     "data": {
      "text/plain": [
       "[2, 3, 4, 5, 1]"
      ]
     },
     "execution_count": 73,
     "metadata": {},
     "output_type": "execute_result"
    }
   ],
   "source": [
    "a = [1, 2, 3, 4, 5]\n",
    "a[1:] + [a[0]]"
   ]
  },
  {
   "cell_type": "code",
   "execution_count": 74,
   "metadata": {},
   "outputs": [
    {
     "name": "stdout",
     "output_type": "stream",
     "text": [
      "before [('b', 'c'), ('f', 'c')]\n",
      "after [('b', 'z'), ('f', 'z')]\n"
     ]
    }
   ],
   "source": [
    "print(\"before\", g.in_edges('c'))\n",
    "for edge in list(g.in_edges('c')):\n",
    "  remaining_som = edge[0]\n",
    "  g.add_edge(remaining_som, 'z')\n",
    "  g.remove_edge(edge[0], edge[1])\n",
    "print(\"after\", g.in_edges('z'))"
   ]
  },
  {
   "cell_type": "code",
   "execution_count": 75,
   "metadata": {},
   "outputs": [
    {
     "data": {
      "text/plain": [
       "OutEdgeView([('b', 'z'), ('c', 'd'), ('c', 'e'), ('f', 'z')])"
      ]
     },
     "execution_count": 75,
     "metadata": {},
     "output_type": "execute_result"
    }
   ],
   "source": [
    "g.edges"
   ]
  },
  {
   "cell_type": "code",
   "execution_count": null,
   "metadata": {},
   "outputs": [],
   "source": [
    "g.remo"
   ]
  }
 ],
 "metadata": {
  "kernelspec": {
   "display_name": "Python 3",
   "language": "python",
   "name": "python3"
  },
  "language_info": {
   "codemirror_mode": {
    "name": "ipython",
    "version": 3
   },
   "file_extension": ".py",
   "mimetype": "text/x-python",
   "name": "python",
   "nbconvert_exporter": "python",
   "pygments_lexer": "ipython3",
   "version": "3.6.3"
  }
 },
 "nbformat": 4,
 "nbformat_minor": 2
}
