{
 "cells": [
  {
   "cell_type": "code",
   "execution_count": 1,
   "metadata": {},
   "outputs": [
    {
     "name": "stdout",
     "output_type": "stream",
     "text": [
      "/Users/woosubshin/Desktop/ModelEngineering/SBMLLint/SBMLLint/notebook\n"
     ]
    }
   ],
   "source": [
    "import collections\n",
    "import itertools  \n",
    "import matplotlib.pyplot as plt\n",
    "import networkx as nx\n",
    "import os\n",
    "import tellurium as te\n",
    "import tesbml\n",
    "import os, sys\n",
    "cwd = os.getcwd()\n",
    "print(cwd)"
   ]
  },
  {
   "cell_type": "code",
   "execution_count": 2,
   "metadata": {},
   "outputs": [
    {
     "name": "stdout",
     "output_type": "stream",
     "text": [
      "/Users/woosubshin/Desktop/ModelEngineering/SBMLLint/SBMLLint\n"
     ]
    }
   ],
   "source": [
    "#parent_dir = os.path.abspath(os.path.join(cwd, os.pardir, 'SBMLLint'))\n",
    "parent_dir = os.path.abspath(os.path.join(cwd, os.pardir))\n",
    "print(parent_dir)"
   ]
  },
  {
   "cell_type": "code",
   "execution_count": 3,
   "metadata": {},
   "outputs": [
    {
     "name": "stdout",
     "output_type": "stream",
     "text": [
      "/Users/woosubshin/Desktop/ModelEngineering/SBMLLint/SBMLLint\n"
     ]
    }
   ],
   "source": [
    "os.chdir(parent_dir)\n",
    "print(os.getcwd())"
   ]
  },
  {
   "cell_type": "code",
   "execution_count": 4,
   "metadata": {},
   "outputs": [],
   "source": [
    "#import os, sys, inspect\n",
    "#import inspect\n",
    "#cmd_folder = os.path.realpath(os.path.abspath(os.path.split(inspect.getfile( inspect.currentframe() ))[0]))\n",
    "#if cmd_folder not in sys.path:\n",
    "#     sys.path.insert(0, cmd_folder)"
   ]
  },
  {
   "cell_type": "code",
   "execution_count": 5,
   "metadata": {},
   "outputs": [],
   "source": [
    "from SBMLLint.common import constants as cn\n",
    "from SBMLLint.common.molecule import Molecule\n",
    "from SBMLLint.common.reaction import Reaction\n",
    "from SBMLLint.games import print_model as pm"
   ]
  },
  {
   "cell_type": "code",
   "execution_count": 6,
   "metadata": {},
   "outputs": [
    {
     "data": {
      "text/plain": [
       "'/Users/woosubshin/Desktop/ModelEngineering/SBMLLint/SBMLLint'"
      ]
     },
     "execution_count": 6,
     "metadata": {},
     "output_type": "execute_result"
    }
   ],
   "source": [
    "os.getcwd()"
   ]
  },
  {
   "cell_type": "code",
   "execution_count": 7,
   "metadata": {},
   "outputs": [
    {
     "name": "stdout",
     "output_type": "stream",
     "text": [
      "/Users/woosubshin/Desktop/ModelEngineering/SBMLLint/SBMLLint/notebook\n"
     ]
    }
   ],
   "source": [
    "print(cwd)"
   ]
  },
  {
   "cell_type": "code",
   "execution_count": 8,
   "metadata": {},
   "outputs": [
    {
     "name": "stdout",
     "output_type": "stream",
     "text": [
      "<Model vilarOscillator \"Vilar2002_Oscillator\">\n",
      "Reaction1: A + R -> C;\n",
      "Reaction2: A -> EmptySet;\n",
      "Reaction3: C -> R;\n",
      "Reaction4: R -> EmptySet;\n",
      "Reaction5: A + DA -> DAp;\n",
      "Reaction6: DAp -> A + DA;\n",
      "Reaction7: DA -> DA + MA;\n",
      "Reaction8: DAp -> DAp + MA;\n",
      "Reaction9: MA -> EmptySet;\n",
      "Reaction10: MA -> A + MA;\n",
      "Reaction11: A + DR -> DRp;\n",
      "Reaction12: DRp -> A + DR;\n",
      "Reaction13: DR -> DR + MR;\n",
      "Reaction14: DRp -> DRp + MR;\n",
      "Reaction15: MR -> EmptySet;\n",
      "Reaction16: MR -> MR + R;\n"
     ]
    }
   ],
   "source": [
    "num = 35\n",
    "format_num = format(num, '03d')\n",
    "document = tesbml.readSBML(os.path.join(os.getcwd(), 'SBMLLint/games/data/curated_' + format_num + '.xml'))\n",
    "model = document.getModel()\n",
    "pm.print_model(model)"
   ]
  },
  {
   "cell_type": "code",
   "execution_count": 9,
   "metadata": {},
   "outputs": [
    {
     "name": "stdout",
     "output_type": "stream",
     "text": [
      "<class 'SBMLLint.common.molecule.Molecule'>\n",
      "<class 'SBMLLint.common.reaction.Reaction'>\n"
     ]
    }
   ],
   "source": [
    "print(Molecule)\n",
    "print(Reaction)"
   ]
  },
  {
   "cell_type": "code",
   "execution_count": 10,
   "metadata": {},
   "outputs": [],
   "source": [
    "reaction1 = model.getReaction(0)\n",
    "reaction2 = model.getReaction(2)"
   ]
  },
  {
   "cell_type": "code",
   "execution_count": 11,
   "metadata": {},
   "outputs": [],
   "source": [
    "a = Reaction(reaction1)\n",
    "b = Reaction(reaction2)"
   ]
  },
  {
   "cell_type": "code",
   "execution_count": 12,
   "metadata": {},
   "outputs": [
    {
     "data": {
      "text/plain": [
       "[A + R -> C, C -> R]"
      ]
     },
     "execution_count": 12,
     "metadata": {},
     "output_type": "execute_result"
    }
   ],
   "source": [
    "Reaction.reactions"
   ]
  },
  {
   "cell_type": "code",
   "execution_count": 14,
   "metadata": {},
   "outputs": [
    {
     "name": "stdout",
     "output_type": "stream",
     "text": [
      "[MoleculeStoichiometry(molecule=C, stoichiometry=1.0)]\n",
      "[MoleculeStoichiometry(molecule=R, stoichiometry=1.0)]\n"
     ]
    }
   ],
   "source": [
    "print(Reaction.reactions[1].reactants)\n",
    "print(Reaction.reactions[1].products)"
   ]
  },
  {
   "cell_type": "code",
   "execution_count": 15,
   "metadata": {},
   "outputs": [
    {
     "data": {
      "text/plain": [
       "[MoleculeStoichiometry(molecule=C, stoichiometry=1.0)]"
      ]
     },
     "execution_count": 15,
     "metadata": {},
     "output_type": "execute_result"
    }
   ],
   "source": [
    "a.products"
   ]
  },
  {
   "cell_type": "code",
   "execution_count": 16,
   "metadata": {},
   "outputs": [
    {
     "data": {
      "text/plain": [
       "[MoleculeStoichiometry(molecule=C, stoichiometry=1.0)]"
      ]
     },
     "execution_count": 16,
     "metadata": {},
     "output_type": "execute_result"
    }
   ],
   "source": [
    "b.reactants"
   ]
  },
  {
   "cell_type": "code",
   "execution_count": 17,
   "metadata": {},
   "outputs": [
    {
     "data": {
      "text/plain": [
       "[MoleculeStoichiometry(molecule=R, stoichiometry=1.0)]"
      ]
     },
     "execution_count": 17,
     "metadata": {},
     "output_type": "execute_result"
    }
   ],
   "source": [
    "b.products"
   ]
  },
  {
   "cell_type": "code",
   "execution_count": 18,
   "metadata": {},
   "outputs": [
    {
     "data": {
      "text/plain": [
       "'reaction_n_1'"
      ]
     },
     "execution_count": 18,
     "metadata": {},
     "output_type": "execute_result"
    }
   ],
   "source": [
    "a.category"
   ]
  },
  {
   "cell_type": "code",
   "execution_count": 19,
   "metadata": {},
   "outputs": [
    {
     "data": {
      "text/plain": [
       "'reaction_1_1'"
      ]
     },
     "execution_count": 19,
     "metadata": {},
     "output_type": "execute_result"
    }
   ],
   "source": [
    "b.category"
   ]
  },
  {
   "cell_type": "code",
   "execution_count": 20,
   "metadata": {},
   "outputs": [
    {
     "data": {
      "text/plain": [
       "'A + R -> C'"
      ]
     },
     "execution_count": 20,
     "metadata": {},
     "output_type": "execute_result"
    }
   ],
   "source": [
    "a.identifier"
   ]
  },
  {
   "cell_type": "code",
   "execution_count": 21,
   "metadata": {},
   "outputs": [
    {
     "data": {
      "text/plain": [
       "'C -> R'"
      ]
     },
     "execution_count": 21,
     "metadata": {},
     "output_type": "execute_result"
    }
   ],
   "source": [
    "b.identifier"
   ]
  },
  {
   "cell_type": "code",
   "execution_count": 22,
   "metadata": {},
   "outputs": [
    {
     "data": {
      "text/plain": [
       "SBMLLint.common.reaction.Reaction"
      ]
     },
     "execution_count": 22,
     "metadata": {},
     "output_type": "execute_result"
    }
   ],
   "source": [
    "type(Reaction.reactions[0])"
   ]
  },
  {
   "cell_type": "code",
   "execution_count": 63,
   "metadata": {},
   "outputs": [],
   "source": [
    "#ReactionCategory = collections.namedtuple('ReactionCategory',\n",
    "#    'category predicate')\n",
    "MoleculeStoichiometry = collections.namedtuple('Molecule', 'molecule stoichiometry')"
   ]
  },
  {
   "cell_type": "code",
   "execution_count": 64,
   "metadata": {},
   "outputs": [
    {
     "data": {
      "text/plain": [
       "Molecule(molecule=a, stoichiometry=2)"
      ]
     },
     "execution_count": 64,
     "metadata": {},
     "output_type": "execute_result"
    }
   ],
   "source": [
    "MoleculeStoichiometry(molecule = Molecule.molecules[0], stoichiometry = 2)"
   ]
  },
  {
   "cell_type": "code",
   "execution_count": null,
   "metadata": {},
   "outputs": [],
   "source": []
  },
  {
   "cell_type": "code",
   "execution_count": 24,
   "metadata": {},
   "outputs": [],
   "source": [
    "\"\"\"Set of Molecules(SOM)\"\"\"\n",
    "\n",
    "from SBMLLint.common import constants as cn\n",
    "from SBMLLint.common.molecule import Molecule\n",
    "from SBMLLint.common.reaction import Reaction\n",
    "from SBMLLint.common.simple_sbml import SimpleSBML\n",
    "\n",
    "import numpy as np"
   ]
  },
  {
   "cell_type": "code",
   "execution_count": 67,
   "metadata": {},
   "outputs": [],
   "source": [
    "BRACKET_OPEN = \"{\"\n",
    "BRACKET_CLOSE = \"}\"\n",
    "\n",
    "class SOM(object):\n",
    "    soms = []  # All SOMs. \n",
    "    def __init__(self, molecule):\n",
    "        \"\"\"\n",
    "        :param molecules Molecule instances:\n",
    "        :param reactions Reaction instances:\n",
    "        \"\"\"\n",
    "        self.molecules = {molecule}\n",
    "        self.reactions = set()\n",
    "        self.identifier = self.makeId()\n",
    "        self.__class__.addSOM(self)\n",
    "\n",
    "    def __repr__(self):\n",
    "        return self.identifier        \n",
    "        \n",
    "    def makeId(self):\n",
    "        \"\"\"\n",
    "        Creates an identifier for the SOM to uniquely\n",
    "        identifies its elements.\n",
    "        :return str:\n",
    "        \"\"\"\n",
    "        def joinMoleculeNames(molecules):\n",
    "          names = [m.name for m in molecules]\n",
    "          names.sort()\n",
    "          return ' + '.join(names)\n",
    "        #\n",
    "        identifier = \"%s%s%s\" % (\n",
    "            BRACKET_OPEN, \n",
    "            joinMoleculeNames(list(self.molecules)),\n",
    "            BRACKET_CLOSE\n",
    "            )\n",
    "        return identifier\n",
    "        \n",
    "    @classmethod    \n",
    "    def addSOM(cls, new_som):\n",
    "        if any([new_som.molecules.intersection(s.molecules) for s in cls.soms]):\n",
    "          pass\n",
    "        else:\n",
    "          cls.soms.append(new_som)\n",
    "        "
   ]
  },
  {
   "cell_type": "code",
   "execution_count": 68,
   "metadata": {},
   "outputs": [
    {
     "data": {
      "text/plain": [
       "{R}"
      ]
     },
     "execution_count": 68,
     "metadata": {},
     "output_type": "execute_result"
    }
   ],
   "source": [
    "SOM(Molecule.molecules[0])\n",
    "SOM(Molecule.molecules[1])"
   ]
  },
  {
   "cell_type": "code",
   "execution_count": 72,
   "metadata": {},
   "outputs": [
    {
     "data": {
      "text/plain": [
       "'{A}'"
      ]
     },
     "execution_count": 72,
     "metadata": {},
     "output_type": "execute_result"
    }
   ],
   "source": [
    "SOM.soms[0].identifier"
   ]
  },
  {
   "cell_type": "code",
   "execution_count": 63,
   "metadata": {},
   "outputs": [
    {
     "ename": "NameError",
     "evalue": "name 'string' is not defined",
     "output_type": "error",
     "traceback": [
      "\u001b[0;31m---------------------------------------------------------------------------\u001b[0m",
      "\u001b[0;31mNameError\u001b[0m                                 Traceback (most recent call last)",
      "\u001b[0;32m<ipython-input-63-29179f3734ef>\u001b[0m in \u001b[0;36m<module>\u001b[0;34m()\u001b[0m\n\u001b[0;32m----> 1\u001b[0;31m \u001b[0mstring\u001b[0m\u001b[0;34m(\u001b[0m\u001b[0;34m{\u001b[0m\u001b[0;34m'a'\u001b[0m\u001b[0;34m,\u001b[0m \u001b[0;34m'b'\u001b[0m\u001b[0;34m}\u001b[0m\u001b[0;34m)\u001b[0m\u001b[0;34m\u001b[0m\u001b[0m\n\u001b[0m",
      "\u001b[0;31mNameError\u001b[0m: name 'string' is not defined"
     ]
    }
   ],
   "source": []
  },
  {
   "cell_type": "code",
   "execution_count": 39,
   "metadata": {},
   "outputs": [
    {
     "name": "stdout",
     "output_type": "stream",
     "text": [
      "True\n",
      "False\n"
     ]
    }
   ],
   "source": [
    "soms = [{'a', 'b'}, {'c', 'd'}]\n",
    "new_som1 = {'a'}\n",
    "new_som2 = {'e'}\n",
    "print(any([new_som1.intersection(s) for s in soms]))\n",
    "print(any([new_som2.intersection(s) for s in soms]))"
   ]
  },
  {
   "cell_type": "code",
   "execution_count": 33,
   "metadata": {},
   "outputs": [
    {
     "data": {
      "text/plain": [
       "False"
      ]
     },
     "execution_count": 33,
     "metadata": {},
     "output_type": "execute_result"
    }
   ],
   "source": [
    "bool(set())"
   ]
  },
  {
   "cell_type": "code",
   "execution_count": null,
   "metadata": {},
   "outputs": [],
   "source": [
    "    def __init__(self, molecule):\n",
    "        self.molecules = {molecule}\n",
    "        self.reactions = set()\n",
    "        SOM.all.append(self)\n",
    "\n",
    "    def merge(self, som, reaction):\n",
    "        self.molecules = self.molecules.union(som.molecules)\n",
    "        self.reactions = self.reactions.union(som.reactions)\n",
    "        self.reactions.add(reaction)\n",
    "        return self\n",
    "\n",
    "    @classmethod\n",
    "    def initialize(som, molecule):\n",
    "        return som(molecule)\n",
    "\n",
    "    @classmethod\n",
    "    def find(som, molecule):\n",
    "        for som in SOM.all:\n",
    "            if molecule in som.molecules:\n",
    "                return som"
   ]
  }
 ],
 "metadata": {
  "kernelspec": {
   "display_name": "Python 3",
   "language": "python",
   "name": "python3"
  },
  "language_info": {
   "codemirror_mode": {
    "name": "ipython",
    "version": 3
   },
   "file_extension": ".py",
   "mimetype": "text/x-python",
   "name": "python",
   "nbconvert_exporter": "python",
   "pygments_lexer": "ipython3",
   "version": "3.6.3"
  }
 },
 "nbformat": 4,
 "nbformat_minor": 2
}
