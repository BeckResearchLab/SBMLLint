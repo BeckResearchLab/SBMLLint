{
 "cells": [
  {
   "cell_type": "code",
   "execution_count": 1,
   "metadata": {},
   "outputs": [
    {
     "name": "stdout",
     "output_type": "stream",
     "text": [
      "/Users/woosubshin/Desktop/ModelEngineering/SBMLLint/SBMLLint/notebook\n"
     ]
    }
   ],
   "source": [
    "import collections\n",
    "import itertools  \n",
    "import matplotlib.pyplot as plt\n",
    "import networkx as nx\n",
    "import os\n",
    "import tellurium as te\n",
    "import tesbml\n",
    "import os, sys\n",
    "cwd = os.getcwd()\n",
    "print(cwd)"
   ]
  },
  {
   "cell_type": "code",
   "execution_count": 2,
   "metadata": {},
   "outputs": [
    {
     "name": "stdout",
     "output_type": "stream",
     "text": [
      "/Users/woosubshin/Desktop/ModelEngineering/SBMLLint/SBMLLint\n"
     ]
    }
   ],
   "source": [
    "#parent_dir = os.path.abspath(os.path.join(cwd, os.pardir, 'SBMLLint'))\n",
    "parent_dir = os.path.abspath(os.path.join(cwd, os.pardir))\n",
    "print(parent_dir)"
   ]
  },
  {
   "cell_type": "code",
   "execution_count": 3,
   "metadata": {},
   "outputs": [
    {
     "name": "stdout",
     "output_type": "stream",
     "text": [
      "/Users/woosubshin/Desktop/ModelEngineering/SBMLLint/SBMLLint\n"
     ]
    }
   ],
   "source": [
    "os.chdir(parent_dir)\n",
    "print(os.getcwd())"
   ]
  },
  {
   "cell_type": "code",
   "execution_count": 4,
   "metadata": {},
   "outputs": [],
   "source": [
    "#import os, sys, inspect\n",
    "#import inspect\n",
    "#cmd_folder = os.path.realpath(os.path.abspath(os.path.split(inspect.getfile( inspect.currentframe() ))[0]))\n",
    "#if cmd_folder not in sys.path:\n",
    "#     sys.path.insert(0, cmd_folder)"
   ]
  },
  {
   "cell_type": "code",
   "execution_count": 5,
   "metadata": {},
   "outputs": [],
   "source": [
    "from SBMLLint.common import constants as cn\n",
    "from SBMLLint.common.molecule import Molecule\n",
    "from SBMLLint.common.reaction import Reaction\n",
    "from SBMLLint.games import print_model as pm"
   ]
  },
  {
   "cell_type": "code",
   "execution_count": 6,
   "metadata": {},
   "outputs": [
    {
     "data": {
      "text/plain": [
       "'/Users/woosubshin/Desktop/ModelEngineering/SBMLLint/SBMLLint'"
      ]
     },
     "execution_count": 6,
     "metadata": {},
     "output_type": "execute_result"
    }
   ],
   "source": [
    "os.getcwd()"
   ]
  },
  {
   "cell_type": "code",
   "execution_count": 7,
   "metadata": {},
   "outputs": [
    {
     "name": "stdout",
     "output_type": "stream",
     "text": [
      "/Users/woosubshin/Desktop/ModelEngineering/SBMLLint/SBMLLint/notebook\n"
     ]
    }
   ],
   "source": [
    "print(cwd)"
   ]
  },
  {
   "cell_type": "code",
   "execution_count": 8,
   "metadata": {},
   "outputs": [
    {
     "name": "stdout",
     "output_type": "stream",
     "text": [
      "<Model Hoefnagel2002_PyruvateBranches \"Hoefnagel2002_PyruvateBranches\">\n",
      "R1: ADP + NAD + halfglucose -> ATP + NADH + pyruvate;\n",
      "R2: NADH + pyruvate -> NAD + lactate;\n",
      "R3: NAD + pyruvate + CoA -> NADH + AcCoA;\n",
      "R4: AcCoA + PO4 -> CoA + AcP;\n",
      "R5: ADP + AcP -> ATP + Ac;\n",
      "R6: NADH + AcCoA -> NAD + CoA + AcO;\n",
      "R7: NADH + AcO -> NAD + EtOH;\n",
      "R8: pyruvate -> AcLac;\n",
      "R9: AcLac -> AcetoinIn;\n",
      "R10: AcetoinIn -> AcetoinOut;\n",
      "R11: NADH + AcetoinIn -> NAD + Butanediol;\n",
      "R12: ATP -> ADP;\n",
      "R13: NADH + O2 -> NAD;\n",
      "R14: AcLac -> AcetoinIn;\n"
     ]
    }
   ],
   "source": [
    "num = 17\n",
    "format_num = format(num, '03d')\n",
    "document = tesbml.readSBML(os.path.join(os.getcwd(), 'SBMLLint/games/data/curated_' + format_num + '.xml'))\n",
    "model = document.getModel()\n",
    "pm.print_model(model)"
   ]
  },
  {
   "cell_type": "code",
   "execution_count": 9,
   "metadata": {},
   "outputs": [],
   "source": [
    "#ReactionCategory = collections.namedtuple('ReactionCategory',\n",
    "#    'category predicate')\n",
    "#MoleculeStoichiometry = collections.namedtuple('Molecule', 'molecule stoichiometry')\n",
    "#MoleculeStoichiometry(molecule = Molecule.molecules[0], stoichiometry = 2)"
   ]
  },
  {
   "cell_type": "code",
   "execution_count": 10,
   "metadata": {},
   "outputs": [],
   "source": [
    "\"\"\"Set of Molecules(SOM)\"\"\"\n",
    "\n",
    "from SBMLLint.common import constants as cn\n",
    "from SBMLLint.common.molecule import Molecule\n",
    "from SBMLLint.common.reaction import Reaction\n",
    "from SBMLLint.common.simple_sbml import SimpleSBML\n",
    "\n",
    "import numpy as np"
   ]
  },
  {
   "cell_type": "code",
   "execution_count": 100,
   "metadata": {},
   "outputs": [],
   "source": [
    "BRACKET_OPEN = \"{\"\n",
    "BRACKET_CLOSE = \"}\"\n",
    "\n",
    "class SOM(object):\n",
    "    soms = []  # All SOMs. \n",
    "    def __init__(self, molecule):\n",
    "        \"\"\"\n",
    "        :param molecules Molecule instances:\n",
    "        :param reactions Reaction instances:\n",
    "        \"\"\"\n",
    "        self.molecules = {molecule}\n",
    "        self.reactions = set()\n",
    "        self.identifier = self.makeId()\n",
    "        self.__class__.addSOM(self)\n",
    "\n",
    "    def __repr__(self):\n",
    "        return self.identifier        \n",
    "        \n",
    "    def makeId(self):\n",
    "        \"\"\"\n",
    "        Creates an identifier for the SOM to uniquely\n",
    "        identifies its elements.\n",
    "        :return str:\n",
    "        \"\"\"\n",
    "        def joinMoleculeNames(molecules):\n",
    "          names = [m.name for m in molecules]\n",
    "          names.sort()\n",
    "          return ', '.join(names)\n",
    "        #\n",
    "        identifier = \"%s%s%s\" % (\n",
    "            BRACKET_OPEN, \n",
    "            joinMoleculeNames(list(self.molecules)),\n",
    "            BRACKET_CLOSE\n",
    "            )\n",
    "        return identifier\n",
    "        \n",
    "    @classmethod    \n",
    "    def addSOM(cls, new_som):\n",
    "        if any([new_som.molecules.intersection(s.molecules) for s in cls.soms]):\n",
    "          pass\n",
    "        else:\n",
    "          cls.soms.append(new_som)\n",
    "    \n",
    "    @classmethod\n",
    "    def findSOM(cls, molecule):\n",
    "        \"\"\"\n",
    "        Find the SOM that contains molecule\n",
    "        and returns SOM\n",
    "        :param Molecule molecule\n",
    "        :return SOM\n",
    "        \"\"\"    \n",
    "        for som in cls.soms:\n",
    "            #if molecule in som.molecules:\n",
    "            #    return som\n",
    "            for m in som.molecules:\n",
    "                if molecule.name == m.name:\n",
    "                    return som\n",
    "            \n",
    "    @classmethod\n",
    "    def merge(cls, reaction):\n",
    "        \"\"\"\n",
    "        Merges two SOMs using a UniUni reaction \n",
    "        and updates cls.soms\n",
    "        :param Reaction reaction\n",
    "        :return SOM merged som\n",
    "        \"\"\" \n",
    "        if reaction.category != cn.REACTION_1_1:\n",
    "            raise AttributeError(\"This reaction cannot merge. You need a 1-1 reacton\")\n",
    "            pass\n",
    "        som1 = cls.findSOM(reaction.reactants[0].molecule)\n",
    "        som2 = cls.findSOM(reaction.products[0].molecule)\n",
    "        print(\"som1 is: \", som1)\n",
    "        print(\"som2 is: \", som2)\n",
    "        \n",
    "        if som1 == som2:\n",
    "            print(\"Reactant and product are in the same som!\")\n",
    "            pass\n",
    "        else: \n",
    "            som1.molecules = som1.molecules.union(som2.molecules)\n",
    "            som1.reactions.add(reaction)\n",
    "            som1.identifier = som1.makeId()\n",
    "            cls.soms.remove(som2)\n",
    "            return som1\n",
    "        \n",
    "    @classmethod\n",
    "    def reduce(cls, reaction):\n",
    "        \"\"\"\n",
    "        Reduces reaction using existing cls.soms\n",
    "        param Reaction reaction\n",
    "        return reduced reaction if reduced\n",
    "        return False if reaction is not reducible\n",
    "        \"\"\"\n",
    "        "
   ]
  },
  {
   "cell_type": "code",
   "execution_count": null,
   "metadata": {},
   "outputs": [],
   "source": [
    "# Test SOM.reduce using model #17. Use SOM obtained by reaction12 to reduce 1"
   ]
  },
  {
   "cell_type": "code",
   "execution_count": 114,
   "metadata": {},
   "outputs": [],
   "source": [
    "sbml_reaction1 = model.getReaction(0)\n",
    "sbml_reaction2 = model.getReaction(11)"
   ]
  },
  {
   "cell_type": "code",
   "execution_count": 115,
   "metadata": {},
   "outputs": [
    {
     "data": {
      "text/plain": [
       "[ADP + NAD + halfglucose -> ATP + NADH + pyruvate, ATP -> ADP]"
      ]
     },
     "execution_count": 115,
     "metadata": {},
     "output_type": "execute_result"
    }
   ],
   "source": [
    "Reaction(sbml_reaction1)\n",
    "Reaction(sbml_reaction2)\n",
    "Reaction.reactions"
   ]
  },
  {
   "cell_type": "code",
   "execution_count": 116,
   "metadata": {},
   "outputs": [
    {
     "name": "stdout",
     "output_type": "stream",
     "text": [
      "[MoleculeStoichiometry(molecule=ATP, stoichiometry=1.0)]\n",
      "[MoleculeStoichiometry(molecule=ADP, stoichiometry=1.0)]\n"
     ]
    }
   ],
   "source": [
    "print(Reaction.reactions[1].reactants)\n",
    "print(Reaction.reactions[1].products)"
   ]
  },
  {
   "cell_type": "code",
   "execution_count": 117,
   "metadata": {},
   "outputs": [
    {
     "name": "stdout",
     "output_type": "stream",
     "text": [
      "[ADP, NAD, halfglucose, ATP, NADH, pyruvate]\n"
     ]
    }
   ],
   "source": [
    "print(Molecule.molecules)"
   ]
  },
  {
   "cell_type": "code",
   "execution_count": 118,
   "metadata": {},
   "outputs": [
    {
     "name": "stdout",
     "output_type": "stream",
     "text": [
      "[{NAD}, {halfglucose}, {ADP, ATP}, {NADH}, {pyruvate}]\n"
     ]
    }
   ],
   "source": [
    "for mol in Molecule.molecules:\n",
    "    SOM(mol)\n",
    "print(SOM.soms)"
   ]
  },
  {
   "cell_type": "code",
   "execution_count": 119,
   "metadata": {},
   "outputs": [
    {
     "name": "stdout",
     "output_type": "stream",
     "text": [
      "som1 is:  {ADP, ATP}\n",
      "som2 is:  {ADP, ATP}\n",
      "Reactant and product are in the same som!\n"
     ]
    }
   ],
   "source": [
    "reaction1 = Reaction.reactions[0]\n",
    "reaction2 = Reaction.reactions[1]\n",
    "SOM.merge(reaction)"
   ]
  },
  {
   "cell_type": "code",
   "execution_count": 121,
   "metadata": {},
   "outputs": [
    {
     "data": {
      "text/plain": [
       "[{NAD}, {halfglucose}, {ADP, ATP}, {NADH}, {pyruvate}]"
      ]
     },
     "execution_count": 121,
     "metadata": {},
     "output_type": "execute_result"
    }
   ],
   "source": [
    "SOM.soms"
   ]
  },
  {
   "cell_type": "code",
   "execution_count": null,
   "metadata": {},
   "outputs": [],
   "source": []
  },
  {
   "cell_type": "code",
   "execution_count": null,
   "metadata": {},
   "outputs": [],
   "source": []
  },
  {
   "cell_type": "code",
   "execution_count": 123,
   "metadata": {},
   "outputs": [
    {
     "name": "stdout",
     "output_type": "stream",
     "text": [
      "[MoleculeStoichiometry(molecule=ADP, stoichiometry=1.0), MoleculeStoichiometry(molecule=NAD, stoichiometry=1.0), MoleculeStoichiometry(molecule=halfglucose, stoichiometry=1.0)]\n",
      "[MoleculeStoichiometry(molecule=ATP, stoichiometry=1.0), MoleculeStoichiometry(molecule=NADH, stoichiometry=1.0), MoleculeStoichiometry(molecule=pyruvate, stoichiometry=1.0)]\n"
     ]
    }
   ],
   "source": [
    "print(reaction1.reactants)\n",
    "print(reaction1.products)"
   ]
  },
  {
   "cell_type": "code",
   "execution_count": 126,
   "metadata": {},
   "outputs": [
    {
     "name": "stdout",
     "output_type": "stream",
     "text": [
      "[ADP, NAD, halfglucose]\n",
      "[ATP, NADH, pyruvate]\n"
     ]
    }
   ],
   "source": [
    "reactants = [ms.molecule for ms in reaction1.reactants]\n",
    "products = [ms.molecule for ms in reaction1.products]\n",
    "print(reactants)\n",
    "print(products)"
   ]
  },
  {
   "cell_type": "code",
   "execution_count": 130,
   "metadata": {},
   "outputs": [
    {
     "name": "stdout",
     "output_type": "stream",
     "text": [
      "[{NAD}, {halfglucose}, {ADP, ATP}, {NADH}, {pyruvate}]\n"
     ]
    },
    {
     "data": {
      "text/plain": [
       "{ADP, ATP}"
      ]
     },
     "execution_count": 130,
     "metadata": {},
     "output_type": "execute_result"
    }
   ],
   "source": [
    "print(SOM.soms)\n",
    "som1 = SOM.soms[0]\n",
    "som2 = SOM.soms[2]\n",
    "som2"
   ]
  },
  {
   "cell_type": "code",
   "execution_count": null,
   "metadata": {},
   "outputs": [],
   "source": [
    "subset_rct = set(reactants).intersection"
   ]
  },
  {
   "cell_type": "code",
   "execution_count": null,
   "metadata": {},
   "outputs": [],
   "source": []
  },
  {
   "cell_type": "code",
   "execution_count": null,
   "metadata": {},
   "outputs": [],
   "source": []
  },
  {
   "cell_type": "code",
   "execution_count": null,
   "metadata": {},
   "outputs": [],
   "source": []
  },
  {
   "cell_type": "code",
   "execution_count": null,
   "metadata": {},
   "outputs": [],
   "source": []
  },
  {
   "cell_type": "code",
   "execution_count": 133,
   "metadata": {},
   "outputs": [],
   "source": [
    "    def reduce(self, som):\n",
    "        rct_subset = set(self.reactants).intersection(som)\n",
    "        pdt_subset = set(self.products).intersection(som)\n",
    "        rct_index = 0\n",
    "        pdt_index = 0\n",
    "        \n",
    "        # Return False if the reaction is not reducible \n",
    "        if (not bool(rct_subset)) | (not bool(pdt_subset)):\n",
    "            return False\n",
    "        \n",
    "        while bool(rct_subset) & bool(pdt_subset):\n",
    "            rct = self.reactants[rct_index]\n",
    "            pdt = self.products[pdt_index]\n",
    "\n",
    "            # find reactant and product within given som\n",
    "            while (rct not in rct_subset):\n",
    "                rct_index = rct_index + 1\n",
    "                rct = self.reactants[rct_index]\n",
    "            while (pdt not in pdt_subset):\n",
    "                pdt_index = pdt_index + 1\n",
    "                pdt = self.products[pdt_index]\n",
    "\n",
    "            # subtract stoichiometry from each side\n",
    "            self.stoichiometry[0][rct_index] = self.stoichiometry[0][rct_index] - 1\n",
    "            self.stoichiometry[1][pdt_index] = self.stoichiometry[1][pdt_index] - 1\n",
    "\n",
    "            # remove element if stoichiometry becomes zero\n",
    "            if self.stoichiometry[0][rct_index] == 0:\n",
    "                rct_subset.remove(rct)\n",
    "                del self.reactants[rct_index]\n",
    "                del self.stoichiometry[0][rct_index]\n",
    "\n",
    "            if self.stoichiometry[1][pdt_index] == 0:\n",
    "                pdt_subset.remove(pdt)\n",
    "                del self.products[pdt_index]\n",
    "                del self.stoichiometry[1][pdt_index]\n",
    "        \n",
    "        # Update category because the reaction was reduced\n",
    "        self.updateCategory()\n",
    "        \n",
    "        return True\n",
    "  \n",
    "    def updateCategory(self):\n",
    "        \n",
    "        # if either side is empty, we set None for the category and stoichiometry\n",
    "        if (len(self.reactants)==0) | (len(self.products)==0) | \\\n",
    "           (self.reactants==[cn.EMPTYSET]) | (self.products==[cn.EMPTYSET]):\n",
    "            self.category = None\n",
    "        elif (len(self.reactants)==1) & (len(self.products)==1):\n",
    "            self.category = cn.UNIUNI\n",
    "        elif (len(self.reactants)==1) & (len(self.products)!=1):\n",
    "            self.category = cn.UNIMULTI\n",
    "        elif (len(self.reactants)!=1) & (len(self.products)==1):\n",
    "            self.category = cn.MULTIUNI\n",
    "        else:\n",
    "            self.category = cn.MULTIMULTI\n",
    "        print(\"Checking category...\")"
   ]
  },
  {
   "cell_type": "code",
   "execution_count": 39,
   "metadata": {},
   "outputs": [
    {
     "data": {
      "text/plain": [
       "'reaction_n_1'"
      ]
     },
     "execution_count": 39,
     "metadata": {},
     "output_type": "execute_result"
    }
   ],
   "source": [
    "Reaction.reactions[0]._getCategory()"
   ]
  },
  {
   "cell_type": "code",
   "execution_count": null,
   "metadata": {},
   "outputs": [],
   "source": []
  }
 ],
 "metadata": {
  "kernelspec": {
   "display_name": "Python 3",
   "language": "python",
   "name": "python3"
  },
  "language_info": {
   "codemirror_mode": {
    "name": "ipython",
    "version": 3
   },
   "file_extension": ".py",
   "mimetype": "text/x-python",
   "name": "python",
   "nbconvert_exporter": "python",
   "pygments_lexer": "ipython3",
   "version": "3.6.3"
  }
 },
 "nbformat": 4,
 "nbformat_minor": 2
}
