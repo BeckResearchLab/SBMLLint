{
 "cells": [
  {
   "cell_type": "code",
   "execution_count": 1,
   "metadata": {},
   "outputs": [
    {
     "name": "stdout",
     "output_type": "stream",
     "text": [
      "/Users/woosubshin/Desktop/ModelEngineering/SBMLLint/SBMLLint/notebook\n"
     ]
    }
   ],
   "source": [
    "import collections\n",
    "import itertools  \n",
    "import matplotlib.pyplot as plt\n",
    "import networkx as nx\n",
    "import os\n",
    "import tellurium as te\n",
    "import tesbml\n",
    "import os, sys\n",
    "cwd = os.getcwd()\n",
    "print(cwd)"
   ]
  },
  {
   "cell_type": "code",
   "execution_count": 2,
   "metadata": {},
   "outputs": [
    {
     "name": "stdout",
     "output_type": "stream",
     "text": [
      "/Users/woosubshin/Desktop/ModelEngineering/SBMLLint/SBMLLint\n"
     ]
    }
   ],
   "source": [
    "#parent_dir = os.path.abspath(os.path.join(cwd, os.pardir, 'SBMLLint'))\n",
    "parent_dir = os.path.abspath(os.path.join(cwd, os.pardir))\n",
    "print(parent_dir)"
   ]
  },
  {
   "cell_type": "code",
   "execution_count": 3,
   "metadata": {},
   "outputs": [
    {
     "name": "stdout",
     "output_type": "stream",
     "text": [
      "/Users/woosubshin/Desktop/ModelEngineering/SBMLLint/SBMLLint\n"
     ]
    }
   ],
   "source": [
    "os.chdir(parent_dir)\n",
    "print(os.getcwd())"
   ]
  },
  {
   "cell_type": "code",
   "execution_count": 4,
   "metadata": {},
   "outputs": [],
   "source": [
    "#import os, sys, inspect\n",
    "#import inspect\n",
    "#cmd_folder = os.path.realpath(os.path.abspath(os.path.split(inspect.getfile( inspect.currentframe() ))[0]))\n",
    "#if cmd_folder not in sys.path:\n",
    "#     sys.path.insert(0, cmd_folder)"
   ]
  },
  {
   "cell_type": "code",
   "execution_count": 5,
   "metadata": {},
   "outputs": [],
   "source": [
    "from SBMLLint.common import constants as cn\n",
    "from SBMLLint.common.molecule import Molecule\n",
    "from SBMLLint.common.reaction import Reaction\n",
    "from SBMLLint.games import print_model as pm"
   ]
  },
  {
   "cell_type": "code",
   "execution_count": 6,
   "metadata": {},
   "outputs": [
    {
     "data": {
      "text/plain": [
       "'/Users/woosubshin/Desktop/ModelEngineering/SBMLLint/SBMLLint'"
      ]
     },
     "execution_count": 6,
     "metadata": {},
     "output_type": "execute_result"
    }
   ],
   "source": [
    "os.getcwd()"
   ]
  },
  {
   "cell_type": "code",
   "execution_count": 7,
   "metadata": {},
   "outputs": [
    {
     "name": "stdout",
     "output_type": "stream",
     "text": [
      "/Users/woosubshin/Desktop/ModelEngineering/SBMLLint/SBMLLint/notebook\n"
     ]
    }
   ],
   "source": [
    "print(cwd)"
   ]
  },
  {
   "cell_type": "code",
   "execution_count": 8,
   "metadata": {},
   "outputs": [
    {
     "name": "stdout",
     "output_type": "stream",
     "text": [
      "<Model vilarOscillator \"Vilar2002_Oscillator\">\n",
      "Reaction1: A + R -> C;\n",
      "Reaction2: A -> EmptySet;\n",
      "Reaction3: C -> R;\n",
      "Reaction4: R -> EmptySet;\n",
      "Reaction5: A + DA -> DAp;\n",
      "Reaction6: DAp -> A + DA;\n",
      "Reaction7: DA -> DA + MA;\n",
      "Reaction8: DAp -> DAp + MA;\n",
      "Reaction9: MA -> EmptySet;\n",
      "Reaction10: MA -> A + MA;\n",
      "Reaction11: A + DR -> DRp;\n",
      "Reaction12: DRp -> A + DR;\n",
      "Reaction13: DR -> DR + MR;\n",
      "Reaction14: DRp -> DRp + MR;\n",
      "Reaction15: MR -> EmptySet;\n",
      "Reaction16: MR -> MR + R;\n"
     ]
    }
   ],
   "source": [
    "num = 35\n",
    "format_num = format(num, '03d')\n",
    "document = tesbml.readSBML(os.path.join(os.getcwd(), 'SBMLLint/games/data/curated_' + format_num + '.xml'))\n",
    "model = document.getModel()\n",
    "pm.print_model(model)"
   ]
  },
  {
   "cell_type": "code",
   "execution_count": 9,
   "metadata": {},
   "outputs": [
    {
     "name": "stdout",
     "output_type": "stream",
     "text": [
      "<class 'SBMLLint.common.molecule.Molecule'>\n",
      "<class 'SBMLLint.common.reaction.Reaction'>\n"
     ]
    }
   ],
   "source": [
    "print(Molecule)\n",
    "print(Reaction)"
   ]
  },
  {
   "cell_type": "code",
   "execution_count": 10,
   "metadata": {},
   "outputs": [],
   "source": [
    "reaction1 = model.getReaction(0)\n",
    "reaction2 = model.getReaction(2)"
   ]
  },
  {
   "cell_type": "code",
   "execution_count": 11,
   "metadata": {},
   "outputs": [
    {
     "data": {
      "text/plain": [
       "[A + R -> C, C -> R]"
      ]
     },
     "execution_count": 11,
     "metadata": {},
     "output_type": "execute_result"
    }
   ],
   "source": [
    "Reaction(reaction1)\n",
    "Reaction(reaction2)\n",
    "Reaction.reactions"
   ]
  },
  {
   "cell_type": "code",
   "execution_count": 12,
   "metadata": {},
   "outputs": [
    {
     "data": {
      "text/plain": [
       "'A'"
      ]
     },
     "execution_count": 12,
     "metadata": {},
     "output_type": "execute_result"
    }
   ],
   "source": [
    "reaction1.getReactant(0).species"
   ]
  },
  {
   "cell_type": "code",
   "execution_count": 13,
   "metadata": {},
   "outputs": [
    {
     "data": {
      "text/plain": [
       "[A, R, C]"
      ]
     },
     "execution_count": 13,
     "metadata": {},
     "output_type": "execute_result"
    }
   ],
   "source": [
    "Molecule.molecules"
   ]
  },
  {
   "cell_type": "code",
   "execution_count": 14,
   "metadata": {},
   "outputs": [
    {
     "name": "stdout",
     "output_type": "stream",
     "text": [
      "C\n"
     ]
    }
   ],
   "source": [
    "m = Molecule.getMolecule('C')\n",
    "if m is None:\n",
    "    print('hah')\n",
    "else: \n",
    "    print(m)"
   ]
  },
  {
   "cell_type": "code",
   "execution_count": 15,
   "metadata": {},
   "outputs": [
    {
     "name": "stdout",
     "output_type": "stream",
     "text": [
      "[MoleculeStoichiometry(molecule=C, stoichiometry=1.0)]\n",
      "[MoleculeStoichiometry(molecule=R, stoichiometry=1.0)]\n"
     ]
    }
   ],
   "source": [
    "print(Reaction.reactions[1].reactants)\n",
    "print(Reaction.reactions[1].products)"
   ]
  },
  {
   "cell_type": "code",
   "execution_count": 16,
   "metadata": {},
   "outputs": [],
   "source": [
    "#ReactionCategory = collections.namedtuple('ReactionCategory',\n",
    "#    'category predicate')\n",
    "#MoleculeStoichiometry = collections.namedtuple('Molecule', 'molecule stoichiometry')\n",
    "#MoleculeStoichiometry(molecule = Molecule.molecules[0], stoichiometry = 2)"
   ]
  },
  {
   "cell_type": "code",
   "execution_count": null,
   "metadata": {},
   "outputs": [],
   "source": []
  },
  {
   "cell_type": "code",
   "execution_count": 17,
   "metadata": {},
   "outputs": [],
   "source": [
    "\"\"\"Set of Molecules(SOM)\"\"\"\n",
    "\n",
    "from SBMLLint.common import constants as cn\n",
    "from SBMLLint.common.molecule import Molecule\n",
    "from SBMLLint.common.reaction import Reaction\n",
    "from SBMLLint.common.simple_sbml import SimpleSBML\n",
    "\n",
    "import numpy as np"
   ]
  },
  {
   "cell_type": "code",
   "execution_count": 18,
   "metadata": {},
   "outputs": [],
   "source": [
    "BRACKET_OPEN = \"{\"\n",
    "BRACKET_CLOSE = \"}\"\n",
    "\n",
    "class SOM(object):\n",
    "    soms = []  # All SOMs. \n",
    "    def __init__(self, molecule):\n",
    "        \"\"\"\n",
    "        :param molecules Molecule instances:\n",
    "        :param reactions Reaction instances:\n",
    "        \"\"\"\n",
    "        self.molecules = {molecule}\n",
    "        self.reactions = set()\n",
    "        self.identifier = self.makeId()\n",
    "        self.__class__.addSOM(self)\n",
    "\n",
    "    def __repr__(self):\n",
    "        return self.identifier        \n",
    "        \n",
    "    def makeId(self):\n",
    "        \"\"\"\n",
    "        Creates an identifier for the SOM to uniquely\n",
    "        identifies its elements.\n",
    "        :return str:\n",
    "        \"\"\"\n",
    "        def joinMoleculeNames(molecules):\n",
    "          names = [m.name for m in molecules]\n",
    "          names.sort()\n",
    "          return ', '.join(names)\n",
    "        #\n",
    "        identifier = \"%s%s%s\" % (\n",
    "            BRACKET_OPEN, \n",
    "            joinMoleculeNames(list(self.molecules)),\n",
    "            BRACKET_CLOSE\n",
    "            )\n",
    "        return identifier\n",
    "        \n",
    "    @classmethod    \n",
    "    def addSOM(cls, new_som):\n",
    "        if any([new_som.molecules.intersection(s.molecules) for s in cls.soms]):\n",
    "          pass\n",
    "        else:\n",
    "          cls.soms.append(new_som)\n",
    "    \n",
    "    @classmethod\n",
    "    def findSOM(cls, molecule):\n",
    "        \"\"\"\n",
    "        Find the SOM that contains molecule\n",
    "        and returns SOM\n",
    "        param Molecule instance molecule\n",
    "        \"\"\"    \n",
    "        for som in cls.soms:\n",
    "            #if molecule in som.molecules:\n",
    "            #    return som\n",
    "            for m in som.molecules:\n",
    "                if molecule.name == m.name:\n",
    "                    return som\n",
    "            \n",
    "    @classmethod\n",
    "    def merge(cls, reaction):\n",
    "        \"\"\"\n",
    "        Merges two SOMs using a UniUni reaction \n",
    "        and updates cls.soms\n",
    "        : return merged SOM\n",
    "        \"\"\" \n",
    "        som1 = cls.findSOM(reaction.reactants[0].molecule)\n",
    "        som2 = cls.findSOM(reaction.products[0].molecule)\n",
    "\n",
    "        som1.molecules = som1.molecules.union(som2.molecules)\n",
    "        som1.reactions.add(reaction)\n",
    "        som1.identifier = som1.makeId()\n",
    "        cls.soms.remove(som2)\n",
    "        return som1"
   ]
  },
  {
   "cell_type": "code",
   "execution_count": 19,
   "metadata": {},
   "outputs": [
    {
     "data": {
      "text/plain": [
       "[A, R, C]"
      ]
     },
     "execution_count": 19,
     "metadata": {},
     "output_type": "execute_result"
    }
   ],
   "source": [
    "Molecule.molecules"
   ]
  },
  {
   "cell_type": "code",
   "execution_count": 20,
   "metadata": {},
   "outputs": [
    {
     "data": {
      "text/plain": [
       "[]"
      ]
     },
     "execution_count": 20,
     "metadata": {},
     "output_type": "execute_result"
    }
   ],
   "source": [
    "SOM.soms"
   ]
  },
  {
   "cell_type": "code",
   "execution_count": 22,
   "metadata": {},
   "outputs": [
    {
     "name": "stdout",
     "output_type": "stream",
     "text": [
      "C\n",
      "C\n"
     ]
    }
   ],
   "source": [
    "rct1 = Reaction.reactions[1].reactants[0].molecule\n",
    "print(rct1)\n",
    "\n",
    "pdt1 = Reaction.reactions[0].products[0].molecule\n",
    "print(pdt1)"
   ]
  },
  {
   "cell_type": "code",
   "execution_count": 23,
   "metadata": {},
   "outputs": [
    {
     "name": "stdout",
     "output_type": "stream",
     "text": [
      "[{A}, {R}, {C}]\n"
     ]
    }
   ],
   "source": [
    "SOM(Molecule.molecules[0])\n",
    "SOM(Molecule.molecules[1])\n",
    "SOM(Molecule.molecules[2])\n",
    "SOM(pdt1)\n",
    "SOM(rct1)\n",
    "print(SOM.soms)"
   ]
  },
  {
   "cell_type": "code",
   "execution_count": 24,
   "metadata": {},
   "outputs": [
    {
     "data": {
      "text/plain": [
       "[A + R -> C, C -> R]"
      ]
     },
     "execution_count": 24,
     "metadata": {},
     "output_type": "execute_result"
    }
   ],
   "source": [
    "Reaction.reactions"
   ]
  },
  {
   "cell_type": "code",
   "execution_count": 30,
   "metadata": {},
   "outputs": [
    {
     "name": "stdout",
     "output_type": "stream",
     "text": [
      "{C}\n",
      "{C}\n"
     ]
    }
   ],
   "source": [
    "print(SOM.findSOM(rct1))\n",
    "print(SOM.findSOM(pdt1))"
   ]
  },
  {
   "cell_type": "code",
   "execution_count": 32,
   "metadata": {},
   "outputs": [
    {
     "data": {
      "text/plain": [
       "[{A}, {R}, {C}]"
      ]
     },
     "execution_count": 32,
     "metadata": {},
     "output_type": "execute_result"
    }
   ],
   "source": [
    "SOM.soms"
   ]
  },
  {
   "cell_type": "code",
   "execution_count": 31,
   "metadata": {},
   "outputs": [
    {
     "data": {
      "text/plain": [
       "C -> R"
      ]
     },
     "execution_count": 31,
     "metadata": {},
     "output_type": "execute_result"
    }
   ],
   "source": [
    "Reaction.reactions[1]"
   ]
  },
  {
   "cell_type": "code",
   "execution_count": 33,
   "metadata": {},
   "outputs": [
    {
     "data": {
      "text/plain": [
       "{C, R}"
      ]
     },
     "execution_count": 33,
     "metadata": {},
     "output_type": "execute_result"
    }
   ],
   "source": [
    "SOM.merge(Reaction.reactions[1])"
   ]
  },
  {
   "cell_type": "code",
   "execution_count": 34,
   "metadata": {},
   "outputs": [
    {
     "name": "stdout",
     "output_type": "stream",
     "text": [
      "[{A}, {C, R}]\n"
     ]
    }
   ],
   "source": [
    "print(SOM.soms)"
   ]
  },
  {
   "cell_type": "code",
   "execution_count": 133,
   "metadata": {},
   "outputs": [],
   "source": [
    "    def reduce(self, som):\n",
    "        rct_subset = set(self.reactants).intersection(som)\n",
    "        pdt_subset = set(self.products).intersection(som)\n",
    "        rct_index = 0\n",
    "        pdt_index = 0\n",
    "        \n",
    "        # Return False if the reaction is not reducible \n",
    "        if (not bool(rct_subset)) | (not bool(pdt_subset)):\n",
    "            return False\n",
    "        \n",
    "        while bool(rct_subset) & bool(pdt_subset):\n",
    "            rct = self.reactants[rct_index]\n",
    "            pdt = self.products[pdt_index]\n",
    "\n",
    "            # find reactant and product within given som\n",
    "            while (rct not in rct_subset):\n",
    "                rct_index = rct_index + 1\n",
    "                rct = self.reactants[rct_index]\n",
    "            while (pdt not in pdt_subset):\n",
    "                pdt_index = pdt_index + 1\n",
    "                pdt = self.products[pdt_index]\n",
    "\n",
    "            # subtract stoichiometry from each side\n",
    "            self.stoichiometry[0][rct_index] = self.stoichiometry[0][rct_index] - 1\n",
    "            self.stoichiometry[1][pdt_index] = self.stoichiometry[1][pdt_index] - 1\n",
    "\n",
    "            # remove element if stoichiometry becomes zero\n",
    "            if self.stoichiometry[0][rct_index] == 0:\n",
    "                rct_subset.remove(rct)\n",
    "                del self.reactants[rct_index]\n",
    "                del self.stoichiometry[0][rct_index]\n",
    "\n",
    "            if self.stoichiometry[1][pdt_index] == 0:\n",
    "                pdt_subset.remove(pdt)\n",
    "                del self.products[pdt_index]\n",
    "                del self.stoichiometry[1][pdt_index]\n",
    "        \n",
    "        # Update category because the reaction was reduced\n",
    "        self.updateCategory()\n",
    "        \n",
    "        return True\n",
    "  \n",
    "    def updateCategory(self):\n",
    "        \n",
    "        # if either side is empty, we set None for the category and stoichiometry\n",
    "        if (len(self.reactants)==0) | (len(self.products)==0) | \\\n",
    "           (self.reactants==[cn.EMPTYSET]) | (self.products==[cn.EMPTYSET]):\n",
    "            self.category = None\n",
    "        elif (len(self.reactants)==1) & (len(self.products)==1):\n",
    "            self.category = cn.UNIUNI\n",
    "        elif (len(self.reactants)==1) & (len(self.products)!=1):\n",
    "            self.category = cn.UNIMULTI\n",
    "        elif (len(self.reactants)!=1) & (len(self.products)==1):\n",
    "            self.category = cn.MULTIUNI\n",
    "        else:\n",
    "            self.category = cn.MULTIMULTI\n",
    "        print(\"Checking category...\")"
   ]
  },
  {
   "cell_type": "code",
   "execution_count": 39,
   "metadata": {},
   "outputs": [
    {
     "data": {
      "text/plain": [
       "'reaction_n_1'"
      ]
     },
     "execution_count": 39,
     "metadata": {},
     "output_type": "execute_result"
    }
   ],
   "source": [
    "Reaction.reactions[0]._getCategory()"
   ]
  },
  {
   "cell_type": "code",
   "execution_count": null,
   "metadata": {},
   "outputs": [],
   "source": []
  }
 ],
 "metadata": {
  "kernelspec": {
   "display_name": "Python 3",
   "language": "python",
   "name": "python3"
  },
  "language_info": {
   "codemirror_mode": {
    "name": "ipython",
    "version": 3
   },
   "file_extension": ".py",
   "mimetype": "text/x-python",
   "name": "python",
   "nbconvert_exporter": "python",
   "pygments_lexer": "ipython3",
   "version": "3.6.3"
  }
 },
 "nbformat": 4,
 "nbformat_minor": 2
}
