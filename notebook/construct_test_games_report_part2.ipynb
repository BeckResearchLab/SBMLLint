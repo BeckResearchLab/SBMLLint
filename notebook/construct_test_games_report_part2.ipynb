{
 "cells": [
  {
   "cell_type": "code",
   "execution_count": 1,
   "metadata": {},
   "outputs": [],
   "source": [
    "#from games_setup import *\n",
    "import init\n",
    "from SBMLLint.common import constants as cn\n",
    "from SBMLLint.common.molecule import Molecule, MoleculeStoichiometry\n",
    "from SBMLLint.common.reaction import Reaction\n",
    "from SBMLLint.games.som import SOM\n",
    "from SBMLLint.common.simple_sbml import SimpleSBML\n",
    "\n",
    "import collections\n",
    "import itertools\n",
    "import networkx as nx\n",
    "import numpy as np\n",
    "import os\n",
    "import pandas as pd\n",
    "#\n",
    "from SBMLLint.common.stoichiometry_matrix import StoichiometryMatrix\n",
    "from SBMLLint.games.mesgraph import MESGraph\n",
    "from SBMLLint.games.games_pp import GAMES_PP, SOMStoichiometry, SOMReaction, TOLERANCE\n",
    "from SBMLLint.games.games_report import GAMESReport, SimplifiedReaction\n",
    "NULL_STR = \"\"\n",
    "ReactionOperation = collections.namedtuple(\"ReactionOperation\", \n",
    "    \"reaction operation\")\n",
    "STATPHOSPHORYLATION = \"statPhosphorylation\"\n",
    "PSTATDIMERISATION = \"PstatDimerisation\"\n",
    "PSTATDIMERISATIONNUC = \"PstatDimerisationNuc\"\n",
    "SPECIES_TEST = \"species_test\"\n",
    "PSTAT_SOL = \"Pstat_sol\"\n",
    "PSTATDIMER_NUC = \"PstatDimer_nuc\"\n",
    "PSTAT_NUC = \"Pstat_nuc\"\n",
    "STAT_SOL = \"stat_sol\"\n",
    "PSTATDIMER_SOL = \"PstatDimer_sol\""
   ]
  },
  {
   "cell_type": "code",
   "execution_count": 2,
   "metadata": {},
   "outputs": [],
   "source": [
    "PREFIX = \"BIOMD0000000\"\n",
    "\n",
    "def load_file_from_curated_data(num):\n",
    "\n",
    "  format_num = format(num, '03d')\n",
    "  filename = \"%s%s_url.xml\" % (PREFIX, format_num)\n",
    "  path = os.path.join(cn.BIOMODELS_DIR, filename)\n",
    "  simple = SimpleSBML()\n",
    "  simple.initialize(path)\n",
    "  return simple"
   ]
  },
  {
   "cell_type": "code",
   "execution_count": 3,
   "metadata": {},
   "outputs": [
    {
     "name": "stdout",
     "output_type": "stream",
     "text": [
      "We just analyzed the data...\n",
      "Type I error:  []\n",
      "Type II error:  []\n",
      "Canceling error:  []\n",
      "Echelon error:  [statPhosphorylation:  -> {species_test}]\n",
      "Type III error:  [PstatDimerisation: 2.00 {Pstat_sol} -> 2.00 {Pstat_nuc=stat_nuc=stat_sol}]\n"
     ]
    }
   ],
   "source": [
    "simple = load_file_from_curated_data(167)\n",
    "m = GAMES_PP(simple)\n",
    "m.analyze()\n",
    "gr = GAMESReport(m)"
   ]
  },
  {
   "cell_type": "code",
   "execution_count": 4,
   "metadata": {},
   "outputs": [
    {
     "name": "stdout",
     "output_type": "stream",
     "text": [
      "will result in empty reactant with zero mass:\n",
      "\n",
      ":  -> {species_test}\n",
      "\n",
      "\n",
      "----------------------------------------------------------------------\n",
      "\n",
      "----------------------------------------------------------------------\n",
      "\n",
      "\n",
      "\n",
      "**********************************************************************\n",
      "\n",
      "\n"
     ]
    }
   ],
   "source": [
    "report, error_num = gr.reportEchelonError(m.echelon_errors, explain_details=True)\n",
    "print(report[-288:])"
   ]
  },
  {
   "cell_type": "code",
   "execution_count": 5,
   "metadata": {},
   "outputs": [
    {
     "name": "stdout",
     "output_type": "stream",
     "text": [
      "False\n"
     ]
    }
   ],
   "source": [
    "extended_report = NULL_STR\n",
    "extended_report = extended_report + \"will result in empty reactant with zero mass:\\n\\n:  -> {species_test}\\n\"\n",
    "extended_report = extended_report + \"\\n----------------------------------------------------------------------\\n\\n\"\n",
    "extended_report = extended_report + \"\\n----------------------------------------------------------------------\\n\\n\"\n",
    "extended_report = extended_report + \"\\n\\n**********************************************************************\\n\\n\"\n",
    "print(report[-288:] == extended_report)"
   ]
  },
  {
   "cell_type": "code",
   "execution_count": 6,
   "metadata": {},
   "outputs": [
    {
     "name": "stdout",
     "output_type": "stream",
     "text": [
      "will result in empty reactant with zero mass:\n",
      "\n",
      ":  -> {species_test}\n",
      "\n",
      "\n",
      "----------------------------------------------------------------------\n",
      "\n",
      "----------------------------------------------------------------------\n",
      "\n",
      "\n",
      "\n",
      "**********************************************************************\n",
      "\n",
      "\n",
      "will result in empty reactant with zero mass:\n",
      "\n",
      ":  -> {species_test}\n",
      "\n",
      "----------------------------------------------------------------------\n",
      "\n",
      "----------------------------------------------------------------------\n",
      "\n",
      "\n",
      "\n",
      "**********************************************************************\n",
      "\n",
      "\n"
     ]
    }
   ],
   "source": [
    "print(report[-288:])\n",
    "print(extended_report)"
   ]
  },
  {
   "cell_type": "code",
   "execution_count": 5,
   "metadata": {},
   "outputs": [
    {
     "name": "stdout",
     "output_type": "stream",
     "text": [
      "True\n",
      "False\n"
     ]
    }
   ],
   "source": [
    "som = m.getNode(m.simple.getMolecule(PSTATDIMER_NUC))\n",
    "report, error_num = gr.reportReactionsInSOM(som, 0)\n",
    "common_part = \"\\n1. PstatDimer__import: PstatDimer_sol -> PstatDimer_nuc\\n\"\n",
    "case1 = \"\\n{PstatDimer_sol=PstatDimer_nuc}\"\n",
    "case2 = \"\\n{PstatDimer_nuc=PstatDimer_sol}\"\n",
    "print(error_num == 1)\n",
    "#print(report == '\\n{PstatDimer_sol=PstatDimer_nuc} is inferred by:\\n1. PstatDimer__import: PstatDimer_sol -> PstatDimer_nuc\\n')\n",
    "print(report == (case1 + common_part) or report == (case2 + common_part))"
   ]
  },
  {
   "cell_type": "code",
   "execution_count": 6,
   "metadata": {},
   "outputs": [
    {
     "data": {
      "text/plain": [
       "'1. PstatDimer__import: PstatDimer_sol -> PstatDimer_nuc\\n'"
      ]
     },
     "execution_count": 6,
     "metadata": {},
     "output_type": "execute_result"
    }
   ],
   "source": [
    "report"
   ]
  },
  {
   "cell_type": "code",
   "execution_count": 7,
   "metadata": {},
   "outputs": [
    {
     "data": {
      "text/plain": [
       "'\\n1. PstatDimer__import: PstatDimer_sol -> PstatDimer_nuc\\n'"
      ]
     },
     "execution_count": 7,
     "metadata": {},
     "output_type": "execute_result"
    }
   ],
   "source": [
    "common_part"
   ]
  },
  {
   "cell_type": "code",
   "execution_count": 16,
   "metadata": {},
   "outputs": [
    {
     "data": {
      "text/plain": [
       "'\\n{PstatDimer_sol=PstatDimer_nuc}is inferred by:\\n1. PstatDimer__import: PstatDimer_sol -> PstatDimer_nuc\\n'"
      ]
     },
     "execution_count": 16,
     "metadata": {},
     "output_type": "execute_result"
    }
   ],
   "source": [
    "case1 + common_part"
   ]
  },
  {
   "cell_type": "code",
   "execution_count": 18,
   "metadata": {},
   "outputs": [
    {
     "data": {
      "text/plain": [
       "''"
      ]
     },
     "execution_count": 18,
     "metadata": {},
     "output_type": "execute_result"
    }
   ],
   "source": [
    "report[:-338]"
   ]
  },
  {
   "cell_type": "code",
   "execution_count": 19,
   "metadata": {},
   "outputs": [
    {
     "data": {
      "text/plain": [
       "'\\n{PstatDimer_nuc=PstatDimer_sol} is inferred by:\\n1. PstatDimer__import: PstatDimer_sol -> PstatDimer_nuc\\n'"
      ]
     },
     "execution_count": 19,
     "metadata": {},
     "output_type": "execute_result"
    }
   ],
   "source": [
    "report"
   ]
  },
  {
   "cell_type": "code",
   "execution_count": null,
   "metadata": {},
   "outputs": [],
   "source": []
  }
 ],
 "metadata": {
  "kernelspec": {
   "display_name": "Python 3",
   "language": "python",
   "name": "python3"
  },
  "language_info": {
   "codemirror_mode": {
    "name": "ipython",
    "version": 3
   },
   "file_extension": ".py",
   "mimetype": "text/x-python",
   "name": "python",
   "nbconvert_exporter": "python",
   "pygments_lexer": "ipython3",
   "version": "3.6.9"
  }
 },
 "nbformat": 4,
 "nbformat_minor": 4
}
