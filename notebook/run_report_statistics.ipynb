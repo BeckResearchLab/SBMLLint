{
 "cells": [
  {
   "cell_type": "code",
   "execution_count": 1,
   "metadata": {},
   "outputs": [
    {
     "name": "stdout",
     "output_type": "stream",
     "text": [
      "Current Directory: /Users/woosubshin/Desktop/ModelEngineering/SBMLLint/notebook\n"
     ]
    }
   ],
   "source": [
    "from games_setup import *\n",
    "from SBMLLint.common import constants as cn\n",
    "from SBMLLint.common.molecule import Molecule, MoleculeStoichiometry\n",
    "from SBMLLint.common.reaction import Reaction\n",
    "from SBMLLint.games.som import SOM\n",
    "from SBMLLint.common.simple_sbml import SimpleSBML\n",
    "\n",
    "import collections\n",
    "import copy\n",
    "import itertools\n",
    "import networkx as nx\n",
    "import numpy as np\n",
    "import pandas as pd\n",
    "#\n",
    "from SBMLLint.common.stoichiometry_matrix import StoichiometryMatrix\n",
    "from SBMLLint.games.mesgraph import MESGraph\n",
    "from SBMLLint.games.games_pp import GAMES_PP, SOMStoichiometry, SOMReaction, TOLERANCE\n",
    "from SBMLLint.games.games_report import GAMESReport, SimplifiedReaction\n",
    "\n",
    "import matplotlib.pyplot as plt\n",
    "%matplotlib inline\n",
    "import seaborn as sns\n",
    "\n",
    "ReactionOperation = collections.namedtuple(\"ReactionOperation\", \n",
    "    \"reaction operation\")"
   ]
  },
  {
   "cell_type": "code",
   "execution_count": 2,
   "metadata": {},
   "outputs": [],
   "source": [
    "# statistics columns\n",
    "MODEL_ID = \"model_id\"\n",
    "NUM_TOTAL_REACTIONS = \"num_total_reactions\"\n",
    "NUM_NONBDRY_REACTIONS = \"num_nonbdry_reactions\"\n",
    "NUM_MULTIMULTI_REACTIONS = \"num_multimulti_reactions\"\n",
    "#\n",
    "ERROR_TYPE = \"error_type\"\n",
    "TYPE_I = \"type1\"\n",
    "TYPE_II = \"type2\"\n",
    "TYPE_III = \"type3\"\n",
    "CANCELING = \"canceling\"\n",
    "ECHELON = \"echelon\"\n",
    "ERRORS = [TYPE_I, TYPE_II, TYPE_III, CANCELING, ECHELON]\n",
    "#\n",
    "NUM_ERROR_REACTIONS = \"num_error_reactions\""
   ]
  },
  {
   "cell_type": "code",
   "execution_count": 4,
   "metadata": {},
   "outputs": [],
   "source": [
    "data_dir=cn.BIOMODELS_DIR\n",
    "#files = [f for f in os.listdir(data_dir) if f[-4:] == \".xml\"]\n",
    "files = [f for f in os.listdir(data_dir) if f[:7] == \"BIOMD00\"]\n",
    "#paths = [os.path.join(data_dir, filename) for filename in files]"
   ]
  },
  {
   "cell_type": "code",
   "execution_count": 7,
   "metadata": {},
   "outputs": [
    {
     "data": {
      "text/plain": [
       "656"
      ]
     },
     "execution_count": 7,
     "metadata": {},
     "output_type": "execute_result"
    }
   ],
   "source": [
    "len(files)"
   ]
  },
  {
   "cell_type": "code",
   "execution_count": 8,
   "metadata": {},
   "outputs": [
    {
     "data": {
      "text/plain": [
       "ErrorSummary(type1=1, type2=2, type3=3, canceling=4, echelon=5)"
      ]
     },
     "execution_count": 8,
     "metadata": {},
     "output_type": "execute_result"
    }
   ],
   "source": [
    "ErrorSummary = collections.namedtuple(\"ErrorSummary\",\n",
    "    \"type1 type2 type3 canceling echelon\")\n",
    "a = ErrorSummary(type1 = 1, type2 = 2, type3 = 3, canceling=4, echelon=5)\n",
    "a"
   ]
  },
  {
   "cell_type": "code",
   "execution_count": 6,
   "metadata": {},
   "outputs": [
    {
     "name": "stdout",
     "output_type": "stream",
     "text": [
      "14\n",
      "13\n",
      "type1 error\n"
     ]
    }
   ],
   "source": [
    "simple = SimpleSBML()\n",
    "simple.initialize(os.path.join(data_dir, files[1]))\n",
    "s = StoichiometryMatrix(simple)\n",
    "num_total_reactions = len(simple.reactions)\n",
    "num_nonbdry_reactions = s.stoichiometry_matrix.shape[1]\n",
    "print(num_total_reactions)\n",
    "print(num_nonbdry_reactions)\n",
    "m = GAMES_PP(simple)\n",
    "if simple.reactions:\n",
    "  result = m.analyze(error_details=False)\n",
    "  if result:\n",
    "    dic = {}\n",
    "    dic[MODEL_ID] = files[0]\n",
    "    dic[NUM_TOTAL_REACTIONS] = num_total_reactions\n",
    "    dic[NUM_NONBDRY_REACTIONS] = num_nonbdry_reactions\n",
    "    summary = m.error_summary\n",
    "    if summary[0].type == TYPE_I:\n",
    "      print(\"type1 error\")\n",
    "    if summary[0].type == TYPE_II:\n",
    "      print(\"type2 error\")"
   ]
  },
  {
   "cell_type": "code",
   "execution_count": 7,
   "metadata": {},
   "outputs": [],
   "source": [
    "#files = ['BIOMD0000000004_url.xml', 'BIOMD0000000007_url.xml', 'BIOMD0000000018_url.xml']"
   ]
  },
  {
   "cell_type": "code",
   "execution_count": 8,
   "metadata": {},
   "outputs": [],
   "source": [
    "# # Checking all graphs \n",
    "# count = 0\n",
    "# simple = SimpleSBML()\n",
    "# res_list = []\n",
    "# for file in files[:10]:\n",
    "#   count += 1\n",
    "#   if (count%100)==0:\n",
    "#     print(\"we are analyzing Model number:\", count)\n",
    "#   simple.initialize(os.path.join(data_dir, file))\n",
    "#   m = GAMES_PP(simple)\n",
    "#   s = StoichiometryMatrix(simple)\n",
    "#   num_total_reactions = len(simple.reactions)\n",
    "#   num_nonbdry_reactions = s.stoichiometry_matrix.shape[1]\n",
    "#   if simple.reactions:\n",
    "#     result = m.analyze(error_details=False)\n",
    "#     if result:\n",
    "#       gr = GAMESReport(m)\n",
    "#       errortype_dic = {TYPE_I: gr.reportTypeOneError,\n",
    "#                        TYPE_II: gr.reportTypeTwoError,\n",
    "#                        TYPE_III: gr.reportTypeThreeError,\n",
    "#                        CANCELING: gr.reportCancelingError,\n",
    "#                        ECHELON: gr.reportEchelonError\n",
    "#                        }\n",
    "#       summary = m.error_summary\n",
    "#       for errors in m.error_summary:\n",
    "#         for category in errortype_dic.keys():\n",
    "#           if errors.type == category:\n",
    "#             func = errortype_dic[category]            \n",
    "#             _, error_num = func(errors.errors)\n",
    "#             for num in error_num:\n",
    "#               res_list.append(dict({MODEL_ID: file[:-8],\n",
    "#                                     NUM_TOTAL_REACTIONS: num_total_reactions,\n",
    "#                                     NUM_NONBDRY_REACTIONS: num_nonbdry_reactions,\n",
    "#                                     ERROR_TYPE: category,\n",
    "#                                     NUM_ERROR_REACTIONS: num})) "
   ]
  },
  {
   "cell_type": "code",
   "execution_count": 9,
   "metadata": {},
   "outputs": [
    {
     "name": "stdout",
     "output_type": "stream",
     "text": [
      "Model BIOMD0000000596_url.xml  has an error\n",
      "we are analyzing Model number: 100\n",
      "we are analyzing Model number: 200\n",
      "Model BIOMD0000000081_url.xml  has an error\n",
      "Model BIOMD0000000075_url.xml  has an error\n",
      "we are analyzing Model number: 300\n",
      "Model BIOMD0000000094_url.xml  has an error\n",
      "we are analyzing Model number: 400\n",
      "Model BIOMDELS.zip  has an error\n",
      "Model BIOMD0000000353_url.xml  has an error\n",
      "we are analyzing Model number: 500\n",
      "we are analyzing Model number: 600\n"
     ]
    }
   ],
   "source": [
    "# Checking all graphs \n",
    "count = 0\n",
    "simple = SimpleSBML()\n",
    "res_list = []\n",
    "false_reactions = set()\n",
    "for file in files:\n",
    "  count += 1\n",
    "  if (count%100)==0:\n",
    "    print(\"we are analyzing Model number:\", count)\n",
    "  try:\n",
    "    simple.initialize(os.path.join(data_dir, file))\n",
    "    m = GAMES_PP(simple)\n",
    "    s = StoichiometryMatrix(simple)\n",
    "    num_total_reactions = len(simple.reactions)\n",
    "    num_nonbdry_reactions = s.stoichiometry_matrix.shape[1]\n",
    "    if simple.reactions:\n",
    "      result = m.analyze(error_details=False)\n",
    "      if result:\n",
    "        gr = GAMESReport(m)\n",
    "        errortype_dic = {TYPE_I: gr.reportTypeOneError,\n",
    "                         TYPE_II: gr.reportTypeTwoError,\n",
    "                         TYPE_III: gr.reportTypeThreeError,\n",
    "                         CANCELING: gr.reportCancelingError,\n",
    "                         ECHELON: gr.reportEchelonError\n",
    "                        }\n",
    "        summary = m.error_summary\n",
    "        for errors in m.error_summary:\n",
    "          for category in errortype_dic.keys():\n",
    "            if errors.type == category:\n",
    "              func = errortype_dic[category]            \n",
    "              report, error_num = func(errors.errors)\n",
    "              if report is False:\n",
    "                false_reactions.add(file)\n",
    "              else:\n",
    "                for num in error_num:\n",
    "                  res_list.append(dict({MODEL_ID: file[:-8],\n",
    "                                        NUM_TOTAL_REACTIONS: num_total_reactions,\n",
    "                                        NUM_NONBDRY_REACTIONS: num_nonbdry_reactions,\n",
    "                                        ERROR_TYPE: category,\n",
    "                                        NUM_ERROR_REACTIONS: num})) \n",
    "#                 print(\"Model ID\", file[:-8])\n",
    "#                 print(\"error_num\", error_num)\n",
    "  except:\n",
    "    print(\"Model\", file, \" has an error\")"
   ]
  },
  {
   "cell_type": "code",
   "execution_count": 11,
   "metadata": {},
   "outputs": [
    {
     "name": "stdout",
     "output_type": "stream",
     "text": [
      "haha\n"
     ]
    }
   ],
   "source": [
    "k = False\n",
    "if k is False:\n",
    "  print(\"haha\")"
   ]
  },
  {
   "cell_type": "code",
   "execution_count": 12,
   "metadata": {},
   "outputs": [
    {
     "name": "stdout",
     "output_type": "stream",
     "text": [
      "{1}\n"
     ]
    }
   ],
   "source": [
    "false_dummy = set()\n",
    "false_dummy.add(1)\n",
    "print(false_dummy)"
   ]
  },
  {
   "cell_type": "code",
   "execution_count": 13,
   "metadata": {},
   "outputs": [
    {
     "data": {
      "text/html": [
       "<div>\n",
       "<style scoped>\n",
       "    .dataframe tbody tr th:only-of-type {\n",
       "        vertical-align: middle;\n",
       "    }\n",
       "\n",
       "    .dataframe tbody tr th {\n",
       "        vertical-align: top;\n",
       "    }\n",
       "\n",
       "    .dataframe thead th {\n",
       "        text-align: right;\n",
       "    }\n",
       "</style>\n",
       "<table border=\"1\" class=\"dataframe\">\n",
       "  <thead>\n",
       "    <tr style=\"text-align: right;\">\n",
       "      <th></th>\n",
       "      <th>error_type</th>\n",
       "      <th>model_id</th>\n",
       "      <th>num_error_reactions</th>\n",
       "      <th>num_nonbdry_reactions</th>\n",
       "      <th>num_total_reactions</th>\n",
       "    </tr>\n",
       "  </thead>\n",
       "  <tbody>\n",
       "    <tr>\n",
       "      <th>0</th>\n",
       "      <td>type1</td>\n",
       "      <td>BIOMD0000000189</td>\n",
       "      <td>1</td>\n",
       "      <td>13</td>\n",
       "      <td>14</td>\n",
       "    </tr>\n",
       "    <tr>\n",
       "      <th>1</th>\n",
       "      <td>type1</td>\n",
       "      <td>BIOMD0000000189</td>\n",
       "      <td>1</td>\n",
       "      <td>13</td>\n",
       "      <td>14</td>\n",
       "    </tr>\n",
       "    <tr>\n",
       "      <th>2</th>\n",
       "      <td>type1</td>\n",
       "      <td>BIOMD0000000189</td>\n",
       "      <td>1</td>\n",
       "      <td>13</td>\n",
       "      <td>14</td>\n",
       "    </tr>\n",
       "    <tr>\n",
       "      <th>3</th>\n",
       "      <td>type1</td>\n",
       "      <td>BIOMD0000000189</td>\n",
       "      <td>3</td>\n",
       "      <td>13</td>\n",
       "      <td>14</td>\n",
       "    </tr>\n",
       "    <tr>\n",
       "      <th>4</th>\n",
       "      <td>type1</td>\n",
       "      <td>BIOMD0000000413</td>\n",
       "      <td>3</td>\n",
       "      <td>5</td>\n",
       "      <td>9</td>\n",
       "    </tr>\n",
       "  </tbody>\n",
       "</table>\n",
       "</div>"
      ],
      "text/plain": [
       "  error_type         model_id  num_error_reactions  num_nonbdry_reactions  \\\n",
       "0      type1  BIOMD0000000189                    1                     13   \n",
       "1      type1  BIOMD0000000189                    1                     13   \n",
       "2      type1  BIOMD0000000189                    1                     13   \n",
       "3      type1  BIOMD0000000189                    3                     13   \n",
       "4      type1  BIOMD0000000413                    3                      5   \n",
       "\n",
       "   num_total_reactions  \n",
       "0                   14  \n",
       "1                   14  \n",
       "2                   14  \n",
       "3                   14  \n",
       "4                    9  "
      ]
     },
     "execution_count": 13,
     "metadata": {},
     "output_type": "execute_result"
    }
   ],
   "source": [
    "res_df = pd.DataFrame(res_list)\n",
    "res_df.head()"
   ]
  },
  {
   "cell_type": "code",
   "execution_count": 14,
   "metadata": {},
   "outputs": [
    {
     "data": {
      "text/html": [
       "<div>\n",
       "<style scoped>\n",
       "    .dataframe tbody tr th:only-of-type {\n",
       "        vertical-align: middle;\n",
       "    }\n",
       "\n",
       "    .dataframe tbody tr th {\n",
       "        vertical-align: top;\n",
       "    }\n",
       "\n",
       "    .dataframe thead th {\n",
       "        text-align: right;\n",
       "    }\n",
       "</style>\n",
       "<table border=\"1\" class=\"dataframe\">\n",
       "  <thead>\n",
       "    <tr style=\"text-align: right;\">\n",
       "      <th></th>\n",
       "      <th>error_type</th>\n",
       "      <th>model_id</th>\n",
       "      <th>num_error_reactions</th>\n",
       "      <th>num_nonbdry_reactions</th>\n",
       "      <th>num_total_reactions</th>\n",
       "    </tr>\n",
       "  </thead>\n",
       "  <tbody>\n",
       "  </tbody>\n",
       "</table>\n",
       "</div>"
      ],
      "text/plain": [
       "Empty DataFrame\n",
       "Columns: [error_type, model_id, num_error_reactions, num_nonbdry_reactions, num_total_reactions]\n",
       "Index: []"
      ]
     },
     "execution_count": 14,
     "metadata": {},
     "output_type": "execute_result"
    }
   ],
   "source": [
    "res_df[res_df[NUM_ERROR_REACTIONS] > res_df[NUM_NONBDRY_REACTIONS]]"
   ]
  },
  {
   "cell_type": "code",
   "execution_count": 15,
   "metadata": {},
   "outputs": [],
   "source": [
    "m.lower_inverse"
   ]
  },
  {
   "cell_type": "code",
   "execution_count": 16,
   "metadata": {},
   "outputs": [
    {
     "name": "stdout",
     "output_type": "stream",
     "text": [
      "Number of models with errors: 138\n"
     ]
    }
   ],
   "source": [
    "print(\"Number of models with errors: %d\" % (len(set(res_df[MODEL_ID]))))"
   ]
  },
  {
   "cell_type": "code",
   "execution_count": 17,
   "metadata": {},
   "outputs": [
    {
     "data": {
      "text/plain": [
       "<matplotlib.collections.PathCollection at 0x1a2d59bc50>"
      ]
     },
     "execution_count": 17,
     "metadata": {},
     "output_type": "execute_result"
    },
    {
     "data": {
      "image/png": "[encoded data removed]",
      "text/plain": [
       "<Figure size 432x288 with 1 Axes>"
      ]
     },
     "metadata": {
      "needs_background": "light"
     },
     "output_type": "display_data"
    }
   ],
   "source": [
    "plt.scatter(res_df[NUM_TOTAL_REACTIONS], res_df[NUM_ERROR_REACTIONS])"
   ]
  },
  {
   "cell_type": "code",
   "execution_count": 19,
   "metadata": {},
   "outputs": [
    {
     "data": {
      "text/plain": [
       "(array([479.,  44.,  11.,  30.,  33.,  13.,   1.,   0.,  12.,  20.,   4.,\n",
       "         13.,   0.,  27.,   0.,   0.,  36.,   0.,   5.,  10.,   0.,   0.,\n",
       "          3.,  33.,   0.,   0.,   0.,   0.,   0.,  13.,   0.,   1.,   6.,\n",
       "          4.,   3.,   0.,   3.,   9.,   0.,   0.,  13.,   0.,   0.,   0.,\n",
       "          0.,   5.,   0.,  18.,   0.,   0.,   0.,  19.,   0.,   0.,   0.,\n",
       "          0.,   0.,   0.,   0.,   0.,   0.,   0.,   1.,   0.,   0.,   0.,\n",
       "          0.,   0.,   0.,   0.,   0.,   0.,   0.,   0.,   0.,   0.,   0.,\n",
       "          0.,   0.,   0.,   0.,   0.,   0.,   0.,   0.,   0.,   0.,   0.,\n",
       "          0.,   0.,   0.,   0.,   0.,   0.,   0.,   0.,   0.,   0.,   0.,\n",
       "          4.]),\n",
       " array([ 0.  ,  0.86,  1.72,  2.58,  3.44,  4.3 ,  5.16,  6.02,  6.88,\n",
       "         7.74,  8.6 ,  9.46, 10.32, 11.18, 12.04, 12.9 , 13.76, 14.62,\n",
       "        15.48, 16.34, 17.2 , 18.06, 18.92, 19.78, 20.64, 21.5 , 22.36,\n",
       "        23.22, 24.08, 24.94, 25.8 , 26.66, 27.52, 28.38, 29.24, 30.1 ,\n",
       "        30.96, 31.82, 32.68, 33.54, 34.4 , 35.26, 36.12, 36.98, 37.84,\n",
       "        38.7 , 39.56, 40.42, 41.28, 42.14, 43.  , 43.86, 44.72, 45.58,\n",
       "        46.44, 47.3 , 48.16, 49.02, 49.88, 50.74, 51.6 , 52.46, 53.32,\n",
       "        54.18, 55.04, 55.9 , 56.76, 57.62, 58.48, 59.34, 60.2 , 61.06,\n",
       "        61.92, 62.78, 63.64, 64.5 , 65.36, 66.22, 67.08, 67.94, 68.8 ,\n",
       "        69.66, 70.52, 71.38, 72.24, 73.1 , 73.96, 74.82, 75.68, 76.54,\n",
       "        77.4 , 78.26, 79.12, 79.98, 80.84, 81.7 , 82.56, 83.42, 84.28,\n",
       "        85.14, 86.  ]),\n",
       " <a list of 100 Patch objects>)"
      ]
     },
     "execution_count": 19,
     "metadata": {},
     "output_type": "execute_result"
    },
    {
     "data": {
      "image/png": "[encoded data removed]",
      "text/plain": [
       "<Figure size 432x288 with 1 Axes>"
      ]
     },
     "metadata": {
      "needs_background": "light"
     },
     "output_type": "display_data"
    }
   ],
   "source": [
    "plt.hist(res_df[NUM_TOTAL_REACTIONS] - res_df[NUM_NONBDRY_REACTIONS], bins=100)"
   ]
  },
  {
   "cell_type": "code",
   "execution_count": null,
   "metadata": {},
   "outputs": [],
   "source": []
  },
  {
   "cell_type": "code",
   "execution_count": 20,
   "metadata": {},
   "outputs": [
    {
     "data": {
      "text/plain": [
       "<matplotlib.collections.PathCollection at 0x1a2d76a860>"
      ]
     },
     "execution_count": 20,
     "metadata": {},
     "output_type": "execute_result"
    },
    {
     "data": {
      "image/png": "[encoded data removed]",
      "text/plain": [
       "<Figure size 432x288 with 1 Axes>"
      ]
     },
     "metadata": {
      "needs_background": "light"
     },
     "output_type": "display_data"
    }
   ],
   "source": [
    "plt.scatter(res_df[NUM_NONBDRY_REACTIONS], res_df[NUM_ERROR_REACTIONS])"
   ]
  },
  {
   "cell_type": "code",
   "execution_count": 21,
   "metadata": {},
   "outputs": [],
   "source": [
    "type1_res_df = res_df[res_df[ERROR_TYPE] == TYPE_I]\n",
    "type2_res_df = res_df[res_df[ERROR_TYPE] == TYPE_II]\n",
    "type3_res_df = res_df[res_df[ERROR_TYPE] == TYPE_III]\n",
    "canceling_res_df = res_df[res_df[ERROR_TYPE] == CANCELING]\n",
    "echelon_res_df = res_df[res_df[ERROR_TYPE] == ECHELON]"
   ]
  },
  {
   "cell_type": "code",
   "execution_count": 22,
   "metadata": {},
   "outputs": [
    {
     "data": {
      "text/html": [
       "<div>\n",
       "<style scoped>\n",
       "    .dataframe tbody tr th:only-of-type {\n",
       "        vertical-align: middle;\n",
       "    }\n",
       "\n",
       "    .dataframe tbody tr th {\n",
       "        vertical-align: top;\n",
       "    }\n",
       "\n",
       "    .dataframe thead th {\n",
       "        text-align: right;\n",
       "    }\n",
       "</style>\n",
       "<table border=\"1\" class=\"dataframe\">\n",
       "  <thead>\n",
       "    <tr style=\"text-align: right;\">\n",
       "      <th></th>\n",
       "      <th>error_type</th>\n",
       "      <th>model_id</th>\n",
       "      <th>num_error_reactions</th>\n",
       "      <th>num_nonbdry_reactions</th>\n",
       "      <th>num_total_reactions</th>\n",
       "    </tr>\n",
       "  </thead>\n",
       "  <tbody>\n",
       "    <tr>\n",
       "      <th>0</th>\n",
       "      <td>type1</td>\n",
       "      <td>BIOMD0000000189</td>\n",
       "      <td>1</td>\n",
       "      <td>13</td>\n",
       "      <td>14</td>\n",
       "    </tr>\n",
       "    <tr>\n",
       "      <th>1</th>\n",
       "      <td>type1</td>\n",
       "      <td>BIOMD0000000189</td>\n",
       "      <td>1</td>\n",
       "      <td>13</td>\n",
       "      <td>14</td>\n",
       "    </tr>\n",
       "    <tr>\n",
       "      <th>2</th>\n",
       "      <td>type1</td>\n",
       "      <td>BIOMD0000000189</td>\n",
       "      <td>1</td>\n",
       "      <td>13</td>\n",
       "      <td>14</td>\n",
       "    </tr>\n",
       "    <tr>\n",
       "      <th>3</th>\n",
       "      <td>type1</td>\n",
       "      <td>BIOMD0000000189</td>\n",
       "      <td>3</td>\n",
       "      <td>13</td>\n",
       "      <td>14</td>\n",
       "    </tr>\n",
       "    <tr>\n",
       "      <th>4</th>\n",
       "      <td>type1</td>\n",
       "      <td>BIOMD0000000413</td>\n",
       "      <td>3</td>\n",
       "      <td>5</td>\n",
       "      <td>9</td>\n",
       "    </tr>\n",
       "  </tbody>\n",
       "</table>\n",
       "</div>"
      ],
      "text/plain": [
       "  error_type         model_id  num_error_reactions  num_nonbdry_reactions  \\\n",
       "0      type1  BIOMD0000000189                    1                     13   \n",
       "1      type1  BIOMD0000000189                    1                     13   \n",
       "2      type1  BIOMD0000000189                    1                     13   \n",
       "3      type1  BIOMD0000000189                    3                     13   \n",
       "4      type1  BIOMD0000000413                    3                      5   \n",
       "\n",
       "   num_total_reactions  \n",
       "0                   14  \n",
       "1                   14  \n",
       "2                   14  \n",
       "3                   14  \n",
       "4                    9  "
      ]
     },
     "execution_count": 22,
     "metadata": {},
     "output_type": "execute_result"
    }
   ],
   "source": [
    "type1_res_df.head()"
   ]
  },
  {
   "cell_type": "code",
   "execution_count": 23,
   "metadata": {},
   "outputs": [
    {
     "data": {
      "text/plain": [
       "<matplotlib.collections.PathCollection at 0x1a2bb797f0>"
      ]
     },
     "execution_count": 23,
     "metadata": {},
     "output_type": "execute_result"
    },
    {
     "data": {
      "image/png": "[encoded data removed]",
      "text/plain": [
       "<Figure size 432x288 with 1 Axes>"
      ]
     },
     "metadata": {
      "needs_background": "light"
     },
     "output_type": "display_data"
    }
   ],
   "source": [
    "plt.scatter(type1_res_df[NUM_NONBDRY_REACTIONS], type1_res_df[NUM_ERROR_REACTIONS])"
   ]
  },
  {
   "cell_type": "code",
   "execution_count": 24,
   "metadata": {},
   "outputs": [
    {
     "data": {
      "text/plain": [
       "<matplotlib.collections.PathCollection at 0xa1fdbfb00>"
      ]
     },
     "execution_count": 24,
     "metadata": {},
     "output_type": "execute_result"
    },
    {
     "data": {
      "image/png": "[encoded data removed]",
      "text/plain": [
       "<Figure size 432x288 with 1 Axes>"
      ]
     },
     "metadata": {
      "needs_background": "light"
     },
     "output_type": "display_data"
    }
   ],
   "source": [
    "plt.scatter(type2_res_df[NUM_NONBDRY_REACTIONS], type2_res_df[NUM_ERROR_REACTIONS])"
   ]
  },
  {
   "cell_type": "code",
   "execution_count": 25,
   "metadata": {},
   "outputs": [
    {
     "data": {
      "text/plain": [
       "<matplotlib.collections.PathCollection at 0x1a2bafb1d0>"
      ]
     },
     "execution_count": 25,
     "metadata": {},
     "output_type": "execute_result"
    },
    {
     "data": {
      "image/png": "[encoded data removed]",
      "text/plain": [
       "<Figure size 432x288 with 1 Axes>"
      ]
     },
     "metadata": {
      "needs_background": "light"
     },
     "output_type": "display_data"
    }
   ],
   "source": [
    "plt.scatter(type3_res_df[NUM_NONBDRY_REACTIONS], type3_res_df[NUM_ERROR_REACTIONS])"
   ]
  },
  {
   "cell_type": "code",
   "execution_count": 26,
   "metadata": {},
   "outputs": [
    {
     "data": {
      "text/plain": [
       "<matplotlib.collections.PathCollection at 0x1a2baa7518>"
      ]
     },
     "execution_count": 26,
     "metadata": {},
     "output_type": "execute_result"
    },
    {
     "data": {
      "image/png": "[encoded data removed]",
      "text/plain": [
       "<Figure size 432x288 with 1 Axes>"
      ]
     },
     "metadata": {
      "needs_background": "light"
     },
     "output_type": "display_data"
    }
   ],
   "source": [
    "plt.scatter(canceling_res_df[NUM_NONBDRY_REACTIONS], canceling_res_df[NUM_ERROR_REACTIONS])"
   ]
  },
  {
   "cell_type": "code",
   "execution_count": 27,
   "metadata": {},
   "outputs": [
    {
     "data": {
      "text/plain": [
       "<matplotlib.collections.PathCollection at 0x1a2d66c908>"
      ]
     },
     "execution_count": 27,
     "metadata": {},
     "output_type": "execute_result"
    },
    {
     "data": {
      "image/png": "[encoded data removed]",
      "text/plain": [
       "<Figure size 432x288 with 1 Axes>"
      ]
     },
     "metadata": {
      "needs_background": "light"
     },
     "output_type": "display_data"
    }
   ],
   "source": [
    "plt.scatter(echelon_res_df[NUM_NONBDRY_REACTIONS], echelon_res_df[NUM_ERROR_REACTIONS])"
   ]
  },
  {
   "cell_type": "code",
   "execution_count": 28,
   "metadata": {},
   "outputs": [],
   "source": [
    "#res_list"
   ]
  },
  {
   "cell_type": "code",
   "execution_count": 29,
   "metadata": {},
   "outputs": [
    {
     "name": "stdout",
     "output_type": "stream",
     "text": [
      "error_prop Series([], dtype: float64)\n"
     ]
    }
   ],
   "source": [
    "prop = res_df[\"num_error_reactions\"] / res_df[\"num_nonbdry_reactions\"]\n",
    "error_prop = prop[prop > 1]\n",
    "nonerror_prop = prop[prop<=1]\n",
    "print(\"error_prop\", error_prop)"
   ]
  },
  {
   "cell_type": "code",
   "execution_count": null,
   "metadata": {},
   "outputs": [],
   "source": []
  },
  {
   "cell_type": "code",
   "execution_count": 32,
   "metadata": {},
   "outputs": [
    {
     "data": {
      "text/plain": [
       "<matplotlib.axes._subplots.AxesSubplot at 0xa1fbe64a8>"
      ]
     },
     "execution_count": 32,
     "metadata": {},
     "output_type": "execute_result"
    },
    {
     "data": {
      "image/png": "[encoded data removed]",
      "text/plain": [
       "<Figure size 432x288 with 1 Axes>"
      ]
     },
     "metadata": {
      "needs_background": "light"
     },
     "output_type": "display_data"
    }
   ],
   "source": [
    "sns.distplot(prop, hist_kws=dict(cumulative=True),\n",
    "             kde_kws=dict(cumulative=True))"
   ]
  },
  {
   "cell_type": "code",
   "execution_count": 33,
   "metadata": {},
   "outputs": [
    {
     "data": {
      "text/plain": [
       "Text(0, 0.5, 'Frequency')"
      ]
     },
     "execution_count": 33,
     "metadata": {},
     "output_type": "execute_result"
    },
    {
     "data": {
      "image/png": "[encoded data removed]",
      "text/plain": [
       "<Figure size 432x288 with 1 Axes>"
      ]
     },
     "metadata": {
      "needs_background": "light"
     },
     "output_type": "display_data"
    }
   ],
   "source": [
    "sns.distplot(prop,\n",
    "             hist_kws=dict(cumulative=False),\n",
    "             kde_kws=dict(cumulative=False))\n",
    "plt.title(\"PDF - Num. Reactions per Error / Num. Non-boundary Reactions\")\n",
    "plt.xlabel(\"Proportion (0.0 - 1.0)\")\n",
    "plt.ylabel(\"Frequency\")"
   ]
  },
  {
   "cell_type": "code",
   "execution_count": 34,
   "metadata": {},
   "outputs": [
    {
     "data": {
      "text/plain": [
       "Text(0, 0.5, 'Cumulative probability')"
      ]
     },
     "execution_count": 34,
     "metadata": {},
     "output_type": "execute_result"
    },
    {
     "data": {
      "image/png": "[encoded data removed]",
      "text/plain": [
       "<Figure size 432x288 with 1 Axes>"
      ]
     },
     "metadata": {
      "needs_background": "light"
     },
     "output_type": "display_data"
    }
   ],
   "source": [
    "sns.distplot(prop,\n",
    "             hist_kws=dict(cumulative=True),\n",
    "             kde_kws=dict(cumulative=True))\n",
    "plt.title(\"CDF - Num. Reactions per Error / Num. Non-boundary Reactions\")\n",
    "plt.xlabel(\"Proportion (0.0 - 1.0)\")\n",
    "plt.ylabel(\"Cumulative probability\")"
   ]
  },
  {
   "cell_type": "code",
   "execution_count": 41,
   "metadata": {},
   "outputs": [
    {
     "data": {
      "text/plain": [
       "Text(0, 0.5, 'Probability')"
      ]
     },
     "execution_count": 41,
     "metadata": {},
     "output_type": "execute_result"
    },
    {
     "data": {
      "image/png": "[encoded data removed]",
      "text/plain": [
       "<Figure size 432x288 with 1 Axes>"
      ]
     },
     "metadata": {
      "needs_background": "light"
     },
     "output_type": "display_data"
    }
   ],
   "source": [
    "sns.distplot(res_df[NUM_ERROR_REACTIONS],\n",
    "             hist_kws=dict(cumulative=False),\n",
    "             kde_kws=dict(cumulative=False))\n",
    "plt.title(\"PDF - Number of Reactions for Each Error\")\n",
    "plt.xlabel(\"Number of Reactions\")\n",
    "plt.ylabel(\"Probability\")"
   ]
  },
  {
   "cell_type": "code",
   "execution_count": 39,
   "metadata": {},
   "outputs": [
    {
     "data": {
      "text/plain": [
       "Text(0, 0.5, 'Cumulative probability')"
      ]
     },
     "execution_count": 39,
     "metadata": {},
     "output_type": "execute_result"
    },
    {
     "data": {
      "image/png": "[encoded data removed]",
      "text/plain": [
       "<Figure size 432x288 with 1 Axes>"
      ]
     },
     "metadata": {
      "needs_background": "light"
     },
     "output_type": "display_data"
    }
   ],
   "source": [
    "sns.distplot(res_df[NUM_ERROR_REACTIONS],\n",
    "             hist_kws=dict(cumulative=True),\n",
    "             kde_kws=dict(cumulative=True))\n",
    "plt.title(\"CDF - Number of Reactions for Each Error\")\n",
    "plt.xlabel(\"Number of Reactions\")\n",
    "plt.ylabel(\"Cumulative probability\")"
   ]
  },
  {
   "cell_type": "code",
   "execution_count": 49,
   "metadata": {},
   "outputs": [
    {
     "data": {
      "text/plain": [
       "0.6804123711340206"
      ]
     },
     "execution_count": 49,
     "metadata": {},
     "output_type": "execute_result"
    }
   ],
   "source": [
    "len(res_df[res_df[NUM_ERROR_REACTIONS] <= 3]) / len(res_df[NUM_ERROR_REACTIONS])"
   ]
  },
  {
   "cell_type": "code",
   "execution_count": 51,
   "metadata": {},
   "outputs": [
    {
     "data": {
      "text/plain": [
       "873"
      ]
     },
     "execution_count": 51,
     "metadata": {},
     "output_type": "execute_result"
    }
   ],
   "source": [
    "len(res_df[NUM_ERROR_REACTIONS])"
   ]
  },
  {
   "cell_type": "code",
   "execution_count": 55,
   "metadata": {},
   "outputs": [
    {
     "name": "stdout",
     "output_type": "stream",
     "text": [
      "594\n",
      "0.6804123711340206\n"
     ]
    }
   ],
   "source": [
    "print(len(res_df[res_df[NUM_ERROR_REACTIONS] <= 3]))\n",
    "print(len(res_df[res_df[NUM_ERROR_REACTIONS] <= 3]) / len(res_df[NUM_ERROR_REACTIONS]))"
   ]
  },
  {
   "cell_type": "code",
   "execution_count": 56,
   "metadata": {},
   "outputs": [
    {
     "name": "stdout",
     "output_type": "stream",
     "text": [
      "752\n",
      "0.861397479954181\n"
     ]
    }
   ],
   "source": [
    "print(len(res_df[res_df[NUM_ERROR_REACTIONS] <= 5]))\n",
    "print(len(res_df[res_df[NUM_ERROR_REACTIONS] <= 5]) / len(res_df[NUM_ERROR_REACTIONS]))"
   ]
  },
  {
   "cell_type": "code",
   "execution_count": 57,
   "metadata": {},
   "outputs": [
    {
     "name": "stdout",
     "output_type": "stream",
     "text": [
      "813\n",
      "0.9312714776632303\n"
     ]
    }
   ],
   "source": [
    "print(len(res_df[res_df[NUM_ERROR_REACTIONS] <= 10]))\n",
    "print(len(res_df[res_df[NUM_ERROR_REACTIONS] <= 10]) / len(res_df[NUM_ERROR_REACTIONS]))"
   ]
  },
  {
   "cell_type": "code",
   "execution_count": 71,
   "metadata": {},
   "outputs": [
    {
     "data": {
      "text/html": [
       "<div>\n",
       "<style scoped>\n",
       "    .dataframe tbody tr th:only-of-type {\n",
       "        vertical-align: middle;\n",
       "    }\n",
       "\n",
       "    .dataframe tbody tr th {\n",
       "        vertical-align: top;\n",
       "    }\n",
       "\n",
       "    .dataframe thead th {\n",
       "        text-align: right;\n",
       "    }\n",
       "</style>\n",
       "<table border=\"1\" class=\"dataframe\">\n",
       "  <thead>\n",
       "    <tr style=\"text-align: right;\">\n",
       "      <th></th>\n",
       "      <th>error_type</th>\n",
       "      <th>model_id</th>\n",
       "      <th>num_error_reactions</th>\n",
       "      <th>num_nonbdry_reactions</th>\n",
       "      <th>num_total_reactions</th>\n",
       "    </tr>\n",
       "  </thead>\n",
       "  <tbody>\n",
       "    <tr>\n",
       "      <th>170</th>\n",
       "      <td>type1</td>\n",
       "      <td>BIOMD0000000297</td>\n",
       "      <td>4</td>\n",
       "      <td>22</td>\n",
       "      <td>51</td>\n",
       "    </tr>\n",
       "    <tr>\n",
       "      <th>171</th>\n",
       "      <td>type1</td>\n",
       "      <td>BIOMD0000000297</td>\n",
       "      <td>5</td>\n",
       "      <td>22</td>\n",
       "      <td>51</td>\n",
       "    </tr>\n",
       "    <tr>\n",
       "      <th>172</th>\n",
       "      <td>type1</td>\n",
       "      <td>BIOMD0000000356</td>\n",
       "      <td>5</td>\n",
       "      <td>63</td>\n",
       "      <td>64</td>\n",
       "    </tr>\n",
       "    <tr>\n",
       "      <th>173</th>\n",
       "      <td>type1</td>\n",
       "      <td>BIOMD0000000356</td>\n",
       "      <td>6</td>\n",
       "      <td>63</td>\n",
       "      <td>64</td>\n",
       "    </tr>\n",
       "    <tr>\n",
       "      <th>174</th>\n",
       "      <td>type1</td>\n",
       "      <td>BIOMD0000000356</td>\n",
       "      <td>6</td>\n",
       "      <td>63</td>\n",
       "      <td>64</td>\n",
       "    </tr>\n",
       "    <tr>\n",
       "      <th>175</th>\n",
       "      <td>type1</td>\n",
       "      <td>BIOMD0000000356</td>\n",
       "      <td>6</td>\n",
       "      <td>63</td>\n",
       "      <td>64</td>\n",
       "    </tr>\n",
       "    <tr>\n",
       "      <th>176</th>\n",
       "      <td>type1</td>\n",
       "      <td>BIOMD0000000356</td>\n",
       "      <td>7</td>\n",
       "      <td>63</td>\n",
       "      <td>64</td>\n",
       "    </tr>\n",
       "    <tr>\n",
       "      <th>177</th>\n",
       "      <td>echelon</td>\n",
       "      <td>BIOMD0000000426</td>\n",
       "      <td>3</td>\n",
       "      <td>29</td>\n",
       "      <td>29</td>\n",
       "    </tr>\n",
       "    <tr>\n",
       "      <th>178</th>\n",
       "      <td>echelon</td>\n",
       "      <td>BIOMD0000000426</td>\n",
       "      <td>8</td>\n",
       "      <td>29</td>\n",
       "      <td>29</td>\n",
       "    </tr>\n",
       "    <tr>\n",
       "      <th>179</th>\n",
       "      <td>echelon</td>\n",
       "      <td>BIOMD0000000105</td>\n",
       "      <td>3</td>\n",
       "      <td>94</td>\n",
       "      <td>94</td>\n",
       "    </tr>\n",
       "    <tr>\n",
       "      <th>180</th>\n",
       "      <td>type3</td>\n",
       "      <td>BIOMD0000000628</td>\n",
       "      <td>13</td>\n",
       "      <td>584</td>\n",
       "      <td>587</td>\n",
       "    </tr>\n",
       "  </tbody>\n",
       "</table>\n",
       "</div>"
      ],
      "text/plain": [
       "    error_type         model_id  num_error_reactions  num_nonbdry_reactions  \\\n",
       "170      type1  BIOMD0000000297                    4                     22   \n",
       "171      type1  BIOMD0000000297                    5                     22   \n",
       "172      type1  BIOMD0000000356                    5                     63   \n",
       "173      type1  BIOMD0000000356                    6                     63   \n",
       "174      type1  BIOMD0000000356                    6                     63   \n",
       "175      type1  BIOMD0000000356                    6                     63   \n",
       "176      type1  BIOMD0000000356                    7                     63   \n",
       "177    echelon  BIOMD0000000426                    3                     29   \n",
       "178    echelon  BIOMD0000000426                    8                     29   \n",
       "179    echelon  BIOMD0000000105                    3                     94   \n",
       "180      type3  BIOMD0000000628                   13                    584   \n",
       "\n",
       "     num_total_reactions  \n",
       "170                   51  \n",
       "171                   51  \n",
       "172                   64  \n",
       "173                   64  \n",
       "174                   64  \n",
       "175                   64  \n",
       "176                   64  \n",
       "177                   29  \n",
       "178                   29  \n",
       "179                   94  \n",
       "180                  587  "
      ]
     },
     "execution_count": 71,
     "metadata": {},
     "output_type": "execute_result"
    }
   ],
   "source": [
    "res_df.loc[170:180]"
   ]
  },
  {
   "cell_type": "code",
   "execution_count": null,
   "metadata": {},
   "outputs": [],
   "source": []
  },
  {
   "cell_type": "code",
   "execution_count": null,
   "metadata": {},
   "outputs": [],
   "source": []
  },
  {
   "cell_type": "code",
   "execution_count": 38,
   "metadata": {},
   "outputs": [
    {
     "name": "stdout",
     "output_type": "stream",
     "text": [
      "index of model 14 is 157\n"
     ]
    }
   ],
   "source": [
    "for i, m in enumerate(files):\n",
    "  if m[:-8] == \"BIOMD0000000014\":\n",
    "    print(\"index of model 14 is\", i)"
   ]
  },
  {
   "cell_type": "code",
   "execution_count": 39,
   "metadata": {},
   "outputs": [
    {
     "data": {
      "text/plain": [
       "'BIOMD0000000362_url.xml'"
      ]
     },
     "execution_count": 39,
     "metadata": {},
     "output_type": "execute_result"
    }
   ],
   "source": [
    "files[156]"
   ]
  },
  {
   "cell_type": "code",
   "execution_count": 61,
   "metadata": {},
   "outputs": [
    {
     "name": "stdout",
     "output_type": "stream",
     "text": [
      "elapsed time: 3.8915278911590576\n"
     ]
    }
   ],
   "source": [
    "import time\n",
    "# Checking all graphs \n",
    "simple = SimpleSBML()\n",
    "count = 0\n",
    "res_list2 = []\n",
    "start = time.time()\n",
    "for file in files[140:170]:\n",
    "  count += 1\n",
    "  if (count%100)==0:\n",
    "    print(\"we are analyzing Model number:\", count)\n",
    "  try:\n",
    "    simple.initialize(os.path.join(data_dir, file))\n",
    "    m = GAMES_PP(simple)\n",
    "    s = StoichiometryMatrix(simple)\n",
    "    num_total_reactions = len(simple.reactions)\n",
    "    num_nonbdry_reactions = s.stoichiometry_matrix.shape[1]\n",
    "    if simple.reactions:\n",
    "      result = m.analyze(error_details=False)\n",
    "      if result:\n",
    "        gr = GAMESReport(m)\n",
    "        errortype_dic = {TYPE_I: gr.reportTypeOneError,\n",
    "                         TYPE_II: gr.reportTypeTwoError,\n",
    "                         TYPE_III: gr.reportTypeThreeError,\n",
    "                         CANCELING: gr.reportCancelingError,\n",
    "                         ECHELON: gr.reportEchelonError\n",
    "                        }\n",
    "        summary = m.error_summary\n",
    "        for errors_type in m.error_summary:\n",
    "          for category in errortype_dic.keys():\n",
    "            if errors_type.type == category:\n",
    "              func = errortype_dic[category]            \n",
    "              _, error_num = func(errors_type.errors)\n",
    "              for num in error_num:\n",
    "                dic = {}\n",
    "                dic[MODEL_ID] = file[:-8]\n",
    "                dic[NUM_TOTAL_REACTIONS] = num_total_reactions\n",
    "                dic[NUM_NONBDRY_REACTIONS] = num_nonbdry_reactions\n",
    "                dic[ERROR_TYPE] = category\n",
    "                dic[NUM_ERROR_REACTIONS] = num\n",
    "                res_list2.append(dic)\n",
    "#                 res_list2.append({MODEL_ID: file[:-8],\n",
    "#                                   NUM_TOTAL_REACTIONS: num_total_reactions,\n",
    "#                                   NUM_NONBDRY_REACTIONS: num_nonbdry_reactions,\n",
    "#                                   ERROR_TYPE: category,\n",
    "#                                   NUM_ERROR_REACTIONS: num})\n",
    "#                 print(\"model dic number\", dic[MODEL_ID])\n",
    "#                 print(\"res_dic\", res_dic)\n",
    "  except:\n",
    "    print(\"Model\", file, \" has an error\")\n",
    "end = time.time()\n",
    "print(\"elapsed time:\", end - start)"
   ]
  },
  {
   "cell_type": "code",
   "execution_count": 57,
   "metadata": {},
   "outputs": [
    {
     "data": {
      "text/plain": [
       "[{'model_id': 'BIOMD0000000494',\n",
       "  'num_total_reactions': 71,\n",
       "  'num_nonbdry_reactions': 71,\n",
       "  'error_type': 'type1',\n",
       "  'num_error_reactions': 5},\n",
       " {'model_id': 'BIOMD0000000494',\n",
       "  'num_total_reactions': 71,\n",
       "  'num_nonbdry_reactions': 71,\n",
       "  'error_type': 'type1',\n",
       "  'num_error_reactions': 3},\n",
       " {'model_id': 'BIOMD0000000494',\n",
       "  'num_total_reactions': 71,\n",
       "  'num_nonbdry_reactions': 71,\n",
       "  'error_type': 'type1',\n",
       "  'num_error_reactions': 3},\n",
       " {'model_id': 'BIOMD0000000494',\n",
       "  'num_total_reactions': 71,\n",
       "  'num_nonbdry_reactions': 71,\n",
       "  'error_type': 'type1',\n",
       "  'num_error_reactions': 5},\n",
       " {'model_id': 'BIOMD0000000623',\n",
       "  'num_total_reactions': 31,\n",
       "  'num_nonbdry_reactions': 31,\n",
       "  'error_type': 'type1',\n",
       "  'num_error_reactions': 3},\n",
       " {'model_id': 'BIOMD0000000268',\n",
       "  'num_total_reactions': 61,\n",
       "  'num_nonbdry_reactions': 47,\n",
       "  'error_type': 'type1',\n",
       "  'num_error_reactions': 2},\n",
       " {'model_id': 'BIOMD0000000268',\n",
       "  'num_total_reactions': 61,\n",
       "  'num_nonbdry_reactions': 47,\n",
       "  'error_type': 'type1',\n",
       "  'num_error_reactions': 4},\n",
       " {'model_id': 'BIOMD0000000268',\n",
       "  'num_total_reactions': 61,\n",
       "  'num_nonbdry_reactions': 47,\n",
       "  'error_type': 'type1',\n",
       "  'num_error_reactions': 2},\n",
       " {'model_id': 'BIOMD0000000268',\n",
       "  'num_total_reactions': 61,\n",
       "  'num_nonbdry_reactions': 47,\n",
       "  'error_type': 'type1',\n",
       "  'num_error_reactions': 2},\n",
       " {'model_id': 'BIOMD0000000268',\n",
       "  'num_total_reactions': 61,\n",
       "  'num_nonbdry_reactions': 47,\n",
       "  'error_type': 'type2',\n",
       "  'num_error_reactions': 6},\n",
       " {'model_id': 'BIOMD0000000537',\n",
       "  'num_total_reactions': 73,\n",
       "  'num_nonbdry_reactions': 42,\n",
       "  'error_type': 'type1',\n",
       "  'num_error_reactions': 1},\n",
       " {'model_id': 'BIOMD0000000052',\n",
       "  'num_total_reactions': 11,\n",
       "  'num_nonbdry_reactions': 11,\n",
       "  'error_type': 'echelon',\n",
       "  'num_error_reactions': 4},\n",
       " {'model_id': 'BIOMD0000000409',\n",
       "  'num_total_reactions': 31,\n",
       "  'num_nonbdry_reactions': 29,\n",
       "  'error_type': 'type1',\n",
       "  'num_error_reactions': 5},\n",
       " {'model_id': 'BIOMD0000000409',\n",
       "  'num_total_reactions': 31,\n",
       "  'num_nonbdry_reactions': 29,\n",
       "  'error_type': 'type1',\n",
       "  'num_error_reactions': 2},\n",
       " {'model_id': 'BIOMD0000000409',\n",
       "  'num_total_reactions': 31,\n",
       "  'num_nonbdry_reactions': 29,\n",
       "  'error_type': 'type1',\n",
       "  'num_error_reactions': 2},\n",
       " {'model_id': 'BIOMD0000000409',\n",
       "  'num_total_reactions': 31,\n",
       "  'num_nonbdry_reactions': 29,\n",
       "  'error_type': 'type1',\n",
       "  'num_error_reactions': 3},\n",
       " {'model_id': 'BIOMD0000000571',\n",
       "  'num_total_reactions': 92,\n",
       "  'num_nonbdry_reactions': 51,\n",
       "  'error_type': 'type1',\n",
       "  'num_error_reactions': 2},\n",
       " {'model_id': 'BIOMD0000000571',\n",
       "  'num_total_reactions': 92,\n",
       "  'num_nonbdry_reactions': 51,\n",
       "  'error_type': 'type1',\n",
       "  'num_error_reactions': 2},\n",
       " {'model_id': 'BIOMD0000000571',\n",
       "  'num_total_reactions': 92,\n",
       "  'num_nonbdry_reactions': 51,\n",
       "  'error_type': 'type1',\n",
       "  'num_error_reactions': 2},\n",
       " {'model_id': 'BIOMD0000000571',\n",
       "  'num_total_reactions': 92,\n",
       "  'num_nonbdry_reactions': 51,\n",
       "  'error_type': 'type1',\n",
       "  'num_error_reactions': 2},\n",
       " {'model_id': 'BIOMD0000000571',\n",
       "  'num_total_reactions': 92,\n",
       "  'num_nonbdry_reactions': 51,\n",
       "  'error_type': 'type1',\n",
       "  'num_error_reactions': 2},\n",
       " {'model_id': 'BIOMD0000000571',\n",
       "  'num_total_reactions': 92,\n",
       "  'num_nonbdry_reactions': 51,\n",
       "  'error_type': 'type1',\n",
       "  'num_error_reactions': 2},\n",
       " {'model_id': 'BIOMD0000000571',\n",
       "  'num_total_reactions': 92,\n",
       "  'num_nonbdry_reactions': 51,\n",
       "  'error_type': 'type1',\n",
       "  'num_error_reactions': 2},\n",
       " {'model_id': 'BIOMD0000000571',\n",
       "  'num_total_reactions': 92,\n",
       "  'num_nonbdry_reactions': 51,\n",
       "  'error_type': 'type1',\n",
       "  'num_error_reactions': 2},\n",
       " {'model_id': 'BIOMD0000000571',\n",
       "  'num_total_reactions': 92,\n",
       "  'num_nonbdry_reactions': 51,\n",
       "  'error_type': 'type1',\n",
       "  'num_error_reactions': 2},\n",
       " {'model_id': 'BIOMD0000000571',\n",
       "  'num_total_reactions': 92,\n",
       "  'num_nonbdry_reactions': 51,\n",
       "  'error_type': 'type1',\n",
       "  'num_error_reactions': 2},\n",
       " {'model_id': 'BIOMD0000000571',\n",
       "  'num_total_reactions': 92,\n",
       "  'num_nonbdry_reactions': 51,\n",
       "  'error_type': 'type1',\n",
       "  'num_error_reactions': 2},\n",
       " {'model_id': 'BIOMD0000000571',\n",
       "  'num_total_reactions': 92,\n",
       "  'num_nonbdry_reactions': 51,\n",
       "  'error_type': 'type1',\n",
       "  'num_error_reactions': 2},\n",
       " {'model_id': 'BIOMD0000000571',\n",
       "  'num_total_reactions': 92,\n",
       "  'num_nonbdry_reactions': 51,\n",
       "  'error_type': 'type1',\n",
       "  'num_error_reactions': 2},\n",
       " {'model_id': 'BIOMD0000000571',\n",
       "  'num_total_reactions': 92,\n",
       "  'num_nonbdry_reactions': 51,\n",
       "  'error_type': 'type1',\n",
       "  'num_error_reactions': 2},\n",
       " {'model_id': 'BIOMD0000000571',\n",
       "  'num_total_reactions': 92,\n",
       "  'num_nonbdry_reactions': 51,\n",
       "  'error_type': 'type1',\n",
       "  'num_error_reactions': 2},\n",
       " {'model_id': 'BIOMD0000000571',\n",
       "  'num_total_reactions': 92,\n",
       "  'num_nonbdry_reactions': 51,\n",
       "  'error_type': 'type1',\n",
       "  'num_error_reactions': 2},\n",
       " {'model_id': 'BIOMD0000000571',\n",
       "  'num_total_reactions': 92,\n",
       "  'num_nonbdry_reactions': 51,\n",
       "  'error_type': 'type1',\n",
       "  'num_error_reactions': 2},\n",
       " {'model_id': 'BIOMD0000000571',\n",
       "  'num_total_reactions': 92,\n",
       "  'num_nonbdry_reactions': 51,\n",
       "  'error_type': 'type1',\n",
       "  'num_error_reactions': 2}]"
      ]
     },
     "execution_count": 57,
     "metadata": {},
     "output_type": "execute_result"
    }
   ],
   "source": [
    "res_list2"
   ]
  },
  {
   "cell_type": "code",
   "execution_count": null,
   "metadata": {},
   "outputs": [],
   "source": []
  }
 ],
 "metadata": {
  "kernelspec": {
   "display_name": "Python 3",
   "language": "python",
   "name": "python3"
  },
  "language_info": {
   "codemirror_mode": {
    "name": "ipython",
    "version": 3
   },
   "file_extension": ".py",
   "mimetype": "text/x-python",
   "name": "python",
   "nbconvert_exporter": "python",
   "pygments_lexer": "ipython3",
   "version": "3.6.8"
  }
 },
 "nbformat": 4,
 "nbformat_minor": 2
}
