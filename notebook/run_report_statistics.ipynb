{
 "cells": [
  {
   "cell_type": "code",
   "execution_count": 1,
   "metadata": {},
   "outputs": [
    {
     "name": "stdout",
     "output_type": "stream",
     "text": [
      "Current Directory: /Users/woosubshin/Desktop/ModelEngineering/SBMLLint/notebook\n"
     ]
    }
   ],
   "source": [
    "from games_setup import *\n",
    "from SBMLLint.common import constants as cn\n",
    "from SBMLLint.common.molecule import Molecule, MoleculeStoichiometry\n",
    "from SBMLLint.common.reaction import Reaction\n",
    "from SBMLLint.games.som import SOM\n",
    "from SBMLLint.common.simple_sbml import SimpleSBML\n",
    "\n",
    "import collections\n",
    "import copy\n",
    "import itertools\n",
    "import networkx as nx\n",
    "import numpy as np\n",
    "import pandas as pd\n",
    "#\n",
    "from SBMLLint.common.stoichiometry_matrix import StoichiometryMatrix\n",
    "from SBMLLint.games.mesgraph import MESGraph\n",
    "from SBMLLint.games.games_pp import GAMES_PP, SOMStoichiometry, SOMReaction, TOLERANCE\n",
    "from SBMLLint.games.games_report import GAMESReport, SimplifiedReaction\n",
    "\n",
    "import matplotlib.pyplot as plt\n",
    "%matplotlib inline\n",
    "import seaborn as sns\n",
    "\n",
    "ReactionOperation = collections.namedtuple(\"ReactionOperation\", \n",
    "    \"reaction operation\")"
   ]
  },
  {
   "cell_type": "code",
   "execution_count": 2,
   "metadata": {},
   "outputs": [],
   "source": [
    "# statistics columns\n",
    "MODEL_ID = \"model_id\"\n",
    "NUM_TOTAL_REACTIONS = \"num_total_reactions\"\n",
    "NUM_NONBDRY_REACTIONS = \"num_nonbdry_reactions\"\n",
    "NUM_MULTIMULTI_REACTIONS = \"num_multimulti_reactions\"\n",
    "#\n",
    "ERROR_TYPE = \"error_type\"\n",
    "TYPE_I = \"type1\"\n",
    "TYPE_II = \"type2\"\n",
    "TYPE_III = \"type3\"\n",
    "CANCELING = \"canceling\"\n",
    "ECHELON = \"echelon\"\n",
    "ERRORS = [TYPE_I, TYPE_II, TYPE_III, CANCELING, ECHELON]\n",
    "#\n",
    "NUM_ERROR_REACTIONS = \"num_error_reactions\""
   ]
  },
  {
   "cell_type": "code",
   "execution_count": 3,
   "metadata": {},
   "outputs": [],
   "source": [
    "data_dir=cn.BIOMODELS_DIR\n",
    "#files = [f for f in os.listdir(data_dir) if f[-4:] == \".xml\"]\n",
    "files = [f for f in os.listdir(data_dir) if f[:7] == \"BIOMD00\"]\n",
    "#paths = [os.path.join(data_dir, filename) for filename in files]\n",
    "unloadable_models = [\"BIOMD0000000075_url.xml\",\n",
    "                     \"BIOMD0000000081_url.xml\",\n",
    "                     \"BIOMD0000000094_url.xml\",\n",
    "                     \"BIOMD0000000353_url.xml\",\n",
    "                     \"BIOMD0000000596_url.xml\"]\n",
    "net_files = list(set(files) - set(unloadable_models))"
   ]
  },
  {
   "cell_type": "code",
   "execution_count": 4,
   "metadata": {},
   "outputs": [
    {
     "data": {
      "text/plain": [
       "651"
      ]
     },
     "execution_count": 4,
     "metadata": {},
     "output_type": "execute_result"
    }
   ],
   "source": [
    "len(net_files)"
   ]
  },
  {
   "cell_type": "code",
   "execution_count": 5,
   "metadata": {},
   "outputs": [
    {
     "data": {
      "text/plain": [
       "ErrorSummary(type1=1, type2=2, type3=3, canceling=4, echelon=5)"
      ]
     },
     "execution_count": 5,
     "metadata": {},
     "output_type": "execute_result"
    }
   ],
   "source": [
    "ErrorSummary = collections.namedtuple(\"ErrorSummary\",\n",
    "    \"type1 type2 type3 canceling echelon\")\n",
    "a = ErrorSummary(type1 = 1, type2 = 2, type3 = 3, canceling=4, echelon=5)\n",
    "a"
   ]
  },
  {
   "cell_type": "code",
   "execution_count": 6,
   "metadata": {},
   "outputs": [
    {
     "name": "stdout",
     "output_type": "stream",
     "text": [
      "14\n",
      "13\n",
      "type1 error\n"
     ]
    }
   ],
   "source": [
    "simple = SimpleSBML()\n",
    "simple.initialize(os.path.join(data_dir, files[1]))\n",
    "s = StoichiometryMatrix(simple)\n",
    "num_total_reactions = len(simple.reactions)\n",
    "num_nonbdry_reactions = s.stoichiometry_matrix.shape[1]\n",
    "print(num_total_reactions)\n",
    "print(num_nonbdry_reactions)\n",
    "m = GAMES_PP(simple)\n",
    "if simple.reactions:\n",
    "  result = m.analyze(error_details=False)\n",
    "  if result:\n",
    "    dic = {}\n",
    "    dic[MODEL_ID] = files[0]\n",
    "    dic[NUM_TOTAL_REACTIONS] = num_total_reactions\n",
    "    dic[NUM_NONBDRY_REACTIONS] = num_nonbdry_reactions\n",
    "    summary = m.error_summary\n",
    "    if summary[0].type == TYPE_I:\n",
    "      print(\"type1 error\")\n",
    "    if summary[0].type == TYPE_II:\n",
    "      print(\"type2 error\")"
   ]
  },
  {
   "cell_type": "code",
   "execution_count": 7,
   "metadata": {},
   "outputs": [
    {
     "name": "stdout",
     "output_type": "stream",
     "text": [
      "we are analyzing Model number: 100\n",
      "we are analyzing Model number: 200\n",
      "we are analyzing Model number: 300\n",
      "we are analyzing Model number: 400\n",
      "we are analyzing Model number: 500\n",
      "we are analyzing Model number: 600\n",
      "Models with False Errors {'BIOMD0000000243_url.xml', 'BIOMD0000000628_url.xml'}\n",
      "Must remove other errors from these models before summarizing\n"
     ]
    }
   ],
   "source": [
    "# Checking all graphs \n",
    "count = 0\n",
    "simple = SimpleSBML()\n",
    "res_list = []\n",
    "false_errors = set()\n",
    "for file in net_files:\n",
    "  count += 1\n",
    "  if (count%100)==0:\n",
    "    print(\"we are analyzing Model number:\", count)\n",
    "  try:\n",
    "    simple.initialize(os.path.join(data_dir, file))\n",
    "    m = GAMES_PP(simple)\n",
    "    s = StoichiometryMatrix(simple)\n",
    "    num_total_reactions = len(simple.reactions)\n",
    "    num_nonbdry_reactions = s.stoichiometry_matrix.shape[1]\n",
    "    if simple.reactions:\n",
    "      result = m.analyze(error_details=False)\n",
    "      if result:\n",
    "        gr = GAMESReport(m)\n",
    "        errortype_dic = {TYPE_I: gr.reportTypeOneError,\n",
    "                         TYPE_II: gr.reportTypeTwoError,\n",
    "                         TYPE_III: gr.reportTypeThreeError,\n",
    "                         CANCELING: gr.reportCancelingError,\n",
    "                         ECHELON: gr.reportEchelonError\n",
    "                        }\n",
    "        summary = m.error_summary\n",
    "        for errors in m.error_summary:\n",
    "          for category in errortype_dic.keys():\n",
    "            if errors.type == category:\n",
    "              func = errortype_dic[category]            \n",
    "              report, error_num = func(errors.errors)\n",
    "              if report is False:\n",
    "                false_errors.add(file)\n",
    "              else:\n",
    "                for num in error_num:\n",
    "                  res_list.append(dict({MODEL_ID: file[:-8],\n",
    "                                        NUM_TOTAL_REACTIONS: num_total_reactions,\n",
    "                                        NUM_NONBDRY_REACTIONS: num_nonbdry_reactions,\n",
    "                                        ERROR_TYPE: category,\n",
    "                                        NUM_ERROR_REACTIONS: num})) \n",
    "#                 print(\"Model ID\", file[:-8])\n",
    "#                 print(\"error_num\", error_num)\n",
    "  except:\n",
    "    print(\"Model\", file, \" has an error\")\n",
    "print(\"Models with False Errors\", false_errors)\n",
    "print(\"Must remove other errors from these models before summarizing\")"
   ]
  },
  {
   "cell_type": "code",
   "execution_count": 8,
   "metadata": {},
   "outputs": [
    {
     "data": {
      "text/html": [
       "<div>\n",
       "<style scoped>\n",
       "    .dataframe tbody tr th:only-of-type {\n",
       "        vertical-align: middle;\n",
       "    }\n",
       "\n",
       "    .dataframe tbody tr th {\n",
       "        vertical-align: top;\n",
       "    }\n",
       "\n",
       "    .dataframe thead th {\n",
       "        text-align: right;\n",
       "    }\n",
       "</style>\n",
       "<table border=\"1\" class=\"dataframe\">\n",
       "  <thead>\n",
       "    <tr style=\"text-align: right;\">\n",
       "      <th></th>\n",
       "      <th>error_type</th>\n",
       "      <th>model_id</th>\n",
       "      <th>num_error_reactions</th>\n",
       "      <th>num_nonbdry_reactions</th>\n",
       "      <th>num_total_reactions</th>\n",
       "    </tr>\n",
       "  </thead>\n",
       "  <tbody>\n",
       "    <tr>\n",
       "      <th>0</th>\n",
       "      <td>type1</td>\n",
       "      <td>BIOMD0000000587</td>\n",
       "      <td>1</td>\n",
       "      <td>16</td>\n",
       "      <td>23</td>\n",
       "    </tr>\n",
       "    <tr>\n",
       "      <th>1</th>\n",
       "      <td>type1</td>\n",
       "      <td>BIOMD0000000587</td>\n",
       "      <td>1</td>\n",
       "      <td>16</td>\n",
       "      <td>23</td>\n",
       "    </tr>\n",
       "    <tr>\n",
       "      <th>2</th>\n",
       "      <td>type1</td>\n",
       "      <td>BIOMD0000000587</td>\n",
       "      <td>1</td>\n",
       "      <td>16</td>\n",
       "      <td>23</td>\n",
       "    </tr>\n",
       "    <tr>\n",
       "      <th>3</th>\n",
       "      <td>type1</td>\n",
       "      <td>BIOMD0000000587</td>\n",
       "      <td>1</td>\n",
       "      <td>16</td>\n",
       "      <td>23</td>\n",
       "    </tr>\n",
       "    <tr>\n",
       "      <th>4</th>\n",
       "      <td>type1</td>\n",
       "      <td>BIOMD0000000587</td>\n",
       "      <td>1</td>\n",
       "      <td>16</td>\n",
       "      <td>23</td>\n",
       "    </tr>\n",
       "  </tbody>\n",
       "</table>\n",
       "</div>"
      ],
      "text/plain": [
       "  error_type         model_id  num_error_reactions  num_nonbdry_reactions  \\\n",
       "0      type1  BIOMD0000000587                    1                     16   \n",
       "1      type1  BIOMD0000000587                    1                     16   \n",
       "2      type1  BIOMD0000000587                    1                     16   \n",
       "3      type1  BIOMD0000000587                    1                     16   \n",
       "4      type1  BIOMD0000000587                    1                     16   \n",
       "\n",
       "   num_total_reactions  \n",
       "0                   23  \n",
       "1                   23  \n",
       "2                   23  \n",
       "3                   23  \n",
       "4                   23  "
      ]
     },
     "execution_count": 8,
     "metadata": {},
     "output_type": "execute_result"
    }
   ],
   "source": [
    "res_df = pd.DataFrame(res_list)\n",
    "res_df.head()d"
   ]
  },
  {
   "cell_type": "code",
   "execution_count": 110,
   "metadata": {},
   "outputs": [
    {
     "data": {
      "text/html": [
       "<div>\n",
       "<style scoped>\n",
       "    .dataframe tbody tr th:only-of-type {\n",
       "        vertical-align: middle;\n",
       "    }\n",
       "\n",
       "    .dataframe tbody tr th {\n",
       "        vertical-align: top;\n",
       "    }\n",
       "\n",
       "    .dataframe thead th {\n",
       "        text-align: right;\n",
       "    }\n",
       "</style>\n",
       "<table border=\"1\" class=\"dataframe\">\n",
       "  <thead>\n",
       "    <tr style=\"text-align: right;\">\n",
       "      <th></th>\n",
       "      <th>error_type</th>\n",
       "      <th>model_id</th>\n",
       "      <th>num_error_reactions</th>\n",
       "      <th>num_nonbdry_reactions</th>\n",
       "      <th>num_total_reactions</th>\n",
       "    </tr>\n",
       "  </thead>\n",
       "  <tbody>\n",
       "  </tbody>\n",
       "</table>\n",
       "</div>"
      ],
      "text/plain": [
       "Empty DataFrame\n",
       "Columns: [error_type, model_id, num_error_reactions, num_nonbdry_reactions, num_total_reactions]\n",
       "Index: []"
      ]
     },
     "execution_count": 110,
     "metadata": {},
     "output_type": "execute_result"
    }
   ],
   "source": [
    "res_df[res_df[MODEL_ID] == \"BIOMD0000000574\"]"
   ]
  },
  {
   "cell_type": "code",
   "execution_count": 111,
   "metadata": {},
   "outputs": [],
   "source": [
    "filtered_df = res_df[(res_df[MODEL_ID] != \"BIOMD0000000243\") &\n",
    "                    (res_df[MODEL_ID] != \"BIOMD0000000628\")]"
   ]
  },
  {
   "cell_type": "code",
   "execution_count": 112,
   "metadata": {},
   "outputs": [
    {
     "data": {
      "text/plain": [
       "136"
      ]
     },
     "execution_count": 112,
     "metadata": {},
     "output_type": "execute_result"
    }
   ],
   "source": [
    "len(set(filtered_df[MODEL_ID]))"
   ]
  },
  {
   "cell_type": "code",
   "execution_count": 113,
   "metadata": {},
   "outputs": [
    {
     "data": {
      "text/html": [
       "<div>\n",
       "<style scoped>\n",
       "    .dataframe tbody tr th:only-of-type {\n",
       "        vertical-align: middle;\n",
       "    }\n",
       "\n",
       "    .dataframe tbody tr th {\n",
       "        vertical-align: top;\n",
       "    }\n",
       "\n",
       "    .dataframe thead th {\n",
       "        text-align: right;\n",
       "    }\n",
       "</style>\n",
       "<table border=\"1\" class=\"dataframe\">\n",
       "  <thead>\n",
       "    <tr style=\"text-align: right;\">\n",
       "      <th></th>\n",
       "      <th>error_type</th>\n",
       "      <th>model_id</th>\n",
       "      <th>num_error_reactions</th>\n",
       "      <th>num_nonbdry_reactions</th>\n",
       "      <th>num_total_reactions</th>\n",
       "      <th>niss</th>\n",
       "    </tr>\n",
       "  </thead>\n",
       "  <tbody>\n",
       "    <tr>\n",
       "      <th>0</th>\n",
       "      <td>type1</td>\n",
       "      <td>BIOMD0000000587</td>\n",
       "      <td>1</td>\n",
       "      <td>16</td>\n",
       "      <td>23</td>\n",
       "      <td>0.0625</td>\n",
       "    </tr>\n",
       "    <tr>\n",
       "      <th>1</th>\n",
       "      <td>type1</td>\n",
       "      <td>BIOMD0000000587</td>\n",
       "      <td>1</td>\n",
       "      <td>16</td>\n",
       "      <td>23</td>\n",
       "      <td>0.0625</td>\n",
       "    </tr>\n",
       "    <tr>\n",
       "      <th>2</th>\n",
       "      <td>type1</td>\n",
       "      <td>BIOMD0000000587</td>\n",
       "      <td>1</td>\n",
       "      <td>16</td>\n",
       "      <td>23</td>\n",
       "      <td>0.0625</td>\n",
       "    </tr>\n",
       "    <tr>\n",
       "      <th>3</th>\n",
       "      <td>type1</td>\n",
       "      <td>BIOMD0000000587</td>\n",
       "      <td>1</td>\n",
       "      <td>16</td>\n",
       "      <td>23</td>\n",
       "      <td>0.0625</td>\n",
       "    </tr>\n",
       "    <tr>\n",
       "      <th>4</th>\n",
       "      <td>type1</td>\n",
       "      <td>BIOMD0000000587</td>\n",
       "      <td>1</td>\n",
       "      <td>16</td>\n",
       "      <td>23</td>\n",
       "      <td>0.0625</td>\n",
       "    </tr>\n",
       "  </tbody>\n",
       "</table>\n",
       "</div>"
      ],
      "text/plain": [
       "  error_type         model_id  num_error_reactions  num_nonbdry_reactions  \\\n",
       "0      type1  BIOMD0000000587                    1                     16   \n",
       "1      type1  BIOMD0000000587                    1                     16   \n",
       "2      type1  BIOMD0000000587                    1                     16   \n",
       "3      type1  BIOMD0000000587                    1                     16   \n",
       "4      type1  BIOMD0000000587                    1                     16   \n",
       "\n",
       "   num_total_reactions    niss  \n",
       "0                   23  0.0625  \n",
       "1                   23  0.0625  \n",
       "2                   23  0.0625  \n",
       "3                   23  0.0625  \n",
       "4                   23  0.0625  "
      ]
     },
     "execution_count": 113,
     "metadata": {},
     "output_type": "execute_result"
    }
   ],
   "source": [
    "# niss: normalized isolation set size\n",
    "extended_res_df = filtered_df.assign(niss = filtered_df[NUM_ERROR_REACTIONS] / filtered_df[NUM_NONBDRY_REACTIONS])\n",
    "extended_res_df.head()"
   ]
  },
  {
   "cell_type": "code",
   "execution_count": 131,
   "metadata": {},
   "outputs": [
    {
     "data": {
      "text/plain": [
       "847"
      ]
     },
     "execution_count": 131,
     "metadata": {},
     "output_type": "execute_result"
    }
   ],
   "source": [
    "len(extended_res_df)"
   ]
  },
  {
   "cell_type": "code",
   "execution_count": 135,
   "metadata": {},
   "outputs": [
    {
     "name": "stdout",
     "output_type": "stream",
     "text": [
      "Average ISS for GAMES+: \n",
      "4.003542\n",
      "Standard Error of ISS for GAMES+: \n",
      "0.340206\n",
      "Average nISS for GAMES+: \n",
      "0.085472\n",
      "Standard Error of nISS for GAMES+: \n",
      "0.004562\n"
     ]
    }
   ],
   "source": [
    "print(\"Average ISS for GAMES+: \\n%f\" % np.mean(extended_res_df[NUM_ERROR_REACTIONS]))\n",
    "print(\"Standard Error of ISS for GAMES+: \\n%f\" % \n",
    "      (np.std(extended_res_df[NUM_ERROR_REACTIONS])/np.sqrt(len(extended_res_df))))\n",
    "print(\"Average nISS for GAMES+: \\n%f\" % np.mean(extended_res_df[\"niss\"]))\n",
    "print(\"Standard Error of nISS for GAMES+: \\n%f\" % \n",
    "      ( np.std(extended_res_df[\"niss\"]) / np.sqrt(len(extended_res_df)) ))"
   ]
  },
  {
   "cell_type": "code",
   "execution_count": 79,
   "metadata": {},
   "outputs": [
    {
     "data": {
      "text/plain": [
       "847"
      ]
     },
     "execution_count": 79,
     "metadata": {},
     "output_type": "execute_result"
    }
   ],
   "source": [
    "len(extended_res_df)"
   ]
  },
  {
   "cell_type": "code",
   "execution_count": 81,
   "metadata": {},
   "outputs": [
    {
     "data": {
      "text/html": [
       "<div>\n",
       "<style scoped>\n",
       "    .dataframe tbody tr th:only-of-type {\n",
       "        vertical-align: middle;\n",
       "    }\n",
       "\n",
       "    .dataframe tbody tr th {\n",
       "        vertical-align: top;\n",
       "    }\n",
       "\n",
       "    .dataframe thead th {\n",
       "        text-align: right;\n",
       "    }\n",
       "</style>\n",
       "<table border=\"1\" class=\"dataframe\">\n",
       "  <thead>\n",
       "    <tr style=\"text-align: right;\">\n",
       "      <th></th>\n",
       "      <th>error_type</th>\n",
       "      <th>model_id</th>\n",
       "      <th>num_error_reactions</th>\n",
       "      <th>num_nonbdry_reactions</th>\n",
       "      <th>num_total_reactions</th>\n",
       "      <th>niss</th>\n",
       "    </tr>\n",
       "  </thead>\n",
       "  <tbody>\n",
       "  </tbody>\n",
       "</table>\n",
       "</div>"
      ],
      "text/plain": [
       "Empty DataFrame\n",
       "Columns: [error_type, model_id, num_error_reactions, num_nonbdry_reactions, num_total_reactions, niss]\n",
       "Index: []"
      ]
     },
     "execution_count": 81,
     "metadata": {},
     "output_type": "execute_result"
    }
   ],
   "source": [
    "extended_res_df[extended_res_df[MODEL_ID] == \"BIOMD0000000628\"]"
   ]
  },
  {
   "cell_type": "code",
   "execution_count": 84,
   "metadata": {},
   "outputs": [
    {
     "data": {
      "text/html": [
       "<div>\n",
       "<style scoped>\n",
       "    .dataframe tbody tr th:only-of-type {\n",
       "        vertical-align: middle;\n",
       "    }\n",
       "\n",
       "    .dataframe tbody tr th {\n",
       "        vertical-align: top;\n",
       "    }\n",
       "\n",
       "    .dataframe thead th {\n",
       "        text-align: right;\n",
       "    }\n",
       "</style>\n",
       "<table border=\"1\" class=\"dataframe\">\n",
       "  <thead>\n",
       "    <tr style=\"text-align: right;\">\n",
       "      <th></th>\n",
       "      <th>error_type</th>\n",
       "      <th>model_id</th>\n",
       "      <th>num_error_reactions</th>\n",
       "      <th>num_nonbdry_reactions</th>\n",
       "      <th>num_total_reactions</th>\n",
       "      <th>niss</th>\n",
       "    </tr>\n",
       "  </thead>\n",
       "  <tbody>\n",
       "    <tr>\n",
       "      <th>0</th>\n",
       "      <td>type1</td>\n",
       "      <td>BIOMD0000000587</td>\n",
       "      <td>1</td>\n",
       "      <td>16</td>\n",
       "      <td>23</td>\n",
       "      <td>0.0625</td>\n",
       "    </tr>\n",
       "    <tr>\n",
       "      <th>1</th>\n",
       "      <td>type1</td>\n",
       "      <td>BIOMD0000000587</td>\n",
       "      <td>1</td>\n",
       "      <td>16</td>\n",
       "      <td>23</td>\n",
       "      <td>0.0625</td>\n",
       "    </tr>\n",
       "    <tr>\n",
       "      <th>2</th>\n",
       "      <td>type1</td>\n",
       "      <td>BIOMD0000000587</td>\n",
       "      <td>1</td>\n",
       "      <td>16</td>\n",
       "      <td>23</td>\n",
       "      <td>0.0625</td>\n",
       "    </tr>\n",
       "    <tr>\n",
       "      <th>3</th>\n",
       "      <td>type1</td>\n",
       "      <td>BIOMD0000000587</td>\n",
       "      <td>1</td>\n",
       "      <td>16</td>\n",
       "      <td>23</td>\n",
       "      <td>0.0625</td>\n",
       "    </tr>\n",
       "    <tr>\n",
       "      <th>4</th>\n",
       "      <td>type1</td>\n",
       "      <td>BIOMD0000000587</td>\n",
       "      <td>1</td>\n",
       "      <td>16</td>\n",
       "      <td>23</td>\n",
       "      <td>0.0625</td>\n",
       "    </tr>\n",
       "  </tbody>\n",
       "</table>\n",
       "</div>"
      ],
      "text/plain": [
       "  error_type         model_id  num_error_reactions  num_nonbdry_reactions  \\\n",
       "0      type1  BIOMD0000000587                    1                     16   \n",
       "1      type1  BIOMD0000000587                    1                     16   \n",
       "2      type1  BIOMD0000000587                    1                     16   \n",
       "3      type1  BIOMD0000000587                    1                     16   \n",
       "4      type1  BIOMD0000000587                    1                     16   \n",
       "\n",
       "   num_total_reactions    niss  \n",
       "0                   23  0.0625  \n",
       "1                   23  0.0625  \n",
       "2                   23  0.0625  \n",
       "3                   23  0.0625  \n",
       "4                   23  0.0625  "
      ]
     },
     "execution_count": 84,
     "metadata": {},
     "output_type": "execute_result"
    }
   ],
   "source": [
    "simple_games_res_df = extended_res_df[(extended_res_df[ERROR_TYPE]==TYPE_I) | (extended_res_df[ERROR_TYPE]==TYPE_II)]\n",
    "simple_games_res_df.head()"
   ]
  },
  {
   "cell_type": "code",
   "execution_count": 142,
   "metadata": {},
   "outputs": [
    {
     "data": {
      "text/plain": [
       "0.004497613772750082"
      ]
     },
     "execution_count": 142,
     "metadata": {},
     "output_type": "execute_result"
    }
   ],
   "source": [
    "a = np.std(simple_games_res_df[\"niss\"])\n",
    "b = np.sqrt(len(simple_games_res_df))\n",
    "a / b"
   ]
  },
  {
   "cell_type": "code",
   "execution_count": 141,
   "metadata": {},
   "outputs": [
    {
     "name": "stdout",
     "output_type": "stream",
     "text": [
      "Average ISS for Simple GAMES: \n",
      "3.845269\n",
      "Standard Deviation of ISS for sGAMES: \n",
      "0.365859\n",
      "Average NISS for Simple GAMES+: \n",
      "0.075807\n",
      "Standard Deviation of nISS for sGAMES: \n",
      "0.004498\n"
     ]
    }
   ],
   "source": [
    "print(\"Average ISS for Simple GAMES: \\n%f\" % np.mean(simple_games_res_df[NUM_ERROR_REACTIONS]))\n",
    "print(\"Standard Deviation of ISS for sGAMES: \\n%f\" % \n",
    "      (np.std(simple_games_res_df[NUM_ERROR_REACTIONS]) / np.sqrt(len(simple_games_res_df))))\n",
    "print(\"Average NISS for Simple GAMES+: \\n%f\" % np.mean(simple_games_res_df[\"niss\"]))\n",
    "print(\"Standard Deviation of nISS for sGAMES: \\n%f\" % \n",
    "      (np.std(simple_games_res_df[\"niss\"]) / np.sqrt(len(simple_games_res_df))))"
   ]
  },
  {
   "cell_type": "code",
   "execution_count": 86,
   "metadata": {},
   "outputs": [
    {
     "data": {
      "text/html": [
       "<div>\n",
       "<style scoped>\n",
       "    .dataframe tbody tr th:only-of-type {\n",
       "        vertical-align: middle;\n",
       "    }\n",
       "\n",
       "    .dataframe tbody tr th {\n",
       "        vertical-align: top;\n",
       "    }\n",
       "\n",
       "    .dataframe thead th {\n",
       "        text-align: right;\n",
       "    }\n",
       "</style>\n",
       "<table border=\"1\" class=\"dataframe\">\n",
       "  <thead>\n",
       "    <tr style=\"text-align: right;\">\n",
       "      <th></th>\n",
       "      <th>error_type</th>\n",
       "      <th>model_id</th>\n",
       "      <th>num_error_reactions</th>\n",
       "      <th>num_nonbdry_reactions</th>\n",
       "      <th>num_total_reactions</th>\n",
       "    </tr>\n",
       "  </thead>\n",
       "  <tbody>\n",
       "  </tbody>\n",
       "</table>\n",
       "</div>"
      ],
      "text/plain": [
       "Empty DataFrame\n",
       "Columns: [error_type, model_id, num_error_reactions, num_nonbdry_reactions, num_total_reactions]\n",
       "Index: []"
      ]
     },
     "execution_count": 86,
     "metadata": {},
     "output_type": "execute_result"
    }
   ],
   "source": [
    "res_df[res_df[NUM_ERROR_REACTIONS] > res_df[NUM_NONBDRY_REACTIONS]]"
   ]
  },
  {
   "cell_type": "code",
   "execution_count": 87,
   "metadata": {},
   "outputs": [
    {
     "data": {
      "text/plain": [
       "847"
      ]
     },
     "execution_count": 87,
     "metadata": {},
     "output_type": "execute_result"
    }
   ],
   "source": [
    "len(extended_res_df)"
   ]
  },
  {
   "cell_type": "code",
   "execution_count": 88,
   "metadata": {},
   "outputs": [
    {
     "data": {
      "text/plain": [
       "782"
      ]
     },
     "execution_count": 88,
     "metadata": {},
     "output_type": "execute_result"
    }
   ],
   "source": [
    "len(simple_games_res_df)"
   ]
  },
  {
   "cell_type": "code",
   "execution_count": 50,
   "metadata": {},
   "outputs": [],
   "source": [
    "dd = extended_res_df[(extended_res_df[ERROR_TYPE]==TYPE_III) | \\\n",
    "                     (extended_res_df[ERROR_TYPE]==CANCELING) | \\\n",
    "                    (extended_res_df[ERROR_TYPE]==ECHELON)]"
   ]
  },
  {
   "cell_type": "code",
   "execution_count": 51,
   "metadata": {},
   "outputs": [
    {
     "data": {
      "text/plain": [
       "29.65024630541872"
      ]
     },
     "execution_count": 51,
     "metadata": {},
     "output_type": "execute_result"
    }
   ],
   "source": [
    "np.mean(dd[NUM_ERROR_REACTIONS])"
   ]
  },
  {
   "cell_type": "code",
   "execution_count": 52,
   "metadata": {},
   "outputs": [
    {
     "data": {
      "text/plain": [
       "(array([47.,  2., 22., 62., 69.,  0.,  0.,  0.,  0.,  1.]),\n",
       " array([ 2. , 11.5, 21. , 30.5, 40. , 49.5, 59. , 68.5, 78. , 87.5, 97. ]),\n",
       " <a list of 10 Patch objects>)"
      ]
     },
     "execution_count": 52,
     "metadata": {},
     "output_type": "execute_result"
    },
    {
     "data": {
      "image/png": "[encoded data removed]",
      "text/plain": [
       "<Figure size 432x288 with 1 Axes>"
      ]
     },
     "metadata": {
      "needs_background": "light"
     },
     "output_type": "display_data"
    }
   ],
   "source": [
    "plt.hist(dd[NUM_ERROR_REACTIONS])"
   ]
  },
  {
   "cell_type": "code",
   "execution_count": 62,
   "metadata": {},
   "outputs": [
    {
     "data": {
      "text/html": [
       "<div>\n",
       "<style scoped>\n",
       "    .dataframe tbody tr th:only-of-type {\n",
       "        vertical-align: middle;\n",
       "    }\n",
       "\n",
       "    .dataframe tbody tr th {\n",
       "        vertical-align: top;\n",
       "    }\n",
       "\n",
       "    .dataframe thead th {\n",
       "        text-align: right;\n",
       "    }\n",
       "</style>\n",
       "<table border=\"1\" class=\"dataframe\">\n",
       "  <thead>\n",
       "    <tr style=\"text-align: right;\">\n",
       "      <th></th>\n",
       "      <th>error_type</th>\n",
       "      <th>model_id</th>\n",
       "      <th>num_error_reactions</th>\n",
       "      <th>num_nonbdry_reactions</th>\n",
       "      <th>num_total_reactions</th>\n",
       "      <th>niss</th>\n",
       "    </tr>\n",
       "  </thead>\n",
       "  <tbody>\n",
       "    <tr>\n",
       "      <th>0</th>\n",
       "      <td>type1</td>\n",
       "      <td>BIOMD0000000189</td>\n",
       "      <td>1</td>\n",
       "      <td>13</td>\n",
       "      <td>14</td>\n",
       "      <td>0.076923</td>\n",
       "    </tr>\n",
       "    <tr>\n",
       "      <th>1</th>\n",
       "      <td>type1</td>\n",
       "      <td>BIOMD0000000189</td>\n",
       "      <td>1</td>\n",
       "      <td>13</td>\n",
       "      <td>14</td>\n",
       "      <td>0.076923</td>\n",
       "    </tr>\n",
       "    <tr>\n",
       "      <th>2</th>\n",
       "      <td>type1</td>\n",
       "      <td>BIOMD0000000189</td>\n",
       "      <td>1</td>\n",
       "      <td>13</td>\n",
       "      <td>14</td>\n",
       "      <td>0.076923</td>\n",
       "    </tr>\n",
       "    <tr>\n",
       "      <th>3</th>\n",
       "      <td>type1</td>\n",
       "      <td>BIOMD0000000189</td>\n",
       "      <td>3</td>\n",
       "      <td>13</td>\n",
       "      <td>14</td>\n",
       "      <td>0.230769</td>\n",
       "    </tr>\n",
       "    <tr>\n",
       "      <th>4</th>\n",
       "      <td>type1</td>\n",
       "      <td>BIOMD0000000413</td>\n",
       "      <td>3</td>\n",
       "      <td>5</td>\n",
       "      <td>9</td>\n",
       "      <td>0.600000</td>\n",
       "    </tr>\n",
       "  </tbody>\n",
       "</table>\n",
       "</div>"
      ],
      "text/plain": [
       "  error_type         model_id  num_error_reactions  num_nonbdry_reactions  \\\n",
       "0      type1  BIOMD0000000189                    1                     13   \n",
       "1      type1  BIOMD0000000189                    1                     13   \n",
       "2      type1  BIOMD0000000189                    1                     13   \n",
       "3      type1  BIOMD0000000189                    3                     13   \n",
       "4      type1  BIOMD0000000413                    3                      5   \n",
       "\n",
       "   num_total_reactions      niss  \n",
       "0                   14  0.076923  \n",
       "1                   14  0.076923  \n",
       "2                   14  0.076923  \n",
       "3                   14  0.230769  \n",
       "4                    9  0.600000  "
      ]
     },
     "execution_count": 62,
     "metadata": {},
     "output_type": "execute_result"
    }
   ],
   "source": [
    "extended_res_df.head()"
   ]
  },
  {
   "cell_type": "code",
   "execution_count": 127,
   "metadata": {},
   "outputs": [
    {
     "data": {
      "text/plain": [
       "847"
      ]
     },
     "execution_count": 127,
     "metadata": {},
     "output_type": "execute_result"
    }
   ],
   "source": [
    "len(final_res_df)"
   ]
  },
  {
   "cell_type": "code",
   "execution_count": 128,
   "metadata": {},
   "outputs": [
    {
     "data": {
      "text/html": [
       "<div>\n",
       "<style scoped>\n",
       "    .dataframe tbody tr th:only-of-type {\n",
       "        vertical-align: middle;\n",
       "    }\n",
       "\n",
       "    .dataframe tbody tr th {\n",
       "        vertical-align: top;\n",
       "    }\n",
       "\n",
       "    .dataframe thead th {\n",
       "        text-align: right;\n",
       "    }\n",
       "</style>\n",
       "<table border=\"1\" class=\"dataframe\">\n",
       "  <thead>\n",
       "    <tr style=\"text-align: right;\">\n",
       "      <th></th>\n",
       "      <th>error_type</th>\n",
       "      <th>model_id</th>\n",
       "      <th>iss</th>\n",
       "      <th>num_nonbdry_reactions</th>\n",
       "      <th>num_total_reactions</th>\n",
       "      <th>niss</th>\n",
       "    </tr>\n",
       "  </thead>\n",
       "  <tbody>\n",
       "    <tr>\n",
       "      <th>0</th>\n",
       "      <td>type1</td>\n",
       "      <td>BIOMD0000000587</td>\n",
       "      <td>1</td>\n",
       "      <td>16</td>\n",
       "      <td>23</td>\n",
       "      <td>0.0625</td>\n",
       "    </tr>\n",
       "    <tr>\n",
       "      <th>1</th>\n",
       "      <td>type1</td>\n",
       "      <td>BIOMD0000000587</td>\n",
       "      <td>1</td>\n",
       "      <td>16</td>\n",
       "      <td>23</td>\n",
       "      <td>0.0625</td>\n",
       "    </tr>\n",
       "    <tr>\n",
       "      <th>2</th>\n",
       "      <td>type1</td>\n",
       "      <td>BIOMD0000000587</td>\n",
       "      <td>1</td>\n",
       "      <td>16</td>\n",
       "      <td>23</td>\n",
       "      <td>0.0625</td>\n",
       "    </tr>\n",
       "    <tr>\n",
       "      <th>3</th>\n",
       "      <td>type1</td>\n",
       "      <td>BIOMD0000000587</td>\n",
       "      <td>1</td>\n",
       "      <td>16</td>\n",
       "      <td>23</td>\n",
       "      <td>0.0625</td>\n",
       "    </tr>\n",
       "    <tr>\n",
       "      <th>4</th>\n",
       "      <td>type1</td>\n",
       "      <td>BIOMD0000000587</td>\n",
       "      <td>1</td>\n",
       "      <td>16</td>\n",
       "      <td>23</td>\n",
       "      <td>0.0625</td>\n",
       "    </tr>\n",
       "  </tbody>\n",
       "</table>\n",
       "</div>"
      ],
      "text/plain": [
       "  error_type         model_id  iss  num_nonbdry_reactions  \\\n",
       "0      type1  BIOMD0000000587    1                     16   \n",
       "1      type1  BIOMD0000000587    1                     16   \n",
       "2      type1  BIOMD0000000587    1                     16   \n",
       "3      type1  BIOMD0000000587    1                     16   \n",
       "4      type1  BIOMD0000000587    1                     16   \n",
       "\n",
       "   num_total_reactions    niss  \n",
       "0                   23  0.0625  \n",
       "1                   23  0.0625  \n",
       "2                   23  0.0625  \n",
       "3                   23  0.0625  \n",
       "4                   23  0.0625  "
      ]
     },
     "execution_count": 128,
     "metadata": {},
     "output_type": "execute_result"
    }
   ],
   "source": [
    "final_res_df = extended_res_df.rename(columns = {NUM_ERROR_REACTIONS:\"iss\"})\n",
    "final_res_df.head()"
   ]
  },
  {
   "cell_type": "code",
   "execution_count": 129,
   "metadata": {},
   "outputs": [],
   "source": [
    "final_res_df.to_csv(\"/Users/woosubshin/Desktop/ModelEngineering/results/games_statistics.csv\", index=False)"
   ]
  },
  {
   "cell_type": "code",
   "execution_count": 93,
   "metadata": {},
   "outputs": [
    {
     "name": "stdout",
     "output_type": "stream",
     "text": [
      "Number of models with errors: 138\n"
     ]
    }
   ],
   "source": [
    "print(\"Number of models with errors: %d\" % (len(set(res_df[MODEL_ID]))))"
   ]
  },
  {
   "cell_type": "code",
   "execution_count": 71,
   "metadata": {},
   "outputs": [],
   "source": [
    "# plt.scatter(res_df[NUM_TOTAL_REACTIONS], res_df[NUM_ERROR_REACTIONS])"
   ]
  },
  {
   "cell_type": "code",
   "execution_count": 72,
   "metadata": {},
   "outputs": [],
   "source": [
    "# plt.hist(res_df[NUM_TOTAL_REACTIONS] - res_df[NUM_NONBDRY_REACTIONS], bins=100)"
   ]
  },
  {
   "cell_type": "code",
   "execution_count": 73,
   "metadata": {},
   "outputs": [],
   "source": [
    "# plt.scatter(res_df[NUM_NONBDRY_REACTIONS], res_df[NUM_ERROR_REACTIONS])"
   ]
  },
  {
   "cell_type": "code",
   "execution_count": 74,
   "metadata": {},
   "outputs": [],
   "source": [
    "type1_res_df = res_df[res_df[ERROR_TYPE] == TYPE_I]\n",
    "type2_res_df = res_df[res_df[ERROR_TYPE] == TYPE_II]\n",
    "type3_res_df = res_df[res_df[ERROR_TYPE] == TYPE_III]\n",
    "canceling_res_df = res_df[res_df[ERROR_TYPE] == CANCELING]\n",
    "echelon_res_df = res_df[res_df[ERROR_TYPE] == ECHELON]"
   ]
  },
  {
   "cell_type": "code",
   "execution_count": 75,
   "metadata": {},
   "outputs": [],
   "source": [
    "# type1_res_df.head()"
   ]
  },
  {
   "cell_type": "code",
   "execution_count": 76,
   "metadata": {},
   "outputs": [],
   "source": [
    "#plt.scatter(type1_res_df[NUM_NONBDRY_REACTIONS], type1_res_df[NUM_ERROR_REACTIONS])"
   ]
  },
  {
   "cell_type": "code",
   "execution_count": 77,
   "metadata": {},
   "outputs": [],
   "source": [
    "#plt.scatter(type2_res_df[NUM_NONBDRY_REACTIONS], type2_res_df[NUM_ERROR_REACTIONS])"
   ]
  },
  {
   "cell_type": "code",
   "execution_count": 78,
   "metadata": {},
   "outputs": [],
   "source": [
    "#plt.scatter(type3_res_df[NUM_NONBDRY_REACTIONS], type3_res_df[NUM_ERROR_REACTIONS])"
   ]
  },
  {
   "cell_type": "code",
   "execution_count": 79,
   "metadata": {},
   "outputs": [],
   "source": [
    "#plt.scatter(canceling_res_df[NUM_NONBDRY_REACTIONS], canceling_res_df[NUM_ERROR_REACTIONS])"
   ]
  },
  {
   "cell_type": "code",
   "execution_count": 80,
   "metadata": {},
   "outputs": [],
   "source": [
    "#plt.scatter(echelon_res_df[NUM_NONBDRY_REACTIONS], echelon_res_df[NUM_ERROR_REACTIONS])"
   ]
  },
  {
   "cell_type": "code",
   "execution_count": 28,
   "metadata": {},
   "outputs": [],
   "source": [
    "#res_list"
   ]
  },
  {
   "cell_type": "code",
   "execution_count": 94,
   "metadata": {},
   "outputs": [
    {
     "name": "stdout",
     "output_type": "stream",
     "text": [
      "error_prop Series([], dtype: float64)\n"
     ]
    }
   ],
   "source": [
    "prop = filtered_df[\"num_error_reactions\"] / filtered_df[\"num_nonbdry_reactions\"]\n",
    "error_prop = prop[prop > 1]\n",
    "nonerror_prop = prop[prop<=1]\n",
    "print(\"error_prop\", error_prop)"
   ]
  },
  {
   "cell_type": "code",
   "execution_count": null,
   "metadata": {},
   "outputs": [],
   "source": []
  },
  {
   "cell_type": "code",
   "execution_count": 95,
   "metadata": {},
   "outputs": [
    {
     "data": {
      "text/plain": [
       "Text(0, 0.5, 'Cumulative Probability')"
      ]
     },
     "execution_count": 95,
     "metadata": {},
     "output_type": "execute_result"
    },
    {
     "data": {
      "image/png": "[encoded data removed]",
      "text/plain": [
       "<Figure size 432x288 with 1 Axes>"
      ]
     },
     "metadata": {},
     "output_type": "display_data"
    }
   ],
   "source": [
    "sns.set(style=\"white\",\n",
    "        font='Times New Roman',\n",
    "        rc={'figure.figsize':(6,4)})\n",
    "sns.set_style(\"ticks\")\n",
    "cdf_abs = sns.distplot(final_res_df[\"iss\"],\n",
    "             hist=False,\n",
    "             kde_kws=dict(cumulative=True))\n",
    "plt.xlabel(\"Isolation Set Size (Absolute)\", color=\"black\")\n",
    "plt.ylabel(\"Cumulative Probability\", color=\"black\")"
   ]
  },
  {
   "cell_type": "code",
   "execution_count": 96,
   "metadata": {},
   "outputs": [],
   "source": [
    "output_cdf_abs = cdf_abs.get_figure()\n",
    "output_cdf_abs.savefig(\"/Users/woosubshin/Desktop/ModelEngineering/figures_tables/cdf_abs.png\")"
   ]
  },
  {
   "cell_type": "code",
   "execution_count": 97,
   "metadata": {},
   "outputs": [
    {
     "data": {
      "text/plain": [
       "Text(0, 0.5, 'Cumulative Probability')"
      ]
     },
     "execution_count": 97,
     "metadata": {},
     "output_type": "execute_result"
    },
    {
     "data": {
      "image/png": "[encoded data removed]",
      "text/plain": [
       "<Figure size 432x288 with 1 Axes>"
      ]
     },
     "metadata": {},
     "output_type": "display_data"
    }
   ],
   "source": [
    "cdf_norm = sns.distplot(final_res_df[\"niss\"], hist=False, kde_kws=dict(cumulative=True))\n",
    "plt.xlabel(\"Isolation Set Size (Normalized)\")\n",
    "plt.ylabel(\"Cumulative Probability\")"
   ]
  },
  {
   "cell_type": "code",
   "execution_count": 98,
   "metadata": {},
   "outputs": [],
   "source": [
    "output_cdf_norm = cdf_norm.get_figure()\n",
    "output_cdf_norm.savefig(\"/Users/woosubshin/Desktop/ModelEngineering/figures_tables/cdf_norm.png\")"
   ]
  },
  {
   "cell_type": "code",
   "execution_count": null,
   "metadata": {},
   "outputs": [],
   "source": []
  },
  {
   "cell_type": "code",
   "execution_count": null,
   "metadata": {},
   "outputs": [],
   "source": []
  },
  {
   "cell_type": "code",
   "execution_count": null,
   "metadata": {},
   "outputs": [],
   "source": []
  },
  {
   "cell_type": "code",
   "execution_count": null,
   "metadata": {},
   "outputs": [],
   "source": []
  },
  {
   "cell_type": "code",
   "execution_count": null,
   "metadata": {},
   "outputs": [],
   "source": []
  },
  {
   "cell_type": "code",
   "execution_count": 33,
   "metadata": {},
   "outputs": [
    {
     "data": {
      "text/plain": [
       "Text(0, 0.5, 'Frequency')"
      ]
     },
     "execution_count": 33,
     "metadata": {},
     "output_type": "execute_result"
    },
    {
     "data": {
      "image/png": "[encoded data removed]",
      "text/plain": [
       "<Figure size 432x288 with 1 Axes>"
      ]
     },
     "metadata": {
      "needs_background": "light"
     },
     "output_type": "display_data"
    }
   ],
   "source": [
    "sns.distplot(prop,\n",
    "             hist_kws=dict(cumulative=False),\n",
    "             kde_kws=dict(cumulative=False))\n",
    "plt.title(\"PDF - Num. Reactions per Error / Num. Non-boundary Reactions\")\n",
    "plt.xlabel(\"Proportion (0.0 - 1.0)\")\n",
    "plt.ylabel(\"Frequency\")"
   ]
  },
  {
   "cell_type": "code",
   "execution_count": 34,
   "metadata": {},
   "outputs": [
    {
     "data": {
      "text/plain": [
       "Text(0, 0.5, 'Cumulative probability')"
      ]
     },
     "execution_count": 34,
     "metadata": {},
     "output_type": "execute_result"
    },
    {
     "data": {
      "image/png": "[encoded data removed]",
      "text/plain": [
       "<Figure size 432x288 with 1 Axes>"
      ]
     },
     "metadata": {
      "needs_background": "light"
     },
     "output_type": "display_data"
    }
   ],
   "source": [
    "sns.distplot(prop,\n",
    "             hist_kws=dict(cumulative=True),\n",
    "             kde_kws=dict(cumulative=True))\n",
    "plt.title(\"CDF - Num. Reactions per Error / Num. Non-boundary Reactions\")\n",
    "plt.xlabel(\"Proportion (0.0 - 1.0)\")\n",
    "plt.ylabel(\"Cumulative probability\")"
   ]
  },
  {
   "cell_type": "code",
   "execution_count": 41,
   "metadata": {},
   "outputs": [
    {
     "data": {
      "text/plain": [
       "Text(0, 0.5, 'Probability')"
      ]
     },
     "execution_count": 41,
     "metadata": {},
     "output_type": "execute_result"
    },
    {
     "data": {
      "image/png": "[encoded data removed]",
      "text/plain": [
       "<Figure size 432x288 with 1 Axes>"
      ]
     },
     "metadata": {
      "needs_background": "light"
     },
     "output_type": "display_data"
    }
   ],
   "source": [
    "sns.distplot(res_df[NUM_ERROR_REACTIONS],\n",
    "             hist_kws=dict(cumulative=False),\n",
    "             kde_kws=dict(cumulative=False))\n",
    "plt.title(\"PDF - Number of Reactions for Each Error\")\n",
    "plt.xlabel(\"Number of Reactions\")\n",
    "plt.ylabel(\"Probability\")"
   ]
  },
  {
   "cell_type": "code",
   "execution_count": 39,
   "metadata": {},
   "outputs": [
    {
     "data": {
      "text/plain": [
       "Text(0, 0.5, 'Cumulative probability')"
      ]
     },
     "execution_count": 39,
     "metadata": {},
     "output_type": "execute_result"
    },
    {
     "data": {
      "image/png": "[encoded data removed]",
      "text/plain": [
       "<Figure size 432x288 with 1 Axes>"
      ]
     },
     "metadata": {
      "needs_background": "light"
     },
     "output_type": "display_data"
    }
   ],
   "source": [
    "sns.distplot(res_df[NUM_ERROR_REACTIONS],\n",
    "             hist_kws=dict(cumulative=True),\n",
    "             kde_kws=dict(cumulative=True))\n",
    "plt.title(\"CDF - Number of Reactions for Each Error\")\n",
    "plt.xlabel(\"Number of Reactions\")\n",
    "plt.ylabel(\"Cumulative probability\")"
   ]
  },
  {
   "cell_type": "code",
   "execution_count": 49,
   "metadata": {},
   "outputs": [
    {
     "data": {
      "text/plain": [
       "0.6804123711340206"
      ]
     },
     "execution_count": 49,
     "metadata": {},
     "output_type": "execute_result"
    }
   ],
   "source": [
    "len(res_df[res_df[NUM_ERROR_REACTIONS] <= 3]) / len(res_df[NUM_ERROR_REACTIONS])"
   ]
  },
  {
   "cell_type": "code",
   "execution_count": 51,
   "metadata": {},
   "outputs": [
    {
     "data": {
      "text/plain": [
       "873"
      ]
     },
     "execution_count": 51,
     "metadata": {},
     "output_type": "execute_result"
    }
   ],
   "source": [
    "len(res_df[NUM_ERROR_REACTIONS])"
   ]
  },
  {
   "cell_type": "code",
   "execution_count": 55,
   "metadata": {},
   "outputs": [
    {
     "name": "stdout",
     "output_type": "stream",
     "text": [
      "594\n",
      "0.6804123711340206\n"
     ]
    }
   ],
   "source": [
    "print(len(res_df[res_df[NUM_ERROR_REACTIONS] <= 3]))\n",
    "print(len(res_df[res_df[NUM_ERROR_REACTIONS] <= 3]) / len(res_df[NUM_ERROR_REACTIONS]))"
   ]
  },
  {
   "cell_type": "code",
   "execution_count": 56,
   "metadata": {},
   "outputs": [
    {
     "name": "stdout",
     "output_type": "stream",
     "text": [
      "752\n",
      "0.861397479954181\n"
     ]
    }
   ],
   "source": [
    "print(len(res_df[res_df[NUM_ERROR_REACTIONS] <= 5]))\n",
    "print(len(res_df[res_df[NUM_ERROR_REACTIONS] <= 5]) / len(res_df[NUM_ERROR_REACTIONS]))"
   ]
  },
  {
   "cell_type": "code",
   "execution_count": 57,
   "metadata": {},
   "outputs": [
    {
     "name": "stdout",
     "output_type": "stream",
     "text": [
      "813\n",
      "0.9312714776632303\n"
     ]
    }
   ],
   "source": [
    "print(len(res_df[res_df[NUM_ERROR_REACTIONS] <= 10]))\n",
    "print(len(res_df[res_df[NUM_ERROR_REACTIONS] <= 10]) / len(res_df[NUM_ERROR_REACTIONS]))"
   ]
  },
  {
   "cell_type": "code",
   "execution_count": 71,
   "metadata": {},
   "outputs": [
    {
     "data": {
      "text/html": [
       "<div>\n",
       "<style scoped>\n",
       "    .dataframe tbody tr th:only-of-type {\n",
       "        vertical-align: middle;\n",
       "    }\n",
       "\n",
       "    .dataframe tbody tr th {\n",
       "        vertical-align: top;\n",
       "    }\n",
       "\n",
       "    .dataframe thead th {\n",
       "        text-align: right;\n",
       "    }\n",
       "</style>\n",
       "<table border=\"1\" class=\"dataframe\">\n",
       "  <thead>\n",
       "    <tr style=\"text-align: right;\">\n",
       "      <th></th>\n",
       "      <th>error_type</th>\n",
       "      <th>model_id</th>\n",
       "      <th>num_error_reactions</th>\n",
       "      <th>num_nonbdry_reactions</th>\n",
       "      <th>num_total_reactions</th>\n",
       "    </tr>\n",
       "  </thead>\n",
       "  <tbody>\n",
       "    <tr>\n",
       "      <th>170</th>\n",
       "      <td>type1</td>\n",
       "      <td>BIOMD0000000297</td>\n",
       "      <td>4</td>\n",
       "      <td>22</td>\n",
       "      <td>51</td>\n",
       "    </tr>\n",
       "    <tr>\n",
       "      <th>171</th>\n",
       "      <td>type1</td>\n",
       "      <td>BIOMD0000000297</td>\n",
       "      <td>5</td>\n",
       "      <td>22</td>\n",
       "      <td>51</td>\n",
       "    </tr>\n",
       "    <tr>\n",
       "      <th>172</th>\n",
       "      <td>type1</td>\n",
       "      <td>BIOMD0000000356</td>\n",
       "      <td>5</td>\n",
       "      <td>63</td>\n",
       "      <td>64</td>\n",
       "    </tr>\n",
       "    <tr>\n",
       "      <th>173</th>\n",
       "      <td>type1</td>\n",
       "      <td>BIOMD0000000356</td>\n",
       "      <td>6</td>\n",
       "      <td>63</td>\n",
       "      <td>64</td>\n",
       "    </tr>\n",
       "    <tr>\n",
       "      <th>174</th>\n",
       "      <td>type1</td>\n",
       "      <td>BIOMD0000000356</td>\n",
       "      <td>6</td>\n",
       "      <td>63</td>\n",
       "      <td>64</td>\n",
       "    </tr>\n",
       "    <tr>\n",
       "      <th>175</th>\n",
       "      <td>type1</td>\n",
       "      <td>BIOMD0000000356</td>\n",
       "      <td>6</td>\n",
       "      <td>63</td>\n",
       "      <td>64</td>\n",
       "    </tr>\n",
       "    <tr>\n",
       "      <th>176</th>\n",
       "      <td>type1</td>\n",
       "      <td>BIOMD0000000356</td>\n",
       "      <td>7</td>\n",
       "      <td>63</td>\n",
       "      <td>64</td>\n",
       "    </tr>\n",
       "    <tr>\n",
       "      <th>177</th>\n",
       "      <td>echelon</td>\n",
       "      <td>BIOMD0000000426</td>\n",
       "      <td>3</td>\n",
       "      <td>29</td>\n",
       "      <td>29</td>\n",
       "    </tr>\n",
       "    <tr>\n",
       "      <th>178</th>\n",
       "      <td>echelon</td>\n",
       "      <td>BIOMD0000000426</td>\n",
       "      <td>8</td>\n",
       "      <td>29</td>\n",
       "      <td>29</td>\n",
       "    </tr>\n",
       "    <tr>\n",
       "      <th>179</th>\n",
       "      <td>echelon</td>\n",
       "      <td>BIOMD0000000105</td>\n",
       "      <td>3</td>\n",
       "      <td>94</td>\n",
       "      <td>94</td>\n",
       "    </tr>\n",
       "    <tr>\n",
       "      <th>180</th>\n",
       "      <td>type3</td>\n",
       "      <td>BIOMD0000000628</td>\n",
       "      <td>13</td>\n",
       "      <td>584</td>\n",
       "      <td>587</td>\n",
       "    </tr>\n",
       "  </tbody>\n",
       "</table>\n",
       "</div>"
      ],
      "text/plain": [
       "    error_type         model_id  num_error_reactions  num_nonbdry_reactions  \\\n",
       "170      type1  BIOMD0000000297                    4                     22   \n",
       "171      type1  BIOMD0000000297                    5                     22   \n",
       "172      type1  BIOMD0000000356                    5                     63   \n",
       "173      type1  BIOMD0000000356                    6                     63   \n",
       "174      type1  BIOMD0000000356                    6                     63   \n",
       "175      type1  BIOMD0000000356                    6                     63   \n",
       "176      type1  BIOMD0000000356                    7                     63   \n",
       "177    echelon  BIOMD0000000426                    3                     29   \n",
       "178    echelon  BIOMD0000000426                    8                     29   \n",
       "179    echelon  BIOMD0000000105                    3                     94   \n",
       "180      type3  BIOMD0000000628                   13                    584   \n",
       "\n",
       "     num_total_reactions  \n",
       "170                   51  \n",
       "171                   51  \n",
       "172                   64  \n",
       "173                   64  \n",
       "174                   64  \n",
       "175                   64  \n",
       "176                   64  \n",
       "177                   29  \n",
       "178                   29  \n",
       "179                   94  \n",
       "180                  587  "
      ]
     },
     "execution_count": 71,
     "metadata": {},
     "output_type": "execute_result"
    }
   ],
   "source": [
    "res_df.loc[170:180]"
   ]
  },
  {
   "cell_type": "code",
   "execution_count": null,
   "metadata": {},
   "outputs": [],
   "source": []
  },
  {
   "cell_type": "code",
   "execution_count": null,
   "metadata": {},
   "outputs": [],
   "source": []
  },
  {
   "cell_type": "code",
   "execution_count": 38,
   "metadata": {},
   "outputs": [
    {
     "name": "stdout",
     "output_type": "stream",
     "text": [
      "index of model 14 is 157\n"
     ]
    }
   ],
   "source": [
    "for i, m in enumerate(files):\n",
    "  if m[:-8] == \"BIOMD0000000014\":\n",
    "    print(\"index of model 14 is\", i)"
   ]
  },
  {
   "cell_type": "code",
   "execution_count": 39,
   "metadata": {},
   "outputs": [
    {
     "data": {
      "text/plain": [
       "'BIOMD0000000362_url.xml'"
      ]
     },
     "execution_count": 39,
     "metadata": {},
     "output_type": "execute_result"
    }
   ],
   "source": [
    "files[156]"
   ]
  },
  {
   "cell_type": "code",
   "execution_count": 61,
   "metadata": {},
   "outputs": [
    {
     "name": "stdout",
     "output_type": "stream",
     "text": [
      "elapsed time: 3.8915278911590576\n"
     ]
    }
   ],
   "source": [
    "import time\n",
    "# Checking all graphs \n",
    "simple = SimpleSBML()\n",
    "count = 0\n",
    "res_list2 = []\n",
    "start = time.time()\n",
    "for file in files[140:170]:\n",
    "  count += 1\n",
    "  if (count%100)==0:\n",
    "    print(\"we are analyzing Model number:\", count)\n",
    "  try:\n",
    "    simple.initialize(os.path.join(data_dir, file))\n",
    "    m = GAMES_PP(simple)\n",
    "    s = StoichiometryMatrix(simple)\n",
    "    num_total_reactions = len(simple.reactions)\n",
    "    num_nonbdry_reactions = s.stoichiometry_matrix.shape[1]\n",
    "    if simple.reactions:\n",
    "      result = m.analyze(error_details=False)\n",
    "      if result:\n",
    "        gr = GAMESReport(m)\n",
    "        errortype_dic = {TYPE_I: gr.reportTypeOneError,\n",
    "                         TYPE_II: gr.reportTypeTwoError,\n",
    "                         TYPE_III: gr.reportTypeThreeError,\n",
    "                         CANCELING: gr.reportCancelingError,\n",
    "                         ECHELON: gr.reportEchelonError\n",
    "                        }\n",
    "        summary = m.error_summary\n",
    "        for errors_type in m.error_summary:\n",
    "          for category in errortype_dic.keys():\n",
    "            if errors_type.type == category:\n",
    "              func = errortype_dic[category]            \n",
    "              _, error_num = func(errors_type.errors)\n",
    "              for num in error_num:\n",
    "                dic = {}\n",
    "                dic[MODEL_ID] = file[:-8]\n",
    "                dic[NUM_TOTAL_REACTIONS] = num_total_reactions\n",
    "                dic[NUM_NONBDRY_REACTIONS] = num_nonbdry_reactions\n",
    "                dic[ERROR_TYPE] = category\n",
    "                dic[NUM_ERROR_REACTIONS] = num\n",
    "                res_list2.append(dic)\n",
    "#                 res_list2.append({MODEL_ID: file[:-8],\n",
    "#                                   NUM_TOTAL_REACTIONS: num_total_reactions,\n",
    "#                                   NUM_NONBDRY_REACTIONS: num_nonbdry_reactions,\n",
    "#                                   ERROR_TYPE: category,\n",
    "#                                   NUM_ERROR_REACTIONS: num})\n",
    "#                 print(\"model dic number\", dic[MODEL_ID])\n",
    "#                 print(\"res_dic\", res_dic)\n",
    "  except:\n",
    "    print(\"Model\", file, \" has an error\")\n",
    "end = time.time()\n",
    "print(\"elapsed time:\", end - start)"
   ]
  },
  {
   "cell_type": "code",
   "execution_count": 121,
   "metadata": {},
   "outputs": [
    {
     "data": {
      "text/html": [
       "<div>\n",
       "<style scoped>\n",
       "    .dataframe tbody tr th:only-of-type {\n",
       "        vertical-align: middle;\n",
       "    }\n",
       "\n",
       "    .dataframe tbody tr th {\n",
       "        vertical-align: top;\n",
       "    }\n",
       "\n",
       "    .dataframe thead th {\n",
       "        text-align: right;\n",
       "    }\n",
       "</style>\n",
       "<table border=\"1\" class=\"dataframe\">\n",
       "  <thead>\n",
       "    <tr style=\"text-align: right;\">\n",
       "      <th></th>\n",
       "      <th>error_type</th>\n",
       "      <th>model_id</th>\n",
       "      <th>num_error_reactions</th>\n",
       "      <th>num_nonbdry_reactions</th>\n",
       "      <th>num_total_reactions</th>\n",
       "    </tr>\n",
       "  </thead>\n",
       "  <tbody>\n",
       "    <tr>\n",
       "      <th>0</th>\n",
       "      <td>type1</td>\n",
       "      <td>BIOMD0000000587</td>\n",
       "      <td>1</td>\n",
       "      <td>16</td>\n",
       "      <td>23</td>\n",
       "    </tr>\n",
       "    <tr>\n",
       "      <th>1</th>\n",
       "      <td>type1</td>\n",
       "      <td>BIOMD0000000587</td>\n",
       "      <td>1</td>\n",
       "      <td>16</td>\n",
       "      <td>23</td>\n",
       "    </tr>\n",
       "    <tr>\n",
       "      <th>2</th>\n",
       "      <td>type1</td>\n",
       "      <td>BIOMD0000000587</td>\n",
       "      <td>1</td>\n",
       "      <td>16</td>\n",
       "      <td>23</td>\n",
       "    </tr>\n",
       "    <tr>\n",
       "      <th>3</th>\n",
       "      <td>type1</td>\n",
       "      <td>BIOMD0000000587</td>\n",
       "      <td>1</td>\n",
       "      <td>16</td>\n",
       "      <td>23</td>\n",
       "    </tr>\n",
       "    <tr>\n",
       "      <th>4</th>\n",
       "      <td>type1</td>\n",
       "      <td>BIOMD0000000587</td>\n",
       "      <td>1</td>\n",
       "      <td>16</td>\n",
       "      <td>23</td>\n",
       "    </tr>\n",
       "    <tr>\n",
       "      <th>5</th>\n",
       "      <td>type1</td>\n",
       "      <td>BIOMD0000000587</td>\n",
       "      <td>1</td>\n",
       "      <td>16</td>\n",
       "      <td>23</td>\n",
       "    </tr>\n",
       "    <tr>\n",
       "      <th>7</th>\n",
       "      <td>type1</td>\n",
       "      <td>BIOMD0000000542</td>\n",
       "      <td>2</td>\n",
       "      <td>82</td>\n",
       "      <td>84</td>\n",
       "    </tr>\n",
       "    <tr>\n",
       "      <th>8</th>\n",
       "      <td>type1</td>\n",
       "      <td>BIOMD0000000542</td>\n",
       "      <td>2</td>\n",
       "      <td>82</td>\n",
       "      <td>84</td>\n",
       "    </tr>\n",
       "    <tr>\n",
       "      <th>13</th>\n",
       "      <td>type1</td>\n",
       "      <td>BIOMD0000000035</td>\n",
       "      <td>1</td>\n",
       "      <td>12</td>\n",
       "      <td>16</td>\n",
       "    </tr>\n",
       "    <tr>\n",
       "      <th>14</th>\n",
       "      <td>type1</td>\n",
       "      <td>BIOMD0000000035</td>\n",
       "      <td>1</td>\n",
       "      <td>12</td>\n",
       "      <td>16</td>\n",
       "    </tr>\n",
       "    <tr>\n",
       "      <th>15</th>\n",
       "      <td>type1</td>\n",
       "      <td>BIOMD0000000035</td>\n",
       "      <td>1</td>\n",
       "      <td>12</td>\n",
       "      <td>16</td>\n",
       "    </tr>\n",
       "    <tr>\n",
       "      <th>16</th>\n",
       "      <td>type1</td>\n",
       "      <td>BIOMD0000000035</td>\n",
       "      <td>1</td>\n",
       "      <td>12</td>\n",
       "      <td>16</td>\n",
       "    </tr>\n",
       "    <tr>\n",
       "      <th>17</th>\n",
       "      <td>type1</td>\n",
       "      <td>BIOMD0000000035</td>\n",
       "      <td>1</td>\n",
       "      <td>12</td>\n",
       "      <td>16</td>\n",
       "    </tr>\n",
       "    <tr>\n",
       "      <th>18</th>\n",
       "      <td>type1</td>\n",
       "      <td>BIOMD0000000035</td>\n",
       "      <td>1</td>\n",
       "      <td>12</td>\n",
       "      <td>16</td>\n",
       "    </tr>\n",
       "    <tr>\n",
       "      <th>19</th>\n",
       "      <td>type1</td>\n",
       "      <td>BIOMD0000000035</td>\n",
       "      <td>2</td>\n",
       "      <td>12</td>\n",
       "      <td>16</td>\n",
       "    </tr>\n",
       "    <tr>\n",
       "      <th>20</th>\n",
       "      <td>type1</td>\n",
       "      <td>BIOMD0000000623</td>\n",
       "      <td>3</td>\n",
       "      <td>31</td>\n",
       "      <td>31</td>\n",
       "    </tr>\n",
       "    <tr>\n",
       "      <th>21</th>\n",
       "      <td>type1</td>\n",
       "      <td>BIOMD0000000056</td>\n",
       "      <td>4</td>\n",
       "      <td>59</td>\n",
       "      <td>94</td>\n",
       "    </tr>\n",
       "    <tr>\n",
       "      <th>22</th>\n",
       "      <td>type1</td>\n",
       "      <td>BIOMD0000000056</td>\n",
       "      <td>3</td>\n",
       "      <td>59</td>\n",
       "      <td>94</td>\n",
       "    </tr>\n",
       "    <tr>\n",
       "      <th>23</th>\n",
       "      <td>type1</td>\n",
       "      <td>BIOMD0000000056</td>\n",
       "      <td>4</td>\n",
       "      <td>59</td>\n",
       "      <td>94</td>\n",
       "    </tr>\n",
       "    <tr>\n",
       "      <th>24</th>\n",
       "      <td>type1</td>\n",
       "      <td>BIOMD0000000056</td>\n",
       "      <td>3</td>\n",
       "      <td>59</td>\n",
       "      <td>94</td>\n",
       "    </tr>\n",
       "    <tr>\n",
       "      <th>25</th>\n",
       "      <td>type1</td>\n",
       "      <td>BIOMD0000000056</td>\n",
       "      <td>4</td>\n",
       "      <td>59</td>\n",
       "      <td>94</td>\n",
       "    </tr>\n",
       "    <tr>\n",
       "      <th>26</th>\n",
       "      <td>type1</td>\n",
       "      <td>BIOMD0000000056</td>\n",
       "      <td>3</td>\n",
       "      <td>59</td>\n",
       "      <td>94</td>\n",
       "    </tr>\n",
       "    <tr>\n",
       "      <th>27</th>\n",
       "      <td>type1</td>\n",
       "      <td>BIOMD0000000056</td>\n",
       "      <td>12</td>\n",
       "      <td>59</td>\n",
       "      <td>94</td>\n",
       "    </tr>\n",
       "    <tr>\n",
       "      <th>28</th>\n",
       "      <td>type1</td>\n",
       "      <td>BIOMD0000000056</td>\n",
       "      <td>3</td>\n",
       "      <td>59</td>\n",
       "      <td>94</td>\n",
       "    </tr>\n",
       "    <tr>\n",
       "      <th>29</th>\n",
       "      <td>type1</td>\n",
       "      <td>BIOMD0000000056</td>\n",
       "      <td>3</td>\n",
       "      <td>59</td>\n",
       "      <td>94</td>\n",
       "    </tr>\n",
       "    <tr>\n",
       "      <th>30</th>\n",
       "      <td>type1</td>\n",
       "      <td>BIOMD0000000056</td>\n",
       "      <td>3</td>\n",
       "      <td>59</td>\n",
       "      <td>94</td>\n",
       "    </tr>\n",
       "    <tr>\n",
       "      <th>31</th>\n",
       "      <td>type1</td>\n",
       "      <td>BIOMD0000000056</td>\n",
       "      <td>4</td>\n",
       "      <td>59</td>\n",
       "      <td>94</td>\n",
       "    </tr>\n",
       "    <tr>\n",
       "      <th>32</th>\n",
       "      <td>type1</td>\n",
       "      <td>BIOMD0000000056</td>\n",
       "      <td>5</td>\n",
       "      <td>59</td>\n",
       "      <td>94</td>\n",
       "    </tr>\n",
       "    <tr>\n",
       "      <th>33</th>\n",
       "      <td>type1</td>\n",
       "      <td>BIOMD0000000056</td>\n",
       "      <td>3</td>\n",
       "      <td>59</td>\n",
       "      <td>94</td>\n",
       "    </tr>\n",
       "    <tr>\n",
       "      <th>34</th>\n",
       "      <td>type1</td>\n",
       "      <td>BIOMD0000000293</td>\n",
       "      <td>1</td>\n",
       "      <td>316</td>\n",
       "      <td>316</td>\n",
       "    </tr>\n",
       "    <tr>\n",
       "      <th>...</th>\n",
       "      <td>...</td>\n",
       "      <td>...</td>\n",
       "      <td>...</td>\n",
       "      <td>...</td>\n",
       "      <td>...</td>\n",
       "    </tr>\n",
       "    <tr>\n",
       "      <th>868</th>\n",
       "      <td>type1</td>\n",
       "      <td>BIOMD0000000560</td>\n",
       "      <td>4</td>\n",
       "      <td>117</td>\n",
       "      <td>117</td>\n",
       "    </tr>\n",
       "    <tr>\n",
       "      <th>869</th>\n",
       "      <td>type1</td>\n",
       "      <td>BIOMD0000000560</td>\n",
       "      <td>3</td>\n",
       "      <td>117</td>\n",
       "      <td>117</td>\n",
       "    </tr>\n",
       "    <tr>\n",
       "      <th>870</th>\n",
       "      <td>type1</td>\n",
       "      <td>BIOMD0000000560</td>\n",
       "      <td>3</td>\n",
       "      <td>117</td>\n",
       "      <td>117</td>\n",
       "    </tr>\n",
       "    <tr>\n",
       "      <th>871</th>\n",
       "      <td>type1</td>\n",
       "      <td>BIOMD0000000560</td>\n",
       "      <td>1</td>\n",
       "      <td>117</td>\n",
       "      <td>117</td>\n",
       "    </tr>\n",
       "    <tr>\n",
       "      <th>872</th>\n",
       "      <td>type1</td>\n",
       "      <td>BIOMD0000000560</td>\n",
       "      <td>4</td>\n",
       "      <td>117</td>\n",
       "      <td>117</td>\n",
       "    </tr>\n",
       "    <tr>\n",
       "      <th>873</th>\n",
       "      <td>type1</td>\n",
       "      <td>BIOMD0000000560</td>\n",
       "      <td>1</td>\n",
       "      <td>117</td>\n",
       "      <td>117</td>\n",
       "    </tr>\n",
       "    <tr>\n",
       "      <th>874</th>\n",
       "      <td>type1</td>\n",
       "      <td>BIOMD0000000560</td>\n",
       "      <td>4</td>\n",
       "      <td>117</td>\n",
       "      <td>117</td>\n",
       "    </tr>\n",
       "    <tr>\n",
       "      <th>875</th>\n",
       "      <td>type1</td>\n",
       "      <td>BIOMD0000000560</td>\n",
       "      <td>6</td>\n",
       "      <td>117</td>\n",
       "      <td>117</td>\n",
       "    </tr>\n",
       "    <tr>\n",
       "      <th>876</th>\n",
       "      <td>type1</td>\n",
       "      <td>BIOMD0000000560</td>\n",
       "      <td>1</td>\n",
       "      <td>117</td>\n",
       "      <td>117</td>\n",
       "    </tr>\n",
       "    <tr>\n",
       "      <th>877</th>\n",
       "      <td>type1</td>\n",
       "      <td>BIOMD0000000560</td>\n",
       "      <td>5</td>\n",
       "      <td>117</td>\n",
       "      <td>117</td>\n",
       "    </tr>\n",
       "    <tr>\n",
       "      <th>878</th>\n",
       "      <td>type1</td>\n",
       "      <td>BIOMD0000000560</td>\n",
       "      <td>4</td>\n",
       "      <td>117</td>\n",
       "      <td>117</td>\n",
       "    </tr>\n",
       "    <tr>\n",
       "      <th>879</th>\n",
       "      <td>type1</td>\n",
       "      <td>BIOMD0000000560</td>\n",
       "      <td>2</td>\n",
       "      <td>117</td>\n",
       "      <td>117</td>\n",
       "    </tr>\n",
       "    <tr>\n",
       "      <th>880</th>\n",
       "      <td>type1</td>\n",
       "      <td>BIOMD0000000560</td>\n",
       "      <td>1</td>\n",
       "      <td>117</td>\n",
       "      <td>117</td>\n",
       "    </tr>\n",
       "    <tr>\n",
       "      <th>881</th>\n",
       "      <td>type1</td>\n",
       "      <td>BIOMD0000000560</td>\n",
       "      <td>3</td>\n",
       "      <td>117</td>\n",
       "      <td>117</td>\n",
       "    </tr>\n",
       "    <tr>\n",
       "      <th>882</th>\n",
       "      <td>type1</td>\n",
       "      <td>BIOMD0000000560</td>\n",
       "      <td>4</td>\n",
       "      <td>117</td>\n",
       "      <td>117</td>\n",
       "    </tr>\n",
       "    <tr>\n",
       "      <th>883</th>\n",
       "      <td>type1</td>\n",
       "      <td>BIOMD0000000560</td>\n",
       "      <td>1</td>\n",
       "      <td>117</td>\n",
       "      <td>117</td>\n",
       "    </tr>\n",
       "    <tr>\n",
       "      <th>884</th>\n",
       "      <td>type1</td>\n",
       "      <td>BIOMD0000000560</td>\n",
       "      <td>1</td>\n",
       "      <td>117</td>\n",
       "      <td>117</td>\n",
       "    </tr>\n",
       "    <tr>\n",
       "      <th>885</th>\n",
       "      <td>type1</td>\n",
       "      <td>BIOMD0000000560</td>\n",
       "      <td>1</td>\n",
       "      <td>117</td>\n",
       "      <td>117</td>\n",
       "    </tr>\n",
       "    <tr>\n",
       "      <th>886</th>\n",
       "      <td>type1</td>\n",
       "      <td>BIOMD0000000560</td>\n",
       "      <td>5</td>\n",
       "      <td>117</td>\n",
       "      <td>117</td>\n",
       "    </tr>\n",
       "    <tr>\n",
       "      <th>887</th>\n",
       "      <td>type1</td>\n",
       "      <td>BIOMD0000000560</td>\n",
       "      <td>1</td>\n",
       "      <td>117</td>\n",
       "      <td>117</td>\n",
       "    </tr>\n",
       "    <tr>\n",
       "      <th>890</th>\n",
       "      <td>type1</td>\n",
       "      <td>BIOMD0000000091</td>\n",
       "      <td>1</td>\n",
       "      <td>22</td>\n",
       "      <td>23</td>\n",
       "    </tr>\n",
       "    <tr>\n",
       "      <th>891</th>\n",
       "      <td>type1</td>\n",
       "      <td>BIOMD0000000091</td>\n",
       "      <td>3</td>\n",
       "      <td>22</td>\n",
       "      <td>23</td>\n",
       "    </tr>\n",
       "    <tr>\n",
       "      <th>893</th>\n",
       "      <td>type1</td>\n",
       "      <td>BIOMD0000000110</td>\n",
       "      <td>3</td>\n",
       "      <td>8</td>\n",
       "      <td>22</td>\n",
       "    </tr>\n",
       "    <tr>\n",
       "      <th>894</th>\n",
       "      <td>type1</td>\n",
       "      <td>BIOMD0000000534</td>\n",
       "      <td>1</td>\n",
       "      <td>41</td>\n",
       "      <td>71</td>\n",
       "    </tr>\n",
       "    <tr>\n",
       "      <th>895</th>\n",
       "      <td>type1</td>\n",
       "      <td>BIOMD0000000221</td>\n",
       "      <td>4</td>\n",
       "      <td>11</td>\n",
       "      <td>11</td>\n",
       "    </tr>\n",
       "    <tr>\n",
       "      <th>896</th>\n",
       "      <td>type1</td>\n",
       "      <td>BIOMD0000000218</td>\n",
       "      <td>5</td>\n",
       "      <td>14</td>\n",
       "      <td>14</td>\n",
       "    </tr>\n",
       "    <tr>\n",
       "      <th>897</th>\n",
       "      <td>type1</td>\n",
       "      <td>BIOMD0000000244</td>\n",
       "      <td>2</td>\n",
       "      <td>23</td>\n",
       "      <td>109</td>\n",
       "    </tr>\n",
       "    <tr>\n",
       "      <th>898</th>\n",
       "      <td>type1</td>\n",
       "      <td>BIOMD0000000244</td>\n",
       "      <td>3</td>\n",
       "      <td>23</td>\n",
       "      <td>109</td>\n",
       "    </tr>\n",
       "    <tr>\n",
       "      <th>899</th>\n",
       "      <td>type1</td>\n",
       "      <td>BIOMD0000000244</td>\n",
       "      <td>5</td>\n",
       "      <td>23</td>\n",
       "      <td>109</td>\n",
       "    </tr>\n",
       "    <tr>\n",
       "      <th>900</th>\n",
       "      <td>type1</td>\n",
       "      <td>BIOMD0000000244</td>\n",
       "      <td>4</td>\n",
       "      <td>23</td>\n",
       "      <td>109</td>\n",
       "    </tr>\n",
       "  </tbody>\n",
       "</table>\n",
       "<p>731 rows × 5 columns</p>\n",
       "</div>"
      ],
      "text/plain": [
       "    error_type         model_id  num_error_reactions  num_nonbdry_reactions  \\\n",
       "0        type1  BIOMD0000000587                    1                     16   \n",
       "1        type1  BIOMD0000000587                    1                     16   \n",
       "2        type1  BIOMD0000000587                    1                     16   \n",
       "3        type1  BIOMD0000000587                    1                     16   \n",
       "4        type1  BIOMD0000000587                    1                     16   \n",
       "5        type1  BIOMD0000000587                    1                     16   \n",
       "7        type1  BIOMD0000000542                    2                     82   \n",
       "8        type1  BIOMD0000000542                    2                     82   \n",
       "13       type1  BIOMD0000000035                    1                     12   \n",
       "14       type1  BIOMD0000000035                    1                     12   \n",
       "15       type1  BIOMD0000000035                    1                     12   \n",
       "16       type1  BIOMD0000000035                    1                     12   \n",
       "17       type1  BIOMD0000000035                    1                     12   \n",
       "18       type1  BIOMD0000000035                    1                     12   \n",
       "19       type1  BIOMD0000000035                    2                     12   \n",
       "20       type1  BIOMD0000000623                    3                     31   \n",
       "21       type1  BIOMD0000000056                    4                     59   \n",
       "22       type1  BIOMD0000000056                    3                     59   \n",
       "23       type1  BIOMD0000000056                    4                     59   \n",
       "24       type1  BIOMD0000000056                    3                     59   \n",
       "25       type1  BIOMD0000000056                    4                     59   \n",
       "26       type1  BIOMD0000000056                    3                     59   \n",
       "27       type1  BIOMD0000000056                   12                     59   \n",
       "28       type1  BIOMD0000000056                    3                     59   \n",
       "29       type1  BIOMD0000000056                    3                     59   \n",
       "30       type1  BIOMD0000000056                    3                     59   \n",
       "31       type1  BIOMD0000000056                    4                     59   \n",
       "32       type1  BIOMD0000000056                    5                     59   \n",
       "33       type1  BIOMD0000000056                    3                     59   \n",
       "34       type1  BIOMD0000000293                    1                    316   \n",
       "..         ...              ...                  ...                    ...   \n",
       "868      type1  BIOMD0000000560                    4                    117   \n",
       "869      type1  BIOMD0000000560                    3                    117   \n",
       "870      type1  BIOMD0000000560                    3                    117   \n",
       "871      type1  BIOMD0000000560                    1                    117   \n",
       "872      type1  BIOMD0000000560                    4                    117   \n",
       "873      type1  BIOMD0000000560                    1                    117   \n",
       "874      type1  BIOMD0000000560                    4                    117   \n",
       "875      type1  BIOMD0000000560                    6                    117   \n",
       "876      type1  BIOMD0000000560                    1                    117   \n",
       "877      type1  BIOMD0000000560                    5                    117   \n",
       "878      type1  BIOMD0000000560                    4                    117   \n",
       "879      type1  BIOMD0000000560                    2                    117   \n",
       "880      type1  BIOMD0000000560                    1                    117   \n",
       "881      type1  BIOMD0000000560                    3                    117   \n",
       "882      type1  BIOMD0000000560                    4                    117   \n",
       "883      type1  BIOMD0000000560                    1                    117   \n",
       "884      type1  BIOMD0000000560                    1                    117   \n",
       "885      type1  BIOMD0000000560                    1                    117   \n",
       "886      type1  BIOMD0000000560                    5                    117   \n",
       "887      type1  BIOMD0000000560                    1                    117   \n",
       "890      type1  BIOMD0000000091                    1                     22   \n",
       "891      type1  BIOMD0000000091                    3                     22   \n",
       "893      type1  BIOMD0000000110                    3                      8   \n",
       "894      type1  BIOMD0000000534                    1                     41   \n",
       "895      type1  BIOMD0000000221                    4                     11   \n",
       "896      type1  BIOMD0000000218                    5                     14   \n",
       "897      type1  BIOMD0000000244                    2                     23   \n",
       "898      type1  BIOMD0000000244                    3                     23   \n",
       "899      type1  BIOMD0000000244                    5                     23   \n",
       "900      type1  BIOMD0000000244                    4                     23   \n",
       "\n",
       "     num_total_reactions  \n",
       "0                     23  \n",
       "1                     23  \n",
       "2                     23  \n",
       "3                     23  \n",
       "4                     23  \n",
       "5                     23  \n",
       "7                     84  \n",
       "8                     84  \n",
       "13                    16  \n",
       "14                    16  \n",
       "15                    16  \n",
       "16                    16  \n",
       "17                    16  \n",
       "18                    16  \n",
       "19                    16  \n",
       "20                    31  \n",
       "21                    94  \n",
       "22                    94  \n",
       "23                    94  \n",
       "24                    94  \n",
       "25                    94  \n",
       "26                    94  \n",
       "27                    94  \n",
       "28                    94  \n",
       "29                    94  \n",
       "30                    94  \n",
       "31                    94  \n",
       "32                    94  \n",
       "33                    94  \n",
       "34                   316  \n",
       "..                   ...  \n",
       "868                  117  \n",
       "869                  117  \n",
       "870                  117  \n",
       "871                  117  \n",
       "872                  117  \n",
       "873                  117  \n",
       "874                  117  \n",
       "875                  117  \n",
       "876                  117  \n",
       "877                  117  \n",
       "878                  117  \n",
       "879                  117  \n",
       "880                  117  \n",
       "881                  117  \n",
       "882                  117  \n",
       "883                  117  \n",
       "884                  117  \n",
       "885                  117  \n",
       "886                  117  \n",
       "887                  117  \n",
       "890                   23  \n",
       "891                   23  \n",
       "893                   22  \n",
       "894                   71  \n",
       "895                   11  \n",
       "896                   14  \n",
       "897                  109  \n",
       "898                  109  \n",
       "899                  109  \n",
       "900                  109  \n",
       "\n",
       "[731 rows x 5 columns]"
      ]
     },
     "execution_count": 121,
     "metadata": {},
     "output_type": "execute_result"
    }
   ],
   "source": [
    "filtered_df[filtered_df[ERROR_TYPE]==TYPE_I]"
   ]
  },
  {
   "cell_type": "code",
   "execution_count": null,
   "metadata": {},
   "outputs": [],
   "source": []
  }
 ],
 "metadata": {
  "kernelspec": {
   "display_name": "Python 3",
   "language": "python",
   "name": "python3"
  },
  "language_info": {
   "codemirror_mode": {
    "name": "ipython",
    "version": 3
   },
   "file_extension": ".py",
   "mimetype": "text/x-python",
   "name": "python",
   "nbconvert_exporter": "python",
   "pygments_lexer": "ipython3",
   "version": "3.6.8"
  }
 },
 "nbformat": 4,
 "nbformat_minor": 2
}
