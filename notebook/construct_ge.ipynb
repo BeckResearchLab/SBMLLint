{
 "cells": [
  {
   "cell_type": "code",
   "execution_count": 125,
   "metadata": {},
   "outputs": [],
   "source": [
    "from SBMLLint.common import constants as cn\n",
    "from SBMLLint.common.molecule import Molecule, MoleculeStoichiometry\n",
    "from SBMLLint.common.reaction import Reaction\n",
    "from SBMLLint.games.som import SOM\n",
    "from SBMLLint.common.simple_sbml import SimpleSBML\n",
    "\n",
    "import numpy as np\n",
    "import pandas as pd\n",
    "import collections\n",
    "#\n",
    "from games_setup import *\n",
    "from SBMLLint.common.stoichiometry_matrix import StoichiometryMatrix\n",
    "import SBMLLint.common.constants as cn\n",
    "import numpy as np\n",
    "import pandas as pd\n",
    "import scipy"
   ]
  },
  {
   "cell_type": "code",
   "execution_count": 249,
   "metadata": {},
   "outputs": [
    {
     "name": "stdout",
     "output_type": "stream",
     "text": [
      "Reaction1: Br + BrO3 -> HBrO2 + HOBr\n",
      "Reaction2: Br + HBrO2 -> 2.00 HOBr\n",
      "Reaction3: BrO3 + HBrO2 -> Ce + 2.00 HBrO2\n",
      "Reaction4: 2.00 HBrO2 -> BrO3 + HOBr\n",
      "Reaction5: Ce -> Br\n"
     ]
    }
   ],
   "source": [
    "simple = load_file_from_curated_data(40)\n",
    "for r in simple.reactions:\n",
    "  if r.category != cn.REACTION_BOUNDARY:\n",
    "    print(r.makeIdentifier(is_include_kinetics=False))"
   ]
  },
  {
   "cell_type": "code",
   "execution_count": 240,
   "metadata": {},
   "outputs": [],
   "source": [
    "# x: number of reactants, y: number of products\n",
    "# r: reactants stoichiometry (list)\n",
    "# p: products stoichiometry (list)\n",
    "REACTION_REDUNDANT = \"reaction_redundant\"\n",
    "REACTION_ERROR = \"reaction_error\"\n",
    "REACTION_SUMMARY_CATEGORIES = [\n",
    "    cn.ReactionCategory(category=REACTION_REDUNDANT,\n",
    "        predicate=lambda x,y,r,p: (x==0) and (y==0)),\n",
    "    cn.ReactionCategory(category=REACTION_ERROR,\n",
    "        predicate=lambda x,y,r,p: ((x==0) and (y!=0)) \\\n",
    "                                  or ((x!=0) and (y==0))),\n",
    "    cn.ReactionCategory(category=cn.REACTION_1_1,\n",
    "        predicate=lambda x,y,r,p: (x==1) and (y==1) and (sum(r)==sum(p))),\n",
    "    \n",
    "    cn.ReactionCategory(category=cn.REACTION_1_n,\n",
    "        predicate=lambda x,y,r,p: (x==1) and (sum([r[0]<=e for e in p])==len(p))  ),\n",
    "                     \n",
    "    cn.ReactionCategory(category=cn.REACTION_n_1,\n",
    "        predicate=lambda x,y,r,p: (y==1) and (sum([p[0]<=e for e in r])==len(r))),\n",
    "    ]"
   ]
  },
  {
   "cell_type": "code",
   "execution_count": 241,
   "metadata": {},
   "outputs": [],
   "source": [
    "def getNonBoundaryReactions(simple):\n",
    "  \"\"\"\n",
    "  Get list of non-boundary reacetions\n",
    "  :param SimpleSBML simple:\n",
    "  :return list-Reaction:\n",
    "  \"\"\"\n",
    "  reactions = []\n",
    "  for reaction in simple.reactions:\n",
    "    if reaction.category != cn.REACTION_BOUNDARY:\n",
    "      reactions.append(reaction)\n",
    "  return reactions\n",
    "#\n",
    "def getNonBoundaryMolecules(simple, reactions):\n",
    "  \"\"\"\n",
    "  Get list of non-boundary molecules\n",
    "  :param SimpleSBML simple:\n",
    "  :return list-Molecule.name:\n",
    "  \"\"\"\n",
    "  molecules = set()\n",
    "  for reaction in reactions:\n",
    "    reactants = {r.molecule.name for r in reaction.reactants}\n",
    "    products = {r.molecule.name for r in reaction.products}\n",
    "    molecules = molecules.union(reactants)\n",
    "    molecules = molecules.union(products)\n",
    "  return list(molecules)\n",
    "#\n",
    "def makeStoichiometryMatrix(reactions, molecules):\n",
    "  \"\"\"\n",
    "  Creates a full stoichiometry matrix\n",
    "  using non-boundary reactions.\n",
    "  Helped by https://gist.github.com/lukauskas/d1e30bdccc5b801d341d\n",
    "  :return pd.DataFrame:\n",
    "  \"\"\"\n",
    "  reaction_labels = [r.label for r in reactions]\n",
    "  stoichiometry_matrix = pd.DataFrame(0.0, index=molecules, columns=reaction_labels)\n",
    "  for reaction in reactions:\n",
    "    reactants = {r.molecule.name:r.stoichiometry for r in reaction.reactants}\n",
    "    products = {p.molecule.name:p.stoichiometry for p in reaction.products}\n",
    "    reaction_molecules = list(set(reactants.keys()).union(products.keys()))\n",
    "    for molecule_name in reaction_molecules:\n",
    "      net_stoichiometry = products.get(molecule_name, 0.0) - reactants.get(molecule_name, 0.0)\n",
    "      stoichiometry_matrix[reaction.label][molecule_name] = net_stoichiometry\n",
    "  return stoichiometry_matrix\n",
    "def decomposeMatrix(mat_df):\n",
    "  \"\"\"\n",
    "  LU decomposition of the matrix.\n",
    "  First it transposes the input matrix\n",
    "  and find P, L, U matrices. \n",
    "  :param pandas.DataFrame mat_df:\n",
    "  :yield typle-numpy.array:\n",
    "  \"\"\"\n",
    "  mat_t = mat_df.T\n",
    "  idx_mat_t = mat_t.index\n",
    "  # LU decomposition\n",
    "  mat_lu = scipy.linalg.lu(mat_t)\n",
    "  # inverse pivot matrix\n",
    "  p_inv = scipy.linalg.inv(mat_lu[0])\n",
    "  pivot_index = [list(k).index(1) for k in p_inv]\n",
    "  new_idx_mat_t = [idx_mat_t[idx] for idx in pivot_index]\n",
    "  # row reduced matrix\n",
    "  row_reduced = pd.DataFrame(mat_lu[2], index=new_idx_mat_t, columns=mat_t.columns).T\n",
    "  # 'L' matrix\n",
    "  yield mat_lu[1]\n",
    "  yield row_reduced\n",
    "#\n",
    "# we need a different kind of category for this\n",
    "def getReactionSummaryCategory(reactants, products):\n",
    "  \"\"\"\n",
    "  Return category of reaction. Return reaction_n_n\n",
    "  if none of the above applies\n",
    "  :param list-MoleculeStoichiometry reactants:\n",
    "  :param list-Moleculestoichiometry products:\n",
    "  :return str reaction_category:\n",
    "  \"\"\"\n",
    "  num_reactants = len([r.molecule for r in reactants \\\n",
    "                       if r.molecule.name!=cn.EMPTYSET])\n",
    "  num_products = len([p.molecule for p in products \\\n",
    "                      if p.molecule.name!=cn.EMPTYSET])\n",
    "  stoichiometry_reactants = [r.stoichiometry for r \\\n",
    "                                in reactants \\\n",
    "                                if r.molecule.name!=cn.EMPTYSET]\n",
    "  stoichiometry_products = [p.stoichiometry for p \\\n",
    "                           in products \\\n",
    "                           if p.molecule.name!=cn.EMPTYSET]\n",
    "  for reaction_category in REACTION_SUMMARY_CATEGORIES:\n",
    "    if reaction_category.predicate(num_reactants, num_products, \n",
    "                                   stoichiometry_reactants, \n",
    "                                   stoichiometry_products):\n",
    "      return reaction_category.category\n",
    "  return cn.REACTION_n_n\n",
    "#    \n",
    "ReactionSummary = collections.namedtuple('ReactionSummary', \n",
    "                  'label reactants products category')\n",
    "def convertMatrixToReactions(simple, mat_df):\n",
    "  \"\"\"\n",
    "  Convert a stoichiometry matrix, \n",
    "  where columns are reactions and \n",
    "  rows are molecules(species),\n",
    "  to simpleSBML reactions. \n",
    "  :param simpleSBML simple:\n",
    "  :param pandas.DataFrame mat_df:\n",
    "  :return list-ReactionSummary reactions:\n",
    "  \"\"\"\n",
    "  reactions = []\n",
    "  for reaction_name in mat_df.columns:\n",
    "    reaction = simple.getReaction(reaction_name)\n",
    "    reduced_reaction_series = mat_df[reaction_name]\n",
    "    reactants = [MoleculeStoichiometry(simple.getMolecule(molecule), \n",
    "                                   abs(reduced_reaction_series[molecule])) \\\n",
    "            for molecule in reduced_reaction_series.index if reduced_reaction_series[molecule]<0]\n",
    "    products = [MoleculeStoichiometry(simple.getMolecule(molecule), \n",
    "                                   reduced_reaction_series[molecule]) \\\n",
    "            for molecule in reduced_reaction_series.index if reduced_reaction_series[molecule]>0]\n",
    "    reactions.append(ReactionSummary(label=reaction_name, \n",
    "                                    reactants=reactants,\n",
    "                                    products=products,\n",
    "                                    category=getReactionSummaryCategory(reactants, products)))\n",
    "  return reactions"
   ]
  },
  {
   "cell_type": "code",
   "execution_count": 244,
   "metadata": {},
   "outputs": [
    {
     "name": "stdout",
     "output_type": "stream",
     "text": [
      "[[ 1.    0.    0.    0.  ]\n",
      " [-0.5   1.    0.    0.  ]\n",
      " [ 0.   -0.    1.    0.  ]\n",
      " [ 0.75  0.5  -0.    1.  ]]\n",
      "             PGA  CO2  NADP  NADPH  RuBP\n",
      "PGA_prod_Vc  2.0 -1.0   0.0   -2.0  -1.0\n",
      "PGA_cons     0.0 -0.5   0.0   -1.0   0.5\n",
      "NADPH_prod   0.0  0.0  -1.0    1.0   0.0\n",
      "PGA_prod_Vo  0.0  0.0   0.0    0.0  -0.5\n",
      "\n",
      "\n",
      "Error found!!\n",
      "[RuBP *  0.50]\n",
      "[]\n",
      "reaction_error\n",
      "\n",
      "***printed errors above***\n"
     ]
    }
   ],
   "source": [
    "reactions = getNonBoundaryReactions(simple)\n",
    "molecules = getNonBoundaryMolecules(simple, reactions)\n",
    "matrix = makeStoichiometryMatrix(reactions, molecules)\n",
    "lower, reduced = decomposeMatrix(matrix)\n",
    "print(lower)\n",
    "print(reduced.T)\n",
    "reduced_reactions = convertMatrixToReactions(simple, reduced)\n",
    "#reduced_reactions\n",
    "for r in reduced_reactions:\n",
    "  if r.category == REACTION_ERROR:\n",
    "    print(\"\\n\\nError found!!\")\n",
    "    print(r.reactants)\n",
    "    print(r.products)\n",
    "    print(r.category)\n",
    "print(\"\\n***printed errors above***\")"
   ]
  },
  {
   "cell_type": "code",
   "execution_count": 248,
   "metadata": {},
   "outputs": [],
   "source": [
    "# Now created SOMGraph using reduced reactions\n",
    "def initializeSOMs(molecules):\n",
    "  \"\"\"\n",
    "  Create a list of one-molecule SOMs\n",
    "  :param SimpleSBML simple:\n",
    "  :return list-SOM:\n",
    "  \"\"\"\n",
    "  soms = []\n",
    "  for molecule in simple.molecules:\n",
    "    if molecule.name == cn.EMPTYSET:\n",
    "      continue\n",
    "    else:\n",
    "      soms.append(SOM({molecule}))\n",
    "  return soms\n",
    "#\n",
    "def processReactions(reactions):\n",
    "  \"\"\"\n",
    "  Process reactions, find error\n",
    "  :param list-ReactionSummary reactions:\n",
    "  :return ??:\n",
    "  \"\"\"\n",
    "  uniuni = []\n",
    "  unimulti = []\n",
    "  multiuni = []\n",
    "  for reaction in reactions:\n",
    "    if reaction.category == cn.REACTION_1_1:\n",
    "      uniuni.append(reaction)\n",
    "    elif reaction.category == cn.REACTION_1_n:\n",
    "      unimulti.append(reaction)\n",
    "    elif reaction.category == cn.REACTION_n_1:\n",
    "      multiuni.append(reaction)\n",
    "  # next, process these using \"process reaction methods\"\n",
    "  return"
   ]
  },
  {
   "cell_type": "code",
   "execution_count": 234,
   "metadata": {},
   "outputs": [
    {
     "data": {
      "text/plain": [
       "[{Br}, {BrO3}, {HBrO2}, {HOBr}, {Ce}]"
      ]
     },
     "execution_count": 234,
     "metadata": {},
     "output_type": "execute_result"
    }
   ],
   "source": [
    "soms = initializeSOMs(molecules)\n",
    "soms"
   ]
  },
  {
   "cell_type": "code",
   "execution_count": 122,
   "metadata": {},
   "outputs": [
    {
     "data": {
      "text/html": [
       "<div>\n",
       "<style scoped>\n",
       "    .dataframe tbody tr th:only-of-type {\n",
       "        vertical-align: middle;\n",
       "    }\n",
       "\n",
       "    .dataframe tbody tr th {\n",
       "        vertical-align: top;\n",
       "    }\n",
       "\n",
       "    .dataframe thead th {\n",
       "        text-align: right;\n",
       "    }\n",
       "</style>\n",
       "<table border=\"1\" class=\"dataframe\">\n",
       "  <thead>\n",
       "    <tr style=\"text-align: right;\">\n",
       "      <th></th>\n",
       "      <th>HBrO2</th>\n",
       "      <th>Ce</th>\n",
       "      <th>HOBr</th>\n",
       "      <th>Br</th>\n",
       "      <th>BrO3</th>\n",
       "    </tr>\n",
       "  </thead>\n",
       "  <tbody>\n",
       "    <tr>\n",
       "      <th>Reaction1</th>\n",
       "      <td>1.0</td>\n",
       "      <td>0.0</td>\n",
       "      <td>1.0</td>\n",
       "      <td>-1.0</td>\n",
       "      <td>-1.0</td>\n",
       "    </tr>\n",
       "    <tr>\n",
       "      <th>Reaction2</th>\n",
       "      <td>-1.0</td>\n",
       "      <td>0.0</td>\n",
       "      <td>2.0</td>\n",
       "      <td>-1.0</td>\n",
       "      <td>0.0</td>\n",
       "    </tr>\n",
       "    <tr>\n",
       "      <th>Reaction3</th>\n",
       "      <td>1.0</td>\n",
       "      <td>1.0</td>\n",
       "      <td>0.0</td>\n",
       "      <td>0.0</td>\n",
       "      <td>-1.0</td>\n",
       "    </tr>\n",
       "    <tr>\n",
       "      <th>Reaction4</th>\n",
       "      <td>-2.0</td>\n",
       "      <td>0.0</td>\n",
       "      <td>1.0</td>\n",
       "      <td>0.0</td>\n",
       "      <td>1.0</td>\n",
       "    </tr>\n",
       "    <tr>\n",
       "      <th>Reaction5</th>\n",
       "      <td>0.0</td>\n",
       "      <td>-1.0</td>\n",
       "      <td>0.0</td>\n",
       "      <td>1.0</td>\n",
       "      <td>0.0</td>\n",
       "    </tr>\n",
       "  </tbody>\n",
       "</table>\n",
       "</div>"
      ],
      "text/plain": [
       "           HBrO2   Ce  HOBr   Br  BrO3\n",
       "Reaction1    1.0  0.0   1.0 -1.0  -1.0\n",
       "Reaction2   -1.0  0.0   2.0 -1.0   0.0\n",
       "Reaction3    1.0  1.0   0.0  0.0  -1.0\n",
       "Reaction4   -2.0  0.0   1.0  0.0   1.0\n",
       "Reaction5    0.0 -1.0   0.0  1.0   0.0"
      ]
     },
     "execution_count": 122,
     "metadata": {},
     "output_type": "execute_result"
    }
   ],
   "source": [
    "matrix.T"
   ]
  },
  {
   "cell_type": "code",
   "execution_count": 44,
   "metadata": {},
   "outputs": [
    {
     "name": "stdout",
     "output_type": "stream",
     "text": [
      "Index(['Reaction1', 'Reaction2', 'Reaction3', 'Reaction4', 'Reaction5'], dtype='object')\n",
      "<class 'pandas.core.indexes.base.Index'>\n"
     ]
    },
    {
     "data": {
      "text/plain": [
       "tuple"
      ]
     },
     "execution_count": 44,
     "metadata": {},
     "output_type": "execute_result"
    }
   ],
   "source": [
    "mat_t = matrix.T\n",
    "idx_mat_t = mat_t.index\n",
    "# LU decomposition\n",
    "mat_lu = scipy.linalg.lu(mat_t)\n",
    "print(idx_mat_t)\n",
    "print(type(idx_mat_t))\n",
    "type(mat_lu)"
   ]
  },
  {
   "cell_type": "code",
   "execution_count": 45,
   "metadata": {},
   "outputs": [
    {
     "data": {
      "text/plain": [
       "array([[0., 0., 0., 0., 1.],\n",
       "       [0., 0., 1., 0., 0.],\n",
       "       [0., 1., 0., 0., 0.],\n",
       "       [1., 0., 0., 0., 0.],\n",
       "       [0., 0., 0., 1., 0.]])"
      ]
     },
     "execution_count": 45,
     "metadata": {},
     "output_type": "execute_result"
    }
   ],
   "source": [
    "mat_lu[0]"
   ]
  },
  {
   "cell_type": "code",
   "execution_count": 46,
   "metadata": {},
   "outputs": [
    {
     "data": {
      "text/plain": [
       "array([[ 1.        ,  0.        ,  0.        ,  0.        ,  0.        ],\n",
       "       [-0.5       ,  1.        ,  0.        ,  0.        ,  0.        ],\n",
       "       [ 0.5       ,  0.        ,  1.        ,  0.        ,  0.        ],\n",
       "       [-0.        , -1.        ,  0.33333333,  1.        ,  0.        ],\n",
       "       [-0.5       ,  0.        ,  1.        ,  0.        ,  1.        ]])"
      ]
     },
     "execution_count": 46,
     "metadata": {},
     "output_type": "execute_result"
    }
   ],
   "source": [
    "mat_lu[1]"
   ]
  },
  {
   "cell_type": "code",
   "execution_count": 47,
   "metadata": {},
   "outputs": [
    {
     "data": {
      "text/plain": [
       "array([[-2.        ,  0.        ,  1.        ,  0.        ,  1.        ],\n",
       "       [ 0.        ,  1.        ,  0.5       ,  0.        , -0.5       ],\n",
       "       [ 0.        ,  0.        ,  1.5       , -1.        , -0.5       ],\n",
       "       [ 0.        ,  0.        ,  0.        ,  1.33333333, -0.33333333],\n",
       "       [ 0.        ,  0.        ,  0.        ,  0.        ,  0.        ]])"
      ]
     },
     "execution_count": 47,
     "metadata": {},
     "output_type": "execute_result"
    }
   ],
   "source": [
    "mat_lu[2]"
   ]
  },
  {
   "cell_type": "code",
   "execution_count": 49,
   "metadata": {},
   "outputs": [
    {
     "data": {
      "text/html": [
       "<div>\n",
       "<style scoped>\n",
       "    .dataframe tbody tr th:only-of-type {\n",
       "        vertical-align: middle;\n",
       "    }\n",
       "\n",
       "    .dataframe tbody tr th {\n",
       "        vertical-align: top;\n",
       "    }\n",
       "\n",
       "    .dataframe thead th {\n",
       "        text-align: right;\n",
       "    }\n",
       "</style>\n",
       "<table border=\"1\" class=\"dataframe\">\n",
       "  <thead>\n",
       "    <tr style=\"text-align: right;\">\n",
       "      <th></th>\n",
       "      <th>HBrO2</th>\n",
       "      <th>Ce</th>\n",
       "      <th>HOBr</th>\n",
       "      <th>Br</th>\n",
       "      <th>BrO3</th>\n",
       "    </tr>\n",
       "  </thead>\n",
       "  <tbody>\n",
       "    <tr>\n",
       "      <th>Reaction1</th>\n",
       "      <td>1.0</td>\n",
       "      <td>0.0</td>\n",
       "      <td>1.0</td>\n",
       "      <td>-1.0</td>\n",
       "      <td>-1.0</td>\n",
       "    </tr>\n",
       "    <tr>\n",
       "      <th>Reaction2</th>\n",
       "      <td>-1.0</td>\n",
       "      <td>0.0</td>\n",
       "      <td>2.0</td>\n",
       "      <td>-1.0</td>\n",
       "      <td>0.0</td>\n",
       "    </tr>\n",
       "    <tr>\n",
       "      <th>Reaction3</th>\n",
       "      <td>1.0</td>\n",
       "      <td>1.0</td>\n",
       "      <td>0.0</td>\n",
       "      <td>0.0</td>\n",
       "      <td>-1.0</td>\n",
       "    </tr>\n",
       "    <tr>\n",
       "      <th>Reaction4</th>\n",
       "      <td>-2.0</td>\n",
       "      <td>0.0</td>\n",
       "      <td>1.0</td>\n",
       "      <td>0.0</td>\n",
       "      <td>1.0</td>\n",
       "    </tr>\n",
       "    <tr>\n",
       "      <th>Reaction5</th>\n",
       "      <td>0.0</td>\n",
       "      <td>-1.0</td>\n",
       "      <td>0.0</td>\n",
       "      <td>1.0</td>\n",
       "      <td>0.0</td>\n",
       "    </tr>\n",
       "  </tbody>\n",
       "</table>\n",
       "</div>"
      ],
      "text/plain": [
       "           HBrO2   Ce  HOBr   Br  BrO3\n",
       "Reaction1    1.0  0.0   1.0 -1.0  -1.0\n",
       "Reaction2   -1.0  0.0   2.0 -1.0   0.0\n",
       "Reaction3    1.0  1.0   0.0  0.0  -1.0\n",
       "Reaction4   -2.0  0.0   1.0  0.0   1.0\n",
       "Reaction5    0.0 -1.0   0.0  1.0   0.0"
      ]
     },
     "execution_count": 49,
     "metadata": {},
     "output_type": "execute_result"
    }
   ],
   "source": [
    "mat_t"
   ]
  },
  {
   "cell_type": "code",
   "execution_count": 65,
   "metadata": {},
   "outputs": [],
   "source": []
  },
  {
   "cell_type": "code",
   "execution_count": 97,
   "metadata": {},
   "outputs": [
    {
     "data": {
      "text/plain": [
       "1"
      ]
     },
     "execution_count": 97,
     "metadata": {},
     "output_type": "execute_result"
    }
   ],
   "source": [
    "abs(-1)"
   ]
  },
  {
   "cell_type": "code",
   "execution_count": 104,
   "metadata": {},
   "outputs": [
    {
     "name": "stdout",
     "output_type": "stream",
     "text": [
      "current reaction is\n",
      "Reaction1:  -> ; Br * BrO3 * k1 * BZ\n",
      "HBrO2    0.0\n",
      "Ce       0.0\n",
      "HOBr     0.0\n",
      "Br       0.0\n",
      "BrO3     0.0\n",
      "Name: Reaction1, dtype: float64\n",
      "reduced reaction is\n",
      "Reaction1:  -> ; Br * BrO3 * k1 * BZ\n"
     ]
    }
   ],
   "source": [
    "NAME = 'Reaction1'\n",
    "reaction = simple.getReaction(NAME)\n",
    "print(\"current reaction is\")\n",
    "print(reaction)\n",
    "reduced_reaction_series = reduced_mat.T[NAME]\n",
    "print(reduced_reaction_series)\n",
    "reactants = [MoleculeStoichiometry(simple.getMolecule(molecule), \n",
    "                                   abs(reduced_reaction_series[molecule])) \\\n",
    "            for molecule in reduced_reaction_series.index if reduced_reaction_series[molecule]<0]\n",
    "products = [MoleculeStoichiometry(simple.getMolecule(molecule), \n",
    "                                   reduced_reaction_series[molecule]) \\\n",
    "            for molecule in reduced_reaction_series.index if reduced_reaction_series[molecule]>0]\n",
    "# if !reactants or !products then error message or quit\n",
    "# if not, do the followings\n",
    "reaction.reactants = reactants\n",
    "reaction.products = products\n",
    "reaction.identifier = reaction.makeIdentifier(is_include_kinetics=True)\n",
    "print(\"reduced reaction is\")\n",
    "print(reaction)"
   ]
  },
  {
   "cell_type": "raw",
   "metadata": {},
   "source": [
    "reactants"
   ]
  },
  {
   "cell_type": "code",
   "execution_count": 75,
   "metadata": {},
   "outputs": [
    {
     "data": {
      "text/html": [
       "<div>\n",
       "<style scoped>\n",
       "    .dataframe tbody tr th:only-of-type {\n",
       "        vertical-align: middle;\n",
       "    }\n",
       "\n",
       "    .dataframe tbody tr th {\n",
       "        vertical-align: top;\n",
       "    }\n",
       "\n",
       "    .dataframe thead th {\n",
       "        text-align: right;\n",
       "    }\n",
       "</style>\n",
       "<table border=\"1\" class=\"dataframe\">\n",
       "  <thead>\n",
       "    <tr style=\"text-align: right;\">\n",
       "      <th></th>\n",
       "      <th>Reaction1</th>\n",
       "      <th>Reaction2</th>\n",
       "      <th>Reaction3</th>\n",
       "      <th>Reaction4</th>\n",
       "      <th>Reaction5</th>\n",
       "    </tr>\n",
       "  </thead>\n",
       "  <tbody>\n",
       "    <tr>\n",
       "      <th>HBrO2</th>\n",
       "      <td>1.0</td>\n",
       "      <td>-1.0</td>\n",
       "      <td>1.0</td>\n",
       "      <td>-2.0</td>\n",
       "      <td>0.0</td>\n",
       "    </tr>\n",
       "    <tr>\n",
       "      <th>Ce</th>\n",
       "      <td>0.0</td>\n",
       "      <td>0.0</td>\n",
       "      <td>1.0</td>\n",
       "      <td>0.0</td>\n",
       "      <td>-1.0</td>\n",
       "    </tr>\n",
       "    <tr>\n",
       "      <th>HOBr</th>\n",
       "      <td>1.0</td>\n",
       "      <td>2.0</td>\n",
       "      <td>0.0</td>\n",
       "      <td>1.0</td>\n",
       "      <td>0.0</td>\n",
       "    </tr>\n",
       "    <tr>\n",
       "      <th>Br</th>\n",
       "      <td>-1.0</td>\n",
       "      <td>-1.0</td>\n",
       "      <td>0.0</td>\n",
       "      <td>0.0</td>\n",
       "      <td>1.0</td>\n",
       "    </tr>\n",
       "    <tr>\n",
       "      <th>BrO3</th>\n",
       "      <td>-1.0</td>\n",
       "      <td>0.0</td>\n",
       "      <td>-1.0</td>\n",
       "      <td>1.0</td>\n",
       "      <td>0.0</td>\n",
       "    </tr>\n",
       "  </tbody>\n",
       "</table>\n",
       "</div>"
      ],
      "text/plain": [
       "       Reaction1  Reaction2  Reaction3  Reaction4  Reaction5\n",
       "HBrO2        1.0       -1.0        1.0       -2.0        0.0\n",
       "Ce           0.0        0.0        1.0        0.0       -1.0\n",
       "HOBr         1.0        2.0        0.0        1.0        0.0\n",
       "Br          -1.0       -1.0        0.0        0.0        1.0\n",
       "BrO3        -1.0        0.0       -1.0        1.0        0.0"
      ]
     },
     "execution_count": 75,
     "metadata": {},
     "output_type": "execute_result"
    }
   ],
   "source": [
    "mat_converted = convertMatrixToReactions(mat_t)\n",
    "for row_index in mat_converted.columns:\n",
    "  pass\n",
    "  reaction = mat_converted[row_index]\n",
    "  #print(reaction)\n",
    "  #print(reaction[0])\n",
    "  #print(type(mat_converted[row_index]))\n",
    "  #print(mat_converted[row_index])\n",
    "mat_converted"
   ]
  },
  {
   "cell_type": "code",
   "execution_count": 100,
   "metadata": {},
   "outputs": [
    {
     "data": {
      "text/html": [
       "<div>\n",
       "<style scoped>\n",
       "    .dataframe tbody tr th:only-of-type {\n",
       "        vertical-align: middle;\n",
       "    }\n",
       "\n",
       "    .dataframe tbody tr th {\n",
       "        vertical-align: top;\n",
       "    }\n",
       "\n",
       "    .dataframe thead th {\n",
       "        text-align: right;\n",
       "    }\n",
       "</style>\n",
       "<table border=\"1\" class=\"dataframe\">\n",
       "  <thead>\n",
       "    <tr style=\"text-align: right;\">\n",
       "      <th></th>\n",
       "      <th>HBrO2</th>\n",
       "      <th>Ce</th>\n",
       "      <th>HOBr</th>\n",
       "      <th>Br</th>\n",
       "      <th>BrO3</th>\n",
       "    </tr>\n",
       "  </thead>\n",
       "  <tbody>\n",
       "    <tr>\n",
       "      <th>Reaction4</th>\n",
       "      <td>-2.0</td>\n",
       "      <td>0.0</td>\n",
       "      <td>1.0</td>\n",
       "      <td>0.000000</td>\n",
       "      <td>1.000000</td>\n",
       "    </tr>\n",
       "    <tr>\n",
       "      <th>Reaction3</th>\n",
       "      <td>0.0</td>\n",
       "      <td>1.0</td>\n",
       "      <td>0.5</td>\n",
       "      <td>0.000000</td>\n",
       "      <td>-0.500000</td>\n",
       "    </tr>\n",
       "    <tr>\n",
       "      <th>Reaction2</th>\n",
       "      <td>0.0</td>\n",
       "      <td>0.0</td>\n",
       "      <td>1.5</td>\n",
       "      <td>-1.000000</td>\n",
       "      <td>-0.500000</td>\n",
       "    </tr>\n",
       "    <tr>\n",
       "      <th>Reaction5</th>\n",
       "      <td>0.0</td>\n",
       "      <td>0.0</td>\n",
       "      <td>0.0</td>\n",
       "      <td>1.333333</td>\n",
       "      <td>-0.333333</td>\n",
       "    </tr>\n",
       "    <tr>\n",
       "      <th>Reaction1</th>\n",
       "      <td>0.0</td>\n",
       "      <td>0.0</td>\n",
       "      <td>0.0</td>\n",
       "      <td>0.000000</td>\n",
       "      <td>0.000000</td>\n",
       "    </tr>\n",
       "  </tbody>\n",
       "</table>\n",
       "</div>"
      ],
      "text/plain": [
       "           HBrO2   Ce  HOBr        Br      BrO3\n",
       "Reaction4   -2.0  0.0   1.0  0.000000  1.000000\n",
       "Reaction3    0.0  1.0   0.5  0.000000 -0.500000\n",
       "Reaction2    0.0  0.0   1.5 -1.000000 -0.500000\n",
       "Reaction5    0.0  0.0   0.0  1.333333 -0.333333\n",
       "Reaction1    0.0  0.0   0.0  0.000000  0.000000"
      ]
     },
     "execution_count": 100,
     "metadata": {},
     "output_type": "execute_result"
    }
   ],
   "source": [
    "p_inv = scipy.linalg.inv(mat_lu[0])\n",
    "pivot_index = [list(k).index(1) for k in p_inv]\n",
    "new_idx_mat_t = [idx_mat_t[idx] for idx in pivot_index]\n",
    "#\n",
    "reduced_mat = pd.DataFrame(mat_lu[2], index=new_idx_mat_t, columns=mat_t.columns)\n",
    "reduced_mat"
   ]
  },
  {
   "cell_type": "code",
   "execution_count": null,
   "metadata": {},
   "outputs": [],
   "source": []
  }
 ],
 "metadata": {
  "kernelspec": {
   "display_name": "Python 3",
   "language": "python",
   "name": "python3"
  },
  "language_info": {
   "codemirror_mode": {
    "name": "ipython",
    "version": 3
   },
   "file_extension": ".py",
   "mimetype": "text/x-python",
   "name": "python",
   "nbconvert_exporter": "python",
   "pygments_lexer": "ipython3",
   "version": "3.6.8"
  }
 },
 "nbformat": 4,
 "nbformat_minor": 2
}
