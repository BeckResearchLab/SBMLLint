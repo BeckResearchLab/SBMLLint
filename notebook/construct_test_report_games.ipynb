{
 "cells": [
  {
   "cell_type": "code",
   "execution_count": 1,
   "metadata": {},
   "outputs": [
    {
     "name": "stdout",
     "output_type": "stream",
     "text": [
      "Current Directory: /Users/woosubshin/Desktop/ModelEngineering/SBMLLint/notebook\n"
     ]
    }
   ],
   "source": [
    "from games_setup import *\n",
    "from SBMLLint.common import constants as cn\n",
    "from SBMLLint.common.molecule import Molecule, MoleculeStoichiometry\n",
    "from SBMLLint.common.reaction import Reaction\n",
    "from SBMLLint.games.som import SOM\n",
    "from SBMLLint.common.simple_sbml import SimpleSBML\n",
    "\n",
    "import collections\n",
    "import itertools\n",
    "import networkx as nx\n",
    "import numpy as np\n",
    "import pandas as pd\n",
    "#\n",
    "from SBMLLint.common.stoichiometry_matrix import StoichiometryMatrix\n",
    "from SBMLLint.games.mesgraph import MESGraph\n",
    "from SBMLLint.games.games_pp import GAMES_PP, SOMStoichiometry, SOMReaction, TOLERANCE\n",
    "from SBMLLint.games.games_report import GAMESReport, SimplifiedReaction\n",
    "from SBMLLint.games.games_report import NULL_STR, NUM_STAR, PARAGRAPH_DIVIDER, REPORT_DIVIDER\n",
    "\n",
    "ReactionOperation = collections.namedtuple(\"ReactionOperation\", \n",
    "    \"reaction operation\")"
   ]
  },
  {
   "cell_type": "code",
   "execution_count": 38,
   "metadata": {},
   "outputs": [
    {
     "name": "stdout",
     "output_type": "stream",
     "text": [
      "SHMT: FH4 + serine -> CH2FH4\n",
      "HCHOtoCH2FH4: FH4 + HCHO -> CH2FH4\n",
      "CH2FH4toHCHO: CH2FH4 -> FH4 + HCHO\n",
      "MTHFR: CH2FH4 + NADPH -> CH3FH4\n",
      "MTR: CH3FH4 + homocysteine -> FH4\n",
      "HCOOHtoCHOFH4: FH4 + formate + ATP -> CHOFH4\n",
      "GARFT: CHOFH4 + GAR -> FGAR + FH4\n",
      "ATIC7: CHOFH4 + AICAR -> FH4\n",
      "MTHFD: CH2FH4 + NADP -> CHOFH4\n",
      "TYMS: CH2FH4 + dUMP -> FH2f\n",
      "ATIC12: FFH2 + AICAR -> FH2f\n",
      "MTX1on: MTX1 + DHFRf -> MTX1b\n",
      "MTX2on: MTX2 + DHFRf -> MTX2b\n",
      "MTX3on: MTX3 + DHFRf -> MTX3b\n",
      "MTX4on: MTX4 + DHFRf -> MTX4b\n",
      "MTX5on: MTX5 + DHFRf -> MTX5b\n",
      "MTX1off: MTX1b -> MTX1 + DHFRf\n",
      "MTX2off: MTX2b -> MTX2 + DHFRf\n",
      "MTX3off: MTX3b -> MTX3 + DHFRf\n",
      "MTX4off: MTX4b -> MTX4 + DHFRf\n",
      "MTX5off: MTX5b -> MTX5 + DHFRf\n",
      "We just analyzed the data...\n",
      "Type I error:  [PathComponents(node1='FH4', node2='CH2FH4', reactions=['CH2FH4toHCHO', 'SHMT', 'HCHOtoCH2FH4']), PathComponents(node1='CH2FH4', node2='FH2f', reactions=['TYMS']), PathComponents(node1='FFH2', node2='FH2f', reactions=['ATIC12']), PathComponents(node1='MTX1', node2='MTX1b', reactions=['MTX1off', 'MTX1on']), PathComponents(node1='MTX2', node2='MTX2b', reactions=['MTX2off', 'MTX2on']), PathComponents(node1='MTX3', node2='MTX3b', reactions=['MTX3off', 'MTX3on']), PathComponents(node1='MTX4', node2='MTX4b', reactions=['MTX4off', 'MTX4on']), PathComponents(node1='MTX5', node2='MTX5b', reactions=['MTX5off', 'MTX5on'])]\n",
      "Type II error:  [[{CH3FH4}, {CH2FH4=FFH2=FH2f=FH4}], [{CH2FH4=FFH2=FH2f=FH4}, {CHOFH4}]]\n",
      "Canceling error:  []\n",
      "Echelon error:  []\n",
      "Type III error:  []\n",
      "Type I-SOM error:  set()\n"
     ]
    }
   ],
   "source": [
    "# Model 248 is for canceling error\n",
    "# Model 14/167 for a type three error / echelon\n",
    "# Model 7 for type 1 error\n",
    "# Model 18 for type 2 error\n",
    "\n",
    "######## examine model 628 for large echelon error ###########\n",
    "simple = load_file_from_curated_data(18)\n",
    "for r in simple.reactions:\n",
    "  if r.category != cn.REACTION_BOUNDARY and r.category != cn.REACTION_1_1:\n",
    "    print(r.makeIdentifier(is_include_kinetics=False))\n",
    "m = GAMES_PP(simple)\n",
    "m.analyze()\n",
    "gr = GAMESReport(m)"
   ]
  },
  {
   "cell_type": "code",
   "execution_count": 42,
   "metadata": {},
   "outputs": [
    {
     "data": {
      "text/plain": [
       "[{CH3FH4}, {CH2FH4=FFH2=FH2f=FH4}]"
      ]
     },
     "execution_count": 42,
     "metadata": {},
     "output_type": "execute_result"
    }
   ],
   "source": [
    "m.type_two_errors[0]"
   ]
  },
  {
   "cell_type": "code",
   "execution_count": 45,
   "metadata": {},
   "outputs": [
    {
     "data": {
      "text/plain": [
       "[5]"
      ]
     },
     "execution_count": 45,
     "metadata": {},
     "output_type": "execute_result"
    }
   ],
   "source": [
    "type2_report, error_num = gr.reportTypeTwoError([m.type_two_errors[0]], explain_details=True)\n",
    "error_num"
   ]
  },
  {
   "cell_type": "code",
   "execution_count": null,
   "metadata": {},
   "outputs": [],
   "source": []
  },
  {
   "cell_type": "code",
   "execution_count": 47,
   "metadata": {},
   "outputs": [
    {
     "name": "stdout",
     "output_type": "stream",
     "text": [
      "We detected a mass imbalance from the following reactions:\n",
      "\n",
      "These uni-uni reactions created mass-equivalence.\n",
      "\n",
      "1. DHFReductase: FH2f -> FH4\n",
      "2. FFH2syn: FH2f -> FFH2\n",
      "3. SHMTr: CH2FH4 -> FH4\n",
      "\n",
      "----------------------------------------------------------------------\n",
      "\n",
      "The following reactions create mass-inequality.\n",
      "\n",
      "4. MTR: CH3FH4 + homocysteine -> FH4\n",
      "5. MTHFR: CH2FH4 + NADPH -> CH3FH4\n",
      "\n",
      "----------------------------------------------------------------------\n",
      "\n",
      "Based on the reactions above, we have mass-equivalent pseudo reactions.\n",
      "\n",
      "(pseudo 4.) MTR: {CH3FH4} + {homocysteine} -> {CH2FH4=FFH2=FH2f=FH4}\n",
      "(pseudo 5.) MTHFR: {CH2FH4=FFH2=FH2f=FH4} + {NADPH} -> {CH3FH4}\n",
      "\n",
      "----------------------------------------------------------------------\n",
      "\n",
      "However, the above pseudo reactions imply the following inequalities:\n",
      "\n",
      "{CH3FH4} < {CH2FH4=FFH2=FH2f=FH4} < {CH3FH4}\n",
      "\n",
      "This indicates a mass conflict between reactions.\n",
      "\n",
      "----------------------------------------------------------------------\n",
      "\n",
      "----------------------------------------------------------------------\n",
      "\n",
      "\n"
     ]
    }
   ],
   "source": [
    "print(type2_report)"
   ]
  },
  {
   "cell_type": "code",
   "execution_count": 49,
   "metadata": {},
   "outputs": [
    {
     "data": {
      "text/plain": [
       "241"
      ]
     },
     "execution_count": 49,
     "metadata": {},
     "output_type": "execute_result"
    }
   ],
   "source": [
    "k = \"This indicates a mass conflict between reactions.\\n\\n----------------------------------------------------------------------\\n\\n----------------------------------------------------------------------\\n\\n\"\n",
    "len(k)"
   ]
  },
  {
   "cell_type": "code",
   "execution_count": 48,
   "metadata": {},
   "outputs": [
    {
     "data": {
      "text/plain": [
       "'We detected a mass imbalance from the following reactions:\\n\\nThese uni-uni reactions created mass-equivalence.\\n\\n1. DHFReductase: FH2f -> FH4\\n2. FFH2syn: FH2f -> FFH2\\n3. SHMTr: CH2FH4 -> FH4\\n\\n----------------------------------------------------------------------\\n\\nThe following reactions create mass-inequality.\\n\\n4. MTR: CH3FH4 + homocysteine -> FH4\\n5. MTHFR: CH2FH4 + NADPH -> CH3FH4\\n\\n----------------------------------------------------------------------\\n\\nBased on the reactions above, we have mass-equivalent pseudo reactions.\\n\\n(pseudo 4.) MTR: {CH3FH4} + {homocysteine} -> {CH2FH4=FFH2=FH2f=FH4}\\n(pseudo 5.) MTHFR: {CH2FH4=FFH2=FH2f=FH4} + {NADPH} -> {CH3FH4}\\n\\n----------------------------------------------------------------------\\n\\nHowever, the above pseudo reactions imply the following inequalities:\\n\\n{CH3FH4} < {CH2FH4=FFH2=FH2f=FH4} < {CH3FH4}\\n\\nThis indicates a mass conflict between reactions.\\n\\n----------------------------------------------------------------------\\n\\n----------------------------------------------------------------------\\n\\n'"
      ]
     },
     "execution_count": 48,
     "metadata": {},
     "output_type": "execute_result"
    }
   ],
   "source": [
    "type2_report"
   ]
  },
  {
   "cell_type": "code",
   "execution_count": 15,
   "metadata": {},
   "outputs": [
    {
     "data": {
      "text/plain": [
       "[PathComponents(node1='G2K', node2='PG2', reactions=['Cdc2Phos']),\n",
       " PathComponents(node1='PG2', node2='PG2R', reactions=['Rum1DegInPG2R'])]"
      ]
     },
     "execution_count": 15,
     "metadata": {},
     "output_type": "execute_result"
    }
   ],
   "source": [
    "G2K = \"G2K\"\n",
    "PG2R = \"PG2R\"\n",
    "som = m.getNode(simple.getMolecule(\"G2K\"))\n",
    "gr.getMoleculeEqualityPath(som, \"G2K\", \"PG2R\")"
   ]
  },
  {
   "cell_type": "code",
   "execution_count": 21,
   "metadata": {},
   "outputs": [
    {
     "name": "stdout",
     "output_type": "stream",
     "text": [
      "2\n"
     ]
    },
    {
     "data": {
      "text/plain": [
       "'\\nG2K = PG2 by reaction(s):\\n1. Cdc2Phos: G2K -> PG2\\n\\nPG2 = PG2R by reaction(s):\\n2. Rum1DegInPG2R: PG2R -> PG2\\n'"
      ]
     },
     "execution_count": 21,
     "metadata": {},
     "output_type": "execute_result"
    }
   ],
   "source": [
    "count, report = gr.getMoleculeEqualityPathReport(G2K, PG2R, 0, explain_details=True)\n",
    "print(count)\n",
    "report"
   ]
  },
  {
   "cell_type": "code",
   "execution_count": 28,
   "metadata": {},
   "outputs": [
    {
     "name": "stdout",
     "output_type": "stream",
     "text": [
      "1\n"
     ]
    },
    {
     "data": {
      "text/plain": [
       "'G2K < PG2R by reaction(s):\\n1. G2R_Creation: G2K + R -> G2R\\n'"
      ]
     },
     "execution_count": 28,
     "metadata": {},
     "output_type": "execute_result"
    }
   ],
   "source": [
    "count, report = gr.getMoleculeInequalityPathReport(G2K, PG2R, [\"G2R_Creation\"], 0, explain_details=True)\n",
    "print(count)\n",
    "report"
   ]
  },
  {
   "cell_type": "code",
   "execution_count": 31,
   "metadata": {},
   "outputs": [
    {
     "data": {
      "text/plain": [
       "PathComponents(node1='G2K', node2='G2R', reactions=['G2R_Creation'])"
      ]
     },
     "execution_count": 31,
     "metadata": {},
     "output_type": "execute_result"
    }
   ],
   "source": [
    "m.type_one_errors[0]"
   ]
  },
  {
   "cell_type": "code",
   "execution_count": 32,
   "metadata": {},
   "outputs": [
    {
     "data": {
      "text/plain": [
       "PathComponents(node1='a', node2='b', reactions=['1'])"
      ]
     },
     "execution_count": 32,
     "metadata": {},
     "output_type": "execute_result"
    }
   ],
   "source": [
    "cn.PathComponents(node1='a', node2='b', reactions=['1'])"
   ]
  },
  {
   "cell_type": "code",
   "execution_count": 34,
   "metadata": {},
   "outputs": [
    {
     "name": "stdout",
     "output_type": "stream",
     "text": [
      "[2]\n"
     ]
    },
    {
     "data": {
      "text/plain": [
       "'We detected a mass imbalance from the following reactions:\\n\\n\\nG2K = G2R by reaction(s):\\n1. Rum1DegInG2R: G2R -> G2K\\n\\nHowever, G2K < G2R by reaction(s):\\n2. G2R_Creation: G2K + R -> G2R\\n\\n\\n----------------------------------------------------------------------\\n\\n\\n\\n**********************************************************************\\n\\n'"
      ]
     },
     "execution_count": 34,
     "metadata": {},
     "output_type": "execute_result"
    }
   ],
   "source": [
    "# From model 7\n",
    "type1_report, error_num = gr.reportTypeOneError([m.type_one_errors[0]], explain_details=True)\n",
    "print(error_num)\n",
    "type1_report"
   ]
  },
  {
   "cell_type": "code",
   "execution_count": 5,
   "metadata": {},
   "outputs": [
    {
     "data": {
      "text/plain": [
       "'We detected a mass imbalance from the following reactions:\\n\\n1. OxidativePhosphorylation: 6.00 ADP + CTtis -> 6.00 ATP\\n\\n2. ATPase: ATP -> ADP\\n\\n*ATP and ADP have the same mass according to the above reaction\\n\\n\\nTherefore, they will result in empty product with zero mass:\\n\\nOxidativePhosphorylation: CTtis -> \\n\\nThis indicates a mass conflict between reactions.\\n\\n----------------------------------------------------------------------\\n\\n----------------------------------------------------------------------\\n\\n\\n\\n**********************************************************************\\n\\n'"
      ]
     },
     "execution_count": 5,
     "metadata": {},
     "output_type": "execute_result"
    }
   ],
   "source": [
    "# From model 248\n",
    "canceling_report, error_num = gr.reportCancelingError(m.canceling_errors, explain_details=True)\n",
    "canceling_report"
   ]
  },
  {
   "cell_type": "code",
   "execution_count": 6,
   "metadata": {},
   "outputs": [
    {
     "data": {
      "text/plain": [
       "'We detected a mass imbalance from the following reactions:\\n\\n1. OxidativePhosphorylation: 6.00 ADP + CTtis -> 6.00 ATP\\n\\n2. ATPase: ATP -> ADP\\n\\n*ATP and ADP have the same mass according to the above reaction\\n\\n\\nTherefore, they will result in empty product with zero mass:\\n\\nOxidativePhosphorylation: CTtis -> \\n\\nThis indicates a mass conflict between reactions.\\n\\n----------------------------------------------------------------------\\n\\n----------------------------------------------------------------------\\n\\n'"
      ]
     },
     "execution_count": 6,
     "metadata": {},
     "output_type": "execute_result"
    }
   ],
   "source": [
    "correct_report = NULL_STR\n",
    "correct_report = correct_report + \"We detected a mass imbalance from the following reactions:\\n\\n\"\n",
    "correct_report = correct_report + \"1. OxidativePhosphorylation: 6.00 ADP + CTtis -> 6.00 ATP\\n\\n\"\n",
    "correct_report = correct_report + \"2. ATPase: ATP -> ADP\\n\\n\"\n",
    "correct_report = correct_report + \"*ATP and ADP have the same mass according to the above reaction\\n\\n\\n\"\n",
    "correct_report = correct_report + \"Therefore, they will result in empty product with zero mass:\\n\\n\"\n",
    "correct_report = correct_report + \"OxidativePhosphorylation: CTtis -> \\n\\n\"\n",
    "correct_report = correct_report + \"This indicates a mass conflict between reactions.\"\n",
    "correct_report = correct_report + \"\\n%s%s\\n\" % (PARAGRAPH_DIVIDER, PARAGRAPH_DIVIDER)\n",
    "correct_report + correct_report + \"\\n%s\\n\" % REPORT_DIVIDER\n",
    "\n",
    "correct_report"
   ]
  },
  {
   "cell_type": "code",
   "execution_count": 7,
   "metadata": {},
   "outputs": [
    {
     "data": {
      "text/plain": [
       "[ATPase: ATP -> ADP; Tissue * Katpase * ATP,\n",
       " OxidativePhosphorylation: 6.00 ADP + CTtis -> 6.00 ATP; Tissue * Vmax * (CFtis / (Km + CFtis)) * ADP / (Kadp + ADP),\n",
       " ConvectionTransport:  -> CTcap; Qm * (CTart - CTcap),\n",
       " DiffusionTransport: CTcap -> CTtis; PSm * (CFcap - CFtis),\n",
       " CreatineKinase: ADP + PCr -> ATP + Cr; Tissue * (VfCK * ADP * PCr / (Kb * Kia) - VrCK * Cr * ATP / (Kiq * Kp)) / ((Kia + ADP) / Kia + ATP / Kiq + PCr / Kib + ADP * PCr / (Kb * Kia) + Cr * ATP / (Kiq * Kp))]"
      ]
     },
     "execution_count": 7,
     "metadata": {},
     "output_type": "execute_result"
    }
   ],
   "source": [
    "simple.reactions"
   ]
  },
  {
   "cell_type": "code",
   "execution_count": 8,
   "metadata": {},
   "outputs": [
    {
     "data": {
      "text/plain": [
       "NodeView(({PCr}, {Cr}, {ADP=ATP}, {CTcap=CTtis}))"
      ]
     },
     "execution_count": 8,
     "metadata": {},
     "output_type": "execute_result"
    }
   ],
   "source": [
    "m.nodes"
   ]
  },
  {
   "cell_type": "code",
   "execution_count": null,
   "metadata": {},
   "outputs": [],
   "source": []
  }
 ],
 "metadata": {
  "kernelspec": {
   "display_name": "Python 3",
   "language": "python",
   "name": "python3"
  },
  "language_info": {
   "codemirror_mode": {
    "name": "ipython",
    "version": 3
   },
   "file_extension": ".py",
   "mimetype": "text/x-python",
   "name": "python",
   "nbconvert_exporter": "python",
   "pygments_lexer": "ipython3",
   "version": "3.6.8"
  }
 },
 "nbformat": 4,
 "nbformat_minor": 2
}
