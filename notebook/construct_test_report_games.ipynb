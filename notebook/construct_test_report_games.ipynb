{
 "cells": [
  {
   "cell_type": "code",
   "execution_count": 1,
   "metadata": {},
   "outputs": [
    {
     "name": "stdout",
     "output_type": "stream",
     "text": [
      "Current Directory: /Users/woosubshin/Desktop/ModelEngineering/SBMLLint/notebook\n"
     ]
    }
   ],
   "source": [
    "from games_setup import *\n",
    "from SBMLLint.common import constants as cn\n",
    "from SBMLLint.common.molecule import Molecule, MoleculeStoichiometry\n",
    "from SBMLLint.common.reaction import Reaction\n",
    "from SBMLLint.games.som import SOM\n",
    "from SBMLLint.common.simple_sbml import SimpleSBML\n",
    "\n",
    "import collections\n",
    "import itertools\n",
    "import networkx as nx\n",
    "import numpy as np\n",
    "import pandas as pd\n",
    "#\n",
    "from SBMLLint.common.stoichiometry_matrix import StoichiometryMatrix\n",
    "from SBMLLint.games.mesgraph import MESGraph\n",
    "from SBMLLint.games.games_pp import GAMES_PP, SOMStoichiometry, SOMReaction, TOLERANCE\n",
    "from SBMLLint.games.games_report import GAMESReport, SimplifiedReaction\n",
    "from SBMLLint.games.games_report import NULL_STR, NUM_STAR, PARAGRAPH_DIVIDER, REPORT_DIVIDER\n",
    "\n",
    "ReactionOperation = collections.namedtuple(\"ReactionOperation\", \n",
    "    \"reaction operation\")"
   ]
  },
  {
   "cell_type": "code",
   "execution_count": 9,
   "metadata": {},
   "outputs": [
    {
     "name": "stdout",
     "output_type": "stream",
     "text": [
      "We just analyzed the data...\n",
      "Type I error:  [PathComponents(node1='G2K', node2='G2R', reactions=['G2R_Creation']), PathComponents(node1='R', node2='G2R', reactions=['G2R_Creation']), PathComponents(node1='PG2', node2='PG2R', reactions=['PG2R_Creation']), PathComponents(node1='R', node2='PG2R', reactions=['PG2R_Creation']), PathComponents(node1='G1K', node2='G1R', reactions=['G1R_Binding']), PathComponents(node1='R', node2='G1R', reactions=['G1R_Binding'])]\n",
      "Type II error:  []\n",
      "Canceling error:  []\n",
      "Echelon error:  []\n",
      "Type III error:  []\n",
      "Type I-SOM error:  set()\n"
     ]
    }
   ],
   "source": [
    "# Model 248 is for canceling error\n",
    "# Model 14/167 for a type three error / echelon\n",
    "# Model 7 for type 1 error\n",
    "# Model 18 for type 2 error\n",
    "\n",
    "######## examine model 628 for large echelon error ###########\n",
    "simple = load_file_from_curated_data(7)\n",
    "# for r in simple.reactions:\n",
    "#   if r.category != cn.REACTION_BOUNDARY and r.category != cn.REACTION_1_1:\n",
    "#     print(r.makeIdentifier(is_include_kinetics=False))\n",
    "m = GAMES_PP(simple)\n",
    "m.analyze()\n",
    "gr = GAMESReport(m)"
   ]
  },
  {
   "cell_type": "code",
   "execution_count": 15,
   "metadata": {},
   "outputs": [
    {
     "data": {
      "text/plain": [
       "[PathComponents(node1='G2K', node2='PG2', reactions=['Cdc2Phos']),\n",
       " PathComponents(node1='PG2', node2='PG2R', reactions=['Rum1DegInPG2R'])]"
      ]
     },
     "execution_count": 15,
     "metadata": {},
     "output_type": "execute_result"
    }
   ],
   "source": [
    "G2K = \"G2K\"\n",
    "PG2R = \"PG2R\"\n",
    "som = m.getNode(simple.getMolecule(\"G2K\"))\n",
    "gr.getMoleculeEqualityPath(som, \"G2K\", \"PG2R\")"
   ]
  },
  {
   "cell_type": "code",
   "execution_count": 19,
   "metadata": {},
   "outputs": [
    {
     "data": {
      "text/plain": [
       "'1. Cdc2Phos: G2K -> PG2\\n2. Rum1DegInPG2R: PG2R -> PG2\\n'"
      ]
     },
     "execution_count": 19,
     "metadata": {},
     "output_type": "execute_result"
    }
   ],
   "source": [
    "count, report = gr.getMoleculeEqualityPathReport(G2K, PG2R, 0, explain_details=False)\n",
    "pri\n",
    "report"
   ]
  },
  {
   "cell_type": "code",
   "execution_count": 5,
   "metadata": {},
   "outputs": [
    {
     "data": {
      "text/plain": [
       "'We detected a mass imbalance from the following reactions:\\n\\n1. OxidativePhosphorylation: 6.00 ADP + CTtis -> 6.00 ATP\\n\\n2. ATPase: ATP -> ADP\\n\\n*ATP and ADP have the same mass according to the above reaction\\n\\n\\nTherefore, they will result in empty product with zero mass:\\n\\nOxidativePhosphorylation: CTtis -> \\n\\nThis indicates a mass conflict between reactions.\\n\\n----------------------------------------------------------------------\\n\\n----------------------------------------------------------------------\\n\\n\\n\\n**********************************************************************\\n\\n'"
      ]
     },
     "execution_count": 5,
     "metadata": {},
     "output_type": "execute_result"
    }
   ],
   "source": [
    "# From model 248\n",
    "canceling_report, error_num = gr.reportCancelingError(m.canceling_errors, explain_details=True)\n",
    "canceling_report"
   ]
  },
  {
   "cell_type": "code",
   "execution_count": 6,
   "metadata": {},
   "outputs": [
    {
     "data": {
      "text/plain": [
       "'We detected a mass imbalance from the following reactions:\\n\\n1. OxidativePhosphorylation: 6.00 ADP + CTtis -> 6.00 ATP\\n\\n2. ATPase: ATP -> ADP\\n\\n*ATP and ADP have the same mass according to the above reaction\\n\\n\\nTherefore, they will result in empty product with zero mass:\\n\\nOxidativePhosphorylation: CTtis -> \\n\\nThis indicates a mass conflict between reactions.\\n\\n----------------------------------------------------------------------\\n\\n----------------------------------------------------------------------\\n\\n'"
      ]
     },
     "execution_count": 6,
     "metadata": {},
     "output_type": "execute_result"
    }
   ],
   "source": [
    "correct_report = NULL_STR\n",
    "correct_report = correct_report + \"We detected a mass imbalance from the following reactions:\\n\\n\"\n",
    "correct_report = correct_report + \"1. OxidativePhosphorylation: 6.00 ADP + CTtis -> 6.00 ATP\\n\\n\"\n",
    "correct_report = correct_report + \"2. ATPase: ATP -> ADP\\n\\n\"\n",
    "correct_report = correct_report + \"*ATP and ADP have the same mass according to the above reaction\\n\\n\\n\"\n",
    "correct_report = correct_report + \"Therefore, they will result in empty product with zero mass:\\n\\n\"\n",
    "correct_report = correct_report + \"OxidativePhosphorylation: CTtis -> \\n\\n\"\n",
    "correct_report = correct_report + \"This indicates a mass conflict between reactions.\"\n",
    "correct_report = correct_report + \"\\n%s%s\\n\" % (PARAGRAPH_DIVIDER, PARAGRAPH_DIVIDER)\n",
    "correct_report + correct_report + \"\\n%s\\n\" % REPORT_DIVIDER\n",
    "\n",
    "correct_report"
   ]
  },
  {
   "cell_type": "code",
   "execution_count": 7,
   "metadata": {},
   "outputs": [
    {
     "data": {
      "text/plain": [
       "[ATPase: ATP -> ADP; Tissue * Katpase * ATP,\n",
       " OxidativePhosphorylation: 6.00 ADP + CTtis -> 6.00 ATP; Tissue * Vmax * (CFtis / (Km + CFtis)) * ADP / (Kadp + ADP),\n",
       " ConvectionTransport:  -> CTcap; Qm * (CTart - CTcap),\n",
       " DiffusionTransport: CTcap -> CTtis; PSm * (CFcap - CFtis),\n",
       " CreatineKinase: ADP + PCr -> ATP + Cr; Tissue * (VfCK * ADP * PCr / (Kb * Kia) - VrCK * Cr * ATP / (Kiq * Kp)) / ((Kia + ADP) / Kia + ATP / Kiq + PCr / Kib + ADP * PCr / (Kb * Kia) + Cr * ATP / (Kiq * Kp))]"
      ]
     },
     "execution_count": 7,
     "metadata": {},
     "output_type": "execute_result"
    }
   ],
   "source": [
    "simple.reactions"
   ]
  },
  {
   "cell_type": "code",
   "execution_count": 8,
   "metadata": {},
   "outputs": [
    {
     "data": {
      "text/plain": [
       "NodeView(({PCr}, {Cr}, {ADP=ATP}, {CTcap=CTtis}))"
      ]
     },
     "execution_count": 8,
     "metadata": {},
     "output_type": "execute_result"
    }
   ],
   "source": [
    "m.nodes"
   ]
  },
  {
   "cell_type": "code",
   "execution_count": null,
   "metadata": {},
   "outputs": [],
   "source": []
  }
 ],
 "metadata": {
  "kernelspec": {
   "display_name": "Python 3",
   "language": "python",
   "name": "python3"
  },
  "language_info": {
   "codemirror_mode": {
    "name": "ipython",
    "version": 3
   },
   "file_extension": ".py",
   "mimetype": "text/x-python",
   "name": "python",
   "nbconvert_exporter": "python",
   "pygments_lexer": "ipython3",
   "version": "3.6.8"
  }
 },
 "nbformat": 4,
 "nbformat_minor": 2
}
