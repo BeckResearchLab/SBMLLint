{
 "cells": [
  {
   "cell_type": "code",
   "execution_count": 1,
   "metadata": {},
   "outputs": [
    {
     "name": "stdout",
     "output_type": "stream",
     "text": [
      "/Users/woosubshin/Desktop/ModelEngineering/SBMLLint/notebook\n"
     ]
    }
   ],
   "source": [
    "import collections\n",
    "import itertools  \n",
    "import matplotlib.pyplot as plt\n",
    "import networkx as nx\n",
    "import os\n",
    "import tellurium as te\n",
    "import tesbml\n",
    "import os, sys\n",
    "cwd = os.getcwd()\n",
    "print(cwd)"
   ]
  },
  {
   "cell_type": "code",
   "execution_count": 2,
   "metadata": {},
   "outputs": [
    {
     "name": "stdout",
     "output_type": "stream",
     "text": [
      "/Users/woosubshin/Desktop/ModelEngineering/SBMLLint\n",
      "/Users/woosubshin/Desktop/ModelEngineering/SBMLLint\n"
     ]
    }
   ],
   "source": [
    "parent_dir = os.path.abspath(os.path.join(cwd, os.pardir))\n",
    "print(parent_dir)\n",
    "os.chdir(parent_dir)\n",
    "print(os.getcwd())"
   ]
  },
  {
   "cell_type": "code",
   "execution_count": 3,
   "metadata": {},
   "outputs": [],
   "source": [
    "from SBMLLint.common import constants as cn\n",
    "from SBMLLint.common.molecule import Molecule\n",
    "from SBMLLint.common.reaction import Reaction\n",
    "from SBMLLint.common.simple_sbml import SimpleSBML\n",
    "from SBMLLint.games import print_model as pm\n",
    "from SBMLLint.games.som import SOM"
   ]
  },
  {
   "cell_type": "code",
   "execution_count": 21,
   "metadata": {},
   "outputs": [
    {
     "name": "stdout",
     "output_type": "stream",
     "text": [
      "<Model Kinetic_modelling_of_Amadori_degradation \"Martins2003_AmadoriDegradation\">\n",
      "v1: DFG -> E1;\n",
      "v2: DFG -> E2;\n",
      "v3: DFG -> Gly + Cn;\n",
      "v4: E1 -> Gly + _3DG;\n",
      "v5: _3DG -> Cn;\n",
      "v6: _3DG -> FA;\n",
      "v7: E2 -> Gly + _1DG;\n",
      "v8: _1DG -> Cn;\n",
      "v9: _1DG -> AA;\n",
      "v10: E1 -> Gly + Man;\n",
      "v11: E1 -> Gly + Glu;\n",
      "v12: Man -> Glu;\n",
      "v13: Glu -> _3DG;\n",
      "v14: Gly + Cn -> Mel;\n",
      "v15: Cn -> AA + FA + MG;\n",
      "v16: E2 -> Gly + Fru;\n"
     ]
    }
   ],
   "source": [
    "num = 50\n",
    "format_num = format(num, '03d')\n",
    "document = tesbml.readSBML(os.path.join(os.getcwd(), 'SBMLLint/games/data/curated_' + format_num + '.xml'))\n",
    "model = document.getModel()\n",
    "pm.print_model(model)"
   ]
  },
  {
   "cell_type": "code",
   "execution_count": 5,
   "metadata": {},
   "outputs": [],
   "source": [
    "simple = SimpleSBML(model)"
   ]
  },
  {
   "cell_type": "code",
   "execution_count": 6,
   "metadata": {},
   "outputs": [
    {
     "name": "stdout",
     "output_type": "stream",
     "text": [
      "[<Reaction R1>, <Reaction R2>, <Reaction R3>, <Reaction R4>, <Reaction R5>, <Reaction R6>, <Reaction R7>, <Reaction R8>, <Reaction R9>, <Reaction R10>, <Reaction R11>, <Reaction R12>, <Reaction R13>, <Reaction R14>]\n"
     ]
    },
    {
     "data": {
      "text/plain": [
       "14"
      ]
     },
     "execution_count": 6,
     "metadata": {},
     "output_type": "execute_result"
    }
   ],
   "source": [
    "print(simple._getReactions())\n",
    "len(simple._getReactions())"
   ]
  },
  {
   "cell_type": "code",
   "execution_count": 7,
   "metadata": {},
   "outputs": [
    {
     "name": "stdout",
     "output_type": "stream",
     "text": [
      "reaction_n_n\n",
      "reaction_n_n\n",
      "reaction_n_n\n",
      "reaction_n_n\n",
      "reaction_n_n\n",
      "reaction_n_n\n",
      "reaction_n_n\n",
      "reaction_1_1\n",
      "reaction_1_1\n",
      "reaction_1_1\n",
      "reaction_n_n\n",
      "reaction_1_1\n",
      "reaction_n_1\n",
      "reaction_1_1\n"
     ]
    }
   ],
   "source": [
    "Reaction.reactions = []\n",
    "Molecule.molecules = []\n",
    "Reaction.initialize(simple)\n",
    "for reaction in Reaction.reactions:\n",
    "    print(reaction.category)"
   ]
  },
  {
   "cell_type": "code",
   "execution_count": 8,
   "metadata": {},
   "outputs": [],
   "source": [
    "#Reaction.reactions"
   ]
  },
  {
   "cell_type": "code",
   "execution_count": 9,
   "metadata": {},
   "outputs": [
    {
     "name": "stdout",
     "output_type": "stream",
     "text": [
      "[ADP, NAD, halfglucose, ATP, NADH, pyruvate, lactate, CoA, AcCoA, PO4, AcP, Ac, AcO, EtOH, AcLac, AcetoinIn, AcetoinOut, Butanediol, O2]\n"
     ]
    }
   ],
   "source": [
    "print(Molecule.molecules)"
   ]
  },
  {
   "cell_type": "code",
   "execution_count": 10,
   "metadata": {},
   "outputs": [
    {
     "name": "stdout",
     "output_type": "stream",
     "text": [
      "[{ADP}, {NAD}, {halfglucose}, {ATP}, {NADH}, {pyruvate}, {lactate}, {CoA}, {AcCoA}, {PO4}, {AcP}, {Ac}, {AcO}, {EtOH}, {AcLac}, {AcetoinIn}, {AcetoinOut}, {Butanediol}, {O2}]\n"
     ]
    }
   ],
   "source": [
    "SOM.initialize(Molecule.molecules)\n",
    "print(SOM.soms)"
   ]
  },
  {
   "cell_type": "code",
   "execution_count": 11,
   "metadata": {},
   "outputs": [],
   "source": [
    "class Arc(object):\n",
    "    \n",
    "    def __init__(self, source, destination, reaction):\n",
    "        \"\"\"\n",
    "        :param SOM source:\n",
    "        :param SOM destination:\n",
    "        :param Reaction reaction:\n",
    "        \"\"\"\n",
    "        self.source = source\n",
    "        self.destination = destination\n",
    "        self.reaction = reaction"
   ]
  },
  {
   "cell_type": "code",
   "execution_count": 12,
   "metadata": {},
   "outputs": [
    {
     "name": "stdout",
     "output_type": "stream",
     "text": [
      "[{ADP}, {NAD}, {halfglucose}, {ATP}, {NADH}, {pyruvate}, {lactate}, {CoA}, {AcCoA}, {PO4}, {AcP}, {Ac}, {AcO}, {EtOH}, {AcLac}, {AcetoinIn}, {AcetoinOut}, {Butanediol}, {O2}]\n"
     ]
    }
   ],
   "source": [
    "SOM.initialize(Molecule.molecules)\n",
    "print(SOM.soms)"
   ]
  },
  {
   "cell_type": "code",
   "execution_count": 13,
   "metadata": {},
   "outputs": [],
   "source": [
    "#Reaction.reactions[1].reactants[0].molecule\n",
    "\n",
    "#     @classmethod\n",
    "#     def findGraph(cls, molecule):\n",
    "#         \"\"\"\n",
    "#         :param Molecule molecule:\n",
    "#         :return MESGraph/False:\n",
    "#         \"\"\"\n",
    "#         som = SOM.findSOM(molecule)\n",
    "#         for graph in cls.all:\n",
    "#             for node in graph.nodes:\n",
    "#                 if node == som:\n",
    "#                     return graph\n",
    "#         return False\n",
    "        "
   ]
  },
  {
   "cell_type": "code",
   "execution_count": 14,
   "metadata": {},
   "outputs": [],
   "source": [
    "#ARROW = \"->\"\n",
    "\n",
    "class MESGraph(nx.DiGraph):\n",
    "    \"\"\"\n",
    "    The MESGraph class represents a collection of SOMs as nodes\n",
    "    and their inequality relationships as edges (arcs). \n",
    "    Mass inequality between SOMs from reactions can help us\n",
    "    detect their relationship.\n",
    "    Type I Error occurs when we find inequality between two molecules\n",
    "    in the same SOM, because each element in a SOM has the same weight.\n",
    "    Type II Error implies there is cyclism between molecules, such as\n",
    "    A < B < C < ... < A, which is physically impossible. \n",
    "    \"\"\"\n",
    "    # all = []\n",
    "\n",
    "    def __init__(self, soms):\n",
    "        \"\"\"\n",
    "        :param list-SOM soms:\n",
    "        \"\"\"\n",
    "        super(MESGraph, self).__init__()\n",
    "        self.add_nodes_from(soms)\n",
    "        self.identifier = self.makeId()\n",
    "\n",
    "    def __repr__(self):\n",
    "        return self.identifier\n",
    "    \n",
    "    def makeId(self):\n",
    "        identifier = \"\"\n",
    "        if self.edges:\n",
    "            for edge in self.edges:\n",
    "                identifier = identifier + str(edge[0]) + cn.ARC_ARROW + str(edge[1]) + \"\\n\"\n",
    "\n",
    "        for key, node in enumerate(nx.isolates(self)):\n",
    "            identifier = identifier + str(node)\n",
    "            if key < (len(list(nx.isolates(self)))-1):\n",
    "                identifier = identifier + cn.KINETICS_SEPARATOR\n",
    "                \n",
    "        return identifier\n",
    "    \n",
    "    def processUniUniReaction(self, reaction):\n",
    "        \"\"\"\n",
    "        Process a 1-1 reaction to update nodes.\n",
    "        Uses SOM.merge(reaction) method. \n",
    "        :param Reaction reactions:\n",
    "        \"\"\"\n",
    "        if reaction.category != cn.REACTION_1_1:\n",
    "            pass\n",
    "        else:\n",
    "            reactant_som = SOM.findSOM(reaction.reactants[0].molecule)\n",
    "            product_som = SOM.findSOM(reaction.products[0].molecule)\n",
    "            if reactant_som == product_som:\n",
    "                pass\n",
    "            else:\n",
    "                new_som = SOM.merge(reaction)\n",
    "                self.remove_node(reactant_som)\n",
    "                self.remove_node(product_som)\n",
    "                self.add_node(new_som)\n",
    "                return new_som\n",
    "    \n",
    "    def processUniMultiReaction(self, reaction):\n",
    "        \"\"\"\n",
    "        Process a 1-n reaction to add arcs.\n",
    "        Since the mass of reactant is greater than\n",
    "        that of each product, it adds arcs by\n",
    "        addArc(source=products, destination=reactant). \n",
    "        :param Reaction reaction:\n",
    "        \"\"\"\n",
    "        if (reaction.category != cn.REACTION_1_n):\n",
    "            pass\n",
    "        else:\n",
    "            destination = [reaction.reactants[0].molecule]\n",
    "            source = [product.molecule for product in reaction.products]\n",
    "            self.addArc(source, destination, reaction)\n",
    "\n",
    "    def processMultiUniReaction(self, reaction):\n",
    "        \"\"\"\n",
    "        Process a n-1 reaction to add arcs.\n",
    "        Since the mass of product is greater than\n",
    "        that of each reactant, it adds arcs by\n",
    "        addArc(source=reactants, destination=product). \n",
    "        :param Reaction reaction:\n",
    "        \"\"\"\n",
    "        if (reaction.category != cn.REACTION_n_1):\n",
    "            pass\n",
    "        else:\n",
    "            destination = [reaction.products[0].molecule]\n",
    "            source = [reactant.molecule for reactant in reaction.reactants]\n",
    "            self.addArc(source, destination, reaction)\n",
    "    \n",
    "    def addArc(self, source, destination, reaction):\n",
    "        \"\"\"\n",
    "        Check Type I Error and Add arcs \n",
    "        using two list of molecules (source/destination).\n",
    "        :param list-Molecule source:\n",
    "        :param list-Molecule destination:\n",
    "        \"\"\"\n",
    "        arcs = itertools.product(source, destination)\n",
    "        for arc in arcs:\n",
    "            if not self.checkTypeOneError(arc, reaction):\n",
    "                self.add_edge(SOM.findSOM(arc[0]), SOM.findSOM(arc[1]), reaction=reaction)\n",
    "            else:\n",
    "                continue\n",
    "    \n",
    "    def checkTypeOneError(self, arc, inequality_reaction=None):\n",
    "        \"\"\"\n",
    "        Check Type I Error of an arc.\n",
    "        If both source and destination are found\n",
    "        in the same SOM, send error message and return True.\n",
    "        If not, return False.\n",
    "        :param tuple-Molecule arc:\n",
    "        :param Reaction inequality_reaction:\n",
    "        :return bool:\n",
    "        \"\"\"\n",
    "        som1 = SOM.findSOM(arc[0])\n",
    "        som2 = SOM.findSOM(arc[1])\n",
    "        if som1 == som2:\n",
    "            print(\"We have Type I Error...\")\n",
    "            print(arc[0], \" and \", arc[1], \" have the same weight by\")\n",
    "            for equality_reaction in list(som1.reactions):\n",
    "                print(equality_reaction)\n",
    "            ##\n",
    "            print(\"\\nHowever, reaction \\\"\", inequality_reaction, \n",
    "                  \"\\\" implies \", arc[0], \" < \", arc[1])\n",
    "            print()\n",
    "            return True\n",
    "        else:\n",
    "            return False\n",
    "    \n",
    "    def analyze(self, reactions):\n",
    "        \"\"\"\n",
    "        Sort list of reactions and process them.\n",
    "        Add arcs or sending error messages using\n",
    "        checkTypeOneError or checkTypeTwoError.\n",
    "        :param list-Reaction reactions:\n",
    "        \"\"\"\n",
    "        uniuni = []\n",
    "        unimulti = []\n",
    "        multiuni = []\n",
    "        multimulti = []\n",
    "        for reaction in reactions:\n",
    "            if reaction.category == cn.REACTION_1_1:\n",
    "                uniuni.append(reaction)\n",
    "            elif reaction.category == cn.REACTION_1_n:\n",
    "                unimulti.append(reaction)\n",
    "            elif reaction.category == cn.REACTION_n_1:\n",
    "                multiuni.append(reaction)\n",
    "            elif reaction.category == cn.REACTION_n_n:\n",
    "                multimulti.append(reaction)\n",
    "            \n",
    "        for reaction in uniuni:\n",
    "            self.processUniUniReaction(reaction)\n",
    "        for reaction in unimulti:\n",
    "            self.processUniMultiReaction(reaction)\n",
    "        for reaction in multiuni:\n",
    "            self.processMultiUniReaction(reaction)\n",
    "            \n",
    "        self.identifier = self.makeId()\n",
    "        return self\n"
   ]
  },
  {
   "cell_type": "code",
   "execution_count": 15,
   "metadata": {},
   "outputs": [
    {
     "data": {
      "text/plain": [
       "NodeView(({ADP}, {NAD}, {halfglucose}, {ATP}, {NADH}, {pyruvate}, {lactate}, {CoA}, {AcCoA}, {PO4}, {AcP}, {Ac}, {AcO}, {EtOH}, {AcLac}, {AcetoinIn}, {AcetoinOut}, {Butanediol}, {O2}))"
      ]
     },
     "execution_count": 15,
     "metadata": {},
     "output_type": "execute_result"
    }
   ],
   "source": [
    "m = MESGraph(SOM.soms)\n",
    "m.nodes"
   ]
  },
  {
   "cell_type": "code",
   "execution_count": 16,
   "metadata": {},
   "outputs": [
    {
     "data": {
      "text/plain": [
       "{ADP};{NAD};{halfglucose};{ATP};{NADH};{pyruvate};{lactate};{CoA};{AcCoA};{PO4};{AcP};{Ac};{AcO};{EtOH};{AcLac};{AcetoinIn};{AcetoinOut};{Butanediol};{O2}"
      ]
     },
     "execution_count": 16,
     "metadata": {},
     "output_type": "execute_result"
    }
   ],
   "source": [
    "m"
   ]
  },
  {
   "cell_type": "code",
   "execution_count": 17,
   "metadata": {},
   "outputs": [
    {
     "data": {
      "text/plain": [
       "OutEdgeView([])"
      ]
     },
     "execution_count": 17,
     "metadata": {},
     "output_type": "execute_result"
    }
   ],
   "source": [
    "m.edges"
   ]
  },
  {
   "cell_type": "code",
   "execution_count": 18,
   "metadata": {},
   "outputs": [
    {
     "data": {
      "text/plain": [
       "NodeView(({NAD}, {halfglucose}, {NADH}, {lactate}, {CoA}, {AcCoA}, {PO4}, {AcP}, {Ac}, {AcO}, {EtOH}, {Butanediol}, {O2}, {AcLac, AcetoinIn, AcetoinOut, pyruvate}, {ADP, ATP}))"
      ]
     },
     "execution_count": 18,
     "metadata": {},
     "output_type": "execute_result"
    }
   ],
   "source": [
    "m.analyze(Reaction.reactions)\n",
    "m.nodes"
   ]
  },
  {
   "cell_type": "code",
   "execution_count": 19,
   "metadata": {},
   "outputs": [
    {
     "data": {
      "text/plain": [
       "OutEdgeView([({NADH}, {NAD}), ({O2}, {NAD})])"
      ]
     },
     "execution_count": 19,
     "metadata": {},
     "output_type": "execute_result"
    }
   ],
   "source": [
    "m.edges"
   ]
  },
  {
   "cell_type": "code",
   "execution_count": 20,
   "metadata": {},
   "outputs": [
    {
     "data": {
      "text/plain": [
       "{NADH}->{NAD}\n",
       "{O2}->{NAD}\n",
       "{halfglucose};{lactate};{CoA};{AcCoA};{PO4};{AcP};{Ac};{AcO};{EtOH};{Butanediol};{AcLac, AcetoinIn, AcetoinOut, pyruvate};{ADP, ATP}"
      ]
     },
     "execution_count": 20,
     "metadata": {},
     "output_type": "execute_result"
    }
   ],
   "source": [
    "m"
   ]
  },
  {
   "cell_type": "code",
   "execution_count": 453,
   "metadata": {},
   "outputs": [
    {
     "data": {
      "text/plain": [
       "OutEdgeView([({Gly}, {DFG, E1, E2}), ({Gly}, {Mel}), ({MG}, {AA, Cn, FA, Glu, Man, _1DG, _3DG}), ({Fru}, {DFG, E1, E2}), ({AA, Cn, FA, Glu, Man, _1DG, _3DG}, {DFG, E1, E2}), ({AA, Cn, FA, Glu, Man, _1DG, _3DG}, {Mel})])"
      ]
     },
     "execution_count": 453,
     "metadata": {},
     "output_type": "execute_result"
    }
   ],
   "source": [
    "m.edges"
   ]
  },
  {
   "cell_type": "code",
   "execution_count": 456,
   "metadata": {},
   "outputs": [
    {
     "data": {
      "text/plain": [
       "[]"
      ]
     },
     "execution_count": 456,
     "metadata": {},
     "output_type": "execute_result"
    }
   ],
   "source": [
    "list(nx.isolates(m))"
   ]
  },
  {
   "cell_type": "code",
   "execution_count": 424,
   "metadata": {},
   "outputs": [
    {
     "name": "stdout",
     "output_type": "stream",
     "text": [
      "{Gly}->{DFG, E1, E2}\n",
      "{Gly}->{Mel}\n",
      "{MG}->{AA, Cn, FA, Glu, Man, _1DG, _3DG}\n",
      "{Fru}->{DFG, E1, E2}\n",
      "{AA, Cn, FA, Glu, Man, _1DG, _3DG}->{DFG, E1, E2}\n",
      "{AA, Cn, FA, Glu, Man, _1DG, _3DG}->{Mel}\n",
      "\n"
     ]
    }
   ],
   "source": [
    "identifier = \"\"\n",
    "if m.edges:\n",
    "    for edge in m.edges:\n",
    "        identifier = identifier + str(edge[0]) + \"->\" + str(edge[1]) + \"\\n\"\n",
    "    \n",
    "for key, node in enumerate(nx.isolates(m)):\n",
    "    identifier = identifier + str(node)\n",
    "    if key < (len(list(nx.isolates(m)))-1):\n",
    "        identifier = identifier + cn.KINETICS_SEPARATOR\n",
    "print(identifier)"
   ]
  },
  {
   "cell_type": "code",
   "execution_count": 443,
   "metadata": {},
   "outputs": [
    {
     "data": {
      "text/plain": [
       "{DFG};{E1};{E2};{Gly};{Cn};{_3DG};{FA};{_1DG};{AA};{Man};{Glu};{Mel};{MG};{Fru}"
      ]
     },
     "execution_count": 443,
     "metadata": {},
     "output_type": "execute_result"
    }
   ],
   "source": []
  },
  {
   "cell_type": "code",
   "execution_count": 323,
   "metadata": {},
   "outputs": [
    {
     "data": {
      "text/plain": [
       "'{Gly}'"
      ]
     },
     "execution_count": 323,
     "metadata": {},
     "output_type": "execute_result"
    }
   ],
   "source": [
    "str(edge[0])"
   ]
  },
  {
   "cell_type": "code",
   "execution_count": 343,
   "metadata": {},
   "outputs": [
    {
     "name": "stdout",
     "output_type": "stream",
     "text": [
      "[{Gly}, {Mel}, {MG}, {Fru}, {DFG, E1, E2}, {AA, Cn, FA, Glu, Man, _1DG, _3DG}]\n"
     ]
    }
   ],
   "source": [
    "nodes = list(m.nodes)\n",
    "print(nodes)"
   ]
  },
  {
   "cell_type": "code",
   "execution_count": 373,
   "metadata": {},
   "outputs": [
    {
     "name": "stdout",
     "output_type": "stream",
     "text": [
      "{ATP, Ade, DNA, GTP, Gua, HX, IMP, PRPP, R5P, RNA, SAM, SAMP, UA, XMP, Xa, dATP, dGTP}\n",
      "<class 'SBMLLint.games.som.SOM'>\n"
     ]
    }
   ],
   "source": [
    "for x in nx.isolates(m):\n",
    "    print(x)\n",
    "    print(type(x))"
   ]
  },
  {
   "cell_type": "code",
   "execution_count": 341,
   "metadata": {},
   "outputs": [
    {
     "data": {
      "text/plain": [
       "{{Fru}, {MG}, {Gly}, {AA, Cn, FA, Glu, Man, _1DG, _3DG}}"
      ]
     },
     "execution_count": 341,
     "metadata": {},
     "output_type": "execute_result"
    }
   ],
   "source": [
    "nx.ancestors(m, list(m.edges)[0][1])"
   ]
  },
  {
   "cell_type": "code",
   "execution_count": 339,
   "metadata": {},
   "outputs": [
    {
     "data": {
      "text/plain": [
       "{Gly}"
      ]
     },
     "execution_count": 339,
     "metadata": {},
     "output_type": "execute_result"
    }
   ],
   "source": [
    "list(m.edges)[0][0]"
   ]
  },
  {
   "cell_type": "code",
   "execution_count": 374,
   "metadata": {},
   "outputs": [
    {
     "data": {
      "text/plain": [
       ";{ATP}+{HX}+{Ade}+{dATP}+{DNA}+{IMP}+{PRPP}+{RNA}+{SAMP}+{dGTP}+{Gua}+{GTP}+{XMP}+{Xa}+{SAM}+{R5P}+{UA}+"
      ]
     },
     "execution_count": 374,
     "metadata": {},
     "output_type": "execute_result"
    }
   ],
   "source": [
    "m"
   ]
  },
  {
   "cell_type": "code",
   "execution_count": 376,
   "metadata": {},
   "outputs": [
    {
     "data": {
      "text/plain": [
       "<generator object isolates.<locals>.<genexpr> at 0x1521ab2c50>"
      ]
     },
     "execution_count": 376,
     "metadata": {},
     "output_type": "execute_result"
    }
   ],
   "source": [
    "nx.isolates(m)"
   ]
  },
  {
   "cell_type": "code",
   "execution_count": 22,
   "metadata": {},
   "outputs": [],
   "source": [
    "a = {1}.union({2})"
   ]
  },
  {
   "cell_type": "code",
   "execution_count": 23,
   "metadata": {},
   "outputs": [
    {
     "data": {
      "text/plain": [
       "{1, 2}"
      ]
     },
     "execution_count": 23,
     "metadata": {},
     "output_type": "execute_result"
    }
   ],
   "source": [
    "a"
   ]
  },
  {
   "cell_type": "code",
   "execution_count": 24,
   "metadata": {},
   "outputs": [],
   "source": [
    "a.add(3)"
   ]
  },
  {
   "cell_type": "code",
   "execution_count": 25,
   "metadata": {},
   "outputs": [
    {
     "data": {
      "text/plain": [
       "{1, 2, 3}"
      ]
     },
     "execution_count": 25,
     "metadata": {},
     "output_type": "execute_result"
    }
   ],
   "source": [
    "a"
   ]
  },
  {
   "cell_type": "code",
   "execution_count": 26,
   "metadata": {},
   "outputs": [
    {
     "data": {
      "text/plain": [
       "[{E2},\n",
       " {Gly},\n",
       " {Cn},\n",
       " {_3DG},\n",
       " {FA},\n",
       " {_1DG},\n",
       " {AA},\n",
       " {Man},\n",
       " {Glu},\n",
       " {Mel},\n",
       " {MG},\n",
       " {Fru}]"
      ]
     },
     "execution_count": 26,
     "metadata": {},
     "output_type": "execute_result"
    }
   ],
   "source": [
    "SOM.soms"
   ]
  },
  {
   "cell_type": "code",
   "execution_count": null,
   "metadata": {},
   "outputs": [],
   "source": []
  }
 ],
 "metadata": {
  "kernelspec": {
   "display_name": "Python 3",
   "language": "python",
   "name": "python3"
  },
  "language_info": {
   "codemirror_mode": {
    "name": "ipython",
    "version": 3
   },
   "file_extension": ".py",
   "mimetype": "text/x-python",
   "name": "python",
   "nbconvert_exporter": "python",
   "pygments_lexer": "ipython3",
   "version": "3.6.3"
  }
 },
 "nbformat": 4,
 "nbformat_minor": 2
}
