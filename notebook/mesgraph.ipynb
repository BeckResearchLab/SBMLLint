{
 "cells": [
  {
   "cell_type": "code",
   "execution_count": 1,
   "metadata": {},
   "outputs": [
    {
     "name": "stdout",
     "output_type": "stream",
     "text": [
      "/Users/woosubshin/Desktop/ModelEngineering/SBMLLint/notebook\n"
     ]
    }
   ],
   "source": [
    "import collections\n",
    "import itertools  \n",
    "import matplotlib.pyplot as plt\n",
    "import networkx as nx\n",
    "import os\n",
    "import tellurium as te\n",
    "import tesbml\n",
    "import os, sys\n",
    "cwd = os.getcwd()\n",
    "print(cwd)"
   ]
  },
  {
   "cell_type": "code",
   "execution_count": 2,
   "metadata": {},
   "outputs": [
    {
     "name": "stdout",
     "output_type": "stream",
     "text": [
      "/Users/woosubshin/Desktop/ModelEngineering/SBMLLint\n",
      "/Users/woosubshin/Desktop/ModelEngineering/SBMLLint\n"
     ]
    }
   ],
   "source": [
    "parent_dir = os.path.abspath(os.path.join(cwd, os.pardir))\n",
    "print(parent_dir)\n",
    "os.chdir(parent_dir)\n",
    "print(os.getcwd())"
   ]
  },
  {
   "cell_type": "code",
   "execution_count": 3,
   "metadata": {},
   "outputs": [],
   "source": [
    "from SBMLLint.common import constants as cn\n",
    "from SBMLLint.common.molecule import Molecule\n",
    "from SBMLLint.common.reaction import Reaction\n",
    "from SBMLLint.common.simple_sbml import SimpleSBML\n",
    "from SBMLLint.games import print_model as pm\n",
    "from SBMLLint.games.som import SOM"
   ]
  },
  {
   "cell_type": "code",
   "execution_count": 207,
   "metadata": {},
   "outputs": [
    {
     "name": "stdout",
     "output_type": "stream",
     "text": [
      "<Model BIOMD0000000007 \"Novak1997 - Cell Cycle\">\n",
      "G2K_Creation:  -> G2K;\n",
      "G1K_Creation:  -> G1K;\n",
      "Cdc2Phos: G2K -> PG2;\n",
      "G2R_Creation: G2K + R -> G2R;\n",
      "PG2R_Creation: PG2 + R -> PG2R;\n",
      "Rum1DegInG2R: G2R -> G2K;\n",
      "Rum1Deg: R -> ;\n",
      "Rum1DegInPG2R: PG2R -> PG2;\n",
      "RumDegInG1R: G1R -> G1K;\n",
      "G2K_dissoc: G2K -> ;\n",
      "PG2_dissoc: PG2 -> ;\n",
      "G1K_Dissociation: G1K -> ;\n",
      "PG2R_Dissociation: PG2R -> R;\n",
      "G2R_Dissociation: G2R -> R;\n",
      "G1R_Dissociation: G1R -> R;\n",
      "G1R_Binding: G1K + R -> G1R;\n",
      "G2R_Dissociation_UbE: G2R -> R;\n",
      "PG2R_Dissociation_UbE: PG2R -> R;\n",
      "Rum1_Production:  -> R;\n",
      "Rum1_Deg_SPF: R -> ;\n",
      "IE_Reaction: IEB -> IE;\n",
      "UbE_Reaction: UbEB -> UbE;\n",
      "UbE2_Reaction: UbE2B -> UbE2;\n",
      "Wee1_Reaction: Wee1B -> Wee1;\n",
      "Cdc25_Reaction: Cdc25B -> Cdc25;\n"
     ]
    }
   ],
   "source": [
    "num = 7\n",
    "format_num = format(num, '03d')\n",
    "document = tesbml.readSBML(os.path.join(os.getcwd(), 'SBMLLint/games/data/curated_' + format_num + '.xml'))\n",
    "model = document.getModel()\n",
    "pm.print_model(model)"
   ]
  },
  {
   "cell_type": "code",
   "execution_count": 208,
   "metadata": {},
   "outputs": [],
   "source": [
    "simple = SimpleSBML(model)"
   ]
  },
  {
   "cell_type": "code",
   "execution_count": 209,
   "metadata": {},
   "outputs": [
    {
     "name": "stdout",
     "output_type": "stream",
     "text": [
      "[<Reaction G2K_Creation \"Cdc13_Cdc2 creation\">, <Reaction G1K_Creation \"Cig2_Cdc2 creation\">, <Reaction Cdc2Phos \"Cdc2 phosphorylation\">, <Reaction G2R_Creation \"binding of Rum1 with Cdc13_Cdc2\">, <Reaction PG2R_Creation \"binding of Rum1 with Cdc13_P-Cdc2\">, <Reaction Rum1DegInG2R \"Rum1 degradation in Rum1_Cdc13_Cdc2\">, <Reaction Rum1Deg \"Rum1 degradation in solution\">, <Reaction Rum1DegInPG2R \"Rum1 degradation in Rum1_Cdc13_P-Cdc2\">, <Reaction RumDegInG1R \"Rum1 degradation in Rum1_Cig2_Cdc2\">, <Reaction G2K_dissoc \"Cdc13 degradation in Cdc13_Cdc2\">, <Reaction PG2_dissoc \"Cdc13 degradation in Cdc13_P-Cdc2\">, <Reaction G1K_Dissociation \"Cig2 degradation in Cig2_Cdc2\">, <Reaction PG2R_Dissociation \"Cdc13 degradation in Rum1_Cdc13_P-Cdc2\">, <Reaction G2R_Dissociation \"Cdc13 degradation in Rum1_Cdc13_Cdc2\">, <Reaction G1R_Dissociation \"Cig2 degradation in Rum1_Cig2_Cdc2\">, <Reaction G1R_Binding \"Binding of Rum1 to Cig2_Cdc2\">, <Reaction G2R_Dissociation_UbE \"UbE mediated degradation of Cdc13_Cdc2 in Rum1_Cdc13_Cdc2\">, <Reaction PG2R_Dissociation_UbE \"UbE mediated degradation of Cdc13_Cdc2 in Rum1_Cdc13_P-Cdc2\">, <Reaction Rum1_Production \"Rum1 creation\">, <Reaction Rum1_Deg_SPF \"Rum1 degradation by SPF\">, <Reaction IE_Reaction \"IE production & degradation\">, <Reaction UbE_Reaction \"UbE production & degradation\">, <Reaction UbE2_Reaction \"UbE2 production & degradation\">, <Reaction Wee1_Reaction \"Wee1 production & degradation\">, <Reaction Cdc25_Reaction \"Cdc25 production & degradation\">]\n"
     ]
    },
    {
     "data": {
      "text/plain": [
       "25"
      ]
     },
     "execution_count": 209,
     "metadata": {},
     "output_type": "execute_result"
    }
   ],
   "source": [
    "print(simple._getReactions())\n",
    "len(simple._getReactions())"
   ]
  },
  {
   "cell_type": "code",
   "execution_count": 220,
   "metadata": {},
   "outputs": [
    {
     "name": "stdout",
     "output_type": "stream",
     "text": [
      "[G2K_Creation:  -> G2K; k1, G1K_Creation:  -> G1K; k5, Cdc2Phos: G2K -> PG2; G2K * kwee - k25 * PG2, G2R_Creation: G2K + R -> G2R; G2K * k7 * R - G2R * k7r, PG2R_Creation: PG2 + R -> PG2R; k7 * PG2 * R - k7r * PG2R, Rum1DegInG2R: G2R -> G2K; G2R * k4, Rum1Deg: R -> ; k4 * R, Rum1DegInPG2R: PG2R -> PG2; k4 * PG2R, RumDegInG1R: G1R -> G1K; G1R * k4, G2K_dissoc: G2K -> ; G2K * k2, PG2_dissoc: PG2 -> ; k2 * PG2, G1K_Dissociation: G1K -> ; G1K * k6, PG2R_Dissociation: PG2R -> R; k2prime * PG2R, G2R_Dissociation: G2R -> R; G2R * k2prime, G1R_Dissociation: G1R -> R; G1R * k6prime, G1R_Binding: G1K + R -> G1R; G1K * k8 * R - G1R * k8r, G2R_Dissociation_UbE: G2R -> R; G2R * k2, PG2R_Dissociation_UbE: PG2R -> R; k2 * PG2R, Rum1_Production:  -> R; k3, Rum1_Deg_SPF: R -> ; kp * Mass * R * SPF / (Kmp + R), IE_Reaction: IEB -> IE; IEB * ki * MPF / (IEB + Kmi) - IE * kir / (IE + Kmir), UbE_Reaction: UbEB -> UbE; IE * ku * UbEB / (Kmu + UbEB) - kur * UbE / (Kmur + UbE), UbE2_Reaction: UbE2B -> UbE2; ku2 * MPF * UbE2B / (Kmu2 + UbE2B) - kur2 * UbE2 / (Kmur2 + UbE2), Wee1_Reaction: Wee1B -> Wee1; kwr * Wee1B / (Kmwr + Wee1B) - kw * MPF * Wee1 / (Kmw + Wee1), Cdc25_Reaction: Cdc25B -> Cdc25; Cdc25B * kc * MPF / (Cdc25B + Kmc) - Cdc25 * kcr / (Cdc25 + Kmcr)]\n"
     ]
    },
    {
     "data": {
      "text/plain": [
       "25"
      ]
     },
     "execution_count": 220,
     "metadata": {},
     "output_type": "execute_result"
    }
   ],
   "source": [
    "Reaction.reactions = []\n",
    "Molecule.molecules = []\n",
    "Reaction.initialize(simple)\n",
    "print(Reaction.reactions)\n",
    "len(Reaction.reactions)\n",
    "# makes sense because R9 and R14 are same;"
   ]
  },
  {
   "cell_type": "code",
   "execution_count": 221,
   "metadata": {},
   "outputs": [
    {
     "data": {
      "text/plain": [
       "[G2K_Creation:  -> G2K; k1,\n",
       " G1K_Creation:  -> G1K; k5,\n",
       " Cdc2Phos: G2K -> PG2; G2K * kwee - k25 * PG2,\n",
       " G2R_Creation: G2K + R -> G2R; G2K * k7 * R - G2R * k7r,\n",
       " PG2R_Creation: PG2 + R -> PG2R; k7 * PG2 * R - k7r * PG2R,\n",
       " Rum1DegInG2R: G2R -> G2K; G2R * k4,\n",
       " Rum1Deg: R -> ; k4 * R,\n",
       " Rum1DegInPG2R: PG2R -> PG2; k4 * PG2R,\n",
       " RumDegInG1R: G1R -> G1K; G1R * k4,\n",
       " G2K_dissoc: G2K -> ; G2K * k2,\n",
       " PG2_dissoc: PG2 -> ; k2 * PG2,\n",
       " G1K_Dissociation: G1K -> ; G1K * k6,\n",
       " PG2R_Dissociation: PG2R -> R; k2prime * PG2R,\n",
       " G2R_Dissociation: G2R -> R; G2R * k2prime,\n",
       " G1R_Dissociation: G1R -> R; G1R * k6prime,\n",
       " G1R_Binding: G1K + R -> G1R; G1K * k8 * R - G1R * k8r,\n",
       " G2R_Dissociation_UbE: G2R -> R; G2R * k2,\n",
       " PG2R_Dissociation_UbE: PG2R -> R; k2 * PG2R,\n",
       " Rum1_Production:  -> R; k3,\n",
       " Rum1_Deg_SPF: R -> ; kp * Mass * R * SPF / (Kmp + R),\n",
       " IE_Reaction: IEB -> IE; IEB * ki * MPF / (IEB + Kmi) - IE * kir / (IE + Kmir),\n",
       " UbE_Reaction: UbEB -> UbE; IE * ku * UbEB / (Kmu + UbEB) - kur * UbE / (Kmur + UbE),\n",
       " UbE2_Reaction: UbE2B -> UbE2; ku2 * MPF * UbE2B / (Kmu2 + UbE2B) - kur2 * UbE2 / (Kmur2 + UbE2),\n",
       " Wee1_Reaction: Wee1B -> Wee1; kwr * Wee1B / (Kmwr + Wee1B) - kw * MPF * Wee1 / (Kmw + Wee1),\n",
       " Cdc25_Reaction: Cdc25B -> Cdc25; Cdc25B * kc * MPF / (Cdc25B + Kmc) - Cdc25 * kcr / (Cdc25 + Kmcr)]"
      ]
     },
     "execution_count": 221,
     "metadata": {},
     "output_type": "execute_result"
    }
   ],
   "source": [
    "Reaction.reactions"
   ]
  },
  {
   "cell_type": "code",
   "execution_count": 222,
   "metadata": {},
   "outputs": [
    {
     "name": "stdout",
     "output_type": "stream",
     "text": [
      "[G2K, G1K, PG2, R, G2R, PG2R, G1R, IEB, IE, UbEB, UbE, UbE2B, UbE2, Wee1B, Wee1, Cdc25B, Cdc25]\n"
     ]
    }
   ],
   "source": [
    "print(Molecule.molecules)"
   ]
  },
  {
   "cell_type": "code",
   "execution_count": 223,
   "metadata": {},
   "outputs": [
    {
     "name": "stdout",
     "output_type": "stream",
     "text": [
      "[{G2K}, {G1K}, {PG2}, {R}, {G2R}, {PG2R}, {G1R}, {IEB}, {IE}, {UbEB}, {UbE}, {UbE2B}, {UbE2}, {Wee1B}, {Wee1}, {Cdc25B}, {Cdc25}]\n"
     ]
    }
   ],
   "source": [
    "SOM.initialize(Molecule.molecules)\n",
    "print(SOM.soms)"
   ]
  },
  {
   "cell_type": "code",
   "execution_count": 224,
   "metadata": {},
   "outputs": [
    {
     "name": "stdout",
     "output_type": "stream",
     "text": [
      "[{G2K}, {G1K}, {PG2}, {R}, {G2R}, {PG2R}, {G1R}, {IEB}, {IE}, {UbEB}, {UbE}, {UbE2B}, {UbE2}, {Wee1B}, {Wee1}, {Cdc25B}, {Cdc25}, {ADP}, {ATP}]\n",
      "[({ADP}, {ATP})]\n"
     ]
    }
   ],
   "source": [
    "a = nx.DiGraph()\n",
    "a.add_nodes_from(SOM.soms)\n",
    "a.nodes()\n",
    "a.add_edge(adp, atp)\n",
    "print(a.nodes)\n",
    "print(a.edges)"
   ]
  },
  {
   "cell_type": "code",
   "execution_count": 225,
   "metadata": {},
   "outputs": [],
   "source": [
    "class Arc(object):\n",
    "    \n",
    "    def __init__(self, source, destination, reaction):\n",
    "        \"\"\"\n",
    "        :param SOM source:\n",
    "        :param SOM destination:\n",
    "        :param Reaction reaction:\n",
    "        \"\"\"\n",
    "        self.source = source\n",
    "        self.destination = destination\n",
    "        self.reaction = reaction"
   ]
  },
  {
   "cell_type": "code",
   "execution_count": 226,
   "metadata": {},
   "outputs": [
    {
     "name": "stdout",
     "output_type": "stream",
     "text": [
      "[{G2K}, {G1K}, {PG2}, {R}, {G2R}, {PG2R}, {G1R}, {IEB}, {IE}, {UbEB}, {UbE}, {UbE2B}, {UbE2}, {Wee1B}, {Wee1}, {Cdc25B}, {Cdc25}]\n"
     ]
    }
   ],
   "source": [
    "SOM.initialize(Molecule.molecules)\n",
    "print(SOM.soms)"
   ]
  },
  {
   "cell_type": "code",
   "execution_count": 227,
   "metadata": {},
   "outputs": [],
   "source": [
    "#Reaction.reactions[1].reactants[0].molecule\n",
    "\n",
    "#     @classmethod\n",
    "#     def findGraph(cls, molecule):\n",
    "#         \"\"\"\n",
    "#         :param Molecule molecule:\n",
    "#         :return MESGraph/False:\n",
    "#         \"\"\"\n",
    "#         som = SOM.findSOM(molecule)\n",
    "#         for graph in cls.all:\n",
    "#             for node in graph.nodes:\n",
    "#                 if node == som:\n",
    "#                     return graph\n",
    "#         return False\n",
    "        "
   ]
  },
  {
   "cell_type": "code",
   "execution_count": 228,
   "metadata": {},
   "outputs": [],
   "source": [
    "class MESGraph(nx.DiGraph):\n",
    "#     all = []\n",
    "\n",
    "    def __init__(self, soms):\n",
    "        \"\"\"\n",
    "        :param list-SOM soms:\n",
    "        \"\"\"\n",
    "        super(MESGraph, self).__init__()\n",
    "        self.add_nodes_from(soms)\n",
    "        #self.arcs = set()\n",
    "        self.identifier = self.makeId()\n",
    "#         self.__class__.all.append(self)\n",
    "\n",
    "    def __repr__(self):\n",
    "        return self.identifier\n",
    "    \n",
    "    def makeId(self):\n",
    "        identifier = \";\"\n",
    "        for som in list(self.nodes):\n",
    "            identifier = identifier + som.identifier + \"+\"\n",
    "        return identifier\n",
    "    \n",
    "    def processUniUniReaction(self, reaction):\n",
    "        \"\"\"\n",
    "        :param Reaction reactions:\n",
    "        \"\"\"\n",
    "        if reaction.category != cn.REACTION_1_1:\n",
    "            pass\n",
    "        else:\n",
    "            reactant_som = SOM.findSOM(reaction.reactants[0].molecule)\n",
    "            product_som = SOM.findSOM(reaction.products[0].molecule)\n",
    "            if reactant_som == product_som:\n",
    "                pass\n",
    "            else:\n",
    "                new_som = SOM.merge(reaction)\n",
    "                self.remove_node(reactant_som)\n",
    "                self.remove_node(product_som)\n",
    "                self.add_node(new_som)\n",
    "                return new_som\n",
    "    \n",
    "    def processUniMultiReaction(self, reaction):\n",
    "        \"\"\"\n",
    "        :param Reaction reaction:\n",
    "        \"\"\"\n",
    "        if (reaction.category != cn.REACTION_1_n):\n",
    "            pass\n",
    "        else:\n",
    "            source = [SOM.findSOM(reaction.reactants[0].molecule)]\n",
    "            destination = [SOM.findSOM(product.molecule) for product in reaction.products]\n",
    "            self.addArc(source, destination, reaction)\n",
    "\n",
    "    def processMultiUniReaction(self, reaction):\n",
    "        \"\"\"\n",
    "        :param Reaction reaction:\n",
    "        \"\"\"\n",
    "        if (reaction.category != cn.REACTION_n_1):\n",
    "            pass\n",
    "        else:\n",
    "            source = [reaction.products[0].molecule]\n",
    "            destination = [reactant.molecule for reactant in reaction.reactants]\n",
    "            self.addArc(source, destination, reaction)\n",
    "    \n",
    "    def addArc(self, source, destination, reaction):\n",
    "        arcs = itertools.product(source, destination)\n",
    "        for arc in arcs:\n",
    "            if not self.checkTypeOneError(arc):\n",
    "                self.add_edge(SOM.findSOM(arc[0]), SOM.findSOM(arc[1]), reaction=reaction)\n",
    "            else:\n",
    "                continue\n",
    "    \n",
    "    def checkTypeOneError(self, arc):\n",
    "        som1 = SOM.findSOM(arc[0])\n",
    "        som2 = SOM.findSOM(arc[1])\n",
    "        if som1 == som2:\n",
    "            print(\"We have Type I Error...\")\n",
    "            print(arc[0], \" and \", arc[1], \" has the same weight\")\n",
    "            return True\n",
    "        else:\n",
    "            return False\n",
    "    \n",
    "    def analyze(self, reactions):\n",
    "        \"\"\"\n",
    "        :param list-Reaction reactions:\n",
    "        \"\"\"\n",
    "        uniuni = []\n",
    "        unimulti = []\n",
    "        multiuni = []\n",
    "        multimulti = []\n",
    "        for reaction in reactions:\n",
    "            if reaction.category == cn.REACTION_1_1:\n",
    "                uniuni.append(reaction)\n",
    "            elif reaction.category == cn.REACTION_1_n:\n",
    "                unimulti.append(reaction)\n",
    "            elif reaction.category == cn.REACTION_n_1:\n",
    "                multiuni.append(reaction)\n",
    "            elif reaction.category == cn.REACTION_n_n:\n",
    "                multimulti.append(reaction)\n",
    "            \n",
    "        for reaction in uniuni:\n",
    "            self.processUniUniReaction(reaction)\n",
    "        for reaction in unimulti:\n",
    "            self.processUniMultiReaction(reaction)\n",
    "        for reaction in multiuni:\n",
    "            self.processMultiUniReaction(reaction)\n",
    "        return \n"
   ]
  },
  {
   "cell_type": "code",
   "execution_count": 229,
   "metadata": {},
   "outputs": [
    {
     "data": {
      "text/plain": [
       "NodeView(({G2K}, {G1K}, {PG2}, {R}, {G2R}, {PG2R}, {G1R}, {IEB}, {IE}, {UbEB}, {UbE}, {UbE2B}, {UbE2}, {Wee1B}, {Wee1}, {Cdc25B}, {Cdc25}))"
      ]
     },
     "execution_count": 229,
     "metadata": {},
     "output_type": "execute_result"
    }
   ],
   "source": [
    "m = MESGraph(SOM.soms)\n",
    "m.nodes"
   ]
  },
  {
   "cell_type": "code",
   "execution_count": 230,
   "metadata": {},
   "outputs": [
    {
     "name": "stdout",
     "output_type": "stream",
     "text": [
      "We have Type I Error...\n",
      "G2R  and  G2K  has the same weight\n",
      "We have Type I Error...\n",
      "G2R  and  R  has the same weight\n",
      "We have Type I Error...\n",
      "PG2R  and  PG2  has the same weight\n",
      "We have Type I Error...\n",
      "PG2R  and  R  has the same weight\n",
      "We have Type I Error...\n",
      "G1R  and  G1K  has the same weight\n",
      "We have Type I Error...\n",
      "G1R  and  R  has the same weight\n"
     ]
    },
    {
     "data": {
      "text/plain": [
       "NodeView(({G1K, G1R, G2K, G2R, PG2, PG2R, R}, {IE, IEB}, {UbE, UbEB}, {UbE2, UbE2B}, {Wee1, Wee1B}, {Cdc25, Cdc25B}))"
      ]
     },
     "execution_count": 230,
     "metadata": {},
     "output_type": "execute_result"
    }
   ],
   "source": [
    "m.analyze(Reaction.reactions)\n",
    "m.nodes"
   ]
  },
  {
   "cell_type": "code",
   "execution_count": 206,
   "metadata": {},
   "outputs": [
    {
     "data": {
      "text/plain": [
       "OutEdgeView([({NAD}, {NADH}), ({NAD}, {O2})])"
      ]
     },
     "execution_count": 206,
     "metadata": {},
     "output_type": "execute_result"
    }
   ],
   "source": [
    "m.edges"
   ]
  },
  {
   "cell_type": "code",
   "execution_count": 133,
   "metadata": {},
   "outputs": [
    {
     "name": "stdout",
     "output_type": "stream",
     "text": [
      "[{ADP, ATP}, {NAD}, {halfglucose}]\n"
     ]
    }
   ],
   "source": [
    "# reaction1 is 1-1 reaction\n",
    "reaction1 = Reaction.reactions[7]\n",
    "reaction1\n",
    "reaction2 = Reaction.reactions[0]\n",
    "reactants = [SOM.findSOM(reactant.molecule) for reactant in reaction2.reactants]\n",
    "print(reactants)"
   ]
  },
  {
   "cell_type": "code",
   "execution_count": 137,
   "metadata": {},
   "outputs": [
    {
     "name": "stdout",
     "output_type": "stream",
     "text": [
      "reaction_n_n\n",
      "reaction_n_n\n",
      "reaction_n_n\n",
      "reaction_n_n\n",
      "reaction_n_n\n",
      "reaction_n_n\n",
      "reaction_n_n\n",
      "reaction_1_1\n",
      "reaction_1_1\n",
      "reaction_1_1\n",
      "reaction_n_n\n",
      "reaction_1_1\n",
      "reaction_n_1\n",
      "reaction_1_1\n"
     ]
    }
   ],
   "source": [
    "for reaction in Reaction.reactions:\n",
    "    print(reaction.category)"
   ]
  },
  {
   "cell_type": "code",
   "execution_count": null,
   "metadata": {},
   "outputs": [],
   "source": []
  }
 ],
 "metadata": {
  "kernelspec": {
   "display_name": "Python 3",
   "language": "python",
   "name": "python3"
  },
  "language_info": {
   "codemirror_mode": {
    "name": "ipython",
    "version": 3
   },
   "file_extension": ".py",
   "mimetype": "text/x-python",
   "name": "python",
   "nbconvert_exporter": "python",
   "pygments_lexer": "ipython3",
   "version": "3.6.3"
  }
 },
 "nbformat": 4,
 "nbformat_minor": 2
}
