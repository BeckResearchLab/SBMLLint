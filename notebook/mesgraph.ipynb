{
 "cells": [
  {
   "cell_type": "code",
   "execution_count": 1,
   "metadata": {},
   "outputs": [
    {
     "name": "stdout",
     "output_type": "stream",
     "text": [
      "/Users/woosubshin/Desktop/ModelEngineering/SBMLLint/notebook\n"
     ]
    }
   ],
   "source": [
    "import collections\n",
    "import itertools  \n",
    "import matplotlib.pyplot as plt\n",
    "import networkx as nx\n",
    "import os\n",
    "import tellurium as te\n",
    "import tesbml\n",
    "import os, sys\n",
    "cwd = os.getcwd()\n",
    "print(cwd)"
   ]
  },
  {
   "cell_type": "code",
   "execution_count": 2,
   "metadata": {},
   "outputs": [
    {
     "name": "stdout",
     "output_type": "stream",
     "text": [
      "/Users/woosubshin/Desktop/ModelEngineering/SBMLLint\n",
      "/Users/woosubshin/Desktop/ModelEngineering/SBMLLint\n"
     ]
    }
   ],
   "source": [
    "parent_dir = os.path.abspath(os.path.join(cwd, os.pardir))\n",
    "print(parent_dir)\n",
    "os.chdir(parent_dir)\n",
    "print(os.getcwd())"
   ]
  },
  {
   "cell_type": "code",
   "execution_count": 3,
   "metadata": {},
   "outputs": [],
   "source": [
    "from SBMLLint.common import constants as cn\n",
    "from SBMLLint.common.molecule import Molecule\n",
    "from SBMLLint.common.reaction import Reaction\n",
    "from SBMLLint.common.simple_sbml import SimpleSBML\n",
    "from SBMLLint.games import print_model as pm\n",
    "from SBMLLint.games.som import SOM"
   ]
  },
  {
   "cell_type": "code",
   "execution_count": 148,
   "metadata": {},
   "outputs": [
    {
     "name": "stdout",
     "output_type": "stream",
     "text": [
      "<Model Hoefnagel2002_PyruvateBranches \"Hoefnagel2002_PyruvateBranches\">\n",
      "R1: ADP + NAD + halfglucose -> ATP + NADH + pyruvate;\n",
      "R2: NADH + pyruvate -> NAD + lactate;\n",
      "R3: NAD + pyruvate + CoA -> NADH + AcCoA;\n",
      "R4: AcCoA + PO4 -> CoA + AcP;\n",
      "R5: ADP + AcP -> ATP + Ac;\n",
      "R6: NADH + AcCoA -> NAD + CoA + AcO;\n",
      "R7: NADH + AcO -> NAD + EtOH;\n",
      "R8: pyruvate -> AcLac;\n",
      "R9: AcLac -> AcetoinIn;\n",
      "R10: AcetoinIn -> AcetoinOut;\n",
      "R11: NADH + AcetoinIn -> NAD + Butanediol;\n",
      "R12: ATP -> ADP;\n",
      "R13: NADH + O2 -> NAD;\n",
      "R14: AcLac -> AcetoinIn;\n"
     ]
    }
   ],
   "source": [
    "num = 17\n",
    "format_num = format(num, '03d')\n",
    "document = tesbml.readSBML(os.path.join(os.getcwd(), 'SBMLLint/games/data/curated_' + format_num + '.xml'))\n",
    "model = document.getModel()\n",
    "pm.print_model(model)"
   ]
  },
  {
   "cell_type": "code",
   "execution_count": 149,
   "metadata": {},
   "outputs": [],
   "source": [
    "simple = SimpleSBML(model)"
   ]
  },
  {
   "cell_type": "code",
   "execution_count": 150,
   "metadata": {},
   "outputs": [
    {
     "name": "stdout",
     "output_type": "stream",
     "text": [
      "[<Reaction R1>, <Reaction R2>, <Reaction R3>, <Reaction R4>, <Reaction R5>, <Reaction R6>, <Reaction R7>, <Reaction R8>, <Reaction R9>, <Reaction R10>, <Reaction R11>, <Reaction R12>, <Reaction R13>, <Reaction R14>]\n"
     ]
    },
    {
     "data": {
      "text/plain": [
       "14"
      ]
     },
     "execution_count": 150,
     "metadata": {},
     "output_type": "execute_result"
    }
   ],
   "source": [
    "print(simple._getReactions())\n",
    "len(simple._getReactions())"
   ]
  },
  {
   "cell_type": "code",
   "execution_count": 151,
   "metadata": {},
   "outputs": [
    {
     "name": "stdout",
     "output_type": "stream",
     "text": [
      "[R1: ADP + NAD + halfglucose -> ATP + NADH + pyruvate; 2 * V_1 * (halfglucose / (2 * Kglc_1)) * (NAD / Knad_1) * (ADP / Kadp_1) / ((1 + halfglucose / (2 * Kglc_1) + pyruvate / Kpyr_1) * (1 + NAD / Knad_1 + NADH / Knadh_1) * (1 + ADP / Kadp_1 + ATP / Katp_1)), R2: NADH + pyruvate -> NAD + lactate; V_2 * ((pyruvate * NADH - lactate * NAD / Keq_2) / (Kpyr_2 * Knadh_2)) / ((1 + pyruvate / Kpyr_2 + lactate / Klac_2) * (1 + NADH / Knadh_2 + NAD / Knad_2)), R3: NAD + pyruvate + CoA -> NADH + AcCoA; V_3 * (pyruvate / Kpyr_3) * (NAD / Knad_3) * (CoA / Kcoa_3) * (NAD / (NAD + Ki_3 * NADH)) / ((1 + pyruvate / Kpyr_3) * (1 + NAD / Knad_3 + NADH / Knadh_3) * (1 + CoA / Kcoa_3 + AcCoA / Kaccoa_3)), R4: AcCoA + PO4 -> CoA + AcP; V_4 * ((AcCoA * PO4 - AcP * CoA / Keq_4) / (Kiaccoa_4 * Kpi_4)) / (1 + AcCoA / Kiaccoa_4 + PO4 / Kipi_4 + AcP / Kiacp_4 + CoA / Kicoa_4 + AcCoA * PO4 / (Kiaccoa_4 * Kpi_4) + AcP * CoA / (Kacp_4 * Kicoa_4)), R5: ADP + AcP -> ATP + Ac; V_5 * ((AcP * ADP - Ac * ATP / Keq_5) / (Kadp_5 * Kacp_5)) / ((1 + AcP / Kacp_5 + Ac / Kac_5) * (1 + ADP / Kadp_5 + ATP / Katp_5)), R6: NADH + AcCoA -> NAD + CoA + AcO; V_6 * ((AcCoA * NADH - CoA * NAD * AcO / Keq_6) / (Kaccoa_6 * Knadh_6)) / ((1 + NAD / Knad_6 + NADH / Knadh_6) * (1 + AcCoA / Kaccoa_6 + CoA / Kcoa_6) * (1 + AcO / Kaco_6)), R7: NADH + AcO -> NAD + EtOH; V_7 * ((AcO * NADH - EtOH * NAD / Keq_7) / (Kaco_7 * Knadh_7)) / ((1 + NAD / Knad_7 + NADH / Knadh_7) * (1 + AcO / Kaco_7 + EtOH / Ketoh_7)), R8: 2.00 pyruvate -> AcLac; V_8 * (pyruvate / Kpyr_8) * (1 - AcLac / (pyruvate * Keq_8)) * pow(pyruvate / Kpyr_8 + AcLac / Kaclac_8, n_8 - 1) / (1 + pow(pyruvate / Kpyr_8 + AcLac / Kaclac_8, n_8)), R9: AcLac -> AcetoinIn; V_9 * (AcLac / Kaclac_9) / (1 + AcLac / Kaclac_9 + AcetoinIn / Kacet_9), R10: AcetoinIn -> AcetoinOut; V_10 * (AcetoinIn / Kacet_10) / (1 + AcetoinIn / Kacet_10), R11: NADH + AcetoinIn -> NAD + Butanediol; V_11 * ((AcetoinIn * NADH - Butanediol * NAD / Keq_11) / (Kacet_11 * Knadh_11)) / ((1 + AcetoinIn / Kacet_11 + Butanediol / Kbut_11) * (1 + NADH / Knadh_11 + NAD / Knad_11)), R12: ATP -> ADP; V_12 * pow(ATP / (ADP * Katp_12), n_12) / (1 + pow(ATP / (ADP * Katp_12), n_12)), R13: NADH + O2 -> NAD; V_13 * (NADH * O2 / (Knadh_13 * Ko_13)) / ((1 + NADH / Knadh_13 + NAD / Knad_13) * (1 + O2 / Ko_13)), R14: AcLac -> AcetoinIn; k_14 * AcLac]\n"
     ]
    },
    {
     "data": {
      "text/plain": [
       "14"
      ]
     },
     "execution_count": 151,
     "metadata": {},
     "output_type": "execute_result"
    }
   ],
   "source": [
    "Reaction.reactions = []\n",
    "Reaction.initialize(simple)\n",
    "print(Reaction.reactions)\n",
    "len(Reaction.reactions)\n",
    "# makes sense because R9 and R14 are same;"
   ]
  },
  {
   "cell_type": "code",
   "execution_count": 152,
   "metadata": {},
   "outputs": [
    {
     "data": {
      "text/plain": [
       "[R1: ADP + NAD + halfglucose -> ATP + NADH + pyruvate; 2 * V_1 * (halfglucose / (2 * Kglc_1)) * (NAD / Knad_1) * (ADP / Kadp_1) / ((1 + halfglucose / (2 * Kglc_1) + pyruvate / Kpyr_1) * (1 + NAD / Knad_1 + NADH / Knadh_1) * (1 + ADP / Kadp_1 + ATP / Katp_1)),\n",
       " R2: NADH + pyruvate -> NAD + lactate; V_2 * ((pyruvate * NADH - lactate * NAD / Keq_2) / (Kpyr_2 * Knadh_2)) / ((1 + pyruvate / Kpyr_2 + lactate / Klac_2) * (1 + NADH / Knadh_2 + NAD / Knad_2)),\n",
       " R3: NAD + pyruvate + CoA -> NADH + AcCoA; V_3 * (pyruvate / Kpyr_3) * (NAD / Knad_3) * (CoA / Kcoa_3) * (NAD / (NAD + Ki_3 * NADH)) / ((1 + pyruvate / Kpyr_3) * (1 + NAD / Knad_3 + NADH / Knadh_3) * (1 + CoA / Kcoa_3 + AcCoA / Kaccoa_3)),\n",
       " R4: AcCoA + PO4 -> CoA + AcP; V_4 * ((AcCoA * PO4 - AcP * CoA / Keq_4) / (Kiaccoa_4 * Kpi_4)) / (1 + AcCoA / Kiaccoa_4 + PO4 / Kipi_4 + AcP / Kiacp_4 + CoA / Kicoa_4 + AcCoA * PO4 / (Kiaccoa_4 * Kpi_4) + AcP * CoA / (Kacp_4 * Kicoa_4)),\n",
       " R5: ADP + AcP -> ATP + Ac; V_5 * ((AcP * ADP - Ac * ATP / Keq_5) / (Kadp_5 * Kacp_5)) / ((1 + AcP / Kacp_5 + Ac / Kac_5) * (1 + ADP / Kadp_5 + ATP / Katp_5)),\n",
       " R6: NADH + AcCoA -> NAD + CoA + AcO; V_6 * ((AcCoA * NADH - CoA * NAD * AcO / Keq_6) / (Kaccoa_6 * Knadh_6)) / ((1 + NAD / Knad_6 + NADH / Knadh_6) * (1 + AcCoA / Kaccoa_6 + CoA / Kcoa_6) * (1 + AcO / Kaco_6)),\n",
       " R7: NADH + AcO -> NAD + EtOH; V_7 * ((AcO * NADH - EtOH * NAD / Keq_7) / (Kaco_7 * Knadh_7)) / ((1 + NAD / Knad_7 + NADH / Knadh_7) * (1 + AcO / Kaco_7 + EtOH / Ketoh_7)),\n",
       " R8: 2.00 pyruvate -> AcLac; V_8 * (pyruvate / Kpyr_8) * (1 - AcLac / (pyruvate * Keq_8)) * pow(pyruvate / Kpyr_8 + AcLac / Kaclac_8, n_8 - 1) / (1 + pow(pyruvate / Kpyr_8 + AcLac / Kaclac_8, n_8)),\n",
       " R9: AcLac -> AcetoinIn; V_9 * (AcLac / Kaclac_9) / (1 + AcLac / Kaclac_9 + AcetoinIn / Kacet_9),\n",
       " R10: AcetoinIn -> AcetoinOut; V_10 * (AcetoinIn / Kacet_10) / (1 + AcetoinIn / Kacet_10),\n",
       " R11: NADH + AcetoinIn -> NAD + Butanediol; V_11 * ((AcetoinIn * NADH - Butanediol * NAD / Keq_11) / (Kacet_11 * Knadh_11)) / ((1 + AcetoinIn / Kacet_11 + Butanediol / Kbut_11) * (1 + NADH / Knadh_11 + NAD / Knad_11)),\n",
       " R12: ATP -> ADP; V_12 * pow(ATP / (ADP * Katp_12), n_12) / (1 + pow(ATP / (ADP * Katp_12), n_12)),\n",
       " R13: NADH + O2 -> NAD; V_13 * (NADH * O2 / (Knadh_13 * Ko_13)) / ((1 + NADH / Knadh_13 + NAD / Knad_13) * (1 + O2 / Ko_13)),\n",
       " R14: AcLac -> AcetoinIn; k_14 * AcLac]"
      ]
     },
     "execution_count": 152,
     "metadata": {},
     "output_type": "execute_result"
    }
   ],
   "source": [
    "Reaction.reactions"
   ]
  },
  {
   "cell_type": "code",
   "execution_count": 154,
   "metadata": {},
   "outputs": [
    {
     "name": "stdout",
     "output_type": "stream",
     "text": [
      "[ADP, NAD, halfglucose, ATP, NADH, pyruvate, lactate, CoA, AcCoA, PO4, AcP, Ac, AcO, EtOH, AcLac, AcetoinIn, AcetoinOut, Butanediol, O2]\n"
     ]
    }
   ],
   "source": [
    "print(Molecule.molecules)"
   ]
  },
  {
   "cell_type": "code",
   "execution_count": 155,
   "metadata": {},
   "outputs": [
    {
     "name": "stdout",
     "output_type": "stream",
     "text": [
      "[{ADP}, {NAD}, {halfglucose}, {ATP}, {NADH}, {pyruvate}, {lactate}, {CoA}, {AcCoA}, {PO4}, {AcP}, {Ac}, {AcO}, {EtOH}, {AcLac}, {AcetoinIn}, {AcetoinOut}, {Butanediol}, {O2}]\n"
     ]
    }
   ],
   "source": [
    "SOM.initialize(Molecule.molecules)\n",
    "print(SOM.soms)"
   ]
  },
  {
   "cell_type": "code",
   "execution_count": 156,
   "metadata": {},
   "outputs": [
    {
     "name": "stdout",
     "output_type": "stream",
     "text": [
      "{ADP}\n",
      "{ATP}\n"
     ]
    }
   ],
   "source": [
    "adp = SOM.findSOM(Molecule.getMolecule('ADP'))\n",
    "atp = SOM.findSOM(Molecule.getMolecule('ATP'))\n",
    "print(adp)\n",
    "print(atp)"
   ]
  },
  {
   "cell_type": "code",
   "execution_count": 157,
   "metadata": {},
   "outputs": [
    {
     "name": "stdout",
     "output_type": "stream",
     "text": [
      "[{ADP}, {NAD}, {halfglucose}, {ATP}, {NADH}, {pyruvate}, {lactate}, {CoA}, {AcCoA}, {PO4}, {AcP}, {Ac}, {AcO}, {EtOH}, {AcLac}, {AcetoinIn}, {AcetoinOut}, {Butanediol}, {O2}]\n",
      "[({ADP}, {ATP})]\n"
     ]
    }
   ],
   "source": [
    "a = nx.DiGraph()\n",
    "a.add_nodes_from(SOM.soms)\n",
    "a.nodes()\n",
    "a.add_edge(adp, atp)\n",
    "print(a.nodes)\n",
    "print(a.edges)"
   ]
  },
  {
   "cell_type": "code",
   "execution_count": 158,
   "metadata": {},
   "outputs": [],
   "source": [
    "class Arc(object):\n",
    "    \n",
    "    def __init__(self, source, destination, reaction):\n",
    "        \"\"\"\n",
    "        :param SOM source:\n",
    "        :param SOM destination:\n",
    "        :param Reaction reaction:\n",
    "        \"\"\"\n",
    "        self.source = source\n",
    "        self.destination = destination\n",
    "        self.reaction = reaction"
   ]
  },
  {
   "cell_type": "code",
   "execution_count": 184,
   "metadata": {},
   "outputs": [
    {
     "name": "stdout",
     "output_type": "stream",
     "text": [
      "[{ADP}, {NAD}, {halfglucose}, {ATP}, {NADH}, {pyruvate}, {lactate}, {CoA}, {AcCoA}, {PO4}, {AcP}, {Ac}, {AcO}, {EtOH}, {AcLac}, {AcetoinIn}, {AcetoinOut}, {Butanediol}, {O2}]\n"
     ]
    }
   ],
   "source": [
    "SOM.initialize(Molecule.molecules)\n",
    "print(SOM.soms)"
   ]
  },
  {
   "cell_type": "code",
   "execution_count": 185,
   "metadata": {},
   "outputs": [],
   "source": [
    "#Reaction.reactions[1].reactants[0].molecule"
   ]
  },
  {
   "cell_type": "code",
   "execution_count": 186,
   "metadata": {},
   "outputs": [],
   "source": [
    "# maybe we can have multiple MESGraphs.. for each subgraph is a connected subgraph\n",
    "class MESGraph(nx.DiGraph):\n",
    "#     all = []\n",
    "\n",
    "    def __init__(self, soms):\n",
    "        \"\"\"\n",
    "        :param list-SOM soms:\n",
    "        \"\"\"\n",
    "        super(MESGraph, self).__init__()\n",
    "        self.add_nodes_from(soms)\n",
    "        #self.arcs = set()\n",
    "        self.identifier = self.makeId()\n",
    "#         self.__class__.all.append(self)\n",
    "\n",
    "    def __repr__(self):\n",
    "        return self.identifier\n",
    "    \n",
    "    def makeId(self):\n",
    "        identifier = \";\"\n",
    "        for som in list(self.nodes):\n",
    "            identifier = identifier + som.identifier + \"+\"\n",
    "        return identifier\n",
    "    \n",
    "    def processUniUniReaction(self, reaction):\n",
    "        \"\"\"\n",
    "        :param Reaction reactions:\n",
    "        \"\"\"\n",
    "        if reaction.category != cn.REACTION_1_1:\n",
    "            pass\n",
    "        else:\n",
    "            reactant_som = SOM.findSOM(reaction.reactants[0].molecule)\n",
    "            product_som = SOM.findSOM(reaction.products[0].molecule)\n",
    "            if reactant_som == product_som:\n",
    "                pass\n",
    "            else:\n",
    "                new_som = SOM.merge(reaction)\n",
    "                self.remove_node(reactant_som)\n",
    "                self.remove_node(product_som)\n",
    "                self.add_node(new_som)\n",
    "                return new_som\n",
    "    \n",
    "    def processUniMultiReaction(self, reaction):\n",
    "        \"\"\"\n",
    "        :param Reaction reaction:\n",
    "        \"\"\"\n",
    "        if (reaction.category != cn.REACTION_1_n):\n",
    "            pass\n",
    "        else:\n",
    "            source = [SOM.findSOM(reaction.reactants[0].molecule)]\n",
    "            destination = [SOM.findSOM(product.molecule) for product in reaction.products]\n",
    "            print(\"reactant is: \", source)\n",
    "            print(\"products is: \", destination)\n",
    "            self.add_edges_from(itertools.product(source, destination), reaction=reaction)\n",
    "\n",
    "    def processMultiUniReaction(self, reaction):\n",
    "        \"\"\"\n",
    "        :param Reaction reaction:\n",
    "        \"\"\"\n",
    "        if (reaction.category != cn.REACTION_n_1):\n",
    "            pass\n",
    "        else:\n",
    "            source = [SOM.findSOM(reaction.products[0].molecule)]\n",
    "            destination = [SOM.findSOM(reactant.molecule) for reactant in reaction.reactants]\n",
    "            print(\"reactant is: \", source)\n",
    "            print(\"products is: \", destination)\n",
    "            self.add_edges_from(itertools.product(source, destination), reaction=reaction)\n",
    "            \n",
    "    @classmethod\n",
    "    def findGraph(cls, molecule):\n",
    "        \"\"\"\n",
    "        :param Molecule molecule:\n",
    "        :return MESGraph/False:\n",
    "        \"\"\"\n",
    "        som = SOM.findSOM(molecule)\n",
    "        for graph in cls.all:\n",
    "            for node in graph.nodes:\n",
    "                if node == som:\n",
    "                    return graph\n",
    "        return False\n",
    "        \n",
    "     \n",
    "    def analyze(self, reactions):\n",
    "        \"\"\"\n",
    "        :param list-Reaction reactions:\n",
    "        \"\"\"\n",
    "        uniuni = []\n",
    "        unimulti = []\n",
    "        multiuni = []\n",
    "        multimulti = []\n",
    "        for reaction in reactions:\n",
    "            if reaction.category == cn.REACTION_1_1:\n",
    "                uniuni.append(reaction)\n",
    "            elif reaction.category == cn.REACTION_1_n:\n",
    "                unimulti.append(reaction)\n",
    "            elif reaction.category == cn.REACTION_n_1:\n",
    "                multiuni.append(reaction)\n",
    "            elif reaction.category == cn.REACTION_n_n:\n",
    "                multimulti.append(reaction)\n",
    "            \n",
    "        for reaction in uniuni:\n",
    "            self.processUniUniReaction(reaction)\n",
    "        for reaction in unimulti:\n",
    "            self.processUniMultiReaction(reaction)\n",
    "        for reaction in multiuni:\n",
    "            self.processMultiUniReaction(reaction)\n",
    "        \n",
    "        return \n",
    "        \n",
    "#     @classmethod\n",
    "#     def initialize(cls, soms):\n",
    "#         \"\"\"\n",
    "#         :param list-SOM soms:\n",
    "#         \"\"\"\n",
    "#         cls.all = []\n",
    "#         for som in soms:\n",
    "#             MESGraph(som)\n"
   ]
  },
  {
   "cell_type": "code",
   "execution_count": 187,
   "metadata": {},
   "outputs": [
    {
     "data": {
      "text/plain": [
       "NodeView(({ADP}, {NAD}, {halfglucose}, {ATP}, {NADH}, {pyruvate}, {lactate}, {CoA}, {AcCoA}, {PO4}, {AcP}, {Ac}, {AcO}, {EtOH}, {AcLac}, {AcetoinIn}, {AcetoinOut}, {Butanediol}, {O2}))"
      ]
     },
     "execution_count": 187,
     "metadata": {},
     "output_type": "execute_result"
    }
   ],
   "source": [
    "m = MESGraph(SOM.soms)\n",
    "m.nodes"
   ]
  },
  {
   "cell_type": "code",
   "execution_count": 188,
   "metadata": {},
   "outputs": [
    {
     "name": "stdout",
     "output_type": "stream",
     "text": [
      "reactant is:  [{NAD}]\n",
      "products is:  [{NADH}, {O2}]\n"
     ]
    },
    {
     "data": {
      "text/plain": [
       "NodeView(({NAD}, {halfglucose}, {NADH}, {lactate}, {CoA}, {AcCoA}, {PO4}, {AcP}, {Ac}, {AcO}, {EtOH}, {Butanediol}, {O2}, {AcLac, AcetoinIn, AcetoinOut, pyruvate}, {ADP, ATP}))"
      ]
     },
     "execution_count": 188,
     "metadata": {},
     "output_type": "execute_result"
    }
   ],
   "source": [
    "m.analyze(Reaction.reactions)\n",
    "m.nodes"
   ]
  },
  {
   "cell_type": "code",
   "execution_count": 189,
   "metadata": {},
   "outputs": [
    {
     "data": {
      "text/plain": [
       "OutEdgeView([({NAD}, {NADH}), ({NAD}, {O2})])"
      ]
     },
     "execution_count": 189,
     "metadata": {},
     "output_type": "execute_result"
    }
   ],
   "source": [
    "m.edges"
   ]
  },
  {
   "cell_type": "code",
   "execution_count": 133,
   "metadata": {},
   "outputs": [
    {
     "name": "stdout",
     "output_type": "stream",
     "text": [
      "[{ADP, ATP}, {NAD}, {halfglucose}]\n"
     ]
    }
   ],
   "source": [
    "# reaction1 is 1-1 reaction\n",
    "reaction1 = Reaction.reactions[7]\n",
    "reaction1\n",
    "reaction2 = Reaction.reactions[0]\n",
    "reactants = [SOM.findSOM(reactant.molecule) for reactant in reaction2.reactants]\n",
    "print(reactants)"
   ]
  },
  {
   "cell_type": "code",
   "execution_count": 137,
   "metadata": {},
   "outputs": [
    {
     "name": "stdout",
     "output_type": "stream",
     "text": [
      "reaction_n_n\n",
      "reaction_n_n\n",
      "reaction_n_n\n",
      "reaction_n_n\n",
      "reaction_n_n\n",
      "reaction_n_n\n",
      "reaction_n_n\n",
      "reaction_1_1\n",
      "reaction_1_1\n",
      "reaction_1_1\n",
      "reaction_n_n\n",
      "reaction_1_1\n",
      "reaction_n_1\n",
      "reaction_1_1\n"
     ]
    }
   ],
   "source": [
    "for reaction in Reaction.reactions:\n",
    "    print(reaction.category)"
   ]
  },
  {
   "cell_type": "code",
   "execution_count": null,
   "metadata": {},
   "outputs": [],
   "source": []
  }
 ],
 "metadata": {
  "kernelspec": {
   "display_name": "Python 3",
   "language": "python",
   "name": "python3"
  },
  "language_info": {
   "codemirror_mode": {
    "name": "ipython",
    "version": 3
   },
   "file_extension": ".py",
   "mimetype": "text/x-python",
   "name": "python",
   "nbconvert_exporter": "python",
   "pygments_lexer": "ipython3",
   "version": "3.6.3"
  }
 },
 "nbformat": 4,
 "nbformat_minor": 2
}
