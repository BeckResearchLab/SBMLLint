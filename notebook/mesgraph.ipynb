{
 "cells": [
  {
   "cell_type": "code",
   "execution_count": 1,
   "metadata": {},
   "outputs": [
    {
     "name": "stdout",
     "output_type": "stream",
     "text": [
      "/Users/woosubshin/Desktop/ModelEngineering/SBMLLint/notebook\n"
     ]
    }
   ],
   "source": [
    "import collections\n",
    "import itertools  \n",
    "import matplotlib.pyplot as plt\n",
    "import networkx as nx\n",
    "import os\n",
    "import tellurium as te\n",
    "import tesbml\n",
    "import os, sys\n",
    "cwd = os.getcwd()\n",
    "print(cwd)"
   ]
  },
  {
   "cell_type": "code",
   "execution_count": 2,
   "metadata": {},
   "outputs": [
    {
     "name": "stdout",
     "output_type": "stream",
     "text": [
      "/Users/woosubshin/Desktop/ModelEngineering/SBMLLint\n",
      "/Users/woosubshin/Desktop/ModelEngineering/SBMLLint\n"
     ]
    }
   ],
   "source": [
    "parent_dir = os.path.abspath(os.path.join(cwd, os.pardir))\n",
    "print(parent_dir)\n",
    "os.chdir(parent_dir)\n",
    "print(os.getcwd())"
   ]
  },
  {
   "cell_type": "code",
   "execution_count": 3,
   "metadata": {},
   "outputs": [],
   "source": [
    "from SBMLLint.common import constants as cn\n",
    "from SBMLLint.common.molecule import Molecule\n",
    "from SBMLLint.common.reaction import Reaction\n",
    "from SBMLLint.common.simple_sbml import SimpleSBML\n",
    "from SBMLLint.games import print_model as pm\n",
    "from SBMLLint.games.som import SOM"
   ]
  },
  {
   "cell_type": "code",
   "execution_count": 4,
   "metadata": {},
   "outputs": [
    {
     "name": "stdout",
     "output_type": "stream",
     "text": [
      "<Model Hoefnagel2002_PyruvateBranches \"Hoefnagel2002_PyruvateBranches\">\n",
      "R1: ADP + NAD + halfglucose -> ATP + NADH + pyruvate;\n",
      "R2: NADH + pyruvate -> NAD + lactate;\n",
      "R3: NAD + pyruvate + CoA -> NADH + AcCoA;\n",
      "R4: AcCoA + PO4 -> CoA + AcP;\n",
      "R5: ADP + AcP -> ATP + Ac;\n",
      "R6: NADH + AcCoA -> NAD + CoA + AcO;\n",
      "R7: NADH + AcO -> NAD + EtOH;\n",
      "R8: pyruvate -> AcLac;\n",
      "R9: AcLac -> AcetoinIn;\n",
      "R10: AcetoinIn -> AcetoinOut;\n",
      "R11: NADH + AcetoinIn -> NAD + Butanediol;\n",
      "R12: ATP -> ADP;\n",
      "R13: NADH + O2 -> NAD;\n",
      "R14: AcLac -> AcetoinIn;\n"
     ]
    }
   ],
   "source": [
    "num = 17\n",
    "format_num = format(num, '03d')\n",
    "document = tesbml.readSBML(os.path.join(os.getcwd(), 'SBMLLint/games/data/curated_' + format_num + '.xml'))\n",
    "model = document.getModel()\n",
    "pm.print_model(model)"
   ]
  },
  {
   "cell_type": "code",
   "execution_count": 5,
   "metadata": {},
   "outputs": [],
   "source": [
    "simple = SimpleSBML(model)"
   ]
  },
  {
   "cell_type": "code",
   "execution_count": 6,
   "metadata": {},
   "outputs": [
    {
     "name": "stdout",
     "output_type": "stream",
     "text": [
      "[<Reaction R1>, <Reaction R2>, <Reaction R3>, <Reaction R4>, <Reaction R5>, <Reaction R6>, <Reaction R7>, <Reaction R8>, <Reaction R9>, <Reaction R10>, <Reaction R11>, <Reaction R12>, <Reaction R13>, <Reaction R14>]\n"
     ]
    },
    {
     "data": {
      "text/plain": [
       "14"
      ]
     },
     "execution_count": 6,
     "metadata": {},
     "output_type": "execute_result"
    }
   ],
   "source": [
    "print(simple._getReactions())\n",
    "len(simple._getReactions())"
   ]
  },
  {
   "cell_type": "code",
   "execution_count": 7,
   "metadata": {},
   "outputs": [
    {
     "name": "stdout",
     "output_type": "stream",
     "text": [
      "[ADP + NAD + halfglucose -> ATP + NADH + pyruvate, NADH + pyruvate -> NAD + lactate, CoA + NAD + pyruvate -> AcCoA + NADH, AcCoA + PO4 -> AcP + CoA, ADP + AcP -> ATP + Ac, AcCoA + NADH -> AcO + CoA + NAD, AcO + NADH -> EtOH + NAD, pyruvate -> AcLac, AcLac -> AcetoinIn, AcetoinIn -> AcetoinOut, AcetoinIn + NADH -> Butanediol + NAD, ATP -> ADP, NADH + O2 -> NAD]\n"
     ]
    },
    {
     "data": {
      "text/plain": [
       "13"
      ]
     },
     "execution_count": 7,
     "metadata": {},
     "output_type": "execute_result"
    }
   ],
   "source": [
    "Reaction.reactions = []\n",
    "Reaction.initialize(simple)\n",
    "print(Reaction.reactions)\n",
    "len(Reaction.reactions)\n",
    "# makes sense because R9 and R14 are same;"
   ]
  },
  {
   "cell_type": "code",
   "execution_count": 8,
   "metadata": {},
   "outputs": [
    {
     "data": {
      "text/plain": [
       "[ADP + NAD + halfglucose -> ATP + NADH + pyruvate,\n",
       " NADH + pyruvate -> NAD + lactate,\n",
       " CoA + NAD + pyruvate -> AcCoA + NADH,\n",
       " AcCoA + PO4 -> AcP + CoA,\n",
       " ADP + AcP -> ATP + Ac,\n",
       " AcCoA + NADH -> AcO + CoA + NAD,\n",
       " AcO + NADH -> EtOH + NAD,\n",
       " pyruvate -> AcLac,\n",
       " AcLac -> AcetoinIn,\n",
       " AcetoinIn -> AcetoinOut,\n",
       " AcetoinIn + NADH -> Butanediol + NAD,\n",
       " ATP -> ADP,\n",
       " NADH + O2 -> NAD]"
      ]
     },
     "execution_count": 8,
     "metadata": {},
     "output_type": "execute_result"
    }
   ],
   "source": [
    "Reaction.reactions"
   ]
  },
  {
   "cell_type": "code",
   "execution_count": 9,
   "metadata": {},
   "outputs": [],
   "source": [
    "# sbml_reaction1 = model.getReaction(0)\n",
    "# sbml_reaction2 = model.getReaction(11)\n",
    "# Reaction.reactions = []\n",
    "# Reaction(sbml_reaction1)\n",
    "# Reaction(sbml_reaction2)\n",
    "# Reaction.reactions"
   ]
  },
  {
   "cell_type": "code",
   "execution_count": 10,
   "metadata": {},
   "outputs": [
    {
     "name": "stdout",
     "output_type": "stream",
     "text": [
      "[ADP, NAD, halfglucose, ATP, NADH, pyruvate, lactate, CoA, AcCoA, PO4, AcP, Ac, AcO, EtOH, AcLac, AcetoinIn, AcetoinOut, Butanediol, O2]\n"
     ]
    }
   ],
   "source": [
    "print(Molecule.molecules)"
   ]
  },
  {
   "cell_type": "code",
   "execution_count": 456,
   "metadata": {},
   "outputs": [
    {
     "name": "stdout",
     "output_type": "stream",
     "text": [
      "[{ADP}, {NAD}, {halfglucose}, {ATP}, {NADH}, {pyruvate}, {lactate}, {CoA}, {AcCoA}, {PO4}, {AcP}, {Ac}, {AcO}, {EtOH}, {AcLac}, {AcetoinIn}, {AcetoinOut}, {Butanediol}, {O2}]\n"
     ]
    }
   ],
   "source": [
    "SOM.initialize(Molecule.molecules)\n",
    "print(SOM.soms)"
   ]
  },
  {
   "cell_type": "code",
   "execution_count": 434,
   "metadata": {},
   "outputs": [
    {
     "name": "stdout",
     "output_type": "stream",
     "text": [
      "{ADP}\n",
      "{ATP}\n"
     ]
    }
   ],
   "source": [
    "adp = SOM.findSOM(Molecule.getMolecule('ADP'))\n",
    "atp = SOM.findSOM(Molecule.getMolecule('ATP'))\n",
    "print(adp)\n",
    "print(atp)"
   ]
  },
  {
   "cell_type": "code",
   "execution_count": 333,
   "metadata": {},
   "outputs": [
    {
     "name": "stdout",
     "output_type": "stream",
     "text": [
      "[{ADP}, {NAD}, {halfglucose}, {ATP}, {NADH}, {pyruvate}, {lactate}, {CoA}, {AcCoA}, {PO4}, {AcP}, {Ac}, {AcO}, {EtOH}, {AcLac}, {AcetoinIn}, {AcetoinOut}, {Butanediol}, {O2}]\n",
      "[({ADP}, {ATP})]\n"
     ]
    }
   ],
   "source": [
    "a = nx.DiGraph()\n",
    "a.add_nodes_from(SOM.soms)\n",
    "a.nodes()\n",
    "a.add_edge(adp, atp)\n",
    "print(a.nodes)\n",
    "print(a.edges)"
   ]
  },
  {
   "cell_type": "code",
   "execution_count": 435,
   "metadata": {},
   "outputs": [],
   "source": [
    "class Arc(object):\n",
    "    \n",
    "    def __init__(self, source, destination, reaction):\n",
    "        \"\"\"\n",
    "        :param SOM source:\n",
    "        :param SOM destination:\n",
    "        :param Reaction reaction:\n",
    "        \"\"\"\n",
    "        self.source = source\n",
    "        self.destination = destination\n",
    "        self.reaction = reaction"
   ]
  },
  {
   "cell_type": "code",
   "execution_count": 478,
   "metadata": {},
   "outputs": [
    {
     "name": "stdout",
     "output_type": "stream",
     "text": [
      "[{ADP}, {NAD}, {halfglucose}, {ATP}, {NADH}, {pyruvate}, {lactate}, {CoA}, {AcCoA}, {PO4}, {AcP}, {Ac}, {AcO}, {EtOH}, {AcLac}, {AcetoinIn}, {AcetoinOut}, {Butanediol}, {O2}]\n"
     ]
    }
   ],
   "source": [
    "SOM.initialize(Molecule.molecules)\n",
    "print(SOM.soms)"
   ]
  },
  {
   "cell_type": "code",
   "execution_count": 479,
   "metadata": {},
   "outputs": [],
   "source": [
    "# maybe we can have multiple MESGraphs.. for each subgraph is a connected subgraph\n",
    "class MESGraph(nx.DiGraph):\n",
    "    # possibly can have all = [] here. \n",
    "    all = []\n",
    "\n",
    "    def __init__(self, som=None):\n",
    "        \n",
    "        super(MESGraph, self).__init__()\n",
    "        self.add_node(som)\n",
    "        self.arcs = set()\n",
    "        self.identifier = self.makeId()\n",
    "        self.__class__.all.append(self)\n",
    "\n",
    "    def __repr__(self):\n",
    "        return self.identifier\n",
    "    \n",
    "    def makeId(self):\n",
    "        identifier = \";\"\n",
    "        for som in list(self.nodes):\n",
    "            identifier = identifier + som.identifier + \"->\"\n",
    "        return identifier\n",
    "    \n",
    "    @classmethod\n",
    "    def processUniUniReaction(cls, reaction):\n",
    "        \"\"\"\n",
    "        :param list-Reaction reactions:\n",
    "        \"\"\"\n",
    "        if reaction.category != cn.REACTION_1_1:\n",
    "            pass\n",
    "        else:\n",
    "            reactant_som = SOM.findSOM(reaction.reactants[0].molecule)\n",
    "            product_som = SOM.findSOM(reaction.products[0].molecule)\n",
    "            reactant_graph = cls.findGraph(reaction.reactants[0].molecule)\n",
    "            product_graph = cls.findGraph(reaction.products[0].molecule)\n",
    "            \n",
    "            new_som = SOM.merge(reaction)\n",
    "            #print(\"new som is: \", new_som)\n",
    "            \n",
    "            ## need to do a little more to merge if the graph is not a one-som graph\n",
    "            # reactant_graph.remove_node(reactant_som)\n",
    "            # product_graph.remove_node(product_som)\n",
    "            cls.removeGraph(reactant_som)\n",
    "            cls.removeGraph(product_som)\n",
    "            \n",
    "            # below, or need mergeGraph\n",
    "            MESGraph(new_som)\n",
    "            return new_som\n",
    "            \n",
    "    @classmethod\n",
    "    def removeGraph(cls, som):\n",
    "        \"\"\"\n",
    "        :param SOM som:\n",
    "        \"\"\"\n",
    "        for graph in cls.all:\n",
    "            if som in graph.nodes:\n",
    "                cls.all.remove(graph)\n",
    "                return True\n",
    "        return False\n",
    "        \n",
    "    \n",
    "    @classmethod\n",
    "    def findGraph(cls, molecule):\n",
    "        \"\"\"\n",
    "        :param Molecule molecule:\n",
    "        :return MESGraph/False:\n",
    "        \"\"\"\n",
    "        som = SOM.findSOM(molecule)\n",
    "        for graph in cls.all:\n",
    "            for node in graph.nodes:\n",
    "                if node == som:\n",
    "                    return graph\n",
    "        return False\n",
    "        \n",
    "    @classmethod        \n",
    "    def analyze(cls, reactions):\n",
    "        \"\"\"\n",
    "        :param list-Reaction reactions:\n",
    "        \"\"\"\n",
    "        uniuni = []\n",
    "        unimulti = []\n",
    "        multiuni = []\n",
    "        multimulti = []\n",
    "        for reaction in reactions:\n",
    "            if reaction.category == cn.REACTION_1_1:\n",
    "                uniuni.append(reaction)\n",
    "            elif reaction.category == cn.REACTION_1_n:\n",
    "                unimulti.append(reaction)\n",
    "            elif reaction.category == cn.REACTION_n_1:\n",
    "                multiuni.append(reaction)\n",
    "            else:\n",
    "                multimulti.append(reaction)\n",
    "            \n",
    "#         self.uniuni = uniuni\n",
    "#         self.unimulti = unimulti\n",
    "#         self.multiuni = multiuni\n",
    "#         self.multimulti = multimulti\n",
    "        for reaction in uniuni:\n",
    "            cls.processUniUniReaction(reaction)\n",
    "            print(\"We used + \", reaction)\n",
    "        #return self.soms\n",
    "        \n",
    "    @classmethod\n",
    "    def initialize(cls, soms):\n",
    "        \"\"\"\n",
    "        :param list-SOM soms:\n",
    "        \"\"\"\n",
    "        cls.all = []\n",
    "        for som in soms:\n",
    "            MESGraph(som)\n",
    "            "
   ]
  },
  {
   "cell_type": "code",
   "execution_count": 480,
   "metadata": {},
   "outputs": [
    {
     "name": "stdout",
     "output_type": "stream",
     "text": [
      "[;{ADP}->, ;{NAD}->, ;{halfglucose}->, ;{ATP}->, ;{NADH}->, ;{pyruvate}->, ;{lactate}->, ;{CoA}->, ;{AcCoA}->, ;{PO4}->, ;{AcP}->, ;{Ac}->, ;{AcO}->, ;{EtOH}->, ;{AcLac}->, ;{AcetoinIn}->, ;{AcetoinOut}->, ;{Butanediol}->, ;{O2}->]\n"
     ]
    }
   ],
   "source": [
    "MESGraph.initialize(SOM.soms)\n",
    "print(MESGraph.all)"
   ]
  },
  {
   "cell_type": "code",
   "execution_count": 481,
   "metadata": {},
   "outputs": [
    {
     "data": {
      "text/plain": [
       "[;{ADP}->,\n",
       " ;{NAD}->,\n",
       " ;{halfglucose}->,\n",
       " ;{ATP}->,\n",
       " ;{NADH}->,\n",
       " ;{pyruvate}->,\n",
       " ;{lactate}->,\n",
       " ;{CoA}->,\n",
       " ;{AcCoA}->,\n",
       " ;{PO4}->,\n",
       " ;{AcP}->,\n",
       " ;{Ac}->,\n",
       " ;{AcO}->,\n",
       " ;{EtOH}->,\n",
       " ;{AcLac}->,\n",
       " ;{AcetoinIn}->,\n",
       " ;{AcetoinOut}->,\n",
       " ;{Butanediol}->,\n",
       " ;{O2}->]"
      ]
     },
     "execution_count": 481,
     "metadata": {},
     "output_type": "execute_result"
    }
   ],
   "source": [
    "MESGraph.all"
   ]
  },
  {
   "cell_type": "code",
   "execution_count": 482,
   "metadata": {},
   "outputs": [
    {
     "name": "stdout",
     "output_type": "stream",
     "text": [
      "new som is:  {AcLac, pyruvate}\n",
      "We used +  pyruvate -> AcLac\n",
      "new som is:  {AcLac, AcetoinIn, pyruvate}\n",
      "We used +  AcLac -> AcetoinIn\n",
      "new som is:  {AcLac, AcetoinIn, AcetoinOut, pyruvate}\n",
      "We used +  AcetoinIn -> AcetoinOut\n",
      "new som is:  {ADP, ATP}\n",
      "We used +  ATP -> ADP\n"
     ]
    },
    {
     "data": {
      "text/plain": [
       "[;{NAD}->,\n",
       " ;{halfglucose}->,\n",
       " ;{NADH}->,\n",
       " ;{lactate}->,\n",
       " ;{CoA}->,\n",
       " ;{AcCoA}->,\n",
       " ;{PO4}->,\n",
       " ;{AcP}->,\n",
       " ;{Ac}->,\n",
       " ;{AcO}->,\n",
       " ;{EtOH}->,\n",
       " ;{Butanediol}->,\n",
       " ;{O2}->,\n",
       " ;{AcLac, AcetoinIn, AcetoinOut, pyruvate}->,\n",
       " ;{ADP, ATP}->]"
      ]
     },
     "execution_count": 482,
     "metadata": {},
     "output_type": "execute_result"
    }
   ],
   "source": [
    "MESGraph.analyze(Reaction.reactions)\n",
    "MESGraph.all"
   ]
  },
  {
   "cell_type": "code",
   "execution_count": 476,
   "metadata": {},
   "outputs": [
    {
     "name": "stdout",
     "output_type": "stream",
     "text": [
      "pyruvate\n",
      "AcLac\n"
     ]
    }
   ],
   "source": [
    "reaction1 = Reaction.reactions[7]\n",
    "reaction1\n",
    "print(reaction1.reactants[0].molecule)\n",
    "print(reaction1.products[0].molecule)"
   ]
  },
  {
   "cell_type": "code",
   "execution_count": 468,
   "metadata": {},
   "outputs": [
    {
     "name": "stdout",
     "output_type": "stream",
     "text": [
      "Found it!:\n",
      "Found it!:\n",
      "new som is:  {AcLac, pyruvate}\n"
     ]
    },
    {
     "data": {
      "text/plain": [
       "{AcLac, pyruvate}"
      ]
     },
     "execution_count": 468,
     "metadata": {},
     "output_type": "execute_result"
    }
   ],
   "source": [
    "MESGraph.processUniUniReaction(reaction1)"
   ]
  },
  {
   "cell_type": "code",
   "execution_count": 469,
   "metadata": {},
   "outputs": [
    {
     "data": {
      "text/plain": [
       "[;{ADP}->,\n",
       " ;{NAD}->,\n",
       " ;{halfglucose}->,\n",
       " ;{ATP}->,\n",
       " ;{NADH}->,\n",
       " ;{lactate}->,\n",
       " ;{CoA}->,\n",
       " ;{AcCoA}->,\n",
       " ;{PO4}->,\n",
       " ;{AcP}->,\n",
       " ;{Ac}->,\n",
       " ;{AcO}->,\n",
       " ;{EtOH}->,\n",
       " ;{AcetoinIn}->,\n",
       " ;{AcetoinOut}->,\n",
       " ;{Butanediol}->,\n",
       " ;{O2}->,\n",
       " ;{AcLac, pyruvate}->]"
      ]
     },
     "execution_count": 469,
     "metadata": {},
     "output_type": "execute_result"
    }
   ],
   "source": [
    "MESGraph.all"
   ]
  },
  {
   "cell_type": "code",
   "execution_count": 350,
   "metadata": {},
   "outputs": [
    {
     "data": {
      "text/plain": [
       "pyruvate -> AcLac"
      ]
     },
     "execution_count": 350,
     "metadata": {},
     "output_type": "execute_result"
    }
   ],
   "source": [
    "reaction1"
   ]
  },
  {
   "cell_type": "code",
   "execution_count": 382,
   "metadata": {},
   "outputs": [
    {
     "data": {
      "text/plain": [
       "{ADP}->"
      ]
     },
     "execution_count": 382,
     "metadata": {},
     "output_type": "execute_result"
    }
   ],
   "source": [
    "m"
   ]
  },
  {
   "cell_type": "code",
   "execution_count": 392,
   "metadata": {},
   "outputs": [
    {
     "data": {
      "text/plain": [
       "NodeView(({ADP},))"
      ]
     },
     "execution_count": 392,
     "metadata": {},
     "output_type": "execute_result"
    }
   ],
   "source": [
    "m.nodes"
   ]
  },
  {
   "cell_type": "code",
   "execution_count": 387,
   "metadata": {},
   "outputs": [],
   "source": [
    "list(m.nodes)[0] = list(n.nodes)[0]"
   ]
  },
  {
   "cell_type": "code",
   "execution_count": 390,
   "metadata": {},
   "outputs": [
    {
     "data": {
      "text/plain": [
       "NodeView(({ADP},))"
      ]
     },
     "execution_count": 390,
     "metadata": {},
     "output_type": "execute_result"
    }
   ],
   "source": [
    "m.nodes"
   ]
  },
  {
   "cell_type": "code",
   "execution_count": 393,
   "metadata": {},
   "outputs": [],
   "source": [
    "k = m"
   ]
  },
  {
   "cell_type": "code",
   "execution_count": 394,
   "metadata": {},
   "outputs": [
    {
     "data": {
      "text/plain": [
       "{ADP}->"
      ]
     },
     "execution_count": 394,
     "metadata": {},
     "output_type": "execute_result"
    }
   ],
   "source": [
    "k"
   ]
  },
  {
   "cell_type": "code",
   "execution_count": 416,
   "metadata": {},
   "outputs": [
    {
     "name": "stdout",
     "output_type": "stream",
     "text": [
      "[{ADP}->, {NAD}->, {halfglucose}->, {ATP}->, {NADH}->, {pyruvate}->, {lactate}->, {CoA}->, {AcCoA}->, {PO4}->, {AcP}->, {Ac}->, {AcO}->, {EtOH}->, {AcLac}->, {AcetoinIn}->, {AcetoinOut}->, {Butanediol}->, {O2}->]\n"
     ]
    },
    {
     "ename": "NetworkXError",
     "evalue": "The node  is not in the digraph.",
     "output_type": "error",
     "traceback": [
      "\u001b[0;31m---------------------------------------------------------------------------\u001b[0m",
      "\u001b[0;31mKeyError\u001b[0m                                  Traceback (most recent call last)",
      "\u001b[0;32m~/anaconda3/lib/python3.6/site-packages/networkx/classes/digraph.py\u001b[0m in \u001b[0;36mremove_node\u001b[0;34m(self, n)\u001b[0m\n\u001b[1;32m    513\u001b[0m         \u001b[0;32mtry\u001b[0m\u001b[0;34m:\u001b[0m\u001b[0;34m\u001b[0m\u001b[0m\n\u001b[0;32m--> 514\u001b[0;31m             \u001b[0mnbrs\u001b[0m \u001b[0;34m=\u001b[0m \u001b[0mself\u001b[0m\u001b[0;34m.\u001b[0m\u001b[0m_succ\u001b[0m\u001b[0;34m[\u001b[0m\u001b[0mn\u001b[0m\u001b[0;34m]\u001b[0m\u001b[0;34m\u001b[0m\u001b[0m\n\u001b[0m\u001b[1;32m    515\u001b[0m             \u001b[0;32mdel\u001b[0m \u001b[0mself\u001b[0m\u001b[0;34m.\u001b[0m\u001b[0m_node\u001b[0m\u001b[0;34m[\u001b[0m\u001b[0mn\u001b[0m\u001b[0;34m]\u001b[0m\u001b[0;34m\u001b[0m\u001b[0m\n",
      "\u001b[0;31mKeyError\u001b[0m: {NAD}->",
      "\nDuring handling of the above exception, another exception occurred:\n",
      "\u001b[0;31mNetworkXError\u001b[0m                             Traceback (most recent call last)",
      "\u001b[0;32m<ipython-input-416-85531cfeb84e>\u001b[0m in \u001b[0;36m<module>\u001b[0;34m()\u001b[0m\n\u001b[1;32m      2\u001b[0m \u001b[0madp\u001b[0m \u001b[0;34m=\u001b[0m \u001b[0mMESGraph\u001b[0m\u001b[0;34m.\u001b[0m\u001b[0mall\u001b[0m\u001b[0;34m[\u001b[0m\u001b[0;36m0\u001b[0m\u001b[0;34m]\u001b[0m\u001b[0;34m\u001b[0m\u001b[0m\n\u001b[1;32m      3\u001b[0m \u001b[0mnad\u001b[0m \u001b[0;34m=\u001b[0m \u001b[0mMESGraph\u001b[0m\u001b[0;34m.\u001b[0m\u001b[0mall\u001b[0m\u001b[0;34m[\u001b[0m\u001b[0;36m1\u001b[0m\u001b[0;34m]\u001b[0m\u001b[0;34m\u001b[0m\u001b[0m\n\u001b[0;32m----> 4\u001b[0;31m \u001b[0mk\u001b[0m\u001b[0;34m.\u001b[0m\u001b[0mremove_node\u001b[0m\u001b[0;34m(\u001b[0m\u001b[0mnad\u001b[0m\u001b[0;34m)\u001b[0m\u001b[0;34m\u001b[0m\u001b[0m\n\u001b[0m",
      "\u001b[0;32m~/anaconda3/lib/python3.6/site-packages/networkx/classes/digraph.py\u001b[0m in \u001b[0;36mremove_node\u001b[0;34m(self, n)\u001b[0m\n\u001b[1;32m    515\u001b[0m             \u001b[0;32mdel\u001b[0m \u001b[0mself\u001b[0m\u001b[0;34m.\u001b[0m\u001b[0m_node\u001b[0m\u001b[0;34m[\u001b[0m\u001b[0mn\u001b[0m\u001b[0;34m]\u001b[0m\u001b[0;34m\u001b[0m\u001b[0m\n\u001b[1;32m    516\u001b[0m         \u001b[0;32mexcept\u001b[0m \u001b[0mKeyError\u001b[0m\u001b[0;34m:\u001b[0m  \u001b[0;31m# NetworkXError if n not in self\u001b[0m\u001b[0;34m\u001b[0m\u001b[0m\n\u001b[0;32m--> 517\u001b[0;31m             \u001b[0;32mraise\u001b[0m \u001b[0mNetworkXError\u001b[0m\u001b[0;34m(\u001b[0m\u001b[0;34m\"The node %s is not in the digraph.\"\u001b[0m \u001b[0;34m%\u001b[0m \u001b[0;34m(\u001b[0m\u001b[0mn\u001b[0m\u001b[0;34m,\u001b[0m\u001b[0;34m)\u001b[0m\u001b[0;34m)\u001b[0m\u001b[0;34m\u001b[0m\u001b[0m\n\u001b[0m\u001b[1;32m    518\u001b[0m         \u001b[0;32mfor\u001b[0m \u001b[0mu\u001b[0m \u001b[0;32min\u001b[0m \u001b[0mnbrs\u001b[0m\u001b[0;34m:\u001b[0m\u001b[0;34m\u001b[0m\u001b[0m\n\u001b[1;32m    519\u001b[0m             \u001b[0;32mdel\u001b[0m \u001b[0mself\u001b[0m\u001b[0;34m.\u001b[0m\u001b[0m_pred\u001b[0m\u001b[0;34m[\u001b[0m\u001b[0mu\u001b[0m\u001b[0;34m]\u001b[0m\u001b[0;34m[\u001b[0m\u001b[0mn\u001b[0m\u001b[0;34m]\u001b[0m   \u001b[0;31m# remove all edges n-u in digraph\u001b[0m\u001b[0;34m\u001b[0m\u001b[0m\n",
      "\u001b[0;31mNetworkXError\u001b[0m: The node  is not in the digraph."
     ]
    }
   ],
   "source": [
    "print(MESGraph.all)\n",
    "adp = MESGraph.all[0]\n",
    "nad = MESGraph.all[1]\n",
    "k.remove_node(nad)"
   ]
  },
  {
   "cell_type": "code",
   "execution_count": 417,
   "metadata": {},
   "outputs": [],
   "source": [
    "k.add_node(nad)"
   ]
  },
  {
   "cell_type": "code",
   "execution_count": 418,
   "metadata": {},
   "outputs": [],
   "source": [
    "k.identifier = k.makeId()"
   ]
  },
  {
   "cell_type": "code",
   "execution_count": 420,
   "metadata": {},
   "outputs": [
    {
     "data": {
      "text/plain": [
       "{NAD}->->"
      ]
     },
     "execution_count": 420,
     "metadata": {},
     "output_type": "execute_result"
    }
   ],
   "source": [
    "k"
   ]
  },
  {
   "cell_type": "code",
   "execution_count": 425,
   "metadata": {},
   "outputs": [
    {
     "data": {
      "text/plain": [
       "{pyruvate}"
      ]
     },
     "execution_count": 425,
     "metadata": {},
     "output_type": "execute_result"
    }
   ],
   "source": [
    "pyruvate = Molecule.molecules[5]\n",
    "set({pyruvate})"
   ]
  },
  {
   "cell_type": "code",
   "execution_count": 426,
   "metadata": {},
   "outputs": [
    {
     "data": {
      "text/plain": [
       "{NAD}->->"
      ]
     },
     "execution_count": 426,
     "metadata": {},
     "output_type": "execute_result"
    }
   ],
   "source": [
    "m"
   ]
  },
  {
   "cell_type": "code",
   "execution_count": null,
   "metadata": {},
   "outputs": [],
   "source": []
  }
 ],
 "metadata": {
  "kernelspec": {
   "display_name": "Python 3",
   "language": "python",
   "name": "python3"
  },
  "language_info": {
   "codemirror_mode": {
    "name": "ipython",
    "version": 3
   },
   "file_extension": ".py",
   "mimetype": "text/x-python",
   "name": "python",
   "nbconvert_exporter": "python",
   "pygments_lexer": "ipython3",
   "version": "3.6.3"
  }
 },
 "nbformat": 4,
 "nbformat_minor": 2
}
