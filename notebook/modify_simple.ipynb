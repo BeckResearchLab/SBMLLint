{
 "cells": [
  {
   "cell_type": "code",
   "execution_count": 1,
   "metadata": {},
   "outputs": [],
   "source": [
    "import init\n",
    "from SBMLLint.common import constants as cn\n",
    "from SBMLLint.common.molecule import Molecule, MoleculeStoichiometry\n",
    "from SBMLLint.common.reaction import Reaction\n",
    "from SBMLLint.games.som import SOM\n",
    "from SBMLLint.common.simple_sbml import SimpleSBML\n",
    "\n",
    "from SBMLLint.common import config\n",
    "from SBMLLint.common import constants as cn\n",
    "from SBMLLint.common import util\n",
    "from SBMLLint.games.games_pp import GAMES_PP\n",
    "from SBMLLint.games.games_report import GAMESReport\n",
    "from SBMLLint.structured_names.moiety_comparator import MoietyComparator\n",
    "\n",
    "import argparse\n",
    "import os\n",
    "import sys\n",
    "import tesbml"
   ]
  },
  {
   "cell_type": "code",
   "execution_count": 2,
   "metadata": {},
   "outputs": [
    {
     "name": "stdout",
     "output_type": "stream",
     "text": [
      "/Users/woosubs/Desktop/ModelEngineering/SBMLLint/SBMLLint\n"
     ]
    }
   ],
   "source": [
    "from SBMLLint.tools import sbmllint\n",
    "import os\n",
    "cwd = os.getcwd()\n",
    "MAIN_DIR = os.path.join(os.getcwd(), os.pardir)\n",
    "os.chdir(MAIN_DIR)\n",
    "print(os.getcwd())"
   ]
  },
  {
   "cell_type": "code",
   "execution_count": 3,
   "metadata": {},
   "outputs": [],
   "source": [
    "PREFIX = \"BIOMD0000000\"\n",
    "\n",
    "def load_file_from_curated_data(num):\n",
    "\n",
    "  format_num = format(num, '03d')\n",
    "  filename = \"%s%s_url.xml\" % (PREFIX, format_num)\n",
    "  path = os.path.join(cn.BIOMODELS_DIR, filename)\n",
    "  simple = SimpleSBML()\n",
    "  simple.initialize(path)\n",
    "  return simple"
   ]
  },
  {
   "cell_type": "code",
   "execution_count": 14,
   "metadata": {},
   "outputs": [
    {
     "data": {
      "text/plain": [
       "'/Users/woosubs/Desktop/ModelEngineering/SBMLLint/SBMLLint/SBMLLint/tests'"
      ]
     },
     "execution_count": 14,
     "metadata": {},
     "output_type": "execute_result"
    }
   ],
   "source": [
    "os,"
   ]
  },
  {
   "cell_type": "code",
   "execution_count": 4,
   "metadata": {},
   "outputs": [
    {
     "name": "stdout",
     "output_type": "stream",
     "text": [
      "simple1:\n",
      " [PstatDimerisation: 2.00 Pstat_sol -> PstatDimer_sol; (Kf_PstatDimerisation * pow(Pstat_sol, 2) + -(Kr_PstatDimerisation * PstatDimer_sol)) * sol, statDephosphorylation: Pstat_nuc -> stat_nuc; Kcat_dephos * statPhosphatase_nuc * Pstat_nuc * (1 / (Km_dephos + Pstat_nuc)) * nuc, statPhosphorylation: stat_sol -> Pstat_sol + species_test; Kcat_phos * statKinase_sol * stat_sol * (1 / (Km_phos + stat_sol)) * sol, PstatDimerisationNuc: 2.00 Pstat_nuc -> PstatDimer_nuc; (Kf_PstatDimerisation * pow(Pstat_nuc, 2) + -(Kr_PstatDimerisation * PstatDimer_nuc)) * nuc, PstatDimer__import: PstatDimer_sol -> PstatDimer_nuc; PstatDimer_impMax * PstatDimer_sol * (1 / (Kpsd_imp + PstatDimer_sol)) * nm, stat_export: stat_sol -> stat_nuc; nuc * stat_expMax * stat_nuc * (1 / (Ks_exp + stat_nuc)) * nm, stat_import: stat_sol -> stat_nuc; nuc * stat_impMax * stat_sol * (1 / (Ks_imp + stat_sol)) * nm] \n",
      "\n",
      "\n",
      "simpel2:\n",
      " [Reaction1: M -> C2 + YP; cell * k6 * M, Reaction2: C2 -> CP; cell * C2 * k8notP, Reaction3: CP -> C2; cell * CP * k9, Reaction4: CP + Y -> pM; cell * CP * k3 * Y, Reaction5: M -> pM; cell * k5notP * M, Reaction6: EmptySet -> Y; cell * k1aa, Reaction7: Y -> EmptySet; cell * k2 * Y, Reaction8: YP -> EmptySet; cell * k7 * YP, Reaction9: pM -> M; cell * pM * (k4prime + k4 * pow(M / CT, 2))]\n"
     ]
    }
   ],
   "source": [
    "simple1 = load_file_from_curated_data(167)\n",
    "simple2 = load_file_from_curated_data(5)\n",
    "print(\"simple1:\\n\", simple1.reactions, \"\\n\\n\")\n",
    "print(\"simpel2:\\n\", simple2.reactions)"
   ]
  },
  {
   "cell_type": "code",
   "execution_count": 5,
   "metadata": {},
   "outputs": [
    {
     "name": "stdout",
     "output_type": "stream",
     "text": [
      "Reaction1: M -> C2 + YP; cell * k6 * M\n",
      "Reaction1\n"
     ]
    }
   ],
   "source": [
    "reaction = simple2.getReaction(\"Reaction1\")\n",
    "print(reaction)\n",
    "print(reaction.label)"
   ]
  },
  {
   "cell_type": "code",
   "execution_count": 6,
   "metadata": {},
   "outputs": [
    {
     "data": {
      "text/plain": [
       "SBMLLint.common.reaction.Reaction"
      ]
     },
     "execution_count": 6,
     "metadata": {},
     "output_type": "execute_result"
    }
   ],
   "source": [
    "reaction.__class__"
   ]
  },
  {
   "cell_type": "code",
   "execution_count": 7,
   "metadata": {},
   "outputs": [
    {
     "data": {
      "text/plain": [
       "[PstatDimerisation: 2.00 Pstat_sol -> PstatDimer_sol; (Kf_PstatDimerisation * pow(Pstat_sol, 2) + -(Kr_PstatDimerisation * PstatDimer_sol)) * sol,\n",
       " statDephosphorylation: Pstat_nuc -> stat_nuc; Kcat_dephos * statPhosphatase_nuc * Pstat_nuc * (1 / (Km_dephos + Pstat_nuc)) * nuc,\n",
       " statPhosphorylation: stat_sol -> Pstat_sol + species_test; Kcat_phos * statKinase_sol * stat_sol * (1 / (Km_phos + stat_sol)) * sol,\n",
       " PstatDimerisationNuc: 2.00 Pstat_nuc -> PstatDimer_nuc; (Kf_PstatDimerisation * pow(Pstat_nuc, 2) + -(Kr_PstatDimerisation * PstatDimer_nuc)) * nuc,\n",
       " PstatDimer__import: PstatDimer_sol -> PstatDimer_nuc; PstatDimer_impMax * PstatDimer_sol * (1 / (Kpsd_imp + PstatDimer_sol)) * nm,\n",
       " stat_export: stat_sol -> stat_nuc; nuc * stat_expMax * stat_nuc * (1 / (Ks_exp + stat_nuc)) * nm,\n",
       " stat_import: stat_sol -> stat_nuc; nuc * stat_impMax * stat_sol * (1 / (Ks_imp + stat_sol)) * nm,\n",
       " Reaction1: M -> C2 + YP; cell * k6 * M]"
      ]
     },
     "execution_count": 7,
     "metadata": {},
     "output_type": "execute_result"
    }
   ],
   "source": [
    "simple1.add(reaction)\n",
    "simple1.reactions"
   ]
  },
  {
   "cell_type": "code",
   "execution_count": 8,
   "metadata": {},
   "outputs": [
    {
     "data": {
      "text/plain": [
       "[Reaction2: C2 -> CP; cell * C2 * k8notP,\n",
       " Reaction3: CP -> C2; cell * CP * k9,\n",
       " Reaction4: CP + Y -> pM; cell * CP * k3 * Y,\n",
       " Reaction5: M -> pM; cell * k5notP * M,\n",
       " Reaction6: EmptySet -> Y; cell * k1aa,\n",
       " Reaction7: Y -> EmptySet; cell * k2 * Y,\n",
       " Reaction8: YP -> EmptySet; cell * k7 * YP,\n",
       " Reaction9: pM -> M; cell * pM * (k4prime + k4 * pow(M / CT, 2))]"
      ]
     },
     "execution_count": 8,
     "metadata": {},
     "output_type": "execute_result"
    }
   ],
   "source": [
    "################### Below is about removing a reaction #################\n",
    "simple2.remove(reaction)\n",
    "simple2.reactions"
   ]
  },
  {
   "cell_type": "code",
   "execution_count": 9,
   "metadata": {},
   "outputs": [
    {
     "name": "stdout",
     "output_type": "stream",
     "text": [
      "Reaction1: M -> C2 + YP; cell * k6 * M\n"
     ]
    }
   ],
   "source": [
    "################# Below is about modifying reactions for implicits #####################\n",
    "r = simple1.getReaction(\"Reaction1\")\n",
    "print(r)"
   ]
  },
  {
   "cell_type": "code",
   "execution_count": 13,
   "metadata": {},
   "outputs": [
    {
     "name": "stdout",
     "output_type": "stream",
     "text": [
      "Before:\n",
      "Reaction2: C2 -> CP\n",
      "Reaction3: CP -> C2\n",
      "Reaction4: CP + Y -> pM\n",
      "Reaction5:  -> pM\n",
      "Reaction6: EmptySet -> Y\n",
      "Reaction7: Y -> EmptySet\n",
      "Reaction8: YP -> EmptySet\n",
      "Reaction9: pM -> \n",
      "Current Reaction %  Reaction2: C2 -> CP\n",
      "Current Reaction %  Reaction3: CP -> C2\n",
      "Current Reaction %  Reaction4: CP + Y -> pM\n",
      "Current Reaction %  Reaction5:  -> pM\n",
      "Current Reaction %  Reaction6: EmptySet -> Y\n",
      "Current Reaction %  Reaction7: Y -> EmptySet\n",
      "Current Reaction %  Reaction8: YP -> EmptySet\n",
      "Current Reaction %  Reaction9: pM -> \n",
      "\n",
      "\n",
      "***************After**************\n",
      "Reaction2: C2 -> CP\n",
      "Reaction3: CP -> C2\n",
      "Reaction4: CP + Y -> pM\n",
      "Reaction5:  -> pM\n",
      "Reaction6: EmptySet -> Y\n",
      "Reaction7: Y -> EmptySet\n",
      "Reaction8: YP -> EmptySet\n",
      "Reaction9: pM -> \n"
     ]
    }
   ],
   "source": [
    "implicit = \"M\"\n",
    "print(\"Before:\")\n",
    "for r in simple2.reactions:\n",
    "  print(r.makeIdentifier(is_include_kinetics=False))\n",
    "modified_reactions = []\n",
    "for r in simple2.reactions:\n",
    "  print(\"Current Reaction % \", r.makeIdentifier(is_include_kinetics=False))\n",
    "  reactant_names = [reactant.molecule.name for reactant in r.reactants]\n",
    "  product_names = [product.molecule.name for product in r.products]\n",
    "  if (implicit in reactant_names) or (implicit in product_names):\n",
    "    print(\"This reaction has a removable implicit: %s\" % implicit)\n",
    "    if implicit in reactant_names:\n",
    "      new_reactants = [ms for ms in r.reactants if ms.molecule.name != implicit]\n",
    "    else:\n",
    "      new_reactants = r.reactants\n",
    "    if implicit in product_names:\n",
    "      new_products = [ms for ms in r.products if ms.molecule.name != implicit]\n",
    "    else:\n",
    "      new_products = r.products\n",
    "    r.reactants = new_reactants\n",
    "    r.products = new_products\n",
    "    r.identifier = r.makeIdentifier()\n",
    "    r.category = r.getCategory()\n",
    "    modified_reactions.append(r)\n",
    "print(\"\\n\\n***************After**************\")\n",
    "for r in simple2.reactions:\n",
    "  print(r.makeIdentifier(is_include_kinetics=False))"
   ]
  },
  {
   "cell_type": "code",
   "execution_count": 11,
   "metadata": {},
   "outputs": [
    {
     "data": {
      "text/plain": [
       "'reaction_boundary'"
      ]
     },
     "execution_count": 11,
     "metadata": {},
     "output_type": "execute_result"
    }
   ],
   "source": [
    "r5 = simple2.getReaction(\"Reaction5\")\n",
    "r5.category"
   ]
  },
  {
   "cell_type": "code",
   "execution_count": 15,
   "metadata": {},
   "outputs": [
    {
     "data": {
      "text/plain": [
       "Reaction1:  -> C2 + M; cell * k6 * M"
      ]
     },
     "execution_count": 15,
     "metadata": {},
     "output_type": "execute_result"
    }
   ],
   "source": [
    "r.products = [MoleculeStoichiometry(molecule=r.products[0].molecule, stoichiometry=r.products[0].stoichiometry),\n",
    "             MoleculeStoichiometry(molecule=r.reactants[0].molecule, stoichiometry=r.reactants[0].stoichiometry)]\n",
    "r.reactants = []\n",
    "r.identifier = r.makeIdentifier()\n",
    "r"
   ]
  },
  {
   "cell_type": "code",
   "execution_count": 17,
   "metadata": {},
   "outputs": [
    {
     "data": {
      "text/plain": [
       "[PstatDimerisation: 2.00 Pstat_sol -> PstatDimer_sol; (Kf_PstatDimerisation * pow(Pstat_sol, 2) + -(Kr_PstatDimerisation * PstatDimer_sol)) * sol,\n",
       " statDephosphorylation: Pstat_nuc -> stat_nuc; Kcat_dephos * statPhosphatase_nuc * Pstat_nuc * (1 / (Km_dephos + Pstat_nuc)) * nuc,\n",
       " statPhosphorylation: stat_sol -> Pstat_sol + species_test; Kcat_phos * statKinase_sol * stat_sol * (1 / (Km_phos + stat_sol)) * sol,\n",
       " PstatDimerisationNuc: 2.00 Pstat_nuc -> PstatDimer_nuc; (Kf_PstatDimerisation * pow(Pstat_nuc, 2) + -(Kr_PstatDimerisation * PstatDimer_nuc)) * nuc,\n",
       " PstatDimer__import: PstatDimer_sol -> PstatDimer_nuc; PstatDimer_impMax * PstatDimer_sol * (1 / (Kpsd_imp + PstatDimer_sol)) * nm,\n",
       " stat_export: stat_sol -> stat_nuc; nuc * stat_expMax * stat_nuc * (1 / (Ks_exp + stat_nuc)) * nm,\n",
       " stat_import: stat_sol -> stat_nuc; nuc * stat_impMax * stat_sol * (1 / (Ks_imp + stat_sol)) * nm]"
      ]
     },
     "execution_count": 17,
     "metadata": {},
     "output_type": "execute_result"
    }
   ],
   "source": [
    "simple1.remove(simple1.getReaction(\"Reaction1\"))\n",
    "simple1.reactions"
   ]
  },
  {
   "cell_type": "code",
   "execution_count": 18,
   "metadata": {},
   "outputs": [
    {
     "data": {
      "text/plain": [
       "[PstatDimerisation: 2.00 Pstat_sol -> PstatDimer_sol; (Kf_PstatDimerisation * pow(Pstat_sol, 2) + -(Kr_PstatDimerisation * PstatDimer_sol)) * sol,\n",
       " statDephosphorylation: Pstat_nuc -> stat_nuc; Kcat_dephos * statPhosphatase_nuc * Pstat_nuc * (1 / (Km_dephos + Pstat_nuc)) * nuc,\n",
       " statPhosphorylation: stat_sol -> Pstat_sol + species_test; Kcat_phos * statKinase_sol * stat_sol * (1 / (Km_phos + stat_sol)) * sol,\n",
       " PstatDimerisationNuc: 2.00 Pstat_nuc -> PstatDimer_nuc; (Kf_PstatDimerisation * pow(Pstat_nuc, 2) + -(Kr_PstatDimerisation * PstatDimer_nuc)) * nuc,\n",
       " PstatDimer__import: PstatDimer_sol -> PstatDimer_nuc; PstatDimer_impMax * PstatDimer_sol * (1 / (Kpsd_imp + PstatDimer_sol)) * nm,\n",
       " stat_export: stat_sol -> stat_nuc; nuc * stat_expMax * stat_nuc * (1 / (Ks_exp + stat_nuc)) * nm,\n",
       " stat_import: stat_sol -> stat_nuc; nuc * stat_impMax * stat_sol * (1 / (Ks_imp + stat_sol)) * nm,\n",
       " Reaction1:  -> C2 + M; cell * k6 * M]"
      ]
     },
     "execution_count": 18,
     "metadata": {},
     "output_type": "execute_result"
    }
   ],
   "source": [
    "simple1.add(r)\n",
    "simple1.reactions"
   ]
  },
  {
   "cell_type": "code",
   "execution_count": 105,
   "metadata": {},
   "outputs": [
    {
     "name": "stdout",
     "output_type": "stream",
     "text": [
      "[PstatDimerisation: 2.00 Pstat_sol -> PstatDimer_sol; (Kf_PstatDimerisation * pow(Pstat_sol, 2) + -(Kr_PstatDimerisation * PstatDimer_sol)) * sol, statDephosphorylation: Pstat_nuc -> stat_nuc; Kcat_dephos * statPhosphatase_nuc * Pstat_nuc * (1 / (Km_dephos + Pstat_nuc)) * nuc, statPhosphorylation: stat_sol -> Pstat_sol + species_test; Kcat_phos * statKinase_sol * stat_sol * (1 / (Km_phos + stat_sol)) * sol, PstatDimerisationNuc: 2.00 Pstat_nuc -> PstatDimer_nuc; (Kf_PstatDimerisation * pow(Pstat_nuc, 2) + -(Kr_PstatDimerisation * PstatDimer_nuc)) * nuc, PstatDimer__import: PstatDimer_sol -> PstatDimer_nuc; PstatDimer_impMax * PstatDimer_sol * (1 / (Kpsd_imp + PstatDimer_sol)) * nm, stat_export: stat_sol -> stat_nuc; nuc * stat_expMax * stat_nuc * (1 / (Ks_exp + stat_nuc)) * nm, stat_import: stat_sol -> stat_nuc; nuc * stat_impMax * stat_sol * (1 / (Ks_imp + stat_sol)) * nm]\n",
      "this is list []\n",
      "this is list [True]\n",
      "this is list [True, True]\n",
      "this is list [True, True, True]\n",
      "this is list [True, True, True, True]\n",
      "this is list [True, True, True, True, True]\n",
      "this is list [True, True, True, True, True, True]\n"
     ]
    }
   ],
   "source": [
    "result = []\n",
    "collection = simple.reactions\n",
    "print(collection)\n",
    "for ele in collection:\n",
    "  print(\"this is list\", [not ele.isEqual(r) for r in result])\n",
    "  if all([not ele.isEqual(r) for r in result]):\n",
    "    result.append(ele)"
   ]
  },
  {
   "cell_type": "code",
   "execution_count": 16,
   "metadata": {},
   "outputs": [],
   "source": [
    "TYPE_I = \"type1\"\n",
    "TYPE_II = \"type2\"\n",
    "TYPE_III = \"type3\"\n",
    "CANCELING = \"canceling\"\n",
    "ECHELON = \"echelon\"\n",
    "\n",
    "\n",
    "def lint(model_reference, file_out=sys.stdout,\n",
    "    mass_balance_check=\"structured_names\",\n",
    "    config_path=None,\n",
    "    is_report=True):\n",
    "  \"\"\"\n",
    "  Reports on errors found in a model\n",
    "  :param str model_reference: \n",
    "      libsbml_model, file, antimony string, xml string\n",
    "  :param TextIOWrapper file_out:\n",
    "  :param str mass_balance_check: how check for mass balance\n",
    "  :param str config_path: path to configuration file\n",
    "  :param bool is_report: print result\n",
    "  :return MoietyComparatorResult/bull/None:\n",
    "  \"\"\"\n",
    "  config.setConfiguration(path=config_path)\n",
    "  config_dict = config.getConfiguration()\n",
    "  if util.isSBMLModel(model_reference):\n",
    "    model = model_reference\n",
    "  else:\n",
    "    xml = util.getXML(model_reference)\n",
    "    reader = tesbml.SBMLReader()\n",
    "    document = reader.readSBMLFromString(xml)\n",
    "    util.checkSBMLDocument(document)\n",
    "    model = document.getModel()\n",
    "  simple = SimpleSBML()\n",
    "  simple.initialize(model)\n",
    "  if mass_balance_check == \"structured_names\":\n",
    "    result = MoietyComparator.analyzeReactions(simple,\n",
    "        implicits=config_dict['implicits'])\n",
    "    if is_report:\n",
    "      for line in result.report.split('\\n'):\n",
    "          file_out.write(\"%s\\n\" % line)\n",
    "    return result\n",
    "  elif mass_balance_check == \"games\":\n",
    "    m = GAMES_PP(simple)\n",
    "    games_result = m.analyze(simple.reactions)\n",
    "    if games_result and is_report:\n",
    "      gr = GAMESReport(m)\n",
    "      errortype_dic = {TYPE_I: gr.reportTypeOneError,\n",
    "                       TYPE_II: gr.reportTypeTwoError,\n",
    "                       TYPE_III: gr.reportTypeThreeError,\n",
    "                       CANCELING: gr.reportCancelingError,\n",
    "                       ECHELON: gr.reportEchelonError\n",
    "                      }\n",
    "      for errors in m.error_summary:\n",
    "        for category in errortype_dic.keys():\n",
    "          if errors.type == category:\n",
    "            func = errortype_dic[category]            \n",
    "            report, _ = func(errors.errors, explain_details=True)\n",
    "            print(report)\n",
    "    print(\"By the way, config_dict is\", config_dict['implicits'])\n",
    "    return games_result\n",
    "  else:\n",
    "    print (\"Specified method doesn't exist\")\n",
    "    return None"
   ]
  },
  {
   "cell_type": "code",
   "execution_count": 18,
   "metadata": {},
   "outputs": [
    {
     "name": "stdout",
     "output_type": "stream",
     "text": [
      "Model analyzed...\n",
      "At least one error found.\n",
      "\n",
      "A = B by reaction(s):\n",
      "1. _J0: A -> B\n",
      "\n",
      "However, A < B by reaction(s):\n",
      "2. _J1: B -> A + C\n",
      "\n",
      "\n",
      "----------------------------------------------------------------------\n",
      "\n",
      "\n",
      "\n",
      "**********************************************************************\n",
      "\n",
      "\n",
      "By the way, config_dict is ['DUMMYIMPLICIT']\n"
     ]
    }
   ],
   "source": [
    "model2 = \"\"\"\n",
    "A -> B; 1\n",
    "B -> A + C; 1\n",
    "A = 0.5\n",
    "B = 1.0\n",
    "C = 0\n",
    "\"\"\"\n",
    "_ = lint(model2, mass_balance_check=\"games\")"
   ]
  },
  {
   "cell_type": "code",
   "execution_count": null,
   "metadata": {},
   "outputs": [],
   "source": []
  }
 ],
 "metadata": {
  "kernelspec": {
   "display_name": "Python 3",
   "language": "python",
   "name": "python3"
  },
  "language_info": {
   "codemirror_mode": {
    "name": "ipython",
    "version": 3
   },
   "file_extension": ".py",
   "mimetype": "text/x-python",
   "name": "python",
   "nbconvert_exporter": "python",
   "pygments_lexer": "ipython3",
   "version": "3.6.9"
  }
 },
 "nbformat": 4,
 "nbformat_minor": 4
}
