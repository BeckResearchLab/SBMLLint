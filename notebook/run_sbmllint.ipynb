{
 "cells": [
  {
   "cell_type": "code",
   "execution_count": 1,
   "metadata": {},
   "outputs": [],
   "source": [
    "import init\n",
    "from SBMLLint.tools import sbmllint\n",
    "\n",
    "model = \"\"\"\n",
    "Glu + A__P_3 -> Glu_P + A_P_P; 1\n",
    "Glu = 0\n",
    "A_P_P_P = 0\n",
    "Glu_P = 0\n",
    "A_P_P = 0\n",
    "\"\"\""
   ]
  },
  {
   "cell_type": "code",
   "execution_count": 2,
   "metadata": {},
   "outputs": [
    {
     "name": "stdout",
     "output_type": "stream",
     "text": [
      "/Users/woosubs/Desktop/ModelEngineering/SBMLLint/SBMLLint\n"
     ]
    }
   ],
   "source": [
    "import os\n",
    "cwd = os.getcwd()\n",
    "MAIN_DIR = os.path.join(os.getcwd(), os.pardir)\n",
    "os.chdir(MAIN_DIR)\n",
    "print(os.getcwd())"
   ]
  },
  {
   "cell_type": "code",
   "execution_count": 3,
   "metadata": {},
   "outputs": [],
   "source": [
    "from SBMLLint.common import config"
   ]
  },
  {
   "cell_type": "code",
   "execution_count": 4,
   "metadata": {},
   "outputs": [
    {
     "name": "stdout",
     "output_type": "stream",
     "text": [
      "\n",
      "0 of 1 reactions have imbalances.\n",
      "\n"
     ]
    }
   ],
   "source": [
    "_ = sbmllint.lint(model)"
   ]
  },
  {
   "cell_type": "code",
   "execution_count": 5,
   "metadata": {},
   "outputs": [
    {
     "name": "stdout",
     "output_type": "stream",
     "text": [
      "Model analyzed...\n",
      "No error found.\n"
     ]
    }
   ],
   "source": [
    "_ = sbmllint.lint(model, mass_balance_check=\"games\")"
   ]
  },
  {
   "cell_type": "code",
   "execution_count": 6,
   "metadata": {},
   "outputs": [
    {
     "name": "stdout",
     "output_type": "stream",
     "text": [
      "Model analyzed...\n",
      "At least one error found.\n",
      "\n",
      "A = B by reaction(s):\n",
      "1. _J0: A -> B\n",
      "\n",
      "However, A < B by reaction(s):\n",
      "2. _J1: B -> A + C\n",
      "\n",
      "\n",
      "----------------------------------------------------------------------\n",
      "\n",
      "\n",
      "\n",
      "**********************************************************************\n",
      "\n",
      "\n"
     ]
    }
   ],
   "source": [
    "model2 = \"\"\"\n",
    "A -> B; 1\n",
    "B -> A + C; 1\n",
    "A = 0.5\n",
    "B = 1.0\n",
    "C = 0\n",
    "\"\"\"\n",
    "_ = sbmllint.lint(model2, mass_balance_check=\"games\")"
   ]
  },
  {
   "cell_type": "code",
   "execution_count": null,
   "metadata": {},
   "outputs": [],
   "source": []
  },
  {
   "cell_type": "code",
   "execution_count": null,
   "metadata": {},
   "outputs": [],
   "source": []
  }
 ],
 "metadata": {
  "kernelspec": {
   "display_name": "Python 3",
   "language": "python",
   "name": "python3"
  },
  "language_info": {
   "codemirror_mode": {
    "name": "ipython",
    "version": 3
   },
   "file_extension": ".py",
   "mimetype": "text/x-python",
   "name": "python",
   "nbconvert_exporter": "python",
   "pygments_lexer": "ipython3",
   "version": "3.6.9"
  }
 },
 "nbformat": 4,
 "nbformat_minor": 4
}
