{
 "cells": [
  {
   "cell_type": "code",
   "execution_count": 1,
   "metadata": {
    "collapsed": true
   },
   "outputs": [],
   "source": [
    "import init\n",
    "from SBMLLint.tools import sbmllint\n",
    "\n",
    "model = \"\"\"\n",
    "Glu + A__P_3 -> Glu_P + A_P_P; 1\n",
    "Glu = 0\n",
    "A_P_P_P = 0\n",
    "Glu_P = 0\n",
    "A_P_P = 0\n",
    "\"\"\""
   ]
  },
  {
   "cell_type": "code",
   "execution_count": 2,
   "metadata": {},
   "outputs": [
    {
     "name": "stdout",
     "output_type": "stream",
     "text": [
      "\n",
      "0 of 1 reactions have imbalances.\n",
      "\n"
     ]
    }
   ],
   "source": [
    "_ = sbmllint.lint(model)"
   ]
  },
  {
   "cell_type": "code",
   "execution_count": 3,
   "metadata": {},
   "outputs": [
    {
     "name": "stdout",
     "output_type": "stream",
     "text": [
      "No error found in uni-uni and mulit-uni(uni-multi) reactions.\n",
      "*************************************************************\n",
      "No error found in multi-multi reactions.\n",
      "*************************************************************\n"
     ]
    }
   ],
   "source": [
    "_ = sbmllint.lint(model, mass_balance_check=\"games\")"
   ]
  },
  {
   "cell_type": "code",
   "execution_count": 4,
   "metadata": {},
   "outputs": [
    {
     "name": "stdout",
     "output_type": "stream",
     "text": [
      "\n",
      "A = B by reaction(s):\n",
      "_J0: A -> B\n",
      "\n",
      "However, the following reaction(s)\n",
      "_J1: B -> A + C\n",
      "imply A < B\n",
      "------------------------------------\n",
      "*************************************************************\n"
     ]
    }
   ],
   "source": [
    "model2 = \"\"\"\n",
    "A -> B; 1\n",
    "B -> A + C; 1\n",
    "A = 0.5\n",
    "B = 1.0\n",
    "C = 0\n",
    "\"\"\"\n",
    "_ = sbmllint.lint(model2, mass_balance_check=\"games\")"
   ]
  },
  {
   "cell_type": "code",
   "execution_count": null,
   "metadata": {
    "collapsed": true
   },
   "outputs": [],
   "source": []
  }
 ],
 "metadata": {
  "kernelspec": {
   "display_name": "Python 3",
   "language": "python",
   "name": "python3"
  },
  "language_info": {
   "codemirror_mode": {
    "name": "ipython",
    "version": 3
   },
   "file_extension": ".py",
   "mimetype": "text/x-python",
   "name": "python",
   "nbconvert_exporter": "python",
   "pygments_lexer": "ipython3",
   "version": "3.6.3"
  }
 },
 "nbformat": 4,
 "nbformat_minor": 2
}
